{
 "cells": [
  {
   "cell_type": "markdown",
   "id": "cd19bb8f-a9c4-4816-af6e-d6952d030b57",
   "metadata": {},
   "source": [
    "# Simulateur d'espace with master plan remove"
   ]
  },
  {
   "cell_type": "markdown",
   "id": "ce36eb28",
   "metadata": {},
   "source": [
    "#### But : Identifier les equipements du masterplan présent sur la dernière iteration de IT_Equipment afin de simuler l'espace disponible lorsque tous les equipements seront retirer"
   ]
  },
  {
   "cell_type": "markdown",
   "id": "055ba158-73ae-4213-8b65-3c6a96ac10e7",
   "metadata": {},
   "source": [
    "Ce workflow a pour but de simuler l'espace disponible apres avoir retirer les equipements qui figure dans le masterplan sur chacun des racks afin de permettre une projection des équipes dans le déplacement du matériel."
   ]
  },
  {
   "cell_type": "code",
   "execution_count": null,
   "id": "71216f14",
   "metadata": {},
   "outputs": [],
   "source": [
    "DROP table IF EXISTS IT_Equipment_x_Master_plan ;\n",
    "create table IT_Equipment_x_Master_plan\n",
    "as\n",
    "select it.ASSET_ID, it.nom, it.SHORT_NAME, it.Modele, it.Fabricant, it.Nom_de_la_salle, it.Nom_de_baie, it.Reperage_ID, it.Hauteur_U, it.Type, mp.SHORT_NAME Master_Plan_name,\n",
    "  (CASE \n",
    "   WHEN mp.short_name is not null and mp.asset_id is null then 'short_name found'\n",
    "   WHEN mp.short_name is null and mp.asset_id is not null then 'asset_id found'\n",
    "   WHEN mp.short_name is not null and mp.asset_id is not null then 'found'\n",
    "   WHEN mp.short_name is null and mp.asset_id is null then 'not found'\n",
    "   END) Master_plan_status ,\n",
    "mp.PR_SCOPE, mp.ROOM Master_plan_salle, mp.dalle Master_plan_dalle, mp.RACK_ID Master_plan_rack, mp.Size_U Master_plan_hauteur\n",
    "\n",
    " \n",
    "from `IT_Equipment_v2` it\n",
    "LEFT JOIN `Master_Plan_Global` mp ON it.ASSET_ID = mp.asset_id or it.short_name = mp.short_name\n",
    "GROUP by it.ASSET_ID"
   ]
  },
  {
   "cell_type": "code",
   "execution_count": null,
   "id": "1a72f73e",
   "metadata": {},
   "outputs": [],
   "source": [
    "drop table if exists IT_Equipment_with_equipment_removed ;\n",
    "create table IT_Equipment_with_equipment_removed\n",
    "as\n",
    "select it.* from `IT_Equipment_v2` it \n",
    "INNER JOIN `IT_Equipment_x_Master_plan` mp  ON it.ASSET_ID = mp.asset_id or it.short_name = mp.short_name\n",
    "where master_plan_status = 'not found'\n",
    "group by concat(it.Nom_de_la_salle,it.Nom_de_baie, it.Slot_U)"
   ]
  },
  {
   "cell_type": "markdown",
   "id": "7479638e-2497-411f-b804-10ac1d8699f9",
   "metadata": {},
   "source": [
    "`rack_capacity_map` : cartographie les racks de toutes les salles afin de rajouter la capacité maximale d'un rack défini à 45 unités U  "
   ]
  },
  {
   "cell_type": "code",
   "execution_count": null,
   "id": "d40ca503",
   "metadata": {},
   "outputs": [],
   "source": [
    "drop table if exists rack_capacity_map_mp ;\n",
    "create table rack_capacity_map_mp\n",
    "as \n",
    "SELECT it.Nom_de_la_salle, it.Nom_de_baie, '-1' as rack_capacity\n",
    "from `IT_Equipment_with_equipment_removed` it\n",
    "GROUP BY it.Nom_de_la_salle, it.Nom_de_baie "
   ]
  },
  {
   "cell_type": "code",
   "execution_count": null,
   "id": "5b7ca029",
   "metadata": {},
   "outputs": [],
   "source": [
    "INSERT INTO `rack_capacity_map_mp`\n",
    "SELECT it2.Nom_de_la_salle, it2.nom, '-1' as rack_capacity from `rack_capacity_map_mp` it \n",
    "RIGHT JOIN `IT_Equipment_rack_description` it2 ON concat(it2.Nom_de_la_salle, it2.nom) = concat(it.Nom_de_la_salle, it.nom_de_baie)\n",
    "where it.nom_de_baie is null"
   ]
  },
  {
   "cell_type": "code",
   "execution_count": null,
   "id": "529fd596",
   "metadata": {},
   "outputs": [],
   "source": [
    "update `rack_capacity_map_mp` it\n",
    "inner join `IT_Equipment_rack_description` it2 ON it.Nom_de_la_salle = it2.Nom_de_la_salle and it.nom_de_baie = it2.nom\n",
    "set it.rack_capacity = it2.Nombre_de_U"
   ]
  },
  {
   "cell_type": "markdown",
   "id": "d4d3444f-f7b2-401a-8cdb-294c07224efa",
   "metadata": {},
   "source": [
    "`indicator_it_equipment_simulateur_espace` : indicateur de l'espace disponible pour tous lers rack par rapport à la somme des hauteurs de chaque equipment renseigné sur la CMDB"
   ]
  },
  {
   "cell_type": "code",
   "execution_count": null,
   "id": "37ee010c-dca8-4da9-ab50-0eed54d4df7d",
   "metadata": {},
   "outputs": [],
   "source": [
    "drop table if exists indicator_it_equipment_simulateur_espace_raw_mp ;"
   ]
  },
  {
   "cell_type": "code",
   "execution_count": null,
   "id": "c33d5662",
   "metadata": {},
   "outputs": [],
   "source": [
    "create table indicator_it_equipment_simulateur_espace_raw_mp\n",
    "as\n",
    "SELECT if(it.Nom_de_baie is not null, concat(it.Nom_de_la_salle, it.Nom_de_baie), concat(r.Nom_de_la_salle, r.Nom_de_baie))  key_id,\n",
    "if(it.Nom_de_la_salle is not null, it.Nom_de_la_salle, r.Nom_de_la_salle) Nom_de_la_salle,\n",
    "if(it.Nom_de_baie is not null, it.Nom_de_baie, r.Nom_de_baie) Nom_de_baie,\n",
    "r.rack_capacity, \n",
    "if(sum(CEILING(it.Hauteur_U)) is not null, sum(CEILING(it.Hauteur_U)), 0) slot_occupied,\n",
    "if(sum(CEILING(it.Hauteur_U)) is not null, r.rack_capacity - sum(CEILING(it.Hauteur_U)), r.rack_capacity) free_slot,\n",
    "if(sum(CEILING(it.Hauteur_U)) is not null, GROUP_CONCAT(concat(it.slot_u, '/', CEILING(it.Hauteur_U))), '') list_occupied_slot\n",
    "from `IT_Equipment_v2` it\n",
    "RIGHT JOIN `rack_capacity_map_mp` r ON r.Nom_de_la_salle = it.Nom_de_la_salle and r.Nom_de_baie = it.Nom_de_baie\n",
    "\n",
    "GROUP BY r.Nom_de_la_salle, r.Nom_de_baie\n",
    "-- ORDER by r.Nom_de_la_salle desc , sum(CEILING(it.Hauteur_U)) desc"
   ]
  },
  {
   "cell_type": "code",
   "execution_count": null,
   "id": "b21f066b",
   "metadata": {},
   "outputs": [],
   "source": [
    "drop table if exists indicator_it_equipment_simulateur_espace_before_after_mp;\n",
    "create table indicator_it_equipment_simulateur_espace_before_after_mp\n",
    "as\n",
    "select it.key_id, it.Nom_de_la_salle, it.Nom_de_baie, it.free_slot free_slot_before_mp, it.free_series free_series_before_mp, \n",
    "if(it2.free_slot is not null, it2.free_slot, it.free_slot) free_slot_after_mp, \n",
    "if(it2.free_series is not null, it2.free_series, it.free_series) free_series_after_mp\n",
    "from `indicator_it_equipment_simulateur_espace` it\n",
    "LEFT JOIN `indicator_it_equipment_simulateur_espace_mp` it2 ON it.key_id = it2.key_id"
   ]
  }
 ],
 "metadata": {
  "kernelspec": {
   "display_name": "Python 3",
   "language": "python",
   "name": "python3"
  },
  "language_info": {
   "codemirror_mode": {
    "name": "ipython",
    "version": 3
   },
   "file_extension": ".py",
   "mimetype": "text/x-python",
   "name": "python",
   "nbconvert_exporter": "python",
   "pygments_lexer": "ipython3",
   "version": "3.6.8"
  }
 },
 "nbformat": 4,
 "nbformat_minor": 5
}
