{
 "cells": [
  {
   "cell_type": "markdown",
   "id": "cd19bb8f-a9c4-4816-af6e-d6952d030b57",
   "metadata": {},
   "source": [
    "# Simulateur d'espace with master plan remove"
   ]
  },
  {
   "cell_type": "markdown",
   "id": "cd36424d",
   "metadata": {},
   "source": [
    "#### But : Identifier les equipements du masterplan présent sur la dernière iteration de IT_Equipment afin de simuler l'espace disponible lorsque tous les equipements seront retirer"
   ]
  },
  {
   "cell_type": "markdown",
   "id": "055ba158-73ae-4213-8b65-3c6a96ac10e7",
   "metadata": {},
   "source": [
    "Ce workflow a pour but de simuler l'espace disponible apres avoir retirer les equipements qui figure dans le masterplan sur chacun des racks afin de permettre une projection des équipes dans le déplacement du matériel."
   ]
  },
  {
   "cell_type": "markdown",
   "id": "84ff140a-8da1-4741-8868-2d94efe8a777",
   "metadata": {},
   "source": [
    "DROP table if EXISTS Master_Plan_Global_P2_only ;# MySQL returned an empty result set (i.e. zero rows).\n",
    "CREATE table Master_Plan_Global_P2_only\n",
    "as\n",
    "select * from `Master_Plan_Global`\n",
    "where room = 'P2'"
   ]
  },
  {
   "cell_type": "code",
   "execution_count": null,
   "id": "756bedd6",
   "metadata": {},
   "outputs": [],
   "source": [
    "DROP VIEW IF EXISTS IT_Equipment_x_Master_plan_P2 ;# MySQL returned an empty result set (i.e. zero rows).\n",
    "create view IT_Equipment_x_Master_plan_P2\n",
    "as\n",
    "select it.ASSET_ID, it.nom, it.SHORT_NAME, it.Modele, it.Fabricant, it.Nom_de_la_salle, it.Nom_de_baie, it.Reperage_ID, it.Hauteur_U, it.Type, mp.SHORT_NAME Master_Plan_name,\n",
    "  (CASE \n",
    "   WHEN mp.short_name is not null and mp.asset_id is null then 'short_name found'\n",
    "   WHEN mp.short_name is null and mp.asset_id is not null then 'asset_id found'\n",
    "   WHEN mp.short_name is not null and mp.asset_id is not null then 'found'\n",
    "   WHEN mp.short_name is null and mp.asset_id is null then 'not found'\n",
    "   END) Master_plan_status ,\n",
    "mp.PR_SCOPE, mp.ROOM Master_plan_salle, mp.dalle Master_plan_dalle, mp.RACK_ID Master_plan_rack, mp.Size_U Master_plan_hauteur\n",
    "\n",
    " \n",
    "from `IT_Equipment_v2` it\n",
    "LEFT JOIN `Master_Plan_Global_P2_only` mp ON it.ASSET_ID = mp.asset_id or it.short_name = mp.short_name\n",
    "where nom_de_la_salle = 'P2'\n",
    "GROUP by it.ASSET_ID# MySQL returned an empty result set (i.e. zero rows)."
   ]
  },
  {
   "cell_type": "code",
   "execution_count": null,
   "id": "59bc01da",
   "metadata": {},
   "outputs": [],
   "source": [
    "drop view if exists IT_Equipment_with_equipment_removed ;\n",
    "create view IT_Equipment_with_equipment_removed\n",
    "as\n",
    "select it.* from `IT_Equipment_v2` it \n",
    "INNER JOIN `IT_Equipment_x_Master_plan_P2` mp  ON it.ASSET_ID = mp.asset_id or it.short_name = mp.short_name\n",
    "where master_plan_status = 'not found' and it.Nom_de_la_salle = 'P2'"
   ]
  },
  {
   "cell_type": "markdown",
   "id": "7479638e-2497-411f-b804-10ac1d8699f9",
   "metadata": {},
   "source": [
    "`rack_capacity_map` : cartographie les racks de toutes les salles afin de rajouter la capacité maximale d'un rack défini à 45 unités U  "
   ]
  },
  {
   "cell_type": "code",
   "execution_count": null,
   "id": "c5b9379c-c1eb-4f90-be9a-ae686d5878c2",
   "metadata": {},
   "outputs": [],
   "source": [
    "drop view if exists rack_capacity_map ;\n",
    "create view rack_capacity_map\n",
    "as \n",
    "SELECT it.Nom_de_la_salle, it.Nom_de_baie, '45' as rack_capacity\n",
    "from `IT_Equipment_with_equipment_removed` it\n",
    "GROUP BY it.Nom_de_la_salle, it.Nom_de_baie ;"
   ]
  },
  {
   "cell_type": "markdown",
   "id": "d4d3444f-f7b2-401a-8cdb-294c07224efa",
   "metadata": {},
   "source": [
    "`indicator_it_equipment_simulateur_espace` : indicateur de l'espace disponible pour tous lers rack par rapport à la somme des hauteurs de chaque equipment renseigné sur la CMDB"
   ]
  },
  {
   "cell_type": "code",
   "execution_count": null,
   "id": "37ee010c-dca8-4da9-ab50-0eed54d4df7d",
   "metadata": {},
   "outputs": [],
   "source": [
    "drop table if exists indicator_it_equipment_simulateur_espace_raw ;\n",
    "create table indicator_it_equipment_simulateur_espace_raw\n",
    "as\n",
    "SELECT concat(it.Nom_de_la_salle, it.Nom_de_baie) key_id, it.Nom_de_la_salle, it.Nom_de_baie, r.rack_capacity, sum(CEILING(it.Hauteur_U)) slot_occupied, r.rack_capacity - sum(CEILING(it.Hauteur_U)) free_slot,\n",
    "GROUP_CONCAT(concat(it.slot_u, '/', CEILING(it.Hauteur_U))) list_occupied_slot\n",
    "from `IT_Equipment_with_equipment_removed` it\n",
    "INNER JOIN `rack_capacity_map` r ON r.Nom_de_la_salle = it.Nom_de_la_salle and r.Nom_de_baie = it.Nom_de_baie\n",
    "GROUP BY it.Nom_de_la_salle, it.Nom_de_baie\n",
    "ORDER by it.Nom_de_la_salle desc , sum(CEILING(it.Hauteur_U)) desc\n",
    ";"
   ]
  }
 ],
 "metadata": {
  "kernelspec": {
   "display_name": "Python 3",
   "language": "python",
   "name": "python3"
  },
  "language_info": {
   "codemirror_mode": {
    "name": "ipython",
    "version": 3
   },
   "file_extension": ".py",
   "mimetype": "text/x-python",
   "name": "python",
   "nbconvert_exporter": "python",
   "pygments_lexer": "ipython3",
   "version": "3.6.8"
  }
 },
 "nbformat": 4,
 "nbformat_minor": 5
}
