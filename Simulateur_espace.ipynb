{
 "cells": [
  {
   "cell_type": "markdown",
   "id": "cd19bb8f-a9c4-4816-af6e-d6952d030b57",
   "metadata": {},
   "source": [
    "# Simulateur d'espace"
   ]
  },
  {
   "cell_type": "markdown",
   "id": "055ba158-73ae-4213-8b65-3c6a96ac10e7",
   "metadata": {},
   "source": [
    "Ce workflow a pour but de simuler l'espace disponible sur chacun des racks afin de permettre une projection des équipes dans le déplacement du matériel."
   ]
  },
  {
   "cell_type": "markdown",
   "id": "84ff140a-8da1-4741-8868-2d94efe8a777",
   "metadata": {},
   "source": [
    "SELECT it.nom, it.short_name, it.long_name, it.ASSET_ID, it.Nom_de_la_salle , it.Nom_de_baie, it.Slot_U, it.type\n",
    "from `IT_Equipment_v2` it"
   ]
  },
  {
   "cell_type": "markdown",
   "id": "7479638e-2497-411f-b804-10ac1d8699f9",
   "metadata": {},
   "source": [
    "`rack_capacity_map` : cartographie les racks de toutes les salles afin de rajouter la capacité maximale d'un rack défini à 45 unités U  "
   ]
  },
  {
   "cell_type": "code",
   "execution_count": null,
   "id": "c5b9379c-c1eb-4f90-be9a-ae686d5878c2",
   "metadata": {},
   "outputs": [],
   "source": [
    "drop view if exists rack_capacity_map ;# MySQL returned an empty result set (i.e. zero rows).\n",
    "create view rack_capacity_map\n",
    "as \n",
    "SELECT it.Nom_de_la_salle, it.Nom_de_baie, '45' as rack_capacity\n",
    "from `IT_Equipment_v2` it\n",
    "GROUP BY it.Nom_de_la_salle, it.Nom_de_baie# MySQL returned an empty result set (i.e. zero rows)."
   ]
  },
  {
   "cell_type": "markdown",
   "id": "d4d3444f-f7b2-401a-8cdb-294c07224efa",
   "metadata": {},
   "source": [
    "`indicator_it_equipment_simulateur_espace` : indicateur de l'espace disponible pour tous lers rack par rapport à la somme des hauteurs de chaque equipment renseigné sur la CMDB"
   ]
  },
  {
   "cell_type": "code",
   "execution_count": null,
   "id": "37ee010c-dca8-4da9-ab50-0eed54d4df7d",
   "metadata": {},
   "outputs": [],
   "source": [
    "drop table if exists indicator_it_equipment_simulateur_espace_raw ;\n",
    "create table indicator_it_equipment_simulateur_espace_raw\n",
    "as\n",
    "SELECT concat(it.Nom_de_la_salle, it.Nom_de_baie) key_id, it.Nom_de_la_salle, it.Nom_de_baie, r.rack_capacity, sum(CEILING(it.Hauteur_U)) slot_occupied, r.rack_capacity - sum(CEILING(it.Hauteur_U)) free_slot,\n",
    "GROUP_CONCAT(concat(it.slot_u, '/', CEILING(it.Hauteur_U))) list_occupied_slot\n",
    "from `IT_Equipment_v2` it\n",
    "INNER JOIN `rack_capacity_map` r ON r.Nom_de_la_salle = it.Nom_de_la_salle and r.Nom_de_baie = it.Nom_de_baie\n",
    "GROUP BY it.Nom_de_la_salle, it.Nom_de_baie\n",
    "ORDER by it.Nom_de_la_salle desc , sum(CEILING(it.Hauteur_U)) desc\n",
    ";"
   ]
  },
  {
   "cell_type": "code",
   "execution_count": null,
   "id": "0df7cae8-5bd4-4718-af1d-94a96c9338c5",
   "metadata": {},
   "outputs": [],
   "source": [
    "alter table indicator_it_equipment_simulateur_espace_raw\n",
    "ADD COLUMN occupied_item varchar(255),\n",
    "ADD COLUMN free_item varchar(255);"
   ]
  },
  {
   "cell_type": "markdown",
   "id": "f88c30dd-4db4-488e-9d60-404da71492b5",
   "metadata": {},
   "source": [
    "drop view if exists indicator_it_equipment_simulateur_espace ;\n",
    "create view indicator_it_equipment_simulateur_espace\n",
    "as\n",
    "SELECT concat(it.Nom_de_la_salle, it.Nom_de_baie) key_id, it.Nom_de_la_salle, it.Nom_de_baie, r.rack_capacity, sum(CEILING(it.Hauteur_U)) slot_occupied, r.rack_capacity - sum(CEILING(it.Hauteur_U)) free_slot\n",
    "from `IT_Equipment_v2` it\n",
    "INNER JOIN `rack_capacity_map` r ON r.Nom_de_la_salle = it.Nom_de_la_salle and r.Nom_de_baie = it.Nom_de_baie\n",
    "GROUP BY it.Nom_de_la_salle, it.Nom_de_baie\n",
    "ORDER by it.Nom_de_la_salle desc , sum(CEILING(it.Hauteur_U)) desc\n",
    ";"
   ]
  },
  {
   "cell_type": "markdown",
   "id": "aabbe8ac-8b24-42ed-88d0-d936a7367c95",
   "metadata": {},
   "source": [
    "class indicator_simulateur_espace(models.Model):   \n",
    "    id = models.BigAutoField(primary_key=True)\n",
    "    Nom_de_la_salle = models.AutoField()  # Field name made lowercase.\n",
    "    Nom_de_baie = models.CharField(max_length=255)\n",
    "    rack_capacity = models.CharField(max_length=255)\n",
    "    slot_occupied = models.CharField(max_length=255)\n",
    "    free_slot = models.CharField(max_length=255)\n",
    "    class Meta:\n",
    "        managed = False\n",
    "        db_table = \"indicator_it_equipment_simulateur_espace\""
   ]
  },
  {
   "cell_type": "markdown",
   "id": "139ca9f2-57bc-4ff2-ab9e-a0efafd5cd19",
   "metadata": {},
   "source": [
    "SELECT it.nom, it.short_name, it.long_name, it.ASSET_ID, it.Nom_de_la_salle , it.Nom_de_baie, it.Slot_U, it.type, it.Hauteur_U, \n",
    "it.Slot_U + it.Hauteur_U tt,\n",
    "concat()\n",
    "\n",
    "from `IT_Equipment_v2` it\n",
    "-- where Nom_de_la_salle = 'P4' and Nom_de_baie = 'AE17'\n",
    "where Nom_de_la_salle = 'P1' and Nom_de_baie = 'A26'"
   ]
  },
  {
   "cell_type": "markdown",
   "id": "ac34faca-d24a-4955-95b9-36190be9252a",
   "metadata": {},
   "source": [
    "CREATE TABLE `indicator_it_equipment_simulateur_espace` (\n",
    "  `key_id` varchar(255) ,\n",
    "  `Nom_de_la_salle` varchar(255) DEFAULT NULL,\n",
    "  `Nom_de_baie` varchar(255) DEFAULT NULL,\n",
    "  `rack_capacity` varchar(100) NOT NULL,\n",
    "  `slot_occupied` varchar(100) NOT NULL,\n",
    "  `free_slot`varchar(255) NOT NULL,\n",
    "  `occupied_item` varchar(100) NOT NULL,\n",
    "  `free_item` varchar(100) NOT NULL\n",
    ") ENGINE=InnoDB DEFAULT CHARSET=utf8;"
   ]
  },
  {
   "cell_type": "code",
   "execution_count": null,
   "id": "f60276d6-b82a-4feb-a1cc-82a88f319207",
   "metadata": {},
   "outputs": [],
   "source": []
  },
  {
   "cell_type": "markdown",
   "id": "8b2065b4-b7fd-46fe-9e3f-59bd7826504c",
   "metadata": {},
   "source": [
    ";;;;;;;;;;;;Mig_Month;Mig_Day;Mig_Slot;Mig_DAY Confirmed ?;Mig_Day comment;NonProd IP to change ?;Non Prod IP change Date;Non Prod IP change_Time;SNOW CR;SNOW CR Validation ;SNOW CR Criticity;Mig_ACN_Status;Mig_App_DIRx_Status;Mig tests Comment;PTC. Comment;DRP/vmotion C2-C3 test (for CX ONLY);CMDB/ORT_Status;Unmount RHCS cluster;Link to IRN Donnee-A;IRN Donnee-A Action;Illumio_Status;Mig Week;PCP TECH Vlan;PCP TECH IP (BKP);PCP TECH Gateway;PCP ILO Vlan;PCP ILO IP (or Raritan);PCP ILO Gateway;Domain name update (P2P);Wallix access creation   (P2P);Column2;Illumio Tag - Location;Illumio Tag - Application;Illumio Tag - Environment;Illumio Tag - Role;Mig_Event PTC1 slot morning;\"Mig_Event PTC 1\n",
    "slot evening\";PTC preparation;App start/stop;Access to Server;IP_Change_Status;PCP new_VLAN ID (optional);PCP new_Oper_IP reserved (optional);PCP new_Gateway (optional);PtoP type;vlookup;Column1;\n",
    "\n",
    "\n",
    "\n",
    "\n",
    "\n",
    "\n",
    "N\n",
    "\n",
    "\n",
    "\n",
    "\n",
    "\n",
    "\n",
    "\n",
    "\n",
    "\n",
    "\n",
    "\n",
    "\n",
    "CREATE TABLE `IT_Equipment` (\n",
    " ASSET_ID` varchar(100)  NULL,\n",
    " `SHORT_NAME` varchar(100)  NULL,\n",
    " `LONG_NAME` varchar(100)  NULL,\n",
    " `MANUFACTURER` varchar(100)  NULL,\n",
    " `MODEL` varchar(100)  NULL,\n",
    " `ENVIRONMENT` varchar(100)  NULL,\n",
    " `CONTAINER` varchar(100)  NULL,\n",
    " `COMPANY` varchar(100)  NULL,\n",
    " `SERVICE` varchar(100)  NULL,\n",
    " `STATE` varchar(100)  NULL,\n",
    " `LAST_SCAN` varchar(100)  NULL,\n",
    " `ILO_IP` varchar(100)  NULL,\n",
    " `CPUs` varchar(100)  NULL,\n",
    " `cores` varchar(100)  NULL,\n",
    " `threads` varchar(100)  NULL,\n",
    " `RAM GB` varchar(100)  NULL,\n",
    " `TOTAL_DISK GB` varchar(100)  NULL,\n",
    " `OS_NAME` varchar(100)  NULL,\n",
    " `OS_VERSION` varchar(100)  NULL,\n",
    " `INSTALL_DATE` varchar(100)  NULL,\n",
    " `OS_Version_Simplified` varchar(100)  NULL,\n",
    " `API` varchar(100)  NULL,\n",
    " `ROOM` varchar(100)  NULL,\n",
    " `DALLE` varchar(100)  NULL,\n",
    " `RACK_ID` varchar(100)  NULL,\n",
    " `Size (U);` varchar(100)  NULL,\n",
    " `NETWORK_NAME` varchar(100)  NULL,\n",
    " `NETWORK_ADDRESS` varchar(100)  NULL,\n",
    " `SUBTYPE` varchar(100)  NULL,\n",
    " `DOMAIN` varchar(100)  NULL,\n",
    " `ENV2` varchar(100)  NULL,\n",
    " `PRO_VLAN` varchar(100)  NULL,\n",
    " `VLAN` varchar(100)  NULL,\n",
    " `VLAN_ID` varchar(100)  NULL,\n",
    " `PR_SCOPE` varchar(100)  NULL,\n",
    " `PR_LOT` varchar(100)  NULL,\n",
    " `LOT_Level2` varchar(100)  NULL,\n",
    " `Server Role` varchar(100)  NULL,\n",
    " `SAN_Array` varchar(100)  NULL,\n",
    " `Subnet` varchar(100)  NULL,\n",
    " `IRN` varchar(100)  NULL,\n",
    " `Appli Short Name` varchar(100)  NULL,\n",
    " `APP_DEP` varchar(100)  NULL,\n",
    " `APP_SIA` varchar(100)  NULL,\n",
    " `PHY_RESP` varchar(100)  NULL,\n",
    " `APP_RESP` varchar(100)  NULL,\n",
    " `CI_TYPE_SOURCE` varchar(100)  NULL,\n",
    " `PHY_CI_IMPACTED` varchar(100)  NULL,\n",
    " `CI_MOVE_TYPE` varchar(100)  NULL,\n",
    " `CI_TYPE_TARGET` varchar(100)  NULL,\n",
    " `ROOM_TARGET` varchar(100)  NULL,\n",
    " `END_MOVE_TARGET` varchar(100)  NULL,\n",
    " `Target Rack ACN` varchar(100)  NULL,\n",
    " `Target Rack RN` varchar(100)  NULL,\n",
    " `Target Rack_Type` varchar(100)  NULL,\n",
    " `Target Chassis Type` varchar(100)  NULL,\n",
    " `Target Chassis Position` varchar(100)  NULL,\n",
    " `Not to decommission` varchar(100)  NULL,\n",
    " `DECOM Follow-Up` varchar(100)  NULL,\n",
    " `Comment` varchar(100)  NULL,\n",
    " `Mig_VRF` varchar(100)  NULL,\n",
    " `Mig_Cluster` varchar(100)  NULL,\n",
    " `Mig_Cluster_Name` varchar(100)  NULL,\n",
    " `Illumio Compatibility` varchar(100)  NULL \n",
    ") ENGINE=InnoDB DEFAULT CHARSET=utf8\n"
   ]
  }
 ],
 "metadata": {
  "kernelspec": {
   "display_name": "Python 3 (ipykernel)",
   "language": "python",
   "name": "python3"
  },
  "language_info": {
   "codemirror_mode": {
    "name": "ipython",
    "version": 3
   },
   "file_extension": ".py",
   "mimetype": "text/x-python",
   "name": "python",
   "nbconvert_exporter": "python",
   "pygments_lexer": "ipython3",
   "version": "3.9.7"
  }
 },
 "nbformat": 4,
 "nbformat_minor": 5
}
