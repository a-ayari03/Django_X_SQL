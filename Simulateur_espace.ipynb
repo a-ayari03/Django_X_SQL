{
 "cells": [
  {
   "cell_type": "markdown",
   "id": "cd19bb8f-a9c4-4816-af6e-d6952d030b57",
   "metadata": {},
   "source": [
    "# Simulateur d'espace"
   ]
  },
  {
   "cell_type": "markdown",
   "id": "055ba158-73ae-4213-8b65-3c6a96ac10e7",
   "metadata": {},
   "source": [
    "Ce workflow a pour but de simuler l'espace disponible sur chacun des racks afin de permettre une projection des équipes dans le déplacement du matériel."
   ]
  },
  {
   "cell_type": "markdown",
   "id": "84ff140a-8da1-4741-8868-2d94efe8a777",
   "metadata": {},
   "source": [
    "SELECT it.nom, it.short_name, it.long_name, it.ASSET_ID, it.Nom_de_la_salle , it.Nom_de_baie, it.Slot_U, it.type\n",
    "from `IT_Equipment_v2` it"
   ]
  },
  {
   "cell_type": "markdown",
   "id": "7479638e-2497-411f-b804-10ac1d8699f9",
   "metadata": {},
   "source": [
    "`rack_capacity_map` : cartographie les racks de toutes les salles afin de rajouter la capacité maximale d'un rack défini à -1 unités U. Si -1 le rack n' est pas dispo sur le fichier initial cabinet"
   ]
  },
  {
   "cell_type": "code",
   "execution_count": null,
   "id": "c5b9379c-c1eb-4f90-be9a-ae686d5878c2",
   "metadata": {},
   "outputs": [],
   "source": [
    "drop table if exists rack_capacity_map ;\n",
    "create table rack_capacity_map\n",
    "as \n",
    "SELECT it.Nom_de_la_salle, it.Nom_de_baie, '-1' as rack_capacity\n",
    "from `IT_Equipment_v2` it\n",
    "GROUP BY it.Nom_de_la_salle, it.Nom_de_baie ;"
   ]
  },
  {
   "cell_type": "code",
   "execution_count": null,
   "id": "91efc73c",
   "metadata": {},
   "outputs": [],
   "source": [
    "INSERT INTO `rack_capacity_map`\n",
    "SELECT it2.Nom_de_la_salle, it2.nom, '-1' as rack_capacity from `rack_capacity_map` it \n",
    "RIGHT JOIN `IT_Equipment_rack_description` it2 ON concat(it2.Nom_de_la_salle, it2.nom) = concat(it.Nom_de_la_salle, it.nom_de_baie)\n",
    "where it.nom_de_baie is null"
   ]
  },
  {
   "cell_type": "code",
   "execution_count": null,
   "id": "3d6aee79",
   "metadata": {},
   "outputs": [],
   "source": [
    "update `rack_capacity_map` it\n",
    "inner join `IT_Equipment_rack_description` it2 ON it.Nom_de_la_salle = it2.Nom_de_la_salle and it.nom_de_baie = it2.nom\n",
    "set it.rack_capacity = it2.Nombre_de_U"
   ]
  },
  {
   "cell_type": "markdown",
   "id": "d4d3444f-f7b2-401a-8cdb-294c07224efa",
   "metadata": {},
   "source": [
    "`indicator_it_equipment_simulateur_espace` : indicateur de l'espace disponible pour tous lers rack par rapport à la somme des hauteurs de chaque equipment renseigné sur la CMDB"
   ]
  },
  {
   "cell_type": "markdown",
   "id": "ed58ada3",
   "metadata": {},
   "source": [
    "drop table if exists indicator_it_equipment_simulateur_espace_raw ;\n",
    "create table indicator_it_equipment_simulateur_espace_raw\n",
    "as\n",
    "SELECT concat(it.Nom_de_la_salle, it.Nom_de_baie) key_id, it.Nom_de_la_salle, it.Nom_de_baie, r.rack_capacity, sum(CEILING(it.Hauteur_U)) slot_occupied, r.rack_capacity - sum(CEILING(it.Hauteur_U)) free_slot,\n",
    "GROUP_CONCAT(concat(it.slot_u, '/', CEILING(it.Hauteur_U))) list_occupied_slot\n",
    "from `IT_Equipment_v2` it\n",
    "INNER JOIN `rack_capacity_map` r ON r.Nom_de_la_salle = it.Nom_de_la_salle and r.Nom_de_baie = it.Nom_de_baie\n",
    "GROUP BY it.Nom_de_la_salle, it.Nom_de_baie\n",
    "ORDER by it.Nom_de_la_salle desc , sum(CEILING(it.Hauteur_U)) desc\n",
    ";"
   ]
  },
  {
   "cell_type": "code",
   "execution_count": null,
   "id": "865b69a3",
   "metadata": {},
   "outputs": [],
   "source": [
    "drop table if exists indicator_it_equipment_simulateur_espace_raw ;\n",
    "create table indicator_it_equipment_simulateur_espace_raw\n",
    "as\n",
    "SELECT if(it.Nom_de_baie is not null, concat(it.Nom_de_la_salle, it.Nom_de_baie), concat(r.Nom_de_la_salle, r.Nom_de_baie))  key_id,\n",
    "if(it.Nom_de_la_salle is not null, it.Nom_de_la_salle, r.Nom_de_la_salle) Nom_de_la_salle,\n",
    "if(it.Nom_de_baie is not null, it.Nom_de_baie, r.Nom_de_baie) Nom_de_baie,\n",
    "r.rack_capacity, \n",
    "if(sum(CEILING(it.Hauteur_U)) is not null, sum(CEILING(it.Hauteur_U)), 0) slot_occupied,\n",
    "if(sum(CEILING(it.Hauteur_U)) is not null, r.rack_capacity - sum(CEILING(it.Hauteur_U)), r.rack_capacity) free_slot,\n",
    "if(sum(CEILING(it.Hauteur_U)) is not null, GROUP_CONCAT(concat(it.slot_u, '/', CEILING(it.Hauteur_U))), '') list_occupied_slot\n",
    "from `IT_Equipment_v2` it\n",
    "RIGHT JOIN `rack_capacity_map` r ON r.Nom_de_la_salle = it.Nom_de_la_salle and r.Nom_de_baie = it.Nom_de_baie\n",
    "\n",
    "GROUP BY r.Nom_de_la_salle, r.Nom_de_baie\n",
    "-- ORDER by it.Nom_de_la_salle desc , sum(CEILING(it.Hauteur_U)) desc"
   ]
  },
  {
   "cell_type": "markdown",
   "id": "743bc52d",
   "metadata": {},
   "source": [
    "alter table indicator_it_equipment_simulateur_espace_raw\n",
    "ADD COLUMN occupied_item varchar(255),\n",
    "ADD COLUMN free_item varchar(255);"
   ]
  },
  {
   "cell_type": "markdown",
   "id": "f88c30dd-4db4-488e-9d60-404da71492b5",
   "metadata": {},
   "source": [
    "drop view if exists indicator_it_equipment_simulateur_espace ;\n",
    "create view indicator_it_equipment_simulateur_espace\n",
    "as\n",
    "SELECT concat(it.Nom_de_la_salle, it.Nom_de_baie) key_id, it.Nom_de_la_salle, it.Nom_de_baie, r.rack_capacity, sum(CEILING(it.Hauteur_U)) slot_occupied, r.rack_capacity - sum(CEILING(it.Hauteur_U)) free_slot\n",
    "from `IT_Equipment_v2` it\n",
    "INNER JOIN `rack_capacity_map` r ON r.Nom_de_la_salle = it.Nom_de_la_salle and r.Nom_de_baie = it.Nom_de_baie\n",
    "GROUP BY it.Nom_de_la_salle, it.Nom_de_baie\n",
    "ORDER by it.Nom_de_la_salle desc , sum(CEILING(it.Hauteur_U)) desc\n",
    ";"
   ]
  },
  {
   "cell_type": "markdown",
   "id": "aabbe8ac-8b24-42ed-88d0-d936a7367c95",
   "metadata": {},
   "source": [
    "class indicator_simulateur_espace(models.Model):   \n",
    "    id = models.BigAutoField(primary_key=True)\n",
    "    Nom_de_la_salle = models.AutoField()  # Field name made lowercase.\n",
    "    Nom_de_baie = models.CharField(max_length=255)\n",
    "    rack_capacity = models.CharField(max_length=255)\n",
    "    slot_occupied = models.CharField(max_length=255)\n",
    "    free_slot = models.CharField(max_length=255)\n",
    "    class Meta:\n",
    "        managed = False\n",
    "        db_table = \"indicator_it_equipment_simulateur_espace\""
   ]
  },
  {
   "cell_type": "markdown",
   "id": "139ca9f2-57bc-4ff2-ab9e-a0efafd5cd19",
   "metadata": {},
   "source": [
    "SELECT it.nom, it.short_name, it.long_name, it.ASSET_ID, it.Nom_de_la_salle , it.Nom_de_baie, it.Slot_U, it.type, it.Hauteur_U, \n",
    "it.Slot_U + it.Hauteur_U tt,\n",
    "concat()\n",
    "\n",
    "from `IT_Equipment_v2` it\n",
    "-- where Nom_de_la_salle = 'P4' and Nom_de_baie = 'AE17'\n",
    "where Nom_de_la_salle = 'P1' and Nom_de_baie = 'A26'"
   ]
  },
  {
   "cell_type": "markdown",
   "id": "ac34faca-d24a-4955-95b9-36190be9252a",
   "metadata": {},
   "source": [
    "CREATE TABLE `indicator_it_equipment_simulateur_espace` (\n",
    "  `key_id` varchar(255) ,\n",
    "  `Nom_de_la_salle` varchar(255) DEFAULT NULL,\n",
    "  `Nom_de_baie` varchar(255) DEFAULT NULL,\n",
    "  `rack_capacity` varchar(100) NOT NULL,\n",
    "  `slot_occupied` varchar(100) NOT NULL,\n",
    "  `free_slot`varchar(255) NOT NULL,\n",
    "  `occupied_item` varchar(100) NOT NULL,\n",
    "  `free_item` varchar(100) NOT NULL\n",
    ") ENGINE=InnoDB DEFAULT CHARSET=utf8;"
   ]
  }
 ],
 "metadata": {
  "kernelspec": {
   "display_name": "Python 3",
   "language": "python",
   "name": "python3"
  },
  "language_info": {
   "codemirror_mode": {
    "name": "ipython",
    "version": 3
   },
   "file_extension": ".py",
   "mimetype": "text/x-python",
   "name": "python",
   "nbconvert_exporter": "python",
   "pygments_lexer": "ipython3",
   "version": "3.6.8"
  }
 },
 "nbformat": 4,
 "nbformat_minor": 5
}
