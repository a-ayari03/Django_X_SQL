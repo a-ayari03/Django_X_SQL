{
 "cells": [
  {
   "cell_type": "markdown",
   "id": "659d2b0d-afe0-4f13-bd06-328f55eeeacc",
   "metadata": {},
   "source": [
    "# Equipment_move_workflow"
   ]
  },
  {
   "cell_type": "markdown",
   "id": "ce46da6f-ef82-47f1-ad44-52d5347f60aa",
   "metadata": {},
   "source": [
    "# IT_Equipment_unique_records"
   ]
  },
  {
   "cell_type": "markdown",
   "id": "105c92cc-fe93-490a-823e-04ad9f45fedd",
   "metadata": {},
   "source": [
    "Workflow permettant la mise à jour de la table `IT_equipments_unique_equipments`"
   ]
  },
  {
   "cell_type": "markdown",
   "id": "68a0591f-8c75-4d4a-8658-79f41471d0f5",
   "metadata": {},
   "source": [
    "`IT_Equipment_sorted_by_date_asc` : table ordonnée par date croissante \n",
    "\n",
    "`IT_Equipment_sorted_by_date_desc` : table ordonnée par date décroissante"
   ]
  },
  {
   "cell_type": "code",
   "execution_count": null,
   "id": "82d1ea87-652b-46f5-8241-1e31a981c6cf",
   "metadata": {},
   "outputs": [],
   "source": [
    "drop view if exists IT_Equipment_sorted_by_date_asc ;\n",
    "create view `IT_Equipment_sorted_by_date_asc` \n",
    "as\n",
    "select ASSET_ID, ID_Systeme_Asset, Modele, Nom_de_la_salle, Reperage_ID, SOURCES, INSERTED from `IT_Equipment_records` \n",
    "ORDER BY STR_TO_DATE((inserted),'%y-%m-%d') ASC ;\n",
    "\n",
    "drop view if exists IT_Equipment_sorted_by_date_desc ;\n",
    "create view `IT_Equipment_sorted_by_date_desc` \n",
    "as\n",
    "select ASSET_ID, ID_Systeme_Asset, Modele, Nom_de_la_salle, Reperage_ID, SOURCES, INSERTED from `IT_Equipment_records` \n",
    "ORDER BY STR_TO_DATE((inserted),'%y-%m-%d') DESC ;"
   ]
  },
  {
   "cell_type": "markdown",
   "id": "ddfe9a4a-3c5a-45a6-8cb4-8f7e25b82c33",
   "metadata": {},
   "source": [
    "`IT_Equipment_first_last_occurence_per_id_all` : 1er occurence et dernière occurence pour chaque asset_id"
   ]
  },
  {
   "cell_type": "code",
   "execution_count": null,
   "id": "6acc6406-e79e-42b3-ad68-720a67df695e",
   "metadata": {},
   "outputs": [],
   "source": [
    "drop view if exists IT_Equipment_first_last_occurence_per_id_all ;\n",
    "CREATE view IT_Equipment_first_last_occurence_per_id_all\n",
    "as \n",
    "select min(inserted) first_records, max(inserted) last_records, it.ID_Systeme_Asset from `IT_Equipment_sorted_by_date_asc` it\n",
    "GROUP BY ID_Systeme_Asset\n",
    "order by INSERTED desc ;"
   ]
  },
  {
   "cell_type": "markdown",
   "id": "5183026b-010d-4304-b636-3398aeab93d4",
   "metadata": {},
   "source": [
    "`IT_Equipment_first_occurence_per_id` : Première occurence (date d'ajout d'un equipment) \n",
    "\n",
    "`IT_Equipment_last_occurence_per_id` : Dernière occurence (dernière date d'update d'un equipment) "
   ]
  },
  {
   "cell_type": "code",
   "execution_count": null,
   "id": "8515a107-0cbb-4879-95b0-072eb0a55835",
   "metadata": {},
   "outputs": [],
   "source": [
    "drop view if exists IT_Equipment_first_occurence_per_id ;\n",
    "CREATE view  IT_Equipment_first_occurence_per_id\n",
    "as\n",
    "select it.* from `IT_Equipment_records` it\n",
    "INNER JOIN `IT_Equipment_first_last_occurence_per_id_all` it2 \n",
    "ON it.ID_Systeme_Asset = it2.ID_Systeme_Asset\n",
    "AND it.inserted = it2.first_records ;\n",
    "\n",
    "drop view if exists IT_Equipment_last_occurence_per_id ;\n",
    "CREATE view  IT_Equipment_last_occurence_per_id\n",
    "as\n",
    "select it.* from `IT_Equipment_records` it\n",
    "INNER JOIN `IT_Equipment_first_last_occurence_per_id_all` it2 \n",
    "ON it.ID_Systeme_Asset = it2.ID_Systeme_Asset\n",
    "AND it.inserted = it2.last_records ;"
   ]
  },
  {
   "cell_type": "markdown",
   "id": "8a05f820-106a-48a2-b28d-550851d2c60e",
   "metadata": {},
   "source": [
    "`IT_Equipment_last_occurence_position` : Asset, salle, position et date d'insertion de la dernière position connu d'un equipment. Exemple : changement de position de 22-06-01, et mise à jour le  22-06-03 & 22-06-10. La première fois que la nouvelle position apparait est affiché (donc 22-06-01)"
   ]
  },
  {
   "cell_type": "code",
   "execution_count": null,
   "id": "9649eeee-6a51-4e1d-922c-4ecf5954f631",
   "metadata": {},
   "outputs": [],
   "source": [
    "drop view if exists IT_Equipment_last_occurence_position ;\n",
    "CREATE view  IT_Equipment_last_occurence_position\n",
    "as\n",
    "SELECT it2.ID_Systeme_Asset, it2.nom_de_la_salle, it2.Reperage_ID, it2.INSERTED\n",
    "FROM `IT_Equipment_last_occurence_per_id` it\n",
    "INNER JOIN `IT_Equipment_records` it2 ON it.ID_Systeme_Asset = it2.ID_Systeme_Asset AND it.reperage_id = it2.reperage_id\n",
    "GROUP BY it2.ID_Systeme_Asset"
   ]
  },
  {
   "cell_type": "markdown",
   "id": "b27b134e-c8c7-412c-a5e6-5029ba21f21a",
   "metadata": {},
   "source": [
    "`last_date_insertion` : dernière date du fichier csv de mise à jour de la base. Exemple IT_equipment.01.06.22 -> 22-06-01"
   ]
  },
  {
   "cell_type": "code",
   "execution_count": null,
   "id": "9b2e9e4c-a14d-4df0-a5ec-6b0fabdcf5f5",
   "metadata": {},
   "outputs": [],
   "source": [
    "drop view if EXISTS last_date_insertion ;\n",
    "create view last_date_insertion\n",
    "as\n",
    "select DISTINCT(INSERTED) source_insert from `IT_Equipment_records`\n",
    "ORDER by INSERTED desc\n",
    "limit 1"
   ]
  },
  {
   "cell_type": "markdown",
   "id": "9d797bd4-3469-4398-9b6d-68edc03e0bd9",
   "metadata": {},
   "source": [
    "`date_insertion_records` : table historique de toutes les mise à jour de la base"
   ]
  },
  {
   "cell_type": "code",
   "execution_count": null,
   "id": "b17cac5d-8516-47ae-915d-91a514e4ea5a",
   "metadata": {},
   "outputs": [],
   "source": [
    "drop view if EXISTS date_insertion_records ; \n",
    "create view date_insertion_records\n",
    "as\n",
    "select DISTINCT(INSERTED) source_insert from `IT_Equipment_records`\n",
    "ORDER by INSERTED desc ;"
   ]
  },
  {
   "cell_type": "markdown",
   "id": "77a068d4-4837-4f80-92b9-9190f29322a9",
   "metadata": {},
   "source": [
    "`IT_Equipment_cleaned_equipment` : Table des equipments clean, avec leur asset_id, leur dernière position connue et la dernière date d'apparition dans un fichier csv. Un Equipement est jugé clean s'il n'apparait pas dans la dernière MàJ de la base"
   ]
  },
  {
   "cell_type": "code",
   "execution_count": null,
   "id": "e1150a07-76d2-44e8-bb37-faf15e66e0ce",
   "metadata": {},
   "outputs": [],
   "source": [
    "drop view if EXISTS IT_Equipment_cleaned_equipment;\n",
    "create view IT_Equipment_cleaned_equipment\n",
    "as \n",
    "select it.nom, it.ID_Systeme_Asset, it.asset_id, it.nom_de_la_salle, it.Reperage_ID,it.SOURCES, it.INSERTED last_insert_date  from `IT_Equipment_last_occurence_per_id` it\n",
    "LEFT JOIN `last_date_insertion` dat ON dat.source_insert = it.inserted\n",
    "where dat.source_insert is null ;"
   ]
  },
  {
   "cell_type": "markdown",
   "id": "8d1e8980-a20b-41f0-a2b6-4754c8460da0",
   "metadata": {},
   "source": [
    "`IT_Equipment_unique_records` : table regroupant tous les asset_id unique, une ligne par equipments avec tous les attribus prédifinis auquel on rajoute : \n",
    "    \n",
    "    - First_occurence : première d'ajout d'un fichier\n",
    "    - last_move_date : date du dernier changement de position\n",
    "    - last_move_date : dernier changement de position\n",
    "    - last_move_salle : Salle du dernier changement de position\n",
    "    - Clean date : Si un equipment est jugé clean, la date du dernier ajout est affiché "
   ]
  },
  {
   "cell_type": "code",
   "execution_count": null,
   "id": "1519d5d4-435b-4cf7-90a7-9f3dbe9b25b5",
   "metadata": {},
   "outputs": [],
   "source": [
    "drop table if exists `IT_Equipment_unique_records` ;\n",
    "create table `IT_Equipment_unique_records`\n",
    "as \n",
    "select * from `IT_Equipment_first_occurence_per_id`\n",
    "GROUP BY ID_Systeme_Asset ;"
   ]
  },
  {
   "cell_type": "code",
   "execution_count": null,
   "id": "cd9cfd7a-df09-4579-84cf-9b94d4d5acf1",
   "metadata": {},
   "outputs": [],
   "source": [
    "ALTER TABLE IT_Equipment_unique_records\n",
    "ADD COLUMN first_occurence varchar(255),\n",
    "ADD COLUMN last_move_salle varchar(255),\n",
    "ADD COLUMN last_move varchar(255),\n",
    "ADD COLUMN last_move_date varchar(255),\n",
    "ADD COLUMN clean_date varchar(255) ;"
   ]
  },
  {
   "cell_type": "markdown",
   "id": "01dbdf93-a05b-41a4-9d74-5cf899dd0ae8",
   "metadata": {},
   "source": [
    "## Update de la table `IT_Equipment_unique_records`"
   ]
  },
  {
   "cell_type": "markdown",
   "id": "d326fce0-1ff6-4b81-b356-858cd2dc77f7",
   "metadata": {},
   "source": [
    "### First occurence"
   ]
  },
  {
   "cell_type": "code",
   "execution_count": null,
   "id": "b9b416d0-147d-4b7c-b5df-faf075a5f4be",
   "metadata": {},
   "outputs": [],
   "source": [
    "UPDATE `IT_Equipment_unique_records` it\n",
    "INNER JOIN `IT_Equipment_first_occurence_per_id` it2\n",
    "ON it.ID_Systeme_Asset = it2.ID_Systeme_Asset\n",
    "\n",
    "set first_occurence = it2.inserted"
   ]
  },
  {
   "cell_type": "markdown",
   "id": "49075d9a-0b3f-482f-ae9a-5e02f34df2ab",
   "metadata": {},
   "source": [
    "### Last move"
   ]
  },
  {
   "cell_type": "code",
   "execution_count": null,
   "id": "5b51974e-768d-45d0-a3d4-f660950ce4d6",
   "metadata": {},
   "outputs": [],
   "source": [
    "UPDATE `IT_Equipment_unique_records` it\n",
    "INNER JOIN `IT_Equipment_last_occurence_position` it2\n",
    "ON it.ID_Systeme_Asset = it2.ID_Systeme_Asset\n",
    "\n",
    "set last_move_date = it2.INSERTED ,\n",
    "    last_move = it2.Reperage_ID ,\n",
    "    last_move_salle = it2.nom_de_la_salle"
   ]
  },
  {
   "cell_type": "markdown",
   "id": "618b591a-51e7-4d5d-bbd9-4073a1b18e3f",
   "metadata": {
    "tags": []
   },
   "source": [
    "### Clean date"
   ]
  },
  {
   "cell_type": "code",
   "execution_count": null,
   "id": "42dc5270-f3f0-4ee9-a2fb-bb5ac611d8ca",
   "metadata": {},
   "outputs": [],
   "source": [
    "UPDATE `IT_Equipment_unique_records` it\n",
    "INNER JOIN `IT_Equipment_cleaned_equipment` it2\n",
    "ON it.ID_Systeme_Asset = it2.ID_Systeme_Asset\n",
    "\n",
    "set clean_date = it2.last_insert_date\n"
   ]
  },
  {
   "cell_type": "markdown",
   "id": "c2bb2d9e-4a95-4177-851d-8ff56f74ed10",
   "metadata": {},
   "source": [
    "### Query de control qu'il y a aucun mouvement entre les salles"
   ]
  },
  {
   "cell_type": "markdown",
   "id": "7627bad3-66ec-4ac6-a210-f26610cafd8c",
   "metadata": {},
   "source": [
    "select ID_Systeme_Asset, Nom_de_la_salle, Reperage_ID, last_move_salle, last_move, last_move_date from `IT_Equipment_unique_records`\n",
    "where Reperage_ID != last_move"
   ]
  },
  {
   "cell_type": "markdown",
   "id": "053a7a07-dbdc-4a93-81ec-789a3979c172",
   "metadata": {},
   "source": [
    "select ID_Systeme_Asset, count(distinct(Nom_de_la_salle)) diff_salle, count(distinct(Reperage_ID)) diff_position from `IT_Equipment_records`\n",
    "GROUP BY ID_Systeme_Asset\n",
    "ORDER BY count(distinct(Nom_de_la_salle)) desc, count(distinct(Reperage_ID)) desc"
   ]
  },
  {
   "cell_type": "markdown",
   "id": "1978b46e-2cd3-44bc-a50e-24bcec723efc",
   "metadata": {},
   "source": [
    "## Indicateur"
   ]
  },
  {
   "cell_type": "markdown",
   "id": "27f9bff3-c733-4dc8-acf4-59770d52ba3d",
   "metadata": {},
   "source": [
    "`IT_Equipment_count_equipment_per_salle` : nombre d'equipment par salle par date"
   ]
  },
  {
   "cell_type": "code",
   "execution_count": null,
   "id": "8f790595-e86c-44ec-859f-7834dabf6b05",
   "metadata": {},
   "outputs": [],
   "source": [
    "create view IT_Equipment_count_equipment_per_salle\n",
    "as \n",
    "SELECT nom_de_la_salle, INSERTED, count(*) eq_count from `IT_Equipment_records`\n",
    "GROUP BY nom_de_la_salle, INSERTED"
   ]
  },
  {
   "cell_type": "markdown",
   "id": "88349b75-8a2e-4c04-94f8-5ac37687facb",
   "metadata": {},
   "source": [
    "`indicateur_cleaned_per_salle` : nombre d'equipment clean par salle"
   ]
  },
  {
   "cell_type": "code",
   "execution_count": null,
   "id": "7b6a7d93-90c2-4e27-b9be-68a3943fcd85",
   "metadata": {},
   "outputs": [],
   "source": [
    "DROP TABLE IF EXISTS indicateur_cleaned_per_salle ;# MySQL returned an empty result set (i.e. zero rows).\n",
    "CREATE TABLE indicateur_cleaned_per_salle\n",
    "select Nom_de_la_salle, count(*) clean_count from `IT_Equipment_cleaned_equipment`\n",
    "GROUP BY Nom_de_la_salle"
   ]
  },
  {
   "cell_type": "markdown",
   "id": "04fc102a-be11-4b31-b10a-de0da8dc7027",
   "metadata": {},
   "source": [
    "`IT_Equipment_count_equipment_per_salle_first_occurence` : nombre d'equipment par salle pour la première date d'ajout"
   ]
  },
  {
   "cell_type": "code",
   "execution_count": null,
   "id": "ff3e9449-4e7e-4b02-8665-4679db9dfc3e",
   "metadata": {},
   "outputs": [],
   "source": [
    "drop VIEW if EXISTS IT_Equipment_count_equipment_per_salle_first_occurence;\n",
    "create view IT_Equipment_count_equipment_per_salle_first_occurence\n",
    "as \n",
    "SELECT nom_de_la_salle,\n",
    "(SELECT * FROM `date_insertion_records`\n",
    " order by source_insert asc\n",
    " limit 1 ) date,\n",
    "count(*) eq_count from `IT_Equipment_records`\n",
    "where INSERTED = \n",
    "\t\t\t\t(SELECT * FROM `date_insertion_records`\n",
    "                order by source_insert asc\n",
    "                limit 1 )\n",
    "                \n",
    "GROUP BY nom_de_la_salle"
   ]
  },
  {
   "cell_type": "markdown",
   "id": "00a28df0-15fe-4009-b41f-8fc46dadc41b",
   "metadata": {},
   "source": [
    "`IT_Equipment_count_equipment_per_salle_last_occurence` : nombre d'equipment par salle pour la dernière date d'ajout"
   ]
  },
  {
   "cell_type": "code",
   "execution_count": null,
   "id": "57c88497-dff6-4918-a29c-ae5626265c14",
   "metadata": {},
   "outputs": [],
   "source": [
    "drop VIEW if EXISTS IT_Equipment_count_equipment_per_salle_last_occurence;\n",
    "create view IT_Equipment_count_equipment_per_salle_last_occurence\n",
    "as \n",
    "SELECT nom_de_la_salle,\n",
    "(SELECT * FROM `date_insertion_records`\n",
    " order by source_insert desc\n",
    " limit 1 ) date,\n",
    "count(*) eq_count from `IT_Equipment_records`\n",
    "where INSERTED = \n",
    "\t\t\t\t(SELECT * FROM `date_insertion_records`\n",
    "                order by source_insert desc\n",
    "                limit 1 )\n",
    "                \n",
    "GROUP BY nom_de_la_salle"
   ]
  },
  {
   "cell_type": "markdown",
   "id": "cd9765c3-76a4-4b1c-b020-af3ba0f7dc55",
   "metadata": {},
   "source": [
    "`indicateur_equipment_per_salle` : indicateur du nombre d'equipment par salle pour la 1er et dernière occurence"
   ]
  },
  {
   "cell_type": "code",
   "execution_count": null,
   "id": "526623fe-6053-45dd-82cd-cbc55001187b",
   "metadata": {},
   "outputs": [],
   "source": [
    "DROP TABLE IF EXISTS indicateur_equipment_per_salle ;# MySQL returned an empty result set (i.e. zero rows).\n",
    "CREATE TABLE indicateur_equipment_per_salle\n",
    "SELECT DISTINCT(nom_de_la_salle) from `IT_Equipment_records`\n",
    "ORDER By Nom_de_la_salle asc ;# 6 rows affected."
   ]
  },
  {
   "cell_type": "markdown",
   "id": "a96407f0-b9e2-438f-a67a-0ca214d6f872",
   "metadata": {},
   "source": [
    "### Update indicateur_equipment_per_salle"
   ]
  },
  {
   "cell_type": "markdown",
   "id": "4cfb3b7d-adfa-4af8-99bf-9fe0f04be135",
   "metadata": {},
   "source": [
    "`indicateur_equipment_per_salle` : Suit le nombre d'equipment unique par salle\n",
    "\n",
    "     - first_occurence : nb d'equipement dans la première occurence\n",
    "     - last_occurence : nb d'equipement dans la dernière occurence\n",
    "     - in_equipment : nb d'equipement entrée\n",
    "     - out_equipment : nb d'equipement sortie\n",
    "    \n",
    "    \n",
    "    "
   ]
  },
  {
   "cell_type": "code",
   "execution_count": null,
   "id": "ebd86f8b-1701-4665-95f3-ecadd176c2d9",
   "metadata": {},
   "outputs": [],
   "source": [
    "ALTER TABLE indicateur_equipment_per_salle\n",
    "ADD COLUMN first_occurence varchar(255),\n",
    "ADD COLUMN last_occurence varchar(255),\n",
    "ADD COLUMN in_equipment varchar(255),\n",
    "ADD COLUMN out_equipment varchar(255) ;"
   ]
  },
  {
   "cell_type": "code",
   "execution_count": null,
   "id": "57caa90e-c46e-457d-bd6e-b0722d2126b6",
   "metadata": {},
   "outputs": [],
   "source": [
    "UPDATE `indicateur_equipment_per_salle` it \n",
    "INNER JOIN `IT_Equipment_count_equipment_per_salle_first_occurence` it2 \n",
    "ON it.nom_de_la_salle = it2.nom_de_la_salle\n",
    "SET  it.first_occurence = it2.eq_count ;\n",
    "\n",
    "UPDATE `indicateur_equipment_per_salle` it \n",
    "INNER JOIN `IT_Equipment_count_equipment_per_salle_last_occurence` it2 \n",
    "ON it.nom_de_la_salle = it2.nom_de_la_salle\n",
    "SET  it.last_occurence = it2.eq_count ;"
   ]
  },
  {
   "cell_type": "markdown",
   "id": "aaebbbeb-ae26-4ef2-b18d-371157959695",
   "metadata": {},
   "source": [
    "alter view hana_query as select ID_Systeme_Asset, nom, Nom_de_la_salle, Nom_de_baie, INSERTED from `IT_Equipment_records` where Nom_de_baie like 'ha%' and INSERTED = '22-02-04'and Nom_de_la_salle = 'P1' "
   ]
  },
  {
   "cell_type": "markdown",
   "id": "545ba94e-0886-4a0b-a581-81aad4a415a1",
   "metadata": {},
   "source": [
    "### 1 et dernier fichier pour controle rapide"
   ]
  },
  {
   "cell_type": "code",
   "execution_count": null,
   "id": "fc34c2b9-de70-4b55-9a1a-7ac2fc1ed7e4",
   "metadata": {},
   "outputs": [],
   "source": [
    "DROP TABLE if EXISTS IT_Equipment_17_06_2022 ; \n",
    "CREATE TABLE IT_Equipment_17_06_2022\n",
    "as\n",
    "select * from `IT_Equipment_records` where INSERTED = \"22-06-17\""
   ]
  },
  {
   "cell_type": "code",
   "execution_count": null,
   "id": "93be542c-1d61-4dc7-ba2c-0c0178a658d5",
   "metadata": {},
   "outputs": [],
   "source": [
    "DROP TABLE if EXISTS IT_Equipment_4_02_2022 ; \n",
    "CREATE TABLE IT_Equipment_4_02_2022\n",
    "as\n",
    "select * from `IT_Equipment_records` where INSERTED = \"22-02-04\""
   ]
  },
  {
   "cell_type": "markdown",
   "id": "b0b95496-1db2-425a-9c55-a8d47eb108a2",
   "metadata": {},
   "source": [
    "`query_meme_nom_resultat_diff` : nom similaire mais asset_id ou id_systeme_asset différents (ce qui est pas normal)"
   ]
  },
  {
   "cell_type": "code",
   "execution_count": null,
   "id": "336f93a2-5f22-416d-a192-73a421965584",
   "metadata": {},
   "outputs": [],
   "source": [
    "CREATE view query_meme_nom_resultat_diff\n",
    "as\n",
    "select it.nom, it.ASSET_ID, it.reperage_id, it.nom_de_la_salle, it.ID_Systeme_Asset,it2.nom nom_juin, it2.ASSET_ID ASSET_ID_juin, it2.reperage_id reperage_id_juin, it2.nom_de_la_salle nom_de_la_salle_juin, it2.ID_Systeme_Asset ID_Systeme_Asset_juin\n",
    "from `IT_Equipment_4_02_2022` it\n",
    "INNER JOIN `IT_Equipment_17_06_2022` it2 \n",
    "ON it.nom = it2.nom\n",
    "\n",
    "where it.ASSET_ID != it2.ASSET_ID or it.ID_Systeme_Asset != it2.ID_Systeme_Asset"
   ]
  },
  {
   "cell_type": "markdown",
   "id": "c674eb29-9320-4bae-af02-7c3a718131f4",
   "metadata": {},
   "source": [
    "`IT_Equipment_unique_name` : table des noms pour le fichier it_equipment du 17/06/22"
   ]
  },
  {
   "cell_type": "code",
   "execution_count": null,
   "id": "fab369c1-e5d9-454b-8a73-93a020401d0f",
   "metadata": {},
   "outputs": [],
   "source": [
    "drop view if EXISTS IT_Equipment_unique_name ;\n",
    "create view IT_Equipment_unique_name\n",
    "as\n",
    "SELECT nom, count(nom) number_row FROM `IT_Equipment_17_06_2022`\n",
    "\n",
    "GROUP BY nom\n",
    "HAVING number_row = 1\n",
    "ORDER by count(nom) DESC"
   ]
  },
  {
   "cell_type": "markdown",
   "id": "8bbe4f80-61be-46d0-8d25-adc8d9b13f39",
   "metadata": {},
   "source": [
    "`IT_Equipment_move_salle_name_match` : mouvement de salle par rapport aux nom unique"
   ]
  },
  {
   "cell_type": "code",
   "execution_count": null,
   "id": "9419e3e2-0e35-415a-aa58-b4171a954754",
   "metadata": {},
   "outputs": [],
   "source": [
    "drop view if exists IT_Equipment_move_salle_name_match ;\n",
    "create VIEW IT_Equipment_move_salle_name_match\n",
    "as\n",
    "select it.nom, it.ASSET_ID, it.reperage_id, it.nom_de_la_salle, it.ID_Systeme_Asset,it2.nom nom_juin, it2.ASSET_ID ASSET_ID_juin, it2.reperage_id reperage_id_juin, it2.nom_de_la_salle nom_de_la_salle_juin, it2.ID_Systeme_Asset ID_Systeme_Asset_juin\n",
    "FROM `IT_Equipment_unique_name` it3\n",
    "\n",
    "INNER JOIN `IT_Equipment_4_02_2022` it\n",
    "ON it3.nom = it.nom\n",
    "INNER JOIN `IT_Equipment_17_06_2022` it2 \n",
    "ON it3.nom = it2.nom\n",
    "\n",
    "where it.nom_de_la_salle != it2.nom_de_la_salle --  or it.reperage_id != it2.reperage_id"
   ]
  },
  {
   "cell_type": "markdown",
   "id": "f5872491-b1d5-4788-9d7f-51c2cfa1f580",
   "metadata": {},
   "source": [
    "`IT_Equipment_non_unique_nom` : equipments avec un nom non unique"
   ]
  },
  {
   "cell_type": "code",
   "execution_count": null,
   "id": "3a857a1e-e16d-4971-8c64-e540c26a8a52",
   "metadata": {},
   "outputs": [],
   "source": [
    "drop VIEW if EXISTS IT_Equipment_non_unique_nom ;\n",
    "create VIEW IT_Equipment_non_unique_nom\n",
    "as\n",
    "SELECT nom, count(nom) number_row, Type FROM `IT_Equipment_17_06_2022`\n",
    "\n",
    "GROUP BY nom\n",
    "HAVING number_row != 1\n",
    "ORDER by count(nom) DESC"
   ]
  },
  {
   "cell_type": "markdown",
   "id": "c614b35a-5153-49f4-9a56-39ac711cd7df",
   "metadata": {},
   "source": [
    "### Equipement mise à jour sous un ID_systeme_asset différents"
   ]
  },
  {
   "cell_type": "markdown",
   "id": "a5bea347-f49e-45c1-bddd-bcdd9e486d0a",
   "metadata": {},
   "source": [
    "`IT_Equipment_move_no_asset` : Si un id_systeme_asset n'est pas dispo dans le dernier fichier csv (table des élements clean`IT_Equipment_cleaned_equipment`), on procède à un check des noms. S'il y a concordence des noms dans le dernier fichier c'est que id_systeme_asset a été modifié"
   ]
  },
  {
   "cell_type": "code",
   "execution_count": null,
   "id": "590a2cfb-b935-4e3e-9c57-8f9bb0ad192e",
   "metadata": {},
   "outputs": [],
   "source": [
    "drop view if exists IT_Equipment_move_no_asset ;\n",
    "create view IT_Equipment_move_no_asset\n",
    "as \n",
    "select it.nom nom_clean, it2. nom nom_new, \n",
    "it.ID_Systeme_Asset asset_clean,  it2.ID_Systeme_Asset asset_new,\n",
    "it.asset_id asset_id_clean,  it2.asset_id asset_id_new,\n",
    "it.nom_de_la_salle salle_clean, it.Reperage_ID position_clean,\n",
    "it2.nom_de_la_salle salle_new, it2.Reperage_ID position_new,\n",
    "it.last_insert_date date_clean, it2.inserted date_new\n",
    "from `IT_Equipment_cleaned_equipment` it \n",
    "INNER JOIN `IT_Equipment_records` it2\n",
    "ON it.nom = it2.nom\n",
    "\n",
    "WHERE it2.inserted =(\n",
    "    \t\t\t\tSELECT * FROM `last_date_insertion`\n",
    "    \t\t\t\t)"
   ]
  }
 ],
 "metadata": {
  "kernelspec": {
   "display_name": "Python 3 (ipykernel)",
   "language": "python",
   "name": "python3"
  },
  "language_info": {
   "codemirror_mode": {
    "name": "ipython",
    "version": 3
   },
   "file_extension": ".py",
   "mimetype": "text/x-python",
   "name": "python",
   "nbconvert_exporter": "python",
   "pygments_lexer": "ipython3",
   "version": "3.9.7"
  }
 },
 "nbformat": 4,
 "nbformat_minor": 5
}
