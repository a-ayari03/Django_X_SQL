{
 "cells": [
  {
   "cell_type": "markdown",
   "id": "cd19bb8f-a9c4-4816-af6e-d6952d030b57",
   "metadata": {},
   "source": [
    "# Simulateur d'espace"
   ]
  },
  {
   "cell_type": "markdown",
   "id": "055ba158-73ae-4213-8b65-3c6a96ac10e7",
   "metadata": {},
   "source": [
    "Ce workflow a pour but de simuler l'espace disponible sur chacun des racks afin de permettre une projection des équipes dans le déplacement du matériel."
   ]
  },
  {
   "cell_type": "markdown",
   "id": "84ff140a-8da1-4741-8868-2d94efe8a777",
   "metadata": {},
   "source": [
    "SELECT it.nom, it.short_name, it.long_name, it.ASSET_ID, it.Nom_de_la_salle , it.Nom_de_baie, it.Slot_U, it.type\n",
    "from `IT_Equipment_v2` it"
   ]
  },
  {
   "cell_type": "markdown",
   "id": "7479638e-2497-411f-b804-10ac1d8699f9",
   "metadata": {},
   "source": [
    "`rack_capacity_map` : cartographie les racks de toutes les salles afin de rajouter la capacité maximale d'un rack défini à 45 unités U  "
   ]
  },
  {
   "cell_type": "code",
   "execution_count": null,
   "id": "c5b9379c-c1eb-4f90-be9a-ae686d5878c2",
   "metadata": {},
   "outputs": [],
   "source": [
    "drop table if exists rack_capacity_map ;# MySQL returned an empty result set (i.e. zero rows).\n",
    "create table rack_capacity_map\n",
    "as \n",
    "SELECT it.Nom_de_la_salle, it.Nom_de_baie, '45' as rack_capacity\n",
    "from `IT_Equipment_v2` it\n",
    "GROUP BY it.Nom_de_la_salle, it.Nom_de_baie# MySQL returned an empty result set (i.e. zero rows)."
   ]
  },
  {
   "cell_type": "markdown",
   "id": "d4d3444f-f7b2-401a-8cdb-294c07224efa",
   "metadata": {},
   "source": [
    "`indicator_it_equipment_simulateur_espace` : indicateur de l'espace disponible pour tous lers rack par rapport à la somme des hauteurs de chaque equipment renseigné sur la CMDB"
   ]
  },
  {
   "cell_type": "code",
   "execution_count": null,
   "id": "37ee010c-dca8-4da9-ab50-0eed54d4df7d",
   "metadata": {},
   "outputs": [],
   "source": [
    "drop table if exists indicator_it_equipment_simulateur_espace_raw ;\n",
    "create table indicator_it_equipment_simulateur_espace_raw\n",
    "as\n",
    "SELECT concat(it.Nom_de_la_salle, it.Nom_de_baie) key_id, it.Nom_de_la_salle, it.Nom_de_baie, r.rack_capacity, sum(CEILING(it.Hauteur_U)) slot_occupied, r.rack_capacity - sum(CEILING(it.Hauteur_U)) free_slot,\n",
    "GROUP_CONCAT(concat(it.slot_u, '/', CEILING(it.Hauteur_U))) list_occupied_slot\n",
    "from `IT_Equipment_v2` it\n",
    "INNER JOIN `rack_capacity_map` r ON r.Nom_de_la_salle = it.Nom_de_la_salle and r.Nom_de_baie = it.Nom_de_baie\n",
    "GROUP BY it.Nom_de_la_salle, it.Nom_de_baie\n",
    "ORDER by it.Nom_de_la_salle desc , sum(CEILING(it.Hauteur_U)) desc\n",
    ";"
   ]
  },
  {
   "cell_type": "code",
   "execution_count": null,
   "id": "0df7cae8-5bd4-4718-af1d-94a96c9338c5",
   "metadata": {},
   "outputs": [],
   "source": [
    "alter table indicator_it_equipment_simulateur_espace_raw\n",
    "ADD COLUMN occupied_item varchar(255),\n",
    "ADD COLUMN free_item varchar(255);"
   ]
  },
  {
   "cell_type": "markdown",
   "id": "f88c30dd-4db4-488e-9d60-404da71492b5",
   "metadata": {},
   "source": [
    "drop view if exists indicator_it_equipment_simulateur_espace ;\n",
    "create view indicator_it_equipment_simulateur_espace\n",
    "as\n",
    "SELECT concat(it.Nom_de_la_salle, it.Nom_de_baie) key_id, it.Nom_de_la_salle, it.Nom_de_baie, r.rack_capacity, sum(CEILING(it.Hauteur_U)) slot_occupied, r.rack_capacity - sum(CEILING(it.Hauteur_U)) free_slot\n",
    "from `IT_Equipment_v2` it\n",
    "INNER JOIN `rack_capacity_map` r ON r.Nom_de_la_salle = it.Nom_de_la_salle and r.Nom_de_baie = it.Nom_de_baie\n",
    "GROUP BY it.Nom_de_la_salle, it.Nom_de_baie\n",
    "ORDER by it.Nom_de_la_salle desc , sum(CEILING(it.Hauteur_U)) desc\n",
    ";"
   ]
  },
  {
   "cell_type": "markdown",
   "id": "aabbe8ac-8b24-42ed-88d0-d936a7367c95",
   "metadata": {},
   "source": [
    "class indicator_simulateur_espace(models.Model):   \n",
    "    id = models.BigAutoField(primary_key=True)\n",
    "    Nom_de_la_salle = models.AutoField()  # Field name made lowercase.\n",
    "    Nom_de_baie = models.CharField(max_length=255)\n",
    "    rack_capacity = models.CharField(max_length=255)\n",
    "    slot_occupied = models.CharField(max_length=255)\n",
    "    free_slot = models.CharField(max_length=255)\n",
    "    class Meta:\n",
    "        managed = False\n",
    "        db_table = \"indicator_it_equipment_simulateur_espace\""
   ]
  },
  {
   "cell_type": "markdown",
   "id": "139ca9f2-57bc-4ff2-ab9e-a0efafd5cd19",
   "metadata": {},
   "source": [
    "SELECT it.nom, it.short_name, it.long_name, it.ASSET_ID, it.Nom_de_la_salle , it.Nom_de_baie, it.Slot_U, it.type, it.Hauteur_U, \n",
    "it.Slot_U + it.Hauteur_U tt,\n",
    "concat()\n",
    "\n",
    "from `IT_Equipment_v2` it\n",
    "-- where Nom_de_la_salle = 'P4' and Nom_de_baie = 'AE17'\n",
    "where Nom_de_la_salle = 'P1' and Nom_de_baie = 'A26'"
   ]
  },
  {
   "cell_type": "markdown",
   "id": "ac34faca-d24a-4955-95b9-36190be9252a",
   "metadata": {},
   "source": [
    "CREATE TABLE `indicator_it_equipment_simulateur_espace` (\n",
    "  `key_id` varchar(255) ,\n",
    "  `Nom_de_la_salle` varchar(255) DEFAULT NULL,\n",
    "  `Nom_de_baie` varchar(255) DEFAULT NULL,\n",
    "  `rack_capacity` varchar(100) NOT NULL,\n",
    "  `slot_occupied` varchar(100) NOT NULL,\n",
    "  `free_slot`varchar(255) NOT NULL,\n",
    "  `occupied_item` varchar(100) NOT NULL,\n",
    "  `free_item` varchar(100) NOT NULL\n",
    ") ENGINE=InnoDB DEFAULT CHARSET=utf8;"
   ]
  },
  {
   "cell_type": "code",
   "execution_count": null,
   "id": "f60276d6-b82a-4feb-a1cc-82a88f319207",
   "metadata": {},
   "outputs": [],
   "source": []
  },
  {
   "cell_type": "markdown",
   "id": "8b2065b4-b7fd-46fe-9e3f-59bd7826504c",
   "metadata": {},
   "source": [
    "CREATE TABLE IF NOT EXISTS `IT_Equipment_rack_description` (\n",
    "  `Type_d_équipement` varchar(5) DEFAULT NULL,\n",
    "  `Is_Loading_Bay_Item` varchar(10) DEFAULT NULL,\n",
    "  `Zone_spécifique_du_quai_de_chargement` varchar(10) DEFAULT NULL,\n",
    "  `Nom` varchar(20) DEFAULT NULL,\n",
    "  `Fabricant` varchar(20) DEFAULT NULL,\n",
    "  `Modèle` varchar(50) DEFAULT NULL,\n",
    "  `Nom_de_la_salle` varchar(2) DEFAULT NULL,\n",
    "  `Allee` varchar(16) DEFAULT NULL,\n",
    "  `Cage` varchar(10) DEFAULT NULL,\n",
    "  `Zone` varchar(10) DEFAULT NULL,\n",
    "  `Project_Name` varchar(64) DEFAULT NULL,\n",
    "  `Puissance_limite_de_la_baie_kW` varchar(5) DEFAULT NULL,\n",
    "  `Puissance_de_la_baie_kW` varchar(5) DEFAULT NULL,\n",
    "  `Nombre_de_U` varchar(2) DEFAULT NULL,\n",
    "  `Espace_occupé_total_en_U` int(2) DEFAULT NULL,\n",
    "  `Espace_disponible_Nombre_total_de_U_libres` int(2) DEFAULT NULL,\n",
    "  `Espace_disponible_U_contigus` int(2) DEFAULT NULL,\n",
    "  `Charge_IT_disponible_KW` varchar(6) DEFAULT NULL,\n",
    "  `Refroidissement_disponible_KW` decimal(6,3) DEFAULT NULL,\n",
    "  `Refroidissement_disponible_venant_de_l_allée_froide_KW` decimal(5,3) DEFAULT NULL,\n",
    "  `Puissance_disponible_KW` varchar(6) DEFAULT NULL,\n",
    "  `Total_de_refrodissement_potentiel_KW` varchar(2) DEFAULT NULL,\n",
    "  `Disponible_pour_un_déploiement_IT` int(1) DEFAULT NULL,\n",
    "  `Etat_d_installation` varchar(8) DEFAULT NULL,\n",
    "  `Date_d_installation_dd_mm_yyyy` varchar(24) DEFAULT NULL,\n",
    "  `Date_de_décommissionnement_dd_mm_yyyy` varchar(10) DEFAULT NULL,\n",
    "  `Armoire_électrique_1_Nom` varchar(42) DEFAULT NULL,\n",
    "  `Armoire_électrique_1_Alimentation_électrique` varchar(28) DEFAULT NULL,\n",
    "  `Armoire_électrique_1_Disjoncteur` varchar(16) DEFAULT NULL,\n",
    "  `Armoire_électrique_2_Nom` varchar(43) DEFAULT NULL,\n",
    "  `Armoire_électrique_2_Alimentation_électrique` varchar(28) DEFAULT NULL,\n",
    "  `Armoire_électrique_3_Nom` varchar(29) DEFAULT NULL,\n",
    "  `Armoire_électrique_3_Alimentation_électrique` varchar(28) DEFAULT NULL,\n",
    "  `Armoire_électrique_4_Nom` varchar(29) DEFAULT NULL,\n",
    "  `Armoire_électrique_2_Disjoncteur` varchar(25) DEFAULT NULL,\n",
    "  `Armoire_électrique_4_Alimentation_électrique` varchar(28) DEFAULT NULL,\n",
    "  `Armoire_électrique_3_Disjoncteur` varchar(16) DEFAULT NULL,\n",
    "  `Nombre_d_équipements_IT_installés` int(2) DEFAULT NULL,\n",
    "  `Repérage_ID` varchar(4) DEFAULT NULL,\n",
    "  `Armoire_électrique_4_Disjoncteur` varchar(25) DEFAULT NULL,\n",
    "  `Position_svt_X_m` decimal(5,3) DEFAULT NULL,\n",
    "  `Position_svt_Z_m` decimal(6,3) DEFAULT NULL,\n",
    "  `Orientation` decimal(5,2) DEFAULT NULL,\n",
    "  `Hauteur_m` decimal(4,3) DEFAULT NULL,\n",
    "  `Largeur_m` decimal(4,3) DEFAULT NULL,\n",
    "  `Profondeur_m` decimal(5,3) DEFAULT NULL,\n",
    "  `Poids_kg` varchar(6) DEFAULT NULL,\n",
    "  `Poids_total_kg` decimal(7,3) DEFAULT NULL,\n",
    "  `Limite_de_poids_kg` varchar(5) DEFAULT NULL,\n",
    "  `Equipement_approximé` int(1) DEFAULT NULL,\n",
    "  `Synchronisé_avec_Gateway` varchar(10) DEFAULT NULL,\n",
    "  `ID_Système_externe` varchar(19) DEFAULT NULL,\n",
    "  `Nombre_d_IT_avec_un_seul_cordon_électrique` int(2) DEFAULT NULL,\n",
    "  `ID_Système_Asset` varchar(19) DEFAULT NULL,\n",
    "  `ID_Système_Allée` varchar(13) DEFAULT NULL,\n",
    "  `ID_Système_Cage` varchar(10) DEFAULT NULL,\n",
    "  `ID_Système_Zone` varchar(10) DEFAULT NULL\n",
    ") ENGINE=InnoDB DEFAULT CHARSET=utf8;"
   ]
  }
 ],
 "metadata": {
  "kernelspec": {
   "display_name": "Python 3 (ipykernel)",
   "language": "python",
   "name": "python3"
  },
  "language_info": {
   "codemirror_mode": {
    "name": "ipython",
    "version": 3
   },
   "file_extension": ".py",
   "mimetype": "text/x-python",
   "name": "python",
   "nbconvert_exporter": "python",
   "pygments_lexer": "ipython3",
   "version": "3.9.7"
  }
 },
 "nbformat": 4,
 "nbformat_minor": 5
}
