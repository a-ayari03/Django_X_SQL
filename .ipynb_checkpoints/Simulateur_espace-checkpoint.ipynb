{
 "cells": [
  {
   "cell_type": "markdown",
   "id": "cd19bb8f-a9c4-4816-af6e-d6952d030b57",
   "metadata": {},
   "source": [
    "# Simulateur d'espace"
   ]
  },
  {
   "cell_type": "markdown",
   "id": "055ba158-73ae-4213-8b65-3c6a96ac10e7",
   "metadata": {},
   "source": [
    "Ce workflow a pour but de simuler l'espace disponible sur chacun des racks afin de permettre une projection des équipes concernant le déplacement des équipements."
   ]
  },
  {
   "cell_type": "markdown",
   "id": "7479638e-2497-411f-b804-10ac1d8699f9",
   "metadata": {},
   "source": [
    "`rack_capacity_map` : cartographie les racks de toutes les salles afin de rajouter la capacité maximale d'un rack défini à -1 unités U. Si -1 le rack n' est pas dispo sur le fichier initial cabinet"
   ]
  },
  {
   "cell_type": "code",
   "execution_count": null,
   "id": "c5b9379c-c1eb-4f90-be9a-ae686d5878c2",
   "metadata": {},
   "outputs": [],
   "source": [
    "drop table if exists rack_capacity_map ;\n",
    "create table rack_capacity_map\n",
    "as \n",
    "SELECT it.Nom_de_la_salle, it.Nom_de_baie, '-1' as rack_capacity\n",
    "from `IT_Equipment_v2` it\n",
    "GROUP BY it.Nom_de_la_salle, it.Nom_de_baie ;"
   ]
  },
  {
   "cell_type": "markdown",
   "id": "9e131c91-6865-4280-a5ed-c8ad577a368b",
   "metadata": {},
   "source": [
    "rajoute les rack non présent sur 6SIGMA mais présent dans le fichier Cabinet et mise à jour des attributs depuis Cabinet"
   ]
  },
  {
   "cell_type": "code",
   "execution_count": null,
   "id": "91efc73c",
   "metadata": {},
   "outputs": [],
   "source": [
    "INSERT INTO `rack_capacity_map`\n",
    "SELECT it2.Nom_de_la_salle, it2.nom, '-1' as rack_capacity from `rack_capacity_map` it \n",
    "RIGHT JOIN `IT_Equipment_rack_description` it2 ON concat(it2.Nom_de_la_salle, it2.nom) = concat(it.Nom_de_la_salle, it.nom_de_baie)\n",
    "where it.nom_de_baie is null"
   ]
  },
  {
   "cell_type": "code",
   "execution_count": null,
   "id": "3d6aee79",
   "metadata": {},
   "outputs": [],
   "source": [
    "update `rack_capacity_map` it\n",
    "inner join `IT_Equipment_rack_description` it2 ON it.Nom_de_la_salle = it2.Nom_de_la_salle and it.nom_de_baie = it2.nom\n",
    "set it.rack_capacity = it2.Nombre_de_U"
   ]
  },
  {
   "cell_type": "markdown",
   "id": "d4d3444f-f7b2-401a-8cdb-294c07224efa",
   "metadata": {},
   "source": [
    "`indicator_it_equipment_simulateur_espace` : indicateur de l'espace disponible pour tous lers rack par rapport à la somme des hauteurs de chaque equipment renseigné sur la CMDB, table intermédiaire qui permet un traitement sur python"
   ]
  },
  {
   "cell_type": "code",
   "execution_count": null,
   "id": "865b69a3",
   "metadata": {},
   "outputs": [],
   "source": [
    "drop table if exists indicator_it_equipment_simulateur_espace_raw ;\n",
    "create table indicator_it_equipment_simulateur_espace_raw\n",
    "as\n",
    "SELECT if(it.Nom_de_baie is not null, concat(it.Nom_de_la_salle, it.Nom_de_baie), concat(r.Nom_de_la_salle, r.Nom_de_baie))  key_id,\n",
    "if(it.Nom_de_la_salle is not null, it.Nom_de_la_salle, r.Nom_de_la_salle) Nom_de_la_salle,\n",
    "if(it.Nom_de_baie is not null, it.Nom_de_baie, r.Nom_de_baie) Nom_de_baie,\n",
    "r.rack_capacity, \n",
    "if(sum(CEILING(it.Hauteur_U)) is not null, sum(CEILING(it.Hauteur_U)), 0) slot_occupied,\n",
    "if(sum(CEILING(it.Hauteur_U)) is not null, r.rack_capacity - sum(CEILING(it.Hauteur_U)), r.rack_capacity) free_slot,\n",
    "if(sum(CEILING(it.Hauteur_U)) is not null, GROUP_CONCAT(concat(it.slot_u, '/', CEILING(it.Hauteur_U))), '') list_occupied_slot\n",
    "from `IT_Equipment_v2` it\n",
    "RIGHT JOIN `rack_capacity_map` r ON r.Nom_de_la_salle = it.Nom_de_la_salle and r.Nom_de_baie = it.Nom_de_baie\n",
    "\n",
    "GROUP BY r.Nom_de_la_salle, r.Nom_de_baie\n",
    "-- ORDER by it.Nom_de_la_salle desc , sum(CEILING(it.Hauteur_U)) desc"
   ]
  },
  {
   "cell_type": "markdown",
   "id": "45a53dce-2fa3-470c-8a31-6ef2919e8a50",
   "metadata": {},
   "source": [
    "#### La table qui est utilisée pour affichage `indicator_it_equipment_simulateur_espace` est générée depuis le pipeline Simulateur_espace depuis python"
   ]
  }
 ],
 "metadata": {
  "kernelspec": {
   "display_name": "Python 3 (ipykernel)",
   "language": "python",
   "name": "python3"
  },
  "language_info": {
   "codemirror_mode": {
    "name": "ipython",
    "version": 3
   },
   "file_extension": ".py",
   "mimetype": "text/x-python",
   "name": "python",
   "nbconvert_exporter": "python",
   "pygments_lexer": "ipython3",
   "version": "3.9.7"
  }
 },
 "nbformat": 4,
 "nbformat_minor": 5
}
