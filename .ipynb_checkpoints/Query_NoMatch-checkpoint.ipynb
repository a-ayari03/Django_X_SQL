{
 "cells": [
  {
   "cell_type": "markdown",
   "id": "a5b21c90",
   "metadata": {},
   "source": [
    "# Creation / Alteration de table"
   ]
  },
  {
   "cell_type": "code",
   "execution_count": null,
   "id": "fd90d4fa",
   "metadata": {},
   "outputs": [],
   "source": [
    "CREATE TABLE IT_Equipment_2 \n",
    "as\n",
    "select * from `IT_Equipment`"
   ]
  },
  {
   "cell_type": "code",
   "execution_count": null,
   "id": "d31cd029",
   "metadata": {},
   "outputs": [],
   "source": [
    "CREATE TABLE it_equipment_match_equipment\n",
    "as\n",
    "SELECT it.asset_id asset_id_it,\n",
    "       it.short_name,\n",
    "       it.nom,\n",
    "       it.status   status_it,\n",
    "       it.modele,\n",
    "       it.reperage_id,\n",
    "       it.hauteur_u,\n",
    "       aa.ASSET_ID ASSET_ID_aa, aa.NOM_COURT NOM_COURT_aa, aa.NOM_LONG NOM_LONG_aa, aa.FABRICANT FABRICANT_aa, aa.MODEL MODEL_aa, aa.DALLE DALLE_aa, aa.SALLE SALLE_aa, aa.Rack Rack_aa, aa.Slot_Begin Slot_Begin_aa, aa.Slot_End Slot_End_aa\n",
    "\n",
    "       \n",
    "FROM   `IT_Equipment` it \n",
    "INNER JOIN `assets_new`aa\n",
    "ON (\n",
    "\tit.Nom_de_la_salle = aa.Salle\n",
    "AND\n",
    "\tit.Nom_de_baie = aa.Rack\n",
    "AND\n",
    "\tit.Slot_U = CONVERT(aa.Slot_Begin, integer)\n",
    "\t)  \n",
    "    \n",
    "WHERE (aa.API = 'FRVLB0C2' or aa.API = 'FRTCRAVA')\n",
    "ORDER BY it.status ASC"
   ]
  },
  {
   "cell_type": "markdown",
   "id": "d34d98a9",
   "metadata": {},
   "source": [
    "# VIEW"
   ]
  },
  {
   "cell_type": "markdown",
   "id": "a879c2fb",
   "metadata": {},
   "source": [
    "it_equipment_all_retired_asset : jointure entre it_equipment et tous les assets retired avec ou sans status."
   ]
  },
  {
   "cell_type": "code",
   "execution_count": null,
   "id": "446c14cf",
   "metadata": {},
   "outputs": [],
   "source": [
    "CREATE VIEW it_equipment_all_retired_asset\n",
    "as\n",
    "SELECT it.asset_id asset_id_it,\n",
    "       it.short_name,\n",
    "       it.nom,\n",
    "       it.status   status_it,\n",
    "       it.modele,\n",
    "       it.reperage_id,\n",
    "       it.hauteur_u,\n",
    "       aa.ASSET_ID ASSET_ID_aa, aa.NOM_COURT NOM_COURT_aa, aa.NOM_LONG NOM_LONG_aa, aa.FABRICANT FABRICANT_aa, aa.MODEL MODEL_aa, aa.DALLE DALLE_aa, aa.SALLE SALLE_aa, aa.Rack Rack_aa, aa.Slot_Begin Slot_Begin_aa, aa.Slot_End Slot_End_aa\n",
    "\n",
    "       \n",
    "FROM   `IT_Equipment` it \n",
    "INNER JOIN `assets_new`aa\n",
    "ON (\n",
    "\tit.Nom_de_la_salle = aa.Salle\n",
    "AND\n",
    "\tit.Nom_de_baie = aa.Rack\n",
    "AND\n",
    "\tit.Slot_U = CONVERT(aa.Slot_Begin, integer)\n",
    "\t)  \n",
    "OR\n",
    "    aa.nom_court = it.nom \n",
    "OR\n",
    "    aa.nom_long = it.nom\n",
    "OR\n",
    "    aa.nom_court = it.short_name\n",
    "OR\n",
    "    aa.nom_long = it.short_name\n",
    "    \n",
    "WHERE aa.etat like 'retired'\n",
    "ORDER BY it.status ASC"
   ]
  },
  {
   "cell_type": "markdown",
   "id": "9ac8f1be",
   "metadata": {},
   "source": [
    "Version condensée de IT_Equipment + jointure avec asset_new uniquement sur la position"
   ]
  },
  {
   "cell_type": "code",
   "execution_count": null,
   "id": "31ad2c24",
   "metadata": {},
   "outputs": [],
   "source": [
    "CREATE VIEW IT_Equipment_match_position_reduced\n",
    "as\n",
    "SELECT it.reperage_id, count(it.reperage_id) as RowNumber\n",
    "\n",
    "FROM   `IT_Equipment` it \n",
    "INNER JOIN `assets_new`aa\n",
    "ON (\n",
    "\tit.Nom_de_la_salle = aa.Salle\n",
    "AND\n",
    "\tit.Nom_de_baie = aa.Rack\n",
    "AND\n",
    "\tit.Slot_U = CONVERT(aa.Slot_Begin, integer)\n",
    "\t)  \n",
    "    \n",
    "WHERE (aa.API = 'FRVLB0C2' or aa.API = 'FRTCRAVA')\n",
    "GROUP BY it.reperage_id"
   ]
  },
  {
   "cell_type": "markdown",
   "id": "fdb0efd8",
   "metadata": {},
   "source": [
    "Regroupement de tous les matchs de position et/ou nom entre IT_equipment sans filtre avec rajout du nombre de match par equipment : Exemple, nom = CH002 correspond à une seule ligne sur IT_Equipment mais à 32 lignes sur Asset = 32 lignes générés avec toutes les infos essentielles"
   ]
  },
  {
   "cell_type": "code",
   "execution_count": null,
   "id": "377f7178",
   "metadata": {},
   "outputs": [],
   "source": [
    "CREATE VIEW IT_Equipment_match_position\n",
    "AS\n",
    "SELECT it.asset_id asset_id_it,\n",
    "       it.short_name,\n",
    "       it.nom,\n",
    "       it.status   status_it,\n",
    "       it.modele,\n",
    "       it.reperage_id,\n",
    "       it.hauteur_u,\n",
    "       aa.ASSET_ID ASSET_ID_aa, aa.NOM_COURT NOM_COURT_aa, aa.NOM_LONG NOM_LONG_aa, aa.FABRICANT FABRICANT_aa, aa.MODEL MODEL_aa, aa.DALLE DALLE_aa, aa.SALLE SALLE_aa, aa.etat, it2.RowNumber\n",
    "\n",
    "       \n",
    "FROM   `IT_Equipment` it \n",
    "INNER JOIN `assets_new`aa\n",
    "ON (\n",
    "\tit.Nom_de_la_salle = aa.Salle\n",
    "AND\n",
    "\tit.Nom_de_baie = aa.Rack\n",
    "AND\n",
    "\tit.Slot_U = CONVERT(aa.Slot_Begin, integer)\n",
    "\t)  \n",
    "INNER JOIN `IT_Equipment_match_position_reduced` it2\n",
    "ON it.reperage_id = it2.reperage_id\n",
    "\n",
    "WHERE (aa.API = 'FRVLB0C2' or aa.API = 'FRTCRAVA') and it2.rowNumber > 1\n",
    "ORDER BY it2.rowNumber desc, Reperage_ID, it.status ASC"
   ]
  },
  {
   "cell_type": "markdown",
   "id": "04251716",
   "metadata": {},
   "source": [
    "Match sur position et nom "
   ]
  },
  {
   "cell_type": "code",
   "execution_count": null,
   "id": "fa1e3c64",
   "metadata": {},
   "outputs": [],
   "source": [
    "CREATE VIEW `IT_Equipment_match_no_proliant_c7000`\n",
    "SELECT it.asset_id asset_id_it,\n",
    "       it.short_name,\n",
    "       it.nom,\n",
    "       it.status   status_it,\n",
    "       it.modele,\n",
    "       it.reperage_id,\n",
    "       it.hauteur_u,\n",
    "       aa.ASSET_ID ASSET_ID_aa, aa.NOM_COURT NOM_COURT_aa, aa.NOM_LONG NOM_LONG_aa, aa.FABRICANT FABRICANT_aa, aa.MODEL MODEL_aa, aa.DALLE DALLE_aa, aa.SALLE SALLE_aa, aa.Rack Rack_aa, aa.Slot_Begin Slot_Begin_aa, aa.Slot_End Slot_End_aa, aa.etat\n",
    "\n",
    "       \n",
    "FROM   `IT_Equipment` it \n",
    "INNER JOIN `assets_new`aa\n",
    "ON (\n",
    "\tit.Nom_de_la_salle = aa.Salle\n",
    "AND\n",
    "\tit.Nom_de_baie = aa.Rack\n",
    "AND\n",
    "\tit.Slot_U = CONVERT(aa.Slot_Begin, integer)\n",
    "\t)  \n",
    "OR\n",
    "    aa.nom_court = it.nom\n",
    "    \n",
    "    \n",
    "WHERE it.status is null\n",
    "ORDER BY it.status ASC"
   ]
  },
  {
   "cell_type": "markdown",
   "id": "2874f9fb",
   "metadata": {},
   "source": [
    "# Query"
   ]
  },
  {
   "cell_type": "markdown",
   "id": "e246004e",
   "metadata": {},
   "source": [
    "### \"EXADATA : No match\""
   ]
  },
  {
   "cell_type": "markdown",
   "id": "9259c3e1",
   "metadata": {},
   "source": [
    "Si \"Fabricant\" = \"Oracle\" -> status \"EXADATA : No match\""
   ]
  },
  {
   "cell_type": "code",
   "execution_count": null,
   "id": "d6fc4603",
   "metadata": {},
   "outputs": [],
   "source": [
    "SELECT nom_de_baie,\n",
    "       nom_de_la_salle,\n",
    "       status,\n",
    "       asset_id,\n",
    "       nom, \n",
    "        Modele,\n",
    "        fabricant,\n",
    "        Reperage_ID\n",
    "FROM   `IT_Equipment` it\n",
    "where it.fabricant like '%oracle%' and (asset_id is null or asset_id ='0') -- and status is null"
   ]
  },
  {
   "cell_type": "code",
   "execution_count": null,
   "id": "1e1ca486",
   "metadata": {},
   "outputs": [],
   "source": []
  },
  {
   "cell_type": "markdown",
   "id": "9b5b7175",
   "metadata": {},
   "source": [
    "### \"Netapp : No match\""
   ]
  },
  {
   "cell_type": "markdown",
   "id": "10235945",
   "metadata": {},
   "source": [
    "Si \"Fabricant\" = \"Netapp\" -> status \"Netapp : No match\""
   ]
  },
  {
   "cell_type": "code",
   "execution_count": null,
   "id": "15749152",
   "metadata": {},
   "outputs": [],
   "source": [
    "SELECT nom_de_baie,\n",
    "       nom_de_la_salle,\n",
    "       status,\n",
    "       asset_id,\n",
    "       nom, \n",
    "        Modele,\n",
    "        fabricant,\n",
    "        Reperage_ID\n",
    "FROM   `IT_Equipment` it\n",
    "where it.fabricant like '%netapp%' and (asset_id is null or asset_id ='0') -- status is null"
   ]
  },
  {
   "cell_type": "markdown",
   "id": "2a7c3e2e",
   "metadata": {},
   "source": [
    "### \"PCP : No Match\""
   ]
  },
  {
   "cell_type": "markdown",
   "id": "6c378340",
   "metadata": {},
   "source": [
    "Si \"Nom\" contient \"_Rack\" -> \"PCP : No Match\""
   ]
  },
  {
   "cell_type": "code",
   "execution_count": null,
   "id": "3fb5db77",
   "metadata": {},
   "outputs": [],
   "source": [
    "SELECT nom_de_baie,\n",
    "       nom_de_la_salle,\n",
    "       status,\n",
    "       asset_id,\n",
    "       nom, \n",
    "        Modele,\n",
    "        fabricant,\n",
    "        Reperage_ID\n",
    "FROM   `IT_Equipment` it\n",
    "where (it.Nom like '%_Rack%' or it.short_name like '%_Rack%') and (asset_id is null or asset_id ='0') and status is null"
   ]
  },
  {
   "cell_type": "markdown",
   "id": "0c274805",
   "metadata": {},
   "source": [
    "# Update"
   ]
  },
  {
   "cell_type": "markdown",
   "id": "54a158de",
   "metadata": {},
   "source": [
    "### \"EXADATA : No match\""
   ]
  },
  {
   "cell_type": "markdown",
   "id": "9d8cd74f",
   "metadata": {},
   "source": [
    "Si \"Fabricant\" = \"Oracle\" -> status \"EXADATA : No match\""
   ]
  },
  {
   "cell_type": "code",
   "execution_count": null,
   "id": "830c7dec",
   "metadata": {},
   "outputs": [],
   "source": [
    "57 rows\n",
    "UPDATE `IT_Equipment` it\n",
    "SET it.status = 'EXADATA : No match'\n",
    "where it.fabricant like '%oracle%' and (asset_id is null or asset_id ='0') and status is null"
   ]
  },
  {
   "cell_type": "markdown",
   "id": "4c0bcaba",
   "metadata": {},
   "source": [
    "### \"Netapp : No match\""
   ]
  },
  {
   "cell_type": "markdown",
   "id": "bc4bbeda",
   "metadata": {},
   "source": [
    "Si \"Fabricant\" = \"Netapp\" -> status \"Netapp : No match\""
   ]
  },
  {
   "cell_type": "code",
   "execution_count": null,
   "id": "82febf92",
   "metadata": {},
   "outputs": [],
   "source": [
    "57 rows\n",
    "UPDATE `IT_Equipment` it\n",
    "SET it.status = 'Netapp : No match'\n",
    "where it.fabricant like '%netapp%' and (asset_id is null or asset_id ='0') and status is null"
   ]
  },
  {
   "cell_type": "markdown",
   "id": "2838febf",
   "metadata": {},
   "source": [
    "### \"PCP : No Match\""
   ]
  },
  {
   "cell_type": "markdown",
   "id": "701320fe",
   "metadata": {},
   "source": [
    "Si \"Nom\" contient \"_Rack\" -> \"PCP : No Match\""
   ]
  },
  {
   "cell_type": "code",
   "execution_count": null,
   "id": "3063853c",
   "metadata": {},
   "outputs": [],
   "source": [
    "61 rows\n",
    "UPDATE `IT_Equipment` it\n",
    "SET it.status = 'PCP : No Match'\n",
    "where (it.Nom like '%_Rack%' or it.short_name like '%_Rack%') and (asset_id is null or asset_id ='0') and status is null"
   ]
  },
  {
   "cell_type": "markdown",
   "id": "71493aee",
   "metadata": {},
   "source": [
    "## Sur Asset.Filtree, prendre la liste de \"Fabricant\" = \"HDS\", prendre les 5 lettres près \"-\" ou \"_\", pur croiser avec \"IT_Equipement\" = \"Hitachi\" en cherchant avec les 5 lettres "
   ]
  },
  {
   "cell_type": "code",
   "execution_count": null,
   "id": "a124e675",
   "metadata": {},
   "outputs": [],
   "source": [
    "116 rows\n",
    "UPDATE `IT_Equipment` it \n",
    "INNER JOIN `IT_Equipment_cleaning_Hitachi` hit on hit.it_nom = it.nom\n",
    "LEFT JOIN `assets_filtree` aa on UPPER(REPLACE(REPLACE(aa.nom_court,'_',''),'-','')) = hit.clean_name\n",
    "\n",
    "SET it.status = (\n",
    "\t\t\t\tCASE WHEN aa.asset_id is null and it.status is null then 'Hitashi : No match'\n",
    "    \t\t\tWHEN aa.asset_id is not null and it.status is null then concat('HDS : ',aa.asset_id)\n",
    "    \t\t\tEND \n",
    "    \t\t\t)\n",
    "                \n",
    "WHERE it.Fabricant like '%Hitachi%'"
   ]
  },
  {
   "cell_type": "markdown",
   "id": "ded41cac",
   "metadata": {},
   "source": [
    "# Nombre de match par position "
   ]
  },
  {
   "cell_type": "markdown",
   "id": "10338d79",
   "metadata": {},
   "source": [
    "On effectue une jointure entre une nouvelle table IT_Equipment_2 et asset_new et on check tous les matchs par rapport à la position uniquement"
   ]
  },
  {
   "cell_type": "markdown",
   "id": "3f3b1ab7",
   "metadata": {},
   "source": [
    "- 1/ View intemédiaire : IT_Equipment_match_position_reduced qui permet de regroupé le nombre de match de position (Salle/Rack/Slot U) par dalle\n",
    "- 2/ Jointure entre la nouvelle table IT_Equipment_2 et asset_new pour avoir tous les matchs par positions sans distinction particulière sur son état\n",
    "- 3 / On rajoute avec une seconde jointure le nombre de match par position dans le nouvel attribut status "
   ]
  },
  {
   "cell_type": "markdown",
   "id": "c934dfe6",
   "metadata": {},
   "source": [
    "####  /!\\ La vue IT_Equipment_match_position permet de voir tous les match effectuées avec les correspondances it_equipments et asset /!\\"
   ]
  },
  {
   "cell_type": "code",
   "execution_count": null,
   "id": "66fe8d4d",
   "metadata": {},
   "outputs": [],
   "source": [
    "UPDATE `IT_Equipment_2` it \n",
    "INNER JOIN `assets_new`aa\n",
    "ON (\n",
    "\tit.Nom_de_la_salle = aa.Salle\n",
    "AND\n",
    "\tit.Nom_de_baie = aa.Rack\n",
    "AND\n",
    "\tit.Slot_U = CONVERT(aa.Slot_Begin, integer)\n",
    "\t)  \n",
    "INNER JOIN `IT_Equipment_match_position_reduced` it2\n",
    "ON it.reperage_id = it2.reperage_id\n",
    "\n",
    "SET it.status = Concat('Status = MATCH-POSITION : ', it2.rowNumber)\n"
   ]
  },
  {
   "cell_type": "markdown",
   "id": "d10f456d",
   "metadata": {},
   "source": [
    "## Match sur les equipements sans status avec un etat dans la CMDB différent de Install"
   ]
  },
  {
   "cell_type": "code",
   "execution_count": null,
   "id": "1cea5999",
   "metadata": {},
   "outputs": [],
   "source": [
    "UPDATE `IT_Equipment` it \n",
    "INNER JOIN `assets_new`aa\n",
    "ON (\n",
    "\tit.Nom_de_la_salle = aa.Salle\n",
    "AND\n",
    "\tit.Nom_de_baie = aa.Rack\n",
    "AND\n",
    "\tit.Slot_U = CONVERT(aa.Slot_Begin, integer)\n",
    "\t)  \n",
    "OR\n",
    "    aa.nom_court = it.nom\n",
    "    \n",
    "SET it.status = 'MATCH-CMDB : HORS Status Install'\n",
    "WHERE it.status is null and (aa.api = 'FRVLB0C2' or aa.api = 'FRTCRAVA')"
   ]
  }
 ],
 "metadata": {
  "kernelspec": {
   "display_name": "Python 3 (ipykernel)",
   "language": "python",
   "name": "python3"
  },
  "language_info": {
   "codemirror_mode": {
    "name": "ipython",
    "version": 3
   },
   "file_extension": ".py",
   "mimetype": "text/x-python",
   "name": "python",
   "nbconvert_exporter": "python",
   "pygments_lexer": "ipython3",
   "version": "3.9.7"
  }
 },
 "nbformat": 4,
 "nbformat_minor": 5
}
