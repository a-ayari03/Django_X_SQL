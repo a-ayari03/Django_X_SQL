{
 "cells": [
  {
   "cell_type": "markdown",
   "id": "891feae6-edfb-4855-811e-4bb0a56cdf24",
   "metadata": {},
   "source": [
    "## Master_Plan_Global_P2_only"
   ]
  },
  {
   "cell_type": "markdown",
   "id": "91654043-5531-4cad-8ab5-fcf96bc5a520",
   "metadata": {},
   "source": [
    "#### But : Identifier les equipements du masterplan présent sur la dernière iteration de IT_Equipment afin de simuler l'espace disponible lorsque tous les equipements seront retirer"
   ]
  },
  {
   "cell_type": "code",
   "execution_count": null,
   "id": "4d8ffd12-f673-4b18-94e4-82da1d740e4f",
   "metadata": {},
   "outputs": [],
   "source": [
    "DROP table if EXISTS Master_Plan_Global_P2_only ;# MySQL returned an empty result set (i.e. zero rows).\n",
    "CREATE table Master_Plan_Global_P2_only\n",
    "as\n",
    "select * from `Master_Plan_Global`\n",
    "where room = 'P2' \n",
    "-- and (PR_SCOPE like 'ACN_%' OR PR_SCOPE like 'RN_%')\n",
    ";# 908 rows affected."
   ]
  },
  {
   "cell_type": "markdown",
   "id": "b045e086-bdbb-4c00-b344-187723ffc86f",
   "metadata": {},
   "source": [
    "select mp.ASSET_ID, mp.SHORT_NAME, mp.LONG_NAME, mp.MODEL, mp.ENVIRONMENT, mp.CONTAINER, mp.COMPANY, mp.STATE, mp.api, mp.ROOM, mp.dalle, mp.RACK_ID, mp.Size_U, mp.ROOM_TARGET, mp.PR_SCOPE  \n",
    "from `Master_Plan_Global` mp"
   ]
  },
  {
   "cell_type": "markdown",
   "id": "cd3dd0d7-f635-4fe7-907e-78e664d85492",
   "metadata": {},
   "source": [
    "select mp.ASSET_ID, mp.SHORT_NAME, mp.LONG_NAME, mp.MODEL, mp.ENVIRONMENT, mp.CONTAINER, mp.COMPANY, mp.STATE, mp.api, mp.ROOM, mp.dalle, mp.RACK_ID, mp.Size_U, mp.ROOM_TARGET, mp.PR_SCOPE, it.nom  \n",
    "from `Master_Plan_Global` mp\n",
    "INNER JOIN `IT_Equipment_v2` it ON it.asset_id = mp.ASSET_ID"
   ]
  },
  {
   "cell_type": "code",
   "execution_count": null,
   "id": "35eeda76-1fb8-470b-9496-c529f079632a",
   "metadata": {},
   "outputs": [],
   "source": [
    "DROP VIEW IF EXISTS IT_Equipment_x_Master_plan_P2 ;# MySQL returned an empty result set (i.e. zero rows).\n",
    "create view IT_Equipment_x_Master_plan_P2\n",
    "as\n",
    "select it.ASSET_ID, it.nom, it.SHORT_NAME, it.Modele, it.Fabricant, it.Nom_de_la_salle, it.Nom_de_baie, it.Reperage_ID, it.Hauteur_U, it.Type, mp.SHORT_NAME Master_Plan_name,\n",
    "  (CASE \n",
    "   WHEN mp.short_name is not null and mp.asset_id is null then 'short_name found'\n",
    "   WHEN mp.short_name is null and mp.asset_id is not null then 'asset_id found'\n",
    "   WHEN mp.short_name is not null and mp.asset_id is not null then 'found'\n",
    "   WHEN mp.short_name is null and mp.asset_id is null then 'not found'\n",
    "   END) Master_plan_status ,\n",
    "mp.PR_SCOPE, mp.ROOM Master_plan_salle, mp.dalle Master_plan_dalle, mp.RACK_ID Master_plan_rack, mp.Size_U Master_plan_hauteur\n",
    "\n",
    " \n",
    "from `IT_Equipment_v2` it\n",
    "LEFT JOIN `Master_Plan_Global_P2_only` mp ON it.ASSET_ID = mp.asset_id or it.short_name = mp.short_name\n",
    "where nom_de_la_salle = 'P2'\n",
    "GROUP by it.ASSET_ID# MySQL returned an empty result set (i.e. zero rows)."
   ]
  },
  {
   "cell_type": "code",
   "execution_count": null,
   "id": "54753e47-48b2-485f-9da9-03d89e3a5461",
   "metadata": {},
   "outputs": [],
   "source": [
    "drop view if exists IT_Equipment_with_equipment_removed ;\n",
    "create view IT_Equipment_with_equipment_removed\n",
    "as\n",
    "select it.* from `IT_Equipment_v2` it \n",
    "INNER JOIN `IT_Equipment_x_Master_plan_P2` mp  ON it.ASSET_ID = mp.asset_id or it.short_name = mp.short_name\n",
    "where master_plan_status = 'not found' and it.Nom_de_la_salle = 'P2'"
   ]
  }
 ],
 "metadata": {
  "kernelspec": {
   "display_name": "Python 3 (ipykernel)",
   "language": "python",
   "name": "python3"
  },
  "language_info": {
   "codemirror_mode": {
    "name": "ipython",
    "version": 3
   },
   "file_extension": ".py",
   "mimetype": "text/x-python",
   "name": "python",
   "nbconvert_exporter": "python",
   "pygments_lexer": "ipython3",
   "version": "3.9.7"
  }
 },
 "nbformat": 4,
 "nbformat_minor": 5
}
