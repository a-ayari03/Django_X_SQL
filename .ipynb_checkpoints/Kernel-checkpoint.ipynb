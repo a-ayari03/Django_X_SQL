{
 "cells": [
  {
   "cell_type": "code",
   "execution_count": 1,
   "id": "73d8e1f8",
   "metadata": {},
   "outputs": [],
   "source": [
    "#!pip3 install --user sqlalchemy"
   ]
  },
  {
   "cell_type": "code",
   "execution_count": 2,
   "id": "48ba55a9",
   "metadata": {},
   "outputs": [],
   "source": [
    "#!pip3 install --user mysql-connector-python"
   ]
  },
  {
   "cell_type": "code",
   "execution_count": 3,
   "id": "d7de6abe",
   "metadata": {},
   "outputs": [],
   "source": [
    "#!pip3 install --user numpy\n",
    "#!pip3 install --user pandas"
   ]
  },
  {
   "cell_type": "code",
   "execution_count": 6,
   "id": "daec262d",
   "metadata": {},
   "outputs": [],
   "source": [
    "#!pip3 install --user tqdm"
   ]
  },
  {
   "cell_type": "code",
   "execution_count": 1,
   "id": "6d059a0e",
   "metadata": {},
   "outputs": [],
   "source": [
    "import pandas as pd\n",
    "import numpy as np\n",
    "import mysql.connector\n",
    "from mysql.connector import Error\n",
    "import os\n",
    "import regex as re\n",
    "import datetime \n",
    "import shutil\n",
    "from tqdm import tqdm\n",
    "from Kernel_lib import *"
   ]
  },
  {
   "cell_type": "markdown",
   "id": "eaf4ef99",
   "metadata": {},
   "source": [
    "# Connection / Creation d'une DB"
   ]
  },
  {
   "cell_type": "code",
   "execution_count": 2,
   "id": "418cdfcb",
   "metadata": {},
   "outputs": [
    {
     "name": "stdout",
     "output_type": "stream",
     "text": [
      "MySQL Database connection successful\n"
     ]
    }
   ],
   "source": [
    "host_name = \"localhost\"\n",
    "user_name = \"alexandre\"\n",
    "user_password = \"Sigma64ever\"\n",
    "\n",
    "connection = create_server_connection(host_name, user_name, user_password)"
   ]
  },
  {
   "cell_type": "code",
   "execution_count": 3,
   "id": "536956dc",
   "metadata": {},
   "outputs": [
    {
     "name": "stdout",
     "output_type": "stream",
     "text": [
      "MySQL Database connection successful\n"
     ]
    }
   ],
   "source": [
    "db_name = 'base6sigma'\n",
    "connection = create_db_connection(host_name, user_name, user_password, db_name)"
   ]
  },
  {
   "cell_type": "markdown",
   "id": "b26c4ef7",
   "metadata": {},
   "source": [
    "# Loading csv"
   ]
  },
  {
   "cell_type": "code",
   "execution_count": 92,
   "id": "dbec0235",
   "metadata": {},
   "outputs": [],
   "source": [
    "def get_csv_to_df(filepath : str, filename = None , datetime = None) :\n",
    "    try :\n",
    "        \n",
    "        df = pd.read_csv(filepath, header = None, delimiter = ',', encoding='latin-1') \n",
    "        if filename != None or datetime != None : \n",
    "            df[\"SOURCES\"] = filename\n",
    "            df['timestamp'] = datetime.strftime('%d-%m-%y')\n",
    "        if \"asset_id\" in str(df.iloc[0].str.lower().values).lower().strip() :    # if csv have header\n",
    "            df = pd.read_csv(filepath, header = 0, delimiter = ',', encoding='latin-1') \n",
    "            if filename != None or datetime != None : \n",
    "                df[\"SOURCES\"] = filename\n",
    "                df['timestamp'] = datetime.strftime('%d-%m-%y')\n",
    "        \n",
    "    except pd.errors.ParserError:\n",
    "        df = pd.read_csv(filepath, header = None, delimiter = ';', encoding='latin-1') \n",
    "        if filename != None or datetime != None : \n",
    "            df[\"SOURCES\"] = filename\n",
    "            df['timestamp'] = datetime.strftime('%d-%m-%y')\n",
    "        if \"asset_id\" in str(df.iloc[0].str.lower().values).lower().strip() :    # if csv have header\n",
    "            df = pd.read_csv(filepath, header = 0, delimiter = ';', encoding='latin-1') \n",
    "            if filename != None or datetime != None : \n",
    "                df[\"SOURCES\"] = filename\n",
    "                df['timestamp'] = datetime.strftime('%d-%m-%y')\n",
    "    \n",
    "    return df"
   ]
  },
  {
   "cell_type": "code",
   "execution_count": 82,
   "id": "b334e976",
   "metadata": {},
   "outputs": [],
   "source": [
    "def populating_table_query(connection, df, file) :\n",
    "    \"\"\"\n",
    "    SQL query for insert into table based on a Dataframe\n",
    "    \"\"\"\n",
    "    LOG_EVERY_N = 2000\n",
    "    for i, row in tqdm(df.iterrows(), total = df.shape[0] :\n",
    "        query = f\"INSERT `{file}` VALUES (\"+ \"%s,\"*(len(row)-1)+ \"%s)\"\n",
    "        \n",
    "        cursor = connection.cursor()\n",
    "        try:\n",
    "\n",
    "            cursor.execute(query, tuple(row))\n",
    "            connection.commit() # implement our query \n",
    "            if (i % LOG_EVERY_N) == 0 :\n",
    "                print(f\"Record inserted n°{i}\")\n",
    "        except Error as err:\n",
    "            if (i % LOG_EVERY_N) == 0 :\n",
    "                print(f\"Error: '{err}'\")"
   ]
  },
  {
   "cell_type": "markdown",
   "id": "40b15583",
   "metadata": {},
   "source": [
    "# Insert into a base"
   ]
  },
  {
   "cell_type": "code",
   "execution_count": 32,
   "id": "429d65be",
   "metadata": {},
   "outputs": [],
   "source": [
    "#CREATE_TABLE_SCHEME_PATH = \"/home/alexandre/Downloads/It_equipment_sql_query.txt\"\n",
    "#file = \"IT_Equipment_records\"\n",
    "CREATE_TABLE_SCHEME_PATH = \"/home/alexandre/Downloads/olivier_it_sql_query.txt\"\n",
    "file = \"olivier_it\""
   ]
  },
  {
   "cell_type": "code",
   "execution_count": 33,
   "id": "09da8a90",
   "metadata": {},
   "outputs": [],
   "source": [
    "with open(CREATE_TABLE_SCHEME_PATH,'r') as f:\n",
    "    scheme = f.read()"
   ]
  },
  {
   "cell_type": "markdown",
   "id": "4131309d",
   "metadata": {},
   "source": [
    "### delete values"
   ]
  },
  {
   "cell_type": "code",
   "execution_count": 34,
   "id": "e29f47f6",
   "metadata": {},
   "outputs": [
    {
     "name": "stdout",
     "output_type": "stream",
     "text": [
      "Query successful\n"
     ]
    }
   ],
   "source": [
    "#ex = execute_query(connection, f\"DROP TABLE `{file}`\")\n",
    "#ex = execute_query(connection, f\"DELETE `{file}`\")"
   ]
  },
  {
   "cell_type": "markdown",
   "id": "d6f0ecf7",
   "metadata": {},
   "source": [
    "### Create table "
   ]
  },
  {
   "cell_type": "code",
   "execution_count": 35,
   "id": "d7ad6b4b",
   "metadata": {},
   "outputs": [
    {
     "name": "stdout",
     "output_type": "stream",
     "text": [
      "Error: 'Use cmd_query_iter for statements with multiple queries.'\n"
     ]
    }
   ],
   "source": [
    "#ex = execute_query(connection, scheme)"
   ]
  },
  {
   "cell_type": "code",
   "execution_count": 49,
   "id": "38a1c46f-6786-484f-ac2d-ea197df62812",
   "metadata": {},
   "outputs": [
    {
     "data": {
      "text/plain": [
       "True"
      ]
     },
     "execution_count": 49,
     "metadata": {},
     "output_type": "execute_result"
    }
   ],
   "source": []
  },
  {
   "cell_type": "code",
   "execution_count": 31,
   "id": "c57e392c-aa97-4c1f-913b-b2fbd0d5d8f1",
   "metadata": {},
   "outputs": [
    {
     "ename": "AttributeError",
     "evalue": "'numpy.float64' object has no attribute 'lower'",
     "output_type": "error",
     "traceback": [
      "\u001b[1;31m---------------------------------------------------------------------------\u001b[0m",
      "\u001b[1;31mAttributeError\u001b[0m                            Traceback (most recent call last)",
      "\u001b[1;32m~\\AppData\\Local\\Temp/ipykernel_20324/4230552755.py\u001b[0m in \u001b[0;36m<module>\u001b[1;34m\u001b[0m\n\u001b[1;32m----> 1\u001b[1;33m \u001b[1;33m[\u001b[0m\u001b[0mx\u001b[0m\u001b[1;33m.\u001b[0m\u001b[0mlower\u001b[0m\u001b[1;33m(\u001b[0m\u001b[1;33m)\u001b[0m\u001b[1;33m.\u001b[0m\u001b[0mstrip\u001b[0m\u001b[1;33m(\u001b[0m\u001b[1;33m)\u001b[0m \u001b[1;32mfor\u001b[0m \u001b[0mx\u001b[0m \u001b[1;32min\u001b[0m \u001b[0mlist\u001b[0m\u001b[1;33m(\u001b[0m\u001b[0mdf\u001b[0m\u001b[1;33m.\u001b[0m\u001b[0miloc\u001b[0m\u001b[1;33m[\u001b[0m\u001b[1;36m0\u001b[0m\u001b[1;33m]\u001b[0m\u001b[1;33m.\u001b[0m\u001b[0mvalues\u001b[0m\u001b[1;33m)\u001b[0m\u001b[1;33m]\u001b[0m\u001b[1;33m\u001b[0m\u001b[1;33m\u001b[0m\u001b[0m\n\u001b[0m",
      "\u001b[1;32m~\\AppData\\Local\\Temp/ipykernel_20324/4230552755.py\u001b[0m in \u001b[0;36m<listcomp>\u001b[1;34m(.0)\u001b[0m\n\u001b[1;32m----> 1\u001b[1;33m \u001b[1;33m[\u001b[0m\u001b[0mx\u001b[0m\u001b[1;33m.\u001b[0m\u001b[0mlower\u001b[0m\u001b[1;33m(\u001b[0m\u001b[1;33m)\u001b[0m\u001b[1;33m.\u001b[0m\u001b[0mstrip\u001b[0m\u001b[1;33m(\u001b[0m\u001b[1;33m)\u001b[0m \u001b[1;32mfor\u001b[0m \u001b[0mx\u001b[0m \u001b[1;32min\u001b[0m \u001b[0mlist\u001b[0m\u001b[1;33m(\u001b[0m\u001b[0mdf\u001b[0m\u001b[1;33m.\u001b[0m\u001b[0miloc\u001b[0m\u001b[1;33m[\u001b[0m\u001b[1;36m0\u001b[0m\u001b[1;33m]\u001b[0m\u001b[1;33m.\u001b[0m\u001b[0mvalues\u001b[0m\u001b[1;33m)\u001b[0m\u001b[1;33m]\u001b[0m\u001b[1;33m\u001b[0m\u001b[1;33m\u001b[0m\u001b[0m\n\u001b[0m",
      "\u001b[1;31mAttributeError\u001b[0m: 'numpy.float64' object has no attribute 'lower'"
     ]
    }
   ],
   "source": [
    "[x.lower().strip() for x in s(df.iloc[0].values)]"
   ]
  },
  {
   "cell_type": "code",
   "execution_count": null,
   "id": "37ac19ed-e7f3-423c-8c52-6769fb93de09",
   "metadata": {},
   "outputs": [],
   "source": [
    "\"ASSET_ID\" in "
   ]
  },
  {
   "cell_type": "markdown",
   "id": "f2a62a34",
   "metadata": {},
   "source": [
    "# Populate record"
   ]
  },
  {
   "cell_type": "markdown",
   "id": "eb591394",
   "metadata": {},
   "source": [
    "## Get csv file"
   ]
  },
  {
   "cell_type": "code",
   "execution_count": 54,
   "id": "0a62a052",
   "metadata": {},
   "outputs": [],
   "source": [
    "def get_datetime(file : str, keyword : str) -> tuple :\n",
    "    \"\"\"\n",
    "    Get datetime in file title with keyword . Exemple : 'IT_Equipment.10.03.2022.csv' has been edited the 10-03-2022.\n",
    "    Output :\n",
    "    ---\n",
    "        tuple\n",
    "    \"\"\"\n",
    "    if \".csv\" in file and  keyword in file :\n",
    "        regex = re.split('\\.', file)\n",
    "        if len(regex) == 5 :    # [\"filename\", day, month, year, \"csv\"]\n",
    "            regex = regex[1:-1] \n",
    "            if len(regex[-1]) == 2 :    # year = 22 in place of 2022\n",
    "                regex[-1] = \"20\" + regex[-1]\n",
    "\n",
    "            if ~any(c.isalpha() for c in regex) :    # Any alphabetic character means wrong file \n",
    "                time = datetime.datetime(day = int(regex[0]), month = int(regex[1]), year = int(regex[2]))\n",
    "            \n",
    "        else :\n",
    "            time = None\n",
    "            file = None\n",
    "    else :\n",
    "        time = None\n",
    "        file = None\n",
    "\n",
    "    return (time, file)\n",
    "    "
   ]
  },
  {
   "cell_type": "code",
   "execution_count": 55,
   "id": "48d5e88a",
   "metadata": {},
   "outputs": [],
   "source": [
    "def check_create_directory(path: str) :\n",
    "    \"\"\"\n",
    "    Check if path exist, if not create every intermediate folder\n",
    "    \"\"\"\n",
    "\n",
    "    if os.path.exists(path) == False :\n",
    "        os.makedirs(path)\n",
    "    return True"
   ]
  },
  {
   "cell_type": "code",
   "execution_count": 56,
   "id": "471e1f64",
   "metadata": {},
   "outputs": [],
   "source": [
    "def move_to_folder(file: str, current_folder: str, new_folder: str) :\n",
    "    \"\"\"\n",
    "    Move a file to a specified folder\n",
    "    \"\"\"\n",
    "    current_file = os.path.join(current_folder, file)\n",
    "    new_file = os.path.join(new_folder, file)\n",
    "    shutil.move(current_file, new_file)\n",
    "    \n",
    "    return True"
   ]
  },
  {
   "cell_type": "code",
   "execution_count": 85,
   "id": "eef08eeb-4314-424b-91c4-0a9b827273de",
   "metadata": {},
   "outputs": [],
   "source": [
    "database_name = {\"IT_Equipment\": \"IT_Equipment\",\n",
    "                 \"Assets_new\": \"Assets\",\n",
    "                 \"Olivier_it\": \"Olivier_it\"\n",
    "                }\n",
    "database_file = {}\n",
    "database_scheme = {}"
   ]
  },
  {
   "cell_type": "code",
   "execution_count": 67,
   "id": "8d30494c",
   "metadata": {},
   "outputs": [],
   "source": [
    "PARENT_PATH = './' # Must contain every csv file\n",
    "ARCHIVE_PATH = '/historique' # Folder for archive"
   ]
  },
  {
   "cell_type": "code",
   "execution_count": 68,
   "id": "ec1d3e09",
   "metadata": {},
   "outputs": [],
   "source": [
    "def take_first_item(elem):\n",
    "    return elem[0]"
   ]
  },
  {
   "cell_type": "code",
   "execution_count": 72,
   "id": "588a6fc1",
   "metadata": {
    "scrolled": true
   },
   "outputs": [
    {
     "data": {
      "text/plain": [
       "['.git',\n",
       " '.ipynb_checkpoints',\n",
       " 'Archive',\n",
       " 'assets_C2C3_12.06.2022.csv',\n",
       " 'assets_new_sql_query.txt',\n",
       " 'Audit',\n",
       " 'drive-download-20220614T184439Z-001.zip',\n",
       " 'It_Equipment',\n",
       " 'IT_Equipment.13.06.2022.csv',\n",
       " 'It_equipment_sql_query.txt',\n",
       " 'Kernel.ipynb',\n",
       " 'Kernel_lib.py',\n",
       " 'Olivier_it',\n",
       " 'olivier_it.13.06.2022.csv',\n",
       " 'olivier_it_sql_query.txt',\n",
       " 'Olivier_it_Workflow.ipynb',\n",
       " 'Query_Launcher.py',\n",
       " 'README.md',\n",
       " 'v5_readme',\n",
       " 'Workflow.ipynb',\n",
       " '__pycache__']"
      ]
     },
     "execution_count": 72,
     "metadata": {},
     "output_type": "execute_result"
    }
   ],
   "source": [
    "dir_ls = os.listdir(PARENT_PATH)   # list all csv file\n",
    "dir_ls"
   ]
  },
  {
   "cell_type": "code",
   "execution_count": 86,
   "id": "c0a32986-40e5-49dc-88b0-ddda77546966",
   "metadata": {},
   "outputs": [
    {
     "name": "stdout",
     "output_type": "stream",
     "text": [
      "db name : IT_Equipment // keyword : IT_Equipment\n",
      "IT_Equipment.13.06.2022.csv\n",
      "-----\n",
      "db name : Assets_new // keyword : Assets\n",
      "assets_C2C3_12.06.2022.csv\n",
      "-----\n",
      "db name : Olivier_it // keyword : Olivier_it\n",
      "olivier_it.13.06.2022.csv\n",
      "-----\n"
     ]
    }
   ],
   "source": [
    "for db_name in database_name :\n",
    "    key = database_name[db_name]\n",
    "    print(f\"db name : {db_name} // keyword : {key}\")\n",
    "    for file in dir_ls : \n",
    "        if key.lower().strip() in file.lower().strip() and \".csv\" in file :\n",
    "            print(file)\n",
    "            print('-'*5)\n",
    "            database_file[db_name] = os.path.join(PARENT_PATH, file)\n",
    "        if key.lower().strip() in file.lower().strip() and \"sql_query\" in file : \n",
    "            database_scheme[db_name] = os.path.join(PARENT_PATH, file)\n",
    "            \n"
   ]
  },
  {
   "cell_type": "code",
   "execution_count": 84,
   "id": "05d9a51d-ed48-4d98-8cc9-c29a2fe452a8",
   "metadata": {},
   "outputs": [
    {
     "data": {
      "text/plain": [
       "{'IT_Equipment': './IT_Equipment.13.06.2022.csv',\n",
       " 'Assets_new': './assets_C2C3_12.06.2022.csv',\n",
       " 'Olivier_it': './olivier_it.13.06.2022.csv'}"
      ]
     },
     "execution_count": 84,
     "metadata": {},
     "output_type": "execute_result"
    }
   ],
   "source": [
    "database_file"
   ]
  },
  {
   "cell_type": "code",
   "execution_count": 87,
   "id": "ab74c8a5-325a-44ea-a30a-3ea4cc9b1cfd",
   "metadata": {},
   "outputs": [
    {
     "data": {
      "text/plain": [
       "{'IT_Equipment': './It_equipment_sql_query.txt',\n",
       " 'Assets_new': './assets_new_sql_query.txt',\n",
       " 'Olivier_it': './olivier_it_sql_query.txt'}"
      ]
     },
     "execution_count": 87,
     "metadata": {},
     "output_type": "execute_result"
    }
   ],
   "source": [
    "database_scheme"
   ]
  },
  {
   "cell_type": "code",
   "execution_count": null,
   "id": "e6ebe3f8-8d5e-4221-9fc7-e46a558741e1",
   "metadata": {},
   "outputs": [],
   "source": []
  },
  {
   "cell_type": "code",
   "execution_count": 97,
   "id": "f5817deb-d62a-4595-8c09-edeafc94922d",
   "metadata": {},
   "outputs": [
    {
     "name": "stdout",
     "output_type": "stream",
     "text": [
      "db name : IT_Equipment // keyword : IT_Equipment\n",
      "db name : Assets_new // keyword : Assets\n"
     ]
    },
    {
     "name": "stderr",
     "output_type": "stream",
     "text": [
      "C:\\Users\\alexa\\AppData\\Local\\Temp/ipykernel_20324/2718433161.py:6: DtypeWarning: Columns (38,39,43,49,50,51) have mixed types.Specify dtype option on import or set low_memory=False.\n",
      "  df = get_csv_to_df(filepath)\n",
      "C:\\Users\\alexa\\AppData\\Local\\Temp/ipykernel_20324/2718433161.py:6: DtypeWarning: Columns (38,39,43) have mixed types.Specify dtype option on import or set low_memory=False.\n",
      "  df = get_csv_to_df(filepath)\n"
     ]
    },
    {
     "name": "stdout",
     "output_type": "stream",
     "text": [
      "db name : Olivier_it // keyword : Olivier_it\n"
     ]
    }
   ],
   "source": [
    "for db_name in database_name :\n",
    "    # 1/ get csv\n",
    "    key = database_name[db_name]\n",
    "    print(f\"db name : {db_name} // keyword : {key}\")\n",
    "    filepath = database_file[db_name]\n",
    "    df = get_csv_to_df(filepath)\n",
    "    df = df.fillna(\"\")\n",
    "    \n",
    "    # 2/ Make a copy + Drop\n",
    "    schemepath = database_scheme[db_name]\n",
    "    with open(schemepath,'r') as f:\n",
    "        scheme = f.read() \n",
    "    ex = execute_query(connection, f\"CREATE TABLE `{db_name}_copy` select * from `{db_name}`\")\n",
    "    ex = execute_query(connection, f\"DROP TABLE `{db_name}`\")\n",
    "    ex = execute_query(connection, scheme) # Create new table\n",
    "    \n",
    "    # 3/ Repopulate db\n",
    "    populating_table_query(connection, df, db_name) # populate table\n",
    "\n",
    "\n",
    "\n",
    "\n",
    "\n"
   ]
  },
  {
   "cell_type": "code",
   "execution_count": null,
   "id": "ce420ee5-fbc5-4031-a4ee-68d29c8fdb05",
   "metadata": {},
   "outputs": [],
   "source": []
  },
  {
   "cell_type": "code",
   "execution_count": null,
   "id": "dfe2fd21-a060-4fb9-a0f1-39723b2c6aa9",
   "metadata": {},
   "outputs": [],
   "source": []
  },
  {
   "cell_type": "code",
   "execution_count": 28,
   "id": "b8ad4dab",
   "metadata": {},
   "outputs": [
    {
     "data": {
      "text/plain": [
       "[(datetime.datetime(2022, 6, 7, 0, 0), 'olivier_it.07.06.2022.csv')]"
      ]
     },
     "execution_count": 28,
     "metadata": {},
     "output_type": "execute_result"
    }
   ],
   "source": [
    "#keyword = 'IT_Equipment'\n",
    "keyword = 'olivier_it'\n",
    "datetime_ls = [get_datetime(file, keyword) for file in dir_ls if get_datetime(file, keyword)[0] is not None]   # Get specific it_equipments file\n",
    "datetime_ls.sort(key = take_first_item) # sort date from min to max\n",
    "datetime_ls"
   ]
  },
  {
   "cell_type": "code",
   "execution_count": 29,
   "id": "27604676",
   "metadata": {},
   "outputs": [
    {
     "name": "stdout",
     "output_type": "stream",
     "text": [
      "---------- 0 olivier_it.07.06.2022.csv ----------\n",
      "number of column : 17\n"
     ]
    }
   ],
   "source": [
    "for i in range(len(datetime_ls)) :\n",
    "    print('-'*10, i, datetime_ls[i][1], '-'*10)\n",
    "    filepath = os.path.join(PARENT_PATH, datetime_ls[i][1])\n",
    "    df = get_csv_to_df(filepath, datetime_ls[i][1], datetime_ls[i][0])\n",
    "    print(\"number of column :\", len(df.columns)-2)"
   ]
  },
  {
   "cell_type": "code",
   "execution_count": 30,
   "id": "b61190a4",
   "metadata": {
    "scrolled": true
   },
   "outputs": [
    {
     "name": "stdout",
     "output_type": "stream",
     "text": [
      "---------- IT_Equipment.4.02.2022.csv ----------\n",
      "Record inserted n°0\n",
      "Record inserted n°2000\n",
      "Record inserted n°4000\n",
      "---------- IT_Equipment.10.03.2022.csv ----------\n",
      "Error: '1136 (21S01): Column count doesn't match value count at row 1'\n",
      "Error: '1136 (21S01): Column count doesn't match value count at row 1'\n",
      "Error: '1136 (21S01): Column count doesn't match value count at row 1'\n",
      "---------- IT_Equipment.11.05.22.csv ----------\n",
      "Record inserted n°0\n",
      "Record inserted n°2000\n",
      "Record inserted n°4000\n",
      "---------- IT_Equipment.07.06.2022.csv ----------\n",
      "Record inserted n°0\n",
      "Record inserted n°2000\n",
      "Record inserted n°4000\n"
     ]
    }
   ],
   "source": [
    "keyword = 'IT_Equipment'\n",
    "#keyword = 'olivier_it'\n",
    "dir_ls = os.listdir(PARENT_PATH)   # list all csv file\n",
    "datetime_ls = [get_datetime(file, keyword) for file in dir_ls if get_datetime(file, keyword)[0] is not None]   # Get specific it_equipments file\n",
    "datetime_ls.sort(key = take_first_item) # sort date from min to max\n",
    "check_create_directory(ARCHIVE_PATH)    # Check if directory exist \n",
    "\n",
    "## Loop for each csv file\n",
    "for file in datetime_ls :\n",
    "    ### CSV TO DF\n",
    "    print(\"-\"*10, file[1],\"-\"*10)\n",
    "    filepath = os.path.join(PARENT_PATH,file[1])\n",
    "    df = get_csv_to_df(filepath,file[1], file[0])\n",
    "    ### SQL QUERY\n",
    "    populating_table_query(connection, df, 'IT_Equipment_records') \n",
    "    ### SWITCH CSV TO ARCHIVE FOLDER\n",
    "    move_to_folder(file[1], PARENT_PATH, ARCHIVE_PATH)"
   ]
  },
  {
   "cell_type": "markdown",
   "id": "88cc9f7e",
   "metadata": {},
   "source": [
    "# It_equipment"
   ]
  },
  {
   "cell_type": "code",
   "execution_count": 66,
   "id": "8b5e8986",
   "metadata": {},
   "outputs": [],
   "source": [
    "CREATE_TABLE_SCHEME_PATH = \"/home/alexandre/Downloads/It_equipment_sql_query.txt\"\n",
    "#file = \"IT_Equipment_records\"\n",
    "#CREATE_TABLE_SCHEME_PATH = \"/home/alexandre/Downloads/olivier_it_sql_query.txt\"\n",
    "file = \"IT_Equipment_v2\""
   ]
  },
  {
   "cell_type": "code",
   "execution_count": 67,
   "id": "c446de97",
   "metadata": {},
   "outputs": [],
   "source": [
    "with open(CREATE_TABLE_SCHEME_PATH,'r') as f:\n",
    "    scheme = f.read()\n",
    "scheme = scheme.replace('xxx',file)    "
   ]
  },
  {
   "cell_type": "markdown",
   "id": "d4a319e2",
   "metadata": {},
   "source": [
    "### delete values"
   ]
  },
  {
   "cell_type": "code",
   "execution_count": 69,
   "id": "459248e7",
   "metadata": {},
   "outputs": [
    {
     "name": "stdout",
     "output_type": "stream",
     "text": [
      "Query successful\n"
     ]
    }
   ],
   "source": [
    "ex = execute_query(connection, f\"DROP TABLE `{file}`\")\n",
    "#ex = execute_query(connection, f\"DELETE `{file}`\")"
   ]
  },
  {
   "cell_type": "markdown",
   "id": "dc9066c4",
   "metadata": {},
   "source": [
    "### Create table "
   ]
  },
  {
   "cell_type": "code",
   "execution_count": 71,
   "id": "d27eafe7",
   "metadata": {},
   "outputs": [
    {
     "name": "stdout",
     "output_type": "stream",
     "text": [
      "Query successful\n"
     ]
    }
   ],
   "source": [
    "ex = execute_query(connection, scheme)"
   ]
  },
  {
   "cell_type": "code",
   "execution_count": null,
   "id": "68b0258c",
   "metadata": {},
   "outputs": [],
   "source": []
  },
  {
   "cell_type": "code",
   "execution_count": 72,
   "id": "433f3ab1",
   "metadata": {},
   "outputs": [
    {
     "data": {
      "text/plain": [
       "[(datetime.datetime(2022, 6, 13, 0, 0), 'IT_Equipment.13.06.2022.csv')]"
      ]
     },
     "execution_count": 72,
     "metadata": {},
     "output_type": "execute_result"
    }
   ],
   "source": [
    "keyword = 'IT_Equipment'\n",
    "datetime_ls = [get_datetime(file, keyword) for file in dir_ls if get_datetime(file, keyword)[0] is not None]   # Get specific it_equipments file\n",
    "datetime_ls.sort(key = take_first_item) # sort date from min to max\n",
    "datetime_ls"
   ]
  },
  {
   "cell_type": "code",
   "execution_count": 56,
   "id": "aad2cf6f",
   "metadata": {},
   "outputs": [
    {
     "name": "stdout",
     "output_type": "stream",
     "text": [
      "---------- 0 IT_Equipment.13.06.2022.csv ----------\n",
      "number of column : 76\n"
     ]
    }
   ],
   "source": [
    "for i in range(len(datetime_ls)) :\n",
    "    print('-'*10, i, datetime_ls[i][1], '-'*10)\n",
    "    filepath = os.path.join(PARENT_PATH, datetime_ls[i][1])\n",
    "    df = get_csv_to_df(filepath, datetime_ls[i][1], datetime_ls[i][0])\n",
    "    print(\"number of column :\", len(df.columns)-2)"
   ]
  },
  {
   "cell_type": "code",
   "execution_count": 54,
   "id": "1127a285",
   "metadata": {},
   "outputs": [
    {
     "name": "stdout",
     "output_type": "stream",
     "text": [
      "---------- IT_Equipment.13.06.2022.csv ----------\n",
      "Record inserted n°0\n"
     ]
    },
    {
     "ename": "OperationalError",
     "evalue": "MySQL Connection not available.",
     "output_type": "error",
     "traceback": [
      "\u001b[0;31m---------------------------------------------------------------------------\u001b[0m",
      "\u001b[0;31mOperationalError\u001b[0m                          Traceback (most recent call last)",
      "\u001b[0;32m<ipython-input-54-03d65a848c82>\u001b[0m in \u001b[0;36m<module>\u001b[0;34m\u001b[0m\n\u001b[1;32m     15\u001b[0m     \u001b[0mdf\u001b[0m \u001b[0;34m=\u001b[0m \u001b[0mdf\u001b[0m\u001b[0;34m.\u001b[0m\u001b[0mfillna\u001b[0m\u001b[0;34m(\u001b[0m\u001b[0;34m''\u001b[0m\u001b[0;34m)\u001b[0m\u001b[0;34m\u001b[0m\u001b[0;34m\u001b[0m\u001b[0m\n\u001b[1;32m     16\u001b[0m     \u001b[0;31m### SQL QUERY\u001b[0m\u001b[0;34m\u001b[0m\u001b[0;34m\u001b[0m\u001b[0;34m\u001b[0m\u001b[0m\n\u001b[0;32m---> 17\u001b[0;31m     \u001b[0mpopulating_table_query\u001b[0m\u001b[0;34m(\u001b[0m\u001b[0mconnection\u001b[0m\u001b[0;34m,\u001b[0m \u001b[0mdf\u001b[0m\u001b[0;34m,\u001b[0m \u001b[0mkeyword\u001b[0m\u001b[0;34m)\u001b[0m\u001b[0;34m\u001b[0m\u001b[0;34m\u001b[0m\u001b[0m\n\u001b[0m\u001b[1;32m     18\u001b[0m     \u001b[0;31m### SWITCH CSV TO ARCHIVE FOLDER\u001b[0m\u001b[0;34m\u001b[0m\u001b[0;34m\u001b[0m\u001b[0;34m\u001b[0m\u001b[0m\n\u001b[1;32m     19\u001b[0m     \u001b[0mmove_to_folder\u001b[0m\u001b[0;34m(\u001b[0m\u001b[0mfile\u001b[0m\u001b[0;34m[\u001b[0m\u001b[0;36m1\u001b[0m\u001b[0;34m]\u001b[0m\u001b[0;34m,\u001b[0m \u001b[0mPARENT_PATH\u001b[0m\u001b[0;34m,\u001b[0m \u001b[0mARCHIVE_PATH\u001b[0m\u001b[0;34m)\u001b[0m\u001b[0;34m\u001b[0m\u001b[0;34m\u001b[0m\u001b[0m\n",
      "\u001b[0;32m<ipython-input-9-e13955a84dd3>\u001b[0m in \u001b[0;36mpopulating_table_query\u001b[0;34m(connection, df, file)\u001b[0m\n\u001b[1;32m      7\u001b[0m         \u001b[0mquery\u001b[0m \u001b[0;34m=\u001b[0m \u001b[0;34mf\"INSERT `{file}` VALUES (\"\u001b[0m\u001b[0;34m+\u001b[0m \u001b[0;34m\"%s,\"\u001b[0m\u001b[0;34m*\u001b[0m\u001b[0;34m(\u001b[0m\u001b[0mlen\u001b[0m\u001b[0;34m(\u001b[0m\u001b[0mrow\u001b[0m\u001b[0;34m)\u001b[0m\u001b[0;34m-\u001b[0m\u001b[0;36m1\u001b[0m\u001b[0;34m)\u001b[0m\u001b[0;34m+\u001b[0m \u001b[0;34m\"%s)\"\u001b[0m\u001b[0;34m\u001b[0m\u001b[0;34m\u001b[0m\u001b[0m\n\u001b[1;32m      8\u001b[0m \u001b[0;34m\u001b[0m\u001b[0m\n\u001b[0;32m----> 9\u001b[0;31m         \u001b[0mcursor\u001b[0m \u001b[0;34m=\u001b[0m \u001b[0mconnection\u001b[0m\u001b[0;34m.\u001b[0m\u001b[0mcursor\u001b[0m\u001b[0;34m(\u001b[0m\u001b[0;34m)\u001b[0m\u001b[0;34m\u001b[0m\u001b[0;34m\u001b[0m\u001b[0m\n\u001b[0m\u001b[1;32m     10\u001b[0m         \u001b[0;32mtry\u001b[0m\u001b[0;34m:\u001b[0m\u001b[0;34m\u001b[0m\u001b[0;34m\u001b[0m\u001b[0m\n\u001b[1;32m     11\u001b[0m \u001b[0;34m\u001b[0m\u001b[0m\n",
      "\u001b[0;32m~/.local/lib/python3.6/site-packages/mysql/connector/connection.py\u001b[0m in \u001b[0;36mcursor\u001b[0;34m(self, buffered, raw, prepared, cursor_class, dictionary, named_tuple)\u001b[0m\n\u001b[1;32m   1278\u001b[0m \u001b[0;34m\u001b[0m\u001b[0m\n\u001b[1;32m   1279\u001b[0m         \u001b[0;32mif\u001b[0m \u001b[0;32mnot\u001b[0m \u001b[0mself\u001b[0m\u001b[0;34m.\u001b[0m\u001b[0mis_connected\u001b[0m\u001b[0;34m(\u001b[0m\u001b[0;34m)\u001b[0m\u001b[0;34m:\u001b[0m\u001b[0;34m\u001b[0m\u001b[0;34m\u001b[0m\u001b[0m\n\u001b[0;32m-> 1280\u001b[0;31m             \u001b[0;32mraise\u001b[0m \u001b[0merrors\u001b[0m\u001b[0;34m.\u001b[0m\u001b[0mOperationalError\u001b[0m\u001b[0;34m(\u001b[0m\u001b[0;34m\"MySQL Connection not available.\"\u001b[0m\u001b[0;34m)\u001b[0m\u001b[0;34m\u001b[0m\u001b[0;34m\u001b[0m\u001b[0m\n\u001b[0m\u001b[1;32m   1281\u001b[0m         \u001b[0;32mif\u001b[0m \u001b[0mcursor_class\u001b[0m \u001b[0;32mis\u001b[0m \u001b[0;32mnot\u001b[0m \u001b[0;32mNone\u001b[0m\u001b[0;34m:\u001b[0m\u001b[0;34m\u001b[0m\u001b[0;34m\u001b[0m\u001b[0m\n\u001b[1;32m   1282\u001b[0m             \u001b[0;32mif\u001b[0m \u001b[0;32mnot\u001b[0m \u001b[0missubclass\u001b[0m\u001b[0;34m(\u001b[0m\u001b[0mcursor_class\u001b[0m\u001b[0;34m,\u001b[0m \u001b[0mCursorBase\u001b[0m\u001b[0;34m)\u001b[0m\u001b[0;34m:\u001b[0m\u001b[0;34m\u001b[0m\u001b[0;34m\u001b[0m\u001b[0m\n",
      "\u001b[0;31mOperationalError\u001b[0m: MySQL Connection not available."
     ]
    }
   ],
   "source": [
    "keyword = 'IT_Equipment'\n",
    "dir_ls = os.listdir(PARENT_PATH)   # list all csv file\n",
    "datetime_ls = [get_datetime(file, keyword) for file in dir_ls if get_datetime(file, keyword)[0] is not None]   # Get specific it_equipments file\n",
    "datetime_ls.sort(key = take_first_item) # sort date from min to max\n",
    "check_create_directory(ARCHIVE_PATH)    # Check if directory exist \n",
    "\n",
    "## Loop for each csv file\n",
    "for file in datetime_ls :\n",
    "    ### CSV TO DF\n",
    "    print(\"-\"*10, file[1],\"-\"*10)\n",
    "    filepath = os.path.join(PARENT_PATH,file[1])\n",
    "    #df = get_csv_to_df(filepath,file[1], file[0])\n",
    "    #df = df.drop(columns = ['SOURCES',\"timestamp\"])\n",
    "    df = pd.read_csv(filepath, header = 0, delimiter = \";\")\n",
    "    df = df.fillna('')\n",
    "    ### SQL QUERY\n",
    "    populating_table_query(connection, df, keyword) \n",
    "    ### SWITCH CSV TO ARCHIVE FOLDER\n",
    "    move_to_folder(file[1], PARENT_PATH, ARCHIVE_PATH)"
   ]
  },
  {
   "cell_type": "markdown",
   "id": "45d858b8",
   "metadata": {},
   "source": [
    "# Mettre à jour les tables pré-existantes"
   ]
  },
  {
   "cell_type": "markdown",
   "id": "1f29b8be",
   "metadata": {},
   "source": [
    "# OLIVIER_IT"
   ]
  },
  {
   "cell_type": "code",
   "execution_count": 32,
   "id": "15f56362",
   "metadata": {},
   "outputs": [],
   "source": [
    "CREATE_TABLE_SCHEME_PATH = \"/home/alexandre/Downloads/olivier_it_sql_query.txt\"\n",
    "file = \"olivier_it\"\n",
    "with open(CREATE_TABLE_SCHEME_PATH,'r') as f:\n",
    "    scheme = f.read()"
   ]
  },
  {
   "cell_type": "markdown",
   "id": "b7fa4301",
   "metadata": {},
   "source": [
    "### delete values"
   ]
  },
  {
   "cell_type": "code",
   "execution_count": 34,
   "id": "d2b7b4d0",
   "metadata": {},
   "outputs": [
    {
     "name": "stdout",
     "output_type": "stream",
     "text": [
      "Query successful\n"
     ]
    }
   ],
   "source": [
    "#ex = execute_query(connection, f\"DROP TABLE `{file}`\")"
   ]
  },
  {
   "cell_type": "markdown",
   "id": "4a9f83e1",
   "metadata": {},
   "source": [
    "### Create table "
   ]
  },
  {
   "cell_type": "code",
   "execution_count": 35,
   "id": "77d2ac87",
   "metadata": {},
   "outputs": [
    {
     "name": "stdout",
     "output_type": "stream",
     "text": [
      "Error: 'Use cmd_query_iter for statements with multiple queries.'\n"
     ]
    }
   ],
   "source": [
    "#ex = execute_query(connection, scheme)"
   ]
  },
  {
   "cell_type": "code",
   "execution_count": 36,
   "id": "e49ecb44",
   "metadata": {},
   "outputs": [
    {
     "data": {
      "text/plain": [
       "[(datetime.datetime(2022, 6, 13, 0, 0), 'olivier_it.13.06.2022.csv')]"
      ]
     },
     "execution_count": 36,
     "metadata": {},
     "output_type": "execute_result"
    }
   ],
   "source": [
    "keyword = 'olivier_it'\n",
    "datetime_ls = [get_datetime(file, keyword) for file in dir_ls if get_datetime(file, keyword)[0] is not None]   # Get specific it_equipments file\n",
    "datetime_ls.sort(key = take_first_item) # sort date from min to max\n",
    "datetime_ls"
   ]
  },
  {
   "cell_type": "code",
   "execution_count": 30,
   "id": "04a6f2e8",
   "metadata": {},
   "outputs": [
    {
     "name": "stdout",
     "output_type": "stream",
     "text": [
      "---------- 0 olivier_it.13.06.2022.csv ----------\n",
      "number of column : 18\n"
     ]
    }
   ],
   "source": [
    "for i in range(len(datetime_ls)) :\n",
    "    print('-'*10, i, datetime_ls[i][1], '-'*10)\n",
    "    filepath = os.path.join(PARENT_PATH, datetime_ls[i][1])\n",
    "    df = get_csv_to_df(filepath, datetime_ls[i][1], datetime_ls[i][0])\n",
    "    print(\"number of column :\", len(df.columns)-2)"
   ]
  },
  {
   "cell_type": "code",
   "execution_count": 37,
   "id": "6d88dbc4",
   "metadata": {},
   "outputs": [
    {
     "name": "stdout",
     "output_type": "stream",
     "text": [
      "---------- olivier_it.13.06.2022.csv ----------\n",
      "Record inserted n°0\n",
      "Record inserted n°2000\n"
     ]
    }
   ],
   "source": [
    "keyword = 'olivier_it'\n",
    "table = 'olivier_it'\n",
    "dir_ls = os.listdir(PARENT_PATH)   # list all csv file\n",
    "datetime_ls = [get_datetime(file, keyword) for file in dir_ls if get_datetime(file, keyword)[0] is not None]   # Get specific it_equipments file\n",
    "datetime_ls.sort(key = take_first_item) # sort date from min to max\n",
    "check_create_directory(ARCHIVE_PATH)    # Check if directory exist \n",
    "\n",
    "## Loop for each csv file\n",
    "for file in datetime_ls :\n",
    "    ### CSV TO DF\n",
    "    print(\"-\"*10, file[1],\"-\"*10)\n",
    "    filepath = os.path.join(PARENT_PATH,file[1])\n",
    "    df = pd.read_csv(filepath, header = 0, delimiter = \";\")\n",
    "    df = df.fillna('')\n",
    "    ### SQL QUERY\n",
    "    populating_table_query(connection, df, ) \n",
    "    ### SWITCH CSV TO ARCHIVE FOLDER\n",
    "    move_to_folder(file[1], PARENT_PATH, ARCHIVE_PATH)"
   ]
  },
  {
   "cell_type": "markdown",
   "id": "230e9fe6",
   "metadata": {},
   "source": [
    "# Asset_new"
   ]
  },
  {
   "cell_type": "code",
   "execution_count": 86,
   "id": "9b5408df",
   "metadata": {},
   "outputs": [],
   "source": [
    "CREATE_TABLE_SCHEME_PATH = \"/home/alexandre/Downloads/assets_new_sql_query.txt\"\n",
    "file = \"assets_new\"\n",
    "with open(CREATE_TABLE_SCHEME_PATH,'r') as f:\n",
    "    scheme = f.read()"
   ]
  },
  {
   "cell_type": "markdown",
   "id": "c33d09e3",
   "metadata": {},
   "source": [
    "### delete values"
   ]
  },
  {
   "cell_type": "code",
   "execution_count": 88,
   "id": "1a808756",
   "metadata": {},
   "outputs": [
    {
     "name": "stdout",
     "output_type": "stream",
     "text": [
      "Query successful\n"
     ]
    }
   ],
   "source": [
    "#ex = execute_query(connection, f\"DROP TABLE `{file}`\")"
   ]
  },
  {
   "cell_type": "markdown",
   "id": "5c5a2962",
   "metadata": {},
   "source": [
    "### Create table "
   ]
  },
  {
   "cell_type": "code",
   "execution_count": 89,
   "id": "6851889b",
   "metadata": {},
   "outputs": [
    {
     "name": "stdout",
     "output_type": "stream",
     "text": [
      "Query successful\n"
     ]
    }
   ],
   "source": [
    "#ex = execute_query(connection, scheme)"
   ]
  },
  {
   "cell_type": "code",
   "execution_count": 90,
   "id": "7a03dfe1",
   "metadata": {},
   "outputs": [
    {
     "name": "stdout",
     "output_type": "stream",
     "text": [
      "Error: '1064 (42000): You have an error in your SQL syntax; check the manual that corresponds to your MariaDB server version for the right syntax to use near '' at line 1'\n",
      "Record inserted n°0\n",
      "Record inserted n°2000\n",
      "Record inserted n°4000\n",
      "Record inserted n°6000\n",
      "Record inserted n°8000\n",
      "Record inserted n°10000\n",
      "Record inserted n°12000\n",
      "Record inserted n°14000\n",
      "Record inserted n°16000\n",
      "Record inserted n°18000\n",
      "Record inserted n°20000\n",
      "Record inserted n°22000\n",
      "Record inserted n°24000\n",
      "Record inserted n°26000\n",
      "Record inserted n°28000\n",
      "Record inserted n°30000\n",
      "Record inserted n°32000\n",
      "Record inserted n°34000\n",
      "Record inserted n°36000\n",
      "Record inserted n°38000\n",
      "Record inserted n°40000\n",
      "Record inserted n°42000\n",
      "Record inserted n°44000\n",
      "Record inserted n°46000\n",
      "Record inserted n°48000\n",
      "Record inserted n°50000\n",
      "Record inserted n°52000\n",
      "Record inserted n°54000\n",
      "Record inserted n°56000\n",
      "Record inserted n°58000\n",
      "Record inserted n°60000\n",
      "Record inserted n°62000\n",
      "Record inserted n°64000\n",
      "Record inserted n°66000\n",
      "Record inserted n°68000\n",
      "Record inserted n°70000\n",
      "Record inserted n°72000\n",
      "Record inserted n°74000\n",
      "Record inserted n°76000\n",
      "Record inserted n°78000\n"
     ]
    }
   ],
   "source": [
    "last_file = '/home/alexandre/Downloads/assets_C2C3_12.06.2022.csv'\n",
    "df = pd.read_csv(last_file, delimiter = ';')\n",
    "df = df.fillna('')\n",
    "file = 'assets_new'\n",
    "populating_table_query(connection, df, file) "
   ]
  }
 ],
 "metadata": {
  "kernelspec": {
   "display_name": "Python 3 (ipykernel)",
   "language": "python",
   "name": "python3"
  },
  "language_info": {
   "codemirror_mode": {
    "name": "ipython",
    "version": 3
   },
   "file_extension": ".py",
   "mimetype": "text/x-python",
   "name": "python",
   "nbconvert_exporter": "python",
   "pygments_lexer": "ipython3",
   "version": "3.9.7"
  }
 },
 "nbformat": 4,
 "nbformat_minor": 5
}
