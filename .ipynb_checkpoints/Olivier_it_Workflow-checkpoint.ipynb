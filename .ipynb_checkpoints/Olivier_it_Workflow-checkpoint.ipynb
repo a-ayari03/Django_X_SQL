{
 "cells": [
  {
   "cell_type": "markdown",
   "id": "04695d78-071b-4548-b98c-abe3bb2d437d",
   "metadata": {},
   "source": [
    "# Creation table Olivier_it"
   ]
  },
  {
   "cell_type": "markdown",
   "id": "e0f3395c-844f-4c96-b9a0-67de8f85b760",
   "metadata": {},
   "source": [
    "`IT_Equipment_v2` : Table IT_Equipment provenant d'un fichier csv"
   ]
  },
  {
   "cell_type": "markdown",
   "id": "daeb5971-0075-460e-824d-0c901ef09681",
   "metadata": {},
   "source": [
    "DROP TABLE IF EXISTS `IT_Equipment_v2` ;\n",
    "CREATE TABLE IT_Equipment_v2\n",
    "as\n",
    "SELECT * FROM `IT_Equipment`\n",
    "where nom_de_la_salle in ('P1', 'P2', 'P3', 'P4');"
   ]
  },
  {
   "cell_type": "markdown",
   "id": "03351269-ed0c-4a9c-bea4-14c218580021",
   "metadata": {},
   "source": [
    "`assets_filtree_v2` : Table assets_new (CMDB) filtré aux deux localisations : FRVLB0C2 / FRTCRAVA"
   ]
  },
  {
   "cell_type": "markdown",
   "id": "75805675-3ae8-421c-893f-e5bde8e92677",
   "metadata": {},
   "source": [
    "DROP TABLE IF EXISTS `assets_filtree_v2` ;\n",
    "CREATE TABLE assets_filtree_v2\n",
    "as\n",
    "select *\n",
    "from `assets_new`\n",
    "where (API = 'FRVLB0C2' or API = 'FRTCRAVA') ;"
   ]
  },
  {
   "cell_type": "markdown",
   "id": "f45a0ec5-f500-4c1a-ac72-487b35edabf8",
   "metadata": {},
   "source": [
    "ALTER TABLE assets_filtree_v2\n",
    "ADD COLUMN Rack varchar(255),\n",
    "ADD COLUMN Slot varchar(255),\n",
    "ADD COLUMN Slot_begin varchar(255),\n",
    "ADD COLUMN Slot_end varchar(255);"
   ]
  },
  {
   "cell_type": "markdown",
   "id": "8bfe2c65-f655-4b98-8cc9-a3b5c2c81ad5",
   "metadata": {},
   "source": [
    "UPDATE assets_filtree_v2\n",
    "SET \n",
    "\tRack = SUBSTRING_INDEX(DALLE, '/', 1)  ,\n",
    "\tSlot = SUBSTRING_INDEX(DALLE, '/', -1) ,\n",
    "\tSlot_begin = SUBSTRING_INDEX(SUBSTRING_INDEX(DALLE, '/', -1), '-', 1) ,\n",
    "\tSlot_end = SUBSTRING_INDEX(DALLE, '-', -1)"
   ]
  },
  {
   "cell_type": "markdown",
   "id": "428383fc-5ebe-4a1c-a6d4-1e18f92a02ee",
   "metadata": {},
   "source": [
    "DROP TABLE IF EXISTS `IT_Equipment_olivier_no_match` ;\n",
    "CREATE TABLE IT_Equipment_olivier_no_match\n",
    "as\n",
    "SELECT it.*\n",
    "FROM `IT_Equipment_v2` it\n",
    "LEFT JOIN `olivier_it` oit on oit.olivier_index = CONCAT(it.Nom_de_la_salle, it.reperage_id)\n",
    "\n",
    "where it.nom_de_la_salle in ('P1', 'P2', 'P3', 'P4') and oit.olivier_index is null\n",
    "ORDER BY Reperage_ID asc"
   ]
  },
  {
   "cell_type": "markdown",
   "id": "7a3e617d-d23c-40f0-9d71-fc2dbece41d6",
   "metadata": {},
   "source": [
    "DROP TABLE IF EXISTS `assets_filtree_reduced` ;\n",
    "CREATE TABLE assets_filtree_reduced\n",
    "AS\n",
    "SELECT ype, subtype, ASSET_ID, NOM_COURT, NOM_LONG, FABRICANT, MODEL, DALLE, SALLE, Rack, Slot_Begin, Slot_End, No_serie, etat, api, tag_partenaire\n",
    "from `assets_filtree_v2` aa\n",
    "WHERE SALLE in ('P1', 'P2', 'P3', 'P4', '0')"
   ]
  },
  {
   "cell_type": "markdown",
   "id": "7d1c4903-bfd3-45c7-aade-6b5000a32d41",
   "metadata": {},
   "source": [
    "ALTER TABLE `assets_filtree_reduced`\n",
    "ADD COLUMN reperage_id varchar(255) ;\n",
    "\n",
    "update `assets_filtree_reduced`\n",
    "set reperage_id = concat(Rack,\":Slot \", slot_begin)\n"
   ]
  },
  {
   "cell_type": "markdown",
   "id": "5bf5aa4b-9502-4c55-b67a-2e82c2d0f759",
   "metadata": {},
   "source": [
    "`IT_Equipment_match_position_reduced_v3` : groupement des lignes par positions et affichage d'un seul asset_id par positions + nombres d'equipements sur la même position"
   ]
  },
  {
   "cell_type": "code",
   "execution_count": null,
   "id": "eed13cf2-224f-4f13-bc7d-fb1ee92af284",
   "metadata": {},
   "outputs": [],
   "source": [
    "DROP TABLE IF EXISTS IT_Equipment_match_position_reduced_v3; \n",
    "CREATE TABLE IT_Equipment_match_position_reduced_v3\n",
    "as\n",
    "SELECT it.nom_de_la_salle, it.reperage_id, count(it.reperage_id) as RowNumber,\n",
    "\t\tconcat(aa.asset_id) asset_id\n",
    "\n",
    "FROM   `olivier_it` it  \n",
    "INNER JOIN `assets_filtree_reduced`aa\n",
    "ON (\n",
    "\tit.Nom_de_la_salle = aa.Salle\n",
    "AND\n",
    "\tit.reperage_id = aa.reperage_id\n",
    ")  \n",
    "GROUP BY it.reperage_id"
   ]
  },
  {
   "cell_type": "markdown",
   "id": "e846f97c-29eb-42b0-bacc-b82740379284",
   "metadata": {},
   "source": [
    "-----"
   ]
  },
  {
   "cell_type": "code",
   "execution_count": null,
   "id": "92b54b9e-a5f3-48f8-ac67-d7845304af95",
   "metadata": {},
   "outputs": [],
   "source": [
    "ALTER TABLE olivier_it\n",
    "ADD COLUMN STATUS_2 varchar(255),\n",
    "ADD COLUMN Nom_de_baie varchar(255),\n",
    "ADD COLUMN Slot_u varchar(255),\n",
    "ADD COLUMN STATUS_3 varchar(255),\n",
    "ADD COLUMN ASSET_ID_OK_POSITION varchar(255),\n",
    "ADD COLUMN status varchar(255) ;"
   ]
  },
  {
   "cell_type": "markdown",
   "id": "4b5cfc36-aa09-474b-aa8c-783798139094",
   "metadata": {},
   "source": [
    "### `Colonnes de status differentes`"
   ]
  },
  {
   "cell_type": "code",
   "execution_count": null,
   "id": "1cdb4265-7722-4bf6-b8e4-8e028e4f0eb5",
   "metadata": {},
   "outputs": [],
   "source": [
    "ALTER TABLE olivier_it \n",
    "ADD COLUMN status_asset_id varchar(255),\n",
    "ADD COLUMN status_position varchar(255),\n",
    "ADD COLUMN status_name varchar(255),\n",
    "ADD COLUMN status_etat varchar(255),\n",
    "ADD COLUMN status_global varchar(255),\n",
    "ADD COLUMN status_etat_hpe varchar(255),\n",
    "ADD COLUMN status_spec varchar(255),\n",
    "ADD COLUMN status_cc varchar(255) ;"
   ]
  },
  {
   "cell_type": "code",
   "execution_count": null,
   "id": "d72a0dfb-fae2-4f4b-9992-8cacc215435b",
   "metadata": {},
   "outputs": [],
   "source": [
    "UPDATE `olivier_it`\n",
    "set\n",
    "Nom_de_baie = SUBSTRING_INDEX(reperage_id,':',1) ,\n",
    "Slot_u = SUBSTRING_INDEX(reperage_id,'Slot',-1) ;"
   ]
  },
  {
   "cell_type": "markdown",
   "id": "7d496787-0442-4935-aca3-3cfe92a91f59",
   "metadata": {},
   "source": [
    "# UPDATE"
   ]
  },
  {
   "cell_type": "markdown",
   "id": "5c866bbd-4e64-47d7-8e98-0c126570c095",
   "metadata": {},
   "source": [
    "## `Status` "
   ]
  },
  {
   "cell_type": "markdown",
   "id": "563a085f-c5ab-456e-a8e7-47b431c87809",
   "metadata": {},
   "source": [
    "attribut `Status` :\n",
    "\n",
    "    - Commun : Equipment present sur fichier Olivier_it & It_equipment\n",
    "    - Non trouvé : Equipment non present sur It_equipment"
   ]
  },
  {
   "cell_type": "code",
   "execution_count": null,
   "id": "ec20f731-1189-4cec-a6fe-0ff60eddb86f",
   "metadata": {},
   "outputs": [],
   "source": [
    "UPDATE `olivier_it` oit\n",
    "INNER JOIN `IT_Equipment_v2` it on oit.olivier_index = CONCAT(it.Nom_de_la_salle, it.reperage_id)\n",
    "\n",
    "SET oit.status = 'Commun'\n",
    "\n",
    "where it.nom_de_la_salle in ('P1', 'P2', 'P3', 'P4')"
   ]
  },
  {
   "cell_type": "code",
   "execution_count": null,
   "id": "3e4bf160-ad9e-4946-a18b-5938cd3a7b03",
   "metadata": {},
   "outputs": [],
   "source": [
    "UPDATE `olivier_it` oit\n",
    "LEFT JOIN `IT_Equipment_v2` it on oit.olivier_index = CONCAT(it.Nom_de_la_salle, it.reperage_id)\n",
    "\n",
    "set oit.status = 'Non trouvé'\n",
    "\n",
    "where it.reperage_id is null"
   ]
  },
  {
   "cell_type": "markdown",
   "id": "f276a620-c858-43ae-9cf4-27482abe10cf",
   "metadata": {},
   "source": [
    "### `MATCH ASSET_ID`"
   ]
  },
  {
   "cell_type": "markdown",
   "id": "77735f59-fea8-415b-bd0b-087aa8732d72",
   "metadata": {},
   "source": [
    "attribut `status_asset_id` : \n",
    "\n",
    "    - \"Trouvé - bon asset id\"\n",
    "    - \"Non Trouvé - Mauvais Asset ID\" impossibilité de trouver l'asset_id dans la CMDB (assets_filtrée)"
   ]
  },
  {
   "cell_type": "code",
   "execution_count": null,
   "id": "a0fadcbd-86c6-44f9-95c0-0a7d7731027f",
   "metadata": {},
   "outputs": [],
   "source": [
    "UPDATE `olivier_it` it\n",
    "LEFT JOIN `assets_filtree_reduced` aa\n",
    "ON aa.asset_id = it.asset_id\n",
    "and it.asset_id != '0'\n",
    "SET it.status_asset_id = ( CASE WHEN aa.asset_id is not null then 'Trouvé - bon asset id'\n",
    "                          ELSE \"Non Trouvé - Mauvais Asset ID\"\n",
    "                          END \n",
    "                          )\n"
   ]
  },
  {
   "cell_type": "markdown",
   "id": "a34e03f7-a00a-4f49-b00b-204fe1813c13",
   "metadata": {},
   "source": [
    "### `MATCH POSITION`"
   ]
  },
  {
   "cell_type": "markdown",
   "id": "5a7ffca0-adb9-4e36-8376-4436455abda6",
   "metadata": {},
   "source": [
    "attribut `status_position` : \n",
    "\n",
    "    - \"Bonne localisation\"\n",
    "    - \"KO localisation\" : impossibilité de trouver la position dans la CMDB (assets_filtrée)"
   ]
  },
  {
   "cell_type": "code",
   "execution_count": null,
   "id": "8928eea8-c37c-4c4b-a703-e3eaa446d1aa",
   "metadata": {},
   "outputs": [],
   "source": [
    "\n",
    "UPDATE `olivier_it` it \n",
    "INNER JOIN `assets_filtree_reduced`aa\n",
    "ON (\n",
    "\tit.Nom_de_la_salle = aa.Salle\n",
    "AND\n",
    "\tit.Nom_de_baie = aa.Rack\n",
    "AND\n",
    "\tit.Slot_U = CONVERT(aa.Slot_Begin, integer)\n",
    "\t)  \n",
    "    \n",
    "INNER JOIN `IT_Equipment_match_position_reduced_v3` it2\n",
    "ON it.reperage_id = it2.reperage_id\n",
    "and it.nom_de_la_salle = it2.nom_de_la_salle\n",
    "\n",
    "SET it.status_position = 'Bonne localisation'\n",
    "WHERE  (\n",
    "   aa.model not like '%BL460C%'\n",
    "OR aa.model not like '%BL660C%'\n",
    "OR aa.model not like '%BL20P%'\n",
    "OR aa.model not like '%BL860C%'\n",
    "OR aa.model not like '%BL420C%'\n",
    "OR aa.model not like '%BL680C%'\n",
    "OR aa.model not like '%WS460C%'\n",
    "OR aa.model not like '%BL870C%' )"
   ]
  },
  {
   "cell_type": "code",
   "execution_count": null,
   "id": "99f5f435-e9f1-4a49-a451-1f79b3a20134",
   "metadata": {},
   "outputs": [],
   "source": [
    "UPDATE `olivier_it` it \n",
    "SET it.status_position = 'KO localisation'\n",
    "where it.status_position is null"
   ]
  },
  {
   "cell_type": "markdown",
   "id": "519d333f-9fd7-46c7-be1c-76632df015a1",
   "metadata": {
    "tags": []
   },
   "source": [
    "# `Nom`"
   ]
  },
  {
   "cell_type": "markdown",
   "id": "6fa8300b-f142-43db-b55b-8d2b7f8347da",
   "metadata": {},
   "source": [
    "attribut `status_nom_court` : Priorisation du status affiché \n",
    "    \n",
    "    1. Présence d'asset d'id\n",
    "        1. \"nom_court type OLD\"\n",
    "        2. \"nom_long type OLD\" \n",
    "        3. \"OK nom_court\"\n",
    "        4. \"OK nom_long\"\n",
    "        5. \"Mauvais nom\" : nom court/long non présent dans la cmdb\n",
    "    \n",
    "    2. Non présence d'asset d'id\n",
    "        1. \"nom_court type OLD\"\n",
    "        2. \"nom_long type OLD\" \n",
    "        3. \"OK nom_court\"\n",
    "        4. \"OK nom_long\"\n",
    "        5. \"Mauvais nom\" : nom court/long non présent dans la cmdb"
   ]
  },
  {
   "cell_type": "code",
   "execution_count": null,
   "id": "797da5f7-6f6f-414f-b406-f55fd1c47595",
   "metadata": {},
   "outputs": [],
   "source": [
    "UPDATE `olivier_it` it\n",
    "INNER JOIN `assets_filtree_reduced` aa\n",
    "ON aa.nom_court  = it.short_name    \n",
    "SET it.status_name = \"OK nom_court\"\n",
    "where it.short_name != ''"
   ]
  },
  {
   "cell_type": "code",
   "execution_count": null,
   "id": "0a13b7de-79a1-4625-a83d-f13f437f0a34",
   "metadata": {},
   "outputs": [],
   "source": [
    "UPDATE `olivier_it` it\n",
    "INNER JOIN `assets_filtree_reduced` aa\n",
    "ON aa.nom_long  = it.nom   \n",
    "SET it.status_name = \"OK nom_long\"\n",
    "where it.nom != '' and status_name is null"
   ]
  },
  {
   "cell_type": "markdown",
   "id": "400feb8f-88c6-409c-9e48-160ced2e3b30",
   "metadata": {
    "tags": []
   },
   "source": [
    "### `'CMDB-OK-OLD'`"
   ]
  },
  {
   "cell_type": "code",
   "execution_count": null,
   "id": "3eb60908-93e0-45c0-be23-92c51b10c1d5",
   "metadata": {},
   "outputs": [],
   "source": [
    "UPDATE `olivier_it` it\n",
    "INNER JOIN `assets_filtree_reduced` aa\n",
    "ON ( REPLACE(REPLACE(aa.nom_long,'_OLD',''),'-OLD','')  = it.nom \n",
    "OR REPLACE(REPLACE(aa.nom_court,'_OLD',''),'-OLD','')  = it.short_name )\n",
    "AND aa.asset_id = it.asset_id\n",
    "\n",
    "\n",
    "SET it.status_name = (CASE WHEN nom_court like '%OLD' and  nom !='' THEN \"nom_court type OLD\"\n",
    "                      WHEN nom_long like '%OLD' and  short_name !='' THEN \"nom_long type OLD\"\n",
    "                      ELSE it.status_name\n",
    "                      END\n",
    "                     )\n",
    "\n",
    "where (aa.nom_court like '%_OLD' or aa.nom_long like '%_OLD' or aa.nom_court like '%-OLD' or aa.nom_long like '%-OLD')"
   ]
  },
  {
   "cell_type": "code",
   "execution_count": null,
   "id": "7f51bb0f-2cc6-4b6e-83b3-6df782b7e1aa",
   "metadata": {},
   "outputs": [],
   "source": [
    "UPDATE `olivier_it` it\n",
    "INNER JOIN `assets_filtree_reduced` aa\n",
    "ON REPLACE(REPLACE(aa.nom_long,'_OLD',''),'-OLD','')  = it.nom \n",
    "OR REPLACE(REPLACE(aa.nom_court,'_OLD',''),'-OLD','')  = it.short_name\n",
    "\n",
    "\n",
    "SET it.status_name = (CASE WHEN nom_court like '%OLD' and  nom !='' THEN \"nom_court type OLD\"\n",
    "                      WHEN nom_long like '%OLD' and  short_name !='' THEN \"nom_long type OLD\"\n",
    "                      ELSE it.status_name\n",
    "                      END\n",
    "                     )\n",
    "\n",
    "where (aa.nom_court like '%_OLD' or aa.nom_long like '%_OLD' or aa.nom_court like '%-OLD' or aa.nom_long like '%-OLD') and status_asset_id != 'Trouvé - bon asset id'"
   ]
  },
  {
   "cell_type": "code",
   "execution_count": null,
   "id": "b4914402-dbc3-4943-954d-fecbd6eaa57b",
   "metadata": {},
   "outputs": [],
   "source": [
    "UPDATE `olivier_it` it\n",
    "SET it.status_name = \"Mauvais nom\"\n",
    "where it.status_name is null"
   ]
  },
  {
   "cell_type": "markdown",
   "id": "8d4fb180-3121-47f9-b847-39c451aa2789",
   "metadata": {},
   "source": [
    "# `Status : Etat`"
   ]
  },
  {
   "cell_type": "markdown",
   "id": "c35dc04a-09a6-4ee0-863a-266c97606416",
   "metadata": {},
   "source": [
    "attribut `status_etat` : Si un équipment est repéré (par son asset_id et/ou sa position ) \n",
    "\n",
    "    - \"Trouvé - bon asset id\"\n",
    "    - \"Non Trouvé - Mauvais Asset ID\"\n",
    "    - \"KO Etat\" - Aucun ou plusieurs equipments sur la même position, impossible d'établir le lien"
   ]
  },
  {
   "cell_type": "code",
   "execution_count": null,
   "id": "34de081b-3bbb-4620-9269-810f654ca921",
   "metadata": {},
   "outputs": [],
   "source": [
    "UPDATE `olivier_it` it\n",
    "LEFT JOIN `assets_filtree_reduced` aa\n",
    "ON aa.asset_id = it.asset_id\n",
    "and it.asset_id != '0'\n",
    "SET it.status_etat = aa.etat ;\n"
   ]
  },
  {
   "cell_type": "code",
   "execution_count": null,
   "id": "aeeb581f-81c5-4f8a-b8a7-8ae7b7d1087c",
   "metadata": {},
   "outputs": [],
   "source": [
    "\n",
    "UPDATE `olivier_it` it\n",
    "INNER JOIN `assets_filtree_reduced` aa\n",
    "ON ( REPLACE(REPLACE(aa.nom_court,'_OLD',''),'-OLD','')  = it.nom \n",
    "OR REPLACE(REPLACE(aa.nom_court,'_OLD',''),'-OLD','')  = it.short_name )\n",
    "\n",
    "SET it.status_etat = aa.etat\n",
    "where status_name = \"nom_court type OLD\" ;"
   ]
  },
  {
   "cell_type": "code",
   "execution_count": null,
   "id": "b537bd1f-bd79-490c-8532-c631b23c1baa",
   "metadata": {},
   "outputs": [],
   "source": [
    "\n",
    "UPDATE `olivier_it` it\n",
    "INNER JOIN `assets_filtree_reduced` aa\n",
    "ON ( REPLACE(REPLACE(aa.nom_long,'_OLD',''),'-OLD','')  = it.nom \n",
    "OR REPLACE(REPLACE(aa.nom_long,'_OLD',''),'-OLD','')  = it.short_name )\n",
    "SET it.status_etat = aa.etat\n",
    "where status_name = \"nom_long type OLD\" ;"
   ]
  },
  {
   "cell_type": "code",
   "execution_count": null,
   "id": "450b58a2-f6fd-47c0-880c-cae21d89776f",
   "metadata": {},
   "outputs": [],
   "source": [
    "\n",
    "UPDATE `olivier_it` it\n",
    "INNER JOIN `assets_filtree_reduced` aa\n",
    "ON ( REPLACE(REPLACE(aa.nom_court,'_OLD',''),'-OLD','')  = it.nom \n",
    "OR REPLACE(REPLACE(aa.nom_court,'_OLD',''),'-OLD','')  = it.short_name )\n",
    "AND aa.asset_id = it.asset_id\n",
    "\n",
    "SET it.status_etat = aa.etat\n",
    "where status_name = \"nom_court type OLD\" and status_asset_id != 'Trouvé - bon asset id'"
   ]
  },
  {
   "cell_type": "code",
   "execution_count": null,
   "id": "b3599161-e3b9-4e79-a43d-7faacfdcf553",
   "metadata": {},
   "outputs": [],
   "source": [
    "\n",
    "UPDATE `olivier_it` it\n",
    "INNER JOIN `assets_filtree_reduced` aa\n",
    "ON ( REPLACE(REPLACE(aa.nom_long,'_OLD',''),'-OLD','')  = it.nom \n",
    "OR REPLACE(REPLACE(aa.nom_long,'_OLD',''),'-OLD','')  = it.short_name )\n",
    "AND aa.asset_id = it.asset_id\n",
    "SET it.status_etat = aa.etat\n",
    "where status_name = \"nom_long type OLD\" and status_asset_id != 'Trouvé - bon asset id'"
   ]
  },
  {
   "cell_type": "code",
   "execution_count": null,
   "id": "193ef199-a180-42b5-8146-dd4f09569997",
   "metadata": {},
   "outputs": [],
   "source": [
    "UPDATE `olivier_it` it\n",
    " SET it.status_etat = 'KO Etat_CMDB'\n",
    "where it.status_etat is null"
   ]
  },
  {
   "cell_type": "markdown",
   "id": "f85600cd-6b23-459c-ad19-3c2606af47f7",
   "metadata": {},
   "source": [
    "# `Status_spec : Cas spécifique`"
   ]
  },
  {
   "cell_type": "code",
   "execution_count": null,
   "id": "5d06158d-57fe-40ab-b28e-0313dc74e351",
   "metadata": {},
   "outputs": [],
   "source": []
  },
  {
   "cell_type": "markdown",
   "id": "6d861d67-88c9-43c2-8020-a7b5a26589ac",
   "metadata": {},
   "source": [
    "attribut `status_spec` : \n",
    "\n",
    "    - \"Patch Panel\"\n",
    "    - \"PCP\""
   ]
  },
  {
   "cell_type": "markdown",
   "id": "7de7ed43-3d93-4a03-8aa2-199651c7a8ed",
   "metadata": {
    "tags": []
   },
   "source": [
    "### `Patch Panel`"
   ]
  },
  {
   "cell_type": "code",
   "execution_count": null,
   "id": "3124354e-8d4a-4627-8dc0-aa206be61532",
   "metadata": {},
   "outputs": [],
   "source": [
    "UPDATE `olivier_it` it \n",
    "SET it.Status_spec = \"Trouvé - Patch Panel\"\n",
    "where type like '%Patch Panel%' or fabricant in ('Arista', 'Alcatel-Lucent');"
   ]
  },
  {
   "cell_type": "markdown",
   "id": "63b64f91-c547-40a3-8baa-aeb111f5c401",
   "metadata": {
    "tags": []
   },
   "source": [
    "### `PCP`"
   ]
  },
  {
   "cell_type": "code",
   "execution_count": null,
   "id": "1a772fa5-fcf6-4264-afe0-35e5a616bfe2",
   "metadata": {},
   "outputs": [],
   "source": [
    "\n",
    "UPDATE `olivier_it` it\n",
    "SET it.Status_spec = 'Trouvé - PCP Mal documenté'\n",
    "where (it.Nom like '%compute%' or it.short_name like '%compute%' or reperage_id like '%compute%') or \n",
    "(it.Nom like '%_Rack%' or it.short_name like '%_Rack%' or reperage_id like '%_Rack%') and (asset_id is null or asset_id ='0' or asset_id ='');"
   ]
  },
  {
   "cell_type": "markdown",
   "id": "0e995021-1f3f-4d08-bd1c-6c776e3f4237",
   "metadata": {},
   "source": [
    "# `Status : Etat_hpe`"
   ]
  },
  {
   "cell_type": "markdown",
   "id": "d4425ca9-8aac-4ffc-a528-fdc122100668",
   "metadata": {},
   "source": [
    "attribut `status_etat_hpe` : \n",
    "\n",
    "    1- pas asset id & pas de localisation\n",
    "    2- pas asset id & localisation\n",
    "    3- assed id & localisation => status\n",
    "    4- asset id & pas localisation ==> \"assetid\"\n",
    "    5- PCP ==> \"PCP\"\n",
    "    6- Patch Panel => \"Patch Panel\""
   ]
  },
  {
   "cell_type": "code",
   "execution_count": null,
   "id": "51e1bd23-8796-4a18-9530-ca3a22d348cc",
   "metadata": {},
   "outputs": [],
   "source": [
    "UPDATE `olivier_it` it\n",
    "SET it.status_etat_hpe = \n",
    "    (CASE WHEN status_asset_id != 'Trouvé - bon asset id' AND status_position = 'KO localisation' and status_spec is null THEN 'pas asset id & pas de localisation'\n",
    "     WHEN status_asset_id != 'Trouvé - bon asset id' AND status_position != 'KO localisation' and status_spec is null THEN 'pas asset id & localisation'\n",
    "     WHEN status_asset_id = 'Trouvé - bon asset id' AND status_position != 'KO localisation' and status_spec is null THEN status_etat\n",
    "     WHEN status_asset_id = 'Trouvé - bon asset id' AND status_position = 'KO localisation' and status_spec is null THEN 'asset id & pas de localisation'\n",
    "     WHEN status_spec is not null then status_spec\n",
    "     END\n",
    "    )              \n",
    "    ;"
   ]
  },
  {
   "cell_type": "markdown",
   "id": "79ea28c5-3410-4477-bec7-301d9316f605",
   "metadata": {},
   "source": [
    "# `GLOBAL STATUS`"
   ]
  },
  {
   "cell_type": "code",
   "execution_count": null,
   "id": "4efd5deb-6c31-478a-ab49-7ac527bc4a7a",
   "metadata": {},
   "outputs": [],
   "source": []
  },
  {
   "cell_type": "markdown",
   "id": "16eaf444-d634-4f4b-ad49-3268e5c26084",
   "metadata": {},
   "source": [
    "attribut `status_status` : Agrégation de tous les attribus"
   ]
  },
  {
   "cell_type": "code",
   "execution_count": null,
   "id": "66155f5c-954c-4db9-a508-5f7b03ddeb5e",
   "metadata": {},
   "outputs": [],
   "source": [
    "UPDATE olivier_it \n",
    "set status_global = concat(status_asset_id , ' - ' , status_position , ' - ' , status_name, \" - \" , status_etat );"
   ]
  },
  {
   "cell_type": "markdown",
   "id": "cee6d6ff-add8-4fd3-82cc-b6823124d3c2",
   "metadata": {},
   "source": [
    "# `STATUS_CC`"
   ]
  },
  {
   "cell_type": "markdown",
   "id": "99247f03-b8f1-47d6-a440-1e5952f1c4c9",
   "metadata": {},
   "source": [
    "attribut `status_CC` : Aggrégation de tous les attribus"
   ]
  },
  {
   "cell_type": "code",
   "execution_count": null,
   "id": "ecace67b-0637-41ae-addc-0f26e870d3e1",
   "metadata": {},
   "outputs": [],
   "source": [
    "UPDATE olivier_it \n",
    "set status_cc = concat(\"6Sigma Hpe \", status_hpe , ' - ' ,\n",
    "                       \"6Sigma C2 \" , status,  ' - ' ,\n",
    "                       \"CHIPRE \", status_etat_hpe ) ;\n"
   ]
  },
  {
   "cell_type": "markdown",
   "id": "a085b4e4-6d4c-4ba6-9e7f-6a1a8a7a4a67",
   "metadata": {},
   "source": [
    "# Indicateur"
   ]
  },
  {
   "cell_type": "code",
   "execution_count": null,
   "id": "1b1197e8-35f5-43ca-8fd8-99979a9e4bb9",
   "metadata": {},
   "outputs": [],
   "source": [
    "drop VIEW if EXISTS indicator_olivier_it_status ;\n",
    "create VIEW indicator_olivier_it_status\n",
    "as \n",
    "SELECT status_cc, count(*) row_count FROM `olivier_it`\n",
    "GROUP BY status_cc"
   ]
  },
  {
   "cell_type": "code",
   "execution_count": null,
   "id": "398e34a1-3f18-4ef6-8005-458978cc68cf",
   "metadata": {},
   "outputs": [],
   "source": [
    "drop view if EXISTS indicator_olivier_it_add_row_per_salle ;\n",
    "create view indicator_olivier_it_add_row_per_salle\n",
    "as \n",
    "select DISTINCT(from_source), NOM_de_la_salle, count(*) equipment_count from `olivier_it`\n",
    "GROUP BY from_source, NOM_de_la_salle"
   ]
  },
  {
   "cell_type": "markdown",
   "id": "84d6e259-669d-4610-a582-ed8910ece774",
   "metadata": {},
   "source": [
    "## Controle, pour référence"
   ]
  },
  {
   "cell_type": "code",
   "execution_count": null,
   "id": "76ac5a1f-4a59-4641-bc1b-1ef4f193e479",
   "metadata": {},
   "outputs": [],
   "source": [
    "drop view if EXISTS `control_vision_spatial` ;\n",
    "create view `control_vision_spatial` \n",
    "as\n",
    "select * from `olivier_it`\n",
    "where asset_id != '' and asset_id != '0' and asset_id is not null and status_cmdb = 'OK' and status_6sigma = 'OK' and status_etat != 'To be deleted'\n",
    "group by FROM_source"
   ]
  },
  {
   "cell_type": "markdown",
   "id": "96135f85-6962-44ce-ae1a-57c918a4805a",
   "metadata": {},
   "source": [
    "### MAJ 30/08/2022"
   ]
  },
  {
   "cell_type": "markdown",
   "id": "c721389f-840c-4f3f-9e09-145f67fbb425",
   "metadata": {},
   "source": [
    "drop table if EXISTS olivier_it_copy_copy ;# MySQL returned an empty result set (i.e. zero rows).\n",
    "create table olivier_it_copy_copy\t\n",
    "as\n",
    "select * from `olivier_it_copy`# 2799 rows affected."
   ]
  },
  {
   "cell_type": "markdown",
   "id": "298b7ba8-fc32-40bf-905c-2fe9dc653b63",
   "metadata": {},
   "source": [
    "select * from `olivier_it_copy_copy`where olivier_index = 'P3AC11:Slot 15'"
   ]
  },
  {
   "cell_type": "markdown",
   "id": "bbe00a41-8f7d-4a51-8843-71cf23381225",
   "metadata": {},
   "source": [
    "delete from `olivier_it_copy_copy`where olivier_index = 'P3AC11:Slot 15'"
   ]
  },
  {
   "cell_type": "markdown",
   "id": "d68516dd-c88d-4c7f-acda-e9850d26a225",
   "metadata": {},
   "source": [
    "select it.* from `olivier_it` it\n",
    "LEFT JOIN `olivier_it_copy_copy` it2 ON it.olivier_index = it2.olivier_index and it.nom = it2.nom\n",
    "where it2.olivier_index is null\n",
    "order by olivier_index desc"
   ]
  },
  {
   "cell_type": "markdown",
   "id": "666fd32c-d26b-4901-a0c1-7fc70299092d",
   "metadata": {},
   "source": [
    "`olivier_it_records` : historique de tous les equipemnts UNIQUES qui sont passés par les fichiers CSV Olivier_it. Permet de checker si un equipements a été supprimer ou non par comparaison avec la dernière version du fichier CSV Olivier_it"
   ]
  },
  {
   "cell_type": "markdown",
   "id": "c8d3ac88-0fa7-4750-bffd-4178b5896971",
   "metadata": {},
   "source": [
    "CREATE TABLE olivier_it_records\n",
    "as\n",
    "select *, NULL status_deleted from `olivier_it`"
   ]
  },
  {
   "cell_type": "markdown",
   "id": "c1e4fce5-ff88-4895-a8b0-cc77cd9659e7",
   "metadata": {},
   "source": [
    "select it2.modele, it2.nom, it2.olivier_index from `olivier_it` it\n",
    "RIGHT JOIN `olivier_it_records` it2 ON it.olivier_index = it2.olivier_index and it.nom = it2.nom\n",
    "where it.olivier_index is null"
   ]
  },
  {
   "cell_type": "markdown",
   "id": "47899e9e-e110-454f-86f6-8634eed9a061",
   "metadata": {},
   "source": [
    "#### `status_deleted` : si l'equipement n'est pas présent sur la dernière version de olivier_it mais qu'elle est présente dans la table olivier_it_records, l'equipement est jugé comme delete"
   ]
  },
  {
   "cell_type": "code",
   "execution_count": null,
   "id": "ac0681df-508d-4305-bb42-afc198aa82a8",
   "metadata": {},
   "outputs": [],
   "source": [
    "drop VIEW if EXISTS olivier_it_deleted_records ;\n",
    "create view olivier_it_deleted_records \n",
    "as\n",
    "select it2.* from `olivier_it` it\n",
    "RIGHT JOIN `olivier_it_records` it2 ON it.olivier_index = it2.olivier_index and it.nom = it2.nom\n",
    "where it.olivier_index is null"
   ]
  },
  {
   "cell_type": "code",
   "execution_count": null,
   "id": "111f6b4f-dc1e-466c-8f39-5eaac748b6c3",
   "metadata": {},
   "outputs": [],
   "source": [
    "drop VIEW if EXISTS olivier_it_added_records ;\n",
    "create view olivier_it_added_records \n",
    "as\n",
    "select it.* from `olivier_it` it\n",
    "LEFT JOIN `olivier_it_records` it2 ON it.olivier_index = it2.olivier_index and it.nom = it2.nom\n",
    "where it2.olivier_index is null"
   ]
  },
  {
   "cell_type": "code",
   "execution_count": null,
   "id": "84a0edc2-0bcf-4640-b3aa-c188bf9417f0",
   "metadata": {},
   "outputs": [],
   "source": [
    "ALTER TABLE olivier_it\n",
    "ADD COLUMN status_deleted varchar(255)"
   ]
  },
  {
   "cell_type": "markdown",
   "id": "0aabab3d-6722-4da7-9a60-b1a04cc59ee8",
   "metadata": {},
   "source": [
    "ajout des equipements supprimés `olivier_it`"
   ]
  },
  {
   "cell_type": "code",
   "execution_count": null,
   "id": "84a10f19-2ca8-46c7-8dfe-a5b230a876f3",
   "metadata": {},
   "outputs": [],
   "source": [
    "INSERT INTO `olivier_it`\n",
    "SELECT *, 'DELETED' from `olivier_it_deleted_records`"
   ]
  },
  {
   "cell_type": "markdown",
   "id": "9d35d509-f99c-4995-8d4b-62883bec04f4",
   "metadata": {},
   "source": [
    "ajout des nouveaux equipements à `olivier_it_records`"
   ]
  },
  {
   "cell_type": "code",
   "execution_count": null,
   "id": "cc9ad2c7-a583-46c1-b2d6-9daa4dd2b6dc",
   "metadata": {},
   "outputs": [],
   "source": [
    "INSERT INTO `olivier_it_records`\n",
    "SELECT *, 'ADDED' from `olivier_it_added_records`"
   ]
  },
  {
   "cell_type": "code",
   "execution_count": null,
   "id": "30f66771-bf5e-4b22-be81-954b6998f5b4",
   "metadata": {},
   "outputs": [],
   "source": [
    "select * from `olivier_it_records` \n",
    "\n",
    "where olivier_index = 'P2AB27:Slot 01'"
   ]
  },
  {
   "cell_type": "markdown",
   "id": "b784be2c-549f-4d83-9f59-5b76dc34957e",
   "metadata": {},
   "source": [
    "Beaucoup d'equipment sont suppr de olivier it puis remis sur le records à l'aide de la CMDB/6SIGMA"
   ]
  },
  {
   "cell_type": "code",
   "execution_count": null,
   "id": "3e2fa8ee-41fc-41c4-9238-e6dac5ca1df9",
   "metadata": {},
   "outputs": [],
   "source": [
    "select olivier_index, group_concat(from_source) from_source, count(DISTINCT(ASSET_ID)) asset_count, count(DISTINCT(status_deleted)) count_stat, count(*)  from `olivier_it`\n",
    "GROUP BY olivier_index\n",
    "ORDER by count(DISTINCT(status_deleted)) desc"
   ]
  },
  {
   "cell_type": "markdown",
   "id": "81082224-514c-49d4-b108-9a1f02814052",
   "metadata": {},
   "source": [
    "\n",
    "Nexus 2248TP GE Fabric Extender (Port Side Airflow Intake);Switch;Cisco;AA_SWC2P430_FEX112;;;;;;P4;W10:Slot 38;W10:Slot 38;;6sigma Hpe;;;P4W10:Slot 38;0-EXISTANT P3/P4;Cecile Pialot;;;;P4W10:Slot 38;Commun;Non Trouvé - Mauvais Asset ID - KO localisation - Mauvais nom - KO Etat_CMDB;6Sigma Hpe 6sigma Hpe - 6Sigma C2 Commun - CHIPRE pas asset id & pas de localisation;;Non Trouvé - Mauvais Asset ID;KO localisation;Mauvais nom;KO Etat_CMDB;;;;"
   ]
  }
 ],
 "metadata": {
  "kernelspec": {
   "display_name": "Python 3 (ipykernel)",
   "language": "python",
   "name": "python3"
  },
  "language_info": {
   "codemirror_mode": {
    "name": "ipython",
    "version": 3
   },
   "file_extension": ".py",
   "mimetype": "text/x-python",
   "name": "python",
   "nbconvert_exporter": "python",
   "pygments_lexer": "ipython3",
   "version": "3.9.7"
  }
 },
 "nbformat": 4,
 "nbformat_minor": 5
}
