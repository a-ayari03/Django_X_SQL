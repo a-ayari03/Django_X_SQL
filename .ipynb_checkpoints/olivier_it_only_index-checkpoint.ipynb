{
 "cells": [
  {
   "cell_type": "code",
   "execution_count": null,
   "id": "819203b7-2f78-41d3-9be7-d6da0e3bcee1",
   "metadata": {},
   "outputs": [],
   "source": []
  },
  {
   "cell_type": "markdown",
   "id": "526c0533-46ea-41d3-932f-9b050d9313e2",
   "metadata": {},
   "source": [
    "# Creation table Olivier_it"
   ]
  },
  {
   "cell_type": "markdown",
   "id": "7fefc6a8-f161-41e9-9a5f-893ffa947a67",
   "metadata": {},
   "source": [
    "`IT_Equipment_v2` : Table IT_Equipment provenant d'un fichier csv"
   ]
  },
  {
   "cell_type": "markdown",
   "id": "e85f29fc-3283-4e11-9272-0bc50bedacd9",
   "metadata": {},
   "source": [
    "### Fichier olivier_it contenant seulement les positions "
   ]
  },
  {
   "cell_type": "markdown",
   "id": "83d3c357-f7f9-42c9-94cc-4194f9d2bf94",
   "metadata": {},
   "source": [
    "drop TABLE if EXISTS olivier_it_only_index ; \n",
    "CREATE TABLE `olivier_it_only_index` (\n",
    "  `modele` varchar(255) DEFAULT NULL,\n",
    "  `Type` varchar(100) DEFAULT NULL,\n",
    "  `fabricant` varchar(255) DEFAULT NULL,\n",
    "  `nom` varchar(255) DEFAULT NULL,\n",
    "  `SHORT_NAME` varchar(100) DEFAULT NULL,\n",
    "  `SERIAL_NUMBER` varchar(100) DEFAULT NULL,\n",
    "  `ASSET_ID` varchar(100) DEFAULT NULL,\n",
    "  `ASSET_TAG` varchar(100) DEFAULT NULL,\n",
    "  `Asset_Number` varchar(100) DEFAULT NULL,\n",
    "  `Nom_de_la_salle` varchar(255) DEFAULT NULL,\n",
    "  `reperage_id` varchar(255) DEFAULT NULL,\n",
    "  `Taille_U` varchar(100) DEFAULT NULL,\n",
    "  `End_Move_Target` varchar(100) DEFAULT NULL,\n",
    "  `Status_hpe`varchar(255) DEFAULT NULL,\n",
    "  `Salle_Dest` varchar(100) DEFAULT NULL,\n",
    "  `Rack_U_Dest` varchar(100) DEFAULT NULL,\n",
    "  `olivier_index` varchar(100) DEFAULT NULL\n",
    ") ENGINE=InnoDB DEFAULT CHARSET=utf8;"
   ]
  },
  {
   "cell_type": "code",
   "execution_count": null,
   "id": "2e17a8bb-b2c1-46fb-8dc3-08acf453a48c",
   "metadata": {},
   "outputs": [],
   "source": [
    "DROP TABLE IF EXISTS `IT_Equipment_v2` ;\n",
    "CREATE TABLE IT_Equipment_v2\n",
    "as\n",
    "SELECT * FROM `IT_Equipment`"
   ]
  },
  {
   "cell_type": "markdown",
   "id": "d481bc98-82e4-4357-811d-505bf8316191",
   "metadata": {},
   "source": [
    "`assets_filtree_v2` : Table assets_new (CMDB) filtré aux deux localisations : FRVLB0C2 / FRTCRAVA"
   ]
  },
  {
   "cell_type": "code",
   "execution_count": null,
   "id": "588db9df-faed-4409-832b-645701ccc9c3",
   "metadata": {},
   "outputs": [],
   "source": [
    "DROP TABLE IF EXISTS `assets_filtree_v2` ;\n",
    "CREATE TABLE assets_filtree_v2\n",
    "as\n",
    "select *\n",
    "from `assets_new`\n",
    "where (API = 'FRVLB0C2' or API = 'FRTCRAVA') ;"
   ]
  },
  {
   "cell_type": "code",
   "execution_count": null,
   "id": "2cac6818-f4aa-4ab5-ad8c-f6843a2272a1",
   "metadata": {},
   "outputs": [],
   "source": [
    "ALTER TABLE assets_filtree_v2\n",
    "ADD COLUMN Rack varchar(255),\n",
    "ADD COLUMN Slot varchar(255),\n",
    "ADD COLUMN Slot_begin varchar(255),\n",
    "ADD COLUMN Slot_end varchar(255);"
   ]
  },
  {
   "cell_type": "code",
   "execution_count": null,
   "id": "7c40977e-88cd-4f38-a95d-85ed3aaa58fd",
   "metadata": {},
   "outputs": [],
   "source": [
    "UPDATE assets_filtree_v2\n",
    "SET \n",
    "\tRack = SUBSTRING_INDEX(DALLE, '/', 1)  ,\n",
    "\tSlot = SUBSTRING_INDEX(DALLE, '/', -1) ,\n",
    "\tSlot_begin = SUBSTRING_INDEX(SUBSTRING_INDEX(DALLE, '/', -1), '-', 1) ,\n",
    "\tSlot_end = SUBSTRING_INDEX(DALLE, '-', -1)"
   ]
  },
  {
   "cell_type": "code",
   "execution_count": null,
   "id": "4a4d18f9-c9ca-44fa-a6af-1d26a7f78920",
   "metadata": {},
   "outputs": [],
   "source": [
    "DROP TABLE IF EXISTS `IT_Equipment_olivier_no_match` ;\n",
    "CREATE TABLE IT_Equipment_olivier_no_match\n",
    "as\n",
    "SELECT it.*\n",
    "FROM `IT_Equipment_v2` it\n",
    "LEFT JOIN `olivier_it_only_index` oit on oit.olivier_index = CONCAT(it.Nom_de_la_salle, it.reperage_id)\n",
    "\n",
    "where it.nom_de_la_salle in ('P1', 'P2', 'P3', 'P4') and oit.olivier_index is null\n",
    "ORDER BY Reperage_ID asc"
   ]
  },
  {
   "cell_type": "code",
   "execution_count": null,
   "id": "9f64c857-efa5-4263-9a0d-56508a0e9daa",
   "metadata": {},
   "outputs": [],
   "source": [
    "DROP TABLE IF EXISTS `assets_filtree_reduced` ;\n",
    "CREATE TABLE assets_filtree_reduced\n",
    "AS\n",
    "SELECT ype, subtype, ASSET_ID, NOM_COURT, NOM_LONG, FABRICANT, MODEL, DALLE, SALLE, Rack, Slot_Begin, Slot_End, No_serie, etat, api, tag_partenaire\n",
    "from `assets_filtree_v2` aa\n",
    "WHERE SALLE in ('P1', 'P2', 'P3', 'P4', '0')"
   ]
  },
  {
   "cell_type": "markdown",
   "id": "d75db66e-1fd7-4208-a37b-d8d5a2964563",
   "metadata": {},
   "source": [
    "`IT_Equipment_match_position_reduced_v3` : groupement des lignes par positions et affichage d'un seul asset_id par positions + nombres d'equipements sur la même position"
   ]
  },
  {
   "cell_type": "code",
   "execution_count": null,
   "id": "46dc154a-2a70-4248-977f-a9df59040d75",
   "metadata": {},
   "outputs": [],
   "source": [
    "ALTER VIEW IT_Equipment_match_position_reduced_v3\n",
    "as\n",
    "SELECT it.nom_de_la_salle, it.reperage_id, count(it.reperage_id) as RowNumber,\n",
    "\t\tconcat(aa.asset_id) asset_id\n",
    "\n",
    "FROM   `olivier_it_only_index` it  \n",
    "INNER JOIN `assets_filtree_reduced`aa\n",
    "ON (\n",
    "\tit.Nom_de_la_salle = aa.Salle\n",
    "AND\n",
    "\tit.Nom_de_baie = aa.Rack\n",
    "AND\n",
    "\tit.Slot_U = CONVERT(aa.Slot_Begin, integer)\n",
    "\t)  \n",
    "GROUP BY it.reperage_id"
   ]
  },
  {
   "cell_type": "code",
   "execution_count": null,
   "id": "4c02f364-4115-4bf9-860c-48b5133631fd",
   "metadata": {},
   "outputs": [],
   "source": [
    "ALTER TABLE olivier_it_only_index\n",
    "ADD COLUMN STATUS_2 varchar(255),\n",
    "ADD COLUMN Nom_de_baie varchar(255),\n",
    "ADD COLUMN Slot_u varchar(255),\n",
    "ADD COLUMN STATUS_3 varchar(255),\n",
    "ADD COLUMN ASSET_ID_OK_POSITION varchar(255),\n",
    "ADD COLUMN status varchar(255) ;"
   ]
  },
  {
   "cell_type": "markdown",
   "id": "225184b4-d19c-485b-bed2-d2bbc701014a",
   "metadata": {},
   "source": [
    "### `Colonnes de status differentes`"
   ]
  },
  {
   "cell_type": "code",
   "execution_count": null,
   "id": "76690cb5-8e0f-410d-b036-466239348625",
   "metadata": {},
   "outputs": [],
   "source": [
    "ALTER TABLE olivier_it_only_index \n",
    "ADD COLUMN status_asset_id varchar(255),\n",
    "ADD COLUMN status_position varchar(255),\n",
    "ADD COLUMN status_name varchar(255),\n",
    "ADD COLUMN status_etat varchar(255),\n",
    "ADD COLUMN status_global varchar(255),\n",
    "ADD COLUMN status_etat_hpe varchar(255),\n",
    "ADD COLUMN status_spec varchar(255),\n",
    "ADD COLUMN status_cc varchar(255) ;"
   ]
  },
  {
   "cell_type": "code",
   "execution_count": null,
   "id": "8c4779cc-e4d1-4f7b-9b4c-1b7f452c5558",
   "metadata": {},
   "outputs": [],
   "source": [
    "UPDATE `olivier_it_only_index`\n",
    "set\n",
    "Nom_de_baie = SUBSTRING_INDEX(reperage_id,':',1) ,\n",
    "Slot_u = SUBSTRING_INDEX(reperage_id,'Slot',-1) ;"
   ]
  },
  {
   "cell_type": "markdown",
   "id": "2833866e-a2f6-4ab2-a2c7-215bcdd3cd72",
   "metadata": {},
   "source": [
    "# UPDATE"
   ]
  },
  {
   "cell_type": "markdown",
   "id": "869d93f9-0a45-4b39-995a-498e50d80f80",
   "metadata": {},
   "source": [
    "## `Status` "
   ]
  },
  {
   "cell_type": "markdown",
   "id": "0069b3c7-98da-4b72-a04a-f6c461a455e0",
   "metadata": {},
   "source": [
    "attribut `Status` :\n",
    "\n",
    "    - Commun : Equipment present sur fichier Olivier_it & It_equipment\n",
    "    - Non trouvé : Equipment non present sur It_equipment"
   ]
  },
  {
   "cell_type": "code",
   "execution_count": null,
   "id": "ac2eb816-3dda-475d-90ec-331da64be59f",
   "metadata": {},
   "outputs": [],
   "source": [
    "UPDATE `olivier_it_only_index` oit\n",
    "INNER JOIN `IT_Equipment_v2` it on oit.olivier_index = CONCAT(it.Nom_de_la_salle, it.reperage_id)\n",
    "\n",
    "SET oit.status = 'Commun'\n",
    "\n",
    "where it.nom_de_la_salle in ('P1', 'P2', 'P3', 'P4')"
   ]
  },
  {
   "cell_type": "code",
   "execution_count": null,
   "id": "50723d87-2d71-444a-b9a6-a35c63a2b118",
   "metadata": {},
   "outputs": [],
   "source": [
    "UPDATE `olivier_it_only_index` oit\n",
    "LEFT JOIN `IT_Equipment_v2` it on oit.olivier_index = CONCAT(it.Nom_de_la_salle, it.reperage_id)\n",
    "\n",
    "set oit.status = 'Non trouvé'\n",
    "\n",
    "where it.reperage_id is null"
   ]
  },
  {
   "cell_type": "markdown",
   "id": "d697020f-4f84-4696-87be-2d14d3b15fe6",
   "metadata": {},
   "source": [
    "### `MATCH POSITION`"
   ]
  },
  {
   "cell_type": "markdown",
   "id": "a8886c73-902e-4bc9-a596-7baf4bd6d02f",
   "metadata": {},
   "source": [
    "attribut `status_position` : \n",
    "\n",
    "    - \"Bonne localisation\"\n",
    "    - \"KO localisation\" : impossibilité de trouver la position dans la CMDB (assets_filtrée)"
   ]
  },
  {
   "cell_type": "code",
   "execution_count": null,
   "id": "9b24dfa7-da8e-444d-bc97-069d7e50e2e2",
   "metadata": {},
   "outputs": [],
   "source": [
    "\n",
    "UPDATE `olivier_it_only_index` it \n",
    "INNER JOIN `assets_filtree_reduced`aa\n",
    "ON (\n",
    "\tit.Nom_de_la_salle = aa.Salle\n",
    "AND\n",
    "\tit.Nom_de_baie = aa.Rack\n",
    "AND\n",
    "\tit.Slot_U = CONVERT(aa.Slot_Begin, integer)\n",
    "\t)  \n",
    "    \n",
    "INNER JOIN `IT_Equipment_match_position_reduced_v3` it2\n",
    "ON it.reperage_id = it2.reperage_id \n",
    "and it.nom_de_la_salle = it2.nom_de_la_salle\n",
    "\n",
    "SET it.status_position = 'Bonne localisation', \n",
    "it.status_spec = concat(\"nb of equipement : \",it2.RowNumber)\n",
    "\n",
    "WHERE  (\n",
    "   aa.model not like '%BL460C%'\n",
    "OR aa.model not like '%BL660C%'\n",
    "OR aa.model not like '%BL20P%'\n",
    "OR aa.model not like '%BL860C%'\n",
    "OR aa.model not like '%BL420C%'\n",
    "OR aa.model not like '%BL680C%'\n",
    "OR aa.model not like '%WS460C%'\n",
    "OR aa.model not like '%BL870C%' )"
   ]
  },
  {
   "cell_type": "code",
   "execution_count": null,
   "id": "f4623a0d-a9d2-4e1f-a1b1-b5ee09d79a45",
   "metadata": {},
   "outputs": [],
   "source": [
    "UPDATE `olivier_it_only_index` it \n",
    "SET it.status_position = 'KO localisation'\n",
    "where it.status_position is null"
   ]
  },
  {
   "cell_type": "markdown",
   "id": "a8089167-9864-4bb3-8bb4-b5a1f27575b7",
   "metadata": {},
   "source": [
    "# `Status : Etat`"
   ]
  },
  {
   "cell_type": "markdown",
   "id": "3b613773-e8b8-4422-b6b6-4dce95fe49e4",
   "metadata": {},
   "source": [
    "attribut `status_etat` : Si un équipment est repéré (par son asset_id et/ou sa position ) \n",
    "\n",
    "    - \"Trouvé - bon asset id\"\n",
    "    - \"Non Trouvé - Mauvais Asset ID\"\n",
    "    - \"KO Etat\" - Aucun ou plusieurs equipments sur la même position, impossible d'établir le lien"
   ]
  },
  {
   "cell_type": "code",
   "execution_count": null,
   "id": "136c18fd-7d5b-4cec-a98c-56a6c2d6ae2d",
   "metadata": {},
   "outputs": [],
   "source": [
    "\n",
    "UPDATE `olivier_it_only_index` it \n",
    "INNER JOIN `assets_filtree_reduced`aa\n",
    "ON (\n",
    "\tit.Nom_de_la_salle = aa.Salle\n",
    "AND\n",
    "\tit.Nom_de_baie = aa.Rack\n",
    "AND\n",
    "\tit.Slot_U = CONVERT(aa.Slot_Begin, integer)\n",
    "\t)  \n",
    "    \n",
    "INNER JOIN `IT_Equipment_match_position_reduced_v3` it2\n",
    "ON it.reperage_id = it2.reperage_id \n",
    "and it.nom_de_la_salle = it2.nom_de_la_salle\n",
    "\n",
    "SET it.status_position = 'Bonne localisation'\n",
    "WHERE  (\n",
    "   aa.model not like '%BL460C%'\n",
    "OR aa.model not like '%BL660C%'\n",
    "OR aa.model not like '%BL20P%'\n",
    "OR aa.model not like '%BL860C%'\n",
    "OR aa.model not like '%BL420C%'\n",
    "OR aa.model not like '%BL680C%'\n",
    "OR aa.model not like '%WS460C%'\n",
    "OR aa.model not like '%BL870C%' )"
   ]
  },
  {
   "cell_type": "markdown",
   "id": "08dab2c9-0833-4d0f-9879-2ca3756313a4",
   "metadata": {},
   "source": [
    "# `Status : Etat`"
   ]
  },
  {
   "cell_type": "markdown",
   "id": "277d2978-7d46-4bd6-b1c9-02706c0d9d8b",
   "metadata": {},
   "source": [
    "attribut `status_etat` : Si un équipment est repéré (par son asset_id et/ou sa position ) \n",
    "\n",
    "    - \"Trouvé - bon asset id\"\n",
    "    - \"Non Trouvé - Mauvais Asset ID\"\n",
    "    - \"KO Etat\" - Aucun ou plusieurs equipments sur la même position, impossible d'établir le lien"
   ]
  },
  {
   "cell_type": "code",
   "execution_count": null,
   "id": "4f598380-5cd3-4018-bfea-d87b50e3999a",
   "metadata": {},
   "outputs": [],
   "source": [
    "UPDATE `olivier_it_only_index` it\n",
    "LEFT JOIN `assets_filtree_reduced` aa\n",
    "ON (\n",
    "\tit.Nom_de_la_salle = aa.Salle\n",
    "AND\n",
    "\tit.Nom_de_baie = aa.Rack\n",
    "AND\n",
    "\tit.Slot_U = CONVERT(aa.Slot_Begin, integer)\n",
    "\t)  \n",
    "\n",
    "SET it.status_etat = if(it.status_spec = \"nb of equipement : 1\",aa.etat, it.status_spec) \n",
    "\n"
   ]
  }
 ],
 "metadata": {
  "kernelspec": {
   "display_name": "Python 3 (ipykernel)",
   "language": "python",
   "name": "python3"
  },
  "language_info": {
   "codemirror_mode": {
    "name": "ipython",
    "version": 3
   },
   "file_extension": ".py",
   "mimetype": "text/x-python",
   "name": "python",
   "nbconvert_exporter": "python",
   "pygments_lexer": "ipython3",
   "version": "3.9.7"
  }
 },
 "nbformat": 4,
 "nbformat_minor": 5
}
