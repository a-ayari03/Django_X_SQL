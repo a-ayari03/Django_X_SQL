{
 "cells": [
  {
   "cell_type": "markdown",
   "id": "35d0c2c1",
   "metadata": {},
   "source": [
    "## `IT_Equipment_rack_description` : table des attribues des racks"
   ]
  },
  {
   "cell_type": "markdown",
   "id": "7222495b",
   "metadata": {},
   "source": [
    "### On compte le nombre d' alimentation pour chaque rack"
   ]
  },
  {
   "cell_type": "code",
   "execution_count": null,
   "id": "2be440fd",
   "metadata": {},
   "outputs": [],
   "source": [
    "update `IT_Equipment_rack_description`\n",
    "set Armoire_électrique_1_Nom = NULL\n",
    "where Armoire_électrique_1_Nom in ('', ' ')\n",
    ";"
   ]
  },
  {
   "cell_type": "code",
   "execution_count": null,
   "id": "153aae24",
   "metadata": {},
   "outputs": [],
   "source": [
    "update `IT_Equipment_rack_description`\n",
    "set Armoire_électrique_2_Nom = NULL\n",
    "where Armoire_électrique_2_Nom in ('', ' ')\n",
    ";"
   ]
  },
  {
   "cell_type": "code",
   "execution_count": null,
   "id": "be94c5c6",
   "metadata": {},
   "outputs": [],
   "source": [
    "update `IT_Equipment_rack_description`\n",
    "set Armoire_électrique_3_Nom = NULL\n",
    "where Armoire_électrique_3_Nom in ('', ' ')\n",
    ";"
   ]
  },
  {
   "cell_type": "code",
   "execution_count": null,
   "id": "d54b1aaf",
   "metadata": {},
   "outputs": [],
   "source": [
    "update `IT_Equipment_rack_description`\n",
    "set Armoire_électrique_4_Nom = NULL\n",
    "where Armoire_électrique_4_Nom in ('', ' ')\n",
    ";"
   ]
  },
  {
   "cell_type": "code",
   "execution_count": null,
   "id": "1e20140d",
   "metadata": {},
   "outputs": [],
   "source": [
    "ALTER TABLE IT_Equipment_rack_description\n",
    "ADD COLUMN number_of_alimentation varchar(255)"
   ]
  },
  {
   "cell_type": "code",
   "execution_count": null,
   "id": "a7bdd758",
   "metadata": {},
   "outputs": [],
   "source": [
    "update `IT_Equipment_rack_description` it\n",
    "INNER JOIN \n",
    "(select it.Nom, it.Nom_de_la_salle,count(Armoire_électrique_1_Nom)+count(Armoire_électrique_2_Nom)+count(Armoire_électrique_3_Nom)+count(Armoire_électrique_4_Nom) number_of_alimentation from `IT_Equipment_rack_description` it group by concat(Nom_de_la_salle, Nom)) it2 \n",
    "ON  it.Nom_de_la_salle = it2.Nom_de_la_salle and it.Nom = it2.Nom\n",
    "set it.number_of_alimentation = it2.number_of_alimentation"
   ]
  },
  {
   "cell_type": "markdown",
   "id": "bab6d970",
   "metadata": {},
   "source": [
    "### Mise a jour des tables  avec les attribues de rack\n",
    "- indicator_it_equipment_simulateur_espace\n",
    "- indicator_it_equipment_simulateur_espace_before_after_mp"
   ]
  },
  {
   "cell_type": "markdown",
   "id": "e3b8e7d1",
   "metadata": {},
   "source": [
    "ALTER TABLE indicator_it_equipment_simulateur_espace\n",
    "drop COLUMN number_of_alimentation"
   ]
  },
  {
   "cell_type": "markdown",
   "id": "c2142ddd",
   "metadata": {},
   "source": [
    "ALTER TABLE indicator_it_equipment_simulateur_espace_before_after_mp\n",
    "drop COLUMN number_of_alimentation"
   ]
  },
  {
   "cell_type": "markdown",
   "id": "c7319c9f",
   "metadata": {},
   "source": [
    "ALTER TABLE indicator_it_equipment_simulateur_espace_mp\n",
    "drop COLUMN number_of_alimentation"
   ]
  },
  {
   "cell_type": "code",
   "execution_count": null,
   "id": "59df8cdb",
   "metadata": {},
   "outputs": [],
   "source": [
    "ALTER TABLE indicator_it_equipment_simulateur_espace\n",
    "ADD COLUMN number_of_alimentation varchar(255)"
   ]
  },
  {
   "cell_type": "code",
   "execution_count": null,
   "id": "a7456bbb",
   "metadata": {},
   "outputs": [],
   "source": [
    "ALTER TABLE indicator_it_equipment_simulateur_espace_before_after_mp\n",
    "ADD COLUMN number_of_alimentation varchar(255)"
   ]
  },
  {
   "cell_type": "code",
   "execution_count": null,
   "id": "f49a94b1",
   "metadata": {},
   "outputs": [],
   "source": [
    "ALTER TABLE indicator_it_equipment_simulateur_espace_mp\n",
    "ADD COLUMN number_of_alimentation varchar(255)"
   ]
  },
  {
   "cell_type": "code",
   "execution_count": null,
   "id": "163be612",
   "metadata": {},
   "outputs": [],
   "source": [
    "update `indicator_it_equipment_simulateur_espace_mp` it \n",
    "inner join `IT_Equipment_rack_description` it2 ON concat(it2.Nom_de_la_salle, it2.Nom) = it.key_id\n",
    "set it.number_of_alimentation = it2.number_of_alimentation"
   ]
  },
  {
   "cell_type": "code",
   "execution_count": null,
   "id": "77305be3",
   "metadata": {},
   "outputs": [],
   "source": [
    "update `indicator_it_equipment_simulateur_espace_before_after_mp` it \n",
    "inner join `IT_Equipment_rack_description` it2 ON concat(it2.Nom_de_la_salle, it2.Nom) = it.key_id\n",
    "set it.number_of_alimentation = it2.number_of_alimentation"
   ]
  },
  {
   "cell_type": "code",
   "execution_count": null,
   "id": "cda3c3d0",
   "metadata": {},
   "outputs": [],
   "source": [
    "update `indicator_it_equipment_simulateur_espace` it \n",
    "inner join `IT_Equipment_rack_description` it2 ON concat(it2.Nom_de_la_salle, it2.Nom) = it.key_id\n",
    "set it.number_of_alimentation = it2.number_of_alimentation"
   ]
  },
  {
   "cell_type": "code",
   "execution_count": null,
   "id": "bf86358a",
   "metadata": {},
   "outputs": [],
   "source": [
    "update `indicator_it_equipment_simulateur_espace` it \n",
    "set it.free_series = concat('1 ->',rack_capacity)\n",
    "where occupied_item = ''"
   ]
  },
  {
   "cell_type": "code",
   "execution_count": null,
   "id": "cdb6aa76",
   "metadata": {},
   "outputs": [],
   "source": [
    "update `indicator_it_equipment_simulateur_espace_mp` it \n",
    "set it.free_series = concat('1 ->',rack_capacity)\n",
    "where occupied_item = ''"
   ]
  },
  {
   "cell_type": "code",
   "execution_count": null,
   "id": "a1866402",
   "metadata": {},
   "outputs": [],
   "source": [
    "update `indicator_it_equipment_simulateur_espace_before_after_mp` it \n",
    "inner join `indicator_it_equipment_simulateur_espace` it2 ON concat(it.Nom_de_la_salle, it.Nom_de_baie) = concat(it2.Nom_de_la_salle, it2.Nom_de_baie)\n",
    "set it.free_series_before_mp = it2.free_series\n",
    "where free_series_before_mp = '' ;"
   ]
  },
  {
   "cell_type": "code",
   "execution_count": null,
   "id": "9820e240",
   "metadata": {},
   "outputs": [],
   "source": [
    "update `indicator_it_equipment_simulateur_espace_before_after_mp` it \n",
    "inner join `indicator_it_equipment_simulateur_espace_mp` it2 ON concat(it.Nom_de_la_salle, it.Nom_de_baie) = concat(it2.Nom_de_la_salle, it2.Nom_de_baie)\n",
    "set it.free_series_after_mp = it2.free_series\n",
    "where free_series_after_mp = '' ;"
   ]
  }
 ],
 "metadata": {
  "kernelspec": {
   "display_name": "Python 3 (ipykernel)",
   "language": "python",
   "name": "python3"
  },
  "language_info": {
   "codemirror_mode": {
    "name": "ipython",
    "version": 3
   },
   "file_extension": ".py",
   "mimetype": "text/x-python",
   "name": "python",
   "nbconvert_exporter": "python",
   "pygments_lexer": "ipython3",
   "version": "3.9.7"
  }
 },
 "nbformat": 4,
 "nbformat_minor": 5
}
