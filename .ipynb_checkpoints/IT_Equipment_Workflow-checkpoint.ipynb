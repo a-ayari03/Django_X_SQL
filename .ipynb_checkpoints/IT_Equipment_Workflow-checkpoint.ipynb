{
 "cells": [
  {
   "cell_type": "markdown",
   "id": "d288e7c2-f8e9-4cd2-a36e-2f73223fdcd0",
   "metadata": {},
   "source": [
    "# Workflow IT_Equipment "
   ]
  },
  {
   "cell_type": "markdown",
   "id": "a5cf4257-c863-4a5d-b329-b2df611d729d",
   "metadata": {},
   "source": [
    "Workflow qui permet l'interaction entre la base 6SIGMA (mis à jour depuis les fichier IT_Equipments), la CMDB (asset_new) et du rapport Claude_it (6SIGMA_rapport) afin de permettre aux équipes le suivi des équipements présent dans les salles P1 -> P4"
   ]
  },
  {
   "cell_type": "markdown",
   "id": "43a9759c-a1e7-4092-9c9b-f5973f102361",
   "metadata": {
    "tags": []
   },
   "source": [
    "# 6SIGMA (It_equipment) ⋈ CMDB"
   ]
  },
  {
   "cell_type": "markdown",
   "id": "08ed1ba7-fedc-4724-bbe9-760533c32153",
   "metadata": {},
   "source": [
    "`IT_Equipment_v2` : Table 6SIGMA provenant du fichier IT_equipement et qui se limite aux salles P1 -> P4"
   ]
  },
  {
   "cell_type": "code",
   "execution_count": null,
   "id": "e3a75fed-a795-433b-82b9-5e4953ed6ae9",
   "metadata": {},
   "outputs": [],
   "source": [
    "DROP TABLE IF EXISTS `IT_Equipment_v2` ;\n",
    "CREATE TABLE IT_Equipment_v2\n",
    "as\n",
    "SELECT * FROM `IT_Equipment`\n",
    "where nom_de_la_salle in ('P1', 'P2', 'P3', 'P4')"
   ]
  },
  {
   "cell_type": "code",
   "execution_count": null,
   "id": "c8b947c6-c191-4c75-ad35-f7f403c144d8",
   "metadata": {},
   "outputs": [],
   "source": [
    "UPDATE `IT_Equipment_v2` it\n",
    "set long_name =''\n",
    "where long_name is null "
   ]
  },
  {
   "cell_type": "markdown",
   "id": "61d3892e-15bb-4bc7-ac38-858b44343bde",
   "metadata": {},
   "source": [
    "`assets_filtree_v2` : Table assets_new (CMDB) filtrée aux deux localisations : FRVLB0C2 / FRTCRAVA"
   ]
  },
  {
   "cell_type": "code",
   "execution_count": null,
   "id": "ad097ceb-e3cf-4e17-be41-d44696c3231c",
   "metadata": {},
   "outputs": [],
   "source": [
    "DROP TABLE IF EXISTS `assets_filtree_v2` ;\n",
    "CREATE TABLE assets_filtree_v2\n",
    "as\n",
    "select *\n",
    "from `assets_new`\n",
    "where (API = 'FRVLB0C2' or API = 'FRTCRAVA') ;"
   ]
  },
  {
   "cell_type": "code",
   "execution_count": null,
   "id": "c1a80482-9627-4b49-88e0-898491fd8c87",
   "metadata": {},
   "outputs": [],
   "source": [
    "ALTER TABLE assets_filtree_v2\n",
    "ADD COLUMN Rack varchar(255),\n",
    "ADD COLUMN Slot varchar(255),\n",
    "ADD COLUMN Slot_begin varchar(255),\n",
    "ADD COLUMN Slot_end varchar(255);"
   ]
  },
  {
   "cell_type": "markdown",
   "id": "b9b6887b-6dab-473a-9ee9-304f68b30cff",
   "metadata": {},
   "source": [
    "ré-organisation de la table, rajout des positions"
   ]
  },
  {
   "cell_type": "code",
   "execution_count": null,
   "id": "86128739-6272-4936-ae5b-fc847c51ee08",
   "metadata": {},
   "outputs": [],
   "source": [
    "UPDATE assets_filtree_v2\n",
    "SET \n",
    "\tRack = SUBSTRING_INDEX(DALLE, '/', 1)  ,\n",
    "\tSlot = SUBSTRING_INDEX(DALLE, '/', -1) ,\n",
    "\tSlot_begin = SUBSTRING_INDEX(SUBSTRING_INDEX(DALLE, '/', -1), '-', 1) ,\n",
    "\tSlot_end = SUBSTRING_INDEX(DALLE, '-', -1)"
   ]
  },
  {
   "cell_type": "markdown",
   "id": "b31c2abd-52f8-47e1-880b-bd505cba2ef7",
   "metadata": {},
   "source": [
    "`assets_filtree_reduced` : Limitations aux salles P1 -> P4, les equipements en salle 0 sont jugées comme retiré \n",
    "\n",
    "`assets_filtree_reduced_not_retired` : Limitations aux salles P1 -> P4"
   ]
  },
  {
   "cell_type": "code",
   "execution_count": null,
   "id": "9102dd94-ab2d-4205-ac91-472d460e3e10",
   "metadata": {},
   "outputs": [],
   "source": [
    "DROP TABLE IF EXISTS `assets_filtree_reduced` ;\n",
    "CREATE TABLE assets_filtree_reduced\n",
    "AS\n",
    "SELECT ype, subtype, ASSET_ID, NOM_COURT, NOM_LONG, FABRICANT, MODEL, DALLE, SALLE, Rack, Slot_Begin, Slot_End, No_serie, etat, api, tag_partenaire\n",
    "from `assets_filtree_v2` aa\n",
    "WHERE SALLE in ('P1', 'P2', 'P3', 'P4', '0')"
   ]
  },
  {
   "cell_type": "code",
   "execution_count": null,
   "id": "b7caaf1e-24c3-4e35-aadc-9acdfdc91906",
   "metadata": {},
   "outputs": [],
   "source": [
    "DROP TABLE IF EXISTS `assets_filtree_reduced_not_retired` ;\n",
    "CREATE TABLE assets_filtree_reduced_not_retired\n",
    "AS\n",
    "SELECT ype, subtype, ASSET_ID, NOM_COURT, NOM_LONG, FABRICANT, MODEL, DALLE, SALLE, Rack, Slot_Begin, Slot_End, No_serie, etat, api, tag_partenaire\n",
    "from `assets_filtree_v2` aa\n",
    "WHERE SALLE in ('P1', 'P2', 'P3', 'P4')"
   ]
  },
  {
   "cell_type": "markdown",
   "id": "6da2688f-5e8b-418a-a922-fcf03227f025",
   "metadata": {
    "tags": []
   },
   "source": [
    "##### On ajoute la même forme de position que sur 6sigma pour fluidifier les query"
   ]
  },
  {
   "cell_type": "code",
   "execution_count": null,
   "id": "d983dd99-fdf9-46bc-8934-869e199c3990",
   "metadata": {},
   "outputs": [],
   "source": [
    "\n",
    "ALTER TABLE `assets_filtree_reduced_not_retired`\n",
    "ADD COLUMN reperage_id varchar(255) ;\n",
    "\n",
    "update `assets_filtree_reduced_not_retired`\n",
    "set reperage_id = concat(Rack,\":Slot \", slot_begin) ;\n",
    "\n",
    "ALTER TABLE `assets_filtree_reduced`\n",
    "ADD COLUMN reperage_id varchar(255) ;\n",
    "\n",
    "update `assets_filtree_reduced`\n",
    "set reperage_id = concat(Rack,\":Slot \", slot_begin);"
   ]
  },
  {
   "cell_type": "markdown",
   "id": "cd815235-318c-40f6-bf8b-8d35ed5adcbc",
   "metadata": {},
   "source": [
    "`IT_Equipment_match_position_reduced_v3` : groupement des lignes par positions et affichage d'un seul asset_id par positions + nombres d'equipements sur la même position"
   ]
  },
  {
   "cell_type": "code",
   "execution_count": null,
   "id": "c0eb3c3f-ec94-48fa-8607-6662d5eeee15",
   "metadata": {},
   "outputs": [],
   "source": [
    "DROP TABLE IF EXISTS IT_Equipment_match_position_reduced_v3_not_retired;\n",
    "CREATE TABLE IT_Equipment_match_position_reduced_v3_not_retired\n",
    "as\n",
    "SELECT it.nom_de_la_salle, it.reperage_id, count(it.reperage_id) as RowNumber,\n",
    "\t\tconcat(aa.asset_id) asset_id\n",
    "\n",
    "FROM   `IT_Equipment_v2` it  \n",
    "INNER JOIN `assets_filtree_reduced_not_retired`aa\n",
    "ON (\n",
    "\tit.Nom_de_la_salle = aa.Salle\n",
    "AND\n",
    "\tit.reperage_id = aa.reperage_id\n",
    ")  \n",
    "GROUP BY it.reperage_id"
   ]
  },
  {
   "cell_type": "markdown",
   "id": "74774d8e-d249-44ed-b9fb-feff832edeb0",
   "metadata": {
    "tags": []
   },
   "source": [
    "## Equipement non présent sur IT_Equipment"
   ]
  },
  {
   "cell_type": "markdown",
   "id": "86a46d4e-2262-4288-afbf-d3c2d6a78c64",
   "metadata": {},
   "source": [
    "#### Equipement 6sigma non présent sur IT_Equipment sur la base de la position (salle, rack, slot de départ)"
   ]
  },
  {
   "cell_type": "markdown",
   "id": "3ec40104-d875-4a66-94a9-21faa4c78e55",
   "metadata": {},
   "source": [
    "`IT_Equipment_eq_not_in_cmdb` : Liste des équipements CMDB non présent sur It_Equipment"
   ]
  },
  {
   "cell_type": "code",
   "execution_count": null,
   "id": "5167a17b-f762-4de2-b2f1-8958be73260f",
   "metadata": {},
   "outputs": [],
   "source": [
    "DROP TABLE IF EXISTS IT_Equipment_eq_not_in_cmdb ;\n",
    "CREATE TABLE IT_Equipment_eq_not_in_cmdb\n",
    "as \n",
    "select aa.MODEL, aa.subtype, aa.FABRICANT, aa.NOM_LONG, aa.No_serie, aa.No_serie Serial_number, aa.ASSET_ID,\n",
    "aa.tag_partenaire asset_tag, aa.tag_partenaire asset_number, aa.SALLE, aa.reperage_id reperage_id_origin, \n",
    "aa.reperage_id, NULL end_move_target, null null_1 ,null null_2, null null_3, null null_4, null null_5\n",
    "from `IT_Equipment_v2` it\n",
    "RIGHT JOIN `assets_filtree_reduced_not_retired` aa \n",
    "ON it.reperage_id = aa.reperage_id\n",
    "and it.nom_de_la_salle = aa.salle\n",
    "\n",
    "where it.reperage_id is null and aa.dalle != '' and etat != 'Retired' \n",
    "order by reperage_id asc"
   ]
  },
  {
   "cell_type": "markdown",
   "id": "b438935a-5d92-4adb-ad19-53f5bbb3806a",
   "metadata": {},
   "source": [
    "Beaucoup d'information de 6SIGMA ne sont pas dispo sur la CMDB, on complete donc le nombre de colonne par des valeurs vides (manuellement parceque MariaDB est .....)"
   ]
  },
  {
   "cell_type": "code",
   "execution_count": null,
   "id": "0dfb6f42-1098-411e-ba54-431dde1d9242",
   "metadata": {},
   "outputs": [],
   "source": [
    "DROP TABLE IF EXISTS IT_Equipment_eq_not_in_cmdb ;\n",
    "CREATE TABLE IT_Equipment_eq_not_in_cmdb\n",
    "as \n",
    "select 'Equipements IT', '' fill1, '' fill2_, aa.NOM_LONG, aa.tag_partenaire asset_tag, aa.FABRICANT, aa.MODEL,\n",
    "aa.salle nom_de_la_salle, aa.rack nom_de_baie, aa.slot_begin slot_u, '' fill3, '' fill4,  aa.ype, '' fill5, aa.nom_court, \n",
    "'' fill6, '' fill7, '' fill7_2, aa.asset_id,\n",
    "'' fill8, '' fill9,\n",
    "'' fill10,'' fill11, '' fill12 ,'' fill12_2 ,'' fill13 ,'' fill14 ,'' fill15 ,'' fill16 ,'' fill17 ,'' fill18 , '' fill19 ,\n",
    "'' fill20 ,'' fill21 ,'' fill22, '' fill2, '' fill23, '' fill24, '' fill25,'' fill26, '' fill27, '' fill28, '' fill29, \n",
    "'' fill30 ,'' fill31 ,'' fill32 ,'' fill33 ,'' fill34 ,'' fill35,'' fill36 ,'' fill37 ,'' fill38 ,'' fill39,\n",
    "'' fill40, '' fill41, '' fill42, aa.reperage_id,\n",
    "'' fill43, '' fill44, '' fill45, '' fill46, '' fill47 ,'' fill48 ,'' fill49 ,\n",
    "'' fill50 ,'' fill51 ,'' fill52 ,'' fill53 ,'' fill54 ,'' fill55 ,''  fill56,'' fill57, '' fill58, '' fill59,\n",
    "'' fill60,'' fill61\n",
    "from `IT_Equipment_v2` it\n",
    "RIGHT JOIN `assets_filtree_reduced_not_retired` aa \n",
    "ON it.reperage_id = aa.reperage_id\n",
    "and it.nom_de_la_salle = aa.salle\n",
    "\n",
    "where it.reperage_id is null and aa.dalle != '' and etat != 'Retired' \n",
    "order by reperage_id asc"
   ]
  },
  {
   "cell_type": "markdown",
   "id": "95c8c609-9a6e-4e02-8b41-4ab67c1c5c55",
   "metadata": {},
   "source": [
    "## On ajoute les équipements manquants à olivier_it"
   ]
  },
  {
   "cell_type": "markdown",
   "id": "3009940d-61b2-4127-aeac-5d5477b83496",
   "metadata": {},
   "source": [
    "### ajout d'un attribut `from_sources` qui contient la provenance de l'équipement \n",
    "\n",
    "    - 6Sigma\n",
    "    - CMDB"
   ]
  },
  {
   "cell_type": "code",
   "execution_count": null,
   "id": "604a8b65-f4f9-4eab-aae6-d7440c893ed6",
   "metadata": {},
   "outputs": [],
   "source": [
    "alter table IT_Equipment_v2\n",
    "ADD COLUMN from_source VARCHAR(255) ;"
   ]
  },
  {
   "cell_type": "markdown",
   "id": "0a0315c8-8e86-4fc2-9bfe-72bd147513e4",
   "metadata": {},
   "source": [
    "### Ajout des equipements cleaned de la table `IT_equipement_unique_records`"
   ]
  },
  {
   "cell_type": "markdown",
   "id": "1a799dc0-6677-4866-a66e-01fcd458f805",
   "metadata": {},
   "source": [
    "`IT_equipement_unique_records` (de Equipment_move_workflow) permet d'historiser tous les équipements passés dans **6SIGMA**. si un equipement n'est plus présent sur 6sigma, il possède l'attribut clean_date : null et  il y est inséré avec la l'attribut `from_source` = 'CLEANED'"
   ]
  },
  {
   "cell_type": "code",
   "execution_count": null,
   "id": "26a32fd3-67cd-41b7-9f70-63d259ee6d84",
   "metadata": {},
   "outputs": [],
   "source": [
    "drop table if EXISTS IT_Equipment_unique_records_cleaned ; \n",
    "create table IT_Equipment_unique_records_cleaned\n",
    "as\n",
    "select it.* from `IT_Equipment_unique_records` it\n",
    "LEFT JOIN `IT_Equipment_v2` it2 ON it.ASSET_ID = it2.asset_ID \n",
    "WHERE clean_date is not null and it2.asset_id is null"
   ]
  },
  {
   "cell_type": "markdown",
   "id": "bbc856f1-c11b-4ba9-8c0d-7e1c10b8d6da",
   "metadata": {},
   "source": [
    "select it.* from `IT_Equipment_unique_records` it\n",
    "LEFT JOIN `IT_Equipment_v2` it2 ON it.ASSET_ID = it2.asset_ID \n",
    "WHERE clean_date is not null and it2.asset_id is null\n",
    "/*UNION \n",
    "select it.* from `IT_Equipment_unique_records` it \n",
    "where it.asset_ID = '0' and clean_date is not null\n",
    "*/"
   ]
  },
  {
   "cell_type": "code",
   "execution_count": null,
   "id": "1e22525b-f2a8-4b04-aa5d-3bfff8aa153b",
   "metadata": {},
   "outputs": [],
   "source": [
    "alter table `IT_Equipment_unique_records_cleaned`\n",
    "DROP COLUMN SOURCES, \n",
    "DROP COLUMN INSERTED, \n",
    "DROP COLUMN first_occurence, \n",
    "DROP COLUMN last_move_salle,\n",
    "DROP COLUMN last_move,\n",
    "DROP COLUMN last_move_date,\n",
    "DROP COLUMN clean_date"
   ]
  },
  {
   "cell_type": "markdown",
   "id": "8389a578-ae65-4d93-bdbd-a2c99818f0bb",
   "metadata": {},
   "source": [
    "#### ADD ROW : attribut de l'equipement et atrtibut from_source = provenance"
   ]
  },
  {
   "cell_type": "code",
   "execution_count": null,
   "id": "6f17e676-cfb3-4a6e-9ef2-d7bca151e4c7",
   "metadata": {},
   "outputs": [],
   "source": [
    "INSERT INTO `IT_Equipment_v2` \n",
    "SELECT it.*, \"CMDB\" FROM `IT_Equipment_eq_not_in_cmdb` it"
   ]
  },
  {
   "cell_type": "code",
   "execution_count": null,
   "id": "2889edaf-057c-4e59-bb83-bcaa8ac01e9a",
   "metadata": {},
   "outputs": [],
   "source": [
    "update `IT_Equipment_v2`\n",
    "set from_source = '6SIGMA'\n",
    "where from_source is null"
   ]
  },
  {
   "cell_type": "code",
   "execution_count": null,
   "id": "ffbf3416-ba1a-49d8-9023-3f4794af68e5",
   "metadata": {},
   "outputs": [],
   "source": [
    "insert into `IT_Equipment_v2`\n",
    "select it.*, 'CLEANED' from `IT_Equipment_unique_records_cleaned` it"
   ]
  },
  {
   "cell_type": "code",
   "execution_count": null,
   "id": "1fb5b636-197d-4bd3-add4-aa9dd4af134f",
   "metadata": {},
   "outputs": [],
   "source": [
    "ALTER TABLE IT_Equipment_v2 \n",
    "ADD COLUMN status_CMDB varchar(255),\n",
    "ADD COLUMN status_position_CMDB varchar(255)"
   ]
  },
  {
   "cell_type": "code",
   "execution_count": null,
   "id": "c48feff1-f439-4222-b2a9-4c1bde2ef79e",
   "metadata": {},
   "outputs": [],
   "source": [
    "ALTER TABLE IT_Equipment_v2 \n",
    "ADD COLUMN status_asset_id varchar(255),\n",
    "ADD COLUMN status_position varchar(255),\n",
    "ADD COLUMN status_name varchar(255),\n",
    "ADD COLUMN status_etat varchar(255),\n",
    "ADD COLUMN status_global varchar(255),\n",
    "ADD COLUMN status_etat_hpe varchar(255),\n",
    "ADD COLUMN status_spec varchar(255),\n",
    "ADD COLUMN status_cc varchar(255) ;"
   ]
  },
  {
   "cell_type": "markdown",
   "id": "fb008ebb-36ea-4444-9c72-ebdc13f1a9d8",
   "metadata": {},
   "source": [
    "## Status d'asset_id et de position"
   ]
  },
  {
   "cell_type": "markdown",
   "id": "b4376bc5-bbe3-4e42-9f95-cb63efd7e857",
   "metadata": {},
   "source": [
    "\t-  OK : asset id présent sur CMDB\n",
    "\t- KO : Non présent"
   ]
  },
  {
   "cell_type": "code",
   "execution_count": null,
   "id": "e224e109-49cb-4210-8e6b-0e9ec642ee94",
   "metadata": {},
   "outputs": [],
   "source": [
    "UPDATE `IT_Equipment_v2` it \n",
    "INNER JOIN `assets_filtree_reduced_not_retired` it2 ON it.ASSET_ID = it2.ASSET_ID \n",
    "\n",
    "SET it.status_cmdb = 'OK'\n",
    "\n",
    "WHERE (it.ASSET_ID != '' or it.ASSET_ID != '' or it2.ASSET_ID != '' or it2.ASSET_ID != '')"
   ]
  },
  {
   "cell_type": "code",
   "execution_count": null,
   "id": "9f0c28ea-7c12-4892-a491-c404236e5039",
   "metadata": {},
   "outputs": [],
   "source": [
    "UPDATE `IT_Equipment_v2` it \n",
    "SET status_CMDB = 'KO'\n",
    "WHERE status_CMDB is null"
   ]
  },
  {
   "cell_type": "markdown",
   "id": "01d6b6dd-d35d-434e-b16c-408c900d67b0",
   "metadata": {},
   "source": [
    "\t-  OK :Position présente sur CMDB\n",
    "\t- KO : Non présen"
   ]
  },
  {
   "cell_type": "code",
   "execution_count": null,
   "id": "ad2f000a-cc5d-49e4-be9c-052dbf6abb28",
   "metadata": {},
   "outputs": [],
   "source": [
    "UPDATE `IT_Equipment_v2` it \n",
    "INNER JOIN `assets_filtree_reduced_not_retired`aa\n",
    "ON (\n",
    "\tit.Nom_de_la_salle = aa.Salle\n",
    "AND\n",
    "\tit.reperage_id = aa.reperage_id\n",
    ")  \n",
    "    \n",
    "INNER JOIN `IT_Equipment_match_position_reduced_v3_not_retired` it2\n",
    "ON it.reperage_id = it2.reperage_id\n",
    "and it.nom_de_la_salle = it2.nom_de_la_salle\n",
    "\n",
    "SET it.status_position_CMDB = 'OK'\n",
    "\n",
    "WHERE  (\n",
    "   aa.model not like '%BL460C%'\n",
    "OR aa.model not like '%BL660C%'\n",
    "OR aa.model not like '%BL20P%'\n",
    "OR aa.model not like '%BL860C%'\n",
    "OR aa.model not like '%BL420C%'\n",
    "OR aa.model not like '%BL680C%'\n",
    "OR aa.model not like '%WS460C%'\n",
    "OR aa.model not like '%BL870C%' )"
   ]
  },
  {
   "cell_type": "code",
   "execution_count": null,
   "id": "dd6aa688-5571-44ae-a302-9ca982a6b1c2",
   "metadata": {},
   "outputs": [],
   "source": [
    "UPDATE `IT_Equipment_v2` it \n",
    "SET status_position_CMDB = 'KO'\n",
    "WHERE status_position_CMDB is null;"
   ]
  },
  {
   "cell_type": "markdown",
   "id": "04695d78-071b-4548-b98c-abe3bb2d437d",
   "metadata": {
    "tags": []
   },
   "source": [
    "# UPDATE de la table IT_Equipment_v2"
   ]
  },
  {
   "cell_type": "markdown",
   "id": "f276a620-c858-43ae-9cf4-27482abe10cf",
   "metadata": {},
   "source": [
    "### `MATCH ASSET_ID`"
   ]
  },
  {
   "cell_type": "markdown",
   "id": "77735f59-fea8-415b-bd0b-087aa8732d72",
   "metadata": {},
   "source": [
    "attribut `status_asset_id` : \n",
    "\n",
    "    - \"Trouvé - bon asset id\"\n",
    "    - \"Non Trouvé - Mauvais Asset ID\" impossibilité de trouver l'asset_id dans la CMDB (assets_filtrée)"
   ]
  },
  {
   "cell_type": "code",
   "execution_count": null,
   "id": "a0fadcbd-86c6-44f9-95c0-0a7d7731027f",
   "metadata": {},
   "outputs": [],
   "source": [
    "UPDATE `IT_Equipment_v2` it\n",
    "LEFT JOIN `assets_filtree_reduced` aa\n",
    "ON aa.asset_id = it.asset_id\n",
    "and (it.asset_id != '0' or it.asset_id != '')\n",
    "SET it.status_asset_id = ( CASE WHEN aa.asset_id is not null then 'Trouvé - bon asset id'\n",
    "                          ELSE \"Non Trouvé - Mauvais Asset ID\"\n",
    "                          END \n",
    "                          )\n"
   ]
  },
  {
   "cell_type": "markdown",
   "id": "a34e03f7-a00a-4f49-b00b-204fe1813c13",
   "metadata": {},
   "source": [
    "### `MATCH POSITION`"
   ]
  },
  {
   "cell_type": "markdown",
   "id": "5a7ffca0-adb9-4e36-8376-4436455abda6",
   "metadata": {},
   "source": [
    "attribut `status_position` : \n",
    "\n",
    "    - \"Bonne localisation\"\n",
    "    - \"KO localisation\" : impossibilité de trouver la position dans la CMDB (assets_filtrée)"
   ]
  },
  {
   "cell_type": "code",
   "execution_count": null,
   "id": "8928eea8-c37c-4c4b-a703-e3eaa446d1aa",
   "metadata": {},
   "outputs": [],
   "source": [
    "UPDATE `IT_Equipment_v2` it \n",
    "INNER JOIN `assets_filtree_reduced`aa\n",
    "ON (\n",
    "\tit.Nom_de_la_salle = aa.Salle\n",
    "AND\n",
    "\tit.Nom_de_baie = aa.Rack\n",
    "AND\n",
    "\tit.Slot_U = CONVERT(aa.Slot_Begin, integer)\n",
    "\t)  \n",
    "    \n",
    "INNER JOIN `IT_Equipment_match_position_reduced_v3` it2\n",
    "ON it.reperage_id = it2.reperage_id\n",
    "and it.nom_de_la_salle = it2.nom_de_la_salle\n",
    "\n",
    "SET it.status_position = 'Bonne localisation'\n",
    "WHERE  (\n",
    "   aa.model not like '%BL460C%'\n",
    "OR aa.model not like '%BL660C%'\n",
    "OR aa.model not like '%BL20P%'\n",
    "OR aa.model not like '%BL860C%'\n",
    "OR aa.model not like '%BL420C%'\n",
    "OR aa.model not like '%BL680C%'\n",
    "OR aa.model not like '%WS460C%'\n",
    "OR aa.model not like '%BL870C%' )"
   ]
  },
  {
   "cell_type": "code",
   "execution_count": null,
   "id": "99f5f435-e9f1-4a49-a451-1f79b3a20134",
   "metadata": {},
   "outputs": [],
   "source": [
    "UPDATE `IT_Equipment_v2` it \n",
    "SET it.status_position = 'KO localisation'\n",
    "where it.status_position is null"
   ]
  },
  {
   "cell_type": "markdown",
   "id": "519d333f-9fd7-46c7-be1c-76632df015a1",
   "metadata": {
    "tags": []
   },
   "source": [
    "# `Nom`"
   ]
  },
  {
   "cell_type": "markdown",
   "id": "6fa8300b-f142-43db-b55b-8d2b7f8347da",
   "metadata": {},
   "source": [
    "attribut `status_nom_court` : Priorisation du status affiché \n",
    "    \n",
    "    1. Présence d'asset d'id\n",
    "        1. \"nom_court type OLD\"\n",
    "        2. \"nom_long type OLD\" \n",
    "        3. \"OK nom_court\"\n",
    "        4. \"OK nom_long\"\n",
    "        5. \"Mauvais nom\" : nom court/long non présent dans la cmdb\n",
    "    \n",
    "    2. Non présence d'asset d'id\n",
    "        1. \"nom_court type OLD\"\n",
    "        2. \"nom_long type OLD\" \n",
    "        3. \"OK nom_court\"\n",
    "        4. \"OK nom_long\"\n",
    "        5. \"Mauvais nom\" : nom court/long non présent dans la cmdb"
   ]
  },
  {
   "cell_type": "code",
   "execution_count": null,
   "id": "797da5f7-6f6f-414f-b406-f55fd1c47595",
   "metadata": {},
   "outputs": [],
   "source": [
    "UPDATE `IT_Equipment_v2` it\n",
    "INNER JOIN `assets_filtree_reduced` aa\n",
    "ON aa.nom_court  = it.short_name    \n",
    "SET it.status_name = \"OK nom_court\"\n",
    "where it.short_name != ''"
   ]
  },
  {
   "cell_type": "code",
   "execution_count": null,
   "id": "0a13b7de-79a1-4625-a83d-f13f437f0a34",
   "metadata": {},
   "outputs": [],
   "source": [
    "UPDATE `IT_Equipment_v2` it\n",
    "INNER JOIN `assets_filtree_reduced` aa\n",
    "ON aa.nom_long  = it.nom   \n",
    "SET it.status_name = \"OK nom_long\"\n",
    "where it.nom != '' and status_name is null"
   ]
  },
  {
   "cell_type": "markdown",
   "id": "400feb8f-88c6-409c-9e48-160ced2e3b30",
   "metadata": {
    "tags": []
   },
   "source": [
    "### `'CMDB-OK-OLD'`"
   ]
  },
  {
   "cell_type": "code",
   "execution_count": null,
   "id": "3eb60908-93e0-45c0-be23-92c51b10c1d5",
   "metadata": {},
   "outputs": [],
   "source": [
    "UPDATE `IT_Equipment_v2` it\n",
    "INNER JOIN `assets_filtree_reduced` aa\n",
    "ON ( REPLACE(REPLACE(aa.nom_long,'_OLD',''),'-OLD','')  = it.nom \n",
    "OR REPLACE(REPLACE(aa.nom_court,'_OLD',''),'-OLD','')  = it.short_name )\n",
    "AND aa.asset_id = it.asset_id\n",
    " \n",
    "\n",
    "SET it.status_name = (CASE WHEN nom_court like '%OLD' and  nom !='' THEN \"nom_court type OLD\"\n",
    "                      WHEN nom_long like '%OLD' and  short_name !='' THEN \"nom_long type OLD\"\n",
    "                      ELSE it.status_name\n",
    "                      END\n",
    "                     )\n",
    "\n",
    "where (aa.nom_court like '%_OLD' or aa.nom_long like '%_OLD' or aa.nom_court like '%-OLD' or aa.nom_long like '%-OLD')"
   ]
  },
  {
   "cell_type": "code",
   "execution_count": null,
   "id": "7f51bb0f-2cc6-4b6e-83b3-6df782b7e1aa",
   "metadata": {},
   "outputs": [],
   "source": [
    "UPDATE `IT_Equipment_v2` it\n",
    "INNER JOIN `assets_filtree_reduced` aa\n",
    "ON REPLACE(REPLACE(aa.nom_long,'_OLD',''),'-OLD','')  = it.nom \n",
    "OR REPLACE(REPLACE(aa.nom_court,'_OLD',''),'-OLD','')  = it.short_name\n",
    "\n",
    "\n",
    "SET it.status_name = (CASE WHEN nom_court like '%OLD' and  nom !='' THEN \"nom_court type OLD\"\n",
    "                      WHEN nom_long like '%OLD' and  short_name !='' THEN \"nom_long type OLD\"\n",
    "                      ELSE it.status_name\n",
    "                      END\n",
    "                     )\n",
    "\n",
    "where (aa.nom_court like '%_OLD' or aa.nom_long like '%_OLD' or aa.nom_court like '%-OLD' or aa.nom_long like '%-OLD') and status_asset_id != 'Trouvé - bon asset id'"
   ]
  },
  {
   "cell_type": "code",
   "execution_count": null,
   "id": "b4914402-dbc3-4943-954d-fecbd6eaa57b",
   "metadata": {},
   "outputs": [],
   "source": [
    "UPDATE `IT_Equipment_v2` it\n",
    "SET it.status_name = \"Mauvais nom\"\n",
    "where it.status_name is null"
   ]
  },
  {
   "cell_type": "markdown",
   "id": "8d4fb180-3121-47f9-b847-39c451aa2789",
   "metadata": {},
   "source": [
    "# `Status : Etat`"
   ]
  },
  {
   "cell_type": "markdown",
   "id": "c35dc04a-09a6-4ee0-863a-266c97606416",
   "metadata": {},
   "source": [
    "attribut `status_etat` : Si un équipment est repéré (par son asset_id et/ou sa position ) \n",
    "\n",
    "    - \"Trouvé - bon asset id\"\n",
    "    - \"Non Trouvé - Mauvais Asset ID\"\n",
    "    - \"KO Etat\" - Aucun ou plusieurs equipments sur la même position, impossible d'établir le lien"
   ]
  },
  {
   "cell_type": "code",
   "execution_count": null,
   "id": "34de081b-3bbb-4620-9269-810f654ca921",
   "metadata": {},
   "outputs": [],
   "source": [
    "UPDATE `IT_Equipment_v2` it\n",
    "LEFT JOIN `assets_filtree_reduced` aa\n",
    "ON aa.asset_id = it.asset_id\n",
    "and it.asset_id != '0'\n",
    "SET it.status_etat = aa.etat ;\n"
   ]
  },
  {
   "cell_type": "code",
   "execution_count": null,
   "id": "aeeb581f-81c5-4f8a-b8a7-8ae7b7d1087c",
   "metadata": {},
   "outputs": [],
   "source": [
    "\n",
    "UPDATE `IT_Equipment_v2` it\n",
    "INNER JOIN `assets_filtree_reduced` aa\n",
    "ON ( REPLACE(REPLACE(aa.nom_court,'_OLD',''),'-OLD','')  = it.nom \n",
    "OR REPLACE(REPLACE(aa.nom_court,'_OLD',''),'-OLD','')  = it.short_name )\n",
    "\n",
    "SET it.status_etat = aa.etat\n",
    "where status_name = \"nom_court type OLD\" ;"
   ]
  },
  {
   "cell_type": "code",
   "execution_count": null,
   "id": "b537bd1f-bd79-490c-8532-c631b23c1baa",
   "metadata": {},
   "outputs": [],
   "source": [
    "\n",
    "UPDATE `IT_Equipment_v2` it\n",
    "INNER JOIN `assets_filtree_reduced` aa\n",
    "ON ( REPLACE(REPLACE(aa.nom_long,'_OLD',''),'-OLD','')  = it.nom \n",
    "OR REPLACE(REPLACE(aa.nom_long,'_OLD',''),'-OLD','')  = it.short_name )\n",
    "SET it.status_etat = aa.etat\n",
    "where status_name = \"nom_long type OLD\" ;"
   ]
  },
  {
   "cell_type": "code",
   "execution_count": null,
   "id": "450b58a2-f6fd-47c0-880c-cae21d89776f",
   "metadata": {},
   "outputs": [],
   "source": [
    "\n",
    "UPDATE `IT_Equipment_v2` it\n",
    "INNER JOIN `assets_filtree_reduced` aa\n",
    "ON ( REPLACE(REPLACE(aa.nom_court,'_OLD',''),'-OLD','')  = it.nom \n",
    "OR REPLACE(REPLACE(aa.nom_court,'_OLD',''),'-OLD','')  = it.short_name )\n",
    "AND aa.asset_id = it.asset_id\n",
    "\n",
    "SET it.status_etat = aa.etat\n",
    "where status_name = \"nom_court type OLD\" and status_asset_id != 'Trouvé - bon asset id'"
   ]
  },
  {
   "cell_type": "code",
   "execution_count": null,
   "id": "b3599161-e3b9-4e79-a43d-7faacfdcf553",
   "metadata": {},
   "outputs": [],
   "source": [
    "UPDATE `IT_Equipment_v2` it\n",
    "INNER JOIN `assets_filtree_reduced` aa\n",
    "ON ( REPLACE(REPLACE(aa.nom_long,'_OLD',''),'-OLD','')  = it.nom \n",
    "OR REPLACE(REPLACE(aa.nom_long,'_OLD',''),'-OLD','')  = it.short_name )\n",
    "AND aa.asset_id = it.asset_id\n",
    "SET it.status_etat = aa.etat\n",
    "where status_name = \"nom_long type OLD\" and status_asset_id != 'Trouvé - bon asset id'"
   ]
  },
  {
   "cell_type": "code",
   "execution_count": null,
   "id": "193ef199-a180-42b5-8146-dd4f09569997",
   "metadata": {},
   "outputs": [],
   "source": [
    "UPDATE `IT_Equipment_v2` it\n",
    " SET it.status_etat = 'KO Etat_CMDB'\n",
    "where it.status_etat is null"
   ]
  },
  {
   "cell_type": "markdown",
   "id": "f85600cd-6b23-459c-ad19-3c2606af47f7",
   "metadata": {},
   "source": [
    "# `Status_spec : Cas spécifique`"
   ]
  },
  {
   "cell_type": "markdown",
   "id": "6d861d67-88c9-43c2-8020-a7b5a26589ac",
   "metadata": {},
   "source": [
    "attribut `status_spec` : \n",
    "\n",
    "    - \"Patch Panel\"\n",
    "    - \"PCP\""
   ]
  },
  {
   "cell_type": "markdown",
   "id": "7de7ed43-3d93-4a03-8aa2-199651c7a8ed",
   "metadata": {
    "tags": []
   },
   "source": [
    "### `Patch Panel`"
   ]
  },
  {
   "cell_type": "code",
   "execution_count": null,
   "id": "3124354e-8d4a-4627-8dc0-aa206be61532",
   "metadata": {},
   "outputs": [],
   "source": [
    "UPDATE `IT_Equipment_v2` it \n",
    "SET it.Status_spec = \"Trouvé - Patch Panel\"\n",
    "where type like '%Patch Panel%' or fabricant in ('Arista', 'Alcatel-Lucent');"
   ]
  },
  {
   "cell_type": "markdown",
   "id": "63b64f91-c547-40a3-8baa-aeb111f5c401",
   "metadata": {
    "tags": []
   },
   "source": [
    "### `PCP`"
   ]
  },
  {
   "cell_type": "code",
   "execution_count": null,
   "id": "1a772fa5-fcf6-4264-afe0-35e5a616bfe2",
   "metadata": {},
   "outputs": [],
   "source": [
    "UPDATE `IT_Equipment_v2` it\n",
    "SET it.Status_spec = 'Trouvé - PCP Mal documenté'\n",
    "where (it.Nom like '%compute%' or it.short_name like '%compute%' or reperage_id like '%compute%') or \n",
    "(it.Nom like '%_Rack%' or it.short_name like '%_Rack%' or reperage_id like '%_Rack%') and (asset_id is null or asset_id ='0' or asset_id ='');"
   ]
  },
  {
   "cell_type": "markdown",
   "id": "4909fd97-82b4-44f7-be1e-3f7dd9405cc8",
   "metadata": {},
   "source": [
    "#### `PCP` : Cas des Spectrum SN2100, ils sont supprimmé du rapport final"
   ]
  },
  {
   "cell_type": "code",
   "execution_count": null,
   "id": "5648ee88-d025-4645-b056-8228f9648bc9",
   "metadata": {},
   "outputs": [],
   "source": [
    "drop table if exists IT_Equipment_SN2100 ;\n",
    "create table IT_Equipment_SN2100\n",
    "as\n",
    "select * from `IT_Equipment_v2`  where modele = 'Spectrum SN2100'\n",
    "GROUP by nom"
   ]
  },
  {
   "cell_type": "code",
   "execution_count": null,
   "id": "e0fdada1-51bf-44a0-8e4d-fb1fd6582d7f",
   "metadata": {},
   "outputs": [],
   "source": [
    "delete from `IT_Equipment_v2` where modele = 'Spectrum SN2100'"
   ]
  },
  {
   "cell_type": "code",
   "execution_count": null,
   "id": "38a26763-60ef-4739-aa8f-f86d1e1f3483",
   "metadata": {},
   "outputs": [],
   "source": [
    "insert into `IT_Equipment_v2`\n",
    "select it.* from `IT_Equipment_SN2100` it"
   ]
  },
  {
   "cell_type": "markdown",
   "id": "130707d9-67df-42dd-b1e1-69428604c33c",
   "metadata": {},
   "source": [
    "#### Les Baies I11 -> O11 sont tous référencés comme des PCP, ils sont mal documentés"
   ]
  },
  {
   "cell_type": "code",
   "execution_count": null,
   "id": "6bbbbb7e-5080-49a6-8737-0f6eb2d48b9a",
   "metadata": {},
   "outputs": [],
   "source": [
    "update `IT_Equipment_v2` \n",
    "SET status_spec = 'PCP : KO'\n",
    "where nom_de_baie in ('I11', 'J11', 'K11', 'L11', 'M11', 'N11', 'O11')"
   ]
  },
  {
   "cell_type": "markdown",
   "id": "79346f7e-7031-452b-9396-dc6413219a3a",
   "metadata": {},
   "source": [
    "##### `IT_Equipment_status_eq` : Liste des equipements spéciaux, query à ne pas lancer. Garde un historique"
   ]
  },
  {
   "cell_type": "markdown",
   "id": "89bc2507-1edf-4115-971b-873ae942d6ef",
   "metadata": {},
   "source": [
    "drop table if EXISTS IT_Equipment_status_eq ;\n",
    "create table IT_Equipment_status_eq\n",
    "as\n",
    "select nom, modele, fabricant, asset_id, nom_de_la_salle, reperage_id, status_spec from `IT_Equipment_v2` \n",
    "where status_spec is not null ;\n",
    "alter table IT_Equipment_status_eq\n",
    "ADD COLUMN key_id INTEGER NOT NULL AUTO_INCREMENT KEY;"
   ]
  },
  {
   "cell_type": "markdown",
   "id": "11d6dac8-2cab-4ab6-aed4-062e1c83b5a3",
   "metadata": {},
   "source": [
    "#### Insertion de nouveau equipements spéciaux (Patch Panel /PCP) "
   ]
  },
  {
   "cell_type": "code",
   "execution_count": null,
   "id": "9d9f0846-445d-4bec-9c05-dff80c587a8e",
   "metadata": {},
   "outputs": [],
   "source": [
    "INSERT INTO IT_Equipment_status_eq(nom, modele, fabricant, asset_id, nom_de_la_salle, reperage_id, status_spec)\n",
    "select it.nom, it.modele, it.fabricant, it.asset_id, it.nom_de_la_salle, it.reperage_id, it.status_spec from `IT_Equipment_v2` it\n",
    "left join `IT_Equipment_status_eq` it2 ON concat(it.Nom_de_la_salle, it.Reperage_ID) = concat(it2.Nom_de_la_salle, it2.Reperage_ID)\n",
    "where it2.nom is null and it.status_spec is not null and it.asset_id = '0'"
   ]
  },
  {
   "cell_type": "code",
   "execution_count": null,
   "id": "fab9d700-c341-4302-81ee-476333d5610b",
   "metadata": {},
   "outputs": [],
   "source": [
    "UPDATE `IT_Equipment_status_eq`\n",
    "set asset_id = (CASE \n",
    "                WHEN lower(status_spec) like '%patch panel%' then concat('patch panel: ', key_id)\n",
    "                WHEN lower(status_spec) like '%pcp%' then concat('pcp: ', key_id)\n",
    "                END\n",
    "                )"
   ]
  },
  {
   "cell_type": "code",
   "execution_count": null,
   "id": "254aabb0-9029-420b-a736-b1156c1b2132",
   "metadata": {},
   "outputs": [],
   "source": [
    "UPDATE `IT_Equipment_v2` it\n",
    "inner join `IT_Equipment_status_eq` it2 ON concat(it.Nom_de_la_salle, it.Reperage_ID) = concat(it2.Nom_de_la_salle, it2.Reperage_ID)\n",
    "set it.asset_id = it2.asset_id \n",
    "where lower(it.status_spec) like '%pcp%' or lower(it.status_spec) like '%patch panel%'\n"
   ]
  },
  {
   "cell_type": "markdown",
   "id": "d4425ca9-8aac-4ffc-a528-fdc122100668",
   "metadata": {},
   "source": [
    "attribut `status_etat_hpe` : \n",
    "\n",
    "    1- pas asset id & pas de localisation\n",
    "    2- pas asset id & localisation\n",
    "    3- assed id & localisation => status\n",
    "    4- asset id & pas localisation ==> \"assetid\"\n",
    "    5- PCP ==> \"PCP\"\n",
    "    6- Patch Panel => \"Patch Panel\""
   ]
  },
  {
   "cell_type": "code",
   "execution_count": null,
   "id": "51e1bd23-8796-4a18-9530-ca3a22d348cc",
   "metadata": {},
   "outputs": [],
   "source": [
    "UPDATE `IT_Equipment_v2` it\n",
    "SET it.status_etat_hpe = \n",
    "    (CASE WHEN status_asset_id != 'Trouvé - bon asset id' AND status_position = 'KO localisation' and status_spec is null THEN 'pas asset id & pas de localisation'\n",
    "     WHEN status_asset_id != 'Trouvé - bon asset id' AND status_position != 'KO localisation' and status_spec is null THEN 'pas asset id & localisation'\n",
    "     WHEN status_asset_id = 'Trouvé - bon asset id' AND status_position != 'KO localisation' and status_spec is null THEN status_etat\n",
    "     WHEN status_asset_id = 'Trouvé - bon asset id' AND status_position = 'KO localisation' and status_spec is null THEN 'asset id & pas de localisation'\n",
    "     WHEN status_spec is not null then status_spec\n",
    "     END\n",
    "    )              \n",
    "    ;"
   ]
  },
  {
   "cell_type": "markdown",
   "id": "79ea28c5-3410-4477-bec7-301d9316f605",
   "metadata": {},
   "source": [
    "# `GLOBAL STATUS`"
   ]
  },
  {
   "cell_type": "markdown",
   "id": "16eaf444-d634-4f4b-ad49-3268e5c26084",
   "metadata": {},
   "source": [
    "attribut `status_status` : Agrégation de tous les attribus"
   ]
  },
  {
   "cell_type": "code",
   "execution_count": null,
   "id": "66155f5c-954c-4db9-a508-5f7b03ddeb5e",
   "metadata": {},
   "outputs": [],
   "source": [
    "UPDATE IT_Equipment_v2 \n",
    "set status_global = concat(status_asset_id , ' - ' , status_position , ' - ' , status_name, \" - \" , status_etat );"
   ]
  },
  {
   "cell_type": "markdown",
   "id": "cee6d6ff-add8-4fd3-82cc-b6823124d3c2",
   "metadata": {},
   "source": [
    "# `STATUS_CC`"
   ]
  },
  {
   "cell_type": "markdown",
   "id": "99247f03-b8f1-47d6-a440-1e5952f1c4c9",
   "metadata": {},
   "source": [
    "attribut `status_CC` : Aggrégation de tous les attribus"
   ]
  },
  {
   "cell_type": "code",
   "execution_count": null,
   "id": "ecace67b-0637-41ae-addc-0f26e870d3e1",
   "metadata": {},
   "outputs": [],
   "source": [
    "UPDATE IT_Equipment_v2 \n",
    "set status_cc = concat(\n",
    "                       \"CHIPRE \", status_etat_hpe ) ;\n"
   ]
  },
  {
   "cell_type": "markdown",
   "id": "f80af3df-f120-4685-8930-ee7247dd88a9",
   "metadata": {
    "jp-MarkdownHeadingCollapsed": true,
    "tags": []
   },
   "source": [
    "#### `IT_Equipment_x_olivier_it` : Ajout des commentaires et attribues d'olivier_it sur 6sigma ( Non utilisé)"
   ]
  },
  {
   "cell_type": "markdown",
   "id": "d41105e0-0e9a-4d07-9fb6-cf539a35067d",
   "metadata": {},
   "source": [
    "drop table if EXISTS IT_Equipment_x_olivier_it ;\n",
    "create table IT_Equipment_x_olivier_it\n",
    "as\n",
    "select it.*, it2.modele modele_olivier, it2.type type_olivier, it2.fabricant fabricant_olivier, it2.nom nom_olivier, it2.short_name short_name_olivier, it2.SERIAL_NUMBER SERIAL_NUMBER_olivier, it2.asset_id asset_id_olivier, it2.ASSET_TAG ASSET_TAG_olivier, it2.Asset_Number Asset_Number_olivier, it2.Nom_de_la_salle Nom_de_la_salle_olivier, it2.reperage_id_origin, it2.reperage_id reperage_id_olivier,\n",
    "it2.End_Move_Target End_Move_Target_olivier, it2.Status_hpe, it2.Salle_Dest, it2.Rack_U_Dest, it2.olivier_index, it2.PROJET_Responsable,\n",
    "it2.status_CMDB status_CMDB_olivier, it2.status_position_CMDB status_position_CMDB_olivier\n",
    "from `IT_Equipment_v2` it\n",
    "LEFT JOIN `olivier_it` it2 ON concat(it.Nom_de_la_salle, it.Reperage_ID) = concat(it2.Nom_de_la_salle, it2.Reperage_ID)\n",
    "where from_source = '6SIGMA'"
   ]
  },
  {
   "cell_type": "markdown",
   "id": "2bfda95c",
   "metadata": {},
   "source": [
    "## Suppression d'equipement non requis (Provenant de la CMDB)"
   ]
  },
  {
   "cell_type": "markdown",
   "id": "cd6d28ef",
   "metadata": {},
   "source": [
    "equipement avec comme slot_u le nom du rack, s'agit surement d'une erreur"
   ]
  },
  {
   "cell_type": "markdown",
   "id": "f7aafb21",
   "metadata": {},
   "source": [
    "SELECT nom, Nom_de_la_salle, Reperage_ID, slot_u, slot_u REGEXP '^[0-9]+$'  from_source FROM `IT_Equipment_v2` WHERE slot_u REGEXP '^[0-9]+$' = 0"
   ]
  },
  {
   "cell_type": "code",
   "execution_count": null,
   "id": "6d5763cd",
   "metadata": {},
   "outputs": [],
   "source": [
    "delete FROM `IT_Equipment_v2` WHERE slot_u REGEXP '^[0-9]+$' = 0"
   ]
  },
  {
   "cell_type": "markdown",
   "id": "a085b4e4-6d4c-4ba6-9e7f-6a1a8a7a4a67",
   "metadata": {},
   "source": [
    "# Indicateur"
   ]
  },
  {
   "cell_type": "markdown",
   "id": "86375775-3f5a-48d1-9805-e920ddf537ac",
   "metadata": {},
   "source": [
    "`indicator_IT_Equipment_status` : nombre d'equipement pour un status donnée de l'attribut status_cc"
   ]
  },
  {
   "cell_type": "code",
   "execution_count": null,
   "id": "1b1197e8-35f5-43ca-8fd8-99979a9e4bb9",
   "metadata": {},
   "outputs": [],
   "source": [
    "drop VIEW if EXISTS indicator_IT_Equipment_status ;\n",
    "create VIEW indicator_IT_Equipment_status\n",
    "as \n",
    "SELECT status_cc, count(*) row_count FROM `IT_Equipment_v2`\n",
    "GROUP BY status_cc"
   ]
  },
  {
   "cell_type": "markdown",
   "id": "bc140b20-e6ae-4362-97a0-dabcab19cae1",
   "metadata": {},
   "source": [
    "`indicator_IT_Equipment_add_row_per_salle` : nombre d'equipement par salle et par source (6SIGMA, CLEANED, CMDB)"
   ]
  },
  {
   "cell_type": "code",
   "execution_count": null,
   "id": "398e34a1-3f18-4ef6-8005-458978cc68cf",
   "metadata": {},
   "outputs": [],
   "source": [
    "drop view if EXISTS indicator_IT_Equipment_add_row_per_salle ;\n",
    "create view indicator_IT_Equipment_add_row_per_salle\n",
    "as \n",
    "select DISTINCT(from_source), NOM_de_la_salle, count(*) equipment_count from `IT_Equipment_v2`\n",
    "GROUP BY from_source, NOM_de_la_salle"
   ]
  },
  {
   "cell_type": "markdown",
   "id": "9be799e2-5eef-404f-a035-5a006dbf4951",
   "metadata": {},
   "source": [
    "# 6SIGMA (It_equipment) ⋈ Claude_it"
   ]
  },
  {
   "cell_type": "markdown",
   "id": "82cb13c8-7021-4e5c-b299-bfe74e28095d",
   "metadata": {},
   "source": [
    "Initialement, le fichier Claude_it était issus de l'analyse faite sur le fichier Olivier_it. Lorsque le pipeline Update_IT_Equipment_report.py est lancé, le fichier Claude_it est inséré au sein de la table Olivier_it_2 qui ne partage plus aucune information en provenance d'olivier_it mais qui en garde seulement la même appelation."
   ]
  },
  {
   "cell_type": "markdown",
   "id": "efe29f0c-c9a0-4d57-a88f-f002abe4d9ea",
   "metadata": {},
   "source": [
    "### Ajout de l'attribut KEY_VALUE : attribut permettant de distinguer un equipement à l'aide de : asset_id, salle, position. Rend un equipement unique "
   ]
  },
  {
   "cell_type": "code",
   "execution_count": null,
   "id": "a5fe8edf-c634-4c5c-a9d5-e378a23bebf7",
   "metadata": {},
   "outputs": [],
   "source": [
    "ALTER TABLE IT_Equipment_v2 \n",
    "ADD COLUMN key_value varchar(255) ;"
   ]
  },
  {
   "cell_type": "code",
   "execution_count": null,
   "id": "6cafe75b-a636-4099-a898-7a9c12f2e9bc",
   "metadata": {},
   "outputs": [],
   "source": [
    "UPDATE IT_Equipment_v2 \n",
    "set key_value = concat(asset_id, nom_de_la_salle, reperage_id)"
   ]
  },
  {
   "cell_type": "code",
   "execution_count": null,
   "id": "cef85eb0-cd68-4322-a12f-5e5a6986d7d5",
   "metadata": {},
   "outputs": [],
   "source": [
    "UPDATE olivier_it_2 \n",
    "set key_value = concat(asset_id, nom_de_la_salle, reperage_id)"
   ]
  },
  {
   "cell_type": "markdown",
   "id": "490681b8-10ac-497f-a4c6-672ee0a7ccd7",
   "metadata": {},
   "source": [
    "## `6SIGMA_report` : rapport it_equipement pour l' equipe "
   ]
  },
  {
   "cell_type": "markdown",
   "id": "974a525e-c8e2-4105-afd8-d8a53a22c8aa",
   "metadata": {},
   "source": [
    "Le fichier initial, Claude_it est inséré en tant que Olivier_it_2 "
   ]
  },
  {
   "cell_type": "markdown",
   "id": "5baafdf2-5357-43fd-8436-ca96d0c16506",
   "metadata": {},
   "source": [
    "L'ajout d'un nouvel attribut ce fait en deux étapes, il faut ajouter à la query finale la colonne supplementaire. AVANT la réinsertion, il faut rajouter la colonne correspondante au schema SQL qui génère la table (disponible dans le dossier Download\\query_folder."
   ]
  },
  {
   "cell_type": "markdown",
   "id": "b2a6d36e-a73d-4a5d-b1fa-0198769cffee",
   "metadata": {
    "tags": []
   },
   "source": [
    "### generation de la table initiale : En commentaire par défaut"
   ]
  },
  {
   "cell_type": "markdown",
   "id": "9f8f49cd-8f6e-4f49-8839-689ad3350e03",
   "metadata": {},
   "source": [
    "CREATE TABLE `olivier_it_2` (\n",
    "  `modele` varchar(255) DEFAULT NULL,\n",
    "  `Type` varchar(100) NOT NULL,\n",
    "  `fabricant` varchar(255) DEFAULT NULL,\n",
    "  `LONG_NAME` varchar(255) DEFAULT NULL,\n",
    "  `SHORT_NAME` varchar(100) NOT NULL,\n",
    "  `SERIAL_NUMBER` varchar(100) NOT NULL,\n",
    "  `ASSET_ID` varchar(100) NOT NULL,\n",
    "  `ASSET_TAG` varchar(100) NOT NULL,\n",
    "  `Asset_Number` varchar(100) NOT NULL,\n",
    "  `Nom_de_la_salle` varchar(255) DEFAULT NULL,\n",
    "  `reperage_id_origin` varchar(255) DEFAULT NULL,\n",
    "  `reperage_id` varchar(100) NOT NULL,\n",
    "  `End_Move_Target` varchar(100) NOT NULL,\n",
    "  `Status_hpe`varchar(255) NOT NULL,\n",
    "  `Salle_Dest` varchar(100) NOT NULL,\n",
    "  `Rack_U_Dest` varchar(100) NOT NULL,\n",
    "  `olivier_index` varchar(100) NOT NULL,\n",
    "  `PROJET_Responsable` varchar(100) NOT NULL,\n",
    "  `A_FAIRE_VALIDER` varchar(100) NOT NULL,\n",
    "  `Valide_O_N` varchar(100) NOT NULL,\n",
    "  `AUTRE_PROPOSITION_ou_CONFIRMER` varchar(100) NOT NULL,\n",
    "  `Termine_Oui_Non` varchar(100) NOT NULL,\n",
    "  `Index_CC` varchar(100) NOT NULL,\n",
    "  `6SigmaC2` varchar(100) NOT NULL,\n",
    "  `Chipre_installe` varchar(100) NOT NULL,\n",
    "  `status_cc` varchar(100) NOT NULL,\n",
    "  `column1` varchar(100) NOT NULL,\n",
    "  `status_asset_id` varchar(100) NOT NULL,\n",
    "  `status_position` varchar(100) NOT NULL,\n",
    "  `status_name` varchar(100) NOT NULL,\n",
    "  `status_etat` varchar(100) NOT NULL,\n",
    "  `CMDB_Servers_Status` varchar(100) NOT NULL,\n",
    "  `CMDB_Servers_Owner` varchar(100) NOT NULL,\n",
    "  `key_value` varchar(100) NOT NULL\n",
    ") ENGINE=InnoDB DEFAULT CHARSET=utf8;"
   ]
  },
  {
   "cell_type": "markdown",
   "id": "a02aa6a5",
   "metadata": {},
   "source": [
    "drop TABLE if exists 6SIGMA_;\n",
    "CREATE TABLE 6SIGMA_\n",
    "as\n",
    "SELECT\n",
    "it.Modele, it.Type, it.Fabricant, it.LONG_NAME, it.SHORT_NAME, it.SERIAL_NUMBER, it.ASSET_ID, it.ASSET_TAG, it.ASSET_TAG asset_number, it.Nom_de_la_salle, it2.Reperage_ID_origin, it.Reperage_ID,\n",
    "it2.End_Move_Target, it2.STATUS_hpe , it2.salle_Dest, \n",
    "it2.Rack_U_Dest, it2.olivier_index, it2.PROJET_Responsable, it2.A_FAIRE_VALIDER, it2.Valide_O_N, it2.AUTRE_PROPOSITION_ou_CONFIRMER, it2.Termine_Oui_Non, it2.Index_CC,\n",
    "it.from_source, it.status_CMDB,it.status_position_cmdb, it.status_asset_id, it.status_position, it.status_name, it.status_etat, it.status_global, it.status_etat_hpe, it.status_spec, it.status_cc status_chipre, null status_cc, null status_cc_2, null status_cc_3, it2.CMDB_Servers_Status, it2.CMDB_Servers_Owner, it.Hauteur_U, it.key_value\n",
    "FROM `IT_Equipment_v2` it\n",
    "LEFT JOIN `olivier_it_2` it2 ON it.key_value = concat(it2.asset_id, it2.nom_de_la_salle, it2.reperage_id)\n",
    "where it.asset_id is not null"
   ]
  },
  {
   "cell_type": "markdown",
   "id": "82d36cdf-3cbf-4f94-8931-152314355115",
   "metadata": {
    "tags": []
   },
   "source": [
    "### Génération du rapport final"
   ]
  },
  {
   "cell_type": "markdown",
   "id": "ed1c0154-c260-4312-981d-2f82f8077cfc",
   "metadata": {
    "tags": []
   },
   "source": [
    "#### Schema table finale"
   ]
  },
  {
   "cell_type": "markdown",
   "id": "dbdfb3a2-347b-489e-90e4-e4c4234b6aa2",
   "metadata": {},
   "source": [
    "CREATE TABLE `olivier_it_2` (\n",
    "  `modele` varchar(255) DEFAULT NULL,\n",
    "  `Type` varchar(100) NOT NULL,\n",
    "  `fabricant` varchar(255) DEFAULT NULL,\n",
    "  `nom` varchar(255) DEFAULT NULL,\n",
    "  `LONG_NAME` varchar(255) DEFAULT NULL,\n",
    "  `SHORT_NAME` varchar(100) NOT NULL,\n",
    "  `SERIAL_NUMBER` varchar(100) NOT NULL,\n",
    "  `ASSET_ID` varchar(100) NOT NULL,\n",
    "  `ASSET_TAG` varchar(100) NOT NULL,\n",
    "  `Asset_Number` varchar(100) NOT NULL,\n",
    "  `Nom_de_la_salle` varchar(255) DEFAULT NULL,\n",
    "  `reperage_id_origin` varchar(255) DEFAULT NULL,\n",
    "  `reperage_id` varchar(100) NOT NULL,\n",
    "  `End_Move_Target` varchar(100) NOT NULL,\n",
    "  `Status_hpe`varchar(255) NOT NULL,\n",
    "  `Salle_Dest` varchar(100) NOT NULL,\n",
    "  `Rack_U_Dest` varchar(100) NOT NULL,\n",
    "  `olivier_index` varchar(100) NOT NULL,\n",
    "  `PROJET_Responsable` varchar(100) NOT NULL,\n",
    "  `A_FAIRE_VALIDER` varchar(100) NOT NULL,\n",
    "  `Valide_O_N` varchar(100) NOT NULL,\n",
    "  `AUTRE_PROPOSITION_ou_CONFIRMER` varchar(100) NOT NULL,\n",
    "  `Termine_Oui_Non` varchar(100) NOT NULL,\n",
    "  `Index_CC` varchar(100) NOT NULL,\n",
    "  `from_source` varchar(100) NOT NULL,\n",
    "  `status_CMDB` varchar(100) NOT NULL,\n",
    "  `status_position_cmdb` varchar(100) NOT NULL,\n",
    "  `status_asset_id` varchar(100) NOT NULL,\n",
    "  `status_position` varchar(100) NOT NULL,\n",
    "  `status_name` varchar(100) NOT NULL,\n",
    "  `status_etat` varchar(100) NOT NULL,\n",
    "  `status_global` varchar(100) NOT NULL,\n",
    "  `status_etat_hpe` varchar(100) NOT NULL,\n",
    "  `status_spec` varchar(100) NOT NULL,\n",
    "  `status_cc` varchar(100) NOT NULL,\n",
    "  `status_cc_2` varchar(100) NOT NULL,\n",
    "  `status_cc_3` varchar(100) NOT NULL,\n",
    "  `CMDB_Servers_Status` varchar(100) NOT NULL,\n",
    "  `CMDB_Servers_Owner` varchar(100) NOT NULL,\n",
    "  `key_value` varchar(100) NOT NULL\n",
    "  `date_apparition` varchar(100) NOT NULL,\n",
    "  `date_dernier_mouvement` varchar(100) NOT NULL,\n",
    "  `date_clean` varchar(100) NOT NULL\n",
    ") ENGINE=InnoDB DEFAULT CHARSET=utf8;"
   ]
  },
  {
   "cell_type": "markdown",
   "id": "97c52a6a-827e-43b3-8bb8-ddf5d7335dbc",
   "metadata": {},
   "source": [
    "###"
   ]
  },
  {
   "cell_type": "code",
   "execution_count": null,
   "id": "c62df22b",
   "metadata": {},
   "outputs": [],
   "source": [
    "drop TABLE if exists 6SIGMA_;\n",
    "CREATE TABLE 6SIGMA_\n",
    "AS\n",
    "SELECT\n",
    "it.Modele, it.Type, it.Fabricant, it.nom, it.LONG_NAME, it.SHORT_NAME, it.SERIAL_NUMBER, it.ASSET_ID, it.ASSET_TAG, it.ASSET_TAG asset_number, it.Nom_de_la_salle, it2.Reperage_ID_origin, it.Reperage_ID,\n",
    "it2.End_Move_Target, it2.STATUS_hpe , it2.salle_Dest, \n",
    "it2.Rack_U_Dest, it2.olivier_index, it2.PROJET_Responsable, it2.A_FAIRE_VALIDER, it2.Valide_O_N, it2.AUTRE_PROPOSITION_ou_CONFIRMER, it2.Termine_Oui_Non, it2.Index_CC,\n",
    "it.from_source, it.status_CMDB,it.status_position_cmdb, it.status_asset_id, it.status_position, it.status_name, it.status_etat, it.status_global, it.status_etat_hpe, it.status_spec, it2.status_cc status_cc, it2.status_cc_2 status_cc_2, it2.status_cc_3 status_cc_3, it2.CMDB_Servers_Status, it2.CMDB_Servers_Owner, it.Hauteur_U , it.key_value\n",
    "FROM `IT_Equipment_v2` it\n",
    "LEFT JOIN `olivier_it_2` it2 ON concat(it.key_value, it.from_source ) = concat(it2.key_value, it2.from_source)\n",
    "where it.asset_id is not null and it.from_source != 'CMDB'"
   ]
  },
  {
   "cell_type": "code",
   "execution_count": null,
   "id": "90e7ac25-bab9-41cc-b1bf-3483f6b9b44f",
   "metadata": {},
   "outputs": [],
   "source": [
    "drop TABLE if exists CMDB_;\n",
    "CREATE TABLE CMDB_\n",
    "AS\n",
    "SELECT\n",
    "it.Modele, it.Type, it.Fabricant, it.nom, it.LONG_NAME, it.SHORT_NAME, it.SERIAL_NUMBER, it.ASSET_ID, it.ASSET_TAG, it.ASSET_TAG asset_number, it.Nom_de_la_salle, it2.Reperage_ID_origin, it.Reperage_ID,\n",
    "it2.End_Move_Target, it2.STATUS_hpe , it2.salle_Dest, \n",
    "it2.Rack_U_Dest, it2.olivier_index, it2.PROJET_Responsable, it2.A_FAIRE_VALIDER, it2.Valide_O_N, it2.AUTRE_PROPOSITION_ou_CONFIRMER, it2.Termine_Oui_Non, it2.Index_CC,\n",
    "it.from_source, it.status_CMDB,it.status_position_cmdb, it.status_asset_id, it.status_position, it.status_name, it.status_etat, it.status_global, it.status_etat_hpe, it.status_spec, it2.status_cc_2 status_cc_2, it2.status_cc_3 status_cc_3, it2.CMDB_Servers_Status, it2.CMDB_Servers_Owner, it.Hauteur_U , it.key_value\n",
    "FROM `IT_Equipment_v2` it\n",
    "LEFT JOIN `olivier_it_2` it2 ON concat(it.key_value, it.from_source ) = concat(it2.key_value, it2.from_source)\n",
    "where it.asset_id is not null and it.from_source = 'CMDB'"
   ]
  },
  {
   "cell_type": "markdown",
   "id": "32f24dd9-5b93-40ad-ae6d-f7e1bd193df0",
   "metadata": {},
   "source": [
    "### `IT_Equipment_unique_records_move` : ajout des dates d'apparition, des dates du dernier mouvement et des dates de clean des equipements au rapport 6SIGMA "
   ]
  },
  {
   "cell_type": "code",
   "execution_count": null,
   "id": "1ea1239e-46d3-43ce-b7e3-97ea6b7efcc1",
   "metadata": {},
   "outputs": [],
   "source": [
    "DROP TABLE IF EXISTS IT_Equipment_unique_records_move ;\n",
    "CREATE TABLE IT_Equipment_unique_records_move\n",
    "as \n",
    "SELECT concat(nom, ASSET_ID) key_value, nom, long_name, ASSET_ID, min(first_occurence) date_apparition, max(last_move_date) date_dernier_mouvement, GROUP_CONCAT(IFNULL(clean_date, 'null')) listing_date_clean, if( GROUP_CONCAT(IFNULL(clean_date, 'null')) not like '%null%', clean_date, NULL) date_clean  \n",
    "FROM `IT_Equipment_unique_records` \n",
    "group by concat(nom, ASSET_ID)"
   ]
  },
  {
   "cell_type": "code",
   "execution_count": null,
   "id": "f37976f1-e216-48ea-8e10-d229a7eb1501",
   "metadata": {},
   "outputs": [],
   "source": []
  },
  {
   "cell_type": "markdown",
   "id": "17b38403-adcc-46ba-a491-1ddb3fecbbd1",
   "metadata": {},
   "source": [
    "### `6SIGMA_report` : Table final du rapport 6SIGMA, l'ajout d'un nouvel attribut est à effectuer sur cette query"
   ]
  },
  {
   "cell_type": "markdown",
   "id": "ea50107b-8fed-46fd-bc71-060a6656efb2",
   "metadata": {},
   "source": [
    "La clé unique n'est plus la combinaison asset_id et position mais asset_id et nom. Si l'equipement bouge on veut pouvoir récuperer l'information pour un nom et son asset_id."
   ]
  },
  {
   "cell_type": "markdown",
   "id": "c10bd46e-be46-4e7a-8f4c-c2b262129b07",
   "metadata": {},
   "source": [
    "## Attention, afin de faciliter l'extraction des données vers EXCEL, les dates étaient au format ANNEE-MOIS-JOUR, lors de la création du csv 6SIGMA, le format des dates est inversés pour devenir JOUR-MOIS-ANNEE. Cependant, le format initial reste valide dans toutes les autres tables, seul les tables 6SIGMA_report/CMDB_report sont impactées "
   ]
  },
  {
   "cell_type": "code",
   "execution_count": null,
   "id": "16cc3378-956d-452c-adaa-edbbc6851737",
   "metadata": {},
   "outputs": [],
   "source": [
    "drop TABLE if exists 6SIGMA_report;\n",
    "CREATE TABLE 6SIGMA_report\n",
    "select it.*, \n",
    "date_format(str_to_date(it2.date_apparition, '%y-%m-%d'), '%d-%m-%y') date_apparition, \n",
    "date_format(str_to_date(it2.date_dernier_mouvement, '%y-%m-%d'), '%d-%m-%y') date_dernier_mouvement,\n",
    "date_format(str_to_date(it2.date_clean, '%y-%m-%d'), '%d-%m-%y') date_clean from `6SIGMA_` it\n",
    "LEFT JOIN `IT_Equipment_unique_records_move` it2 ON concat(it.nom, it.ASSET_ID) = concat(it2.nom, it2.ASSET_ID)\n",
    "where it.asset_id is not null"
   ]
  },
  {
   "cell_type": "code",
   "execution_count": null,
   "id": "6ff6118b-d0e0-4bf8-8e12-0ee4d828c5fe",
   "metadata": {},
   "outputs": [],
   "source": [
    "drop TABLE if exists CMDB_report;\n",
    "CREATE TABLE CMDB_report\n",
    "select it.*,\n",
    "date_format(str_to_date(it2.date_apparition, '%y-%m-%d'), '%d-%m-%y') date_apparition, \n",
    "date_format(str_to_date(it2.date_dernier_mouvement, '%y-%m-%d'), '%d-%m-%y') date_dernier_mouvement,\n",
    "date_format(str_to_date(it2.date_clean, '%y-%m-%d'), '%d-%m-%y') date_clean from `CMDB_` it\n",
    "LEFT JOIN `IT_Equipment_unique_records_move` it2 ON concat(it.nom, it.ASSET_ID) = concat(it2.nom, it2.ASSET_ID)\n",
    "where it.asset_id is not null"
   ]
  },
  {
   "cell_type": "markdown",
   "id": "c3f3137d-4c77-43b4-8a9d-e284ebcbd9c0",
   "metadata": {},
   "source": [
    "#### `CMDB_TO_FILTER` : filtre en dur permettant de supprimer certain modele d'equipement sur la CMDB"
   ]
  },
  {
   "cell_type": "code",
   "execution_count": null,
   "id": "e7afec32-2747-4fd6-9797-e77b82a00e5c",
   "metadata": {},
   "outputs": [],
   "source": [
    "delete it from `CMDB_report` as it\n",
    "INNER join `CMDB_TO_FILTER` fi on it.MODELE = fi.MODELE"
   ]
  },
  {
   "cell_type": "markdown",
   "id": "ce967ea5-b9d9-4922-a053-afaffeb7165b",
   "metadata": {
    "tags": []
   },
   "source": [
    "### Control /check"
   ]
  },
  {
   "cell_type": "markdown",
   "id": "ab7c2841-b312-4589-9de0-b26e8c79c4ee",
   "metadata": {},
   "source": [
    "drop table if EXISTS to_check ;\n",
    "create table to_check\n",
    "as\n",
    "select  concat(it.asset_id, it.nom_de_la_salle, it.reperage_id ) asset_salle_reperage , count(*) row_number from `IT_Equipment_v2` it \n",
    "group by  concat(it.asset_id, it.nom_de_la_salle, it.reperage_id )\n",
    "HAVING row_number > 1\n",
    "order by count(*) desc"
   ]
  },
  {
   "cell_type": "markdown",
   "id": "def04302-e57e-49ea-bc69-2da649d9db45",
   "metadata": {},
   "source": [
    "drop table if EXISTS to_check_csv ;\n",
    "create table to_check_csv \n",
    "as\n",
    "select * from `IT_Equipment_v2` it \n",
    "INNER JOIN `to_check` it2 ON concat(it.asset_id, it.nom_de_la_salle, it.reperage_id ) = it2.asset_salle_reperage\n",
    "ORDER by nom\n"
   ]
  }
 ],
 "metadata": {
  "kernelspec": {
   "display_name": "Python 3 (ipykernel)",
   "language": "python",
   "name": "python3"
  },
  "language_info": {
   "codemirror_mode": {
    "name": "ipython",
    "version": 3
   },
   "file_extension": ".py",
   "mimetype": "text/x-python",
   "name": "python",
   "nbconvert_exporter": "python",
   "pygments_lexer": "ipython3",
   "version": "3.9.7"
  }
 },
 "nbformat": 4,
 "nbformat_minor": 5
}
