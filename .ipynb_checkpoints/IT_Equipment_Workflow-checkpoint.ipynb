{
 "cells": [
  {
   "cell_type": "markdown",
   "id": "43a9759c-a1e7-4092-9c9b-f5973f102361",
   "metadata": {
    "tags": []
   },
   "source": [
    "# 1/ 6SIGMA (It_equipment) ⋈ CMDB"
   ]
  },
  {
   "cell_type": "markdown",
   "id": "08ed1ba7-fedc-4724-bbe9-760533c32153",
   "metadata": {},
   "source": [
    "`IT_Equipment_v2` : Table IT_Equipment provenant d'un fichier csv"
   ]
  },
  {
   "cell_type": "code",
   "execution_count": null,
   "id": "e3a75fed-a795-433b-82b9-5e4953ed6ae9",
   "metadata": {},
   "outputs": [],
   "source": [
    "DROP TABLE IF EXISTS `IT_Equipment_v2` ;\n",
    "CREATE TABLE IT_Equipment_v2\n",
    "as\n",
    "SELECT * FROM `IT_Equipment`\n",
    "where nom_de_la_salle in ('P1', 'P2', 'P3', 'P4')"
   ]
  },
  {
   "cell_type": "markdown",
   "id": "61d3892e-15bb-4bc7-ac38-858b44343bde",
   "metadata": {},
   "source": [
    "`assets_filtree_v2` : Table assets_new (CMDB) filtré aux deux localisations : FRVLB0C2 / FRTCRAVA"
   ]
  },
  {
   "cell_type": "code",
   "execution_count": null,
   "id": "ad097ceb-e3cf-4e17-be41-d44696c3231c",
   "metadata": {},
   "outputs": [],
   "source": [
    "DROP TABLE IF EXISTS `assets_filtree_v2` ;\n",
    "CREATE TABLE assets_filtree_v2\n",
    "as\n",
    "select *\n",
    "from `assets_new`\n",
    "where (API = 'FRVLB0C2' or API = 'FRTCRAVA') ;"
   ]
  },
  {
   "cell_type": "code",
   "execution_count": null,
   "id": "c1a80482-9627-4b49-88e0-898491fd8c87",
   "metadata": {},
   "outputs": [],
   "source": [
    "ALTER TABLE assets_filtree_v2\n",
    "ADD COLUMN Rack varchar(255),\n",
    "ADD COLUMN Slot varchar(255),\n",
    "ADD COLUMN Slot_begin varchar(255),\n",
    "ADD COLUMN Slot_end varchar(255);"
   ]
  },
  {
   "cell_type": "code",
   "execution_count": null,
   "id": "86128739-6272-4936-ae5b-fc847c51ee08",
   "metadata": {},
   "outputs": [],
   "source": [
    "UPDATE assets_filtree_v2\n",
    "SET \n",
    "\tRack = SUBSTRING_INDEX(DALLE, '/', 1)  ,\n",
    "\tSlot = SUBSTRING_INDEX(DALLE, '/', -1) ,\n",
    "\tSlot_begin = SUBSTRING_INDEX(SUBSTRING_INDEX(DALLE, '/', -1), '-', 1) ,\n",
    "\tSlot_end = SUBSTRING_INDEX(DALLE, '-', -1)"
   ]
  },
  {
   "cell_type": "code",
   "execution_count": null,
   "id": "9102dd94-ab2d-4205-ac91-472d460e3e10",
   "metadata": {},
   "outputs": [],
   "source": [
    "DROP TABLE IF EXISTS `assets_filtree_reduced` ;\n",
    "CREATE TABLE assets_filtree_reduced\n",
    "AS\n",
    "SELECT ype, subtype, ASSET_ID, NOM_COURT, NOM_LONG, FABRICANT, MODEL, DALLE, SALLE, Rack, Slot_Begin, Slot_End, No_serie, etat, api, tag_partenaire\n",
    "from `assets_filtree_v2` aa\n",
    "WHERE SALLE in ('P1', 'P2', 'P3', 'P4', '0')"
   ]
  },
  {
   "cell_type": "code",
   "execution_count": null,
   "id": "b7caaf1e-24c3-4e35-aadc-9acdfdc91906",
   "metadata": {},
   "outputs": [],
   "source": [
    "DROP TABLE IF EXISTS `assets_filtree_reduced_not_retired` ;\n",
    "CREATE TABLE assets_filtree_reduced_not_retired\n",
    "AS\n",
    "SELECT ype, subtype, ASSET_ID, NOM_COURT, NOM_LONG, FABRICANT, MODEL, DALLE, SALLE, Rack, Slot_Begin, Slot_End, No_serie, etat, api, tag_partenaire\n",
    "from `assets_filtree_v2` aa\n",
    "WHERE SALLE in ('P1', 'P2', 'P3', 'P4')"
   ]
  },
  {
   "cell_type": "markdown",
   "id": "6da2688f-5e8b-418a-a922-fcf03227f025",
   "metadata": {
    "tags": []
   },
   "source": [
    "##### On ajoute la même forme de position que sur 6sigma pour fluidifier les query"
   ]
  },
  {
   "cell_type": "code",
   "execution_count": null,
   "id": "d983dd99-fdf9-46bc-8934-869e199c3990",
   "metadata": {},
   "outputs": [],
   "source": [
    "\n",
    "ALTER TABLE `assets_filtree_reduced_not_retired`\n",
    "ADD COLUMN reperage_id varchar(255) ;\n",
    "\n",
    "update `assets_filtree_reduced_not_retired`\n",
    "set reperage_id = concat(Rack,\":Slot \", slot_begin) ;\n",
    "\n",
    "ALTER TABLE `assets_filtree_reduced`\n",
    "ADD COLUMN reperage_id varchar(255) ;\n",
    "\n",
    "update `assets_filtree_reduced`\n",
    "set reperage_id = concat(Rack,\":Slot \", slot_begin);"
   ]
  },
  {
   "cell_type": "markdown",
   "id": "cd815235-318c-40f6-bf8b-8d35ed5adcbc",
   "metadata": {},
   "source": [
    "`IT_Equipment_match_position_reduced_v3` : groupement des lignes par positions et affichage d'un seul asset_id par positions + nombres d'equipements sur la même position"
   ]
  },
  {
   "cell_type": "code",
   "execution_count": null,
   "id": "c0eb3c3f-ec94-48fa-8607-6662d5eeee15",
   "metadata": {},
   "outputs": [],
   "source": [
    "DROP TABLE IF EXISTS IT_Equipment_match_position_reduced_v3_not_retired;\n",
    "CREATE TABLE IT_Equipment_match_position_reduced_v3_not_retired\n",
    "as\n",
    "SELECT it.nom_de_la_salle, it.reperage_id, count(it.reperage_id) as RowNumber,\n",
    "\t\tconcat(aa.asset_id) asset_id\n",
    "\n",
    "FROM   `IT_Equipment_v2` it  \n",
    "INNER JOIN `assets_filtree_reduced_not_retired`aa\n",
    "ON (\n",
    "\tit.Nom_de_la_salle = aa.Salle\n",
    "AND\n",
    "\tit.reperage_id = aa.reperage_id\n",
    ")  \n",
    "GROUP BY it.reperage_id"
   ]
  },
  {
   "cell_type": "markdown",
   "id": "74774d8e-d249-44ed-b9fb-feff832edeb0",
   "metadata": {
    "tags": []
   },
   "source": [
    "## Equipement non présent sur Olivier_IT"
   ]
  },
  {
   "cell_type": "markdown",
   "id": "86a46d4e-2262-4288-afbf-d3c2d6a78c64",
   "metadata": {},
   "source": [
    "#### Equipement 6sigma non présent sur IT_Equipment sur la base de la position (salle, rack, position de départ)"
   ]
  },
  {
   "cell_type": "markdown",
   "id": "3ec40104-d875-4a66-94a9-21faa4c78e55",
   "metadata": {},
   "source": [
    "`IT_Equipment_eq_not_in_cmdb` : Liste des équipements CMDB non présent sur Olivier_it"
   ]
  },
  {
   "cell_type": "code",
   "execution_count": null,
   "id": "5167a17b-f762-4de2-b2f1-8958be73260f",
   "metadata": {},
   "outputs": [],
   "source": [
    "DROP TABLE IF EXISTS IT_Equipment_eq_not_in_cmdb ;\n",
    "CREATE TABLE IT_Equipment_eq_not_in_cmdb\n",
    "as \n",
    "select aa.MODEL, aa.subtype, aa.FABRICANT, aa.NOM_LONG, aa.No_serie, aa.No_serie Serial_number, aa.ASSET_ID,\n",
    "aa.tag_partenaire asset_tag, aa.tag_partenaire asset_number, aa.SALLE, aa.reperage_id reperage_id_origin, \n",
    "aa.reperage_id, NULL end_move_target, null null_1 ,null null_2, null null_3, null null_4, null null_5\n",
    "from `IT_Equipment_v2` it\n",
    "RIGHT JOIN `assets_filtree_reduced_not_retired` aa \n",
    "ON it.reperage_id = aa.reperage_id\n",
    "and it.nom_de_la_salle = aa.salle\n",
    "\n",
    "where it.reperage_id is null and aa.dalle != '' and etat != 'Retired' \n",
    "order by reperage_id asc"
   ]
  },
  {
   "cell_type": "code",
   "execution_count": null,
   "id": "0dfb6f42-1098-411e-ba54-431dde1d9242",
   "metadata": {},
   "outputs": [],
   "source": [
    "DROP TABLE IF EXISTS IT_Equipment_eq_not_in_cmdb ;\n",
    "CREATE TABLE IT_Equipment_eq_not_in_cmdb\n",
    "as \n",
    "select 'Equipements IT', '' fill1, '' fill2_, aa.NOM_LONG, aa.tag_partenaire asset_tag, aa.FABRICANT, aa.MODEL,\n",
    "aa.salle nom_de_la_salle, aa.rack nom_de_baie, aa.slot_begin slot_u, '' fill3, '' fill4,  aa.ype, '' fill5, aa.nom_court, \n",
    "'' fill6, '' fill7, '' fill7_2, aa.asset_id,\n",
    "'' fill8, '' fill9,\n",
    "'' fill10,'' fill11, '' fill12 ,'' fill12_2 ,'' fill13 ,'' fill14 ,'' fill15 ,'' fill16 ,'' fill17 ,'' fill18 , '' fill19 ,\n",
    "'' fill20 ,'' fill21 ,'' fill22, '' fill2, '' fill23, '' fill24, '' fill25,'' fill26, '' fill27, '' fill28, '' fill29, \n",
    "'' fill30 ,'' fill31 ,'' fill32 ,'' fill33 ,'' fill34 ,'' fill35,'' fill36 ,'' fill37 ,'' fill38 ,'' fill39,\n",
    "'' fill40, '' fill41, '' fill42, aa.reperage_id,\n",
    "'' fill43, '' fill44, '' fill45, '' fill46, '' fill47 ,'' fill48 ,'' fill49 ,\n",
    "'' fill50 ,'' fill51 ,'' fill52 ,'' fill53 ,'' fill54 ,'' fill55 ,''  fill56,'' fill57, '' fill58, '' fill59,\n",
    "'' fill60,'' fill61\n",
    "from `IT_Equipment_v2` it\n",
    "RIGHT JOIN `assets_filtree_reduced_not_retired` aa \n",
    "ON it.reperage_id = aa.reperage_id\n",
    "and it.nom_de_la_salle = aa.salle\n",
    "\n",
    "where it.reperage_id is null and aa.dalle != '' and etat != 'Retired' \n",
    "order by reperage_id asc"
   ]
  },
  {
   "cell_type": "markdown",
   "id": "95c8c609-9a6e-4e02-8b41-4ab67c1c5c55",
   "metadata": {},
   "source": [
    "## On ajoute les équipements manquants à olivier_it"
   ]
  },
  {
   "cell_type": "markdown",
   "id": "3009940d-61b2-4127-aeac-5d5477b83496",
   "metadata": {},
   "source": [
    "ajout d'un attribut `from_sources` qui contient la provenance de l'équipement :\n",
    "\n",
    "    - 6Sigma\n",
    "    - CMDB"
   ]
  },
  {
   "cell_type": "code",
   "execution_count": null,
   "id": "604a8b65-f4f9-4eab-aae6-d7440c893ed6",
   "metadata": {},
   "outputs": [],
   "source": [
    "alter table IT_Equipment_v2\n",
    "ADD COLUMN from_source VARCHAR(255) ;"
   ]
  },
  {
   "cell_type": "markdown",
   "id": "0a0315c8-8e86-4fc2-9bfe-72bd147513e4",
   "metadata": {},
   "source": [
    "### Ajout des equipements cleaned de la table `IT_equipement_unique_records`"
   ]
  },
  {
   "cell_type": "markdown",
   "id": "1a799dc0-6677-4866-a66e-01fcd458f805",
   "metadata": {},
   "source": [
    "`IT_equipement_unique_records` permet d'historiser tous les équipements passés dans 6sigma. si un equipement n'est plus présent sur 6sigma il y est inséré avec la l'attribut `from_source` = 'CLEANED'"
   ]
  },
  {
   "cell_type": "code",
   "execution_count": null,
   "id": "26a32fd3-67cd-41b7-9f70-63d259ee6d84",
   "metadata": {},
   "outputs": [],
   "source": [
    "drop table if EXISTS IT_Equipment_unique_records_cleaned ; \n",
    "create table IT_Equipment_unique_records_cleaned\n",
    "as\n",
    "select * from `IT_Equipment_unique_records` WHERE clean_date is not null"
   ]
  },
  {
   "cell_type": "code",
   "execution_count": null,
   "id": "1e22525b-f2a8-4b04-aa5d-3bfff8aa153b",
   "metadata": {},
   "outputs": [],
   "source": [
    "alter table `IT_Equipment_unique_records_cleaned`\n",
    "DROP COLUMN SOURCES, \n",
    "DROP COLUMN INSERTED, \n",
    "DROP COLUMN first_occurence, \n",
    "DROP COLUMN last_move_salle,\n",
    "DROP COLUMN last_move,\n",
    "DROP COLUMN last_move_date,\n",
    "DROP COLUMN clean_date"
   ]
  },
  {
   "cell_type": "markdown",
   "id": "8389a578-ae65-4d93-bdbd-a2c99818f0bb",
   "metadata": {},
   "source": [
    "#### ADD ROW"
   ]
  },
  {
   "cell_type": "code",
   "execution_count": null,
   "id": "f5f79946-b446-4c0b-b592-8ee4ef6bd6ff",
   "metadata": {},
   "outputs": [],
   "source": [
    "INSERT INTO `IT_Equipment_v2` \n",
    "SELECT it.*, \"CMDB\" FROM `IT_Equipment_eq_not_in_cmdb` it"
   ]
  },
  {
   "cell_type": "code",
   "execution_count": null,
   "id": "2889edaf-057c-4e59-bb83-bcaa8ac01e9a",
   "metadata": {},
   "outputs": [],
   "source": [
    "update `IT_Equipment_v2`\n",
    "set from_source = '6SIGMA'\n",
    "where from_source is null"
   ]
  },
  {
   "cell_type": "code",
   "execution_count": null,
   "id": "ffbf3416-ba1a-49d8-9023-3f4794af68e5",
   "metadata": {},
   "outputs": [],
   "source": [
    "insert into `IT_Equipment_v2`\n",
    "select it.*, 'CLEANED' from `IT_Equipment_unique_records_cleaned` it"
   ]
  },
  {
   "cell_type": "code",
   "execution_count": null,
   "id": "1fb5b636-197d-4bd3-add4-aa9dd4af134f",
   "metadata": {},
   "outputs": [],
   "source": [
    "ALTER TABLE IT_Equipment_v2 \n",
    "ADD COLUMN status_CMDB varchar(255),\n",
    "ADD COLUMN status_position_CMDB varchar(255)"
   ]
  },
  {
   "cell_type": "code",
   "execution_count": null,
   "id": "c48feff1-f439-4222-b2a9-4c1bde2ef79e",
   "metadata": {},
   "outputs": [],
   "source": [
    "ALTER TABLE IT_Equipment_v2 \n",
    "ADD COLUMN status_asset_id varchar(255),\n",
    "ADD COLUMN status_position varchar(255),\n",
    "ADD COLUMN status_name varchar(255),\n",
    "ADD COLUMN status_etat varchar(255),\n",
    "ADD COLUMN status_global varchar(255),\n",
    "ADD COLUMN status_etat_hpe varchar(255),\n",
    "ADD COLUMN status_spec varchar(255),\n",
    "ADD COLUMN status_cc varchar(255) ;"
   ]
  },
  {
   "cell_type": "markdown",
   "id": "fb008ebb-36ea-4444-9c72-ebdc13f1a9d8",
   "metadata": {},
   "source": [
    "## Status d'asset_id et de position"
   ]
  },
  {
   "cell_type": "code",
   "execution_count": null,
   "id": "e224e109-49cb-4210-8e6b-0e9ec642ee94",
   "metadata": {},
   "outputs": [],
   "source": [
    "\n",
    "UPDATE `IT_Equipment_v2` it \n",
    "INNER JOIN `assets_filtree_reduced_not_retired` it2 ON it.ASSET_ID = it2.ASSET_ID \n",
    "\n",
    "SET it.status_cmdb = 'OK'\n",
    "\n",
    "WHERE (it.ASSET_ID != '' or it.ASSET_ID != '' or it2.ASSET_ID != '' or it2.ASSET_ID != '')"
   ]
  },
  {
   "cell_type": "code",
   "execution_count": null,
   "id": "9f0c28ea-7c12-4892-a491-c404236e5039",
   "metadata": {},
   "outputs": [],
   "source": [
    "UPDATE `IT_Equipment_v2` it \n",
    "SET status_CMDB = 'KO'\n",
    "WHERE status_CMDB is null"
   ]
  },
  {
   "cell_type": "code",
   "execution_count": null,
   "id": "ad2f000a-cc5d-49e4-be9c-052dbf6abb28",
   "metadata": {},
   "outputs": [],
   "source": [
    "UPDATE `IT_Equipment_v2` it \n",
    "INNER JOIN `assets_filtree_reduced_not_retired`aa\n",
    "ON (\n",
    "\tit.Nom_de_la_salle = aa.Salle\n",
    "AND\n",
    "\tit.reperage_id = aa.reperage_id\n",
    ")  \n",
    "    \n",
    "INNER JOIN `IT_Equipment_match_position_reduced_v3_not_retired` it2\n",
    "ON it.reperage_id = it2.reperage_id\n",
    "and it.nom_de_la_salle = it2.nom_de_la_salle\n",
    "\n",
    "SET it.status_position_CMDB = 'OK'\n",
    "\n",
    "WHERE  (\n",
    "   aa.model not like '%BL460C%'\n",
    "OR aa.model not like '%BL660C%'\n",
    "OR aa.model not like '%BL20P%'\n",
    "OR aa.model not like '%BL860C%'\n",
    "OR aa.model not like '%BL420C%'\n",
    "OR aa.model not like '%BL680C%'\n",
    "OR aa.model not like '%WS460C%'\n",
    "OR aa.model not like '%BL870C%' )"
   ]
  },
  {
   "cell_type": "code",
   "execution_count": null,
   "id": "dd6aa688-5571-44ae-a302-9ca982a6b1c2",
   "metadata": {},
   "outputs": [],
   "source": [
    "UPDATE `IT_Equipment_v2` it \n",
    "SET status_position_CMDB = 'KO'\n",
    "WHERE status_position_CMDB is null;"
   ]
  },
  {
   "cell_type": "markdown",
   "id": "04695d78-071b-4548-b98c-abe3bb2d437d",
   "metadata": {
    "tags": []
   },
   "source": [
    "# Creation table IT_Equipment_v2"
   ]
  },
  {
   "cell_type": "markdown",
   "id": "7d496787-0442-4935-aca3-3cfe92a91f59",
   "metadata": {},
   "source": [
    "# UPDATE"
   ]
  },
  {
   "cell_type": "markdown",
   "id": "f276a620-c858-43ae-9cf4-27482abe10cf",
   "metadata": {},
   "source": [
    "### `MATCH ASSET_ID`"
   ]
  },
  {
   "cell_type": "markdown",
   "id": "77735f59-fea8-415b-bd0b-087aa8732d72",
   "metadata": {},
   "source": [
    "attribut `status_asset_id` : \n",
    "\n",
    "    - \"Trouvé - bon asset id\"\n",
    "    - \"Non Trouvé - Mauvais Asset ID\" impossibilité de trouver l'asset_id dans la CMDB (assets_filtrée)"
   ]
  },
  {
   "cell_type": "code",
   "execution_count": null,
   "id": "a0fadcbd-86c6-44f9-95c0-0a7d7731027f",
   "metadata": {},
   "outputs": [],
   "source": [
    "UPDATE `IT_Equipment_v2` it\n",
    "LEFT JOIN `assets_filtree_reduced` aa\n",
    "ON aa.asset_id = it.asset_id\n",
    "and (it.asset_id != '0' or it.asset_id != '')\n",
    "SET it.status_asset_id = ( CASE WHEN aa.asset_id is not null then 'Trouvé - bon asset id'\n",
    "                          ELSE \"Non Trouvé - Mauvais Asset ID\"\n",
    "                          END \n",
    "                          )\n"
   ]
  },
  {
   "cell_type": "markdown",
   "id": "a34e03f7-a00a-4f49-b00b-204fe1813c13",
   "metadata": {},
   "source": [
    "### `MATCH POSITION`"
   ]
  },
  {
   "cell_type": "markdown",
   "id": "5a7ffca0-adb9-4e36-8376-4436455abda6",
   "metadata": {},
   "source": [
    "attribut `status_position` : \n",
    "\n",
    "    - \"Bonne localisation\"\n",
    "    - \"KO localisation\" : impossibilité de trouver la position dans la CMDB (assets_filtrée)"
   ]
  },
  {
   "cell_type": "code",
   "execution_count": null,
   "id": "8928eea8-c37c-4c4b-a703-e3eaa446d1aa",
   "metadata": {},
   "outputs": [],
   "source": [
    "UPDATE `IT_Equipment_v2` it \n",
    "INNER JOIN `assets_filtree_reduced`aa\n",
    "ON (\n",
    "\tit.Nom_de_la_salle = aa.Salle\n",
    "AND\n",
    "\tit.Nom_de_baie = aa.Rack\n",
    "AND\n",
    "\tit.Slot_U = CONVERT(aa.Slot_Begin, integer)\n",
    "\t)  \n",
    "    \n",
    "INNER JOIN `IT_Equipment_match_position_reduced_v3` it2\n",
    "ON it.reperage_id = it2.reperage_id\n",
    "and it.nom_de_la_salle = it2.nom_de_la_salle\n",
    "\n",
    "SET it.status_position = 'Bonne localisation'\n",
    "WHERE  (\n",
    "   aa.model not like '%BL460C%'\n",
    "OR aa.model not like '%BL660C%'\n",
    "OR aa.model not like '%BL20P%'\n",
    "OR aa.model not like '%BL860C%'\n",
    "OR aa.model not like '%BL420C%'\n",
    "OR aa.model not like '%BL680C%'\n",
    "OR aa.model not like '%WS460C%'\n",
    "OR aa.model not like '%BL870C%' )"
   ]
  },
  {
   "cell_type": "code",
   "execution_count": null,
   "id": "99f5f435-e9f1-4a49-a451-1f79b3a20134",
   "metadata": {},
   "outputs": [],
   "source": [
    "UPDATE `IT_Equipment_v2` it \n",
    "SET it.status_position = 'KO localisation'\n",
    "where it.status_position is null"
   ]
  },
  {
   "cell_type": "markdown",
   "id": "519d333f-9fd7-46c7-be1c-76632df015a1",
   "metadata": {
    "tags": []
   },
   "source": [
    "# `Nom`"
   ]
  },
  {
   "cell_type": "markdown",
   "id": "6fa8300b-f142-43db-b55b-8d2b7f8347da",
   "metadata": {},
   "source": [
    "attribut `status_nom_court` : Priorisation du status affiché \n",
    "    \n",
    "    1. Présence d'asset d'id\n",
    "        1. \"nom_court type OLD\"\n",
    "        2. \"nom_long type OLD\" \n",
    "        3. \"OK nom_court\"\n",
    "        4. \"OK nom_long\"\n",
    "        5. \"Mauvais nom\" : nom court/long non présent dans la cmdb\n",
    "    \n",
    "    2. Non présence d'asset d'id\n",
    "        1. \"nom_court type OLD\"\n",
    "        2. \"nom_long type OLD\" \n",
    "        3. \"OK nom_court\"\n",
    "        4. \"OK nom_long\"\n",
    "        5. \"Mauvais nom\" : nom court/long non présent dans la cmdb"
   ]
  },
  {
   "cell_type": "code",
   "execution_count": null,
   "id": "797da5f7-6f6f-414f-b406-f55fd1c47595",
   "metadata": {},
   "outputs": [],
   "source": [
    "UPDATE `IT_Equipment_v2` it\n",
    "INNER JOIN `assets_filtree_reduced` aa\n",
    "ON aa.nom_court  = it.short_name    \n",
    "SET it.status_name = \"OK nom_court\"\n",
    "where it.short_name != ''"
   ]
  },
  {
   "cell_type": "code",
   "execution_count": null,
   "id": "0a13b7de-79a1-4625-a83d-f13f437f0a34",
   "metadata": {},
   "outputs": [],
   "source": [
    "UPDATE `IT_Equipment_v2` it\n",
    "INNER JOIN `assets_filtree_reduced` aa\n",
    "ON aa.nom_long  = it.nom   \n",
    "SET it.status_name = \"OK nom_long\"\n",
    "where it.nom != '' and status_name is null"
   ]
  },
  {
   "cell_type": "markdown",
   "id": "400feb8f-88c6-409c-9e48-160ced2e3b30",
   "metadata": {
    "tags": []
   },
   "source": [
    "### `'CMDB-OK-OLD'`"
   ]
  },
  {
   "cell_type": "code",
   "execution_count": null,
   "id": "3eb60908-93e0-45c0-be23-92c51b10c1d5",
   "metadata": {},
   "outputs": [],
   "source": [
    "UPDATE `IT_Equipment_v2` it\n",
    "INNER JOIN `assets_filtree_reduced` aa\n",
    "ON ( REPLACE(REPLACE(aa.nom_long,'_OLD',''),'-OLD','')  = it.nom \n",
    "OR REPLACE(REPLACE(aa.nom_court,'_OLD',''),'-OLD','')  = it.short_name )\n",
    "AND aa.asset_id = it.asset_id\n",
    " \n",
    "\n",
    "SET it.status_name = (CASE WHEN nom_court like '%OLD' and  nom !='' THEN \"nom_court type OLD\"\n",
    "                      WHEN nom_long like '%OLD' and  short_name !='' THEN \"nom_long type OLD\"\n",
    "                      ELSE it.status_name\n",
    "                      END\n",
    "                     )\n",
    "\n",
    "where (aa.nom_court like '%_OLD' or aa.nom_long like '%_OLD' or aa.nom_court like '%-OLD' or aa.nom_long like '%-OLD')"
   ]
  },
  {
   "cell_type": "code",
   "execution_count": null,
   "id": "7f51bb0f-2cc6-4b6e-83b3-6df782b7e1aa",
   "metadata": {},
   "outputs": [],
   "source": [
    "UPDATE `IT_Equipment_v2` it\n",
    "INNER JOIN `assets_filtree_reduced` aa\n",
    "ON REPLACE(REPLACE(aa.nom_long,'_OLD',''),'-OLD','')  = it.nom \n",
    "OR REPLACE(REPLACE(aa.nom_court,'_OLD',''),'-OLD','')  = it.short_name\n",
    "\n",
    "\n",
    "SET it.status_name = (CASE WHEN nom_court like '%OLD' and  nom !='' THEN \"nom_court type OLD\"\n",
    "                      WHEN nom_long like '%OLD' and  short_name !='' THEN \"nom_long type OLD\"\n",
    "                      ELSE it.status_name\n",
    "                      END\n",
    "                     )\n",
    "\n",
    "where (aa.nom_court like '%_OLD' or aa.nom_long like '%_OLD' or aa.nom_court like '%-OLD' or aa.nom_long like '%-OLD') and status_asset_id != 'Trouvé - bon asset id'"
   ]
  },
  {
   "cell_type": "code",
   "execution_count": null,
   "id": "b4914402-dbc3-4943-954d-fecbd6eaa57b",
   "metadata": {},
   "outputs": [],
   "source": [
    "UPDATE `IT_Equipment_v2` it\n",
    "SET it.status_name = \"Mauvais nom\"\n",
    "where it.status_name is null"
   ]
  },
  {
   "cell_type": "markdown",
   "id": "8d4fb180-3121-47f9-b847-39c451aa2789",
   "metadata": {},
   "source": [
    "# `Status : Etat`"
   ]
  },
  {
   "cell_type": "markdown",
   "id": "c35dc04a-09a6-4ee0-863a-266c97606416",
   "metadata": {},
   "source": [
    "attribut `status_etat` : Si un équipment est repéré (par son asset_id et/ou sa position ) \n",
    "\n",
    "    - \"Trouvé - bon asset id\"\n",
    "    - \"Non Trouvé - Mauvais Asset ID\"\n",
    "    - \"KO Etat\" - Aucun ou plusieurs equipments sur la même position, impossible d'établir le lien"
   ]
  },
  {
   "cell_type": "code",
   "execution_count": null,
   "id": "34de081b-3bbb-4620-9269-810f654ca921",
   "metadata": {},
   "outputs": [],
   "source": [
    "UPDATE `IT_Equipment_v2` it\n",
    "LEFT JOIN `assets_filtree_reduced` aa\n",
    "ON aa.asset_id = it.asset_id\n",
    "and it.asset_id != '0'\n",
    "SET it.status_etat = aa.etat ;\n"
   ]
  },
  {
   "cell_type": "code",
   "execution_count": null,
   "id": "aeeb581f-81c5-4f8a-b8a7-8ae7b7d1087c",
   "metadata": {},
   "outputs": [],
   "source": [
    "\n",
    "UPDATE `IT_Equipment_v2` it\n",
    "INNER JOIN `assets_filtree_reduced` aa\n",
    "ON ( REPLACE(REPLACE(aa.nom_court,'_OLD',''),'-OLD','')  = it.nom \n",
    "OR REPLACE(REPLACE(aa.nom_court,'_OLD',''),'-OLD','')  = it.short_name )\n",
    "\n",
    "SET it.status_etat = aa.etat\n",
    "where status_name = \"nom_court type OLD\" ;"
   ]
  },
  {
   "cell_type": "code",
   "execution_count": null,
   "id": "b537bd1f-bd79-490c-8532-c631b23c1baa",
   "metadata": {},
   "outputs": [],
   "source": [
    "\n",
    "UPDATE `IT_Equipment_v2` it\n",
    "INNER JOIN `assets_filtree_reduced` aa\n",
    "ON ( REPLACE(REPLACE(aa.nom_long,'_OLD',''),'-OLD','')  = it.nom \n",
    "OR REPLACE(REPLACE(aa.nom_long,'_OLD',''),'-OLD','')  = it.short_name )\n",
    "SET it.status_etat = aa.etat\n",
    "where status_name = \"nom_long type OLD\" ;"
   ]
  },
  {
   "cell_type": "code",
   "execution_count": null,
   "id": "450b58a2-f6fd-47c0-880c-cae21d89776f",
   "metadata": {},
   "outputs": [],
   "source": [
    "\n",
    "UPDATE `IT_Equipment_v2` it\n",
    "INNER JOIN `assets_filtree_reduced` aa\n",
    "ON ( REPLACE(REPLACE(aa.nom_court,'_OLD',''),'-OLD','')  = it.nom \n",
    "OR REPLACE(REPLACE(aa.nom_court,'_OLD',''),'-OLD','')  = it.short_name )\n",
    "AND aa.asset_id = it.asset_id\n",
    "\n",
    "SET it.status_etat = aa.etat\n",
    "where status_name = \"nom_court type OLD\" and status_asset_id != 'Trouvé - bon asset id'"
   ]
  },
  {
   "cell_type": "code",
   "execution_count": null,
   "id": "b3599161-e3b9-4e79-a43d-7faacfdcf553",
   "metadata": {},
   "outputs": [],
   "source": [
    "\n",
    "UPDATE `IT_Equipment_v2` it\n",
    "INNER JOIN `assets_filtree_reduced` aa\n",
    "ON ( REPLACE(REPLACE(aa.nom_long,'_OLD',''),'-OLD','')  = it.nom \n",
    "OR REPLACE(REPLACE(aa.nom_long,'_OLD',''),'-OLD','')  = it.short_name )\n",
    "AND aa.asset_id = it.asset_id\n",
    "SET it.status_etat = aa.etat\n",
    "where status_name = \"nom_long type OLD\" and status_asset_id != 'Trouvé - bon asset id'"
   ]
  },
  {
   "cell_type": "code",
   "execution_count": null,
   "id": "193ef199-a180-42b5-8146-dd4f09569997",
   "metadata": {},
   "outputs": [],
   "source": [
    "UPDATE `IT_Equipment_v2` it\n",
    " SET it.status_etat = 'KO Etat_CMDB'\n",
    "where it.status_etat is null"
   ]
  },
  {
   "cell_type": "markdown",
   "id": "f85600cd-6b23-459c-ad19-3c2606af47f7",
   "metadata": {},
   "source": [
    "# `Status_spec : Cas spécifique`"
   ]
  },
  {
   "cell_type": "markdown",
   "id": "6d861d67-88c9-43c2-8020-a7b5a26589ac",
   "metadata": {},
   "source": [
    "attribut `status_spec` : \n",
    "\n",
    "    - \"Patch Panel\"\n",
    "    - \"PCP\""
   ]
  },
  {
   "cell_type": "markdown",
   "id": "7de7ed43-3d93-4a03-8aa2-199651c7a8ed",
   "metadata": {
    "tags": []
   },
   "source": [
    "### `Patch Panel`"
   ]
  },
  {
   "cell_type": "code",
   "execution_count": null,
   "id": "3124354e-8d4a-4627-8dc0-aa206be61532",
   "metadata": {},
   "outputs": [],
   "source": [
    "UPDATE `IT_Equipment_v2` it \n",
    "SET it.Status_spec = \"Trouvé - Patch Panel\"\n",
    "where type like '%Patch Panel%' or fabricant in ('Arista', 'Alcatel-Lucent');"
   ]
  },
  {
   "cell_type": "markdown",
   "id": "63b64f91-c547-40a3-8baa-aeb111f5c401",
   "metadata": {
    "tags": []
   },
   "source": [
    "### `PCP`"
   ]
  },
  {
   "cell_type": "code",
   "execution_count": null,
   "id": "1a772fa5-fcf6-4264-afe0-35e5a616bfe2",
   "metadata": {},
   "outputs": [],
   "source": [
    "UPDATE `IT_Equipment_v2` it\n",
    "SET it.Status_spec = 'Trouvé - PCP Mal documenté'\n",
    "where (it.Nom like '%compute%' or it.short_name like '%compute%' or reperage_id like '%compute%') or \n",
    "(it.Nom like '%_Rack%' or it.short_name like '%_Rack%' or reperage_id like '%_Rack%') and (asset_id is null or asset_id ='0' or asset_id ='');"
   ]
  },
  {
   "cell_type": "markdown",
   "id": "4909fd97-82b4-44f7-be1e-3f7dd9405cc8",
   "metadata": {},
   "source": [
    "#### `PCP` : Cas des HPE"
   ]
  },
  {
   "cell_type": "code",
   "execution_count": null,
   "id": "6bbbbb7e-5080-49a6-8737-0f6eb2d48b9a",
   "metadata": {},
   "outputs": [],
   "source": [
    "update `IT_Equipment_v2` \n",
    "SET status_spec = 'PCP : KO'\n",
    "where nom_de_baie in ('I11' 'J11', 'K11', 'L11', 'M11', 'N11', 'O11')"
   ]
  },
  {
   "cell_type": "markdown",
   "id": "79346f7e-7031-452b-9396-dc6413219a3a",
   "metadata": {},
   "source": [
    "##### `IT_Equipment_status_eq` : Liste des equipements spéciaux, query à ne pas lancer. Garde un historique"
   ]
  },
  {
   "cell_type": "markdown",
   "id": "89bc2507-1edf-4115-971b-873ae942d6ef",
   "metadata": {},
   "source": [
    "drop table if EXISTS IT_Equipment_status_eq ;\n",
    "create table IT_Equipment_status_eq\n",
    "as\n",
    "select nom, modele, fabricant, asset_id, nom_de_la_salle, reperage_id, status_spec from `IT_Equipment_v2` \n",
    "where status_spec is not null ;\n",
    "alter table IT_Equipment_status_eq\n",
    "ADD COLUMN key_id INTEGER NOT NULL AUTO_INCREMENT KEY;"
   ]
  },
  {
   "cell_type": "markdown",
   "id": "11d6dac8-2cab-4ab6-aed4-062e1c83b5a3",
   "metadata": {},
   "source": [
    "#### Insertion de nouveau equipements spéciaux"
   ]
  },
  {
   "cell_type": "markdown",
   "id": "0e995021-1f3f-4d08-bd1c-6c776e3f4237",
   "metadata": {},
   "source": [
    "INSERT INTO IT_Equipment_status_eq(nom, modele, fabricant, asset_id, nom_de_la_salle, reperage_id, status_spec)\n",
    "select it.nom, it.modele, it.fabricant, it.asset_id, it.nom_de_la_salle, it.reperage_id, it.status_spec from `IT_Equipment_v2` it\n",
    "left join `IT_Equipment_status_eq` it2 ON concat(it.Nom_de_la_salle, it.Reperage_ID) = concat(it2.Nom_de_la_salle, it2.Reperage_ID)\n",
    "where it2.nom is null and it.status_spec is not null and it.asset_id = '0'"
   ]
  },
  {
   "cell_type": "code",
   "execution_count": null,
   "id": "fab9d700-c341-4302-81ee-476333d5610b",
   "metadata": {},
   "outputs": [],
   "source": [
    "UPDATE `IT_Equipment_status_eq`\n",
    "set asset_id = (CASE \n",
    "                WHEN lower(status_spec) like '%patch panel%' then concat('patch panel: ', key_id)\n",
    "                WHEN lower(status_spec) like '%pcp%' then concat('pcp: ', key_id)\n",
    "                END\n",
    "                )"
   ]
  },
  {
   "cell_type": "code",
   "execution_count": null,
   "id": "254aabb0-9029-420b-a736-b1156c1b2132",
   "metadata": {},
   "outputs": [],
   "source": [
    "UPDATE `IT_Equipment_v2` it\n",
    "inner join `IT_Equipment_status_eq` it2 ON concat(it.Nom_de_la_salle, it.Reperage_ID) = concat(it2.Nom_de_la_salle, it2.Reperage_ID)\n",
    "set it.asset_id = it2.asset_id \n",
    "where it.status_spec is not null \n"
   ]
  },
  {
   "cell_type": "markdown",
   "id": "d4425ca9-8aac-4ffc-a528-fdc122100668",
   "metadata": {},
   "source": [
    "attribut `status_etat_hpe` : \n",
    "\n",
    "    1- pas asset id & pas de localisation\n",
    "    2- pas asset id & localisation\n",
    "    3- assed id & localisation => status\n",
    "    4- asset id & pas localisation ==> \"assetid\"\n",
    "    5- PCP ==> \"PCP\"\n",
    "    6- Patch Panel => \"Patch Panel\""
   ]
  },
  {
   "cell_type": "code",
   "execution_count": null,
   "id": "51e1bd23-8796-4a18-9530-ca3a22d348cc",
   "metadata": {},
   "outputs": [],
   "source": [
    "UPDATE `IT_Equipment_v2` it\n",
    "SET it.status_etat_hpe = \n",
    "    (CASE WHEN status_asset_id != 'Trouvé - bon asset id' AND status_position = 'KO localisation' and status_spec is null THEN 'pas asset id & pas de localisation'\n",
    "     WHEN status_asset_id != 'Trouvé - bon asset id' AND status_position != 'KO localisation' and status_spec is null THEN 'pas asset id & localisation'\n",
    "     WHEN status_asset_id = 'Trouvé - bon asset id' AND status_position != 'KO localisation' and status_spec is null THEN status_etat\n",
    "     WHEN status_asset_id = 'Trouvé - bon asset id' AND status_position = 'KO localisation' and status_spec is null THEN 'asset id & pas de localisation'\n",
    "     WHEN status_spec is not null then status_spec\n",
    "     END\n",
    "    )              \n",
    "    ;"
   ]
  },
  {
   "cell_type": "markdown",
   "id": "79ea28c5-3410-4477-bec7-301d9316f605",
   "metadata": {},
   "source": [
    "# `GLOBAL STATUS`"
   ]
  },
  {
   "cell_type": "markdown",
   "id": "16eaf444-d634-4f4b-ad49-3268e5c26084",
   "metadata": {},
   "source": [
    "attribut `status_status` : Agrégation de tous les attribus"
   ]
  },
  {
   "cell_type": "code",
   "execution_count": null,
   "id": "66155f5c-954c-4db9-a508-5f7b03ddeb5e",
   "metadata": {},
   "outputs": [],
   "source": [
    "UPDATE IT_Equipment_v2 \n",
    "set status_global = concat(status_asset_id , ' - ' , status_position , ' - ' , status_name, \" - \" , status_etat );"
   ]
  },
  {
   "cell_type": "markdown",
   "id": "cee6d6ff-add8-4fd3-82cc-b6823124d3c2",
   "metadata": {},
   "source": [
    "# `STATUS_CC`"
   ]
  },
  {
   "cell_type": "markdown",
   "id": "99247f03-b8f1-47d6-a440-1e5952f1c4c9",
   "metadata": {},
   "source": [
    "attribut `status_CC` : Aggrégation de tous les attribus"
   ]
  },
  {
   "cell_type": "code",
   "execution_count": null,
   "id": "ecace67b-0637-41ae-addc-0f26e870d3e1",
   "metadata": {},
   "outputs": [],
   "source": [
    "UPDATE IT_Equipment_v2 \n",
    "set status_cc = concat(\n",
    "                       \"CHIPRE \", status_etat_hpe ) ;\n"
   ]
  },
  {
   "cell_type": "markdown",
   "id": "f80af3df-f120-4685-8930-ee7247dd88a9",
   "metadata": {},
   "source": [
    "## `IT_Equipment_x_olivier_it` : Ajout des commentaires et attribues d'olivier_it sur 6sigma"
   ]
  },
  {
   "cell_type": "code",
   "execution_count": null,
   "id": "2509f847-95a9-4846-8267-db782c6c6c0c",
   "metadata": {},
   "outputs": [],
   "source": [
    "drop table if EXISTS IT_Equipment_x_olivier_it ;\n",
    "create table IT_Equipment_x_olivier_it\n",
    "as\n",
    "select it.*, it2.modele modele_olivier, it2.type type_olivier, it2.fabricant fabricant_olivier, it2.nom nom_olivier, it2.short_name short_name_olivier, it2.SERIAL_NUMBER SERIAL_NUMBER_olivier, it2.asset_id asset_id_olivier, it2.ASSET_TAG ASSET_TAG_olivier, it2.Asset_Number Asset_Number_olivier, it2.Nom_de_la_salle Nom_de_la_salle_olivier, it2.reperage_id_origin, it2.reperage_id reperage_id_olivier,\n",
    "it2.End_Move_Target End_Move_Target_olivier, it2.Status_hpe, it2.Salle_Dest, it2.Rack_U_Dest, it2.olivier_index, it2.PROJET_Responsable,\n",
    "it2.status_CMDB status_CMDB_olivier, it2.status_position_CMDB status_position_CMDB_olivier\n",
    "from `IT_Equipment_v2` it\n",
    "LEFT JOIN `olivier_it` it2 ON concat(it.Nom_de_la_salle, it.Reperage_ID) = concat(it2.Nom_de_la_salle, it2.Reperage_ID)\n",
    "where from_source = '6SIGMA'"
   ]
  },
  {
   "cell_type": "markdown",
   "id": "a085b4e4-6d4c-4ba6-9e7f-6a1a8a7a4a67",
   "metadata": {},
   "source": [
    "# Indicateur"
   ]
  },
  {
   "cell_type": "code",
   "execution_count": null,
   "id": "1b1197e8-35f5-43ca-8fd8-99979a9e4bb9",
   "metadata": {},
   "outputs": [],
   "source": [
    "drop VIEW if EXISTS indicator_IT_Equipment_status ;\n",
    "create VIEW indicator_IT_Equipment_status\n",
    "as \n",
    "SELECT status_cc, count(*) row_count FROM `IT_Equipment_v2`\n",
    "GROUP BY status_cc"
   ]
  },
  {
   "cell_type": "code",
   "execution_count": null,
   "id": "398e34a1-3f18-4ef6-8005-458978cc68cf",
   "metadata": {},
   "outputs": [],
   "source": [
    "drop view if EXISTS indicator_IT_Equipment_add_row_per_salle ;\n",
    "create view indicator_IT_Equipment_add_row_per_salle\n",
    "as \n",
    "select DISTINCT(from_source), NOM_de_la_salle, count(*) equipment_count from `IT_Equipment_v2`\n",
    "GROUP BY from_source, NOM_de_la_salle"
   ]
  },
  {
   "cell_type": "markdown",
   "id": "490681b8-10ac-497f-a4c6-672ee0a7ccd7",
   "metadata": {},
   "source": [
    "## `6SIGMA_report` : rapport it_equipement pour l' equipe "
   ]
  },
  {
   "cell_type": "markdown",
   "id": "b2a6d36e-a73d-4a5d-b1fa-0198769cffee",
   "metadata": {
    "jp-MarkdownHeadingCollapsed": true,
    "tags": []
   },
   "source": [
    "### generation de la table initiale"
   ]
  },
  {
   "cell_type": "markdown",
   "id": "9f8f49cd-8f6e-4f49-8839-689ad3350e03",
   "metadata": {},
   "source": [
    "CREATE TABLE `olivier_it_2` (\n",
    "  `modele` varchar(255) DEFAULT NULL,\n",
    "  `Type` varchar(100) NOT NULL,\n",
    "  `fabricant` varchar(255) DEFAULT NULL,\n",
    "  `LONG_NAME` varchar(255) DEFAULT NULL,\n",
    "  `SHORT_NAME` varchar(100) NOT NULL,\n",
    "  `SERIAL_NUMBER` varchar(100) NOT NULL,\n",
    "  `ASSET_ID` varchar(100) NOT NULL,\n",
    "  `ASSET_TAG` varchar(100) NOT NULL,\n",
    "  `Asset_Number` varchar(100) NOT NULL,\n",
    "  `Nom_de_la_salle` varchar(255) DEFAULT NULL,\n",
    "  `reperage_id_origin` varchar(255) DEFAULT NULL,\n",
    "  `reperage_id` varchar(100) NOT NULL,\n",
    "  `End_Move_Target` varchar(100) NOT NULL,\n",
    "  `Status_hpe`varchar(255) NOT NULL,\n",
    "  `Salle_Dest` varchar(100) NOT NULL,\n",
    "  `Rack_U_Dest` varchar(100) NOT NULL,\n",
    "  `olivier_index` varchar(100) NOT NULL,\n",
    "  `PROJET_Responsable` varchar(100) NOT NULL,\n",
    "  `A_FAIRE_VALIDER` varchar(100) NOT NULL,\n",
    "  `Valide_O_N` varchar(100) NOT NULL,\n",
    "  `AUTRE_PROPOSITION_ou_CONFIRMER` varchar(100) NOT NULL,\n",
    "  `Termine_Oui_Non` varchar(100) NOT NULL,\n",
    "  `Index_CC` varchar(100) NOT NULL,\n",
    "  `6SigmaC2` varchar(100) NOT NULL,\n",
    "  `Chipre_installe` varchar(100) NOT NULL,\n",
    "  `status_cc` varchar(100) NOT NULL,\n",
    "  `column1` varchar(100) NOT NULL,\n",
    "  `status_asset_id` varchar(100) NOT NULL,\n",
    "  `status_position` varchar(100) NOT NULL,\n",
    "  `status_name` varchar(100) NOT NULL,\n",
    "  `status_etat` varchar(100) NOT NULL,\n",
    "  `CMDB_Servers_Status` varchar(100) NOT NULL,\n",
    "  `CMDB_Servers_Owner` varchar(100) NOT NULL\n",
    ") ENGINE=InnoDB DEFAULT CHARSET=utf8;"
   ]
  },
  {
   "cell_type": "markdown",
   "id": "4f38fc65-c4c4-4564-8981-3670479d434e",
   "metadata": {},
   "source": [
    "drop TABLE if exists 6SIGMA_report;\n",
    "CREATE TABLE 6SIGMA_report\n",
    "as\n",
    "SELECT\n",
    "it.Modele, it.Type, it.Fabricant, it.LONG_NAME, it.SHORT_NAME, it.SERIAL_NUMBER, it.ASSET_ID, it.ASSET_TAG, it.ASSET_TAG asset_number, it.Nom_de_la_salle, it2.Reperage_ID_origin, it.Reperage_ID,\n",
    "it2.End_Move_Target, it2.STATUS_hpe , it2.salle_Dest, \n",
    "it2.Rack_U_Dest, it2.olivier_index, it2.PROJET_Responsable, it2.A_FAIRE_VALIDER, it2.Valide_O_N, it2.AUTRE_PROPOSITION_ou_CONFIRMER, it2.Termine_Oui_Non, it2.Index_CC,\n",
    "it.from_source, it.status_CMDB,it.status_position_cmdb, it.status_asset_id, it.status_position, it.status_name, it.status_etat, it.status_global, it.status_etat_hpe, it.status_spec, it.status_cc, null status_cc_2, null status_cc_3, it2.CMDB_Servers_Status, it2.CMDB_Servers_Owner, it.Hauteur_U\n",
    "FROM `IT_Equipment_v2` it\n",
    "LEFT JOIN `olivier_it_2` it2 ON if(it2.asset_id = '', it.asset_id = it2.asset_id, concat(it.nom_de_la_salle, it.reperage_id ) = concat(it2.nom_de_la_salle, it2.reperage_id))\n",
    "where it.asset_id is not null"
   ]
  },
  {
   "cell_type": "markdown",
   "id": "82d36cdf-3cbf-4f94-8931-152314355115",
   "metadata": {
    "tags": []
   },
   "source": [
    "### Génération du rapport final"
   ]
  },
  {
   "cell_type": "code",
   "execution_count": null,
   "id": "6210c91b-29aa-470e-a2d7-855a1ac1b048",
   "metadata": {},
   "outputs": [],
   "source": [
    "drop TABLE if exists 6SIGMA_report;\n",
    "CREATE TABLE 6SIGMA_report\n",
    "as\n",
    "SELECT\n",
    "it.Modele, it.Type, it.Fabricant, it.LONG_NAME, it.SHORT_NAME, it.SERIAL_NUMBER, it.ASSET_ID, it.ASSET_TAG, it.ASSET_TAG asset_number, it.Nom_de_la_salle, it2.Reperage_ID_origin, it.Reperage_ID,\n",
    "it2.End_Move_Target, it2.STATUS_hpe , it2.salle_Dest, \n",
    "it2.Rack_U_Dest, it2.olivier_index, it2.PROJET_Responsable, it2.A_FAIRE_VALIDER, it2.Valide_O_N, it2.AUTRE_PROPOSITION_ou_CONFIRMER, it2.Termine_Oui_Non, it2.Index_CC,\n",
    "it.from_source, it.status_CMDB,it.status_position_cmdb, it.status_asset_id, it.status_position, it.status_name, it.status_etat, it.status_global, it.status_etat_hpe, it.status_spec, it.status_cc, it2.status_cc_2 status_cc_2, it2.status_cc_3 status_cc_3, it2.CMDB_Servers_Status, it2.CMDB_Servers_Owner, it.Hauteur_U\n",
    "FROM `IT_Equipment_v2` it\n",
    "LEFT JOIN `olivier_it_2` it2 ON if(it2.asset_id = '', it.asset_id = it2.asset_id, concat(it.nom_de_la_salle, it.reperage_id ) = concat(it2.nom_de_la_salle, it2.reperage_id))\n",
    "where it.asset_id is not null"
   ]
  },
  {
   "cell_type": "code",
   "execution_count": null,
   "id": "f3b8e6b2-d27f-400c-a5fe-cc7f086a740a",
   "metadata": {},
   "outputs": [],
   "source": [
    "drop TABLE if exists 6SIGMA_report;\n",
    "CREATE TABLE 6SIGMA_report\n",
    "AS\n",
    "SELECT\n",
    "it.Modele, it.Type, it.Fabricant, it.LONG_NAME, it.SHORT_NAME, it.SERIAL_NUMBER, it.ASSET_ID, it.ASSET_TAG, it.ASSET_TAG asset_number, it.Nom_de_la_salle, it2.Reperage_ID_origin, it.Reperage_ID,\n",
    "it2.End_Move_Target, it2.STATUS_hpe , it2.salle_Dest, \n",
    "it2.Rack_U_Dest, it2.olivier_index, it2.PROJET_Responsable, it2.A_FAIRE_VALIDER, it2.Valide_O_N, it2.AUTRE_PROPOSITION_ou_CONFIRMER, it2.Termine_Oui_Non, it2.Index_CC,\n",
    "it.from_source, it.status_CMDB,it.status_position_cmdb, it.status_asset_id, it.status_position, it.status_name, it.status_etat, it.status_global, it.status_etat_hpe, it.status_spec, it.status_cc, it2.status_cc_2 status_cc_2, it2.status_cc_3 status_cc_3, it2.CMDB_Servers_Status, it2.CMDB_Servers_Owner, it.Hauteur_U\n",
    "FROM `IT_Equipment_v2` it\n",
    "LEFT JOIN `olivier_it_2` it2 ON if(it2.asset_id != '0', it.asset_id = it2.asset_id, concat(it.nom_de_la_salle, it.reperage_id ) = concat(it2.nom_de_la_salle, it2.reperage_id))\n",
    "where it.asset_id is not null"
   ]
  },
  {
   "cell_type": "code",
   "execution_count": null,
   "id": "d21606fb-c4f3-4769-8c86-9d0469d48734",
   "metadata": {},
   "outputs": [],
   "source": [
    "drop TABLE if exists 6SIGMA_report;\n",
    "CREATE TABLE 6SIGMA_report\n",
    "AS\n",
    "SELECT\n",
    "it.Modele, it.Type, it.Fabricant, it.LONG_NAME, it.SHORT_NAME, it.SERIAL_NUMBER, it.ASSET_ID, it.ASSET_TAG, it.ASSET_TAG asset_number, it.Nom_de_la_salle, it2.Reperage_ID_origin, it.Reperage_ID,\n",
    "it2.End_Move_Target, it2.STATUS_hpe , it2.salle_Dest, \n",
    "it2.Rack_U_Dest, it2.olivier_index, it2.PROJET_Responsable, it2.A_FAIRE_VALIDER, it2.Valide_O_N, it2.AUTRE_PROPOSITION_ou_CONFIRMER, it2.Termine_Oui_Non, it2.Index_CC,\n",
    "it.from_source, it.status_CMDB,it.status_position_cmdb, it.status_asset_id, it.status_position, it.status_name, it.status_etat, it.status_global, it.status_etat_hpe, it.status_spec, it.status_cc, it2.status_cc_2 status_cc_2, it2.status_cc_3 status_cc_3, it2.CMDB_Servers_Status, it2.CMDB_Servers_Owner, it.Hauteur_U\n",
    "FROM `IT_Equipment_v2` it\n",
    "LEFT JOIN `olivier_it_2` it2 ON if(it2.asset_id != '0', concat(it.asset_id, it.nom_de_la_salle, it.reperage_id ) = concat(it2.asset_id, it2.nom_de_la_salle, it2.reperage_id ), concat(it.nom_de_la_salle, it.reperage_id ) = concat(it2.nom_de_la_salle, it2.reperage_id))\n",
    "where it.asset_id is not null"
   ]
  },
  {
   "cell_type": "code",
   "execution_count": null,
   "id": "42c09656-63b8-4b61-b837-915202321635",
   "metadata": {},
   "outputs": [],
   "source": [
    "SELECT Modele, SHORT_NAME, from_source  FROM `6SIGMA_report` where ASSET_ID = 'M-0000371836'"
   ]
  }
 ],
 "metadata": {
  "kernelspec": {
   "display_name": "Python 3 (ipykernel)",
   "language": "python",
   "name": "python3"
  },
  "language_info": {
   "codemirror_mode": {
    "name": "ipython",
    "version": 3
   },
   "file_extension": ".py",
   "mimetype": "text/x-python",
   "name": "python",
   "nbconvert_exporter": "python",
   "pygments_lexer": "ipython3",
   "version": "3.9.7"
  }
 },
 "nbformat": 4,
 "nbformat_minor": 5
}
