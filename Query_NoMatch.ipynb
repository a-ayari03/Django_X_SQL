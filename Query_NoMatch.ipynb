{
 "cells": [
  {
   "cell_type": "markdown",
   "id": "a5b21c90",
   "metadata": {},
   "source": [
    "# Creation / Alteration de table"
   ]
  },
  {
   "cell_type": "code",
   "execution_count": null,
   "id": "c0b8de1c",
   "metadata": {},
   "outputs": [],
   "source": []
  },
  {
   "cell_type": "markdown",
   "id": "d34d98a9",
   "metadata": {},
   "source": [
    "# VIEW"
   ]
  },
  {
   "cell_type": "markdown",
   "id": "d4b5696e",
   "metadata": {},
   "source": [
    "### \"EXADATA : No match\""
   ]
  },
  {
   "cell_type": "markdown",
   "id": "c6690765",
   "metadata": {},
   "source": [
    "Si \"Fabricant\" = \"Oracle\" -> status \"EXADATA : No match\""
   ]
  },
  {
   "cell_type": "code",
   "execution_count": null,
   "id": "e9a93811",
   "metadata": {},
   "outputs": [],
   "source": []
  },
  {
   "cell_type": "markdown",
   "id": "a637f824",
   "metadata": {},
   "source": [
    "### \"EXADATA : No match\""
   ]
  },
  {
   "cell_type": "markdown",
   "id": "46975620",
   "metadata": {},
   "source": [
    "Si \"Fabricant\" = \"Oracle\" -> status \"EXADATA : No match\""
   ]
  },
  {
   "cell_type": "markdown",
   "id": "c64eb2d4",
   "metadata": {},
   "source": [
    "### \"EXADATA : No match\""
   ]
  },
  {
   "cell_type": "markdown",
   "id": "ba03635b",
   "metadata": {},
   "source": [
    "Si \"Fabricant\" = \"Oracle\" -> status \"EXADATA : No match\""
   ]
  },
  {
   "cell_type": "markdown",
   "id": "2874f9fb",
   "metadata": {},
   "source": [
    "# Query"
   ]
  },
  {
   "cell_type": "markdown",
   "id": "e246004e",
   "metadata": {},
   "source": [
    "### \"EXADATA : No match\""
   ]
  },
  {
   "cell_type": "markdown",
   "id": "9259c3e1",
   "metadata": {},
   "source": [
    "Si \"Fabricant\" = \"Oracle\" -> status \"EXADATA : No match\""
   ]
  },
  {
   "cell_type": "code",
   "execution_count": null,
   "id": "d6fc4603",
   "metadata": {},
   "outputs": [],
   "source": [
    "SELECT nom_de_baie,\n",
    "       nom_de_la_salle,\n",
    "       status,\n",
    "       asset_id,\n",
    "       nom, \n",
    "        Modele,\n",
    "        fabricant,\n",
    "        Reperage_ID\n",
    "FROM   `IT_Equipment` it\n",
    "where it.fabricant like '%oracle%' and (asset_id is null or asset_id ='0') -- and status is null"
   ]
  },
  {
   "cell_type": "code",
   "execution_count": null,
   "id": "1e1ca486",
   "metadata": {},
   "outputs": [],
   "source": []
  },
  {
   "cell_type": "markdown",
   "id": "9b5b7175",
   "metadata": {},
   "source": [
    "### \"Netapp : No match\""
   ]
  },
  {
   "cell_type": "markdown",
   "id": "10235945",
   "metadata": {},
   "source": [
    "Si \"Fabricant\" = \"Netapp\" -> status \"Netapp : No match\""
   ]
  },
  {
   "cell_type": "code",
   "execution_count": null,
   "id": "15749152",
   "metadata": {},
   "outputs": [],
   "source": [
    "SELECT nom_de_baie,\n",
    "       nom_de_la_salle,\n",
    "       status,\n",
    "       asset_id,\n",
    "       nom, \n",
    "        Modele,\n",
    "        fabricant,\n",
    "        Reperage_ID\n",
    "FROM   `IT_Equipment` it\n",
    "where it.fabricant like '%netapp%' and (asset_id is null or asset_id ='0') -- status is null"
   ]
  },
  {
   "cell_type": "markdown",
   "id": "2a7c3e2e",
   "metadata": {},
   "source": [
    "### \"PCP : No Match\""
   ]
  },
  {
   "cell_type": "markdown",
   "id": "6c378340",
   "metadata": {},
   "source": [
    "Si \"Nom\" contient \"_Rack\" -> \"PCP : No Match\""
   ]
  },
  {
   "cell_type": "code",
   "execution_count": null,
   "id": "3fb5db77",
   "metadata": {},
   "outputs": [],
   "source": [
    "SELECT nom_de_baie,\n",
    "       nom_de_la_salle,\n",
    "       status,\n",
    "       asset_id,\n",
    "       nom, \n",
    "        Modele,\n",
    "        fabricant,\n",
    "        Reperage_ID\n",
    "FROM   `IT_Equipment` it\n",
    "where (it.Nom like '%_Rack%' or it.short_name like '%_Rack%') and (asset_id is null or asset_id ='0') and status is null"
   ]
  },
  {
   "cell_type": "markdown",
   "id": "0c274805",
   "metadata": {},
   "source": [
    "# Update"
   ]
  },
  {
   "cell_type": "markdown",
   "id": "54a158de",
   "metadata": {},
   "source": [
    "### \"EXADATA : No match\""
   ]
  },
  {
   "cell_type": "markdown",
   "id": "9d8cd74f",
   "metadata": {},
   "source": [
    "Si \"Fabricant\" = \"Oracle\" -> status \"EXADATA : No match\""
   ]
  },
  {
   "cell_type": "code",
   "execution_count": null,
   "id": "830c7dec",
   "metadata": {},
   "outputs": [],
   "source": [
    "57 rows\n",
    "UPDATE `IT_Equipment` it\n",
    "SET it.status = 'EXADATA : No match'\n",
    "where it.fabricant like '%oracle%' and (asset_id is null or asset_id ='0') and status is null"
   ]
  },
  {
   "cell_type": "markdown",
   "id": "4c0bcaba",
   "metadata": {},
   "source": [
    "### \"Netapp : No match\""
   ]
  },
  {
   "cell_type": "markdown",
   "id": "bc4bbeda",
   "metadata": {},
   "source": [
    "Si \"Fabricant\" = \"Netapp\" -> status \"Netapp : No match\""
   ]
  },
  {
   "cell_type": "code",
   "execution_count": null,
   "id": "82febf92",
   "metadata": {},
   "outputs": [],
   "source": [
    "57 rows\n",
    "UPDATE `IT_Equipment` it\n",
    "SET it.status = 'Netapp : No match'\n",
    "where it.fabricant like '%netapp%' and (asset_id is null or asset_id ='0') and status is null"
   ]
  },
  {
   "cell_type": "markdown",
   "id": "2838febf",
   "metadata": {},
   "source": [
    "### \"PCP : No Match\""
   ]
  },
  {
   "cell_type": "markdown",
   "id": "701320fe",
   "metadata": {},
   "source": [
    "Si \"Nom\" contient \"_Rack\" -> \"PCP : No Match\""
   ]
  },
  {
   "cell_type": "code",
   "execution_count": null,
   "id": "3063853c",
   "metadata": {},
   "outputs": [],
   "source": [
    "61 rows\n",
    "UPDATE `IT_Equipment` it\n",
    "SET it.status = 'PCP : No Match'\n",
    "where (it.Nom like '%_Rack%' or it.short_name like '%_Rack%') and (asset_id is null or asset_id ='0') and status is null"
   ]
  },
  {
   "cell_type": "markdown",
   "id": "71493aee",
   "metadata": {},
   "source": [
    "## Sur Asset.Filtree, prendre la liste de \"Fabricant\" = \"HDS\", prendre les 5 lettres près \"-\" ou \"_\", pur croiser avec \"IT_Equipement\" = \"Hitachi\" en cherchant avec les 5 lettres "
   ]
  },
  {
   "cell_type": "code",
   "execution_count": null,
   "id": "a124e675",
   "metadata": {},
   "outputs": [],
   "source": [
    "116 rows\n",
    "UPDATE `IT_Equipment` it \n",
    "INNER JOIN `IT_Equipment_cleaning_Hitachi` hit on hit.it_nom = it.nom\n",
    "LEFT JOIN `assets_filtree` aa on UPPER(REPLACE(REPLACE(aa.nom_court,'_',''),'-','')) = hit.clean_name\n",
    "\n",
    "SET it.status = (\n",
    "\t\t\t\tCASE WHEN aa.asset_id is null and it.status is null then 'Hitashi : No match'\n",
    "    \t\t\tWHEN aa.asset_id is not null and it.status is null then concat('HDS : ',aa.asset_id)\n",
    "    \t\t\tEND \n",
    "    \t\t\t)\n",
    "                \n",
    "WHERE it.Fabricant like '%Hitachi%'"
   ]
  }
 ],
 "metadata": {
  "kernelspec": {
   "display_name": "Python 3 (ipykernel)",
   "language": "python",
   "name": "python3"
  },
  "language_info": {
   "codemirror_mode": {
    "name": "ipython",
    "version": 3
   },
   "file_extension": ".py",
   "mimetype": "text/x-python",
   "name": "python",
   "nbconvert_exporter": "python",
   "pygments_lexer": "ipython3",
   "version": "3.9.7"
  }
 },
 "nbformat": 4,
 "nbformat_minor": 5
}
