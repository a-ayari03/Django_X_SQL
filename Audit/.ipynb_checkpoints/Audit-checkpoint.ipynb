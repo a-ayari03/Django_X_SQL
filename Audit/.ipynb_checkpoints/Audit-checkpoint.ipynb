{
 "cells": [
  {
   "cell_type": "markdown",
   "id": "a9359849",
   "metadata": {},
   "source": [
    "# Audit effectué le 23/05/2022 avec des informations complémentaires"
   ]
  },
  {
   "cell_type": "markdown",
   "id": "00c06050",
   "metadata": {},
   "source": [
    "## CREATE / ALTER TABLE"
   ]
  },
  {
   "cell_type": "code",
   "execution_count": null,
   "id": "29e33298",
   "metadata": {},
   "outputs": [],
   "source": [
    "DROP TABLE IF EXISTS `AUDIT_23_05_2022_review`;\n",
    "CREATE TABLE `AUDIT_23_05_2022_review` (\n",
    "  `modele` varchar(255) DEFAULT NULL,\n",
    "  `Type` varchar(100) NOT NULL,\n",
    "  `fabricant` varchar(255) DEFAULT NULL,\n",
    "  `nom` varchar(255) DEFAULT NULL,\n",
    "  `SHORT_NAME` varchar(100) NOT NULL,\n",
    "  `SERIAL_NUMBER` varchar(100) NOT NULL,\n",
    "  `ASSET_ID` varchar(100) NOT NULL,\n",
    "  `ASSET_TAG` varchar(100) NOT NULL,\n",
    "  `Asset_Number` varchar(100) NOT NULL,\n",
    "  `Nom_de_la_salle` varchar(255) DEFAULT NULL,\n",
    "  `reperage_id` varchar(255) DEFAULT NULL,\n",
    "  `Taille_U` varchar(100) NOT NULL,\n",
    "  `End_Move_Target` varchar(100) NOT NULL,\n",
    "  `Salle_Dest` varchar(100) NOT NULL,\n",
    "  `Rack_U_Dest` varchar(100) NOT NULL,\n",
    "  `olivier_index` varchar(100) NOT NULL,\n",
    "  `PROJET_Responsable` varchar(100) NOT NULL,\n",
    "  `status` varchar(255) DEFAULT NULL,\n",
    "  `STATUS_2` varchar(255) DEFAULT NULL,\n",
    "  `Nom_de_baie` varchar(255) DEFAULT NULL,\n",
    "  `Slot_u` varchar(255) DEFAULT NULL,\n",
    "  `STATUS_3` varchar(255) DEFAULT NULL,\n",
    "  `ASSET_ID_OK_POSITION` varchar(255) DEFAULT NULL,\n",
    "    `Audit_sur_site` varchar(255) DEFAULT NULL,\n",
    "    `Notes` varchar(255) DEFAULT NULL,\n",
    "    `Asset_id_to_Add` varchar(255) DEFAULT NULL,\n",
    "    `Source_d_information_Asset_id` varchar(255) DEFAULT NULL\n",
    ") ENGINE=InnoDB DEFAULT CHARSET=latin1;"
   ]
  },
  {
   "cell_type": "code",
   "execution_count": null,
   "id": "d53bf4e5",
   "metadata": {},
   "outputs": [],
   "source": [
    "LOAD DATA LOCAL INFILE '/tmp/phpvfx7Fh' \n",
    "INTO TABLE `AUDIT_23_05_2022_review`\n",
    "FIELDS TERMINATED BY ';' \n",
    "ENCLOSED BY '\"'\n",
    "ESCAPED BY '\\\\' \n",
    "LINES TERMINATED BY '\\n'# 1013 rows affected."
   ]
  },
  {
   "cell_type": "markdown",
   "id": "42caa091",
   "metadata": {},
   "source": [
    "### `Patch_Panel`"
   ]
  },
  {
   "cell_type": "code",
   "execution_count": null,
   "id": "8f8cc7ff",
   "metadata": {},
   "outputs": [],
   "source": [
    "DROP TABLE IF EXISTS `patch_panel_name`;\n",
    "CREATE TABLE `patch_panel_name` (\n",
    "  `modele` varchar(255) DEFAULT NULL ) ;"
   ]
  },
  {
   "cell_type": "markdown",
   "id": "8e6909eb",
   "metadata": {},
   "source": [
    "### `Linked_equipment`"
   ]
  },
  {
   "cell_type": "code",
   "execution_count": null,
   "id": "d9d0a0d1",
   "metadata": {},
   "outputs": [],
   "source": [
    "ALTER TABLE AUDIT_23_05_2022_review\n",
    "ADD COLUMN link_salle varchar(255),\n",
    "ADD COLUMN link_rack varchar(255),\n",
    "ADD COLUMN link_asset_id varchar(255),\n",
    "ADD COLUMN link_asset_tag varchar(255), \n",
    "ADD COLUMN Audit_time varchar(255) ;"
   ]
  },
  {
   "cell_type": "markdown",
   "id": "3f1ad2cc",
   "metadata": {},
   "source": [
    "# SELECT"
   ]
  },
  {
   "cell_type": "code",
   "execution_count": null,
   "id": "e89681d3",
   "metadata": {},
   "outputs": [],
   "source": [
    "SELECT it.asset_id asset_id_it, it.short_name, it.nom, it.status_2 status_it, it.modele, it.fabricant, it.reperage_id, it.Audit_sur_site, it.Notes, it.Asset_id_to_Add, it.Source_d_information_Asset_id\n",
    " FROM `AUDIT_23_05_2022_review` it\n",
    " where notes != ''"
   ]
  },
  {
   "cell_type": "code",
   "execution_count": null,
   "id": "3fcee6b7",
   "metadata": {},
   "outputs": [],
   "source": [
    "SELECT it.nom, it.status_2 status_it, it.modele, it.fabricant, it.reperage_id, it.Audit_sur_site, it.Notes, it.Asset_id_to_Add, it.Source_d_information_Asset_id,\n",
    "\tSUBSTRING_INDEX(SUBSTRING_INDEX(notes, 'Rack : ',-1),' ',1) link_salle ,\n",
    "\tSUBSTRING_INDEX(SUBSTRING_INDEX(SUBSTRING_INDEX(notes, 'Rack : ',-1),' |',1),' ', -1) link_rack ,\n",
    "    -- concat('M-', SUBSTRING_INDEX(SUBSTRING_INDEX(notes, 'M-',-1),'|',1)) link_asset_id,\n",
    "    -- concat('AF', SUBSTRING_INDEX(SUBSTRING_INDEX(notes, 'AF',-1),'|',1)) link_tag\n",
    "    \n",
    "    SUBSTRING_INDEX(SUBSTRING_INDEX(notes, '|',4),'|', -1 ) link_asset_id,\n",
    "    SUBSTRING_INDEX(notes, '|',-1) link_tag\n",
    "    \n",
    " FROM `AUDIT_23_05_2022_review` it\n",
    " where notes = 'Rack : P1 C21  | computer | Appliance | M-0000657175 | HANA02-APPLIANCE_OLD | HANA02-APPLIANCE | AF209196'"
   ]
  },
  {
   "cell_type": "markdown",
   "id": "2097fff0",
   "metadata": {},
   "source": [
    "# `Status is NULL`"
   ]
  },
  {
   "cell_type": "code",
   "execution_count": null,
   "id": "475e5cf6",
   "metadata": {},
   "outputs": [],
   "source": [
    "SELECT aa.modele, aa.status_3, aa.asset_id_ok_position, aa.audit_sur_site, aa.notes, aa.asset_id_to_add\n",
    "\n",
    "FROM `AUDIT_23_05_2022_review` aa\n",
    "where  status_3 is null and Audit_sur_site != 'patch panel'"
   ]
  },
  {
   "cell_type": "code",
   "execution_count": null,
   "id": "ec92f8a7",
   "metadata": {},
   "outputs": [],
   "source": []
  },
  {
   "cell_type": "markdown",
   "id": "40088133",
   "metadata": {},
   "source": [
    "# `Linked_equipment`"
   ]
  },
  {
   "cell_type": "markdown",
   "id": "7c190e98",
   "metadata": {},
   "source": [
    "On fait le lien entre la cmdb et notes associées à une audit, généralement le bon asset_id est référencé dans la colonne asset_id_to_add"
   ]
  },
  {
   "cell_type": "markdown",
   "id": "1e62b32f",
   "metadata": {},
   "source": [
    "Permet de controler avant l'update de la colonne **Notes**"
   ]
  },
  {
   "cell_type": "code",
   "execution_count": null,
   "id": "807aed53",
   "metadata": {},
   "outputs": [],
   "source": [
    "SELECT aa.modele, aa.status_3, aa.asset_id_ok_position, aa.audit_sur_site, aa.notes, aa.asset_id_to_add ,\n",
    "\t\tconcat('Rack : ',aa2.Salle, ' ', aa2.Rack, ' | ',\n",
    "               aa2.ype, ' | ',\n",
    "               aa2.subtype, ' | ',\n",
    "               aa2.asset_id, ' | ',\n",
    "               aa2.nom_court, ' | ',\n",
    "               aa2.nom_long, ' | ',\n",
    "               aa2.tag_partenaire, ' | ' ) agg\n",
    "FROM `AUDIT_23_05_2022_review` aa\n",
    "INNER JOIN `assets_filtree_reduced` aa2 ON aa2.asset_id = aa.Asset_id_to_Add\n",
    "\n",
    "where aa.asset_id_to_add is not null and (aa.Notes not like '%|%' or aa.Notes is null )"
   ]
  },
  {
   "cell_type": "code",
   "execution_count": null,
   "id": "b8d1643c",
   "metadata": {},
   "outputs": [],
   "source": [
    "SELECT aa.modele, aa.status_3, aa.asset_id_ok_position, aa.audit_sur_site, aa.notes, aa.asset_id_to_add ,\n",
    "\t\tconcat('Rack : ',aa2.Salle, ' ', aa2.Rack, ' | ',\n",
    "               aa2.ype, ' | ',\n",
    "               aa2.subtype, ' | ',\n",
    "               aa2.asset_id, ' | ',\n",
    "               aa2.nom_court, ' | ',\n",
    "               aa2.nom_long, ' | ',\n",
    "               aa2.tag_partenaire ) agg\n",
    "FROM `AUDIT_23_05_2022_review` aa\n",
    "INNER JOIN `assets_filtree_reduced` aa2 ON trim(aa2.asset_id) = trim(aa.Asset_id_to_Add)\n",
    "\n",
    "where ASSET_ID_OK_POSITION = 'M-0000731315'"
   ]
  },
  {
   "cell_type": "code",
   "execution_count": null,
   "id": "413a1e4c",
   "metadata": {},
   "outputs": [],
   "source": [
    "select * from `AUDIT_23_05_2022_review`\n",
    "where Audit_sur_site not like 'patch panel' and status_3 is not null\n",
    "limit 1000"
   ]
  },
  {
   "cell_type": "markdown",
   "id": "c496003b",
   "metadata": {},
   "source": [
    "# UPDATE"
   ]
  },
  {
   "cell_type": "markdown",
   "id": "8fd17e7c",
   "metadata": {},
   "source": [
    "## `Audit_time`"
   ]
  },
  {
   "cell_type": "code",
   "execution_count": null,
   "id": "73bb640f",
   "metadata": {},
   "outputs": [],
   "source": [
    "UPDATE AUDIT_23_05_2022_review\n",
    "set Audit_time = CASE WHEN status_2 like 'ok-position:1' then '20-05-2022'\n",
    "                      WHEN Asset_id_to_add != '' then '26-05-2022' \n",
    "                 END\n",
    "WHERE Audit_time is null"
   ]
  },
  {
   "cell_type": "markdown",
   "id": "9837a423",
   "metadata": {},
   "source": [
    "### `Patch_Panel`"
   ]
  },
  {
   "cell_type": "code",
   "execution_count": null,
   "id": "599af8e7",
   "metadata": {},
   "outputs": [],
   "source": [
    "UPDATE `olivier_it` it\n",
    "INNER JOIN `patch_panel_name` pp ON\n",
    "pp.modele = it.modele\n",
    "SET it.status_2 = 'Patch_panel'"
   ]
  },
  {
   "cell_type": "markdown",
   "id": "c15388f3",
   "metadata": {},
   "source": [
    "# `Linked equipment`"
   ]
  },
  {
   "cell_type": "markdown",
   "id": "ba53d78c",
   "metadata": {},
   "source": [
    "On fait le lien entre la **cmdb** et notes associées à une **audit**, généralement le bon asset_id est référencé dans la colonne asset_id_to_add"
   ]
  },
  {
   "cell_type": "code",
   "execution_count": null,
   "id": "c328594f",
   "metadata": {},
   "outputs": [],
   "source": [
    "UPDATE `AUDIT_23_05_2022_review` aa\n",
    "INNER JOIN `assets_filtree_reduced` aa2 ON aa2.asset_id = aa.Asset_id_to_Add\n",
    "\n",
    "set aa.Notes = concat('Rack : ',aa2.Salle, ' ', aa2.Rack, ' | ',\n",
    "               aa2.ype, ' | ',\n",
    "               aa2.subtype, ' | ',\n",
    "               aa2.asset_id, ' | ',\n",
    "               aa2.nom_court, ' | ',\n",
    "               aa2.nom_long, ' | ',\n",
    "               aa2.tag_partenaire )\n",
    "\n",
    "where aa.asset_id_to_add is not null and (aa.Notes not like '%|%' or aa.Notes is null )"
   ]
  },
  {
   "cell_type": "code",
   "execution_count": null,
   "id": "7304cbf2",
   "metadata": {},
   "outputs": [],
   "source": [
    "UPDATE `AUDIT_23_05_2022_review` it\n",
    " SET it.link_salle    = SUBSTRING_INDEX(SUBSTRING_INDEX(notes, 'Rack : ',-1),' ',1),\n",
    "     it.link_rack     = SUBSTRING_INDEX(SUBSTRING_INDEX(SUBSTRING_INDEX(notes, 'Rack : ',-1),' |',1),' ', -1),\n",
    "     it.link_asset_id = SUBSTRING_INDEX(SUBSTRING_INDEX(notes, '|',4),'|', -1 ),\n",
    "     it.link_asset_tag      = SUBSTRING_INDEX(notes, '|',-1) \n",
    " where it.Notes like '%|%'"
   ]
  }
 ],
 "metadata": {
  "kernelspec": {
   "display_name": "Python 3 (ipykernel)",
   "language": "python",
   "name": "python3"
  },
  "language_info": {
   "codemirror_mode": {
    "name": "ipython",
    "version": 3
   },
   "file_extension": ".py",
   "mimetype": "text/x-python",
   "name": "python",
   "nbconvert_exporter": "python",
   "pygments_lexer": "ipython3",
   "version": "3.9.7"
  }
 },
 "nbformat": 4,
 "nbformat_minor": 5
}
