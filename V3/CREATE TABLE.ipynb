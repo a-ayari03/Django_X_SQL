{
 "cells": [
  {
   "cell_type": "markdown",
   "id": "8d3008a1",
   "metadata": {},
   "source": [
    "###### CREATE / ALTER TABLE"
   ]
  },
  {
   "cell_type": "code",
   "execution_count": null,
   "id": "81853f12",
   "metadata": {},
   "outputs": [],
   "source": [
    "CREATE TABLE IT_Equipment_v2\n",
    "as\n",
    "SELECT * FROM `IT_Equipment`"
   ]
  },
  {
   "cell_type": "code",
   "execution_count": null,
   "id": "c81f379f",
   "metadata": {},
   "outputs": [],
   "source": [
    "CREATE TABLE assets_filtree_v2\n",
    "as\n",
    "select *\n",
    "from`assets_new`\n",
    "where (API = 'FRVLB0C2' or API = 'FRTCRAVA')"
   ]
  },
  {
   "cell_type": "code",
   "execution_count": null,
   "id": "632bc56c",
   "metadata": {},
   "outputs": [],
   "source": [
    "CREATE TABLE IT_Equipment_olivier_no_match\n",
    "as\n",
    "SELECT it.*\n",
    "FROM `IT_Equipment_v2` it\n",
    "LEFT JOIN `olivier_it` oit on oit.olivier_index = CONCAT(it.Nom_de_la_salle, it.reperage_id)\n",
    "\n",
    "where nom_de_la_salle in ('P1', 'P2', 'P3', 'P4') and oit.olivier_index is null\n",
    "-- AND (oit.olivier_index is null or it.reperage_id is null)\n",
    "ORDER BY Reperage_ID asc"
   ]
  },
  {
   "cell_type": "code",
   "execution_count": null,
   "id": "b991f512",
   "metadata": {},
   "outputs": [],
   "source": [
    "CREATE TABLE assets_filtree_reduced\n",
    "AS\n",
    "SELECT ype, subtype, ASSET_ID, NOM_COURT, NOM_LONG, FABRICANT, MODEL, DALLE, SALLE, Rack, Slot_Begin, Slot_End, No_serie, etat, api, tag_partenaire\n",
    "from `assets_filtree_v2` aa\n",
    "WHERE SALLE in ('P1', 'P2', 'P3', 'P4', '0')"
   ]
  },
  {
   "cell_type": "code",
   "execution_count": null,
   "id": "76a1b29c",
   "metadata": {},
   "outputs": [],
   "source": [
    "ALTER TABLE olivier_it\n",
    "ADD COLUMN STATUS_2 varchar(255)\n",
    "ADD COLUMN Rack varchar(255),\n",
    "ADD COLUMN Slot_u varchar(255),\n",
    "ADD COLUMN STATUS_3 varchar(255)\n",
    "ADD COLUMN ASSET_ID_OK_POSITION varchar(255) ;"
   ]
  },
  {
   "cell_type": "code",
   "execution_count": null,
   "id": "8e302041",
   "metadata": {},
   "outputs": [],
   "source": [
    "ALTER TABLE olivier_it \n",
    "CHANGE COLUMN Salle_Origin  Nom_de_la_salle varchar(255) ,\n",
    "CHANGE COLUMN Long_name  nom varchar(255) ,\n",
    "CHANGE COLUMN model  modele varchar(255) ,\n",
    "CHANGE COLUMN Manufacturer  fabricant varchar(255) ,\n",
    "CHANGE COLUMN Rack_U_origin  reperage_id varchar(255),\n",
    "CHANGE COLUMN rack Nom_de_baie varchar(255);\n"
   ]
  }
 ],
 "metadata": {
  "kernelspec": {
   "display_name": "Python 3 (ipykernel)",
   "language": "python",
   "name": "python3"
  },
  "language_info": {
   "codemirror_mode": {
    "name": "ipython",
    "version": 3
   },
   "file_extension": ".py",
   "mimetype": "text/x-python",
   "name": "python",
   "nbconvert_exporter": "python",
   "pygments_lexer": "ipython3",
   "version": "3.9.7"
  }
 },
 "nbformat": 4,
 "nbformat_minor": 5
}
