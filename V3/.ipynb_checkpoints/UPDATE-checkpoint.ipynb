{
 "cells": [
  {
   "cell_type": "markdown",
   "id": "d2bf178c",
   "metadata": {},
   "source": [
    "# UPDATE"
   ]
  },
  {
   "cell_type": "code",
   "execution_count": null,
   "id": "2fef0dd5",
   "metadata": {},
   "outputs": [],
   "source": [
    "UPDATE IT_Equipment_v2 it\n",
    "set it.status_2 = NULL"
   ]
  },
  {
   "cell_type": "markdown",
   "id": "d0d1d8d5",
   "metadata": {},
   "source": [
    "### `OK-CMDB-ASSET-ID`"
   ]
  },
  {
   "cell_type": "code",
   "execution_count": null,
   "id": "11cdf45f",
   "metadata": {},
   "outputs": [],
   "source": [
    "-- 1988 rows affected\n",
    "UPDATE `olivier_it` it\n",
    "INNER JOIN `assets_filtree_reduced` aa\n",
    "ON aa.asset_id = it.asset_id\n",
    "and it.asset_id != '0'\n",
    "SET it.status_2 = 'OK-CMDB-ASSET-ID'"
   ]
  },
  {
   "cell_type": "markdown",
   "id": "97e23db2",
   "metadata": {},
   "source": [
    "### `'ASSET_ID OK / SHORT_NAME MISMATCH'`"
   ]
  },
  {
   "cell_type": "markdown",
   "id": "072f2d9a",
   "metadata": {},
   "source": [
    "##### 0 resultat affiché, ils sont tous contenu dans le OK-CMDB-ASSET-ID"
   ]
  },
  {
   "cell_type": "code",
   "execution_count": null,
   "id": "d193b7ec",
   "metadata": {},
   "outputs": [],
   "source": [
    "UPDATE `IT_Equipment_v2` it\n",
    "INNER JOIN `assets_filtree_v2` aa\n",
    "ON aa.nom_long = it.nom or (aa.nom_court = it.short_name and it.short_name !=0)\n",
    "set it.status_2 = 'ASSET_ID OK / SHORT_NAME MISMATCH'\n",
    "where it.status_2 is null"
   ]
  },
  {
   "cell_type": "markdown",
   "id": "737dc350",
   "metadata": {},
   "source": [
    "### `Asset_ID affiché`"
   ]
  },
  {
   "cell_type": "code",
   "execution_count": null,
   "id": "0d86d3b5",
   "metadata": {},
   "outputs": [],
   "source": [
    "UPDATE `olivier_it` it\n",
    "INNER JOIN `assets_filtree_reduced` aa on LEFT(aa.nom_court, length(aa.nom_court) - 3) = it.short_name\n",
    "where it.type = 'Serveurs' and it.status_2 is null"
   ]
  },
  {
   "cell_type": "markdown",
   "id": "e89e2fce",
   "metadata": {},
   "source": [
    "### `OK-POSITION`"
   ]
  },
  {
   "cell_type": "code",
   "execution_count": null,
   "id": "933e03ee",
   "metadata": {},
   "outputs": [],
   "source": [
    "-- 250\n",
    "UPDATE `olivier_it` it \n",
    "INNER JOIN `assets_filtree_reduced`aa\n",
    "ON (\n",
    "\tit.Nom_de_la_salle = aa.Salle\n",
    "AND\n",
    "\tit.Nom_de_baie = aa.Rack\n",
    "AND\n",
    "\tit.Slot_U = CONVERT(aa.Slot_Begin, integer)\n",
    "\t)  \n",
    "    \n",
    "INNER JOIN `IT_Equipment_match_position_reduced_v3` it2\n",
    "ON it.reperage_id = it2.reperage_id\n",
    "\n",
    "SET it.status_2 = Concat('OK-POSITION:', it2.rowNumber)\n",
    "\n",
    "WHERE it.status_2 is null AND (\n",
    "   aa.model not like '%BL460C%'\n",
    "OR aa.model not like '%BL660C%'\n",
    "OR aa.model not like '%BL20P%'\n",
    "OR aa.model not like '%BL860C%'\n",
    "OR aa.model not like '%BL420C%'\n",
    "OR aa.model not like '%BL680C%'\n",
    "OR aa.model not like '%WS460C%'\n",
    "OR aa.model not like '%BL870C%' )"
   ]
  },
  {
   "cell_type": "markdown",
   "id": "b1508f3e",
   "metadata": {},
   "source": [
    "## `NOM DU FABRICANT : ASSET_ID`"
   ]
  },
  {
   "cell_type": "markdown",
   "id": "aa8c36c3",
   "metadata": {},
   "source": [
    "### netapp & ATTO & Brocade"
   ]
  },
  {
   "cell_type": "code",
   "execution_count": null,
   "id": "fdaa41dd",
   "metadata": {},
   "outputs": [],
   "source": [
    "-- 42 rows affected\n",
    "UPDATE   `olivier_it` it\n",
    " LEFT JOIN `it_built_system_NAS_v3` it2\n",
    " ON        it2.nom_de_baie = it.nom_de_baie \n",
    " AND       it2.nom_de_la_salle = it.nom_de_la_salle\n",
    " AND\t\t  it2.fabricant = it.fabricant\n",
    "\n",
    "SET it.status_2 = ( \n",
    "    \t\t\tCASE WHEN it.status_2 is null and it2.status_2 is not null then Concat(it.fabricant, ' : ', it2.asset_id) \n",
    "        \t  \tWHEN it.status_2 is null and it2.status_2 is null and (it.asset_id is null or it.asset_id ='0' or it.asset_id ='') then  Concat(it.fabricant, ' : No Match') \n",
    "        \t\tEND )\n",
    "                \n",
    "WHERE it.status_2 is null\n",
    "AND (it.fabricant like 'netapp%' or it.fabricant like 'ATTO%' or it.fabricant like 'Brocade%')"
   ]
  },
  {
   "cell_type": "markdown",
   "id": "c6b3054d",
   "metadata": {},
   "source": [
    "### Exadata"
   ]
  },
  {
   "cell_type": "code",
   "execution_count": null,
   "id": "214bad49",
   "metadata": {},
   "outputs": [],
   "source": [
    "3 rows affected\n",
    "UPDATE   `olivier_it` it\n",
    " LEFT JOIN `it_build_system_EXADATA_v3` it2\n",
    " ON        it2.nom_de_baie = it.nom_de_baie \n",
    " AND       it2.nom_de_la_salle = it.nom_de_la_salle\n",
    " AND\t\t  it2.fabricant = it.fabricant\n",
    "\n",
    "SET it.status_2 = ( \n",
    "    \t\t\tCASE WHEN it.status_2 is null and it2.status_2 is not null then Concat(it.fabricant, ' : ', it2.asset_id) \n",
    "        \t  \tWHEN it.status_2 is null and it2.status_2 is null and (it.asset_id is null or it.asset_id ='0') then  Concat(it.fabricant, ' : No Match') \n",
    "        \t\tEND )\n",
    "                \n",
    "WHERE it.status_2 is NULL \n",
    "AND (it.fabricant like '%oracle%')"
   ]
  },
  {
   "cell_type": "markdown",
   "id": "a55f0f1d",
   "metadata": {},
   "source": [
    "### HPC"
   ]
  },
  {
   "cell_type": "markdown",
   "id": "6877ad40",
   "metadata": {},
   "source": [
    "#### No match"
   ]
  },
  {
   "cell_type": "code",
   "execution_count": null,
   "id": "ca2e5831",
   "metadata": {},
   "outputs": [],
   "source": [
    "0 rows affected\n",
    "UPDATE `olivier_it` it\n",
    " LEFT JOIN `it_build_system_HPC_v3` it2\n",
    " ON (LEFT(it.Nom,6)) = it2.root_ferme\n",
    "\n",
    "SET it.status_2 = ( \n",
    "    \t\t\tCASE WHEN it.status_2 is null and it2.status_2 is not null then Concat(it.fabricant, ' : ', it2.root_ferme) \n",
    "        \t  \tWHEN it.status_2 is null and it2.status_2 is null and (it.asset_id is null or it.asset_id ='0') then  Concat(it.fabricant, ' : No Match') \n",
    "        \t\tEND )\n",
    "\n",
    "WHERE (it.nom like '%HPC%' \n",
    "OR it.short_name like '%HPC%') and it.status_2 is NULL"
   ]
  },
  {
   "cell_type": "markdown",
   "id": "8c54a348",
   "metadata": {},
   "source": [
    "### HANNA"
   ]
  },
  {
   "cell_type": "code",
   "execution_count": null,
   "id": "c1d3dc23",
   "metadata": {},
   "outputs": [],
   "source": [
    "0 ROWS\n",
    "UPDATE `olivier_it` it\n",
    "  LEFT JOIN `it_build_system_HANNA_v3` it2\n",
    " ON        it2.nom_de_baie = it.nom_de_baie \n",
    " AND       it2.nom_de_la_salle = it.nom_de_la_salle\n",
    " AND\t\t  it2.fabricant = it.fabricant\n",
    "\n",
    "SET it.status_2 =(CASE WHEN it.status_2 is null and it2.status_2 is not null then Concat(it.fabricant, ' : ', it2.asset_id) \n",
    "\t\t\t\tWHEN it.status_2 is null and it2.status_2 is null and (it.asset_id is null or it.asset_id ='0') then  Concat(it.fabricant, ' : No Match') \n",
    "        \t\tEND ) \n",
    "\n",
    "WHERE it.status_2 is null and (it.nom_de_baie like '%hana%' OR it.nom like '%hana%')"
   ]
  },
  {
   "cell_type": "markdown",
   "id": "6fbc5183",
   "metadata": {},
   "source": [
    "### Ring"
   ]
  },
  {
   "cell_type": "code",
   "execution_count": null,
   "id": "144f2c2b",
   "metadata": {},
   "outputs": [],
   "source": [
    "0 rows\n",
    "UPDATE `olivier_it` it\n",
    "  LEFT JOIN `it_build_system_RING_v3` it2\n",
    " ON        it2.nom_de_baie = it.nom_de_baie \n",
    " AND       it2.nom_de_la_salle = it.nom_de_la_salle\n",
    " AND\t\t  it2.fabricant = it.fabricant\n",
    "\n",
    "SET it.status_2 =(CASE WHEN it.status_2 is null and it2.status_2 is not null then Concat(it.fabricant, ' : ', it2.asset_id) \n",
    "\t\t\t\tWHEN it.status_2 is null and it2.status_2 is null and (it.asset_id is null or it.asset_id ='0') then  Concat(it.fabricant, ' : No Match') \n",
    "        \t\tEND ) \n",
    "\n",
    "WHERE it.status_2 is NULL and (it.short_name like '%NA9TCR%' \n",
    "OR it.nom like '%NA9TCR%')"
   ]
  },
  {
   "cell_type": "markdown",
   "id": "f6941b73",
   "metadata": {},
   "source": [
    "### PCP : no match"
   ]
  },
  {
   "cell_type": "code",
   "execution_count": null,
   "id": "9426a08f",
   "metadata": {},
   "outputs": [],
   "source": [
    "0 rows\n",
    "UPDATE `olivier_it` it\n",
    "SET it.status_2 = 'PCP : No Match'\n",
    "where (it.Nom like '%_Rack%' or it.short_name like '%_Rack%') and (asset_id is null or asset_id ='0') and status_2 is null"
   ]
  },
  {
   "cell_type": "code",
   "execution_count": null,
   "id": "9948bacd",
   "metadata": {},
   "outputs": [],
   "source": []
  },
  {
   "cell_type": "markdown",
   "id": "f6b7fa17",
   "metadata": {},
   "source": [
    "### FEX"
   ]
  },
  {
   "cell_type": "code",
   "execution_count": null,
   "id": "49f78ab5",
   "metadata": {},
   "outputs": [],
   "source": [
    "13 rows\n",
    "UPDATE `olivier_it` it\n",
    "LEFT JOIN `IT_Equipment_FEX_v3` it2 on it2.root_fex = (LEFT(it.Nom,8)) and it.Nom != it2.root_fex\n",
    "\n",
    "SET it.status_2 =(CASE WHEN it.status_2 is null and it2.status_2 is not null and it2.asset_id !='0' then Concat(it.fabricant, ' : ', it2.asset_id) \n",
    "                WHEN it.status_2 is null and it2.status_2 is null and (it.asset_id is null or it2.asset_id ='0') then  Concat(it.fabricant, ' : No Match') \n",
    "                END ) \n",
    "\n",
    "where it.Fabricant like '%cisco%' and it2.root_fex is not null and it.status_2 is null"
   ]
  },
  {
   "cell_type": "markdown",
   "id": "aeb9e7da",
   "metadata": {},
   "source": [
    "## `'CMDB-OK-OLD'`"
   ]
  },
  {
   "cell_type": "code",
   "execution_count": null,
   "id": "65b348ef",
   "metadata": {},
   "outputs": [],
   "source": [
    "903 rows !?????\n",
    "UPDATE `olivier_it` it\n",
    "LEFT JOIN `assets_filtree_reduced` aa\n",
    "ON REPLACE(REPLACE(aa.nom_court,'_OLD',''),'-OLD','')  = it.nom \n",
    "OR REPLACE(REPLACE(aa.nom_long,'_OLD',''),'-OLD','')  = it.nom \n",
    "OR REPLACE(REPLACE(aa.nom_court,'_OLD',''),'-OLD','')  = it.short_name \n",
    "OR REPLACE(REPLACE(aa.nom_long,'_OLD',''),'-OLD','')  = it.short_name\n",
    "\n",
    "SET it.status_2 = 'select * from `olivier_it` it\n",
    "INNER JOIN `assets_filtree_reduced` aa\n",
    "ON  ( REPLACE(REPLACE(aa.nom_court,'_OLD',''),'-OLD','')  = it.nom \n",
    "OR REPLACE(REPLACE(aa.nom_long,'_OLD',''),'-OLD','')  = it.nom \n",
    "OR REPLACE(REPLACE(aa.nom_court,'_OLD',''),'-OLD','')  = it.short_name \n",
    "OR REPLACE(REPLACE(aa.nom_long,'_OLD',''),'-OLD','')  = it.short_name )\n",
    "and (it.SHORT_NAME != '' )\n",
    "\n",
    "\n",
    "where it.status_2 = 'CMDB-OK-OLD' and (aa.nom_court like '%_OLD' or aa.nom_long like '%_OLD' or aa.nom_court like '%-OLD' or aa.nom_long like '%-OLD')\n",
    "ORDER BY reperage_id asc'\n",
    "\n",
    "where it.status_2 is NULL and (aa.nom_court like '%_OLD' or aa.nom_long like '%_OLD' or aa.nom_court like '%-OLD' or aa.nom_long like '%-OLD')"
   ]
  },
  {
   "cell_type": "markdown",
   "id": "8df17e19",
   "metadata": {},
   "source": [
    "## `'MISMATCH_TIRET'`"
   ]
  },
  {
   "cell_type": "markdown",
   "id": "f61e9486",
   "metadata": {},
   "source": [
    "On se limite pour l'instant aux equipements CISCO par sécurité "
   ]
  },
  {
   "cell_type": "code",
   "execution_count": null,
   "id": "fa4ab295",
   "metadata": {},
   "outputs": [],
   "source": [
    "-- 44 rows PAS APPLIQUE !!!! \n",
    "UPDATE `IT_Equipment` it\n",
    "INNER JOIN `assets_filtree` aa\n",
    "ON UPPER(REPLACE(REPLACE(aa.nom_court,'_',''),'-',''))  =  UPPER(REPLACE(REPLACE(it.nom,'_',''),'-',''))\n",
    "OR UPPER(REPLACE(REPLACE(aa.nom_long,'_',''),'-',''))  =  UPPER(REPLACE(REPLACE(it.nom,'_',''),'-',''))\n",
    "OR UPPER(REPLACE(REPLACE(aa.nom_court,'_',''),'-',''))  =  UPPER(REPLACE(REPLACE(it.short_name,'_',''),'-',''))\n",
    "OR UPPER(REPLACE(REPLACE(aa.nom_long,'_',''),'-',''))  =  UPPER(REPLACE(REPLACE(it.short_name,'_',''),'-','')) \n",
    "\n",
    "-- SET it.status_2 = 'MISMATCH_TIRET'\n",
    "\n",
    "WHERE it.status_2 is null and ( aa.nom_court is not null or aa.nom_long is not null) and aa.nom like '%fex%' \n",
    "-- PP11-1 and PP111 not the same equipment"
   ]
  },
  {
   "cell_type": "code",
   "execution_count": null,
   "id": "2fedc4b5",
   "metadata": {},
   "outputs": [],
   "source": [
    "-- 15 rows\n",
    "UPDATE `IT_Equipment_v2` it\n",
    "INNER JOIN `assets_filtree_v2` aa\n",
    "ON UPPER(REPLACE(REPLACE(aa.nom_court,'_',''),'-',''))  =  UPPER(REPLACE(REPLACE(it.nom,'_',''),'-',''))\n",
    "OR UPPER(REPLACE(REPLACE(aa.nom_long,'_',''),'-',''))  =  UPPER(REPLACE(REPLACE(it.nom,'_',''),'-',''))\n",
    "OR UPPER(REPLACE(REPLACE(aa.nom_court,'_',''),'-',''))  =  UPPER(REPLACE(REPLACE(it.short_name,'_',''),'-',''))\n",
    "OR UPPER(REPLACE(REPLACE(aa.nom_long,'_',''),'-',''))  =  UPPER(REPLACE(REPLACE(it.short_name,'_',''),'-','')) \n",
    "\n",
    "SET it.status_2 = 'MISMATCH_TIRET'\n",
    "\n",
    "WHERE it.status_2 is null and ( aa.nom_court is not null or aa.nom_long is not null) and it.nom like '%fex%' \n",
    "-- PP11-1 and PP111 not the same equipment"
   ]
  },
  {
   "cell_type": "markdown",
   "id": "8cba9007",
   "metadata": {},
   "source": [
    "## `HITASHI`"
   ]
  },
  {
   "cell_type": "markdown",
   "id": "fc2ca54d",
   "metadata": {},
   "source": [
    "### Sur Asset.Filtree, prendre la liste de \"Fabricant\" = \"HDS\", prendre les 5 lettres près \"-\" ou \"_\", pur croiser avec \"IT_Equipement\" = \"Hitachi\" en cherchant avec les 5 lettres "
   ]
  },
  {
   "cell_type": "code",
   "execution_count": null,
   "id": "ce860d64",
   "metadata": {},
   "outputs": [],
   "source": [
    "87 rows\n",
    "UPDATE `olivier_it` it\n",
    "INNER JOIN `IT_Equipment_cleaning_Hitachi_v3` hit on hit.it_nom = it.nom\n",
    "LEFT JOIN `assets_filtree_reduced` aa on UPPER(REPLACE(REPLACE(aa.nom_court,'_',''),'-','')) = hit.clean_name\n",
    "\n",
    "SET it.status_2 = (CASE WHEN aa.asset_id is null and it.status_2 is null then 'Hitashi : No match'\n",
    "    \t\t\tWHEN aa.asset_id is not null and it.status_2 is null then concat('HDS : ',aa.asset_id)\n",
    "    \t\t\tEND \n",
    "    \t\t\t)\n",
    "WHERE it.Fabricant like '%Hitachi%'\n"
   ]
  },
  {
   "cell_type": "markdown",
   "id": "c2353878",
   "metadata": {},
   "source": [
    "## `Proliant / C7000`"
   ]
  },
  {
   "cell_type": "markdown",
   "id": "d3f71678",
   "metadata": {},
   "source": [
    "#### La totalité est déja couverte donc ce status_2 est inexistant !"
   ]
  },
  {
   "cell_type": "markdown",
   "id": "2a3191ab",
   "metadata": {},
   "source": [
    "  1° Si \"modele\" contient \"Proliant\" ou \"C7000\" et que \"status_2\" = \"NULL\"\n",
    "\n",
    "    Vérifier si match de position avec le fichier ASSET ayant pour \"API\" = \"FRVLB0C2\" ou \"API\" = \"FRTCRAVA\"\n",
    "\n",
    "    => 1/ Si il y a un match alors UPDATE \"status_2\" = \"MATCH-POSITION : Install ou Retired\"\n",
    "\n",
    "    => 2/ Si il n'y a pas de match alors UPDATE \"status_2\" = \"SANS MATCH-POSITION : CONTROL SUR SITE\""
   ]
  },
  {
   "cell_type": "code",
   "execution_count": null,
   "id": "e83ac61d",
   "metadata": {},
   "outputs": [],
   "source": [
    "0 rows\n",
    "UPDATE `olivier_it` it \n",
    "\n",
    "LEFT JOIN \n",
    "\t`assets_filtree_reduced` aa \n",
    "ON \n",
    "\tit.Nom_de_la_salle = aa.Salle\n",
    "AND\n",
    "\tit.Nom_de_baie = aa.Rack\n",
    "AND\n",
    "\tit.Slot_U = CONVERT(aa.Slot_Begin, integer)\n",
    "\n",
    "SET it.status_2 = \"MATCH-POSITION : Install ou Retired\"\n",
    "\n",
    "WHERE (modele like '%Proliant%' OR modele like '%C7000%' ) \n",
    "and (API = 'FRVLB0C2' or API = 'FRTCRAVA')\n",
    "and (it.status_2 is null OR it.status_2 ='MISMATCH_TIRET')"
   ]
  },
  {
   "cell_type": "code",
   "execution_count": null,
   "id": "740d67b6",
   "metadata": {},
   "outputs": [],
   "source": [
    "189 rows\n",
    "UPDATE `olivier_it` it \n",
    "\n",
    "LEFT JOIN \n",
    "\t`assets_filtree_reduced` aa \n",
    "ON \n",
    "\tit.Nom_de_la_salle = aa.Salle\n",
    "AND\n",
    "\tit.Nom_de_baie = aa.Rack\n",
    "AND\n",
    "\tit.Slot_U = CONVERT(aa.Slot_Begin, integer)\n",
    "\n",
    "SET it.status_2 = \"SANS MATCH-POSITION : CONTROL SUR SITE\"\n",
    "\n",
    "WHERE (modele like '%Proliant%' OR modele like '%C7000%' ) \n",
    "and (it.status_2 is null OR it.status_2 ='MISMATCH_TIRET')\n",
    "and aa.dalle is null -- dalle null = pas de match car i ls' agit d'un left join "
   ]
  },
  {
   "cell_type": "markdown",
   "id": "cdfac6d2",
   "metadata": {},
   "source": [
    "## `OMNISWITCH`"
   ]
  },
  {
   "cell_type": "code",
   "execution_count": null,
   "id": "c2817361",
   "metadata": {},
   "outputs": [],
   "source": [
    "174 rows\n",
    "UPDATE `olivier_it` it \n",
    "SET it.status_2 = \"Omniswitch : Not in CMDB - To validate with Serge\"\n",
    "where modele like '%omniswitch%'"
   ]
  },
  {
   "cell_type": "markdown",
   "id": "b35f274d",
   "metadata": {},
   "source": [
    "## `Patch Panel`"
   ]
  },
  {
   "cell_type": "code",
   "execution_count": null,
   "id": "409d0116",
   "metadata": {},
   "outputs": [],
   "source": [
    "106 rows\n",
    "UPDATE `olivier_it` it \n",
    "SET it.status_2 = \"Patch Panel : No action expected\"\n",
    "where type like '%Patch Panel%'"
   ]
  },
  {
   "cell_type": "markdown",
   "id": "29380a1a",
   "metadata": {},
   "source": [
    "# `DXI`"
   ]
  },
  {
   "cell_type": "code",
   "execution_count": null,
   "id": "199456f7",
   "metadata": {},
   "outputs": [],
   "source": [
    "-- 15 rows\n",
    "UPDATE `olivier_it` it \n",
    "LEFT JOIN `it_build_system_DXI` it2 ON left(it.nom,9) = it2.DXI_ROOT\n",
    "SET it.status_2 = (CASE WHEN it.status_2 is null and it2.status_it is null then 'DXI : No match'\n",
    "\t\t\t\t\tWHEN it.status_2 is null and it2.status_it is not null then concat('DXI : ',it2.asset_id_it)\n",
    "\t\t\t\t\tEND \n",
    "\t\t\t\t\t)\n",
    "                    \n",
    "where it.modele like '%dxi%' and status_2 is null"
   ]
  },
  {
   "cell_type": "markdown",
   "id": "5110f905",
   "metadata": {},
   "source": [
    "# `NEW STATUS_3`"
   ]
  },
  {
   "cell_type": "code",
   "execution_count": null,
   "id": "7822f041",
   "metadata": {},
   "outputs": [],
   "source": [
    "UPDATE olivier_it\n",
    "\n",
    "SET status_3 = \tCASE WHEN status_2 = 'OK-CMDB-ASSET-ID' then 'OK-CMDB-ASSET-ID'\n",
    "\t\tWHEN status_2 != 'OK-CMDB-ASSET-ID' and status_2 is not null then 'Identifiable'\n",
    "        WHEN status_2 is null then NULL\n",
    "        END"
   ]
  }
 ],
 "metadata": {
  "kernelspec": {
   "display_name": "Python 3 (ipykernel)",
   "language": "python",
   "name": "python3"
  },
  "language_info": {
   "codemirror_mode": {
    "name": "ipython",
    "version": 3
   },
   "file_extension": ".py",
   "mimetype": "text/x-python",
   "name": "python",
   "nbconvert_exporter": "python",
   "pygments_lexer": "ipython3",
   "version": "3.9.7"
  }
 },
 "nbformat": 4,
 "nbformat_minor": 5
}
