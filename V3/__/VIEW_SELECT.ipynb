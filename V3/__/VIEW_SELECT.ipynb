{
 "cells": [
  {
   "cell_type": "markdown",
   "id": "9324d5a0",
   "metadata": {},
   "source": [
    "# Compteur"
   ]
  },
  {
   "cell_type": "code",
   "execution_count": null,
   "id": "d05713ee",
   "metadata": {},
   "outputs": [],
   "source": [
    "SELECT count(*) count, TYPE\n",
    "from `olivier_it`\n",
    "where status_2 is null\n",
    "GROUP BY TYPE"
   ]
  },
  {
   "cell_type": "code",
   "execution_count": null,
   "id": "ab4e1f59",
   "metadata": {},
   "outputs": [],
   "source": [
    "-- IT_count\n",
    "select COUNT(STATUS_2), status_2\n",
    "from `olivier_it`\n",
    "GROUP BY status_2\n",
    "ORDER BY COUNT(status_2) desc"
   ]
  },
  {
   "cell_type": "markdown",
   "id": "df62d821",
   "metadata": {},
   "source": [
    "# VIEW"
   ]
  },
  {
   "cell_type": "markdown",
   "id": "a46c3491",
   "metadata": {},
   "source": [
    "### `OK-POSITION : NB OF MATCH`"
   ]
  },
  {
   "cell_type": "markdown",
   "id": "ab1e50ad",
   "metadata": {},
   "source": [
    "Version condensée de IT_Equipment + jointure avec asset_new uniquement sur la position"
   ]
  },
  {
   "cell_type": "code",
   "execution_count": null,
   "id": "a694f8fd",
   "metadata": {},
   "outputs": [],
   "source": [
    "CREATE VIEW IT_Equipment_match_position_reduced_v3\n",
    "as\n",
    "SELECT it.olivier_index, count(it.olivier_index) as RowNumber\n",
    "\n",
    "FROM   `olivier_it` it \n",
    "INNER JOIN `assets_filtree_reduced`aa\n",
    "ON (\n",
    "\tit.Salle_origin = aa.Salle\n",
    "AND\n",
    "\tit.rack = aa.Rack\n",
    "AND\n",
    "\tit.Slot_U = CONVERT(aa.Slot_Begin, integer)\n",
    "\t)  \n",
    "GROUP BY it.olivier_index"
   ]
  },
  {
   "cell_type": "code",
   "execution_count": null,
   "id": "1df1380c",
   "metadata": {},
   "outputs": [],
   "source": []
  },
  {
   "cell_type": "code",
   "execution_count": null,
   "id": "69a8f254",
   "metadata": {},
   "outputs": [],
   "source": [
    "CREATE VIEW IT_Equipment_match_position_v3\n",
    "AS\n",
    "SELECT it.Long_name,\n",
    "\t\tit.short_name,\n",
    "        it.asset_id,\n",
    "        it.Salle_Origin,\n",
    "        it.rack,\n",
    "        it.slot_u,\n",
    "        it.olivier_index,\n",
    "        it.PROJET_Responsable,\n",
    "       aa.ASSET_ID ASSET_ID_aa, aa.NOM_COURT NOM_COURT_aa, aa.NOM_LONG NOM_LONG_aa, aa.FABRICANT FABRICANT_aa, aa.MODEL MODEL_aa, aa.DALLE DALLE_aa, aa.SALLE SALLE_aa, aa.etat, it2.RowNumber\n",
    "\n",
    "       \n",
    "FROM   `olivier_it` it \n",
    "INNER JOIN `assets_filtree_reduced`aa\n",
    "ON (\n",
    "\tit.Salle_Origin = aa.Salle\n",
    "AND\n",
    "\tit.rack = aa.Rack\n",
    "AND\n",
    "\tit.Slot_U = CONVERT(aa.Slot_Begin, integer)\n",
    "\t)  \n",
    "INNER JOIN `IT_Equipment_match_position_reduced_v2` it2\n",
    "ON it.olivier_index = it2.olivier_index\n",
    "\n",
    "WHERE it2.rowNumber > 1\n",
    "ORDER BY it2.rowNumber desc, olivier_index, it.status_2 ASC"
   ]
  },
  {
   "cell_type": "markdown",
   "id": "ffdb0cec",
   "metadata": {},
   "source": [
    "## `long_name DU FABRICANT : ASSET_ID`"
   ]
  },
  {
   "cell_type": "markdown",
   "id": "b009cc0c",
   "metadata": {},
   "source": [
    "### netapp & ATTO & Brocade"
   ]
  },
  {
   "cell_type": "markdown",
   "id": "4eea755b",
   "metadata": {},
   "source": [
    "System 2-en-1 avec chassis + server. Y aura 2 objects differents alors que c'est la meme chose, on va donc s'assurer que le match se fait sur le chassis plutot que sur le server + on rattache tous les serveurs à au bon chassis"
   ]
  },
  {
   "cell_type": "code",
   "execution_count": null,
   "id": "999432da",
   "metadata": {},
   "outputs": [],
   "source": [
    "CREATE VIEW it_built_system_NAS_v2\n",
    "AS\n",
    "SELECT rack,\n",
    "       Salle_Origin,\n",
    "       status_2,\n",
    "       asset_id,\n",
    "       long_name, \n",
    "        model,\n",
    "        manufacturer,\n",
    "        olivier_index\n",
    "FROM   `olivier_it` it\n",
    "WHERE  status_2 IS NOT NULL and (it.manufacturer like 'netapp%' or it.manufacturer like 'ATTO%' or it.manufacturer like 'Brocade%' ) and ASSET_ID != '0'\n",
    "ORDER  BY rack DESC"
   ]
  },
  {
   "cell_type": "markdown",
   "id": "b90c2125",
   "metadata": {},
   "source": [
    "### EXADATA"
   ]
  },
  {
   "cell_type": "code",
   "execution_count": null,
   "id": "6d2e8685",
   "metadata": {},
   "outputs": [],
   "source": [
    "CREATE VIEW it_build_system_EXADATA_v2\n",
    "as\n",
    "SELECT rack,\n",
    "       Salle_Origin,\n",
    "       status_2,\n",
    "       asset_id,\n",
    "       long_name, \n",
    "        model,\n",
    "        manufacturer,\n",
    "        olivier_index\n",
    "FROM   `olivier_it` it\n",
    "where it.manufacturer like '%oracle%' and asset_id != '0'\n",
    "ORDER  BY rack DESC"
   ]
  },
  {
   "cell_type": "markdown",
   "id": "106092fc",
   "metadata": {},
   "source": [
    "### HPC"
   ]
  },
  {
   "cell_type": "code",
   "execution_count": null,
   "id": "79344504",
   "metadata": {},
   "outputs": [],
   "source": [
    "CREATE VIEW it_build_system_HPC_v2\n",
    "as\n",
    "SELECT rack,\n",
    "       Salle_Origin,\n",
    "       status_2,\n",
    "       asset_id,\n",
    "       long_name, \n",
    "        model,\n",
    "        manufacturer,\n",
    "        olivier_index,\n",
    "        (LEFT(long_name,6)) ROOT_FERME\n",
    "FROM   `olivier_it` it\n",
    "where it.long_name like '%HPC%' or it.long_name like '%HPC%'\n",
    "ORDER BY rack DESC, Salle_Origin"
   ]
  },
  {
   "cell_type": "markdown",
   "id": "d546b70e",
   "metadata": {},
   "source": [
    "### HANNA"
   ]
  },
  {
   "cell_type": "code",
   "execution_count": null,
   "id": "5a0bf020",
   "metadata": {},
   "outputs": [],
   "source": [
    "CREATE VIEW it_build_system_HANNA_v2\n",
    "as\n",
    "SELECT rack,\n",
    "       Salle_Origin,\n",
    "       status_2,\n",
    "       asset_id,\n",
    "       long_name, \n",
    "        model,\n",
    "        manufacturer,\n",
    "        olivier_index\n",
    "        \n",
    "FROM   `olivier_it` it\n",
    "where (it.rack like '%hana%' OR it.long_name like '%hana%')  and asset_id != '0'\n",
    "ORDER BY rack DESC, Salle_Origin"
   ]
  },
  {
   "cell_type": "markdown",
   "id": "b826311b",
   "metadata": {},
   "source": [
    "### RING"
   ]
  },
  {
   "cell_type": "code",
   "execution_count": null,
   "id": "3a4cc615",
   "metadata": {},
   "outputs": [],
   "source": [
    "CREATE VIEW it_build_system_RING_v2\n",
    "as\n",
    "SELECT it.rack,\n",
    "       it.Salle_Origin,\n",
    "       it.status_2,\n",
    "       it.asset_id,\n",
    "       it.long_name, \n",
    "        it.model,\n",
    "        it.manufacturer,\n",
    "        it.olivier_index\n",
    "       \n",
    "       \n",
    "FROM   `olivier_it` it\n",
    "WHERE (it.short_name like '%NA9TCR%' \n",
    "OR it.long_name like '%NA9TCR%') and (it.status_2 is not null or it.asset_id != '0')\t\n",
    "GROUP BY rack, Salle_Origin\n",
    "ORDER BY it.rack DESC, it.Salle_Origin"
   ]
  },
  {
   "cell_type": "markdown",
   "id": "f806c414",
   "metadata": {},
   "source": [
    "### FEX"
   ]
  },
  {
   "cell_type": "code",
   "execution_count": null,
   "id": "ab37e194",
   "metadata": {},
   "outputs": [],
   "source": [
    "CREATE VIEW IT_Equipment_FEX_v2\n",
    "as\n",
    "SELECT it.rack,\n",
    "       it.Salle_Origin,\n",
    "       it.status_2,\n",
    "       it.asset_id,\n",
    "       it.long_name, \n",
    "        it.model,\n",
    "        it.manufacturer,\n",
    "        it.olivier_index,\n",
    "        (LEFT(it.long_name,8)) ROOT_FEX\n",
    "from `olivier_it` it\n",
    "where Fabricant\t like '%cisco%' and ( it.long_name = (LEFT(it.long_name,8)) )\n",
    "ORDER BY olivier_index asc"
   ]
  },
  {
   "cell_type": "markdown",
   "id": "f130587d",
   "metadata": {},
   "source": [
    "## `'CMDB-OK-OLD'`"
   ]
  },
  {
   "cell_type": "code",
   "execution_count": null,
   "id": "ad10cfa9",
   "metadata": {},
   "outputs": [],
   "source": [
    "CREATE VIEW IT_Equipment_OLD_v2\n",
    "AS\n",
    "SELECT it.rack,\n",
    "\t\taa.nom_court,\n",
    "        it.short_name,\n",
    "        aa.nom_long,\n",
    "        it.long_name,\n",
    "        long_name,\n",
    "       it.Salle_Origin,\n",
    "       it.status_2,\n",
    "       REPLACE(REPLACE(aa.nom_court,'_OLD',''),'-OLD','') new_nom_court,\n",
    "\t\tREPLACE(REPLACE(aa.nom_long,'_OLD',''),'-OLD','') new_nom_long\n",
    "        \n",
    "\n",
    "from `olivier_it` it\n",
    "LEFT JOIN `assets_filtree_v2` aa\n",
    "ON REPLACE(REPLACE(aa.nom_court,'_OLD',''),'-OLD','')  = it.long_name \n",
    "OR REPLACE(REPLACE(aa.nom_long,'_OLD',''),'-OLD','')  = it.long_name \n",
    "OR REPLACE(REPLACE(aa.nom_court,'_OLD',''),'-OLD','')  = it.short_name \n",
    "OR REPLACE(REPLACE(aa.nom_long,'_OLD',''),'-OLD','')  = it.short_name\n",
    "\n",
    "where aa.nom_court like '%_OLD' or aa.nom_long like '%_OLD' or aa.nom_court like '%-OLD' or aa.nom_long like '%-OLD'"
   ]
  },
  {
   "cell_type": "markdown",
   "id": "91c97ddc",
   "metadata": {},
   "source": [
    "## `HITASHI`"
   ]
  },
  {
   "cell_type": "code",
   "execution_count": null,
   "id": "6b0b6501",
   "metadata": {},
   "outputs": [],
   "source": [
    "CREATE VIEW IT_Equipment_cleaning_Hitachi_v2\n",
    "as\n",
    "SELECT it.rack,\n",
    "        it.short_name it_short_name,\n",
    "        it.long_name it_nom,\n",
    "       it.Salle_Origin,\n",
    "       it.status_2,\n",
    "       (CASE WHEN LOCATE(':',it.long_name) > 0 then \n",
    "       UPPER(REPLACE(REPLACE(LEFT(it.long_name, LOCATE(':',it.long_name)-1),'_','-'),'-',''))\n",
    "       else it.long_name\n",
    "       END) clean_name\n",
    "\n",
    "from `olivier_it` it \n",
    "WHERE Fabricant like '%Hitachi%'\n",
    "ORDER BY it.rack DESC, it.Salle_Origin"
   ]
  },
  {
   "cell_type": "code",
   "execution_count": null,
   "id": "969b1612",
   "metadata": {},
   "outputs": [],
   "source": []
  },
  {
   "cell_type": "code",
   "execution_count": null,
   "id": "e26c125d",
   "metadata": {},
   "outputs": [],
   "source": []
  },
  {
   "cell_type": "markdown",
   "id": "eeb88864",
   "metadata": {},
   "source": [
    "----------------------"
   ]
  },
  {
   "cell_type": "markdown",
   "id": "01308746",
   "metadata": {},
   "source": [
    "# SELECT"
   ]
  },
  {
   "cell_type": "markdown",
   "id": "775953e8",
   "metadata": {},
   "source": [
    "----------------------"
   ]
  },
  {
   "cell_type": "markdown",
   "id": "683e2364",
   "metadata": {},
   "source": [
    "### QUERY DE BASE"
   ]
  },
  {
   "cell_type": "code",
   "execution_count": null,
   "id": "94ad2237",
   "metadata": {},
   "outputs": [],
   "source": [
    "SELECT it.asset_id asset_id_it, it.short_name, it.long_name, it.status_2 status_it, it.model, it.olivier_index, it.hauteur_u \n",
    "FROM `olivier_it` it"
   ]
  },
  {
   "cell_type": "code",
   "execution_count": null,
   "id": "12889157",
   "metadata": {},
   "outputs": [],
   "source": [
    "SELECT Type, Etat_dinstallation,it.asset_id asset_id_it, it.short_name, it.long_name, it.status_2 status_it, it.model, it.olivier_index, it.hauteur_u \n",
    "FROM `olivier_it` it\n",
    "where status_2 is null\n",
    "ORDER BY olivier_index asc\n",
    "limit 500"
   ]
  },
  {
   "cell_type": "code",
   "execution_count": null,
   "id": "3190c451",
   "metadata": {},
   "outputs": [],
   "source": [
    "SELECT oit.Long_name,\n",
    "\t\toit.short_name,\n",
    "        oit.asset_id,\n",
    "        oit.Salle_Origin,\n",
    "        oit.rack,\n",
    "        oit.slot_u\n",
    "        oit.olivier_index,\n",
    "        oit.PROJET_Responsable\n",
    "\n",
    "FROM `olivier_it` oit"
   ]
  },
  {
   "cell_type": "markdown",
   "id": "aa182858",
   "metadata": {},
   "source": [
    "### `OK-CMDB-ASSET-ID`"
   ]
  },
  {
   "cell_type": "code",
   "execution_count": null,
   "id": "159edce0",
   "metadata": {},
   "outputs": [],
   "source": [
    "SELECT it.Long_name,\n",
    "\t\tit.short_name,\n",
    "        it.asset_id,\n",
    "        aa.nom_court,\n",
    "        it.Salle_Origin,\n",
    "        it.Rack_U_Origin,\n",
    "        it.olivier_index,\n",
    "        it.PROJET_Responsable\n",
    "\n",
    "FROM `olivier_it` it\n",
    "INNER JOIN `assets_filtree_reduced` aa on aa.asset_id = it.asset_id and it.asset_id != '0'"
   ]
  },
  {
   "cell_type": "markdown",
   "id": "ffb305aa",
   "metadata": {},
   "source": [
    "### `'ASSET_ID OK / SHORT_NAME MISMATCH'`"
   ]
  },
  {
   "cell_type": "code",
   "execution_count": null,
   "id": "5291f66c",
   "metadata": {},
   "outputs": [],
   "source": [
    "SELECT it.Long_name,\n",
    "\t\tit.short_name,\n",
    "        it.asset_id,\n",
    "        aa.nom_court,\n",
    "        it.Salle_Origin,\n",
    "        it.Rack_U_Origin,\n",
    "        it.olivier_index,\n",
    "        it.PROJET_Responsable\n",
    "\n",
    "FROM `olivier_it` it\n",
    "INNER JOIN `assets_filtree_reduced` aa \n",
    "ON aa.nom_long = it.long_name or (aa.nom_court = it.short_name and it.short_name !=0)"
   ]
  },
  {
   "cell_type": "markdown",
   "id": "474a2578",
   "metadata": {},
   "source": [
    "### `Asset_ID affiché`"
   ]
  },
  {
   "cell_type": "markdown",
   "id": "6ec0d983",
   "metadata": {},
   "source": [
    "Seulement pour les serveurs, match entre les noms courts de IT_equipment et celui \n",
    "d'assets avec les 3 derniers caracteres en moins. Exemple : IT_equipment.long_name = SU941, assets.nom_court = SU941AOS "
   ]
  },
  {
   "cell_type": "markdown",
   "id": "b8bc585b",
   "metadata": {},
   "source": [
    "##### 0 resultat affiché, ils sont tous contenu dans le OK-CMDB-ASSET-ID"
   ]
  },
  {
   "cell_type": "code",
   "execution_count": null,
   "id": "36ac173d",
   "metadata": {},
   "outputs": [],
   "source": [
    "SELECT it.asset_id asset_id_it, aa.asset_id asset_id, it.short_name, it.long_name, aa.nom_court, aa.nom_long, it.model, it.reperage_id, it.status_2 FROM `olivier_it` it\n",
    "INNER JOIN `assets_filtree_v2` aa on LEFT(aa.nom_court, length(aa.nom_court) - 3) = it.short_name\n",
    "\n",
    "where it.type = 'Serveurs' and it.status_2 is null"
   ]
  },
  {
   "cell_type": "markdown",
   "id": "c72ba11c",
   "metadata": {},
   "source": [
    "### `OK-POSITION : NB OF MATCH`"
   ]
  },
  {
   "cell_type": "markdown",
   "id": "e82ab2a6",
   "metadata": {},
   "source": [
    "HORS model qui contiennent : BL460C BL660C BL20P BL860C BL420C BL680C WS460C BL870C"
   ]
  },
  {
   "cell_type": "code",
   "execution_count": null,
   "id": "56a3b820",
   "metadata": {},
   "outputs": [],
   "source": [
    "SELECT it.asset_id asset_id_it, aa.asset_id asset_id, it.short_name, it.long_name, aa.nom_court, aa.nom_long, it.model, aa.model, it.olivier_index, aa.dalle, it2.rownumber\n",
    "FROM `olivier_it` it \n",
    "INNER JOIN `assets_filtree_v2`aa\n",
    "ON (\n",
    "\tit.Salle_Origin = aa.Salle\n",
    "AND\n",
    "\tit.rack = aa.Rack\n",
    "AND\n",
    "\tit.Slot_U = CONVERT(aa.Slot_Begin, integer)\n",
    "\t)  \n",
    "INNER JOIN `IT_Equipment_match_position_reduced_v2` it2\n",
    "ON it.olivier_index = it2.olivier_index\n",
    "WHERE it.status_2 is null\n",
    "AND aa.model not like '%BL460C%'\n",
    "AND aa.model not like '%BL660C%'\n",
    "AND aa.model not like '%BL20P%'\n",
    "AND aa.model not like '%BL860C%'\n",
    "AND aa.model not like '%BL420C%'\n",
    "AND aa.model not like '%BL680C%'\n",
    "AND aa.model not like '%WS460C%'\n",
    "AND aa.model not like '%BL870C%'\n",
    "ORDER BY rownumber desc"
   ]
  },
  {
   "cell_type": "markdown",
   "id": "b5de42d1",
   "metadata": {},
   "source": [
    "## `long_name DU FABRICANT : ASSET_ID`"
   ]
  },
  {
   "cell_type": "markdown",
   "id": "31ed6d83",
   "metadata": {},
   "source": [
    "### NetApp"
   ]
  },
  {
   "cell_type": "code",
   "execution_count": null,
   "id": "a8e2b0b1",
   "metadata": {},
   "outputs": [],
   "source": [
    "SELECT ASSET_ID, NOM_COURT, NOM_LONG, FABRICANT, MODEL, DALLE, SALLE, Rack, Slot_Begin, Slot_End, status_2\n",
    "from `assets_filtree_v2` aa\n",
    "where manufacturer like 'NETAPP%'\n",
    "order by dalle asc\n",
    "\n",
    "---\n",
    "select it.asset_id asset_id_id, it.short_name, it.long_name, it.status_2 status_it, it.manufacturer, it.model, it.olivier_index, Salle_Origin, rack, Slot_U, Hauteur_U\n",
    "from `olivier_it` it\n",
    "where manufacturer like 'NETAPP%'"
   ]
  },
  {
   "cell_type": "code",
   "execution_count": null,
   "id": "9f86134b",
   "metadata": {},
   "outputs": [],
   "source": [
    "SELECT it.rack,\n",
    "       it.Salle_Origin,\n",
    "       it.status_2,\n",
    "       it2.status_2 status_2,\n",
    "       it.asset_id,\n",
    "       it.long_name, \n",
    "       it.model,\n",
    "       it.manufacturer,\n",
    "       it.olivier_index,\n",
    "       ( CASE WHEN it.status_2 is null and it2.status_2 is not null then Concat(it.manufacturer, ' : ', it2.asset_id) \n",
    "        \t  WHEN it.status_2 is null and it2.status_2 is null and (it.asset_id is null or it.asset_id ='0') then  Concat(it.manufacturer, ' : No Match') \n",
    "        END ) agg\n",
    "       \n",
    "FROM   `olivier_it` it\n",
    " LEFT JOIN `it_built_system_NAS_v2` it2\n",
    " ON        it2.rack = it.rack \n",
    " AND       it2.Salle_Origin = it.Salle_Origin\n",
    " AND\t\t  it2.manufacturer = it.manufacturer\n",
    "\n",
    "WHERE it.status_2 is null and (it.manufacturer like 'netapp%' or it.manufacturer like 'ATTO%' or it.manufacturer like 'Brocade%' )\n",
    "ORDER  BY it.rack DESC"
   ]
  },
  {
   "cell_type": "markdown",
   "id": "072014ef",
   "metadata": {},
   "source": [
    "### Exadata"
   ]
  },
  {
   "cell_type": "code",
   "execution_count": null,
   "id": "6e9a269d",
   "metadata": {},
   "outputs": [],
   "source": [
    "SELECT it.rack,\n",
    "       it.Salle_Origin,\n",
    "       it.status_2,\n",
    "       it2.status_2 status_2,\n",
    "       it.asset_id,\n",
    "       it.long_name, \n",
    "       it.model,\n",
    "       it.manufacturer,\n",
    "       it.olivier_index,\n",
    "       ( CASE WHEN it.status_2 is null and it2.status_2 is not null then Concat(it.manufacturer, ' : ', it2.asset_id) \n",
    "        \t  WHEN it.status_2 is null and it2.status_2 is null and (it.asset_id is null or it.asset_id ='0') then  Concat(it.manufacturer, ' : No Match') \n",
    "        END ) agg\n",
    "       \n",
    "FROM   `olivier_it` it\n",
    " LEFT JOIN `it_build_system_EXADATA_v2` it2\n",
    " ON        it2.rack = it.rack \n",
    " AND       it2.Salle_Origin = it.Salle_Origin\n",
    " AND\t\t  it2.manufacturer = it.manufacturer\n",
    "\n",
    "WHERE it.status_2 is null and (it.manufacturer like '%oracle%')\n",
    "ORDER  BY it.rack DESC"
   ]
  },
  {
   "cell_type": "markdown",
   "id": "211f4426",
   "metadata": {},
   "source": [
    "### HPC"
   ]
  },
  {
   "cell_type": "code",
   "execution_count": null,
   "id": "ed448b96",
   "metadata": {},
   "outputs": [],
   "source": [
    "SELECT it.rack,\n",
    "       it.Salle_Origin,\n",
    "       it.status_2,\n",
    "       it2.status_2 status_2,\n",
    "       it.asset_id,\n",
    "       it.long_name, \n",
    "       it.model,\n",
    "       it.manufacturer,\n",
    "       it.olivier_index,\n",
    "       ( CASE WHEN it.status_2 is null and it2.status_2 is not null then Concat(it.manufacturer, ' : ', it2.root_ferme) \n",
    "        \t  WHEN it.status_2 is null and it2.status_2 is null and (it.asset_id is null or it.asset_id ='0') then  Concat(it.manufacturer, ' : No Match') \n",
    "        END ) agg\n",
    "       \n",
    "FROM   `olivier_it` it\n",
    " LEFT JOIN `it_build_system_HPC_v2` it2\n",
    " ON (LEFT(it.long_name,6)) = it2.root_ferme\n",
    "\n",
    "WHERE it.status_2 is null and (it.manufacturer like '%oracle%')\n",
    "ORDER  BY it.rack DESC"
   ]
  },
  {
   "cell_type": "markdown",
   "id": "adfa30a7",
   "metadata": {},
   "source": [
    "### HANNA"
   ]
  },
  {
   "cell_type": "code",
   "execution_count": null,
   "id": "ee6676c8",
   "metadata": {},
   "outputs": [],
   "source": [
    "SELECT it.rack,\n",
    "       it.Salle_Origin,\n",
    "       it.status_2,\n",
    "       it2.status_2 status_2,\n",
    "       it.asset_id,\n",
    "       it.long_name, \n",
    "       it.model,\n",
    "       it.manufacturer,\n",
    "       it.olivier_index,\n",
    "       ( CASE WHEN it.status_2 is null and it2.status_2 is not null then Concat(it.manufacturer, ' : ', it2.asset_id) \n",
    "        \t  WHEN it.status_2 is null and it2.status_2 is null and (it.asset_id is null or it.asset_id ='0') then  Concat(it.manufacturer, ' : No Match') \n",
    "        END ) agg\n",
    "       \n",
    "FROM   `olivier_it` it\n",
    "  LEFT JOIN `it_build_system_HANNA_v2` it2\n",
    " ON        it2.rack = it.rack \n",
    " AND       it2.Salle_Origin = it.Salle_Origin\n",
    " AND\t\t  it2.manufacturer = it.manufacturer\n",
    "\n",
    "WHERE it.status_2 is null and (it.rack like '%hana%' OR it.long_name like '%hana%')\n",
    "ORDER  BY it.rack DESC"
   ]
  },
  {
   "cell_type": "markdown",
   "id": "e978c625",
   "metadata": {},
   "source": [
    "### RING"
   ]
  },
  {
   "cell_type": "code",
   "execution_count": null,
   "id": "f55707f1",
   "metadata": {},
   "outputs": [],
   "source": [
    "SELECT it.rack,\n",
    "       it.Salle_Origin,\n",
    "       it.status_2,\n",
    "       it.asset_id,\n",
    "       it.long_name, \n",
    "        it.model,\n",
    "        it.manufacturer,\n",
    "        it.olivier_index,\n",
    "        ( CASE WHEN it.status_2 is null and it2.status_2 is not null then Concat(it.manufacturer, ' : ', it2.asset_id) \n",
    "        \t  WHEN it.status_2 is null and it2.status_2 is null and (it.asset_id is null or it.asset_id ='0') then  Concat(it.manufacturer, ' : No Match') \n",
    "        END ) agg\n",
    "       \n",
    "       \n",
    "FROM   `olivier_it` it\n",
    "LEFT JOIN `it_build_system_RING_v2` it2 \n",
    "ON        it2.rack = it.rack \n",
    "AND       it2.Salle_Origin = it.Salle_Origin\n",
    "AND\t\t  it2.manufacturer = it.manufacturer\n",
    "    \n",
    "WHERE (it.short_name like '%NA9TCR%' \n",
    "OR it.long_name like '%NA9TCR%')\n",
    "ORDER BY it.rack DESC, it.Salle_Origin"
   ]
  },
  {
   "cell_type": "markdown",
   "id": "8720e5f5",
   "metadata": {},
   "source": [
    "### FEX "
   ]
  },
  {
   "cell_type": "markdown",
   "id": "ffb6e374",
   "metadata": {},
   "source": [
    "#### Cette query a été lancé apres CMDB-OK-OLD et MISMATCH_TIRET"
   ]
  },
  {
   "cell_type": "code",
   "execution_count": null,
   "id": "3963459b",
   "metadata": {},
   "outputs": [],
   "source": [
    "SELECT it.rack,\n",
    "       it.Salle_Origin,\n",
    "       it.status_2,\n",
    "       it.asset_id,\n",
    "       it.long_name, \n",
    "        it.model,\n",
    "        it.manufacturer,\n",
    "        it.olivier_index,\n",
    "        ( CASE WHEN it.status_2 is null and it2.status_2 is not null and it2.asset_id !='0' then Concat(it.manufacturer, ' : ', it2.asset_id) \n",
    "        \t  WHEN it.status_2 is null and it2.status_2 is null and (it.asset_id is null or it2.asset_id ='0') then  Concat(it.manufacturer, ' : No Match') \n",
    "        END ) agg\n",
    "        \n",
    "       \n",
    "FROM   `olivier_it` it\n",
    "LEFT JOIN `IT_Equipment_FEX_v2` it2 on it2.root_fex = (LEFT(it.long_name,8)) and it.long_name != it2.root_fex\n",
    "    \n",
    "where it.Fabricant like '%cisco%' and it2.root_fex is not null\n",
    "ORDER BY it.rack DESC, it.Salle_Origin"
   ]
  },
  {
   "cell_type": "markdown",
   "id": "474912ce",
   "metadata": {},
   "source": [
    "## `'CMDB-OK-OLD'`"
   ]
  },
  {
   "cell_type": "code",
   "execution_count": null,
   "id": "2ec6542d",
   "metadata": {},
   "outputs": [],
   "source": [
    "SELECT it.rack,\n",
    "       it.Salle_Origin,\n",
    "       it.status_2,\n",
    "       it.asset_id,\n",
    "       it.long_name, \n",
    "        it.model,\n",
    "        it.manufacturer,\n",
    "       it.olivier_index\n",
    "       \n",
    "       \n",
    "FROM   `olivier_it` it\n",
    "LEFT JOIN `assets_filtree_v2` aa\n",
    "ON REPLACE(REPLACE(aa.nom_court,'_OLD',''),'-OLD','')  = it.long_name \n",
    "OR REPLACE(REPLACE(aa.nom_long,'_OLD',''),'-OLD','')  = it.long_name \n",
    "OR REPLACE(REPLACE(aa.nom_court,'_OLD',''),'-OLD','')  = it.short_name \n",
    "OR REPLACE(REPLACE(aa.nom_long,'_OLD',''),'-OLD','')  = it.short_name\n",
    "where it.status_2 is NULL and (aa.nom_court like '%_OLD' or aa.nom_long like '%_OLD' or aa.nom_court like '%-OLD' or aa.nom_long like '%-OLD')"
   ]
  },
  {
   "cell_type": "markdown",
   "id": "0d7a305b",
   "metadata": {},
   "source": [
    "## `'MISMATCH_TIRET'`"
   ]
  },
  {
   "cell_type": "code",
   "execution_count": null,
   "id": "913428d6",
   "metadata": {},
   "outputs": [],
   "source": [
    "SELECT it.rack,\n",
    "       it.Salle_Origin,\n",
    "       it.status_2,\n",
    "       it.asset_id,\n",
    "       it.long_name,\n",
    "       aa.nom_long,\n",
    "       it.short_name,\n",
    "       aa.nom_court,\n",
    "        it.model,\n",
    "        it.manufacturer,\n",
    "        it.olivier_index\n",
    "        \n",
    "FROM   `olivier_it` it\n",
    "INNER JOIN `assets_filtree_v2` aa\n",
    "ON UPPER(REPLACE(REPLACE(aa.nom_court,'_',''),'-',''))  =  UPPER(REPLACE(REPLACE(it.long_name,'_',''),'-',''))\n",
    "OR UPPER(REPLACE(REPLACE(aa.nom_long,'_',''),'-',''))  =  UPPER(REPLACE(REPLACE(it.long_name,'_',''),'-',''))\n",
    "OR UPPER(REPLACE(REPLACE(aa.nom_court,'_',''),'-',''))  =  UPPER(REPLACE(REPLACE(it.short_name,'_',''),'-',''))\n",
    "OR UPPER(REPLACE(REPLACE(aa.nom_long,'_',''),'-',''))  =  UPPER(REPLACE(REPLACE(it.short_name,'_',''),'-','')) \n",
    "\n",
    "ORDER BY it.rack DESC, it.Salle_Origin\n",
    "\n"
   ]
  },
  {
   "cell_type": "markdown",
   "id": "d49e05f2",
   "metadata": {},
   "source": [
    "## `HITASHI`"
   ]
  },
  {
   "cell_type": "code",
   "execution_count": null,
   "id": "8afe80eb",
   "metadata": {},
   "outputs": [],
   "source": [
    "SELECT it.rack,\n",
    "       it.Salle_Origin,\n",
    "       it.status_2,\n",
    "       it.asset_id,\n",
    "       aa.asset_id,\n",
    "       it.long_name,\n",
    "       aa.nom_long,\n",
    "       it.short_name,\n",
    "       aa.nom_court,\n",
    "        it.model,\n",
    "        it.manufacturer,\n",
    "        it.olivier_index,\n",
    "        (\n",
    "\t\t\t\tCASE WHEN aa.asset_id is null and it.status_2 is null then 'Hitashi : No match'\n",
    "    \t\t\tWHEN aa.asset_id is not null and it.status_2 is null then concat('HDS : ',aa.asset_id)\n",
    "    \t\t\tEND \n",
    "    \t\t\t) agg\n",
    "        \n",
    "FROM   `olivier_it` it\n",
    "INNER JOIN `IT_Equipment_cleaning_Hitachi_v2` hit on hit.it_nom = it.long_name\n",
    "LEFT JOIN `assets_filtree_v2` aa on UPPER(REPLACE(REPLACE(aa.nom_court,'_',''),'-','')) = hit.clean_name\n",
    "\n",
    "WHERE it.Fabricant like '%Hitachi%'\n",
    "ORDER BY it.rack DESC, it.Salle_Origin"
   ]
  }
 ],
 "metadata": {
  "kernelspec": {
   "display_name": "Python 3 (ipykernel)",
   "language": "python",
   "name": "python3"
  },
  "language_info": {
   "codemirror_mode": {
    "name": "ipython",
    "version": 3
   },
   "file_extension": ".py",
   "mimetype": "text/x-python",
   "name": "python",
   "nbconvert_exporter": "python",
   "pygments_lexer": "ipython3",
   "version": "3.9.7"
  }
 },
 "nbformat": 4,
 "nbformat_minor": 5
}
