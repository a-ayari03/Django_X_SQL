{
 "cells": [
  {
   "cell_type": "markdown",
   "id": "659d2b0d-afe0-4f13-bd06-328f55eeeacc",
   "metadata": {},
   "source": [
    "# TRIGGER"
   ]
  },
  {
   "cell_type": "code",
   "execution_count": null,
   "id": "f38796c5-28c6-4ad1-b90a-ff83160050c0",
   "metadata": {},
   "outputs": [],
   "source": [
    "## FROM : Ancienne table, INNER JOIN : Nouvelle base "
   ]
  },
  {
   "cell_type": "code",
   "execution_count": null,
   "id": "f1f11774-8e11-4064-80ee-e6be1a1ba271",
   "metadata": {},
   "outputs": [],
   "source": [
    "insert into move_records_equipments\n",
    "(asset_id,\n",
    " modele, \n",
    " from_salle, \n",
    " from_reperage_id, \n",
    " to_salle, \n",
    " to_reperage_id\n",
    ")\n",
    "\n",
    "\n",
    "SELECT \n",
    "it.asset_id,\n",
    "it.modele,\n",
    "it.Nom_de_la_salle, \n",
    "it.reperage_id,\n",
    "it2.Nom_de_la_salle,\n",
    "it2.reperage_id\n",
    " \n",
    "\n",
    "FROM `IT_Equipment_v3` it\n",
    "INNER JOIN `it_equipment_Jun_fictif` it2 \n",
    "ON it.asset_id = it2.asset_id \n",
    "AND (it.asset_id != '0' OR it2.asset_id != '0')\n",
    "AND(concat(it.Nom_de_la_salle,' ', it.reperage_id) != concat(it2.Nom_de_la_salle,' ', it2.reperage_id))"
   ]
  }
 ],
 "metadata": {
  "kernelspec": {
   "display_name": "Python 3 (ipykernel)",
   "language": "python",
   "name": "python3"
  },
  "language_info": {
   "codemirror_mode": {
    "name": "ipython",
    "version": 3
   },
   "file_extension": ".py",
   "mimetype": "text/x-python",
   "name": "python",
   "nbconvert_exporter": "python",
   "pygments_lexer": "ipython3",
   "version": "3.9.7"
  }
 },
 "nbformat": 4,
 "nbformat_minor": 5
}
