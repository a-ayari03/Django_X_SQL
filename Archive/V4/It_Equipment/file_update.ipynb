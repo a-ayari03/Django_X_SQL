{
 "cells": [
  {
   "cell_type": "code",
   "execution_count": 1,
   "id": "f19ac3fb-b779-4803-8f3d-1e78ecd2126e",
   "metadata": {},
   "outputs": [],
   "source": [
    "import os\n",
    "import regex as re\n",
    "import datetime \n",
    "import shutil\n",
    "import pandas as pd"
   ]
  },
  {
   "cell_type": "code",
   "execution_count": 15,
   "id": "fd825479-c9fd-4299-817b-f05abea89f5a",
   "metadata": {},
   "outputs": [],
   "source": [
    "def get_datetime(file : str) -> tuple :\n",
    "    \"\"\"\n",
    "    Get datetime in file title. Exemple : 'IT_Equipment.10.03.2022.csv' has been edited the 10-03-2022.\n",
    "    Output :\n",
    "    ---\n",
    "        tuple\n",
    "    \"\"\"\n",
    "    regex = re.split('\\.', file)\n",
    "    if len(regex) == 5 :    # [\"filename\", day, month, year, \"csv\"]\n",
    "        regex = regex[1:-1] \n",
    "        if len(regex[-1]) == 2 :    # year = 22 in place of 2022\n",
    "            regex[-1] = \"20\" + regex[-1]\n",
    "            \n",
    "        if ~any(c.isalpha() for c in regex) :    # Any alphabetic character means wrong file \n",
    "            time = datetime.datetime(day = int(regex[0]), month = int(regex[1]), year = int(regex[2]))\n",
    "            \n",
    "    else :\n",
    "        time = None\n",
    "        file = None\n",
    "\n",
    "    return (time, file)\n",
    "    "
   ]
  },
  {
   "cell_type": "code",
   "execution_count": 16,
   "id": "a0588a0f-a0b1-41e9-bfc9-304139bb1f13",
   "metadata": {},
   "outputs": [],
   "source": [
    "def check_create_directory(path: str) :\n",
    "    \"\"\"\n",
    "    Check if path exist, if not create every intermediate folder\n",
    "    \"\"\"\n",
    "\n",
    "    if os.path.exists(path) == False :\n",
    "        os.makedirs(path)\n",
    "    return True"
   ]
  },
  {
   "cell_type": "code",
   "execution_count": 17,
   "id": "abac9927-8117-407f-a4bf-12afe7ac2695",
   "metadata": {},
   "outputs": [],
   "source": [
    "def move_to_folder(file: str, current_folder: str, new_folder: str) :\n",
    "    \"\"\"\n",
    "    Move a file to a specified folder\n",
    "    \"\"\"\n",
    "    current_file = os.path.join(current_folder, file)\n",
    "    new_file = os.path.join(new_folder, file)\n",
    "    shutil.move(current_file, new_file)\n",
    "    \n",
    "    return True"
   ]
  },
  {
   "cell_type": "code",
   "execution_count": 18,
   "id": "082e0e69-67d0-4adf-a70b-2fcf9e1317c1",
   "metadata": {},
   "outputs": [],
   "source": [
    "def get_csv_to_df(filepath : str, filename : str) :\n",
    "    try :\n",
    "        df = pd.read_csv(filepath, header = None, delimiter = ',', encoding='latin-1') \n",
    "        df[\"SOURCES\"] = filename\n",
    "        if 'Is Loading Bay Item ' in str(df.iloc[0][1]) :    # if csv have header\n",
    "            df = pd.read_csv(filepath, header = 0, delimiter = ',', encoding='latin-1') \n",
    "            df[\"SOURCES\"] = filename\n",
    "        \n",
    "    except pd.errors.ParserError:\n",
    "        df = pd.read_csv(filepath, header = None, delimiter = ';', encoding='latin-1') \n",
    "        df[\"SOURCES\"] = filename\n",
    "        if 'Is Loading Bay Item ' in str(df.iloc[0][1]) :    # if csv have header\n",
    "            df = pd.read_csv(filepath, header = 0, delimiter = ';', encoding='latin-1') \n",
    "            df[\"SOURCES\"] = filename\n",
    "    \n",
    "    return df"
   ]
  },
  {
   "cell_type": "code",
   "execution_count": 19,
   "id": "c9f1b2e5-e579-494e-8fc3-2148344a2719",
   "metadata": {},
   "outputs": [],
   "source": [
    "PARENT_PATH = './' # Must contain every csv file\n",
    "ARCHIVE_PATH = './historique' # Folder for archive"
   ]
  },
  {
   "cell_type": "code",
   "execution_count": 36,
   "id": "005c3cdc-96ec-4c7e-aff2-cccc970799d1",
   "metadata": {},
   "outputs": [
    {
     "data": {
      "text/plain": [
       "['.ipynb_checkpoints',\n",
       " 'CREATE TABLE.ipynb',\n",
       " 'file_update.ipynb',\n",
       " 'historique',\n",
       " 'IT_Equipment.07.06.2022.colonnes.csv',\n",
       " 'IT_Equipment.07.06.2022.csv',\n",
       " 'IT_Equipment.08.06.2022.csv',\n",
       " 'IT_Equipment.10.03.2022.csv',\n",
       " 'IT_Equipment.11.05.22.csv',\n",
       " 'IT_Equipment.4.02.2022.csv',\n",
       " 'modifie',\n",
       " 'TRIGGER.ipynb',\n",
       " 'UPDATE.ipynb',\n",
       " 'UPDATE_JOIN_OLIVIER_IT.ipynb',\n",
       " 'VIEW_SELECT.ipynb',\n",
       " 'VIEW_SELECT_JOIN_OLIVIER_IT.ipynb']"
      ]
     },
     "execution_count": 36,
     "metadata": {},
     "output_type": "execute_result"
    }
   ],
   "source": [
    "dir_ls = os.listdir(PARENT_PATH)\n",
    "dir_ls"
   ]
  },
  {
   "cell_type": "code",
   "execution_count": 37,
   "id": "543bedf5-b427-42d1-9675-9fad141e8aef",
   "metadata": {},
   "outputs": [
    {
     "data": {
      "text/plain": [
       "(datetime.datetime(2022, 6, 8, 0, 0), 'IT_Equipment.08.06.2022.csv')"
      ]
     },
     "execution_count": 37,
     "metadata": {},
     "output_type": "execute_result"
    }
   ],
   "source": [
    "datetime_ls = [get_datetime(file) for file in dir_ls if get_datetime(file)[0] is not None]\n",
    "last_file = max(datetime_ls)    # latest file\n",
    "last_file"
   ]
  },
  {
   "cell_type": "code",
   "execution_count": 34,
   "id": "bff7e3f7-ff1f-46bf-ac50-c5018d8b0466",
   "metadata": {},
   "outputs": [
    {
     "data": {
      "text/plain": [
       "[(datetime.datetime(2022, 6, 7, 0, 0), 'IT_Equipment.07.06.2022.csv'),\n",
       " (datetime.datetime(2022, 6, 8, 0, 0), 'IT_Equipment.08.06.2022.csv'),\n",
       " (datetime.datetime(2022, 3, 10, 0, 0), 'IT_Equipment.10.03.2022.csv'),\n",
       " (datetime.datetime(2022, 5, 11, 0, 0), 'IT_Equipment.11.05.22.csv'),\n",
       " (datetime.datetime(2022, 2, 4, 0, 0), 'IT_Equipment.4.02.2022.csv')]"
      ]
     },
     "execution_count": 34,
     "metadata": {},
     "output_type": "execute_result"
    }
   ],
   "source": [
    "datetime_ls"
   ]
  },
  {
   "cell_type": "markdown",
   "id": "87a338bf-f7da-4825-b378-085bfa5e3553",
   "metadata": {},
   "source": [
    "# QUERY SQL"
   ]
  },
  {
   "cell_type": "code",
   "execution_count": null,
   "id": "cb24d237-32dc-4a30-9899-ff2f5f565154",
   "metadata": {},
   "outputs": [],
   "source": []
  },
  {
   "cell_type": "code",
   "execution_count": null,
   "id": "8236082e-30c4-4f9c-8171-c2d911b950f9",
   "metadata": {},
   "outputs": [],
   "source": []
  },
  {
   "cell_type": "code",
   "execution_count": null,
   "id": "4aa27e9f-570e-492f-af13-6ad21b9e320f",
   "metadata": {},
   "outputs": [],
   "source": []
  },
  {
   "cell_type": "code",
   "execution_count": null,
   "id": "56dcad5f-c0df-4447-b940-fcdf6931fdee",
   "metadata": {},
   "outputs": [],
   "source": []
  },
  {
   "cell_type": "code",
   "execution_count": null,
   "id": "4b587170-8d45-4cb2-a8ca-d2c85a1966eb",
   "metadata": {},
   "outputs": [],
   "source": []
  },
  {
   "cell_type": "code",
   "execution_count": null,
   "id": "daf00a7a-7977-4fc9-8a96-a635197f68dd",
   "metadata": {},
   "outputs": [],
   "source": []
  },
  {
   "cell_type": "markdown",
   "id": "cfafde08-49f0-4c4f-89bf-0bb6d558edc8",
   "metadata": {},
   "source": [
    "# Archive"
   ]
  },
  {
   "cell_type": "markdown",
   "id": "6af60407-8985-4368-a003-83e526b9e8af",
   "metadata": {},
   "source": [
    "Quand un fichier est utilisé, on le passe dans la section archive"
   ]
  },
  {
   "cell_type": "code",
   "execution_count": 20,
   "id": "ef84c757-999d-4732-b96b-3150984a90db",
   "metadata": {},
   "outputs": [
    {
     "name": "stdout",
     "output_type": "stream",
     "text": [
      "here\n",
      "here\n",
      "here\n"
     ]
    }
   ],
   "source": [
    "dir_ls = os.listdir(PARENT_PATH)\n",
    "datetime_ls = [get_datetime(file) for file in dir_ls if get_datetime(file)[0] is not None]\n",
    "check_create_directory(ARCHIVE_PATH)\n",
    "for file in datetime_ls :\n",
    "    if file != max(datetime_ls) :\n",
    "        print('here')\n",
    "        #move_to_folder(file[1], PARENT_PATH, ARCHIVE_PATH)\n",
    "    else :\n",
    "        last_file = os.path.join(PARENT_PATH, file[1])"
   ]
  },
  {
   "cell_type": "markdown",
   "id": "05ff3345-a1e1-46bb-89c2-438b9f32718a",
   "metadata": {},
   "source": [
    "## Populate table"
   ]
  },
  {
   "cell_type": "code",
   "execution_count": 23,
   "id": "778c4d4c-b4bf-4bc1-8fda-fcb20432a8a9",
   "metadata": {},
   "outputs": [],
   "source": [
    "df = pd.read_csv(last_file, header = None, delimiter = ';')"
   ]
  },
  {
   "cell_type": "code",
   "execution_count": 24,
   "id": "d8172101-3214-4455-aec5-2b4e3a9637e1",
   "metadata": {},
   "outputs": [
    {
     "data": {
      "text/html": [
       "<div>\n",
       "<style scoped>\n",
       "    .dataframe tbody tr th:only-of-type {\n",
       "        vertical-align: middle;\n",
       "    }\n",
       "\n",
       "    .dataframe tbody tr th {\n",
       "        vertical-align: top;\n",
       "    }\n",
       "\n",
       "    .dataframe thead th {\n",
       "        text-align: right;\n",
       "    }\n",
       "</style>\n",
       "<table border=\"1\" class=\"dataframe\">\n",
       "  <thead>\n",
       "    <tr style=\"text-align: right;\">\n",
       "      <th></th>\n",
       "      <th>0</th>\n",
       "      <th>1</th>\n",
       "      <th>2</th>\n",
       "      <th>3</th>\n",
       "      <th>4</th>\n",
       "      <th>5</th>\n",
       "      <th>6</th>\n",
       "      <th>7</th>\n",
       "      <th>8</th>\n",
       "      <th>9</th>\n",
       "      <th>...</th>\n",
       "      <th>66</th>\n",
       "      <th>67</th>\n",
       "      <th>68</th>\n",
       "      <th>69</th>\n",
       "      <th>70</th>\n",
       "      <th>71</th>\n",
       "      <th>72</th>\n",
       "      <th>73</th>\n",
       "      <th>74</th>\n",
       "      <th>75</th>\n",
       "    </tr>\n",
       "  </thead>\n",
       "  <tbody>\n",
       "    <tr>\n",
       "      <th>0</th>\n",
       "      <td>Type d'équipement</td>\n",
       "      <td>Is Loading Bay Item</td>\n",
       "      <td>Zone spécifique du quai de chargement</td>\n",
       "      <td>Nom</td>\n",
       "      <td>Numéro d'asset</td>\n",
       "      <td>Fabricant</td>\n",
       "      <td>Modèle</td>\n",
       "      <td>Nom de la salle</td>\n",
       "      <td>Nom de baie</td>\n",
       "      <td>Slot U</td>\n",
       "      <td>...</td>\n",
       "      <td>Zone</td>\n",
       "      <td>Hauteur (U)</td>\n",
       "      <td>Largeur (m)</td>\n",
       "      <td>Profondeur (m)</td>\n",
       "      <td>Poids (kg)</td>\n",
       "      <td>Synchronisé avec Gateway</td>\n",
       "      <td>ID Système externe</td>\n",
       "      <td>ID Système Asset</td>\n",
       "      <td>ID Système Baie</td>\n",
       "      <td>ID Système Châssis</td>\n",
       "    </tr>\n",
       "    <tr>\n",
       "      <th>1</th>\n",
       "      <td>Equipements IT</td>\n",
       "      <td>NaN</td>\n",
       "      <td>NaN</td>\n",
       "      <td>SU919</td>\n",
       "      <td>2885508</td>\n",
       "      <td>Sun</td>\n",
       "      <td>SunFire V890</td>\n",
       "      <td>PC</td>\n",
       "      <td>J03</td>\n",
       "      <td>1</td>\n",
       "      <td>...</td>\n",
       "      <td>NaN</td>\n",
       "      <td>16</td>\n",
       "      <td>0.48</td>\n",
       "      <td>0.836</td>\n",
       "      <td>130.6</td>\n",
       "      <td>NaN</td>\n",
       "      <td>0</td>\n",
       "      <td>798936-126608</td>\n",
       "      <td>798936-126594</td>\n",
       "      <td>NaN</td>\n",
       "    </tr>\n",
       "    <tr>\n",
       "      <th>2</th>\n",
       "      <td>Equipements IT</td>\n",
       "      <td>NaN</td>\n",
       "      <td>NaN</td>\n",
       "      <td>DEMOCRITE</td>\n",
       "      <td>2656355</td>\n",
       "      <td>Sun</td>\n",
       "      <td>SunFire V100</td>\n",
       "      <td>PC</td>\n",
       "      <td>I03</td>\n",
       "      <td>38</td>\n",
       "      <td>...</td>\n",
       "      <td>NaN</td>\n",
       "      <td>1</td>\n",
       "      <td>0.437</td>\n",
       "      <td>0.483</td>\n",
       "      <td>6</td>\n",
       "      <td>NaN</td>\n",
       "      <td>0</td>\n",
       "      <td>798937-126811</td>\n",
       "      <td>798936-126723</td>\n",
       "      <td>NaN</td>\n",
       "    </tr>\n",
       "    <tr>\n",
       "      <th>3</th>\n",
       "      <td>Equipements IT</td>\n",
       "      <td>NaN</td>\n",
       "      <td>NaN</td>\n",
       "      <td>LEUCIPPE</td>\n",
       "      <td>2656358</td>\n",
       "      <td>Sun</td>\n",
       "      <td>SunFire V100</td>\n",
       "      <td>PC</td>\n",
       "      <td>H03</td>\n",
       "      <td>38</td>\n",
       "      <td>...</td>\n",
       "      <td>NaN</td>\n",
       "      <td>1</td>\n",
       "      <td>0.437</td>\n",
       "      <td>0.483</td>\n",
       "      <td>6</td>\n",
       "      <td>NaN</td>\n",
       "      <td>0</td>\n",
       "      <td>798937-126945</td>\n",
       "      <td>798937-126870</td>\n",
       "      <td>NaN</td>\n",
       "    </tr>\n",
       "    <tr>\n",
       "      <th>4</th>\n",
       "      <td>Equipements IT</td>\n",
       "      <td>NaN</td>\n",
       "      <td>NaN</td>\n",
       "      <td>SU888</td>\n",
       "      <td>2885019</td>\n",
       "      <td>Sun</td>\n",
       "      <td>SunFire V210</td>\n",
       "      <td>PC</td>\n",
       "      <td>F03</td>\n",
       "      <td>20</td>\n",
       "      <td>...</td>\n",
       "      <td>NaN</td>\n",
       "      <td>1</td>\n",
       "      <td>0.425</td>\n",
       "      <td>0.635</td>\n",
       "      <td>12</td>\n",
       "      <td>NaN</td>\n",
       "      <td>0</td>\n",
       "      <td>798937-127056</td>\n",
       "      <td>798937-127004</td>\n",
       "      <td>NaN</td>\n",
       "    </tr>\n",
       "  </tbody>\n",
       "</table>\n",
       "<p>5 rows × 76 columns</p>\n",
       "</div>"
      ],
      "text/plain": [
       "                   0                     1   \\\n",
       "0  Type d'équipement   Is Loading Bay Item    \n",
       "1      Equipements IT                   NaN   \n",
       "2      Equipements IT                   NaN   \n",
       "3      Equipements IT                   NaN   \n",
       "4      Equipements IT                   NaN   \n",
       "\n",
       "                                       2          3                4   \\\n",
       "0  Zone spécifique du quai de chargement        Nom   Numéro d'asset    \n",
       "1                                     NaN      SU919          2885508   \n",
       "2                                     NaN  DEMOCRITE          2656355   \n",
       "3                                     NaN   LEUCIPPE          2656358   \n",
       "4                                     NaN      SU888          2885019   \n",
       "\n",
       "           5             6                 7             8        9   ...  \\\n",
       "0  Fabricant        Modèle   Nom de la salle   Nom de baie   Slot U   ...   \n",
       "1         Sun  SunFire V890                PC           J03        1  ...   \n",
       "2         Sun  SunFire V100                PC           I03       38  ...   \n",
       "3         Sun  SunFire V100                PC           H03       38  ...   \n",
       "4         Sun  SunFire V210                PC           F03       20  ...   \n",
       "\n",
       "      66           67           68              69          70  \\\n",
       "0  Zone   Hauteur (U)  Largeur (m)  Profondeur (m)  Poids (kg)   \n",
       "1    NaN           16         0.48           0.836       130.6   \n",
       "2    NaN            1        0.437           0.483           6   \n",
       "3    NaN            1        0.437           0.483           6   \n",
       "4    NaN            1        0.425           0.635          12   \n",
       "\n",
       "                          71                   72                 73  \\\n",
       "0  Synchronisé avec Gateway   ID Système externe   ID Système Asset    \n",
       "1                        NaN                    0      798936-126608   \n",
       "2                        NaN                    0      798937-126811   \n",
       "3                        NaN                    0      798937-126945   \n",
       "4                        NaN                    0      798937-127056   \n",
       "\n",
       "                 74                   75  \n",
       "0  ID Système Baie   ID Système Châssis   \n",
       "1     798936-126594                  NaN  \n",
       "2     798936-126723                  NaN  \n",
       "3     798937-126870                  NaN  \n",
       "4     798937-127004                  NaN  \n",
       "\n",
       "[5 rows x 76 columns]"
      ]
     },
     "execution_count": 24,
     "metadata": {},
     "output_type": "execute_result"
    }
   ],
   "source": [
    "df.head()"
   ]
  },
  {
   "cell_type": "code",
   "execution_count": 26,
   "id": "44e6649f-6cad-4cfb-b121-b9ea85903b5b",
   "metadata": {},
   "outputs": [],
   "source": [
    "def get_csv_to_df(filepath : str, filename : str, datetime) :\n",
    "    try :\n",
    "        df = pd.read_csv(filepath, header = None, delimiter = ',', encoding='latin-1') \n",
    "        df[\"SOURCES\"] = filename\n",
    "        df['timestamp'] = datetime.strftime('%d-%m-%y')\n",
    "        if 'Is Loading Bay Item ' in str(df.iloc[0][1]) :    # if csv have header\n",
    "            df = pd.read_csv(filepath, header = 0, delimiter = ',', encoding='latin-1') \n",
    "            df[\"SOURCES\"] = filename\n",
    "            df['timestamp'] = datetime.strftime('%d-%m-%y')\n",
    "        \n",
    "    except pd.errors.ParserError:\n",
    "        df = pd.read_csv(filepath, header = None, delimiter = ';', encoding='latin-1') \n",
    "        df[\"SOURCES\"] = filename\n",
    "        df['timestamp'] = datetime.strftime('%d-%m-%y')\n",
    "        if 'Is Loading Bay Item ' in str(df.iloc[0][1]) :    # if csv have header\n",
    "            df = pd.read_csv(filepath, header = 0, delimiter = ';', encoding='latin-1') \n",
    "            df[\"SOURCES\"] = filename\n",
    "            df['timestamp'] = datetime.strftime('%d-%m-%y')\n",
    "    \n",
    "    return df"
   ]
  },
  {
   "cell_type": "code",
   "execution_count": 38,
   "id": "39f962ef-d6be-40d0-bbe1-f26ed5503971",
   "metadata": {},
   "outputs": [
    {
     "name": "stdout",
     "output_type": "stream",
     "text": [
      "---------- 0 IT_Equipment.07.06.2022.csv ----------\n",
      "76\n",
      "---------- 1 IT_Equipment.08.06.2022.csv ----------\n",
      "76\n",
      "---------- 2 IT_Equipment.10.03.2022.csv ----------\n",
      "62\n",
      "---------- 3 IT_Equipment.11.05.22.csv ----------\n",
      "76\n",
      "---------- 4 IT_Equipment.4.02.2022.csv ----------\n",
      "76\n"
     ]
    }
   ],
   "source": [
    "for i in range(len(datetime_ls)) :\n",
    "    print('-'*10, i, datetime_ls[i][1], '-'*10)\n",
    "    filepath = os.path.join(PARENT_PATH, datetime_ls[i][1])\n",
    "    df = get_csv_to_df(filepath, datetime_ls[i][1], datetime_ls[i][0])\n",
    "    print(len(df.columns)-2)"
   ]
  },
  {
   "cell_type": "code",
   "execution_count": 32,
   "id": "cf856b0c-1310-40fb-9a67-f7cf38f9ee89",
   "metadata": {},
   "outputs": [],
   "source": [
    "PARENT_PATH = './modifie' # Must contain every csv file\n",
    "ARCHIVE_PATH = './historique' # Folder for archive"
   ]
  },
  {
   "cell_type": "code",
   "execution_count": 33,
   "id": "fb3d7096-d4e9-455b-8747-b3724c02dfa3",
   "metadata": {},
   "outputs": [
    {
     "data": {
      "text/plain": [
       "['IT_Equipment.10.03.2022.csv',\n",
       " 'IT_Equipment.11.05.22.csv',\n",
       " 'IT_Equipment.4.02.2022.csv']"
      ]
     },
     "execution_count": 33,
     "metadata": {},
     "output_type": "execute_result"
    }
   ],
   "source": [
    "dir_ls = os.listdir(PARENT_PATH)\n",
    "dir_ls"
   ]
  },
  {
   "cell_type": "code",
   "execution_count": 34,
   "id": "768429bc-6239-4ab4-850d-a8496e323c4e",
   "metadata": {},
   "outputs": [
    {
     "data": {
      "text/plain": [
       "(datetime.datetime(2022, 5, 11, 0, 0), 'IT_Equipment.11.05.22.csv')"
      ]
     },
     "execution_count": 34,
     "metadata": {},
     "output_type": "execute_result"
    }
   ],
   "source": [
    "datetime_ls = [get_datetime(file) for file in dir_ls if get_datetime(file)[0] is not None]\n",
    "last_file = max(datetime_ls)    # latest file\n",
    "last_file"
   ]
  },
  {
   "cell_type": "code",
   "execution_count": 106,
   "id": "f05d8438-1cc9-4c67-9789-e608000635c9",
   "metadata": {},
   "outputs": [
    {
     "data": {
      "text/plain": [
       "'IT_Equipment.10.03.2022.csv'"
      ]
     },
     "execution_count": 106,
     "metadata": {},
     "output_type": "execute_result"
    }
   ],
   "source": [
    "filepath = os.path.join(PARENT_PATH, datetime_ls[0][1])\n",
    "filename = datetime_ls[0][1]\n",
    "filename"
   ]
  },
  {
   "cell_type": "code",
   "execution_count": 107,
   "id": "3e8cbecb-2296-4791-ae00-e2a0f40c2f5f",
   "metadata": {},
   "outputs": [],
   "source": [
    "filepath = \"./IT_Equipment.10.03.2022.csv\""
   ]
  },
  {
   "cell_type": "code",
   "execution_count": 116,
   "id": "00552008-bed6-4e9e-99c4-065710c3e80e",
   "metadata": {},
   "outputs": [
    {
     "data": {
      "text/plain": [
       "'IT_Equipment.11.05.22.csv'"
      ]
     },
     "execution_count": 116,
     "metadata": {},
     "output_type": "execute_result"
    }
   ],
   "source": [
    "filename"
   ]
  },
  {
   "cell_type": "code",
   "execution_count": 123,
   "id": "79f19e7f-8704-41da-bc6a-7884d00c5e3a",
   "metadata": {},
   "outputs": [
    {
     "data": {
      "text/plain": [
       "False"
      ]
     },
     "execution_count": 123,
     "metadata": {},
     "output_type": "execute_result"
    }
   ],
   "source": [
    "aa = pd.read_csv(filepath, header = None, delimiter = ';', encoding='latin-1') \n",
    "\"dsqds\" in str(aa.iloc[0][1])"
   ]
  },
  {
   "cell_type": "code",
   "execution_count": 144,
   "id": "f85c9cec-41e9-4aae-b521-142ec516c8d2",
   "metadata": {},
   "outputs": [
    {
     "data": {
      "text/html": [
       "<div>\n",
       "<style scoped>\n",
       "    .dataframe tbody tr th:only-of-type {\n",
       "        vertical-align: middle;\n",
       "    }\n",
       "\n",
       "    .dataframe tbody tr th {\n",
       "        vertical-align: top;\n",
       "    }\n",
       "\n",
       "    .dataframe thead th {\n",
       "        text-align: right;\n",
       "    }\n",
       "</style>\n",
       "<table border=\"1\" class=\"dataframe\">\n",
       "  <thead>\n",
       "    <tr style=\"text-align: right;\">\n",
       "      <th></th>\n",
       "      <th>ï»¿Type d'Ã©quipement</th>\n",
       "      <th>Is Loading Bay Item</th>\n",
       "      <th>Zone spÃ©cifique du quai de chargement</th>\n",
       "      <th>Nom</th>\n",
       "      <th>NumÃ©ro d'asset</th>\n",
       "      <th>Fabricant</th>\n",
       "      <th>ModÃ¨le</th>\n",
       "      <th>Nom de la salle</th>\n",
       "      <th>Nom de baie</th>\n",
       "      <th>Slot U</th>\n",
       "      <th>...</th>\n",
       "      <th>Largeur (m)</th>\n",
       "      <th>Profondeur (m)</th>\n",
       "      <th>Poids (kg)</th>\n",
       "      <th>SynchronisÃ© avec Gateway</th>\n",
       "      <th>ID SystÃ¨me externe</th>\n",
       "      <th>ID SystÃ¨me Asset</th>\n",
       "      <th>ID SystÃ¨me Baie</th>\n",
       "      <th>ID SystÃ¨me ChÃ¢ssis</th>\n",
       "      <th>SOURCES</th>\n",
       "      <th>timestamp</th>\n",
       "    </tr>\n",
       "  </thead>\n",
       "  <tbody>\n",
       "    <tr>\n",
       "      <th>0</th>\n",
       "      <td>Equipements IT</td>\n",
       "      <td>NaN</td>\n",
       "      <td>NaN</td>\n",
       "      <td>SU919</td>\n",
       "      <td>2885508</td>\n",
       "      <td>Sun</td>\n",
       "      <td>SunFire V890</td>\n",
       "      <td>PC</td>\n",
       "      <td>J03</td>\n",
       "      <td>1</td>\n",
       "      <td>...</td>\n",
       "      <td>0.480</td>\n",
       "      <td>0.836</td>\n",
       "      <td>130.6</td>\n",
       "      <td>NaN</td>\n",
       "      <td>0</td>\n",
       "      <td>798936-126608</td>\n",
       "      <td>798936-126594</td>\n",
       "      <td>NaN</td>\n",
       "      <td>IT_Equipment.11.05.22.csv</td>\n",
       "      <td>11-05-22</td>\n",
       "    </tr>\n",
       "    <tr>\n",
       "      <th>1</th>\n",
       "      <td>Equipements IT</td>\n",
       "      <td>NaN</td>\n",
       "      <td>NaN</td>\n",
       "      <td>DEMOCRITE</td>\n",
       "      <td>2656355</td>\n",
       "      <td>Sun</td>\n",
       "      <td>SunFire V100</td>\n",
       "      <td>PC</td>\n",
       "      <td>I03</td>\n",
       "      <td>38</td>\n",
       "      <td>...</td>\n",
       "      <td>0.437</td>\n",
       "      <td>0.483</td>\n",
       "      <td>6.0</td>\n",
       "      <td>NaN</td>\n",
       "      <td>0</td>\n",
       "      <td>798937-126811</td>\n",
       "      <td>798936-126723</td>\n",
       "      <td>NaN</td>\n",
       "      <td>IT_Equipment.11.05.22.csv</td>\n",
       "      <td>11-05-22</td>\n",
       "    </tr>\n",
       "    <tr>\n",
       "      <th>2</th>\n",
       "      <td>Equipements IT</td>\n",
       "      <td>NaN</td>\n",
       "      <td>NaN</td>\n",
       "      <td>LEUCIPPE</td>\n",
       "      <td>2656358</td>\n",
       "      <td>Sun</td>\n",
       "      <td>SunFire V100</td>\n",
       "      <td>PC</td>\n",
       "      <td>H03</td>\n",
       "      <td>38</td>\n",
       "      <td>...</td>\n",
       "      <td>0.437</td>\n",
       "      <td>0.483</td>\n",
       "      <td>6.0</td>\n",
       "      <td>NaN</td>\n",
       "      <td>0</td>\n",
       "      <td>798937-126945</td>\n",
       "      <td>798937-126870</td>\n",
       "      <td>NaN</td>\n",
       "      <td>IT_Equipment.11.05.22.csv</td>\n",
       "      <td>11-05-22</td>\n",
       "    </tr>\n",
       "    <tr>\n",
       "      <th>3</th>\n",
       "      <td>Equipements IT</td>\n",
       "      <td>NaN</td>\n",
       "      <td>NaN</td>\n",
       "      <td>SU888</td>\n",
       "      <td>2885019</td>\n",
       "      <td>Sun</td>\n",
       "      <td>SunFire V210</td>\n",
       "      <td>PC</td>\n",
       "      <td>F03</td>\n",
       "      <td>20</td>\n",
       "      <td>...</td>\n",
       "      <td>0.425</td>\n",
       "      <td>0.635</td>\n",
       "      <td>12.0</td>\n",
       "      <td>NaN</td>\n",
       "      <td>0</td>\n",
       "      <td>798937-127056</td>\n",
       "      <td>798937-127004</td>\n",
       "      <td>NaN</td>\n",
       "      <td>IT_Equipment.11.05.22.csv</td>\n",
       "      <td>11-05-22</td>\n",
       "    </tr>\n",
       "    <tr>\n",
       "      <th>4</th>\n",
       "      <td>Equipements IT</td>\n",
       "      <td>NaN</td>\n",
       "      <td>NaN</td>\n",
       "      <td>SU846</td>\n",
       "      <td>2656367</td>\n",
       "      <td>Sun Microsystems</td>\n",
       "      <td>SunFire V440</td>\n",
       "      <td>PC</td>\n",
       "      <td>G03</td>\n",
       "      <td>5</td>\n",
       "      <td>...</td>\n",
       "      <td>0.440</td>\n",
       "      <td>0.635</td>\n",
       "      <td>37.0</td>\n",
       "      <td>NaN</td>\n",
       "      <td>0</td>\n",
       "      <td>798937-127169</td>\n",
       "      <td>798937-127151</td>\n",
       "      <td>NaN</td>\n",
       "      <td>IT_Equipment.11.05.22.csv</td>\n",
       "      <td>11-05-22</td>\n",
       "    </tr>\n",
       "  </tbody>\n",
       "</table>\n",
       "<p>5 rows × 78 columns</p>\n",
       "</div>"
      ],
      "text/plain": [
       "  ï»¿Type d'Ã©quipement   Is Loading Bay Item   \\\n",
       "0         Equipements IT                   NaN   \n",
       "1         Equipements IT                   NaN   \n",
       "2         Equipements IT                   NaN   \n",
       "3         Equipements IT                   NaN   \n",
       "4         Equipements IT                   NaN   \n",
       "\n",
       "   Zone spÃ©cifique du quai de chargement        Nom  NumÃ©ro d'asset   \\\n",
       "0                                      NaN      SU919          2885508   \n",
       "1                                      NaN  DEMOCRITE          2656355   \n",
       "2                                      NaN   LEUCIPPE          2656358   \n",
       "3                                      NaN      SU888          2885019   \n",
       "4                                      NaN      SU846          2656367   \n",
       "\n",
       "         Fabricant       ModÃ¨le  Nom de la salle  Nom de baie   Slot U   ...  \\\n",
       "0               Sun  SunFire V890               PC          J03        1  ...   \n",
       "1               Sun  SunFire V100               PC          I03       38  ...   \n",
       "2               Sun  SunFire V100               PC          H03       38  ...   \n",
       "3               Sun  SunFire V210               PC          F03       20  ...   \n",
       "4  Sun Microsystems  SunFire V440               PC          G03        5  ...   \n",
       "\n",
       "  Largeur (m)  Profondeur (m) Poids (kg) SynchronisÃ© avec Gateway   \\\n",
       "0       0.480           0.836      130.6                        NaN   \n",
       "1       0.437           0.483        6.0                        NaN   \n",
       "2       0.437           0.483        6.0                        NaN   \n",
       "3       0.425           0.635       12.0                        NaN   \n",
       "4       0.440           0.635       37.0                        NaN   \n",
       "\n",
       "  ID SystÃ¨me externe  ID SystÃ¨me Asset   ID SystÃ¨me Baie   \\\n",
       "0                    0      798936-126608      798936-126594   \n",
       "1                    0      798937-126811      798936-126723   \n",
       "2                    0      798937-126945      798937-126870   \n",
       "3                    0      798937-127056      798937-127004   \n",
       "4                    0      798937-127169      798937-127151   \n",
       "\n",
       "  ID SystÃ¨me ChÃ¢ssis                     SOURCES  timestamp  \n",
       "0                   NaN  IT_Equipment.11.05.22.csv   11-05-22  \n",
       "1                   NaN  IT_Equipment.11.05.22.csv   11-05-22  \n",
       "2                   NaN  IT_Equipment.11.05.22.csv   11-05-22  \n",
       "3                   NaN  IT_Equipment.11.05.22.csv   11-05-22  \n",
       "4                   NaN  IT_Equipment.11.05.22.csv   11-05-22  \n",
       "\n",
       "[5 rows x 78 columns]"
      ]
     },
     "execution_count": 144,
     "metadata": {},
     "output_type": "execute_result"
    }
   ],
   "source": [
    "filepath = os.path.join(PARENT_PATH, datetime_ls[2][1])\n",
    "filename = datetime_ls[1][1]\n",
    "datetime = datetime_ls[1][0]\n",
    "filename\n",
    "df = get_csv_to_df(filepath, filename, datetime)\n",
    "df.head()"
   ]
  },
  {
   "cell_type": "code",
   "execution_count": null,
   "id": "4135ebc1-640c-4602-a43c-ffd16bbab941",
   "metadata": {},
   "outputs": [],
   "source": [
    "select STR_TO_DATE((inserted),'%d-%m-%y') from `IT_Equipment_records`\n",
    "order by INSERTED asc"
   ]
  },
  {
   "cell_type": "code",
   "execution_count": null,
   "id": "889bd83a-7174-40a8-bd92-3f6ee1fb2ad9",
   "metadata": {},
   "outputs": [],
   "source": [
    "CREATE TRIGGER `move_equipment` BEFORE INSERT ON `IT_Equipment_records`\n",
    " FOR EACH ROW BEGIN\n",
    "    DECLARE _Reperage_ID , _Nom_de_la_salle, _INSERTED varchar(255);\n",
    "    \n",
    "        SELECT Reperage_ID, Nom_de_la_salle, INSERTED \n",
    "        INTO _Reperage_ID, _Nom_de_la_salle, _INSERTED\n",
    "        FROM `IT_Equipment_records`\n",
    "        WHERE asset_id = NEW.asset_id\n",
    "        ORDER BY STR_TO_DATE((inserted),'%d-%m-%y') DESC\n",
    "        LIMIT 1 ;\n",
    "    \n",
    "        IF(\n",
    "          (NEW.reperage_id != _Reperage_ID OR \n",
    "          NEW.Nom_de_la_salle != _Nom_de_la_salle) AND \n",
    "          NEW.asset_id != '0')\n",
    "        THEN\n",
    "        INSERT INTO move_records_equipments (asset_id, modele, from_salle, from_reperage_id, to_salle, to_reperage_id, from_date, to_date) \n",
    "           VALUES (NEW.asset_id, NEW.modele, _Nom_de_la_salle, _reperage_id, new.Nom_de_la_salle, new.reperage_id, _INSERTED, new.inserted);\n",
    "        END IF;\n",
    "           \n",
    "END"
   ]
  },
  {
   "cell_type": "code",
   "execution_count": null,
   "id": "a2602d06-12c1-46ff-919f-ca2672165952",
   "metadata": {},
   "outputs": [],
   "source": [
    "insert `IT_Equipment_records` values (\"Equipements IT\",NULL,NULL,\"SU919\",\"2885508\",\"Sun\",\"SunFire V890\",\"PC\",\"J03\",\"1\",NULL,NULL,\"Serveurs\",NULL,\"SU919AOS\",\"0642AN1464\",\"0\",\"2885508\",\"M-0000202515\",\"0\",\"Puissance nominale et facteur\",\"3.2\",NULL,NULL,\"50.0\",\"1.6\",\"Monophasé\",\"On\",\"3.0\",\"3.0\",\"3.0\",\"3.0\",\"Non défini\",\"Supply A\",\"Non défini\",NULL,\"Supply A\",\"Non défini\",\"Non-connecté\",NULL,\"Supply A\",\"Non défini\",NULL,\"Non défini\",NULL,NULL,NULL,NULL,\"Non-connecté\",\"Non défini\",NULL,\"Installé\",\"2018-04-19T00:00:00.000Z\",\"Non-connecté\",\"Non défini\",NULL,\"AAJ03:Slot 01\",NULL,NULL,\"Avant\",\"Pas de rotation\",\"Monté(s) en baie\",\"SU919\",NULL,NULL,NULL,NULL,\"16.0\",\"0.48\",\"0.836\",\"130.6\",NULL,\"0\",\"798936-126608\",\"798936-126594\",NULL,\"IT_Equipment.4.02.2022.csv\",\"10-06-22\")\n",
    "\n"
   ]
  }
 ],
 "metadata": {
  "kernelspec": {
   "display_name": "Python 3 (ipykernel)",
   "language": "python",
   "name": "python3"
  },
  "language_info": {
   "codemirror_mode": {
    "name": "ipython",
    "version": 3
   },
   "file_extension": ".py",
   "mimetype": "text/x-python",
   "name": "python",
   "nbconvert_exporter": "python",
   "pygments_lexer": "ipython3",
   "version": "3.9.7"
  }
 },
 "nbformat": 4,
 "nbformat_minor": 5
}
