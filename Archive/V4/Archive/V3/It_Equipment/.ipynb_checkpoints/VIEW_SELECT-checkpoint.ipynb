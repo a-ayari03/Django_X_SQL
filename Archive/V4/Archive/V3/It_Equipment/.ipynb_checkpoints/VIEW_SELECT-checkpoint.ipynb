{
 "cells": [
  {
   "cell_type": "markdown",
   "id": "9324d5a0",
   "metadata": {},
   "source": [
    "# Compteur"
   ]
  },
  {
   "cell_type": "code",
   "execution_count": null,
   "id": "d05713ee",
   "metadata": {},
   "outputs": [],
   "source": [
    "SELECT count(*) count, TYPE\n",
    "from `IT_Equipment_v3`\n",
    "where STATUS is null\n",
    "GROUP BY TYPE"
   ]
  },
  {
   "cell_type": "code",
   "execution_count": null,
   "id": "ab4e1f59",
   "metadata": {},
   "outputs": [],
   "source": [
    "-- IT_count\n",
    "select COUNT(STATUS), status\n",
    "from `IT_Equipment_v3`\n",
    "GROUP BY STATUS\n",
    "ORDER BY COUNT(STATUS) desc"
   ]
  },
  {
   "cell_type": "markdown",
   "id": "df62d821",
   "metadata": {},
   "source": [
    "# VIEW"
   ]
  },
  {
   "cell_type": "markdown",
   "id": "a46c3491",
   "metadata": {},
   "source": [
    "### `OK-POSITION : NB OF MATCH`"
   ]
  },
  {
   "cell_type": "markdown",
   "id": "ab1e50ad",
   "metadata": {},
   "source": [
    "Version condensée de IT_Equipment + jointure avec asset_new uniquement sur la position"
   ]
  },
  {
   "cell_type": "code",
   "execution_count": null,
   "id": "a694f8fd",
   "metadata": {},
   "outputs": [],
   "source": [
    "CREATE VIEW IT_Equipment_match_position_reduced_v4\n",
    "as\n",
    "SELECT it.reperage_id, count(it.reperage_id) as RowNumber,\n",
    "            concat(aa.asset_id) asset_id\n",
    "\n",
    "FROM   `IT_Equipment_v3` it \n",
    "INNER JOIN `assets_filtree_v3`aa\n",
    "ON (\n",
    "\tit.Nom_de_la_salle = aa.Salle\n",
    "AND\n",
    "\tit.Nom_de_baie = aa.Rack\n",
    "AND\n",
    "\tit.Slot_U = CONVERT(aa.Slot_Begin, integer)\n",
    "\t)  \n",
    "where aa.asset_id != '0'\n",
    "GROUP BY it.reperage_id"
   ]
  },
  {
   "cell_type": "code",
   "execution_count": null,
   "id": "69a8f254",
   "metadata": {},
   "outputs": [],
   "source": [
    "CREATE VIEW IT_Equipment_match_position_v4\n",
    "AS\n",
    "SELECT it.asset_id asset_id_it,\n",
    "       it.short_name,\n",
    "       it.nom,\n",
    "       it.status   status_it,\n",
    "       it.modele,\n",
    "       it.reperage_id,\n",
    "       it.hauteur_u,\n",
    "       aa.ASSET_ID ASSET_ID_aa, aa.NOM_COURT NOM_COURT_aa, aa.NOM_LONG NOM_LONG_aa, aa.FABRICANT FABRICANT_aa, aa.MODEL MODEL_aa, aa.DALLE DALLE_aa, aa.SALLE SALLE_aa, aa.etat, it2.RowNumber\n",
    "\n",
    "       \n",
    "FROM   `IT_Equipment_v3` it \n",
    "INNER JOIN `assets_filtree_v3`aa\n",
    "ON (\n",
    "\tit.Nom_de_la_salle = aa.Salle\n",
    "AND\n",
    "\tit.Nom_de_baie = aa.Rack\n",
    "AND\n",
    "\tit.Slot_U = CONVERT(aa.Slot_Begin, integer)\n",
    "\t)  \n",
    "INNER JOIN `IT_Equipment_match_position_reduced_v4` it2\n",
    "ON it.reperage_id = it2.reperage_id\n",
    "\n",
    "WHERE it2.rowNumber > 1\n",
    "ORDER BY it2.rowNumber desc, Reperage_ID, it.status ASC"
   ]
  },
  {
   "cell_type": "markdown",
   "id": "ffdb0cec",
   "metadata": {},
   "source": [
    "## `NOM DU FABRICANT : ASSET_ID`"
   ]
  },
  {
   "cell_type": "markdown",
   "id": "b009cc0c",
   "metadata": {},
   "source": [
    "### netapp & ATTO & Brocade"
   ]
  },
  {
   "cell_type": "markdown",
   "id": "4eea755b",
   "metadata": {},
   "source": [
    "System 2-en-1 avec chassis + server. Y aura 2 objects differents alors que c'est la meme chose, on va donc s'assurer que le match se fait sur le chassis plutot que sur le server + on rattache tous les serveurs à au bon chassis"
   ]
  },
  {
   "cell_type": "code",
   "execution_count": null,
   "id": "999432da",
   "metadata": {},
   "outputs": [],
   "source": [
    "CREATE VIEW it_built_system_NAS_v4\n",
    "AS\n",
    "SELECT nom_de_baie,\n",
    "       nom_de_la_salle,\n",
    "       status,\n",
    "       asset_id,\n",
    "       nom, \n",
    "        Modele,\n",
    "        fabricant,\n",
    "        Reperage_ID\n",
    "FROM   `IT_Equipment_v3` it\n",
    "WHERE  status IS NOT NULL and (it.fabricant like 'netapp%' or it.fabricant like 'ATTO%' or it.fabricant like 'Brocade%' ) and ASSET_ID != '0'\n",
    "ORDER  BY nom_de_baie DESC"
   ]
  },
  {
   "cell_type": "markdown",
   "id": "b90c2125",
   "metadata": {},
   "source": [
    "### EXADATA"
   ]
  },
  {
   "cell_type": "code",
   "execution_count": null,
   "id": "6d2e8685",
   "metadata": {},
   "outputs": [],
   "source": [
    "CREATE VIEW it_build_system_EXADATA_v4\n",
    "as\n",
    "SELECT nom_de_baie,\n",
    "       nom_de_la_salle,\n",
    "       status,\n",
    "       asset_id,\n",
    "       nom, \n",
    "        Modele,\n",
    "        fabricant,\n",
    "        Reperage_ID\n",
    "FROM   `IT_Equipment_v3` it\n",
    "where it.fabricant like '%oracle%' and asset_id != '0'\n",
    "ORDER  BY nom_de_baie DESC"
   ]
  },
  {
   "cell_type": "markdown",
   "id": "106092fc",
   "metadata": {},
   "source": [
    "### HPC"
   ]
  },
  {
   "cell_type": "code",
   "execution_count": null,
   "id": "79344504",
   "metadata": {},
   "outputs": [],
   "source": [
    "CREATE VIEW it_build_system_HPC_v4\n",
    "as\n",
    "SELECT nom_de_baie,\n",
    "       nom_de_la_salle,\n",
    "       status,\n",
    "       asset_id,\n",
    "       nom, \n",
    "        Modele,\n",
    "        fabricant,\n",
    "        Reperage_ID,\n",
    "        (LEFT(Nom,6)) ROOT_FERME\n",
    "FROM   `IT_Equipment_v3` it\n",
    "where it.nom like '%HPC%' or it.long_name like '%HPC%'\n",
    "ORDER BY Nom_de_baie DESC, Nom_de_la_salle"
   ]
  },
  {
   "cell_type": "markdown",
   "id": "d546b70e",
   "metadata": {},
   "source": [
    "### HANNA"
   ]
  },
  {
   "cell_type": "code",
   "execution_count": null,
   "id": "5a0bf020",
   "metadata": {},
   "outputs": [],
   "source": [
    "CREATE VIEW it_build_system_HANNA_v4\n",
    "as\n",
    "SELECT nom_de_baie,\n",
    "       nom_de_la_salle,\n",
    "       status,\n",
    "       asset_id,\n",
    "       nom, \n",
    "        Modele,\n",
    "        fabricant,\n",
    "        Reperage_ID\n",
    "        \n",
    "FROM   `IT_Equipment_v3` it\n",
    "where (it.nom_de_baie like '%hana%' OR it.nom like '%hana%')  and asset_id != '0'\n",
    "ORDER BY Nom_de_baie DESC, Nom_de_la_salle"
   ]
  },
  {
   "cell_type": "markdown",
   "id": "b826311b",
   "metadata": {},
   "source": [
    "### RING"
   ]
  },
  {
   "cell_type": "code",
   "execution_count": null,
   "id": "3a4cc615",
   "metadata": {},
   "outputs": [],
   "source": [
    "CREATE VIEW it_build_system_RING_v4\n",
    "as\n",
    "SELECT it.nom_de_baie,\n",
    "       it.nom_de_la_salle,\n",
    "       it.status,\n",
    "       it.asset_id,\n",
    "       it.nom, \n",
    "        it.Modele,\n",
    "        it.fabricant,\n",
    "        it.Reperage_ID\n",
    "       \n",
    "       \n",
    "FROM   `IT_Equipment_v3` it\n",
    "WHERE (it.short_name like '%NA9TCR%' \n",
    "OR it.nom like '%NA9TCR%') and (it.status is not null or it.asset_id != '0')\t\n",
    "GROUP BY nom_de_baie, nom_de_la_salle\n",
    "ORDER BY it.Nom_de_baie DESC, it.Nom_de_la_salle"
   ]
  },
  {
   "cell_type": "markdown",
   "id": "f806c414",
   "metadata": {},
   "source": [
    "### FEX"
   ]
  },
  {
   "cell_type": "code",
   "execution_count": null,
   "id": "ab37e194",
   "metadata": {},
   "outputs": [],
   "source": [
    "CREATE VIEW IT_Equipment_FEX_v4\n",
    "as\n",
    "SELECT it.nom_de_baie,\n",
    "       it.nom_de_la_salle,\n",
    "       it.status,\n",
    "       it.asset_id,\n",
    "       it.nom, \n",
    "        it.Modele,\n",
    "        it.fabricant,\n",
    "        it.Reperage_ID,\n",
    "        (LEFT(it.Nom,8)) ROOT_FEX\n",
    "from `IT_Equipment_v3` it\n",
    "where Fabricant\t like '%cisco%' and ( it.nom = (LEFT(it.Nom,8)) )\n",
    "ORDER BY Reperage_ID asc"
   ]
  },
  {
   "cell_type": "markdown",
   "id": "f130587d",
   "metadata": {},
   "source": [
    "## `'CMDB-OK-OLD'`"
   ]
  },
  {
   "cell_type": "code",
   "execution_count": null,
   "id": "ad10cfa9",
   "metadata": {},
   "outputs": [],
   "source": [
    "CREATE VIEW IT_Equipment_OLD_v4\n",
    "AS\n",
    "SELECT it.nom_de_baie,\n",
    "\t\taa.nom_court,\n",
    "        it.short_name,\n",
    "        aa.nom_long,\n",
    "        it.nom,\n",
    "        long_name,\n",
    "       it.nom_de_la_salle,\n",
    "       it.status,\n",
    "       REPLACE(REPLACE(aa.nom_court,'_OLD',''),'-OLD','') new_nom_court,\n",
    "\t\tREPLACE(REPLACE(aa.nom_long,'_OLD',''),'-OLD','') new_nom_long\n",
    "        \n",
    "\n",
    "from `IT_Equipment_v3` it\n",
    "LEFT JOIN `assets_filtree_v3` aa\n",
    "ON REPLACE(REPLACE(aa.nom_court,'_OLD',''),'-OLD','')  = it.nom \n",
    "OR REPLACE(REPLACE(aa.nom_long,'_OLD',''),'-OLD','')  = it.nom \n",
    "OR REPLACE(REPLACE(aa.nom_court,'_OLD',''),'-OLD','')  = it.short_name \n",
    "OR REPLACE(REPLACE(aa.nom_long,'_OLD',''),'-OLD','')  = it.short_name\n",
    "\n",
    "where aa.nom_court like '%_OLD' or aa.nom_long like '%_OLD' or aa.nom_court like '%-OLD' or aa.nom_long like '%-OLD'"
   ]
  },
  {
   "cell_type": "markdown",
   "id": "91c97ddc",
   "metadata": {},
   "source": [
    "## `HITASHI`"
   ]
  },
  {
   "cell_type": "code",
   "execution_count": null,
   "id": "6b0b6501",
   "metadata": {},
   "outputs": [],
   "source": [
    "CREATE VIEW IT_Equipment_cleaning_Hitachi_v4\n",
    "as\n",
    "SELECT it.nom_de_baie,\n",
    "        it.short_name it_short_name,\n",
    "        it.nom it_nom,\n",
    "       it.nom_de_la_salle,\n",
    "       it.status,\n",
    "       (CASE WHEN LOCATE(':',it.nom) > 0 then \n",
    "       UPPER(REPLACE(REPLACE(LEFT(it.nom, LOCATE(':',it.nom)-1),'_','-'),'-',''))\n",
    "       else it.nom\n",
    "       END) clean_name\n",
    "\n",
    "from `IT_Equipment_v3` it \n",
    "WHERE Fabricant like '%Hitachi%'\n",
    "ORDER BY it.Nom_de_baie DESC, it.Nom_de_la_salle"
   ]
  },
  {
   "cell_type": "markdown",
   "id": "fa9f02aa-e748-4c9d-a558-b7038a352915",
   "metadata": {},
   "source": [
    "## `DXI`"
   ]
  },
  {
   "cell_type": "code",
   "execution_count": null,
   "id": "68c5b9f7-9e2e-4110-befa-dc9be17e010a",
   "metadata": {},
   "outputs": [],
   "source": [
    "CREATE VIEW it_build_system_DXI_v2 as\n",
    "SELECT it.asset_id asset_id_it, it.short_name, it.nom, it.status status_it, it.modele, it.reperage_id , Nom_de_la_salle, Nom_de_baie, left(it.nom,9) DXI_ROOT\n",
    "FROM `IT_Equipment_v3` it \n",
    "where modele like '%dxi%' \n",
    " and ( it.nom = left(it.nom,9) or it.short_name = left(it.nom,9) )"
   ]
  },
  {
   "cell_type": "markdown",
   "id": "b0d8db38-2381-48a1-8a09-bca939ae2cb7",
   "metadata": {
    "tags": []
   },
   "source": [
    "## ` Rack = Name`"
   ]
  },
  {
   "cell_type": "code",
   "execution_count": null,
   "id": "bea1b090-14f1-4c06-a085-6202b6ac6056",
   "metadata": {},
   "outputs": [],
   "source": [
    "ALTER VIEW it_equipment_rack_equal_name\n",
    "AS\n",
    "SELECT it.modele, it.short_name, it.nom, it.asset_id, it.Nom_de_la_salle, it.nom_de_baie, it.reperage_id, it.status,\n",
    "\t\taa.asset_id asset_id_cmdb, aa.nom_court nom_court_cmdb, aa.nom_long nom_long_cmdb, aa.rack\n",
    "FROM `IT_Equipment_v3` it\n",
    "INNER JOIN `assets_filtree_v3` aa\n",
    "ON (it.Nom_de_baie = aa.nom_court OR it.Nom_de_baie = aa.nom_long )\n",
    "WHERE it.status is null"
   ]
  },
  {
   "cell_type": "markdown",
   "id": "7446db9e-9100-457c-87c3-ddc4380cb581",
   "metadata": {},
   "source": [
    "##### View with count of unique asset id per rack / name "
   ]
  },
  {
   "cell_type": "code",
   "execution_count": null,
   "id": "c33738a9-393c-4df6-b032-88c5787cf321",
   "metadata": {},
   "outputs": [],
   "source": [
    "CREATE VIEW it_equipment_rack_equal_name_asset_count\n",
    "as\n",
    "select it.nom_de_baie, COUNT(DISTINCT it.asset_id_cmdb) asset_count \n",
    "from `it_equipment_rack_equal_name` it\n",
    "GROUP BY it.nom_de_baie"
   ]
  },
  {
   "cell_type": "code",
   "execution_count": null,
   "id": "57fb49b5-9392-4b51-a63b-294fe82a2097",
   "metadata": {},
   "outputs": [],
   "source": [
    "CREATE VIEW olivier_it_rack_equal_name_export\n",
    "as\n",
    "SELECT it.modele, it.short_name, it.nom, it.asset_id, it.Nom_de_la_salle, it.nom_de_baie, it.reperage_id, it.status, it.status_2,\n",
    "\t\tconcat(it.nom_de_baie, ':', it2.asset_count) count_asset\n",
    "FROM `IT_Equipment_v3` it\n",
    "INNER JOIN `it_equipment_rack_equal_name_asset_count` it2\n",
    "ON it.Nom_de_baie = it2.Nom_de_baie\n",
    "WHERE it.status_2 is null"
   ]
  },
  {
   "cell_type": "markdown",
   "id": "eeb88864",
   "metadata": {},
   "source": [
    "----------------------"
   ]
  },
  {
   "cell_type": "markdown",
   "id": "01308746",
   "metadata": {},
   "source": [
    "# SELECT"
   ]
  },
  {
   "cell_type": "markdown",
   "id": "775953e8",
   "metadata": {},
   "source": [
    "----------------------"
   ]
  },
  {
   "cell_type": "markdown",
   "id": "683e2364",
   "metadata": {},
   "source": [
    "## QUERY "
   ]
  },
  {
   "cell_type": "code",
   "execution_count": null,
   "id": "94ad2237",
   "metadata": {},
   "outputs": [],
   "source": [
    "SELECT it.asset_id asset_id_it, it.short_name, it.nom, it.status status_it, it.modele, it.reperage_id, it.hauteur_u, it.status_3, it.asset_id_ok_position \n",
    "FROM `IT_Equipment_v3` it"
   ]
  },
  {
   "cell_type": "markdown",
   "id": "6954827e-6845-4ed3-a884-82f3c9f33482",
   "metadata": {},
   "source": [
    "____"
   ]
  },
  {
   "cell_type": "markdown",
   "id": "aa182858",
   "metadata": {},
   "source": [
    "### `OK-CMDB-ASSET-ID`"
   ]
  },
  {
   "cell_type": "code",
   "execution_count": null,
   "id": "159edce0",
   "metadata": {},
   "outputs": [],
   "source": [
    "SELECT it.asset_id asset_id_it, aa.asset_id asset_id, it.short_name, it.nom, it.status status_it, it.modele, it.reperage_id, it.hauteur_u FROM `IT_Equipment_v3` it\n",
    "INNER JOIN `assets_filtree_v3` aa\n",
    "ON aa.asset_id = it.asset_id\n",
    "and it.asset_id != '0'"
   ]
  },
  {
   "cell_type": "markdown",
   "id": "ffb305aa",
   "metadata": {},
   "source": [
    "### `'ASSET_ID OK / SHORT_NAME MISMATCH'`"
   ]
  },
  {
   "cell_type": "code",
   "execution_count": null,
   "id": "5291f66c",
   "metadata": {},
   "outputs": [],
   "source": [
    "SELECT it.asset_id asset_id_it, aa.asset_id asset_id, it.short_name, it.nom, aa.nom_court, aa.nom_long, it.modele, it.reperage_id, it.hauteur_u FROM `IT_Equipment_v3` it\n",
    "INNER JOIN `assets_filtree_v3` aa\n",
    "ON aa.nom_long = it.nom or (aa.nom_court = it.short_name and it.short_name !=0)\n",
    "where it.status is null"
   ]
  },
  {
   "cell_type": "markdown",
   "id": "474a2578",
   "metadata": {},
   "source": [
    "### `Asset_ID affiché`"
   ]
  },
  {
   "cell_type": "markdown",
   "id": "6ec0d983",
   "metadata": {},
   "source": [
    "Seulement pour les serveurs, match entre les noms courts de IT_equipment et celui \n",
    "d'assets avec les 3 derniers caracteres en moins. Exemple : IT_equipment.nom = SU941, assets.nom_court = SU941AOS "
   ]
  },
  {
   "cell_type": "markdown",
   "id": "b8bc585b",
   "metadata": {},
   "source": [
    "##### 0 resultat affiché, ils sont tous contenu dans le OK-CMDB-ASSET-ID"
   ]
  },
  {
   "cell_type": "code",
   "execution_count": null,
   "id": "36ac173d",
   "metadata": {},
   "outputs": [],
   "source": [
    "SELECT it.asset_id asset_id_it, aa.asset_id asset_id, it.short_name, it.nom, aa.nom_court, aa.nom_long, it.modele, it.reperage_id, it.status FROM `IT_Equipment_v3` it\n",
    "INNER JOIN `assets_filtree_v3` aa on LEFT(aa.nom_court, length(aa.nom_court) - 3) = it.short_name\n",
    "\n",
    "where it.type = 'Serveurs' and it.status is null"
   ]
  },
  {
   "cell_type": "markdown",
   "id": "c72ba11c",
   "metadata": {},
   "source": [
    "### `OK-POSITION : NB OF MATCH`"
   ]
  },
  {
   "cell_type": "markdown",
   "id": "e82ab2a6",
   "metadata": {},
   "source": [
    "HORS model qui contiennent : BL460C BL660C BL20P BL860C BL420C BL680C WS460C BL870C"
   ]
  },
  {
   "cell_type": "code",
   "execution_count": null,
   "id": "56a3b820",
   "metadata": {},
   "outputs": [],
   "source": [
    "SELECT it.asset_id asset_id_it, aa.asset_id asset_id, it.short_name, it.nom, aa.nom_court, aa.nom_long, it.modele, aa.model, it.reperage_id, aa.dalle, it2.rownumber\n",
    "FROM `IT_Equipment_v3` it \n",
    "INNER JOIN `assets_filtree_v3`aa\n",
    "ON (\n",
    "\tit.Nom_de_la_salle = aa.Salle\n",
    "AND\n",
    "\tit.Nom_de_baie = aa.Rack\n",
    "AND\n",
    "\tit.Slot_U = CONVERT(aa.Slot_Begin, integer)\n",
    "\t)  \n",
    "INNER JOIN `IT_Equipment_match_position_reduced_v2` it2\n",
    "ON it.reperage_id = it2.reperage_id\n",
    "WHERE it.status is null\n",
    "AND aa.model not like '%BL460C%'\n",
    "AND aa.model not like '%BL660C%'\n",
    "AND aa.model not like '%BL20P%'\n",
    "AND aa.model not like '%BL860C%'\n",
    "AND aa.model not like '%BL420C%'\n",
    "AND aa.model not like '%BL680C%'\n",
    "AND aa.model not like '%WS460C%'\n",
    "AND aa.model not like '%BL870C%'\n",
    "ORDER BY rownumber desc"
   ]
  },
  {
   "cell_type": "markdown",
   "id": "b5de42d1",
   "metadata": {},
   "source": [
    "## `NOM DU FABRICANT : ASSET_ID`"
   ]
  },
  {
   "cell_type": "markdown",
   "id": "31ed6d83",
   "metadata": {},
   "source": [
    "### NetApp"
   ]
  },
  {
   "cell_type": "code",
   "execution_count": null,
   "id": "a8e2b0b1",
   "metadata": {},
   "outputs": [],
   "source": [
    "SELECT ASSET_ID, NOM_COURT, NOM_LONG, FABRICANT, MODEL, DALLE, SALLE, Rack, Slot_Begin, Slot_End, status\n",
    "from `assets_filtree_v3` aa\n",
    "where fabricant like 'NETAPP%'\n",
    "order by dalle asc\n",
    "\n",
    "---\n",
    "select it.asset_id asset_id_id, it.short_name, it.nom, it.status status_it, it.fabricant, it.modele, it.reperage_ID, Nom_de_la_salle, Nom_de_baie, Slot_U, Hauteur_U\n",
    "from `IT_Equipment_v3` it\n",
    "where fabricant like 'NETAPP%'"
   ]
  },
  {
   "cell_type": "code",
   "execution_count": null,
   "id": "9f86134b",
   "metadata": {},
   "outputs": [],
   "source": [
    "SELECT it.nom_de_baie,\n",
    "       it.nom_de_la_salle,\n",
    "       it.status,\n",
    "       it2.status status_2,\n",
    "       it.asset_id,\n",
    "       it.nom, \n",
    "       it.Modele,\n",
    "       it.fabricant,\n",
    "       it.Reperage_ID,\n",
    "       ( CASE WHEN it.status is null and it2.status is not null then Concat(it.fabricant, ' : ', it2.asset_id) \n",
    "        \t  WHEN it.status is null and it2.status is null and (it.asset_id is null or it.asset_id ='0') then  Concat(it.fabricant, ' : No Match') \n",
    "        END ) agg\n",
    "       \n",
    "FROM   `IT_Equipment_v3` it\n",
    " LEFT JOIN `it_built_system_NAS_v4` it2\n",
    " ON        it2.nom_de_baie = it.nom_de_baie \n",
    " AND       it2.nom_de_la_salle = it.nom_de_la_salle\n",
    " AND\t\t  it2.fabricant = it.fabricant\n",
    "\n",
    "WHERE it.status is null and (it.fabricant like 'netapp%' or it.fabricant like 'ATTO%' or it.fabricant like 'Brocade%' )\n",
    "ORDER  BY it.nom_de_baie DESC"
   ]
  },
  {
   "cell_type": "markdown",
   "id": "072014ef",
   "metadata": {},
   "source": [
    "### Exadata"
   ]
  },
  {
   "cell_type": "code",
   "execution_count": null,
   "id": "6e9a269d",
   "metadata": {},
   "outputs": [],
   "source": [
    "SELECT it.nom_de_baie,\n",
    "       it.nom_de_la_salle,\n",
    "       it.status,\n",
    "       it2.status status_2,\n",
    "       it.asset_id,\n",
    "       it.nom, \n",
    "       it.Modele,\n",
    "       it.fabricant,\n",
    "       it.Reperage_ID,\n",
    "       ( CASE WHEN it.status is null and it2.status is not null then Concat(it.fabricant, ' : ', it2.asset_id) \n",
    "        \t  WHEN it.status is null and it2.status is null and (it.asset_id is null or it.asset_id ='0') then  Concat(it.fabricant, ' : No Match') \n",
    "        END ) agg\n",
    "       \n",
    "FROM   `IT_Equipment_v3` it\n",
    " LEFT JOIN `it_build_system_EXADATA_v4` it2\n",
    " ON        it2.nom_de_baie = it.nom_de_baie \n",
    " AND       it2.nom_de_la_salle = it.nom_de_la_salle\n",
    " AND\t\t  it2.fabricant = it.fabricant\n",
    "\n",
    "WHERE it.status is null and (it.fabricant like '%oracle%')\n",
    "ORDER  BY it.nom_de_baie DESC"
   ]
  },
  {
   "cell_type": "markdown",
   "id": "211f4426",
   "metadata": {},
   "source": [
    "### HPC"
   ]
  },
  {
   "cell_type": "code",
   "execution_count": null,
   "id": "ed448b96",
   "metadata": {},
   "outputs": [],
   "source": [
    "SELECT it.nom_de_baie,\n",
    "       it.nom_de_la_salle,\n",
    "       it.status,\n",
    "       it2.status status_2,\n",
    "       it.asset_id,\n",
    "       it.nom, \n",
    "       it.Modele,\n",
    "       it.fabricant,\n",
    "       it.Reperage_ID,\n",
    "       ( CASE WHEN it.status is null and it2.status is not null then Concat(it.fabricant, ' : ', it2.root_ferme) \n",
    "        \t  WHEN it.status is null and it2.status is null and (it.asset_id is null or it.asset_id ='0') then  Concat(it.fabricant, ' : No Match') \n",
    "        END ) agg\n",
    "       \n",
    "FROM   `IT_Equipment_v3` it\n",
    " LEFT JOIN `it_build_system_HPC_v4` it2\n",
    " ON (LEFT(it.Nom,6)) = it2.root_ferme\n",
    "\n",
    "WHERE it.status is null and (it.fabricant like '%oracle%')\n",
    "ORDER  BY it.nom_de_baie DESC"
   ]
  },
  {
   "cell_type": "markdown",
   "id": "adfa30a7",
   "metadata": {},
   "source": [
    "### HANNA"
   ]
  },
  {
   "cell_type": "code",
   "execution_count": null,
   "id": "ee6676c8",
   "metadata": {},
   "outputs": [],
   "source": [
    "SELECT it.nom_de_baie,\n",
    "       it.nom_de_la_salle,\n",
    "       it.status,\n",
    "       it2.status status_2,\n",
    "       it.asset_id,\n",
    "       it.nom, \n",
    "       it.Modele,\n",
    "       it.fabricant,\n",
    "       it.Reperage_ID,\n",
    "       ( CASE WHEN it.status is null and it2.status is not null then Concat(it.fabricant, ' : ', it2.asset_id) \n",
    "        \t  WHEN it.status is null and it2.status is null and (it.asset_id is null or it.asset_id ='0') then  Concat(it.fabricant, ' : No Match') \n",
    "        END ) agg\n",
    "       \n",
    "FROM   `IT_Equipment_v3` it\n",
    "  LEFT JOIN `it_build_system_HANNA_v4` it2\n",
    " ON        it2.nom_de_baie = it.nom_de_baie \n",
    " AND       it2.nom_de_la_salle = it.nom_de_la_salle\n",
    " AND\t\t  it2.fabricant = it.fabricant\n",
    "\n",
    "WHERE it.status is null and (it.nom_de_baie like '%hana%' OR it.nom like '%hana%')\n",
    "ORDER  BY it.nom_de_baie DESC"
   ]
  },
  {
   "cell_type": "markdown",
   "id": "e978c625",
   "metadata": {},
   "source": [
    "### RING"
   ]
  },
  {
   "cell_type": "code",
   "execution_count": null,
   "id": "f55707f1",
   "metadata": {},
   "outputs": [],
   "source": [
    "SELECT it.nom_de_baie,\n",
    "       it.nom_de_la_salle,\n",
    "       it.status,\n",
    "       it.asset_id,\n",
    "       it.nom, \n",
    "        it.Modele,\n",
    "        it.fabricant,\n",
    "        it.Reperage_ID,\n",
    "        ( CASE WHEN it.status is null and it2.status is not null then Concat(it.fabricant, ' : ', it2.asset_id) \n",
    "        \t  WHEN it.status is null and it2.status is null and (it.asset_id is null or it.asset_id ='0') then  Concat(it.fabricant, ' : No Match') \n",
    "        END ) agg\n",
    "       \n",
    "       \n",
    "FROM   `IT_Equipment_v3` it\n",
    "LEFT JOIN `it_build_system_RING_v4` it2 \n",
    "ON        it2.nom_de_baie = it.nom_de_baie \n",
    "AND       it2.nom_de_la_salle = it.nom_de_la_salle\n",
    "AND\t\t  it2.fabricant = it.fabricant\n",
    "    \n",
    "WHERE (it.short_name like '%NA9TCR%' \n",
    "OR it.nom like '%NA9TCR%')\n",
    "ORDER BY it.Nom_de_baie DESC, it.Nom_de_la_salle"
   ]
  },
  {
   "cell_type": "markdown",
   "id": "8720e5f5",
   "metadata": {},
   "source": [
    "### FEX "
   ]
  },
  {
   "cell_type": "markdown",
   "id": "ffb6e374",
   "metadata": {},
   "source": [
    "#### Cette query a été lancé apres CMDB-OK-OLD et MISMATCH_TIRET"
   ]
  },
  {
   "cell_type": "code",
   "execution_count": null,
   "id": "3963459b",
   "metadata": {},
   "outputs": [],
   "source": [
    "SELECT it.nom_de_baie,\n",
    "       it.nom_de_la_salle,\n",
    "       it.status,\n",
    "       it.asset_id,\n",
    "       it.nom, \n",
    "        it.Modele,\n",
    "        it.fabricant,\n",
    "        it.Reperage_ID,\n",
    "        ( CASE WHEN it.status is null and it2.status is not null and it2.asset_id !='0' then Concat(it.fabricant, ' : ', it2.asset_id) \n",
    "        \t  WHEN it.status is null and it2.status is null and (it.asset_id is null or it2.asset_id ='0') then  Concat(it.fabricant, ' : No Match') \n",
    "        END ) agg\n",
    "        \n",
    "       \n",
    "FROM   `IT_Equipment_v3` it\n",
    "LEFT JOIN `IT_Equipment_FEX_v4` it2 on it2.root_fex = (LEFT(it.Nom,8)) and it.Nom != it2.root_fex\n",
    "    \n",
    "where it.Fabricant like '%cisco%' and it2.root_fex is not null\n",
    "ORDER BY it.Nom_de_baie DESC, it.Nom_de_la_salle"
   ]
  },
  {
   "cell_type": "markdown",
   "id": "474912ce",
   "metadata": {},
   "source": [
    "## `'CMDB-OK-OLD'`"
   ]
  },
  {
   "cell_type": "code",
   "execution_count": null,
   "id": "2ec6542d",
   "metadata": {},
   "outputs": [],
   "source": [
    "SELECT it.nom_de_baie,\n",
    "       it.nom_de_la_salle,\n",
    "       it.status,\n",
    "       it.asset_id,\n",
    "       it.nom, \n",
    "        it.Modele,\n",
    "        it.fabricant,\n",
    "       it.Reperage_ID\n",
    "       \n",
    "       \n",
    "FROM   `IT_Equipment_v3` it\n",
    "LEFT JOIN `assets_filtree_v3` aa\n",
    "ON REPLACE(REPLACE(aa.nom_court,'_OLD',''),'-OLD','')  = it.nom \n",
    "OR REPLACE(REPLACE(aa.nom_long,'_OLD',''),'-OLD','')  = it.nom \n",
    "OR REPLACE(REPLACE(aa.nom_court,'_OLD',''),'-OLD','')  = it.short_name \n",
    "OR REPLACE(REPLACE(aa.nom_long,'_OLD',''),'-OLD','')  = it.short_name\n",
    "where it.status is NULL and (aa.nom_court like '%_OLD' or aa.nom_long like '%_OLD' or aa.nom_court like '%-OLD' or aa.nom_long like '%-OLD')"
   ]
  },
  {
   "cell_type": "markdown",
   "id": "0d7a305b",
   "metadata": {},
   "source": [
    "## `'MISMATCH_TIRET'`"
   ]
  },
  {
   "cell_type": "code",
   "execution_count": null,
   "id": "913428d6",
   "metadata": {},
   "outputs": [],
   "source": [
    "SELECT it.nom_de_baie,\n",
    "       it.nom_de_la_salle,\n",
    "       it.status,\n",
    "       it.asset_id,\n",
    "       it.nom,\n",
    "       aa.nom_long,\n",
    "       it.short_name,\n",
    "       aa.nom_court,\n",
    "        it.Modele,\n",
    "        it.fabricant,\n",
    "        it.Reperage_ID\n",
    "        \n",
    "FROM   `IT_Equipment_v3` it\n",
    "INNER JOIN `assets_filtree_v3` aa\n",
    "ON UPPER(REPLACE(REPLACE(aa.nom_court,'_',''),'-',''))  =  UPPER(REPLACE(REPLACE(it.nom,'_',''),'-',''))\n",
    "OR UPPER(REPLACE(REPLACE(aa.nom_long,'_',''),'-',''))  =  UPPER(REPLACE(REPLACE(it.nom,'_',''),'-',''))\n",
    "OR UPPER(REPLACE(REPLACE(aa.nom_court,'_',''),'-',''))  =  UPPER(REPLACE(REPLACE(it.short_name,'_',''),'-',''))\n",
    "OR UPPER(REPLACE(REPLACE(aa.nom_long,'_',''),'-',''))  =  UPPER(REPLACE(REPLACE(it.short_name,'_',''),'-','')) \n",
    "\n",
    "ORDER BY it.Nom_de_baie DESC, it.Nom_de_la_salle\n",
    "\n"
   ]
  },
  {
   "cell_type": "markdown",
   "id": "d49e05f2",
   "metadata": {},
   "source": [
    "## `HITASHI`"
   ]
  },
  {
   "cell_type": "code",
   "execution_count": null,
   "id": "8afe80eb",
   "metadata": {},
   "outputs": [],
   "source": [
    "SELECT it.nom_de_baie,\n",
    "       it.nom_de_la_salle,\n",
    "       it.status,\n",
    "       it.asset_id,\n",
    "       aa.asset_id,\n",
    "       it.nom,\n",
    "       aa.nom_long,\n",
    "       it.short_name,\n",
    "       aa.nom_court,\n",
    "        it.Modele,\n",
    "        it.fabricant,\n",
    "        it.Reperage_ID,\n",
    "        (\n",
    "\t\t\t\tCASE WHEN aa.asset_id is null and it.status is null then 'Hitashi : No match'\n",
    "    \t\t\tWHEN aa.asset_id is not null and it.status is null then concat('HDS : ',aa.asset_id)\n",
    "    \t\t\tEND \n",
    "    \t\t\t) agg\n",
    "        \n",
    "FROM   `IT_Equipment_v3` it\n",
    "INNER JOIN `IT_Equipment_cleaning_Hitachi_v2` hit on hit.it_nom = it.nom\n",
    "LEFT JOIN `assets_filtree_v3` aa on UPPER(REPLACE(REPLACE(aa.nom_court,'_',''),'-','')) = hit.clean_name\n",
    "\n",
    "WHERE it.Fabricant like '%Hitachi%'\n",
    "ORDER BY it.Nom_de_baie DESC, it.Nom_de_la_salle"
   ]
  }
 ],
 "metadata": {
  "kernelspec": {
   "display_name": "Python 3 (ipykernel)",
   "language": "python",
   "name": "python3"
  },
  "language_info": {
   "codemirror_mode": {
    "name": "ipython",
    "version": 3
   },
   "file_extension": ".py",
   "mimetype": "text/x-python",
   "name": "python",
   "nbconvert_exporter": "python",
   "pygments_lexer": "ipython3",
   "version": "3.9.7"
  }
 },
 "nbformat": 4,
 "nbformat_minor": 5
}
