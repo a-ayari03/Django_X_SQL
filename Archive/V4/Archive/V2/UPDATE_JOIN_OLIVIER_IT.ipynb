{
 "cells": [
  {
   "cell_type": "markdown",
   "id": "c91d7d0f",
   "metadata": {},
   "source": [
    "# UPDATE"
   ]
  },
  {
   "cell_type": "markdown",
   "id": "2162ff8d",
   "metadata": {},
   "source": [
    "## LEFT JOIN"
   ]
  },
  {
   "cell_type": "code",
   "execution_count": null,
   "id": "f9265e24",
   "metadata": {},
   "outputs": [],
   "source": [
    "UPDATE `olivier_it` oit\n",
    "INNER JOIN `IT_Equipment_v2` it on oit.olivier_index = CONCAT(it.Nom_de_la_salle, it.reperage_id)\n",
    "\n",
    "SET oit.status = 'Commun'\n",
    "\n",
    "where nom_de_la_salle in ('P1', 'P2', 'P3', 'P4')"
   ]
  },
  {
   "cell_type": "markdown",
   "id": "270be54d",
   "metadata": {},
   "source": [
    "## RIGHT JOIN"
   ]
  },
  {
   "cell_type": "code",
   "execution_count": null,
   "id": "384bc0f0",
   "metadata": {},
   "outputs": [],
   "source": [
    "UPDATE `olivier_it` oit\n",
    "LEFT JOIN `IT_Equipment_v2` it on oit.olivier_index = CONCAT(it.Nom_de_la_salle, it.reperage_id)\n",
    "\n",
    "set oit.status = 'Olivier'\n",
    "\n",
    "where  it.reperage_id is null"
   ]
  }
 ],
 "metadata": {
  "kernelspec": {
   "display_name": "Python 3 (ipykernel)",
   "language": "python",
   "name": "python3"
  },
  "language_info": {
   "codemirror_mode": {
    "name": "ipython",
    "version": 3
   },
   "file_extension": ".py",
   "mimetype": "text/x-python",
   "name": "python",
   "nbconvert_exporter": "python",
   "pygments_lexer": "ipython3",
   "version": "3.9.7"
  }
 },
 "nbformat": 4,
 "nbformat_minor": 5
}
