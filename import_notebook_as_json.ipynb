{
 "cells": [
  {
   "cell_type": "code",
   "execution_count": 52,
   "id": "c11f63eb-53eb-40e7-be0a-8462ceeba6c7",
   "metadata": {},
   "outputs": [],
   "source": [
    "import pandas as pd\n",
    "import numpy as np\n",
    "import json"
   ]
  },
  {
   "cell_type": "code",
   "execution_count": 87,
   "id": "69d49298-e120-4634-bd2b-b2bd4459dbcc",
   "metadata": {},
   "outputs": [],
   "source": [
    "def clean_query(x : list) :\n",
    "    x = ' '.join(x)\n",
    "    x = x.replace(\"\\n\",\"\").replace(\"\\t\",\"\").replace(\"\\\\\",\"\")\n",
    "    return x\n",
    "    "
   ]
  },
  {
   "cell_type": "code",
   "execution_count": 127,
   "id": "0b834854-c270-4b4a-aa03-c26889c9bd16",
   "metadata": {},
   "outputs": [],
   "source": [
    "def split_multiple_query(raw_list) :\n",
    "    query_list = []\n",
    "    for query in raw_list :\n",
    "        query = query.split(\";\")\n",
    "        if len(query) >=2 :\n",
    "            for sub_query in query :\n",
    "                query_list.append(sub_query)\n",
    "        elif len(query) == 1 :\n",
    "            query_list.append(query[0])\n",
    "    return query_list"
   ]
  },
  {
   "cell_type": "code",
   "execution_count": 88,
   "id": "5225afb0-e827-49da-94ee-66798d79273a",
   "metadata": {},
   "outputs": [],
   "source": [
    "filepath = './Olivier_it_Workflow_2.ipynb'"
   ]
  },
  {
   "cell_type": "code",
   "execution_count": 89,
   "id": "83664fcc-7671-4b7e-b2d8-d9999103b744",
   "metadata": {},
   "outputs": [],
   "source": [
    "with open(filepath,'r',  encoding='utf-8') as f :\n",
    "    data = json.load(f)"
   ]
  },
  {
   "cell_type": "code",
   "execution_count": 128,
   "id": "019a12cb-ffe7-4e9a-bc15-f1910a394027",
   "metadata": {},
   "outputs": [],
   "source": [
    "df = pd.DataFrame.from_dict(data['cells'])\n",
    "df = df.drop([\"id\", \"metadata\", \"execution_count\", \"outputs\"], axis = 1) # Clean notebook\n",
    "df = df.drop(df[df.cell_type== \"markdown\"].index )\n",
    "df = df.apply(lambda x : clean_query(x.source), axis = 1)\n",
    "raw_list = df.values\n",
    "query_list = split_multiple_query(raw_list)"
   ]
  }
 ],
 "metadata": {
  "kernelspec": {
   "display_name": "Python 3 (ipykernel)",
   "language": "python",
   "name": "python3"
  },
  "language_info": {
   "codemirror_mode": {
    "name": "ipython",
    "version": 3
   },
   "file_extension": ".py",
   "mimetype": "text/x-python",
   "name": "python",
   "nbconvert_exporter": "python",
   "pygments_lexer": "ipython3",
   "version": "3.9.7"
  }
 },
 "nbformat": 4,
 "nbformat_minor": 5
}
