{
 "cells": [
  {
   "cell_type": "code",
   "execution_count": 52,
   "id": "c11f63eb-53eb-40e7-be0a-8462ceeba6c7",
   "metadata": {},
   "outputs": [],
   "source": [
    "import pandas as pd\n",
    "import numpy as np\n",
    "import json"
   ]
  },
  {
   "cell_type": "code",
   "execution_count": 131,
   "id": "69d49298-e120-4634-bd2b-b2bd4459dbcc",
   "metadata": {},
   "outputs": [
    {
     "ename": "SyntaxError",
     "evalue": "EOL while scanning string literal (Temp/ipykernel_54792/3294217833.py, line 3)",
     "output_type": "error",
     "traceback": [
      "\u001b[1;36m  File \u001b[1;32m\"C:\\Users\\alexa\\AppData\\Local\\Temp/ipykernel_54792/3294217833.py\"\u001b[1;36m, line \u001b[1;32m3\u001b[0m\n\u001b[1;33m    x = x.replace(\"\\n\",\"\").replace(\"\\t\",\"\").replace(\"\\\",\"\")\u001b[0m\n\u001b[1;37m                                                           ^\u001b[0m\n\u001b[1;31mSyntaxError\u001b[0m\u001b[1;31m:\u001b[0m EOL while scanning string literal\n"
     ]
    }
   ],
   "source": [
    "def clean_query(x : list) :\n",
    "    x = ' '.join(x)\n",
    "    x = x.replace(\"\\n\",\"\").replace(\"\\t\",\"\").replace(\"\\\\\",\" \")\n",
    "    return x\n",
    "    "
   ]
  },
  {
   "cell_type": "code",
   "execution_count": 127,
   "id": "0b834854-c270-4b4a-aa03-c26889c9bd16",
   "metadata": {},
   "outputs": [],
   "source": [
    "def split_multiple_query(raw_list) :\n",
    "    query_list = []\n",
    "    for query in raw_list :\n",
    "        query = query.split(\";\")\n",
    "        if len(query) >=2 :\n",
    "            for sub_query in query :\n",
    "                query_list.append(sub_query)\n",
    "        elif len(query) == 1 :\n",
    "            query_list.append(query[0])\n",
    "    return query_list"
   ]
  },
  {
   "cell_type": "code",
   "execution_count": 88,
   "id": "5225afb0-e827-49da-94ee-66798d79273a",
   "metadata": {},
   "outputs": [],
   "source": [
    "filepath = './Olivier_it_Workflow_2.ipynb'"
   ]
  },
  {
   "cell_type": "code",
   "execution_count": 89,
   "id": "83664fcc-7671-4b7e-b2d8-d9999103b744",
   "metadata": {},
   "outputs": [],
   "source": [
    "with open(filepath,'r',  encoding='utf-8') as f :\n",
    "    data = json.load(f)"
   ]
  },
  {
   "cell_type": "code",
   "execution_count": 128,
   "id": "019a12cb-ffe7-4e9a-bc15-f1910a394027",
   "metadata": {},
   "outputs": [],
   "source": [
    "df = pd.DataFrame.from_dict(data['cells'])\n",
    "df = df.drop([\"id\", \"metadata\", \"execution_count\", \"outputs\"], axis = 1) # Clean notebook\n",
    "df = df.drop(df[df.cell_type== \"markdown\"].index )\n",
    "df = df.apply(lambda x : clean_query(x.source), axis = 1)\n",
    "raw_list = df.values\n",
    "query_list = split_multiple_query(raw_list)"
   ]
  },
  {
   "cell_type": "code",
   "execution_count": 130,
   "id": "389f3516-69ec-44b8-b34f-b5b4fd42d6a9",
   "metadata": {},
   "outputs": [
    {
     "data": {
      "text/plain": [
       "['DROP TABLE IF EXISTS `IT_Equipment_v2` ',\n",
       " ' CREATE TABLE IT_Equipment_v2 as SELECT * FROM `IT_Equipment`',\n",
       " 'DROP TABLE IF EXISTS `assets_filtree_v2` ',\n",
       " \" CREATE TABLE assets_filtree_v2 as select * from `assets_new` where (API = 'FRVLB0C2' or API = 'FRTCRAVA')\",\n",
       " 'ALTER TABLE assets_filtree_v2 ADD COLUMN Rack varchar(255), ADD COLUMN Slot varchar(255), ADD COLUMN Slot_begin varchar(255), ADD COLUMN Slot_end varchar(255)',\n",
       " '',\n",
       " \"UPDATE assets_filtree_v2 SET  Rack = SUBSTRING_INDEX(DALLE, '/', 1)  , Slot = SUBSTRING_INDEX(DALLE, '/', -1) , Slot_begin = SUBSTRING_INDEX(SUBSTRING_INDEX(DALLE, '/', -1), '-', 1) , Slot_end = SUBSTRING_INDEX(DALLE, '-', -1)\",\n",
       " 'DROP TABLE IF EXISTS `IT_Equipment_olivier_no_match` ',\n",
       " \" CREATE TABLE IT_Equipment_olivier_no_match as SELECT it.* FROM `IT_Equipment_v2` it LEFT JOIN `olivier_it` oit on oit.olivier_index = CONCAT(it.Nom_de_la_salle, it.reperage_id)  where it.nom_de_la_salle in ('P1', 'P2', 'P3', 'P4') and oit.olivier_index is null -- AND (oit.olivier_index is null or it.reperage_id is null) ORDER BY Reperage_ID asc\",\n",
       " 'DROP TABLE IF EXISTS `assets_filtree_reduced` ',\n",
       " \" CREATE TABLE assets_filtree_reduced AS SELECT ype, subtype, ASSET_ID, NOM_COURT, NOM_LONG, FABRICANT, MODEL, DALLE, SALLE, Rack, Slot_Begin, Slot_End, No_serie, etat, api, tag_partenaire from `assets_filtree_v2` aa WHERE SALLE in ('P1', 'P2', 'P3', 'P4', '0')\",\n",
       " 'ALTER TABLE olivier_it ADD COLUMN STATUS_2 varchar(255), ADD COLUMN Nom_de_baie varchar(255), ADD COLUMN Slot_u varchar(255), ADD COLUMN STATUS_3 varchar(255), ADD COLUMN ASSET_ID_OK_POSITION varchar(255), ADD COLUMN status varchar(255) ',\n",
       " '',\n",
       " 'ALTER TABLE olivier_it  ADD COLUMN status_asset_id varchar(255), ADD COLUMN status_position varchar(255), ADD COLUMN status_name varchar(255), ADD COLUMN status_etat varchar(255), ADD COLUMN status_global varchar(255), ADD COLUMN status_etat_hpe varchar(255), ADD COLUMN status_spec varchar(255), ADD COLUMN status_cc varchar(255) ',\n",
       " '',\n",
       " \"UPDATE `olivier_it` set Nom_de_baie = SUBSTRING_INDEX(reperage_id,':',1) , Slot_u = SUBSTRING_INDEX(reperage_id,'Slot',-1) \",\n",
       " '',\n",
       " \"UPDATE `olivier_it` oit INNER JOIN `IT_Equipment_v2` it on oit.olivier_index = CONCAT(it.Nom_de_la_salle, it.reperage_id)  SET oit.status = 'Commun'  where it.nom_de_la_salle in ('P1', 'P2', 'P3', 'P4')\",\n",
       " \"UPDATE `olivier_it` oit LEFT JOIN `IT_Equipment_v2` it on oit.olivier_index = CONCAT(it.Nom_de_la_salle, it.reperage_id)  set oit.status = 'Non trouvé'  where it.reperage_id is null\",\n",
       " 'UPDATE `olivier_it` it LEFT JOIN `assets_filtree_reduced` aa ON aa.asset_id = it.asset_id and it.asset_id != \\'0\\' SET it.status_asset_id = ( CASE WHEN aa.asset_id is not null then \\'Trouvé - bon asset id\\'                           ELSE \"Non Trouvé - Mauvais Asset ID\"                           END                            )',\n",
       " \" UPDATE `olivier_it` it  INNER JOIN `assets_filtree_reduced`aa ON ( it.Nom_de_la_salle = aa.Salle AND it.Nom_de_baie = aa.Rack AND it.Slot_U = CONVERT(aa.Slot_Begin, integer) )        INNER JOIN `IT_Equipment_match_position_reduced_v3` it2 ON it.reperage_id = it2.reperage_id  SET it.status_position = 'Bonne localisation' WHERE  (    aa.model not like '%BL460C%' OR aa.model not like '%BL660C%' OR aa.model not like '%BL20P%' OR aa.model not like '%BL860C%' OR aa.model not like '%BL420C%' OR aa.model not like '%BL680C%' OR aa.model not like '%WS460C%' OR aa.model not like '%BL870C%' )\",\n",
       " \"UPDATE `olivier_it` it  SET it.status_position = 'KO localisation' where it.status_position is null\",\n",
       " 'UPDATE `olivier_it` it INNER JOIN `assets_filtree_reduced` aa ON aa.nom_court  = it.short_name     SET it.status_name = \"OK nom_court\" where it.short_name != \\'\\'',\n",
       " 'UPDATE `olivier_it` it INNER JOIN `assets_filtree_reduced` aa ON aa.nom_long  = it.nom    SET it.status_name = \"OK nom_long\" where it.nom != \\'\\' and status_name is null',\n",
       " 'UPDATE `olivier_it` it INNER JOIN `assets_filtree_reduced` aa ON ( REPLACE(REPLACE(aa.nom_long,\\'_OLD\\',\\'\\'),\\'-OLD\\',\\'\\')  = it.nom  OR REPLACE(REPLACE(aa.nom_court,\\'_OLD\\',\\'\\'),\\'-OLD\\',\\'\\')  = it.short_name ) AND aa.asset_id = it.asset_id   SET it.status_name = (CASE WHEN nom_court like \\'%OLD\\' and  nom !=\\'\\' THEN \"nom_court type OLD\"                       WHEN nom_long like \\'%OLD\\' and  short_name !=\\'\\' THEN \"nom_long type OLD\"                       ELSE it.status_name                       END                      )  where (aa.nom_court like \\'%_OLD\\' or aa.nom_long like \\'%_OLD\\' or aa.nom_court like \\'%-OLD\\' or aa.nom_long like \\'%-OLD\\')',\n",
       " 'UPDATE `olivier_it` it INNER JOIN `assets_filtree_reduced` aa ON REPLACE(REPLACE(aa.nom_long,\\'_OLD\\',\\'\\'),\\'-OLD\\',\\'\\')  = it.nom  OR REPLACE(REPLACE(aa.nom_court,\\'_OLD\\',\\'\\'),\\'-OLD\\',\\'\\')  = it.short_name   SET it.status_name = (CASE WHEN nom_court like \\'%OLD\\' and  nom !=\\'\\' THEN \"nom_court type OLD\"                       WHEN nom_long like \\'%OLD\\' and  short_name !=\\'\\' THEN \"nom_long type OLD\"                       ELSE it.status_name                       END                      )  where (aa.nom_court like \\'%_OLD\\' or aa.nom_long like \\'%_OLD\\' or aa.nom_court like \\'%-OLD\\' or aa.nom_long like \\'%-OLD\\') and status_asset_id != \\'Trouvé - bon asset id\\'',\n",
       " 'UPDATE `olivier_it` it SET it.status_name = \"Mauvais nom\" where it.status_name is null',\n",
       " \"UPDATE `olivier_it` it LEFT JOIN `assets_filtree_reduced` aa ON aa.asset_id = it.asset_id and it.asset_id != '0' SET it.status_etat = aa.etat \",\n",
       " '',\n",
       " ' UPDATE `olivier_it` it INNER JOIN `assets_filtree_reduced` aa ON ( REPLACE(REPLACE(aa.nom_court,\\'_OLD\\',\\'\\'),\\'-OLD\\',\\'\\')  = it.nom  OR REPLACE(REPLACE(aa.nom_court,\\'_OLD\\',\\'\\'),\\'-OLD\\',\\'\\')  = it.short_name )  SET it.status_etat = aa.etat where status_name = \"nom_court type OLD\" ',\n",
       " '',\n",
       " ' UPDATE `olivier_it` it INNER JOIN `assets_filtree_reduced` aa ON ( REPLACE(REPLACE(aa.nom_long,\\'_OLD\\',\\'\\'),\\'-OLD\\',\\'\\')  = it.nom  OR REPLACE(REPLACE(aa.nom_long,\\'_OLD\\',\\'\\'),\\'-OLD\\',\\'\\')  = it.short_name ) SET it.status_etat = aa.etat where status_name = \"nom_long type OLD\" ',\n",
       " '',\n",
       " ' UPDATE `olivier_it` it INNER JOIN `assets_filtree_reduced` aa ON ( REPLACE(REPLACE(aa.nom_court,\\'_OLD\\',\\'\\'),\\'-OLD\\',\\'\\')  = it.nom  OR REPLACE(REPLACE(aa.nom_court,\\'_OLD\\',\\'\\'),\\'-OLD\\',\\'\\')  = it.short_name ) AND aa.asset_id = it.asset_id  SET it.status_etat = aa.etat where status_name = \"nom_court type OLD\" and status_asset_id != \\'Trouvé - bon asset id\\'',\n",
       " ' UPDATE `olivier_it` it INNER JOIN `assets_filtree_reduced` aa ON ( REPLACE(REPLACE(aa.nom_long,\\'_OLD\\',\\'\\'),\\'-OLD\\',\\'\\')  = it.nom  OR REPLACE(REPLACE(aa.nom_long,\\'_OLD\\',\\'\\'),\\'-OLD\\',\\'\\')  = it.short_name ) AND aa.asset_id = it.asset_id SET it.status_etat = aa.etat where status_name = \"nom_long type OLD\" and status_asset_id != \\'Trouvé - bon asset id\\'',\n",
       " \"UPDATE `olivier_it` it  SET it.status_etat = 'KO Etat_CMDB' where it.status_etat is null\",\n",
       " 'UPDATE `olivier_it` it  SET it.Status_spec = \"Trouvé - Patch Panel\" where type like \\'%Patch Panel%\\' or fabricant in (\\'Arista\\', \\'Alcatel-Lucent\\')',\n",
       " '',\n",
       " \" UPDATE `olivier_it` it SET it.Status_spec = 'Trouvé - PCP Mal documenté' where (it.Nom like '%compute%' or it.short_name like '%compute%' or reperage_id like '%compute%') or  (it.Nom like '%_Rack%' or it.short_name like '%_Rack%' or reperage_id like '%_Rack%') and (asset_id is null or asset_id ='0' or asset_id ='')\",\n",
       " '',\n",
       " \"UPDATE `olivier_it` it SET it.status_etat_hpe =      (CASE WHEN status_asset_id != 'Trouvé - bon asset id' AND status_position = 'KO localisation' and status_spec is null THEN 'pas asset id & pas de localisation'      WHEN status_asset_id != 'Trouvé - bon asset id' AND status_position != 'KO localisation' and status_spec is null THEN 'pas asset id & localisation'      WHEN status_asset_id = 'Trouvé - bon asset id' AND status_position != 'KO localisation' and status_spec is null THEN status_etat      WHEN status_asset_id = 'Trouvé - bon asset id' AND status_position = 'KO localisation' and status_spec is null THEN 'asset id & pas de localisation'      WHEN status_spec is not null then status_spec      END     )                   \",\n",
       " '',\n",
       " 'UPDATE olivier_it  set status_global = concat(status_asset_id , \\' - \\' , status_position , \\' - \\' , status_name, \" - \" , status_etat )',\n",
       " '',\n",
       " 'UPDATE olivier_it  set status_cc = concat(\"6Sigma Hpe \", status_hpe , \\' - \\' ,                        \"6Sigma C2 \" , status,  \\' - \\' ,                        \"CHIPRE \", status_etat_hpe ) ',\n",
       " '']"
      ]
     },
     "execution_count": 130,
     "metadata": {},
     "output_type": "execute_result"
    }
   ],
   "source": [
    "query_list"
   ]
  }
 ],
 "metadata": {
  "kernelspec": {
   "display_name": "Python 3 (ipykernel)",
   "language": "python",
   "name": "python3"
  },
  "language_info": {
   "codemirror_mode": {
    "name": "ipython",
    "version": 3
   },
   "file_extension": ".py",
   "mimetype": "text/x-python",
   "name": "python",
   "nbconvert_exporter": "python",
   "pygments_lexer": "ipython3",
   "version": "3.9.7"
  }
 },
 "nbformat": 4,
 "nbformat_minor": 5
}
