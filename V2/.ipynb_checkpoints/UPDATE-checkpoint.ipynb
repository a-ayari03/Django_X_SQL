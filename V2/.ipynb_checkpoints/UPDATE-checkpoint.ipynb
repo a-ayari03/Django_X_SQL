{
 "cells": [
  {
   "cell_type": "markdown",
   "id": "d2bf178c",
   "metadata": {},
   "source": [
    "# UPDATE"
   ]
  },
  {
   "cell_type": "code",
   "execution_count": null,
   "id": "2fef0dd5",
   "metadata": {},
   "outputs": [],
   "source": [
    "UPDATE IT_Equipment_v2 it\n",
    "set it.status = NULL"
   ]
  },
  {
   "cell_type": "markdown",
   "id": "d0d1d8d5",
   "metadata": {},
   "source": [
    "### `OK-CMDB-ASSET-ID`"
   ]
  },
  {
   "cell_type": "code",
   "execution_count": null,
   "id": "11cdf45f",
   "metadata": {},
   "outputs": [],
   "source": [
    "-- 1988 rows affected\n",
    "UPDATE `IT_Equipment_v2` it\n",
    "INNER JOIN `assets_filtree_v2` aa\n",
    "ON aa.asset_id = it.asset_id\n",
    "and it.asset_id != '0'\n",
    "SET it.status = 'OK-CMDB-ASSET-ID'"
   ]
  },
  {
   "cell_type": "markdown",
   "id": "97e23db2",
   "metadata": {},
   "source": [
    "### `'ASSET_ID OK / SHORT_NAME MISMATCH'`"
   ]
  },
  {
   "cell_type": "markdown",
   "id": "072f2d9a",
   "metadata": {},
   "source": [
    "##### 0 resultat affiché, ils sont tous contenu dans le OK-CMDB-ASSET-ID"
   ]
  },
  {
   "cell_type": "code",
   "execution_count": null,
   "id": "d193b7ec",
   "metadata": {},
   "outputs": [],
   "source": [
    "UPDATE `IT_Equipment_v2` it\n",
    "INNER JOIN `assets_filtree_v2` aa\n",
    "ON aa.nom_long = it.nom or (aa.nom_court = it.short_name and it.short_name !=0)\n",
    "set it.status = 'ASSET_ID OK / SHORT_NAME MISMATCH'\n",
    "where it.status is null"
   ]
  },
  {
   "cell_type": "markdown",
   "id": "737dc350",
   "metadata": {},
   "source": [
    "### `Asset_ID affiché`"
   ]
  },
  {
   "cell_type": "code",
   "execution_count": null,
   "id": "0d86d3b5",
   "metadata": {},
   "outputs": [],
   "source": [
    "UPDATE `IT_Equipment_v2` it\n",
    "INNER JOIN `assets_filtree_v2` aa on LEFT(aa.nom_court, length(aa.nom_court) - 3) = it.short_name\n",
    "where it.type = 'Serveurs' and it.status is null"
   ]
  },
  {
   "cell_type": "markdown",
   "id": "e89e2fce",
   "metadata": {},
   "source": [
    "### `OK-POSITION`"
   ]
  },
  {
   "cell_type": "code",
   "execution_count": null,
   "id": "933e03ee",
   "metadata": {},
   "outputs": [],
   "source": [
    "-- 596\n",
    "UPDATE `IT_Equipment_v2` it \n",
    "INNER JOIN `assets_filtree_v2`aa\n",
    "ON (\n",
    "\tit.Nom_de_la_salle = aa.Salle\n",
    "AND\n",
    "\tit.Nom_de_baie = aa.Rack\n",
    "AND\n",
    "\tit.Slot_U = CONVERT(aa.Slot_Begin, integer)\n",
    "\t)  \n",
    "    \n",
    "INNER JOIN `IT_Equipment_match_position_reduced_v2` it2\n",
    "ON it.reperage_id = it2.reperage_id\n",
    "\n",
    "SET it.status = Concat('OK-POSITION:', it2.rowNumber)\n",
    "\n",
    "WHERE it.status is null AND (\n",
    "   aa.model not like '%BL460C%'\n",
    "OR aa.model not like '%BL660C%'\n",
    "OR aa.model not like '%BL20P%'\n",
    "OR aa.model not like '%BL860C%'\n",
    "OR aa.model not like '%BL420C%'\n",
    "OR aa.model not like '%BL680C%'\n",
    "OR aa.model not like '%WS460C%'\n",
    "OR aa.model not like '%BL870C%' )"
   ]
  },
  {
   "cell_type": "markdown",
   "id": "b1508f3e",
   "metadata": {},
   "source": [
    "## `NOM DU FABRICANT : ASSET_ID`"
   ]
  },
  {
   "cell_type": "markdown",
   "id": "aa8c36c3",
   "metadata": {},
   "source": [
    "### netapp & ATTO & Brocade"
   ]
  },
  {
   "cell_type": "code",
   "execution_count": null,
   "id": "fdaa41dd",
   "metadata": {},
   "outputs": [],
   "source": [
    "115 rows affected\n",
    "UPDATE   `IT_Equipment_v2` it\n",
    " LEFT JOIN `it_built_system_NAS_v2` it2\n",
    " ON        it2.nom_de_baie = it.nom_de_baie \n",
    " AND       it2.nom_de_la_salle = it.nom_de_la_salle\n",
    " AND\t\t  it2.fabricant = it.fabricant\n",
    "\n",
    "SET it.status = ( \n",
    "    \t\t\tCASE WHEN it.status is null and it2.status is not null then Concat(it.fabricant, ' : ', it2.asset_id) \n",
    "        \t  \tWHEN it.status is null and it2.status is null and (it.asset_id is null or it.asset_id ='0') then  Concat(it.fabricant, ' : No Match') \n",
    "        \t\tEND )\n",
    "                \n",
    "WHERE it.status is NULL \n",
    "AND (it.fabricant like 'netapp%' or it.fabricant like 'ATTO%' or it.fabricant like 'Brocade%')"
   ]
  },
  {
   "cell_type": "markdown",
   "id": "c6b3054d",
   "metadata": {},
   "source": [
    "### Exadata"
   ]
  },
  {
   "cell_type": "code",
   "execution_count": null,
   "id": "214bad49",
   "metadata": {},
   "outputs": [],
   "source": [
    "61 rows affected\n",
    "UPDATE   `IT_Equipment_v2` it\n",
    " LEFT JOIN `it_build_system_EXADATA_v2` it2\n",
    " ON        it2.nom_de_baie = it.nom_de_baie \n",
    " AND       it2.nom_de_la_salle = it.nom_de_la_salle\n",
    " AND\t\t  it2.fabricant = it.fabricant\n",
    "\n",
    "SET it.status = ( \n",
    "    \t\t\tCASE WHEN it.status is null and it2.status is not null then Concat(it.fabricant, ' : ', it2.asset_id) \n",
    "        \t  \tWHEN it.status is null and it2.status is null and (it.asset_id is null or it.asset_id ='0') then  Concat(it.fabricant, ' : No Match') \n",
    "        \t\tEND )\n",
    "                \n",
    "WHERE it.status is NULL \n",
    "AND (it.fabricant like '%oracle%')"
   ]
  },
  {
   "cell_type": "markdown",
   "id": "a55f0f1d",
   "metadata": {},
   "source": [
    "### HPC"
   ]
  },
  {
   "cell_type": "code",
   "execution_count": null,
   "id": "ca2e5831",
   "metadata": {},
   "outputs": [],
   "source": [
    "45 rows affected\n",
    "UPDATE `IT_Equipment_v2` it\n",
    " LEFT JOIN `it_build_system_HPC_v2` it2\n",
    " ON (LEFT(it.Nom,6)) = it2.root_ferme\n",
    "\n",
    "SET it.status = ( \n",
    "    \t\t\tCASE WHEN it.status is null and it2.status is not null then Concat(it.fabricant, ' : ', it2.root_ferme) \n",
    "        \t  \tWHEN it.status is null and it2.status is null and (it.asset_id is null or it.asset_id ='0') then  Concat(it.fabricant, ' : No Match') \n",
    "        \t\tEND )\n",
    "\n",
    "WHERE (it.nom like '%HPC%' \n",
    "OR it.long_name like '%HPC%') and it.status is NULL"
   ]
  },
  {
   "cell_type": "markdown",
   "id": "8c54a348",
   "metadata": {},
   "source": [
    "### HANNA"
   ]
  },
  {
   "cell_type": "code",
   "execution_count": null,
   "id": "c1d3dc23",
   "metadata": {},
   "outputs": [],
   "source": [
    "72 ROWS\n",
    "UPDATE `IT_Equipment_v2` it\n",
    "  LEFT JOIN `it_build_system_HANNA_v2` it2\n",
    " ON        it2.nom_de_baie = it.nom_de_baie \n",
    " AND       it2.nom_de_la_salle = it.nom_de_la_salle\n",
    " AND\t\t  it2.fabricant = it.fabricant\n",
    "\n",
    "SET it.status =(CASE WHEN it.status is null and it2.status is not null then Concat(it.fabricant, ' : ', it2.asset_id) \n",
    "\t\t\t\tWHEN it.status is null and it2.status is null and (it.asset_id is null or it.asset_id ='0') then  Concat(it.fabricant, ' : No Match') \n",
    "        \t\tEND ) \n",
    "\n",
    "WHERE it.status is null and (it.nom_de_baie like '%hana%' OR it.nom like '%hana%')"
   ]
  },
  {
   "cell_type": "markdown",
   "id": "6fbc5183",
   "metadata": {},
   "source": [
    "### Ring"
   ]
  },
  {
   "cell_type": "code",
   "execution_count": null,
   "id": "144f2c2b",
   "metadata": {},
   "outputs": [],
   "source": [
    "9 rows\n",
    "UPDATE `IT_Equipment_v2` it\n",
    "  LEFT JOIN `it_build_system_RING_v2` it2\n",
    " ON        it2.nom_de_baie = it.nom_de_baie \n",
    " AND       it2.nom_de_la_salle = it.nom_de_la_salle\n",
    " AND\t\t  it2.fabricant = it.fabricant\n",
    "\n",
    "SET it.status =(CASE WHEN it.status is null and it2.status is not null then Concat(it.fabricant, ' : ', it2.asset_id) \n",
    "\t\t\t\tWHEN it.status is null and it2.status is null and (it.asset_id is null or it.asset_id ='0') then  Concat(it.fabricant, ' : No Match') \n",
    "        \t\tEND ) \n",
    "\n",
    "WHERE it.status is NULL and (it.short_name like '%NA9TCR%' \n",
    "OR it.nom like '%NA9TCR%')"
   ]
  },
  {
   "cell_type": "markdown",
   "id": "aeb9e7da",
   "metadata": {},
   "source": [
    "## `'CMDB-OK-OLD'`"
   ]
  },
  {
   "cell_type": "code",
   "execution_count": null,
   "id": "65b348ef",
   "metadata": {},
   "outputs": [],
   "source": [
    "69 rows\n",
    "UPDATE `IT_Equipment_v2` it\n",
    "LEFT JOIN `assets_filtree_v2` aa\n",
    "ON REPLACE(REPLACE(aa.nom_court,'_OLD',''),'-OLD','')  = it.nom \n",
    "OR REPLACE(REPLACE(aa.nom_long,'_OLD',''),'-OLD','')  = it.nom \n",
    "OR REPLACE(REPLACE(aa.nom_court,'_OLD',''),'-OLD','')  = it.short_name \n",
    "OR REPLACE(REPLACE(aa.nom_long,'_OLD',''),'-OLD','')  = it.short_name\n",
    "\n",
    "SET it.status = 'CMDB-OK-OLD'\n",
    "\n",
    "where it.status is NULL and (aa.nom_court like '%_OLD' or aa.nom_long like '%_OLD' or aa.nom_court like '%-OLD' or aa.nom_long like '%-OLD')"
   ]
  }
 ],
 "metadata": {
  "kernelspec": {
   "display_name": "Python 3 (ipykernel)",
   "language": "python",
   "name": "python3"
  },
  "language_info": {
   "codemirror_mode": {
    "name": "ipython",
    "version": 3
   },
   "file_extension": ".py",
   "mimetype": "text/x-python",
   "name": "python",
   "nbconvert_exporter": "python",
   "pygments_lexer": "ipython3",
   "version": "3.9.7"
  }
 },
 "nbformat": 4,
 "nbformat_minor": 5
}
