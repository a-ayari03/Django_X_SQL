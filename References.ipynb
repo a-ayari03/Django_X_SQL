{
 "cells": [
  {
   "cell_type": "markdown",
   "id": "072e555a-8e82-42c8-976a-ce29461fc5f2",
   "metadata": {},
   "source": [
    "# Références"
   ]
  },
  {
   "cell_type": "markdown",
   "id": "ae2f111e-9600-4831-aaca-6b03589033f6",
   "metadata": {},
   "source": [
    "But : S'assurer que les workflows de Olivier_it c'est lancé sans soucis.\n",
    "\n",
    "Chaque ligne provient d'une base de donnée (visible avec l'attribut from_source). Si l'attribut from_source est différent, cela signifie que l'équipement n'est plus disponible dans la base des références (suppression ou ajout dans la base olivier_it)"
   ]
  },
  {
   "cell_type": "markdown",
   "id": "f9ce2e25-2acb-452f-b840-c6e5c309c4ff",
   "metadata": {},
   "source": [
    "| modele | Type | fabricant | nom | SHORT_NAME | SERIAL_NUMBER | ASSET_ID | ASSET_TAG | Asset_Number | Nom_de_la_salle | reperage_id_origin | reperage_id | End_Move_Target | Status_hpe | Salle_Dest | Rack_U_Dest | olivier_index | PROJET_Responsable | from_source | status_6Sigma | status_CMDB | status_position_6Sigma | status_position_CMDB | status_hauteur | STATUS_2 | Nom_de_baie | Slot_u | STATUS_3 | ASSET_ID_OK_POSITION | status | status_asset_id | status_position | status_name | status_etat | status_global | status_etat_hpe | status_spec | status_cc |\n",
    "| ---------- | ---------- | ---------- | ---------- | ---------- | ---------- | ---------- | ---------- | ---------- | ---------- | ---------- | ---------- | ---------- | ---------- | ---------- | ---------- | ---------- | ---------- | ---------- | ---------- | ---------- | ---------- | ---------- | ---------- | ---------- | ---------- | ---------- | ---------- | ---------- | ---------- | ---------- | ---------- | ---------- | ---------- | ---------- | ---------- | ---------- | ---------- |\n",
    "SunFire V480  | Serveurs  | Sun  | SU363  | SU363AOS  | 0428AN005C  | M-1000036685  | 2658816  | 2658816  | P3  | M19:Slot 24  | M19:Slot 24  | 0  |  |  |  |  |  | 6SIGMA  | OK  | OK  | KO  | KO  | NULL | NULL | M19  | 24  | NULL | NULL | Non trouvé  | Trouvé - bon asset id  | Bonne localisation  | OK nom_court  | Installed  | Trouvé - bon asset id - Bonne localisation - OK no...  | Installed  | NULL | 6Sigma Hpe  - 6Sigma C2 Non trouvé - CHIPRE Instal...\n",
    "GEN6 X6-8 | Switch SAN | BROCADE | SANDCX-02A | EZA4046P009 | EZA4046P009 | M-0000905174 | RN001596 | RN001596 | P3 | AA22:Slot 05 | AA22:Slot 05 | | | | | | | CMDB | OK | OK | KO | OK | NULL| NULL| AA22 | 05 | NULL| NULL| Non trouvé | Trouvé - bon asset id | Bonne localisation | OK nom_long | Installed | Trouvé - bon asset id - Bonne localisation - OK nom_long - Installed | Installed | NULL| 6Sigma Hpe  - 6Sigma C2 Non trouvé - CHIPRE Installed |\n",
    "Proxy SG8100 | Server | Blue Coat | COSMOS2 | COSMOS2 | 909116012 | M-0000259520 | AF047230 | AF047230 | P1 | A26:Slot 06 | A26:Slot 06 | Balai Clean | 6sigma Hpe | | | P1A26:Slot 06 | 2-Exit P1/P2 | Olivier_it | OK | OK | KO | OK | NULL| NULL| A26 | 06 | NULL| NULL| Commun | Trouvé - bon asset id | Bonne localisation | OK nom_court | Installed | Trouvé - bon asset id - Bonne localisation - OK nom_court - Installed | Installed | NULL| 6Sigma Hpe 6sigma Hpe - 6Sigma C2 Commun - CHIPRE Installed\n",
    "\n",
    "\n"
   ]
  }
 ],
 "metadata": {
  "kernelspec": {
   "display_name": "Python 3 (ipykernel)",
   "language": "python",
   "name": "python3"
  },
  "language_info": {
   "codemirror_mode": {
    "name": "ipython",
    "version": 3
   },
   "file_extension": ".py",
   "mimetype": "text/x-python",
   "name": "python",
   "nbconvert_exporter": "python",
   "pygments_lexer": "ipython3",
   "version": "3.9.7"
  }
 },
 "nbformat": 4,
 "nbformat_minor": 5
}
