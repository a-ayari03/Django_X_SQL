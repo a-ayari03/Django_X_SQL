{
 "cells": [
  {
   "cell_type": "markdown",
   "id": "1350e5af",
   "metadata": {},
   "source": [
    "# TIPS"
   ]
  },
  {
   "cell_type": "markdown",
   "id": "08e03777",
   "metadata": {},
   "source": [
    "CONVERT(Slot_begin, integer)"
   ]
  },
  {
   "cell_type": "markdown",
   "id": "8be4e420",
   "metadata": {},
   "source": [
    "( assets.`CONTAINER` LIKE '%uest' OR\n",
    "   assets.`CONTAINER` = 'SUN zone' OR\n",
    "   assets.`CONTAINER` = 'HP vpar' )"
   ]
  },
  {
   "cell_type": "markdown",
   "id": "6985f494",
   "metadata": {},
   "source": [
    "# Creation / Alteration de table"
   ]
  },
  {
   "cell_type": "markdown",
   "id": "089ff25a",
   "metadata": {},
   "source": [
    "CREATE TABLE assets_filtree_stockage_réseau\n",
    "AS \n",
    "SELECT *\n",
    "FROM `assets_filtree`\n",
    "WHERE YPE IN ('networkcomponents','storage')"
   ]
  },
  {
   "cell_type": "markdown",
   "id": "0822e699",
   "metadata": {},
   "source": [
    "Ajout des colonnes pour les coordonnees d'equipements\n",
    "ALTER TABLE assets_filtree\n",
    "ADD COLUMN STATUS varchar(255),\n",
    "ADD COLUMN emplacement varchar(255),\n",
    "ADD COLUMN Rack varchar(255),\n",
    "ADD COLUMN Slot varchar(255),\n",
    "ADD COLUMN Slot_begin varchar(255),\n",
    "ADD COLUMN Slot_end varchar(255);"
   ]
  },
  {
   "cell_type": "markdown",
   "id": "0bc745de",
   "metadata": {},
   "source": [
    "# Compteur"
   ]
  },
  {
   "cell_type": "markdown",
   "id": "8d32967d",
   "metadata": {},
   "source": [
    "SELECT count(*) count, TYPE\n",
    "from `IT_Equipment`\n",
    "where STATUS is null\n",
    "GROUP BY TYPE"
   ]
  },
  {
   "cell_type": "markdown",
   "id": "792061ef",
   "metadata": {},
   "source": [
    "SELECT count(*) count, YPE\n",
    "from `assets_filtree_stockage_réseau`\n",
    "where STATUS is null\n",
    "GROUP BY YPE"
   ]
  },
  {
   "cell_type": "markdown",
   "id": "dc46db7f",
   "metadata": {},
   "source": [
    "# Query"
   ]
  },
  {
   "cell_type": "code",
   "execution_count": null,
   "id": "32b1e554",
   "metadata": {},
   "outputs": [],
   "source": [
    "select it.asset_id asset_id_id, it.short_name, it.nom, it.status status_it, it.fabricant, it.modele, it.reperage_ID\n",
    "from `IT_Equipment` it\n",
    "where it.status is null and it.type in ('Stockage', 'Routeurs')"
   ]
  },
  {
   "cell_type": "code",
   "execution_count": null,
   "id": "23d9f452",
   "metadata": {},
   "outputs": [],
   "source": [
    "FOCUS sur un asset null\n",
    "select it.asset_id asset_id_id, it.short_name, it.nom, it.status status_it, it.fabricant, it.modele, it.reperage_ID\n",
    "from `IT_Equipment` it\n",
    "where SHORT_NAME like '%RCT2%' OR nom like '%RCT2%'"
   ]
  },
  {
   "cell_type": "markdown",
   "id": "e021c273",
   "metadata": {},
   "source": [
    "### doublon"
   ]
  },
  {
   "cell_type": "code",
   "execution_count": null,
   "id": "67dead91",
   "metadata": {},
   "outputs": [],
   "source": [
    "FOCUS sur un asset null\n",
    "select it.asset_id asset_id_id, it.short_name, it.nom, it.status status_it, it.fabricant, it.modele, it.reperage_ID\n",
    "from `IT_Equipment` it\n",
    "where nom like '%RCT2MF01%'\n"
   ]
  },
  {
   "cell_type": "markdown",
   "id": "864a7450",
   "metadata": {},
   "source": [
    "### N'existe pas"
   ]
  },
  {
   "cell_type": "code",
   "execution_count": null,
   "id": "3594c9cf",
   "metadata": {},
   "outputs": [],
   "source": [
    "select it.asset_id asset_id_id, it.short_name, it.nom, it.status status_it, it.fabricant, it.modele, it.reperage_ID\n",
    "from `IT_Equipment` it\n",
    "where it.status is null"
   ]
  },
  {
   "cell_type": "code",
   "execution_count": null,
   "id": "c70556fb",
   "metadata": {},
   "outputs": [],
   "source": [
    "SELECT ASSET_ID, NOM_COURT, NOM_LONG, FABRICANT, MODEL, DALLE\n",
    "from `assets_filtree_stockage_réseau` aa\n",
    "where aa.status is null and NOM_COURT = 'RCT2ST14'"
   ]
  },
  {
   "cell_type": "markdown",
   "id": "b80d8367",
   "metadata": {},
   "source": [
    "## networkcomponents TYPE"
   ]
  },
  {
   "cell_type": "markdown",
   "id": "b8b63da8",
   "metadata": {},
   "source": [
    "# Liste des it_equipements sans status"
   ]
  },
  {
   "cell_type": "code",
   "execution_count": null,
   "id": "d2103b77",
   "metadata": {},
   "outputs": [],
   "source": [
    "select it.asset_id asset_id_id, it.short_name, it.nom, it.status status_it, it.fabricant, it.modele, it.reperage_ID, Nom_de_la_salle, Nom_de_baie, Slot_U, Hauteur_U\n",
    "from `IT_Equipment` it\n",
    "where it.status is null and it.type in ('Stockage', 'Routeurs')\n",
    "\n",
    "-- equivalent assets\n",
    "SELECT ASSET_ID, NOM_COURT, NOM_LONG, FABRICANT, MODEL, DALLE\n",
    "from `assets_filtree` aa"
   ]
  },
  {
   "cell_type": "markdown",
   "id": "66fca8db",
   "metadata": {},
   "source": [
    "### Modele : DS224C"
   ]
  },
  {
   "cell_type": "markdown",
   "id": "1da0d810",
   "metadata": {},
   "source": [
    "Plusieurs fois le même model avec un seul match. "
   ]
  },
  {
   "cell_type": "code",
   "execution_count": null,
   "id": "a9bfe45b",
   "metadata": {},
   "outputs": [],
   "source": []
  },
  {
   "cell_type": "markdown",
   "id": "857faf11",
   "metadata": {},
   "source": [
    "select it.asset_id asset_id_id, it.short_name, it.nom, it.status status_it, it.fabricant, it.modele, it.reperage_ID, Nom_de_la_salle, Nom_de_baie, Slot_U, Hauteur_U\n",
    "from `IT_Equipment` it\n",
    "where modele = 'DS224C'\n",
    "\n",
    "-- assets\n",
    "SELECT ASSET_ID, NOM_COURT, NOM_LONG, FABRICANT, MODEL, DALLE\n",
    "from `assets_filtree` aa\n",
    "where model like '%DS224C%' and status is null"
   ]
  },
  {
   "cell_type": "markdown",
   "id": "e2e63d22",
   "metadata": {},
   "source": [
    "# Update"
   ]
  },
  {
   "cell_type": "markdown",
   "id": "71e0f204",
   "metadata": {},
   "source": [
    "## Match sur les coordonnees"
   ]
  },
  {
   "cell_type": "code",
   "execution_count": null,
   "id": "613a74b2",
   "metadata": {},
   "outputs": [],
   "source": [
    "UPDATE `assets_filtree` aa\n",
    "INNER JOIN \n",
    "\t`IT_Equipment` it \n",
    "ON \n",
    "\tit.Nom_de_la_salle = aa.Salle\n",
    "AND\n",
    "\tit.Nom_de_baie = aa.Rack\n",
    "AND\n",
    "\tit.Slot_U = CONVERT(aa.Slot_Begin, integer)\n",
    "AND\n",
    "\tit.Hauteur_U = CONVERT(aa.Slot_End, integer) or it.Hauteur_U = CONVERT(aa.Slot_End, integer) - CONVERT(aa.Slot_Begin, integer)\n",
    "\n",
    "SET aa.status = 'OK-POSITION',\n",
    "\tit.status = 'OK-POSITION'\n",
    "\n",
    "WHERE aa.status is null and it.status is null"
   ]
  }
 ],
 "metadata": {
  "kernelspec": {
   "display_name": "Python 3 (ipykernel)",
   "language": "python",
   "name": "python3"
  },
  "language_info": {
   "codemirror_mode": {
    "name": "ipython",
    "version": 3
   },
   "file_extension": ".py",
   "mimetype": "text/x-python",
   "name": "python",
   "nbconvert_exporter": "python",
   "pygments_lexer": "ipython3",
   "version": "3.9.7"
  }
 },
 "nbformat": 4,
 "nbformat_minor": 5
}
