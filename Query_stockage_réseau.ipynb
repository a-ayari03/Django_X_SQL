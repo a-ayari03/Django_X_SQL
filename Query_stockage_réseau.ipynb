{
 "cells": [
  {
   "cell_type": "markdown",
   "id": "1350e5af",
   "metadata": {},
   "source": [
    "# TIPS"
   ]
  },
  {
   "cell_type": "code",
   "execution_count": null,
   "id": "b3bdb6cb",
   "metadata": {},
   "outputs": [],
   "source": [
    "CONVERT(Slot_begin, integer)"
   ]
  },
  {
   "cell_type": "code",
   "execution_count": null,
   "id": "ced7ce3f",
   "metadata": {},
   "outputs": [],
   "source": [
    "( assets.`CONTAINER` LIKE '%uest' OR\n",
    "   assets.`CONTAINER` = 'SUN zone' OR\n",
    "   assets.`CONTAINER` = 'HP vpar' )"
   ]
  },
  {
   "cell_type": "markdown",
   "id": "6985f494",
   "metadata": {},
   "source": [
    "# Creation / Alteration de table"
   ]
  },
  {
   "cell_type": "code",
   "execution_count": null,
   "id": "3f16abc0",
   "metadata": {},
   "outputs": [],
   "source": [
    "CREATE TABLE assets_filtree_stockage_réseau\n",
    "AS \n",
    "SELECT *\n",
    "FROM `assets_filtree`\n",
    "WHERE YPE IN ('networkcomponents','storage')"
   ]
  },
  {
   "cell_type": "code",
   "execution_count": null,
   "id": "66e345a7",
   "metadata": {},
   "outputs": [],
   "source": [
    "Ajout des colonnes pour les coordonnees d'equipements\n",
    "ALTER TABLE assets_filtree\n",
    "ADD COLUMN STATUS varchar(255),\n",
    "ADD COLUMN emplacement varchar(255),\n",
    "ADD COLUMN Rack varchar(255),\n",
    "ADD COLUMN Slot varchar(255),\n",
    "ADD COLUMN Slot_begin varchar(255),\n",
    "ADD COLUMN Slot_end varchar(255);"
   ]
  },
  {
   "cell_type": "markdown",
   "id": "6b1e09b1",
   "metadata": {},
   "source": [
    "# Compteur"
   ]
  },
  {
   "cell_type": "code",
   "execution_count": null,
   "id": "8117bed4",
   "metadata": {},
   "outputs": [],
   "source": [
    "SELECT count(*) count, TYPE\n",
    "from `IT_Equipment`\n",
    "where STATUS is null\n",
    "GROUP BY TYPE"
   ]
  },
  {
   "cell_type": "code",
   "execution_count": null,
   "id": "f95c87a5",
   "metadata": {},
   "outputs": [],
   "source": [
    "SELECT count(*) count, YPE\n",
    "from `assets_filtree_stockage_réseau`\n",
    "where STATUS is null\n",
    "GROUP BY YPE"
   ]
  },
  {
   "cell_type": "code",
   "execution_count": null,
   "id": "9a5a1530",
   "metadata": {},
   "outputs": [],
   "source": [
    "select COUNT(STATUS), status\n",
    "from `assets_filtree`\n",
    "GROUP BY STATUS\n",
    "ORDER BY COUNT(STATUS) desc"
   ]
  },
  {
   "cell_type": "code",
   "execution_count": null,
   "id": "ae577285",
   "metadata": {},
   "outputs": [],
   "source": [
    "select COUNT(STATUS), status\n",
    "from `IT_Equipment`\n",
    "GROUP BY STATUS\n",
    "ORDER BY COUNT(STATUS) desc"
   ]
  },
  {
   "cell_type": "code",
   "execution_count": null,
   "id": "1bcc5ecb",
   "metadata": {},
   "outputs": [],
   "source": [
    "select count(*)\n",
    "from `IT_Equipment`\n",
    "where status is null"
   ]
  },
  {
   "cell_type": "markdown",
   "id": "dc46db7f",
   "metadata": {},
   "source": [
    "# Query"
   ]
  },
  {
   "cell_type": "code",
   "execution_count": null,
   "id": "c3d47942",
   "metadata": {},
   "outputs": [],
   "source": [
    "select it.asset_id asset_id_id, it.short_name, it.nom, it.status status_it, it.fabricant, it.modele, it.reperage_ID\n",
    "from `IT_Equipment` it\n",
    "where it.status is null and it.type in ('Stockage', 'Routeurs', 'Switchs (Commutateurs)')"
   ]
  },
  {
   "cell_type": "code",
   "execution_count": null,
   "id": "23d9f452",
   "metadata": {},
   "outputs": [],
   "source": [
    "FOCUS sur un asset null\n",
    "select it.asset_id asset_id_id, it.short_name, it.nom, it.status status_it, it.fabricant, it.modele, it.reperage_ID\n",
    "from `IT_Equipment` it\n",
    "where SHORT_NAME like '%RCT2%' OR nom like '%RCT2%'"
   ]
  },
  {
   "cell_type": "markdown",
   "id": "fd981329",
   "metadata": {},
   "source": [
    "### doublon"
   ]
  },
  {
   "cell_type": "code",
   "execution_count": null,
   "id": "cf500ccc",
   "metadata": {},
   "outputs": [],
   "source": [
    "FOCUS sur un asset null\n",
    "select it.asset_id asset_id_id, it.short_name, it.nom, it.status status_it, it.fabricant, it.modele, it.reperage_ID\n",
    "from `IT_Equipment` it\n",
    "where nom like '%RCT2MF01%'\n"
   ]
  },
  {
   "cell_type": "markdown",
   "id": "c9c452d9",
   "metadata": {},
   "source": [
    "### N'existe pas"
   ]
  },
  {
   "cell_type": "code",
   "execution_count": null,
   "id": "b9d0fb1d",
   "metadata": {},
   "outputs": [],
   "source": [
    "select it.asset_id asset_id_id, it.short_name, it.nom, it.status status_it, it.fabricant, it.modele, it.reperage_ID\n",
    "from `IT_Equipment` it\n",
    "where it.status is null"
   ]
  },
  {
   "cell_type": "code",
   "execution_count": null,
   "id": "cf75ffe6",
   "metadata": {},
   "outputs": [],
   "source": [
    "SELECT ASSET_ID, NOM_COURT, NOM_LONG, FABRICANT, MODEL, DALLE\n",
    "from `assets_filtree_stockage_réseau` aa\n",
    "where aa.status is null and NOM_COURT = 'RCT2ST14'"
   ]
  },
  {
   "cell_type": "markdown",
   "id": "8d1675ec",
   "metadata": {},
   "source": [
    "## Match sur les coordonnées"
   ]
  },
  {
   "cell_type": "markdown",
   "id": "222e4146",
   "metadata": {},
   "source": [
    "### Coordonnees par position de rack/baie "
   ]
  },
  {
   "cell_type": "code",
   "execution_count": null,
   "id": "6d0020b1",
   "metadata": {},
   "outputs": [],
   "source": [
    "SELECT ASSET_ID, NOM_COURT, NOM_LONG, FABRICANT, MODEL, DALLE, SALLE, Rack, Slot_Begin, Slot_End\n",
    "from `assets_filtree` aa\n",
    "where dalle like '%L15%'\n",
    "order by dalle asc"
   ]
  },
  {
   "cell_type": "code",
   "execution_count": null,
   "id": "fbaddf68",
   "metadata": {},
   "outputs": [],
   "source": [
    "select it.asset_id asset_id_id, it.short_name, it.nom, it.status status_it, it.fabricant, it.modele, it.reperage_ID, Nom_de_la_salle, Nom_de_baie, Slot_U, Hauteur_U\n",
    "from `IT_Equipment` it\n",
    "where Reperage_ID like 'L15:%'\n",
    "order by Reperage_ID asc"
   ]
  },
  {
   "cell_type": "markdown",
   "id": "191c4d64",
   "metadata": {},
   "source": [
    "## Match sur les coordonnées inversées"
   ]
  },
  {
   "cell_type": "markdown",
   "id": "a614d71a",
   "metadata": {},
   "source": [
    "select it.asset_id asset_id_id, it.short_name, it.nom, it.status status_it, it.fabricant, it.modele, it.reperage_ID, it.nom_de_la_salle,\n",
    "it.Nom_de_baie, SUBSTR(it.Nom_de_baie,length(it.Nom_de_baie),length(it.Nom_de_baie)) rp,\n",
    "SUBSTR(it.Nom_de_baie,length(it.Nom_de_baie)-1,length(it.Nom_de_baie)) rp2\n",
    "from `IT_Equipment` it\n",
    "where STATUS is null\n",
    "ORDER BY nom asc\n",
    "\n",
    "----\n",
    "SELECT ASSET_ID, NOM_COURT, NOM_LONG, FABRICANT, MODEL, DALLE, SALLE, Rack, Slot_Begin, Slot_End\n",
    "from `assets_filtree` aa\n",
    "where NOM_COURT like '%ch12%' or NOM_LONG like '%ch12%'\n",
    "order by dalle asc\n"
   ]
  },
  {
   "cell_type": "markdown",
   "id": "4fce8298",
   "metadata": {},
   "source": [
    "## Match sur les extensions : Fex / Netapp, Netapps"
   ]
  },
  {
   "cell_type": "markdown",
   "id": "93513a0b",
   "metadata": {},
   "source": [
    "### Fex"
   ]
  },
  {
   "cell_type": "code",
   "execution_count": null,
   "id": "9a0472e9",
   "metadata": {},
   "outputs": [],
   "source": [
    "select it.asset_id asset_id_id, it.short_name, it.nom, it.status status_it, it.fabricant, it.modele, it.reperage_ID, Nom_de_la_salle, Nom_de_baie, Slot_U, Hauteur_U\n",
    "from `IT_Equipment` it\n",
    "where SHORT_NAME like '%SWC3PC27%' or nom like '%SWC3PC27%'\n",
    "\n",
    "---\n",
    "\n",
    "SELECT ASSET_ID, NOM_COURT, NOM_LONG, FABRICANT, MODEL, DALLE, SALLE, Rack, Slot_Begin, Slot_End\n",
    "from `assets_filtree` aa\n",
    "where NOM_COURT like '%SWC3PC27%' or NOM_LONG like '%SWC3PC27%'\n",
    "order by dalle asc"
   ]
  },
  {
   "cell_type": "markdown",
   "id": "3cbb6262",
   "metadata": {},
   "source": [
    "## NetApp"
   ]
  },
  {
   "cell_type": "code",
   "execution_count": null,
   "id": "166065c8",
   "metadata": {},
   "outputs": [],
   "source": [
    "SELECT ASSET_ID, NOM_COURT, NOM_LONG, FABRICANT, MODEL, DALLE, SALLE, Rack, Slot_Begin, Slot_End, status\n",
    "from `assets_filtree` aa\n",
    "where fabricant like 'NETAPP%'\n",
    "order by dalle asc\n",
    "\n",
    "---\n",
    "select it.asset_id asset_id_id, it.short_name, it.nom, it.status status_it, it.fabricant, it.modele, it.reperage_ID, Nom_de_la_salle, Nom_de_baie, Slot_U, Hauteur_U\n",
    "from `IT_Equipment` it\n",
    "where fabricant like 'NETAPP%'"
   ]
  },
  {
   "cell_type": "markdown",
   "id": "f909d6b3",
   "metadata": {},
   "source": [
    "#### On regroupe tous les extensions sous le même cerveau pour que leur status corresponde au nom du cerveau"
   ]
  },
  {
   "cell_type": "code",
   "execution_count": null,
   "id": "3532eb40",
   "metadata": {},
   "outputs": [],
   "source": [
    "-- Equipment par rack. Si dans une rack y a 1-2 match et le reste est nulle,\n",
    "y a de grande chance qu'il soit des extensions si le fabricant est le meme\n",
    "SELECT nom_de_baie, Nom_de_la_salle, (STATUS), asset_id, Nom\n",
    "\n",
    "FROM `IT_Equipment` it \n",
    "where STATUS is not null\n",
    "GROUP BY nom_de_baie, Nom_de_la_salle\n",
    "order by nom_de_baie desc"
   ]
  },
  {
   "cell_type": "markdown",
   "id": "4cd3fe2d",
   "metadata": {},
   "source": [
    "# Liste des it_equipements sans status"
   ]
  },
  {
   "cell_type": "code",
   "execution_count": null,
   "id": "e70d69d5",
   "metadata": {},
   "outputs": [],
   "source": [
    "select it.asset_id asset_id_id, it.short_name, it.nom, it.status status_it, it.fabricant, it.modele, it.reperage_ID, Nom_de_la_salle, Nom_de_baie, Slot_U, Hauteur_U\n",
    "from `IT_Equipment` it\n",
    "where it.status is null and it.type in ('Stockage', 'Routeurs')\n",
    "\n",
    "-- equivalent assets\n",
    "SELECT ASSET_ID, NOM_COURT, NOM_LONG, FABRICANT, MODEL, DALLE\n",
    "from `assets_filtree` aa"
   ]
  },
  {
   "cell_type": "markdown",
   "id": "4f71f2b1",
   "metadata": {},
   "source": [
    "### Modele : DS224C"
   ]
  },
  {
   "cell_type": "markdown",
   "id": "bd402b88",
   "metadata": {},
   "source": [
    "Plusieurs fois le même model avec un seul match. "
   ]
  },
  {
   "cell_type": "code",
   "execution_count": null,
   "id": "38f3b321",
   "metadata": {},
   "outputs": [],
   "source": []
  },
  {
   "cell_type": "markdown",
   "id": "75dfad94",
   "metadata": {},
   "source": [
    "select it.asset_id asset_id_id, it.short_name, it.nom, it.status status_it, it.fabricant, it.modele, it.reperage_ID, Nom_de_la_salle, Nom_de_baie, Slot_U, Hauteur_U\n",
    "from `IT_Equipment` it\n",
    "where modele = 'DS224C'\n",
    "\n",
    "-- assets\n",
    "SELECT ASSET_ID, NOM_COURT, NOM_LONG, FABRICANT, MODEL, DALLE\n",
    "from `assets_filtree` aa\n",
    "where model like '%DS224C%' and status is null"
   ]
  },
  {
   "cell_type": "markdown",
   "id": "e2e63d22",
   "metadata": {},
   "source": [
    "# Update"
   ]
  },
  {
   "cell_type": "markdown",
   "id": "657657fa",
   "metadata": {},
   "source": [
    "## Match sur les coordonnees"
   ]
  },
  {
   "cell_type": "code",
   "execution_count": null,
   "id": "8b46f62d",
   "metadata": {},
   "outputs": [],
   "source": [
    "Ajout des colonnes des coordonnees en salle\n",
    "UPDATE assets_filtree\n",
    "SET \n",
    "\tRack = SUBSTRING_INDEX(DALLE, '/', 1)  ,\n",
    "\tSlot = SUBSTRING_INDEX(DALLE, '/', -1) ,\n",
    "\tSlot_begin = SUBSTRING_INDEX(SUBSTRING_INDEX(DALLE, '/', -1), '-', 1) ,\n",
    "\tSlot_end = SUBSTRING_INDEX(DALLE, '-', -1)"
   ]
  },
  {
   "cell_type": "code",
   "execution_count": null,
   "id": "0aeb6403",
   "metadata": {},
   "outputs": [],
   "source": [
    "41 rows affected. (Query took 51.4745 seconds.)\n",
    "SELECT it.Nom_de_la_salle, aa.Salle,\n",
    "it.Nom_de_baie Nom_de_baie_it, aa.Rack,\n",
    "it.Slot_U Slot_U_it, CONVERT(aa.Slot_Begin, integer) Slot_Begin,\n",
    "it.Hauteur_U Hauteur_U_it, CONVERT(aa.Slot_End, integer) Slot_End,\n",
    "CONVERT(aa.Slot_End, integer) - CONVERT(aa.Slot_Begin, integer) delta_slot\n",
    "FROM `assets_filtree` aa\n",
    "INNER JOIN \n",
    "\t`IT_Equipment` it \n",
    "ON \n",
    "\tit.Nom_de_la_salle = aa.Salle\n",
    "AND\n",
    "\tit.Nom_de_baie = aa.Rack\n",
    "AND\n",
    "\tit.Slot_U = CONVERT(aa.Slot_Begin, integer)\n",
    "AND\n",
    "\t(it.Hauteur_U = CONVERT(aa.Slot_End, integer) or it.Hauteur_U = CONVERT(aa.Slot_End, integer) - CONVERT(aa.Slot_Begin, integer))"
   ]
  },
  {
   "cell_type": "code",
   "execution_count": null,
   "id": "a0c9ddfe",
   "metadata": {},
   "outputs": [],
   "source": [
    "UPDATE `assets_filtree` aa\n",
    "INNER JOIN \n",
    "\t`IT_Equipment` it \n",
    "ON \n",
    "\tit.Nom_de_la_salle = aa.Salle\n",
    "AND\n",
    "\tit.Nom_de_baie = aa.Rack\n",
    "AND\n",
    "\tit.Slot_U = CONVERT(aa.Slot_Begin, integer)\n",
    "SET aa.status = 'OK-POSITION',\n",
    "\tit.status = 'OK-POSITION'\n",
    "\n",
    "WHERE aa.status is null and it.status is null"
   ]
  },
  {
   "cell_type": "markdown",
   "id": "4b92e4b3",
   "metadata": {},
   "source": [
    "## Match sur les coordonnées inversées (en cours)"
   ]
  },
  {
   "cell_type": "markdown",
   "id": "477f7ee2",
   "metadata": {},
   "source": [
    "## **Exemple** :\n",
    "- IT_Equipment.reperage_ID = 24J/..\n",
    "- assets_filtree.Dalle = J24:.."
   ]
  },
  {
   "cell_type": "code",
   "execution_count": null,
   "id": "1fe0da8c",
   "metadata": {},
   "outputs": [],
   "source": [
    "select it.asset_id asset_id_id, it.short_name, it.nom, it.status status_it, it.fabricant, it.modele, it.reperage_ID, it.nom_de_la_salle,\n",
    "it.Nom_de_baie, SUBSTR(it.Nom_de_baie,length(it.Nom_de_baie),length(it.Nom_de_baie)) rp,\n",
    "SUBSTR(it.Nom_de_baie,length(it.Nom_de_baie)-1,length(it.Nom_de_baie)) rp2\n",
    "from `IT_Equipment` it \n",
    "INNER JOIN  `assets_filtree` aa\n",
    "\n",
    "ON \n",
    "\tit.Nom_de_la_salle = aa.Salle\n",
    "AND\n",
    "\t(it.Nom_de_baie = aa.Rack or \n",
    "     SUBSTR(it.Nom_de_baie,length(it.Nom_de_baie),length(it.Nom_de_baie)) = aa.Rack or\n",
    "     SUBSTR(it.Nom_de_baie,length(it.Nom_de_baie),length(it.Nom_de_baie)) = aa.Rack)\n",
    "AND\n",
    "\tit.Slot_U = CONVERT(aa.Slot_Begin, integer)\n",
    "AND\n",
    "\t(it.Hauteur_U = CONVERT(aa.Slot_End, integer) or it.Hauteur_U = CONVERT(aa.Slot_End, integer) - CONVERT(aa.Slot_Begin, integer))\n",
    "\n",
    "WHERE aa.status is null and it.status is null"
   ]
  },
  {
   "cell_type": "code",
   "execution_count": null,
   "id": "861d357d",
   "metadata": {},
   "outputs": [],
   "source": [
    "select\n",
    "(select it.Nom_de_baie REGEXP '%[^0-9]%') rppp,\n",
    "from `IT_Equipment` it\n",
    "where STATUS is null\n",
    "ORDER BY reperage_id asc"
   ]
  },
  {
   "cell_type": "markdown",
   "id": "0876915b",
   "metadata": {},
   "source": [
    "## Mismatch sur les noms commencant par FRC2HP"
   ]
  },
  {
   "cell_type": "markdown",
   "id": "476e09ad",
   "metadata": {},
   "source": [
    "select it.type, it.asset_id asset_id_id, it.short_name, it.nom, it.status status_it, it.fabricant, it.modele, it.reperage_ID,\n",
    "it.reperage_ID, it.nom_de_la_salle,\n",
    "it.Nom_de_baie\n",
    "from `IT_Equipment` it\n",
    "where SHORT_NAME like '%FRC2HP%' OR nom like '%FRC2HP%'\n",
    "ORDER BY Reperage_ID asc\n",
    "\n",
    "---\n",
    "\n",
    "SELECT ASSET_ID, NOM_COURT, NOM_LONG, FABRICANT, MODEL, DALLE, SALLE, Rack, Slot_Begin, Slot_End, COMPANY\n",
    "from `assets_filtree` aa\n",
    "where NOM_COURT like '%FRC2HP%' and NOM_LONG like '%FRC2HP%' \n",
    "order by dalle asc"
   ]
  }
 ],
 "metadata": {
  "kernelspec": {
   "display_name": "Python 3 (ipykernel)",
   "language": "python",
   "name": "python3"
  },
  "language_info": {
   "codemirror_mode": {
    "name": "ipython",
    "version": 3
   },
   "file_extension": ".py",
   "mimetype": "text/x-python",
   "name": "python",
   "nbconvert_exporter": "python",
   "pygments_lexer": "ipython3",
   "version": "3.9.7"
  }
 },
 "nbformat": 4,
 "nbformat_minor": 5
}
