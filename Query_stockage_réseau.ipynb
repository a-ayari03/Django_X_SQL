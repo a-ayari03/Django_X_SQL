{
 "cells": [
  {
   "cell_type": "markdown",
   "id": "1350e5af",
   "metadata": {},
   "source": [
    "# TIPS"
   ]
  },
  {
   "cell_type": "code",
   "execution_count": null,
   "id": "95bd1f5a",
   "metadata": {},
   "outputs": [],
   "source": [
    "CONVERT(Slot_begin, integer)"
   ]
  },
  {
   "cell_type": "code",
   "execution_count": null,
   "id": "de1b8ee7",
   "metadata": {},
   "outputs": [],
   "source": [
    "( assets.`CONTAINER` LIKE '%uest' OR\n",
    "   assets.`CONTAINER` = 'SUN zone' OR\n",
    "   assets.`CONTAINER` = 'HP vpar' )"
   ]
  },
  {
   "cell_type": "markdown",
   "id": "6985f494",
   "metadata": {},
   "source": [
    "# Creation / Alteration de table"
   ]
  },
  {
   "cell_type": "code",
   "execution_count": null,
   "id": "5dbe2271",
   "metadata": {},
   "outputs": [],
   "source": [
    "CREATE TABLE assets_filtree_stockage_réseau\n",
    "AS \n",
    "SELECT *\n",
    "FROM `assets_filtree`\n",
    "WHERE YPE IN ('networkcomponents','storage')"
   ]
  },
  {
   "cell_type": "code",
   "execution_count": null,
   "id": "95008f3c",
   "metadata": {},
   "outputs": [],
   "source": [
    "Ajout des colonnes pour les coordonnees d'equipements\n",
    "ALTER TABLE assets_filtree\n",
    "ADD COLUMN STATUS varchar(255),\n",
    "ADD COLUMN emplacement varchar(255),\n",
    "ADD COLUMN Rack varchar(255),\n",
    "ADD COLUMN Slot varchar(255),\n",
    "ADD COLUMN Slot_begin varchar(255),\n",
    "ADD COLUMN Slot_end varchar(255);"
   ]
  },
  {
   "cell_type": "markdown",
   "id": "0cf0e9e2",
   "metadata": {},
   "source": []
  },
  {
   "cell_type": "markdown",
   "id": "a11e3078",
   "metadata": {},
   "source": [
    "# VIEW"
   ]
  },
  {
   "cell_type": "markdown",
   "id": "af8a04c6",
   "metadata": {},
   "source": [
    "System 2-en-1 avec chassis + server. Y aura 2 objects differents alors que c'est la meme chose, on va donc s'assurer que le match se fait sur le chassis plutot que sur le server + on rattache tous les serveurs à au bon chassis"
   ]
  },
  {
   "cell_type": "code",
   "execution_count": null,
   "id": "e8edb6a0",
   "metadata": {},
   "outputs": [],
   "source": [
    "CREATE VIEW it_built_system_storage_analytics\n",
    "as\n",
    "SELECT nom_de_baie,\n",
    "       nom_de_la_salle,\n",
    "       status,\n",
    "       asset_id,\n",
    "       nom, \n",
    "        Modele,\n",
    "        fabricant,\n",
    "        Reperage_ID\n",
    "FROM   `IT_Equipment` it\n",
    "WHERE  status IS NOT NULL\n",
    "GROUP  BY nom_de_baie,\n",
    "          nom_de_la_salle\n",
    "ORDER  BY nom_de_baie DESC"
   ]
  },
  {
   "cell_type": "markdown",
   "id": "14d97292",
   "metadata": {},
   "source": [
    "Similaire à celle d'avant mais permet de classer tous les équipements par rack si un chassis est trouvé"
   ]
  },
  {
   "cell_type": "code",
   "execution_count": null,
   "id": "a83519de",
   "metadata": {},
   "outputs": [],
   "source": [
    "CREATE VIEW it_built_system_storage_analytics_by_rack\n",
    "AS \n",
    "SELECT it.nom_de_baie,\n",
    "       it.nom_de_la_salle,\n",
    "       it.status,\n",
    "       it.asset_id,\n",
    "       it.nom, \n",
    "       it.Modele,\n",
    "       it.reperage_ID,\n",
    "       it.fabricant,\n",
    "       it2.reperage_ID reperage_ID_chassis,\n",
    "       it2.nom nom_chassis, \n",
    "       it2.Modele Modele_chassis,\n",
    "       it2.fabricant fabricant_chassis\n",
    "FROM   `IT_Equipment` it\n",
    "LEFT JOIN `it_built_system_storage_analytics` it2 ON it2.nom_de_baie = it.nom_de_baie and it2.nom_de_la_salle = it.nom_de_la_salle\n",
    "ORDER  BY nom_de_baie DESC"
   ]
  },
  {
   "cell_type": "markdown",
   "id": "62d0a108",
   "metadata": {},
   "source": [
    "## Exadata"
   ]
  },
  {
   "cell_type": "code",
   "execution_count": null,
   "id": "363447de",
   "metadata": {},
   "outputs": [],
   "source": [
    "CREATE VIEW it_build_system_EXADATA\n",
    "as\n",
    "SELECT nom_de_baie,\n",
    "       nom_de_la_salle,\n",
    "       status,\n",
    "       asset_id,\n",
    "       nom, \n",
    "        Modele,\n",
    "        fabricant,\n",
    "        Reperage_ID\n",
    "FROM   `IT_Equipment` it\n",
    "where it.fabricant like '%oracle%'"
   ]
  },
  {
   "cell_type": "markdown",
   "id": "ec105469",
   "metadata": {},
   "source": [
    "### NAS ( Netapp)"
   ]
  },
  {
   "cell_type": "markdown",
   "id": "ab968a0e",
   "metadata": {},
   "source": [
    "On regroupe tous les types NAS avec un asset_id pour faire correspondre les extensions aà l'equipment principal "
   ]
  },
  {
   "cell_type": "code",
   "execution_count": null,
   "id": "12227be1",
   "metadata": {},
   "outputs": [],
   "source": [
    "CREATE VIEW it_built_system_NAS\n",
    "AS\n",
    "SELECT nom_de_baie,\n",
    "       nom_de_la_salle,\n",
    "       status,\n",
    "       asset_id,\n",
    "       nom, \n",
    "        Modele,\n",
    "        fabricant,\n",
    "        Reperage_ID\n",
    "FROM   `IT_Equipment` it\n",
    "WHERE  status IS NOT NULL and (it.fabricant like 'netapp%' or it.fabricant like 'ATTO%' or it.fabricant like 'Brocade%' ) and ASSET_ID != '0'\n",
    "ORDER  BY nom_de_baie DESC"
   ]
  },
  {
   "cell_type": "markdown",
   "id": "2aeb3bce",
   "metadata": {},
   "source": [
    "# Hitachi"
   ]
  },
  {
   "cell_type": "code",
   "execution_count": null,
   "id": "f677d528",
   "metadata": {},
   "outputs": [],
   "source": [
    "CREATE VIEW it_build_system_NAS_Hitachi \n",
    "as\n",
    "SELECT nom_de_baie,\n",
    "       nom_de_la_salle,\n",
    "       status,\n",
    "       asset_id,\n",
    "       nom, \n",
    "        Modele,\n",
    "        fabricant,\n",
    "        Reperage_ID\n",
    "FROM   `IT_Equipment` it\n",
    "where it.fabricant like '%Hitachi%'\n",
    "ORDER BY Nom_de_baie DESC, Nom_de_la_salle"
   ]
  },
  {
   "cell_type": "markdown",
   "id": "70f55f43",
   "metadata": {},
   "source": [
    "## HPC"
   ]
  },
  {
   "cell_type": "code",
   "execution_count": null,
   "id": "43aeb0f3",
   "metadata": {},
   "outputs": [],
   "source": [
    "CREATE VIEW it_build_system_HPC\n",
    "as\n",
    "SELECT nom_de_baie,\n",
    "       nom_de_la_salle,\n",
    "       status,\n",
    "       asset_id,\n",
    "       nom, \n",
    "        Modele,\n",
    "        fabricant,\n",
    "        Reperage_ID,\n",
    "        (LEFT(Nom,6)) ROOT_FERME\n",
    "FROM   `IT_Equipment` it\n",
    "where it.nom like '%HPC%' or it.long_name like '%HPC%'\n",
    "ORDER BY Nom_de_baie DESC, Nom_de_la_salle"
   ]
  },
  {
   "cell_type": "code",
   "execution_count": null,
   "id": "329621d2",
   "metadata": {},
   "outputs": [],
   "source": [
    "CREATE VIEW it_build_system_HPC\n",
    "as\n",
    "SELECT it.nom_de_baie,\n",
    "       it.nom_de_la_salle,\n",
    "       it.status,\n",
    "       it.asset_id,\n",
    "       it.nom, \n",
    "       (LEFT(it.Nom,6)) ROOT_FERME, \n",
    "        it.Modele,\n",
    "        it.fabricant,\n",
    "        it.Reperage_ID\n",
    "       \n",
    "FROM   `IT_Equipment` it\n",
    "WHERE it.nom like '%HPC%' \n",
    "OR it.long_name like '%HPC%' \n",
    "AND it.status = \n",
    "\t\t\t(CASE WHEN it.status in ('OK-CMDB-ASSET-ID','ASSET_ID OK / SHORT_NAME MISMATCH') then it.status\n",
    "             ELSE it.status\n",
    "             END)\n",
    "GROUP BY ROOT_FERME\n",
    "ORDER BY it.Nom_de_baie DESC, it.Nom_de_la_salle"
   ]
  },
  {
   "cell_type": "markdown",
   "id": "6ca1115b",
   "metadata": {},
   "source": [
    "## HANA"
   ]
  },
  {
   "cell_type": "code",
   "execution_count": null,
   "id": "2f7aae67",
   "metadata": {},
   "outputs": [],
   "source": [
    "CREATE VIEW it_build_system_HANA\n",
    "as\n",
    "SELECT it.nom_de_baie,\n",
    "       it.nom_de_la_salle,\n",
    "       it.status,\n",
    "       it.asset_id,\n",
    "       it.nom, \n",
    "        it.Modele,\n",
    "        it.fabricant,\n",
    "        it.Reperage_ID,\n",
    "        (CASE WHEN it.status in ('OK-CMDB-ASSET-ID','ASSET_ID OK / SHORT_NAME MISMATCH') then it.status\n",
    "             ELSE it.status\n",
    "             END) agg\n",
    "       \n",
    "FROM   `IT_Equipment` it\n",
    "WHERE (it.nom_de_baie like '%hana%' \n",
    "OR it.nom like '%hana%') and (it.status is not null or it.asset_id != '0')\t\n",
    "GROUP BY nom_de_baie, nom_de_la_salle\n",
    "ORDER BY it.Nom_de_baie DESC, it.Nom_de_la_salle"
   ]
  },
  {
   "cell_type": "markdown",
   "id": "bb859296",
   "metadata": {},
   "source": [
    "## RING"
   ]
  },
  {
   "cell_type": "markdown",
   "id": "06ddcb92",
   "metadata": {},
   "source": [
    "\n",
    "Scality : systeme type \"RING\"\n",
    "\n",
    "- Si le \"Nom\" contient \"NA9TCR\" attribuer sur la colonne \"status\" le nom \"RING NA9TCR : M-0000655049\"\n",
    "\n",
    "- pour tout élément hors ( \"status\" = \"OK-CMDB-ASSET-ID\" OU \"status\" = \"ASSET_ID OK / SHORT_NAME MISMATCH\")"
   ]
  },
  {
   "cell_type": "code",
   "execution_count": null,
   "id": "2c81b809",
   "metadata": {},
   "outputs": [],
   "source": []
  },
  {
   "cell_type": "markdown",
   "id": "6b1e09b1",
   "metadata": {},
   "source": [
    "# Compteur"
   ]
  },
  {
   "cell_type": "code",
   "execution_count": null,
   "id": "327bd90a",
   "metadata": {},
   "outputs": [],
   "source": [
    "SELECT count(*) count, TYPE\n",
    "from `IT_Equipment`\n",
    "where STATUS is null\n",
    "GROUP BY TYPE"
   ]
  },
  {
   "cell_type": "code",
   "execution_count": null,
   "id": "310420dd",
   "metadata": {},
   "outputs": [],
   "source": [
    "SELECT count(*) count, YPE\n",
    "from `assets_filtree_stockage_réseau`\n",
    "where STATUS is null\n",
    "GROUP BY YPE"
   ]
  },
  {
   "cell_type": "code",
   "execution_count": null,
   "id": "9a5a1530",
   "metadata": {},
   "outputs": [],
   "source": [
    "select COUNT(STATUS), status\n",
    "from `assets_filtree`\n",
    "GROUP BY STATUS\n",
    "ORDER BY COUNT(STATUS) desc"
   ]
  },
  {
   "cell_type": "code",
   "execution_count": null,
   "id": "ae577285",
   "metadata": {},
   "outputs": [],
   "source": [
    "select COUNT(STATUS), status\n",
    "from `IT_Equipment`\n",
    "GROUP BY STATUS\n",
    "ORDER BY COUNT(STATUS) desc"
   ]
  },
  {
   "cell_type": "code",
   "execution_count": null,
   "id": "1bcc5ecb",
   "metadata": {},
   "outputs": [],
   "source": [
    "select count(*)\n",
    "from `IT_Equipment`\n",
    "where status is null"
   ]
  },
  {
   "cell_type": "markdown",
   "id": "dc46db7f",
   "metadata": {},
   "source": [
    "# Query"
   ]
  },
  {
   "cell_type": "markdown",
   "id": "89850ebe",
   "metadata": {},
   "source": [
    "## Query de base"
   ]
  },
  {
   "cell_type": "code",
   "execution_count": null,
   "id": "da2cadbe",
   "metadata": {},
   "outputs": [],
   "source": [
    "SELECT it.asset_id asset_id_id,\n",
    "       it.short_name,\n",
    "       it.nom,\n",
    "       it.status   status_it,\n",
    "       it.fabricant,\n",
    "       it.modele,\n",
    "       it.reperage_id,\n",
    "       nom_de_la_salle,\n",
    "       nom_de_baie,\n",
    "       slot_u,\n",
    "       hauteur_u\n",
    "FROM   `it_equipment` it "
   ]
  },
  {
   "cell_type": "markdown",
   "id": "bf921135",
   "metadata": {},
   "source": [
    "## Match sur les coordonnées"
   ]
  },
  {
   "cell_type": "markdown",
   "id": "222e4146",
   "metadata": {},
   "source": [
    "### Coordonnees par position de rack/baie "
   ]
  },
  {
   "cell_type": "code",
   "execution_count": null,
   "id": "6d0020b1",
   "metadata": {},
   "outputs": [],
   "source": [
    "SELECT ASSET_ID, NOM_COURT, NOM_LONG, FABRICANT, MODEL, DALLE, SALLE, Rack, Slot_Begin, Slot_End\n",
    "from `assets_filtree` aa\n",
    "where dalle like '%L15%'\n",
    "order by dalle asc"
   ]
  },
  {
   "cell_type": "code",
   "execution_count": null,
   "id": "fbaddf68",
   "metadata": {},
   "outputs": [],
   "source": [
    "SELECT it.asset_id asset_id_id,\n",
    "       it.short_name,\n",
    "       it.nom,\n",
    "       it.status   status_it,\n",
    "       it.fabricant,\n",
    "       it.modele,\n",
    "       it.reperage_id,\n",
    "       nom_de_la_salle,\n",
    "       nom_de_baie,\n",
    "       slot_u,\n",
    "       hauteur_u\n",
    "FROM   `it_equipment` it \n",
    "where Reperage_ID like 'L15:%'\n",
    "order by Reperage_ID asc"
   ]
  },
  {
   "cell_type": "markdown",
   "id": "191c4d64",
   "metadata": {},
   "source": [
    "## Match sur les coordonnées inversées"
   ]
  },
  {
   "cell_type": "code",
   "execution_count": null,
   "id": "cdb50951",
   "metadata": {},
   "outputs": [],
   "source": [
    "select it.asset_id asset_id_id, it.short_name, it.nom, it.status status_it, it.fabricant, it.modele, it.reperage_ID, it.nom_de_la_salle,\n",
    "it.Nom_de_baie, SUBSTR(it.Nom_de_baie,length(it.Nom_de_baie),length(it.Nom_de_baie)) rp,\n",
    "SUBSTR(it.Nom_de_baie,length(it.Nom_de_baie)-1,length(it.Nom_de_baie)) rp2\n",
    "from `IT_Equipment` it\n",
    "where STATUS is null\n",
    "ORDER BY nom asc\n",
    "\n",
    "----\n",
    "SELECT ASSET_ID, NOM_COURT, NOM_LONG, FABRICANT, MODEL, DALLE, SALLE, Rack, Slot_Begin, Slot_End\n",
    "from `assets_filtree` aa\n",
    "where NOM_COURT like '%ch12%' or NOM_LONG like '%ch12%'\n",
    "order by dalle asc\n"
   ]
  },
  {
   "cell_type": "markdown",
   "id": "4fce8298",
   "metadata": {},
   "source": [
    "## Match sur les extensions : Fex / Netapp, Netapps"
   ]
  },
  {
   "cell_type": "markdown",
   "id": "93513a0b",
   "metadata": {},
   "source": [
    "### Fex"
   ]
  },
  {
   "cell_type": "code",
   "execution_count": null,
   "id": "9a0472e9",
   "metadata": {},
   "outputs": [],
   "source": [
    "select it.asset_id asset_id_id, it.short_name, it.nom, it.status status_it, it.fabricant, it.modele, it.reperage_ID, Nom_de_la_salle, Nom_de_baie, Slot_U, Hauteur_U\n",
    "from `IT_Equipment` it\n",
    "where SHORT_NAME like '%SWC3PC27%' or nom like '%SWC3PC27%'\n",
    "\n",
    "---\n",
    "\n",
    "SELECT ASSET_ID, NOM_COURT, NOM_LONG, FABRICANT, MODEL, DALLE, SALLE, Rack, Slot_Begin, Slot_End\n",
    "from `assets_filtree` aa\n",
    "where NOM_COURT like '%SWC3PC27%' or NOM_LONG like '%SWC3PC27%'\n",
    "order by dalle asc"
   ]
  },
  {
   "cell_type": "markdown",
   "id": "3b29ad68",
   "metadata": {},
   "source": [
    "## Match sur les Exadata"
   ]
  },
  {
   "cell_type": "markdown",
   "id": "6c4992b1",
   "metadata": {},
   "source": [
    "#### Aucun equipements ne possède d'asset ID pour changer le status.."
   ]
  },
  {
   "cell_type": "code",
   "execution_count": null,
   "id": "a9e75f3d",
   "metadata": {},
   "outputs": [],
   "source": [
    "SELECT nom_de_baie,\n",
    "       nom_de_la_salle,\n",
    "       status,\n",
    "       asset_id,\n",
    "       nom, \n",
    "        Modele,\n",
    "        fabricant,\n",
    "        Reperage_ID\n",
    "FROM   `IT_Equipment` it\n",
    "where it.fabricant like '%oracle%'"
   ]
  },
  {
   "cell_type": "markdown",
   "id": "f4432b71",
   "metadata": {},
   "source": [
    "## Match : Hitachi"
   ]
  },
  {
   "cell_type": "code",
   "execution_count": null,
   "id": "b24bbbf9",
   "metadata": {},
   "outputs": [],
   "source": [
    "SELECT nom_de_baie,\n",
    "       nom_de_la_salle,\n",
    "       status,\n",
    "       asset_id,\n",
    "       nom, \n",
    "        Modele,\n",
    "        fabricant,\n",
    "        Reperage_ID\n",
    "FROM   `IT_Equipment` it\n",
    "where it.fabricant like '%Hitachi%'\n",
    "ORDER BY Nom_de_baie DESC, Nom_de_la_salle"
   ]
  },
  {
   "cell_type": "markdown",
   "id": "626e98ca",
   "metadata": {},
   "source": [
    "## HPC"
   ]
  },
  {
   "cell_type": "code",
   "execution_count": null,
   "id": "d70dce5f",
   "metadata": {},
   "outputs": [],
   "source": [
    "SELECT nom_de_baie,\n",
    "       nom_de_la_salle,\n",
    "       status,\n",
    "       asset_id,\n",
    "       nom, \n",
    "        Modele,\n",
    "        fabricant,\n",
    "        Reperage_ID,\n",
    "        (LEFT(Nom,6)) ROOT_FERME\n",
    "FROM   `IT_Equipment` it\n",
    "where it.nom like '%HPC%' or it.long_name like '%HPC%'\n",
    "ORDER BY Nom_de_baie DESC, Nom_de_la_salle"
   ]
  },
  {
   "cell_type": "code",
   "execution_count": null,
   "id": "516e4298",
   "metadata": {},
   "outputs": [],
   "source": [
    "-- Visualisation de tous les equipment par rapport à leur nom commun\n",
    "select it.asset_id asset_id_id, it.short_name, it.nom, (LEFT(it.Nom,6)) ROOT_FERME, it.status status_it, it.fabricant, it.modele, it.reperage_ID, Nom_de_la_salle, Nom_de_baie, Slot_U, Hauteur_U\n",
    "from `IT_Equipment` it\n",
    "where (LEFT(it.Nom,6)) like 'HPC1D3'\n",
    "order by ROOT_FERME asc"
   ]
  },
  {
   "cell_type": "code",
   "execution_count": null,
   "id": "55c4d7d5",
   "metadata": {},
   "outputs": [],
   "source": [
    "--- Maj par nom commun \n",
    "SELECT it.nom_de_baie,\n",
    "       it.nom_de_la_salle,\n",
    "       it.status,\n",
    "       it.asset_id,\n",
    "       it.nom, \n",
    "       (LEFT(it.Nom,6)) ROOT_FERME, hpc.root_ferme,\n",
    "        it.Modele,\n",
    "        it.fabricant,\n",
    "        it.Reperage_ID,\n",
    "       (CASE WHEN it.status not in ('OK-CMDB-ASSET-ID','ASSET_ID OK / SHORT_NAME MISMATCH') THEN Concat('HPC : ', hpc.root_ferme)\n",
    "        WHEN it.status is null then Concat('HPC : ', hpc.root_ferme)\n",
    "        WHEN it.status in ('OK-CMDB-ASSET-ID','ASSET_ID OK / SHORT_NAME MISMATCH') THEN it.status\n",
    "        END ) new_status\n",
    "        \n",
    "FROM   `IT_Equipment` it\n",
    "LEFT JOIN `it_build_system_HPC` hpc on (LEFT(it.Nom,6)) = hpc.root_ferme\n",
    "WHERE it.nom like '%HPC%' \n",
    "OR it.long_name like '%HPC%'"
   ]
  },
  {
   "cell_type": "markdown",
   "id": "99bfecd7",
   "metadata": {},
   "source": [
    "## HANA"
   ]
  },
  {
   "cell_type": "code",
   "execution_count": null,
   "id": "5c28432f",
   "metadata": {},
   "outputs": [],
   "source": []
  },
  {
   "cell_type": "markdown",
   "id": "d7e9a086",
   "metadata": {},
   "source": [
    "## RING"
   ]
  },
  {
   "cell_type": "code",
   "execution_count": null,
   "id": "43987516",
   "metadata": {},
   "outputs": [],
   "source": []
  },
  {
   "cell_type": "markdown",
   "id": "bdff930e",
   "metadata": {},
   "source": [
    "## NetApp"
   ]
  },
  {
   "cell_type": "code",
   "execution_count": null,
   "id": "16ef9686",
   "metadata": {},
   "outputs": [],
   "source": [
    "SELECT ASSET_ID, NOM_COURT, NOM_LONG, FABRICANT, MODEL, DALLE, SALLE, Rack, Slot_Begin, Slot_End, status\n",
    "from `assets_filtree` aa\n",
    "where fabricant like 'NETAPP%'\n",
    "order by dalle asc\n",
    "\n",
    "---\n",
    "select it.asset_id asset_id_id, it.short_name, it.nom, it.status status_it, it.fabricant, it.modele, it.reperage_ID, Nom_de_la_salle, Nom_de_baie, Slot_U, Hauteur_U\n",
    "from `IT_Equipment` it\n",
    "where fabricant like 'NETAPP%'"
   ]
  },
  {
   "cell_type": "code",
   "execution_count": null,
   "id": "615de749",
   "metadata": {},
   "outputs": [],
   "source": []
  },
  {
   "cell_type": "markdown",
   "id": "785acc45",
   "metadata": {},
   "source": [
    "## On regroupe tous les extensions sous le même cerveau pour que leur status corresponde au nom du cerveau"
   ]
  },
  {
   "cell_type": "code",
   "execution_count": null,
   "id": "987c5673",
   "metadata": {},
   "outputs": [],
   "source": [
    "SELECT nom_de_baie,\n",
    "       nom_de_la_salle,\n",
    "       status,\n",
    "       asset_id,\n",
    "       nom\n",
    "FROM   `it_equipment` it\n",
    "WHERE  status IS NOT NULL\n",
    "GROUP  BY nom_de_baie,\n",
    "          nom_de_la_salle\n",
    "ORDER  BY nom_de_baie DESC  "
   ]
  },
  {
   "cell_type": "markdown",
   "id": "6aaf55e3",
   "metadata": {},
   "source": [
    "Join entre la vue qui contient les chassis et les extensions avec un status null"
   ]
  },
  {
   "cell_type": "code",
   "execution_count": null,
   "id": "9863b5af",
   "metadata": {},
   "outputs": [],
   "source": [
    "SELECT it.nom_de_baie,\n",
    "       it.nom_de_la_salle,\n",
    "       it.status,\n",
    "       it.asset_id,\n",
    "       it.nom, \n",
    "       it.Modele,\n",
    "       it2.nom, \n",
    "       it2.Modele\n",
    "FROM   `IT_Equipment` it\n",
    "LEFT JOIN `it_built_system_storage_analytics` it2 ON it2.nom_de_baie = it.nom_de_baie and it2.nom_de_la_salle = it.nom_de_la_salle\n",
    "-- where it.status is null\n",
    "ORDER  BY nom_de_baie DESC"
   ]
  },
  {
   "cell_type": "markdown",
   "id": "e303f4df",
   "metadata": {},
   "source": [
    "On regroupe tous les extensions sous le même cerveau pour que leur status corresponde au nom du cerveau"
   ]
  },
  {
   "cell_type": "code",
   "execution_count": null,
   "id": "a28be9de",
   "metadata": {},
   "outputs": [],
   "source": [
    "SELECT *,\n",
    "( CASE \n",
    " \tWHEN t1.status is null and t1.fabricant_status is not null then t1.fabricant_status\n",
    "    WHEN t1.status not in ('OK-CMDB-ASSET-ID','ASSET_ID OK / SHORT_NAME MISMATCH') then t1.fabricant_status\n",
    "\tEND) new_status\n",
    "    ,\n",
    "( CASE \n",
    " \tWHEN t1.status is null and t1.fabricant_status is not null then Concat(t1.fabricant, ' : ', t1.asset_id_chassis)\n",
    "    WHEN t1.status not in ('OK-CMDB-ASSET-ID','ASSET_ID OK / SHORT_NAME MISMATCH') then Concat(t1.fabricant, ' : ', t1.asset_id_chassis)\n",
    "\tEND) new_new_status\n",
    "FROM(\n",
    "    SELECT    it.nom_de_baie,\n",
    "              it.nom_de_la_salle,\n",
    "              it.status,\n",
    "              it.asset_id,\n",
    "              it.nom,\n",
    "              it.modele,\n",
    "              it.reperage_id,\n",
    "              it.fabricant,\n",
    "              it2.reperage_id reperage_id_chassis,\n",
    "              it2.nom         nom_chassis,\n",
    "              it2.modele      modele_chassis,\n",
    "              it2.fabricant   fabricant_chassis,\n",
    "              it2.status fabricant_status,\n",
    "\t\t\t  it2.asset_id asset_id_chassis\n",
    "    FROM      `IT_Equipment` it\n",
    "    LEFT JOIN `it_built_system_NAS` it2\n",
    "    ON        it2.nom_de_baie = it.nom_de_baie \n",
    "    AND       it2.nom_de_la_salle = it.nom_de_la_salle\n",
    "    AND\t\t  it2.fabricant = it.fabricant\n",
    "    WHERE it.status is null and (it.fabricant like 'netapp%' or it.fabricant like 'ATTO%' or it.fabricant like 'Brocade%' )\n",
    "    order by  nom_de_baie DESC\n",
    "    ) t1\n",
    "     WHERE it.status not in ('OK-CMDB-ASSET-ID','ASSET_ID OK / SHORT_NAME MISMATCH') and (it.fabricant like 'netapp%' or it.fabricant like 'ATTO%' or it.fabricant like 'Brocade%' )"
   ]
  },
  {
   "cell_type": "code",
   "execution_count": null,
   "id": "364eb347",
   "metadata": {},
   "outputs": [],
   "source": []
  },
  {
   "cell_type": "code",
   "execution_count": null,
   "id": "d1d9b648",
   "metadata": {},
   "outputs": [],
   "source": []
  },
  {
   "cell_type": "code",
   "execution_count": null,
   "id": "a9f54a88",
   "metadata": {},
   "outputs": [],
   "source": []
  },
  {
   "cell_type": "markdown",
   "id": "e2e63d22",
   "metadata": {},
   "source": [
    "# Update"
   ]
  },
  {
   "cell_type": "markdown",
   "id": "657657fa",
   "metadata": {},
   "source": [
    "## Match sur les coordonnees"
   ]
  },
  {
   "cell_type": "code",
   "execution_count": null,
   "id": "8b46f62d",
   "metadata": {},
   "outputs": [],
   "source": [
    "Ajout des colonnes des coordonnees en salle\n",
    "UPDATE assets_filtree\n",
    "SET \n",
    "\tRack = SUBSTRING_INDEX(DALLE, '/', 1)  ,\n",
    "\tSlot = SUBSTRING_INDEX(DALLE, '/', -1) ,\n",
    "\tSlot_begin = SUBSTRING_INDEX(SUBSTRING_INDEX(DALLE, '/', -1), '-', 1) ,\n",
    "\tSlot_end = SUBSTRING_INDEX(DALLE, '-', -1)"
   ]
  },
  {
   "cell_type": "code",
   "execution_count": null,
   "id": "0aeb6403",
   "metadata": {},
   "outputs": [],
   "source": [
    "41 rows affected. (Query took 51.4745 seconds.)\n",
    "SELECT it.Nom_de_la_salle, aa.Salle,\n",
    "it.Nom_de_baie Nom_de_baie_it, aa.Rack,\n",
    "it.Slot_U Slot_U_it, CONVERT(aa.Slot_Begin, integer) Slot_Begin,\n",
    "it.Hauteur_U Hauteur_U_it, CONVERT(aa.Slot_End, integer) Slot_End,\n",
    "CONVERT(aa.Slot_End, integer) - CONVERT(aa.Slot_Begin, integer) delta_slot\n",
    "FROM `assets_filtree` aa\n",
    "INNER JOIN \n",
    "\t`IT_Equipment` it \n",
    "ON \n",
    "\tit.Nom_de_la_salle = aa.Salle\n",
    "AND\n",
    "\tit.Nom_de_baie = aa.Rack\n",
    "AND\n",
    "\tit.Slot_U = CONVERT(aa.Slot_Begin, integer)\n",
    "AND\n",
    "\t(it.Hauteur_U = CONVERT(aa.Slot_End, integer) or it.Hauteur_U = CONVERT(aa.Slot_End, integer) - CONVERT(aa.Slot_Begin, integer))"
   ]
  },
  {
   "cell_type": "code",
   "execution_count": null,
   "id": "a0c9ddfe",
   "metadata": {},
   "outputs": [],
   "source": [
    "UPDATE `assets_filtree` aa\n",
    "INNER JOIN \n",
    "\t`IT_Equipment` it \n",
    "ON \n",
    "\tit.Nom_de_la_salle = aa.Salle\n",
    "AND\n",
    "\tit.Nom_de_baie = aa.Rack\n",
    "AND\n",
    "\tit.Slot_U = CONVERT(aa.Slot_Begin, integer)\n",
    "SET aa.status = 'OK-POSITION',\n",
    "\tit.status = 'OK-POSITION'\n",
    "\n",
    "WHERE aa.status is null and it.status is null"
   ]
  },
  {
   "cell_type": "markdown",
   "id": "4b92e4b3",
   "metadata": {},
   "source": [
    "## Match sur les coordonnées inversées (en cours)"
   ]
  },
  {
   "cell_type": "markdown",
   "id": "477f7ee2",
   "metadata": {},
   "source": [
    "## **Exemple** :\n",
    "- IT_Equipment.reperage_ID = 24J/..\n",
    "- assets_filtree.Dalle = J24:.."
   ]
  },
  {
   "cell_type": "code",
   "execution_count": null,
   "id": "1fe0da8c",
   "metadata": {},
   "outputs": [],
   "source": [
    "select it.asset_id asset_id_id, it.short_name, it.nom, it.status status_it, it.fabricant, it.modele, it.reperage_ID, it.nom_de_la_salle,\n",
    "it.Nom_de_baie, SUBSTR(it.Nom_de_baie,length(it.Nom_de_baie),length(it.Nom_de_baie)) rp,\n",
    "SUBSTR(it.Nom_de_baie,length(it.Nom_de_baie)-1,length(it.Nom_de_baie)) rp2\n",
    "from `IT_Equipment` it \n",
    "INNER JOIN  `assets_filtree` aa\n",
    "\n",
    "ON \n",
    "\tit.Nom_de_la_salle = aa.Salle\n",
    "AND\n",
    "\t(it.Nom_de_baie = aa.Rack or \n",
    "     SUBSTR(it.Nom_de_baie,length(it.Nom_de_baie),length(it.Nom_de_baie)) = aa.Rack or\n",
    "     SUBSTR(it.Nom_de_baie,length(it.Nom_de_baie),length(it.Nom_de_baie)) = aa.Rack)\n",
    "AND\n",
    "\tit.Slot_U = CONVERT(aa.Slot_Begin, integer)\n",
    "AND\n",
    "\t(it.Hauteur_U = CONVERT(aa.Slot_End, integer) or it.Hauteur_U = CONVERT(aa.Slot_End, integer) - CONVERT(aa.Slot_Begin, integer))\n",
    "\n",
    "WHERE aa.status is null and it.status is null"
   ]
  },
  {
   "cell_type": "code",
   "execution_count": null,
   "id": "861d357d",
   "metadata": {},
   "outputs": [],
   "source": [
    "select\n",
    "(select it.Nom_de_baie REGEXP '%[^0-9]%') rppp,\n",
    "from `IT_Equipment` it\n",
    "where STATUS is null\n",
    "ORDER BY reperage_id asc"
   ]
  },
  {
   "cell_type": "markdown",
   "id": "a4aee83b",
   "metadata": {},
   "source": [
    "## On regroupe tous les extensions sous le même cerveau pour que leur status corresponde au nom du cerveau"
   ]
  },
  {
   "cell_type": "code",
   "execution_count": null,
   "id": "a2204c20",
   "metadata": {},
   "outputs": [],
   "source": [
    "-- ~400 rows\n",
    "UPDATE `IT_Equipment` it\n",
    " LEFT JOIN `it_built_system_NAS` it2\n",
    " ON        it2.nom_de_baie = it.nom_de_baie \n",
    " AND       it2.nom_de_la_salle = it.nom_de_la_salle\n",
    " AND\t\t  it2.fabricant = it.fabricant\n",
    " SET it.status = \n",
    "( CASE \n",
    " \tWHEN it.status is null and it2.status is not null then Concat(it.fabricant, ' : ', it2.asset_id)\n",
    "    WHEN it.status not in ('OK-CMDB-ASSET-ID','ASSET_ID OK / SHORT_NAME MISMATCH') then Concat(it2.fabricant, ' : ', it2.asset_id)\n",
    "\tEND)\n",
    "  WHERE it.status not in ('OK-CMDB-ASSET-ID','ASSET_ID OK / SHORT_NAME MISMATCH') and (it.fabricant like 'netapp%' or it.fabricant like 'ATTO%' or it.fabricant like 'Brocade%' )"
   ]
  },
  {
   "cell_type": "code",
   "execution_count": null,
   "id": "d053a4da",
   "metadata": {},
   "outputs": [],
   "source": [
    "145 ROWS\n",
    "UPDATE `IT_Equipment` it\n",
    "LEFT JOIN `it_build_system_HPC` hpc on (LEFT(it.Nom,6)) = hpc.root_ferme\n",
    "SET it.status = \n",
    "\t\t\t\t(CASE WHEN it.status not in ('OK-CMDB-ASSET-ID','ASSET_ID OK / SHORT_NAME MISMATCH') THEN Concat('HPC : ', hpc.root_ferme)\n",
    "                WHEN it.status is null then Concat('HPC : ', hpc.root_ferme)\n",
    "                WHEN it.status in ('OK-CMDB-ASSET-ID','ASSET_ID OK / SHORT_NAME MISMATCH') THEN it.status\n",
    "                END )\n",
    "WHERE it.nom like '%HPC%' \n",
    "OR it.long_name like '%HPC%'"
   ]
  },
  {
   "cell_type": "code",
   "execution_count": null,
   "id": "f5f527cb",
   "metadata": {},
   "outputs": [],
   "source": [
    "~45 ROWS\n",
    "UPDATE   `IT_Equipment` it\n",
    "LEFT JOIN `it_build_system_HANA` han\n",
    " ON        han.nom_de_baie = it.nom_de_baie \n",
    " AND       han.nom_de_la_salle = it.nom_de_la_salle\n",
    " AND\t\t  han.fabricant = it.fabricant\n",
    " \n",
    " SET it.status = \n",
    " \t\t\t\t(CASE \n",
    "                 WHEN it.status is null and han.status is not null then Concat(it.fabricant, ' : ', han.asset_id)\n",
    "                 WHEN it.status != 'OK-CMDB-ASSET-ID' OR it.status != 'ASSET_ID OK / SHORT_NAME MISMATCH'  then Concat(han.fabricant, ' : ', han.asset_id)\n",
    "                 END)\n",
    "                \n",
    "WHERE (it.nom_de_baie like '%hana%' \n",
    "OR it.nom like '%hana%')"
   ]
  },
  {
   "cell_type": "code",
   "execution_count": null,
   "id": "c908e3ab",
   "metadata": {},
   "outputs": [],
   "source": []
  },
  {
   "cell_type": "code",
   "execution_count": null,
   "id": "f71dce1b",
   "metadata": {},
   "outputs": [],
   "source": []
  },
  {
   "cell_type": "code",
   "execution_count": null,
   "id": "a0db9ccc",
   "metadata": {},
   "outputs": [],
   "source": [
    "UPDATE `IT_Equipment` it\n",
    " LEFT JOIN `it_built_system_NAS` it2\n",
    " ON        it2.nom_de_baie = it.nom_de_baie \n",
    " AND       it2.nom_de_la_salle = it.nom_de_la_salle\n",
    " AND\t\t  it2.fabricant = it.fabricant\n",
    " SET it.status = \n",
    "( CASE \n",
    " \tWHEN it.status is null and it2.status is not null then Concat(it.fabricant, ' : ', it2.asset_id)\n",
    "    WHEN it.status != 'OK-CMDB-ASSET-ID' OR it.status != 'ASSET_ID OK / SHORT_NAME MISMATCH'  then Concat(it2.fabricant, ' : ', it2.asset_id)\n",
    "\tEND)\n",
    "    \n",
    " WHERE it.status is null and (it.fabricant like 'netapp%' or it.fabricant like 'ATTO%' or it.fabricant like 'Brocade%' )"
   ]
  }
 ],
 "metadata": {
  "kernelspec": {
   "display_name": "Python 3 (ipykernel)",
   "language": "python",
   "name": "python3"
  },
  "language_info": {
   "codemirror_mode": {
    "name": "ipython",
    "version": 3
   },
   "file_extension": ".py",
   "mimetype": "text/x-python",
   "name": "python",
   "nbconvert_exporter": "python",
   "pygments_lexer": "ipython3",
   "version": "3.9.7"
  }
 },
 "nbformat": 4,
 "nbformat_minor": 5
}
