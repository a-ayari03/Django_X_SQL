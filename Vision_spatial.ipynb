{
 "cells": [
  {
   "cell_type": "markdown",
   "id": "d1c874dc-a12e-4111-8f71-45434fc5ab8c",
   "metadata": {},
   "source": [
    "# 1/ OLIVIER_IT ⋈ 6SIGMA (It_equipment) ⋈ CMDB"
   ]
  },
  {
   "cell_type": "markdown",
   "id": "567cf33d-53d1-41de-a3a5-3e821a4ccc54",
   "metadata": {},
   "source": [
    "Vérification de la présence des equipements Olivier_it simultanément sur 6Sigma et sur la CMDB :\n",
    "    \n",
    "    - Controle de l'asset_id\n",
    "    - Controle de Position \n",
    "    - COntrole de la hauteur"
   ]
  },
  {
   "cell_type": "markdown",
   "id": "2f992e0d-0bc7-4046-8903-7fbb6d748c00",
   "metadata": {},
   "source": []
  },
  {
   "cell_type": "markdown",
   "id": "c83176fc-722a-4429-b7d8-915b1ae251ed",
   "metadata": {},
   "source": [
    "`IT_Equipment_v2` : Table IT_Equipment provenant d'un fichier csv"
   ]
  },
  {
   "cell_type": "code",
   "execution_count": null,
   "id": "9c3fbfc7-a975-4ba8-8f46-68a168e45951",
   "metadata": {},
   "outputs": [],
   "source": [
    "DROP TABLE IF EXISTS `IT_Equipment_v2` ;\n",
    "CREATE TABLE IT_Equipment_v2\n",
    "as\n",
    "SELECT * FROM `IT_Equipment`"
   ]
  },
  {
   "cell_type": "markdown",
   "id": "38cc4090-146b-489b-87d4-c7b8f528363f",
   "metadata": {},
   "source": [
    "`assets_filtree_v2` : Table assets_new (CMDB) filtré aux deux localisations : FRVLB0C2 / FRTCRAVA"
   ]
  },
  {
   "cell_type": "code",
   "execution_count": null,
   "id": "59917c61-6d55-4f0a-8d40-920bd2c6ebaa",
   "metadata": {},
   "outputs": [],
   "source": [
    "DROP TABLE IF EXISTS `assets_filtree_v2` ;\n",
    "CREATE TABLE assets_filtree_v2\n",
    "as\n",
    "select *\n",
    "from `assets_new`\n",
    "where (API = 'FRVLB0C2' or API = 'FRTCRAVA') ;"
   ]
  },
  {
   "cell_type": "code",
   "execution_count": null,
   "id": "9a8a075a-b527-4d4c-9350-8e5780da84af",
   "metadata": {},
   "outputs": [],
   "source": [
    "ALTER TABLE assets_filtree_v2\n",
    "ADD COLUMN Rack varchar(255),\n",
    "ADD COLUMN Slot varchar(255),\n",
    "ADD COLUMN Slot_begin varchar(255),\n",
    "ADD COLUMN Slot_end varchar(255);"
   ]
  },
  {
   "cell_type": "code",
   "execution_count": null,
   "id": "edb11bea-f40e-4330-bfed-3dca1c65dc6a",
   "metadata": {},
   "outputs": [],
   "source": [
    "UPDATE assets_filtree_v2\n",
    "SET \n",
    "\tRack = SUBSTRING_INDEX(DALLE, '/', 1)  ,\n",
    "\tSlot = SUBSTRING_INDEX(DALLE, '/', -1) ,\n",
    "\tSlot_begin = SUBSTRING_INDEX(SUBSTRING_INDEX(DALLE, '/', -1), '-', 1) ,\n",
    "\tSlot_end = SUBSTRING_INDEX(DALLE, '-', -1)"
   ]
  },
  {
   "cell_type": "code",
   "execution_count": null,
   "id": "3049079b-28d3-4397-bdfe-f97a2588933e",
   "metadata": {},
   "outputs": [],
   "source": [
    "DROP TABLE IF EXISTS `assets_filtree_reduced` ;\n",
    "CREATE TABLE assets_filtree_reduced\n",
    "AS\n",
    "SELECT ype, subtype, ASSET_ID, NOM_COURT, NOM_LONG, FABRICANT, MODEL, DALLE, SALLE, Rack, Slot_Begin, Slot_End, No_serie, etat, api, tag_partenaire\n",
    "from `assets_filtree_v2` aa\n",
    "WHERE SALLE in ('P1', 'P2', 'P3', 'P4', '0')"
   ]
  },
  {
   "cell_type": "code",
   "execution_count": null,
   "id": "30902669-1917-4d1c-a976-0cf0b65a793d",
   "metadata": {},
   "outputs": [],
   "source": [
    "DROP TABLE IF EXISTS `assets_filtree_reduced_not_retired` ;\n",
    "CREATE TABLE assets_filtree_reduced_not_retired\n",
    "AS\n",
    "SELECT ype, subtype, ASSET_ID, NOM_COURT, NOM_LONG, FABRICANT, MODEL, DALLE, SALLE, Rack, Slot_Begin, Slot_End, No_serie, etat, api, tag_partenaire\n",
    "from `assets_filtree_v2` aa\n",
    "WHERE SALLE in ('P1', 'P2', 'P3', 'P4')"
   ]
  },
  {
   "cell_type": "markdown",
   "id": "994bcc15-f5bb-41fa-bdee-0cdbfe625a39",
   "metadata": {
    "tags": []
   },
   "source": [
    "##### On ajoute la même forme de position que sur 6sigma et olivier_it pour fluidifier les query"
   ]
  },
  {
   "cell_type": "code",
   "execution_count": null,
   "id": "8c4f7dd3-ca7d-4cda-88a3-8fadae82ca36",
   "metadata": {},
   "outputs": [],
   "source": [
    "\n",
    "ALTER TABLE `assets_filtree_reduced_not_retired`\n",
    "ADD COLUMN reperage_id varchar(255) ;\n",
    "\n",
    "update `assets_filtree_reduced_not_retired`\n",
    "set reperage_id = concat(Rack,\":Slot \", slot_begin)\n"
   ]
  },
  {
   "cell_type": "markdown",
   "id": "febfa638-8961-40aa-b53a-12c4a097e329",
   "metadata": {},
   "source": [
    "`IT_Equipment_match_position_reduced_v3` : groupement des lignes par positions et affichage d'un seul asset_id par positions + nombres d'equipements sur la même position"
   ]
  },
  {
   "cell_type": "markdown",
   "id": "9a953232-9925-46bf-9992-f93a127fdde1",
   "metadata": {},
   "source": [
    "DROP VIEW IF EXISTS IT_Equipment_match_position_reduced_v3_not_retired;\n",
    "CREATE VIEW IT_Equipment_match_position_reduced_v3_not_retired\n",
    "as\n",
    "SELECT it.nom_de_la_salle, it.reperage_id, count(it.reperage_id) as RowNumber,\n",
    "\t\tconcat(aa.asset_id) asset_id\n",
    "\n",
    "FROM   `olivier_it` it  \n",
    "INNER JOIN `assets_filtree_reduced_not_retired`aa\n",
    "ON (\n",
    "\tit.Nom_de_la_salle = aa.Salle\n",
    "AND\n",
    "\tit.Nom_de_baie = aa.Rack\n",
    "AND\n",
    "\tit.Slot_U = CONVERT(aa.Slot_Begin, integer)\n",
    "\t)  \n",
    "GROUP BY it.reperage_id"
   ]
  },
  {
   "cell_type": "code",
   "execution_count": null,
   "id": "7f430676-81d1-4c92-a4e4-79e03fcb1a23",
   "metadata": {},
   "outputs": [],
   "source": [
    "ALTER TABLE olivier_it \n",
    "ADD COLUMN status_6Sigma varchar(255),\n",
    "ADD COLUMN status_CMDB varchar(255),\n",
    "ADD COLUMN status_position_6Sigma varchar(255),\n",
    "ADD COLUMN status_position_CMDB varchar(255),\n",
    "ADD COLUMN status_hauteur varchar(255);"
   ]
  },
  {
   "cell_type": "markdown",
   "id": "95f293f9-1273-4602-8df8-4a28896d763c",
   "metadata": {},
   "source": [
    "## Status d'asset_id et de position"
   ]
  },
  {
   "cell_type": "code",
   "execution_count": null,
   "id": "563d684d-b163-4005-8d94-73f4c69833b6",
   "metadata": {},
   "outputs": [],
   "source": [
    "-- 1537\n",
    "UPDATE `olivier_it` it \n",
    "INNER JOIN `IT_Equipment_records` it2 ON it.ASSET_ID = it2.ASSET_ID \n",
    "\n",
    "SET it.status_6Sigma = 'OK'\n",
    "\n",
    "WHERE (it.ASSET_ID != '' or it.ASSET_ID != '' or it2.ASSET_ID != '' or it2.ASSET_ID != '') and it2.INSERTED = (select * from `last_date_insertion`)"
   ]
  },
  {
   "cell_type": "code",
   "execution_count": null,
   "id": "ea34328a-6700-477a-925b-5600e0c425f4",
   "metadata": {},
   "outputs": [],
   "source": [
    "-- 1441\n",
    "UPDATE `olivier_it` it \n",
    "INNER JOIN `assets_filtree_reduced_not_retired` it2 ON it.ASSET_ID = it2.ASSET_ID \n",
    "\n",
    "SET it.status_cmdb = 'OK'\n",
    "\n",
    "WHERE (it.ASSET_ID != '' or it.ASSET_ID != '' or it2.ASSET_ID != '' or it2.ASSET_ID != '')"
   ]
  },
  {
   "cell_type": "code",
   "execution_count": null,
   "id": "66c765da-6752-4a71-8468-3d775de9c1da",
   "metadata": {},
   "outputs": [],
   "source": [
    "-- 469\n",
    "UPDATE `olivier_it` it \n",
    "SET status_6Sigma = 'KO'\n",
    "WHERE status_6Sigma is null ;\n",
    "\n",
    "-- 1228\n",
    "UPDATE `olivier_it` it \n",
    "SET status_CMDB = 'KO'\n",
    "WHERE status_CMDB is null"
   ]
  },
  {
   "cell_type": "markdown",
   "id": "5f81ef5d-ca5b-4b75-8a7d-ce0b3e33a2d2",
   "metadata": {},
   "source": [
    "SELECT * FROM `IT_Equipment_match_position_reduced_v3` it2\n",
    "\n",
    "INNER JOIN `olivier_it` it \n",
    "ON it.reperage_id = it2.reperage_id\n",
    "and it.nom_de_la_salle = it2.nom_de_la_salle"
   ]
  },
  {
   "cell_type": "code",
   "execution_count": null,
   "id": "993494c5-d0d2-4504-8a1e-5911b45e5df7",
   "metadata": {},
   "outputs": [],
   "source": [
    "-- 1823\n",
    "UPDATE `olivier_it` it\n",
    "INNER JOIN `IT_Equipment` it2 \n",
    "ON it.reperage_id = it2.reperage_id\n",
    "and it.nom_de_la_salle = it2.nom_de_la_salle\n",
    "\n",
    "SET it.status_position_6Sigma = \"OK\"\n",
    "\n",
    "WHERE  (\n",
    "   it2.modele not like '%BL460C%'\n",
    "OR it2.modele not like '%BL660C%'\n",
    "OR it2.modele not like '%BL20P%'\n",
    "OR it2.modele not like '%BL860C%'\n",
    "OR it2.modele not like '%BL420C%'\n",
    "OR it2.modele not like '%BL680C%'\n",
    "OR it2.modele not like '%WS460C%'\n",
    "OR it2.modele not like '%BL870C%' )"
   ]
  },
  {
   "cell_type": "code",
   "execution_count": null,
   "id": "6f72af75-d2bc-44df-a7dc-64b1f949f259",
   "metadata": {},
   "outputs": [],
   "source": [
    "-- 1063\n",
    "UPDATE `olivier_it` it \n",
    "INNER JOIN `assets_filtree_reduced_not_retired`aa\n",
    "ON (\n",
    "\tit.Nom_de_la_salle = aa.Salle\n",
    "AND\n",
    "\tit.Nom_de_baie = aa.Rack\n",
    "AND\n",
    "\tit.Slot_U = CONVERT(aa.Slot_Begin, integer)\n",
    "\t)  \n",
    "    \n",
    "INNER JOIN `IT_Equipment_match_position_reduced_v3_not_retired` it2\n",
    "ON it.reperage_id = it2.reperage_id\n",
    "and it.nom_de_la_salle = it2.nom_de_la_salle\n",
    "\n",
    "SET it.status_position_CMDB = 'OK'\n",
    "\n",
    "WHERE  (\n",
    "   aa.model not like '%BL460C%'\n",
    "OR aa.model not like '%BL660C%'\n",
    "OR aa.model not like '%BL20P%'\n",
    "OR aa.model not like '%BL860C%'\n",
    "OR aa.model not like '%BL420C%'\n",
    "OR aa.model not like '%BL680C%'\n",
    "OR aa.model not like '%WS460C%'\n",
    "OR aa.model not like '%BL870C%' )"
   ]
  },
  {
   "cell_type": "code",
   "execution_count": null,
   "id": "5a1f06d0-f0b1-4637-bdd2-4aa942967401",
   "metadata": {},
   "outputs": [],
   "source": [
    "-- 469\n",
    "UPDATE `olivier_it` it \n",
    "SET status_position_6Sigma = 'KO'\n",
    "WHERE status_position_6Sigma is null ;\n",
    "\n",
    "-- 1228\n",
    "UPDATE `olivier_it` it \n",
    "SET status_position_CMDB = 'KO'\n",
    "WHERE status_position_CMDB is null"
   ]
  },
  {
   "cell_type": "markdown",
   "id": "c97ab203-c6ff-40b4-bf5b-c9ae9c77ba22",
   "metadata": {
    "tags": []
   },
   "source": [
    "## Status hauteur"
   ]
  },
  {
   "cell_type": "markdown",
   "id": "81eb1b38-4686-4bb8-8f39-d9c5cd0af392",
   "metadata": {},
   "source": [
    "Check la hauteur des équipements entre CMDB et 6SIGMA"
   ]
  },
  {
   "cell_type": "markdown",
   "id": "9ee417d1-e745-4f43-b882-6e64b54c6621",
   "metadata": {},
   "source": [
    "SELECT it.nom, it.Nom_de_la_salle, it.reperage_id, it.status_6Sigma, it.status_position_6Sigma, \n",
    "it2.Nom_de_la_salle, it2.reperage_id, it2.hauteur_u, aa.salle, aa.dalle, (aa.slot_end - aa.slot_begin) + 1 hauteur_cmdb\n",
    "FROM `olivier_it` it\n",
    "\n",
    "INNER JOIN `IT_Equipment_records` it2 ON it.ASSET_ID = it2.ASSET_ID \n",
    "\n",
    "INNER JOIN `assets_filtree_reduced_not_retired` aa \n",
    "ON (\n",
    "\tit2.nom_de_la_salle = aa.Salle\n",
    "AND\n",
    "\tit2.nom_de_baie = aa.Rack\n",
    "AND\n",
    "\tit2.Slot_U = CONVERT(aa.Slot_Begin, integer)\n",
    "\t\n",
    "AND ceiling(it2.Hauteur_U) = (aa.slot_end - aa.slot_begin) + 1\n",
    ") -- delta slot     \n",
    "\n",
    "\n",
    "WHERE (it.status_6Sigma = 'OK')"
   ]
  },
  {
   "cell_type": "markdown",
   "id": "6e55e94b-c3bc-42df-bb22-bd4d1f794bd2",
   "metadata": {},
   "source": [
    "UPDATE `olivier_it` it\n",
    "INNER JOIN `IT_Equipment_records` it2 ON it.ASSET_ID = it2.ASSET_ID \n",
    "\n",
    "INNER JOIN `assets_filtree_reduced_not_retired` aa\n",
    "ON (\n",
    "\tit2.Nom_de_la_salle = aa.Salle\n",
    "AND\n",
    "\tit2.Nom_de_baie = aa.Rack\n",
    "AND\n",
    "\tit2.Slot_U = CONVERT(aa.Slot_Begin, integer)\n",
    "AND \n",
    "\tceiling(it2.hauteur_u) = (aa.slot_end - aa.slot_begin) + 1\n",
    "    ) -- delta slot = hauteur\n",
    "    \n",
    "SET it.status_hauteur = 'OK'\n",
    "\n",
    "WHERE it.status_6"
   ]
  },
  {
   "cell_type": "markdown",
   "id": "00dbf558-bfa0-41cb-b557-823d22b7b319",
   "metadata": {
    "tags": []
   },
   "source": [
    "## Equipement non présent sur Olivier_IT"
   ]
  },
  {
   "cell_type": "markdown",
   "id": "58a9ecae-05dc-47eb-b39d-d0cc9f101361",
   "metadata": {},
   "source": [
    "#### Equipement 6sigma non présent sur Olivier_it sur la base de la position (salle, rack, position de départ)"
   ]
  },
  {
   "cell_type": "code",
   "execution_count": null,
   "id": "4d8b2b0d-2a38-4d79-8829-0baa5fbc4998",
   "metadata": {},
   "outputs": [],
   "source": [
    "DROP TABLE IF EXISTS olivier_it_eq_not_in_6sigma ;# MySQL returned an empty result set (i.e. zero rows).\n",
    "CREATE TABLE olivier_it_eq_not_in_6sigma\n",
    "as \n",
    "select it2.ASSET_ID, it2.nom, it2.Nom_de_la_salle,it2.reperage_id\n",
    "from `olivier_it` it\n",
    "RIGHT JOIN `IT_Equipment` it2 \n",
    "ON it.reperage_id = it2.reperage_id\n",
    "and it.nom_de_la_salle = it2.nom_de_la_salle\n",
    "\n",
    "where it.reperage_id is null# 1693 rows affected.\n",
    "order by reperage_id asc"
   ]
  },
  {
   "cell_type": "code",
   "execution_count": null,
   "id": "e0adebb3-f45a-4393-994e-acda41d30da2",
   "metadata": {},
   "outputs": [],
   "source": [
    "DROP TABLE IF EXISTS olivier_it_eq_not_in_cmdb_raw ;\n",
    "CREATE TABLE olivier_it_eq_not_in_cmdb_raw\n",
    "as \n",
    "select aa.ASSET_ID, aa.nom_court, aa.salle, aa.dalle, aa.reperage_id reperage_id, aa.etat\n",
    "from `olivier_it` it\n",
    "RIGHT JOIN `assets_filtree_reduced_not_retired` aa \n",
    "ON it.reperage_id = aa.reperage_id\n",
    "and it.nom_de_la_salle = aa.salle\n",
    "\n",
    "where it.reperage_id is null and aa.dalle != '' # 1693 rows affected.\n",
    "order by reperage_id asc"
   ]
  },
  {
   "cell_type": "markdown",
   "id": "b07ecbd6-a5da-4b58-b6bf-5c7d87de3473",
   "metadata": {},
   "source": [
    "#### NON présent sur CMDB"
   ]
  },
  {
   "cell_type": "markdown",
   "id": "58dfff1e-3bf9-46c6-952d-afe0b31500e9",
   "metadata": {
    "tags": []
   },
   "source": [
    "SELECT * from `olivier_it_eq_not_in_6sigma` it"
   ]
  },
  {
   "cell_type": "markdown",
   "id": "5644266c-ffe2-4d5e-bc8e-be1b6937cc7a",
   "metadata": {},
   "source": [
    "#### NON présent sur 6SIGMA"
   ]
  },
  {
   "cell_type": "markdown",
   "id": "f57b66fa-d1b0-4a6c-91db-82c80a94cac6",
   "metadata": {
    "tags": []
   },
   "source": [
    "DROP VIEW IF EXISTS olivier_it_eq_not_in_cmdb ;\n",
    "CREATE VIEW olivier_it_eq_not_in_cmdb\n",
    "AS\n",
    "SELECT * from `olivier_it_eq_not_in_cmdb_raw` \n",
    "where etat != 'Retired' "
   ]
  }
 ],
 "metadata": {
  "kernelspec": {
   "display_name": "Python 3 (ipykernel)",
   "language": "python",
   "name": "python3"
  },
  "language_info": {
   "codemirror_mode": {
    "name": "ipython",
    "version": 3
   },
   "file_extension": ".py",
   "mimetype": "text/x-python",
   "name": "python",
   "nbconvert_exporter": "python",
   "pygments_lexer": "ipython3",
   "version": "3.9.7"
  }
 },
 "nbformat": 4,
 "nbformat_minor": 5
}
