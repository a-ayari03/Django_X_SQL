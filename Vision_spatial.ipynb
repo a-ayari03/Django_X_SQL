{
 "cells": [
  {
   "cell_type": "markdown",
   "id": "d1c874dc-a12e-4111-8f71-45434fc5ab8c",
   "metadata": {},
   "source": [
    "# 1/ OLIVIER_IT ⋈ 6SIGMA (It_equipment) ⋈ CMDB"
   ]
  },
  {
   "cell_type": "markdown",
   "id": "567cf33d-53d1-41de-a3a5-3e821a4ccc54",
   "metadata": {},
   "source": [
    "Vérification de la présence des equipements Olivier_it simultanément sur 6Sigma et sur la CMDB :\n",
    "    \n",
    "    - Controle de l'asset_id\n",
    "    - Controle de Position \n",
    "    - COntrole de la hauteur"
   ]
  },
  {
   "cell_type": "markdown",
   "id": "2f992e0d-0bc7-4046-8903-7fbb6d748c00",
   "metadata": {
    "tags": []
   },
   "source": [
    "## Provient d'Olivier_it_Workflow"
   ]
  },
  {
   "cell_type": "markdown",
   "id": "c83176fc-722a-4429-b7d8-915b1ae251ed",
   "metadata": {},
   "source": [
    "`IT_Equipment_v2` : Table IT_Equipment provenant d'un fichier csv"
   ]
  },
  {
   "cell_type": "code",
   "execution_count": null,
   "id": "9c3fbfc7-a975-4ba8-8f46-68a168e45951",
   "metadata": {},
   "outputs": [],
   "source": [
    "DROP TABLE IF EXISTS `IT_Equipment_v2` ;\n",
    "CREATE TABLE IT_Equipment_v2\n",
    "as\n",
    "SELECT * FROM `IT_Equipment`"
   ]
  },
  {
   "cell_type": "markdown",
   "id": "38cc4090-146b-489b-87d4-c7b8f528363f",
   "metadata": {},
   "source": [
    "`assets_filtree_v2` : Table assets_new (CMDB) filtré aux deux localisations : FRVLB0C2 / FRTCRAVA"
   ]
  },
  {
   "cell_type": "code",
   "execution_count": null,
   "id": "59917c61-6d55-4f0a-8d40-920bd2c6ebaa",
   "metadata": {},
   "outputs": [],
   "source": [
    "DROP TABLE IF EXISTS `assets_filtree_v2` ;\n",
    "CREATE TABLE assets_filtree_v2\n",
    "as\n",
    "select *\n",
    "from `assets_new`\n",
    "where (API = 'FRVLB0C2' or API = 'FRTCRAVA') ;"
   ]
  },
  {
   "cell_type": "code",
   "execution_count": null,
   "id": "9a8a075a-b527-4d4c-9350-8e5780da84af",
   "metadata": {},
   "outputs": [],
   "source": [
    "ALTER TABLE assets_filtree_v2\n",
    "ADD COLUMN Rack varchar(255),\n",
    "ADD COLUMN Slot varchar(255),\n",
    "ADD COLUMN Slot_begin varchar(255),\n",
    "ADD COLUMN Slot_end varchar(255);"
   ]
  },
  {
   "cell_type": "code",
   "execution_count": null,
   "id": "edb11bea-f40e-4330-bfed-3dca1c65dc6a",
   "metadata": {},
   "outputs": [],
   "source": [
    "UPDATE assets_filtree_v2\n",
    "SET \n",
    "\tRack = SUBSTRING_INDEX(DALLE, '/', 1)  ,\n",
    "\tSlot = SUBSTRING_INDEX(DALLE, '/', -1) ,\n",
    "\tSlot_begin = SUBSTRING_INDEX(SUBSTRING_INDEX(DALLE, '/', -1), '-', 1) ,\n",
    "\tSlot_end = SUBSTRING_INDEX(DALLE, '-', -1)"
   ]
  },
  {
   "cell_type": "code",
   "execution_count": null,
   "id": "3049079b-28d3-4397-bdfe-f97a2588933e",
   "metadata": {},
   "outputs": [],
   "source": [
    "DROP TABLE IF EXISTS `assets_filtree_reduced` ;\n",
    "CREATE TABLE assets_filtree_reduced\n",
    "AS\n",
    "SELECT ype, subtype, ASSET_ID, NOM_COURT, NOM_LONG, FABRICANT, MODEL, DALLE, SALLE, Rack, Slot_Begin, Slot_End, No_serie, etat, api, tag_partenaire\n",
    "from `assets_filtree_v2` aa\n",
    "WHERE SALLE in ('P1', 'P2', 'P3', 'P4', '0')"
   ]
  },
  {
   "cell_type": "code",
   "execution_count": null,
   "id": "30902669-1917-4d1c-a976-0cf0b65a793d",
   "metadata": {},
   "outputs": [],
   "source": [
    "DROP TABLE IF EXISTS `assets_filtree_reduced_not_retired` ;\n",
    "CREATE TABLE assets_filtree_reduced_not_retired\n",
    "AS\n",
    "SELECT ype, subtype, ASSET_ID, NOM_COURT, NOM_LONG, FABRICANT, MODEL, DALLE, SALLE, Rack, Slot_Begin, Slot_End, No_serie, etat, api, tag_partenaire\n",
    "from `assets_filtree_v2` aa\n",
    "WHERE SALLE in ('P1', 'P2', 'P3', 'P4')"
   ]
  },
  {
   "cell_type": "markdown",
   "id": "994bcc15-f5bb-41fa-bdee-0cdbfe625a39",
   "metadata": {
    "tags": []
   },
   "source": [
    "##### On ajoute la même forme de position que sur 6sigma et olivier_it pour fluidifier les query"
   ]
  },
  {
   "cell_type": "code",
   "execution_count": null,
   "id": "8c4f7dd3-ca7d-4cda-88a3-8fadae82ca36",
   "metadata": {},
   "outputs": [],
   "source": [
    "\n",
    "ALTER TABLE `assets_filtree_reduced_not_retired`\n",
    "ADD COLUMN reperage_id varchar(255) ;\n",
    "\n",
    "update `assets_filtree_reduced_not_retired`\n",
    "set reperage_id = concat(Rack,\":Slot \", slot_begin)\n"
   ]
  },
  {
   "cell_type": "markdown",
   "id": "febfa638-8961-40aa-b53a-12c4a097e329",
   "metadata": {},
   "source": [
    "`IT_Equipment_match_position_reduced_v3` : groupement des lignes par positions et affichage d'un seul asset_id par positions + nombres d'equipements sur la même position"
   ]
  },
  {
   "cell_type": "code",
   "execution_count": null,
   "id": "c8f8cc0d-4f41-44eb-9ecd-e748aae78a42",
   "metadata": {},
   "outputs": [],
   "source": [
    "DROP VIEW IF EXISTS IT_Equipment_match_position_reduced_v3_not_retired;\n",
    "CREATE VIEW IT_Equipment_match_position_reduced_v3_not_retired\n",
    "as\n",
    "SELECT it.nom_de_la_salle, it.reperage_id, count(it.reperage_id) as RowNumber,\n",
    "\t\tconcat(aa.asset_id) asset_id\n",
    "\n",
    "FROM   `olivier_it` it  \n",
    "INNER JOIN `assets_filtree_reduced_not_retired`aa\n",
    "ON (\n",
    "\tit.Nom_de_la_salle = aa.Salle\n",
    "AND\n",
    "\tit.reperage_id = aa.reperage_id\n",
    ")  \n",
    "GROUP BY it.reperage_id"
   ]
  },
  {
   "cell_type": "markdown",
   "id": "dca4999d-1f4f-4a1f-823d-a340a54a2958",
   "metadata": {
    "tags": []
   },
   "source": [
    "## Equipement non présent sur Olivier_IT"
   ]
  },
  {
   "cell_type": "markdown",
   "id": "47c08bd8-1587-4e2e-b34c-612a13f636ea",
   "metadata": {},
   "source": [
    "#### Equipement 6sigma non présent sur Olivier_it sur la base de la position (salle, rack, position de départ)"
   ]
  },
  {
   "cell_type": "markdown",
   "id": "40d36871-3d65-48f4-b340-3fe7424667a8",
   "metadata": {},
   "source": [
    "`olivier_it_eq_not_in_6sigma` : Liste des équipements 6sigma non présent sur Olivier_it\n",
    "`olivier_it_eq_not_in_CMDB` : Liste des équipements CMDB non présent sur Olivier_it"
   ]
  },
  {
   "cell_type": "code",
   "execution_count": null,
   "id": "f5db3bbb-6de2-4335-8353-580019b48a5d",
   "metadata": {},
   "outputs": [],
   "source": [
    "DROP TABLE IF EXISTS olivier_it_eq_not_in_6sigma ;\n",
    "CREATE TABLE olivier_it_eq_not_in_6sigma\n",
    "as \n",
    "select \n",
    "it2.modele, it2.type, it2.fabricant, it2.nom, it2.short_name, it2.serial_number, it2.asset_id,\n",
    "it2.ASSET_TAG, it2.ASSET_TAG Asset_Number, it2.Nom_de_la_salle, it2.Reperage_ID Reperage_ID_origin, it2.Reperage_ID, it2.End_Move_Target, null null_1 ,null null_2, null null_3, null null_4, null null_5\n",
    "from `olivier_it` it\n",
    "RIGHT JOIN `IT_Equipment` it2 \n",
    "ON it.reperage_id = it2.reperage_id\n",
    "and it.nom_de_la_salle = it2.nom_de_la_salle\n",
    "\n",
    "where it.reperage_id is null\n",
    "order by reperage_id asc"
   ]
  },
  {
   "cell_type": "code",
   "execution_count": null,
   "id": "e0adebb3-f45a-4393-994e-acda41d30da2",
   "metadata": {},
   "outputs": [],
   "source": [
    "DROP TABLE IF EXISTS olivier_it_eq_not_in_cmdb ;\n",
    "CREATE TABLE olivier_it_eq_not_in_cmdb\n",
    "as \n",
    "select aa.MODEL, aa.subtype, aa.FABRICANT, aa.NOM_LONG, aa.No_serie, aa.No_serie Serial_number, aa.ASSET_ID,\n",
    "aa.tag_partenaire asset_tag, aa.tag_partenaire asset_number, aa.SALLE, aa.reperage_id reperage_id_origin, \n",
    "aa.reperage_id, NULL end_move_target, null null_1 ,null null_2, null null_3, null null_4, null null_5\n",
    "from `olivier_it` it\n",
    "RIGHT JOIN `assets_filtree_reduced_not_retired` aa \n",
    "ON it.reperage_id = aa.reperage_id\n",
    "and it.nom_de_la_salle = aa.salle\n",
    "\n",
    "where it.reperage_id is null and aa.dalle != '' and etat != 'Retired' \n",
    "order by reperage_id asc"
   ]
  },
  {
   "cell_type": "markdown",
   "id": "5c7da25c-7ac7-4c9c-afa2-f274636c1823",
   "metadata": {},
   "source": [
    "## On ajoute les équipements manquants à olivier_it"
   ]
  },
  {
   "cell_type": "markdown",
   "id": "b5d71321-7930-4bc9-98a4-bff9fe548a46",
   "metadata": {},
   "source": [
    "ajout d'un attribut `from_sources` qui contient la provenance de l'équipement :\n",
    "\n",
    "    - 6Sigma\n",
    "    - CMDB\n",
    "    - Olivier_it "
   ]
  },
  {
   "cell_type": "code",
   "execution_count": null,
   "id": "a15ae276-1c9b-4db4-94e8-a1f6cb247bb1",
   "metadata": {},
   "outputs": [],
   "source": [
    "alter table olivier_it\n",
    "ADD COLUMN from_source VARCHAR(255) ;"
   ]
  },
  {
   "cell_type": "markdown",
   "id": "f258e6d8-1b98-49d2-a980-fa7b5216e09c",
   "metadata": {},
   "source": [
    "#### ADD ROW"
   ]
  },
  {
   "cell_type": "code",
   "execution_count": null,
   "id": "2ded6b46-b933-4f85-819a-060e44fc954c",
   "metadata": {},
   "outputs": [],
   "source": [
    "INSERT INTO `olivier_it` \n",
    "SELECT it.*, \"6SIGMA\" FROM `olivier_it_eq_not_in_6sigma` it"
   ]
  },
  {
   "cell_type": "code",
   "execution_count": null,
   "id": "66b12a1d-d46d-4583-84fc-b4cdf73151b4",
   "metadata": {},
   "outputs": [],
   "source": [
    "INSERT INTO `olivier_it` \n",
    "SELECT it.*, \"CMDB\" FROM `olivier_it_eq_not_in_cmdb` it"
   ]
  },
  {
   "cell_type": "code",
   "execution_count": null,
   "id": "86e74548-04e9-46ac-abb9-6a0a3f87c3d7",
   "metadata": {},
   "outputs": [],
   "source": [
    "update `olivier_it`\n",
    "set from_source = 'Olivier_it'\n",
    "where from_source is null"
   ]
  },
  {
   "cell_type": "code",
   "execution_count": null,
   "id": "7f430676-81d1-4c92-a4e4-79e03fcb1a23",
   "metadata": {},
   "outputs": [],
   "source": [
    "ALTER TABLE olivier_it \n",
    "ADD COLUMN status_6Sigma varchar(255),\n",
    "ADD COLUMN status_CMDB varchar(255),\n",
    "ADD COLUMN status_position_6Sigma varchar(255),\n",
    "ADD COLUMN status_position_CMDB varchar(255),\n",
    "ADD COLUMN status_hauteur varchar(255);"
   ]
  },
  {
   "cell_type": "markdown",
   "id": "95f293f9-1273-4602-8df8-4a28896d763c",
   "metadata": {},
   "source": [
    "## Status d'asset_id et de position"
   ]
  },
  {
   "cell_type": "code",
   "execution_count": null,
   "id": "563d684d-b163-4005-8d94-73f4c69833b6",
   "metadata": {},
   "outputs": [],
   "source": [
    "\n",
    "UPDATE `olivier_it` it \n",
    "INNER JOIN `IT_Equipment_records` it2 ON it.ASSET_ID = it2.ASSET_ID \n",
    "\n",
    "SET it.status_6Sigma = 'OK'\n",
    "\n",
    "WHERE (it.ASSET_ID != '' or it.ASSET_ID != '' or it2.ASSET_ID != '' or it2.ASSET_ID != '') and it2.INSERTED = (select * from `last_date_insertion`)"
   ]
  },
  {
   "cell_type": "code",
   "execution_count": null,
   "id": "ea34328a-6700-477a-925b-5600e0c425f4",
   "metadata": {},
   "outputs": [],
   "source": [
    "\n",
    "UPDATE `olivier_it` it \n",
    "INNER JOIN `assets_filtree_reduced_not_retired` it2 ON it.ASSET_ID = it2.ASSET_ID \n",
    "\n",
    "SET it.status_cmdb = 'OK'\n",
    "\n",
    "WHERE (it.ASSET_ID != '' or it.ASSET_ID != '' or it2.ASSET_ID != '' or it2.ASSET_ID != '')"
   ]
  },
  {
   "cell_type": "code",
   "execution_count": null,
   "id": "66c765da-6752-4a71-8468-3d775de9c1da",
   "metadata": {},
   "outputs": [],
   "source": [
    "\n",
    "UPDATE `olivier_it` it \n",
    "SET status_6Sigma = 'KO'\n",
    "WHERE status_6Sigma is null ;\n",
    "\n"
   ]
  },
  {
   "cell_type": "code",
   "execution_count": null,
   "id": "5db8655e-cfc6-4c14-bb7b-2325031805f1",
   "metadata": {},
   "outputs": [],
   "source": [
    "UPDATE `olivier_it` it \n",
    "SET status_CMDB = 'KO'\n",
    "WHERE status_CMDB is null"
   ]
  },
  {
   "cell_type": "markdown",
   "id": "5f81ef5d-ca5b-4b75-8a7d-ce0b3e33a2d2",
   "metadata": {},
   "source": [
    "SELECT * FROM `IT_Equipment_match_position_reduced_v3` it2\n",
    "\n",
    "INNER JOIN `olivier_it` it \n",
    "ON it.reperage_id = it2.reperage_id\n",
    "and it.nom_de_la_salle = it2.nom_de_la_salle"
   ]
  },
  {
   "cell_type": "code",
   "execution_count": null,
   "id": "993494c5-d0d2-4504-8a1e-5911b45e5df7",
   "metadata": {},
   "outputs": [],
   "source": [
    "-- 1823\n",
    "UPDATE `olivier_it` it\n",
    "INNER JOIN `IT_Equipment` it2 \n",
    "ON it.reperage_id = it2.reperage_id\n",
    "and it.nom_de_la_salle = it2.nom_de_la_salle\n",
    "\n",
    "SET it.status_position_6Sigma = \"OK\"\n",
    "\n",
    "WHERE  (\n",
    "   it2.modele not like '%BL460C%'\n",
    "OR it2.modele not like '%BL660C%'\n",
    "OR it2.modele not like '%BL20P%'\n",
    "OR it2.modele not like '%BL860C%'\n",
    "OR it2.modele not like '%BL420C%'\n",
    "OR it2.modele not like '%BL680C%'\n",
    "OR it2.modele not like '%WS460C%'\n",
    "OR it2.modele not like '%BL870C%' )"
   ]
  },
  {
   "cell_type": "code",
   "execution_count": null,
   "id": "6f72af75-d2bc-44df-a7dc-64b1f949f259",
   "metadata": {},
   "outputs": [],
   "source": [
    "\n",
    "UPDATE `olivier_it` it \n",
    "INNER JOIN `assets_filtree_reduced_not_retired`aa\n",
    "ON (\n",
    "\tit.Nom_de_la_salle = aa.Salle\n",
    "AND\n",
    "\tit.reperage_id = aa.reperage_id\n",
    ")  \n",
    "    \n",
    "INNER JOIN `IT_Equipment_match_position_reduced_v3_not_retired` it2\n",
    "ON it.reperage_id = it2.reperage_id\n",
    "and it.nom_de_la_salle = it2.nom_de_la_salle\n",
    "\n",
    "SET it.status_position_CMDB = 'OK'\n",
    "\n",
    "WHERE  (\n",
    "   aa.model not like '%BL460C%'\n",
    "OR aa.model not like '%BL660C%'\n",
    "OR aa.model not like '%BL20P%'\n",
    "OR aa.model not like '%BL860C%'\n",
    "OR aa.model not like '%BL420C%'\n",
    "OR aa.model not like '%BL680C%'\n",
    "OR aa.model not like '%WS460C%'\n",
    "OR aa.model not like '%BL870C%' )"
   ]
  },
  {
   "cell_type": "code",
   "execution_count": null,
   "id": "5a1f06d0-f0b1-4637-bdd2-4aa942967401",
   "metadata": {},
   "outputs": [],
   "source": [
    "\n",
    "UPDATE `olivier_it` it \n",
    "SET status_position_6Sigma = 'KO'\n",
    "WHERE status_position_6Sigma is null ;\n",
    "\n",
    "\n",
    "UPDATE `olivier_it` it \n",
    "SET status_position_CMDB = 'KO'\n",
    "WHERE status_position_CMDB is null"
   ]
  },
  {
   "cell_type": "code",
   "execution_count": null,
   "id": "43382682-cf57-4037-947e-96852ef48a34",
   "metadata": {},
   "outputs": [],
   "source": []
  }
 ],
 "metadata": {
  "kernelspec": {
   "display_name": "Python 3 (ipykernel)",
   "language": "python",
   "name": "python3"
  },
  "language_info": {
   "codemirror_mode": {
    "name": "ipython",
    "version": 3
   },
   "file_extension": ".py",
   "mimetype": "text/x-python",
   "name": "python",
   "nbconvert_exporter": "python",
   "pygments_lexer": "ipython3",
   "version": "3.9.7"
  }
 },
 "nbformat": 4,
 "nbformat_minor": 5
}
