{
 "cells": [
  {
   "cell_type": "code",
   "execution_count": 4,
   "id": "f19ac3fb-b779-4803-8f3d-1e78ecd2126e",
   "metadata": {},
   "outputs": [],
   "source": [
    "import os\n",
    "import regex as re\n",
    "import datetime \n",
    "import shutil\n",
    "import pandas as pd"
   ]
  },
  {
   "cell_type": "code",
   "execution_count": 5,
   "id": "c9f1b2e5-e579-494e-8fc3-2148344a2719",
   "metadata": {},
   "outputs": [],
   "source": [
    "PARENT_PATH = './' # Must contain every csv file\n",
    "ARCHIVE_PATH = './historique' # Folder for archive"
   ]
  },
  {
   "cell_type": "code",
   "execution_count": 7,
   "id": "005c3cdc-96ec-4c7e-aff2-cccc970799d1",
   "metadata": {},
   "outputs": [
    {
     "data": {
      "text/plain": [
       "['.ipynb_checkpoints',\n",
       " 'CREATE TABLE.ipynb',\n",
       " 'file_update.ipynb',\n",
       " 'historique',\n",
       " 'IT_Equipment.10.03.2022.csv',\n",
       " 'IT_Equipment.11.05.22.csv',\n",
       " 'IT_Equipment.4.02.2022.csv',\n",
       " 'TRIGGER.ipynb',\n",
       " 'UPDATE.ipynb',\n",
       " 'UPDATE_JOIN_OLIVIER_IT.ipynb',\n",
       " 'VIEW_SELECT.ipynb',\n",
       " 'VIEW_SELECT_JOIN_OLIVIER_IT.ipynb']"
      ]
     },
     "execution_count": 7,
     "metadata": {},
     "output_type": "execute_result"
    }
   ],
   "source": [
    "dir_ls = os.listdir(PARENT_PATH)\n",
    "dir_ls"
   ]
  },
  {
   "cell_type": "code",
   "execution_count": 9,
   "id": "fd825479-c9fd-4299-817b-f05abea89f5a",
   "metadata": {},
   "outputs": [],
   "source": [
    "def get_datetime(file : str) -> tuple :\n",
    "    \"\"\"\n",
    "    Get datetime in file title. Exemple : 'IT_Equipment.10.03.2022.csv' has been edited the 10-03-2022.\n",
    "    Output :\n",
    "    ---\n",
    "        tuple\n",
    "    \"\"\"\n",
    "    regex = re.split('\\.', file)\n",
    "    if len(regex) == 5 :    # [\"filename\", day, month, year, \"csv\"]\n",
    "        regex = regex[1:-1] \n",
    "        if len(regex[-1]) == 2 :    # year = 22 in place of 2022\n",
    "            regex[-1] = \"20\" + regex[-1]\n",
    "            \n",
    "        if ~any(c.isalpha() for c in regex) :    # Any alphabetic character means wrong file \n",
    "            time = datetime.datetime(day = int(regex[0]), month = int(regex[1]), year = int(regex[2]))\n",
    "            \n",
    "    else :\n",
    "        time = None\n",
    "        file = None\n",
    "\n",
    "    return (time, file)\n",
    "    "
   ]
  },
  {
   "cell_type": "code",
   "execution_count": 10,
   "id": "543bedf5-b427-42d1-9675-9fad141e8aef",
   "metadata": {},
   "outputs": [
    {
     "data": {
      "text/plain": [
       "(datetime.datetime(2022, 5, 11, 0, 0), 'IT_Equipment.11.05.22.csv')"
      ]
     },
     "execution_count": 10,
     "metadata": {},
     "output_type": "execute_result"
    }
   ],
   "source": [
    "datetime_ls = [get_datetime(file) for file in dir_ls if get_datetime(file)[0] is not None]\n",
    "last_file = max(datetime_ls)    # latest file\n",
    "last_file"
   ]
  },
  {
   "cell_type": "code",
   "execution_count": 150,
   "id": "316a5c72-571f-4839-bc1d-4aefa0fb6314",
   "metadata": {},
   "outputs": [
    {
     "data": {
      "text/plain": [
       "[(datetime.datetime(2022, 5, 11, 0, 0), 'IT_Equipment.11.05.22.csv')]"
      ]
     },
     "execution_count": 150,
     "metadata": {},
     "output_type": "execute_result"
    }
   ],
   "source": [
    "datetime_ls"
   ]
  },
  {
   "cell_type": "markdown",
   "id": "87a338bf-f7da-4825-b378-085bfa5e3553",
   "metadata": {},
   "source": [
    "# QUERY SQL"
   ]
  },
  {
   "cell_type": "code",
   "execution_count": null,
   "id": "cb24d237-32dc-4a30-9899-ff2f5f565154",
   "metadata": {},
   "outputs": [],
   "source": []
  },
  {
   "cell_type": "code",
   "execution_count": null,
   "id": "8236082e-30c4-4f9c-8171-c2d911b950f9",
   "metadata": {},
   "outputs": [],
   "source": []
  },
  {
   "cell_type": "code",
   "execution_count": null,
   "id": "4aa27e9f-570e-492f-af13-6ad21b9e320f",
   "metadata": {},
   "outputs": [],
   "source": []
  },
  {
   "cell_type": "code",
   "execution_count": null,
   "id": "56dcad5f-c0df-4447-b940-fcdf6931fdee",
   "metadata": {},
   "outputs": [],
   "source": []
  },
  {
   "cell_type": "code",
   "execution_count": null,
   "id": "4b587170-8d45-4cb2-a8ca-d2c85a1966eb",
   "metadata": {},
   "outputs": [],
   "source": []
  },
  {
   "cell_type": "code",
   "execution_count": null,
   "id": "daf00a7a-7977-4fc9-8a96-a635197f68dd",
   "metadata": {},
   "outputs": [],
   "source": []
  },
  {
   "cell_type": "markdown",
   "id": "cfafde08-49f0-4c4f-89bf-0bb6d558edc8",
   "metadata": {},
   "source": [
    "# Archive"
   ]
  },
  {
   "cell_type": "markdown",
   "id": "6af60407-8985-4368-a003-83e526b9e8af",
   "metadata": {},
   "source": [
    "Quand un fichier est utilisé, on le passe dans la section archive"
   ]
  },
  {
   "cell_type": "code",
   "execution_count": 98,
   "id": "a0588a0f-a0b1-41e9-bfc9-304139bb1f13",
   "metadata": {},
   "outputs": [],
   "source": [
    "def check_create_directory(path: str) :\n",
    "    \"\"\"\n",
    "    Check if path exist, if not create every intermediate folder\n",
    "    \"\"\"\n",
    "\n",
    "    if os.path.exists(path) == False :\n",
    "        os.makedirs(path)\n",
    "    return True"
   ]
  },
  {
   "cell_type": "code",
   "execution_count": 140,
   "id": "abac9927-8117-407f-a4bf-12afe7ac2695",
   "metadata": {},
   "outputs": [],
   "source": [
    "def move_to_folder(file: str, current_folder: str, new_folder: str) :\n",
    "    \"\"\"\n",
    "    Move a file to a specified folder\n",
    "    \"\"\"\n",
    "    current_file = os.path.join(current_folder, file)\n",
    "    new_file = os.path.join(new_folder, file)\n",
    "    shutil.move(current_file, new_file)\n",
    "    \n",
    "    return True"
   ]
  },
  {
   "cell_type": "code",
   "execution_count": 154,
   "id": "ef84c757-999d-4732-b96b-3150984a90db",
   "metadata": {},
   "outputs": [],
   "source": [
    "dir_ls = os.listdir(PARENT_PATH)\n",
    "datetime_ls = [get_datetime(file) for file in dir_ls if get_datetime(file)[0] is not None]\n",
    "check_create_directory(ARCHIVE_PATH)\n",
    "for file in datetime_ls :\n",
    "    if file != max(datetime_ls) :\n",
    "        move_to_folder(file[1], PARENT_PATH, ARCHIVE_PATH)\n",
    "    else :\n",
    "        last_file = os.path.join(PARENT_PATH, file[1])"
   ]
  },
  {
   "cell_type": "markdown",
   "id": "05ff3345-a1e1-46bb-89c2-438b9f32718a",
   "metadata": {},
   "source": [
    "## Populate table"
   ]
  },
  {
   "cell_type": "code",
   "execution_count": 158,
   "id": "778c4d4c-b4bf-4bc1-8fda-fcb20432a8a9",
   "metadata": {},
   "outputs": [],
   "source": [
    "df = pd.read_csv(last_file, header = None, delimiter = ',')"
   ]
  },
  {
   "cell_type": "code",
   "execution_count": 159,
   "id": "d8172101-3214-4455-aec5-2b4e3a9637e1",
   "metadata": {},
   "outputs": [
    {
     "data": {
      "text/html": [
       "<div>\n",
       "<style scoped>\n",
       "    .dataframe tbody tr th:only-of-type {\n",
       "        vertical-align: middle;\n",
       "    }\n",
       "\n",
       "    .dataframe tbody tr th {\n",
       "        vertical-align: top;\n",
       "    }\n",
       "\n",
       "    .dataframe thead th {\n",
       "        text-align: right;\n",
       "    }\n",
       "</style>\n",
       "<table border=\"1\" class=\"dataframe\">\n",
       "  <thead>\n",
       "    <tr style=\"text-align: right;\">\n",
       "      <th></th>\n",
       "      <th>0</th>\n",
       "      <th>1</th>\n",
       "      <th>2</th>\n",
       "      <th>3</th>\n",
       "      <th>4</th>\n",
       "      <th>5</th>\n",
       "      <th>6</th>\n",
       "      <th>7</th>\n",
       "      <th>8</th>\n",
       "      <th>9</th>\n",
       "      <th>...</th>\n",
       "      <th>67</th>\n",
       "      <th>68</th>\n",
       "      <th>69</th>\n",
       "      <th>70</th>\n",
       "      <th>71</th>\n",
       "      <th>72</th>\n",
       "      <th>73</th>\n",
       "      <th>74</th>\n",
       "      <th>75</th>\n",
       "      <th>76</th>\n",
       "    </tr>\n",
       "  </thead>\n",
       "  <tbody>\n",
       "    <tr>\n",
       "      <th>0</th>\n",
       "      <td>Equipements IT</td>\n",
       "      <td>NaN</td>\n",
       "      <td>NaN</td>\n",
       "      <td>SU919</td>\n",
       "      <td>2885508</td>\n",
       "      <td>Sun</td>\n",
       "      <td>SunFire V890</td>\n",
       "      <td>PC</td>\n",
       "      <td>J03</td>\n",
       "      <td>1</td>\n",
       "      <td>...</td>\n",
       "      <td>16.0</td>\n",
       "      <td>0.480</td>\n",
       "      <td>0.836</td>\n",
       "      <td>130.6</td>\n",
       "      <td>NaN</td>\n",
       "      <td>0</td>\n",
       "      <td>798936-126608</td>\n",
       "      <td>798936-126594</td>\n",
       "      <td>NaN</td>\n",
       "      <td>OK-CMDB-ASSET-ID</td>\n",
       "    </tr>\n",
       "    <tr>\n",
       "      <th>1</th>\n",
       "      <td>Equipements IT</td>\n",
       "      <td>NaN</td>\n",
       "      <td>NaN</td>\n",
       "      <td>DEMOCRITE</td>\n",
       "      <td>2656355</td>\n",
       "      <td>Sun</td>\n",
       "      <td>SunFire V100</td>\n",
       "      <td>PC</td>\n",
       "      <td>I03</td>\n",
       "      <td>38</td>\n",
       "      <td>...</td>\n",
       "      <td>1.0</td>\n",
       "      <td>0.437</td>\n",
       "      <td>0.483</td>\n",
       "      <td>6.0</td>\n",
       "      <td>NaN</td>\n",
       "      <td>0</td>\n",
       "      <td>798937-126811</td>\n",
       "      <td>798936-126723</td>\n",
       "      <td>NaN</td>\n",
       "      <td>OK-CMDB-ASSET-ID</td>\n",
       "    </tr>\n",
       "    <tr>\n",
       "      <th>2</th>\n",
       "      <td>Equipements IT</td>\n",
       "      <td>NaN</td>\n",
       "      <td>NaN</td>\n",
       "      <td>LEUCIPPE</td>\n",
       "      <td>2656358</td>\n",
       "      <td>Sun</td>\n",
       "      <td>SunFire V100</td>\n",
       "      <td>PC</td>\n",
       "      <td>H03</td>\n",
       "      <td>38</td>\n",
       "      <td>...</td>\n",
       "      <td>1.0</td>\n",
       "      <td>0.437</td>\n",
       "      <td>0.483</td>\n",
       "      <td>6.0</td>\n",
       "      <td>NaN</td>\n",
       "      <td>0</td>\n",
       "      <td>798937-126945</td>\n",
       "      <td>798937-126870</td>\n",
       "      <td>NaN</td>\n",
       "      <td>OK-CMDB-ASSET-ID</td>\n",
       "    </tr>\n",
       "    <tr>\n",
       "      <th>3</th>\n",
       "      <td>Equipements IT</td>\n",
       "      <td>NaN</td>\n",
       "      <td>NaN</td>\n",
       "      <td>SU888</td>\n",
       "      <td>2885019</td>\n",
       "      <td>Sun</td>\n",
       "      <td>SunFire V210</td>\n",
       "      <td>PC</td>\n",
       "      <td>F03</td>\n",
       "      <td>20</td>\n",
       "      <td>...</td>\n",
       "      <td>1.0</td>\n",
       "      <td>0.425</td>\n",
       "      <td>0.635</td>\n",
       "      <td>12.0</td>\n",
       "      <td>NaN</td>\n",
       "      <td>0</td>\n",
       "      <td>798937-127056</td>\n",
       "      <td>798937-127004</td>\n",
       "      <td>NaN</td>\n",
       "      <td>OK-CMDB-ASSET-ID</td>\n",
       "    </tr>\n",
       "    <tr>\n",
       "      <th>4</th>\n",
       "      <td>Equipements IT</td>\n",
       "      <td>NaN</td>\n",
       "      <td>NaN</td>\n",
       "      <td>SU846</td>\n",
       "      <td>2656367</td>\n",
       "      <td>Sun Microsystems</td>\n",
       "      <td>SunFire V440</td>\n",
       "      <td>PC</td>\n",
       "      <td>G03</td>\n",
       "      <td>5</td>\n",
       "      <td>...</td>\n",
       "      <td>4.0</td>\n",
       "      <td>0.440</td>\n",
       "      <td>0.635</td>\n",
       "      <td>37.0</td>\n",
       "      <td>NaN</td>\n",
       "      <td>0</td>\n",
       "      <td>798937-127169</td>\n",
       "      <td>798937-127151</td>\n",
       "      <td>NaN</td>\n",
       "      <td>OK-CMDB-ASSET-ID</td>\n",
       "    </tr>\n",
       "  </tbody>\n",
       "</table>\n",
       "<p>5 rows × 77 columns</p>\n",
       "</div>"
      ],
      "text/plain": [
       "               0   1   2          3        4                 5             6   \\\n",
       "0  Equipements IT NaN NaN      SU919  2885508               Sun  SunFire V890   \n",
       "1  Equipements IT NaN NaN  DEMOCRITE  2656355               Sun  SunFire V100   \n",
       "2  Equipements IT NaN NaN   LEUCIPPE  2656358               Sun  SunFire V100   \n",
       "3  Equipements IT NaN NaN      SU888  2885019               Sun  SunFire V210   \n",
       "4  Equipements IT NaN NaN      SU846  2656367  Sun Microsystems  SunFire V440   \n",
       "\n",
       "   7    8   9   ...    67     68     69     70  71 72             73  \\\n",
       "0  PC  J03   1  ...  16.0  0.480  0.836  130.6 NaN  0  798936-126608   \n",
       "1  PC  I03  38  ...   1.0  0.437  0.483    6.0 NaN  0  798937-126811   \n",
       "2  PC  H03  38  ...   1.0  0.437  0.483    6.0 NaN  0  798937-126945   \n",
       "3  PC  F03  20  ...   1.0  0.425  0.635   12.0 NaN  0  798937-127056   \n",
       "4  PC  G03   5  ...   4.0  0.440  0.635   37.0 NaN  0  798937-127169   \n",
       "\n",
       "              74   75                76  \n",
       "0  798936-126594  NaN  OK-CMDB-ASSET-ID  \n",
       "1  798936-126723  NaN  OK-CMDB-ASSET-ID  \n",
       "2  798937-126870  NaN  OK-CMDB-ASSET-ID  \n",
       "3  798937-127004  NaN  OK-CMDB-ASSET-ID  \n",
       "4  798937-127151  NaN  OK-CMDB-ASSET-ID  \n",
       "\n",
       "[5 rows x 77 columns]"
      ]
     },
     "execution_count": 159,
     "metadata": {},
     "output_type": "execute_result"
    }
   ],
   "source": [
    "df.head()"
   ]
  },
  {
   "cell_type": "code",
   "execution_count": 166,
   "id": "61eb5f80-9dfb-4e82-a22b-750374e36802",
   "metadata": {},
   "outputs": [],
   "source": [
    "for i, rows in df.iterrows() :\n",
    "    break"
   ]
  },
  {
   "cell_type": "code",
   "execution_count": 170,
   "id": "b6d62a81-60b2-442d-bbe0-96d487be5f0d",
   "metadata": {},
   "outputs": [
    {
     "data": {
      "text/plain": [
       "77"
      ]
     },
     "execution_count": 170,
     "metadata": {},
     "output_type": "execute_result"
    }
   ],
   "source": [
    "len(rows)\n"
   ]
  },
  {
   "cell_type": "code",
   "execution_count": 174,
   "id": "f3e450e5-e0aa-4b30-aa86-315a43f489aa",
   "metadata": {},
   "outputs": [
    {
     "data": {
      "text/plain": [
       "'INSERT INTO employee.employee_data VALUES (%s,%s,%s,%s,%s,%s,%s,%s,%s,%s,%s,%s,%s,%s,%s,%s,%s,%s,%s,%s,%s,%s,%s,%s,%s,%s,%s,%s,%s,%s,%s,%s,%s,%s,%s,%s,%s,%s,%s,%s,%s,%s,%s,%s,%s,%s,%s,%s,%s,%s,%s,%s,%s,%s,%s,%s,%s,%s,%s,%s,%s,%s,%s,%s,%s,%s,%s,%s,%s,%s,%s,%s,%s,%s,%s,%s,s)'"
      ]
     },
     "execution_count": 174,
     "metadata": {},
     "output_type": "execute_result"
    }
   ],
   "source": []
  },
  {
   "cell_type": "code",
   "execution_count": 11,
   "id": "13071468-326e-482f-a65b-70c44700958a",
   "metadata": {},
   "outputs": [
    {
     "data": {
      "text/plain": [
       "[(datetime.datetime(2022, 3, 10, 0, 0), 'IT_Equipment.10.03.2022.csv'),\n",
       " (datetime.datetime(2022, 5, 11, 0, 0), 'IT_Equipment.11.05.22.csv'),\n",
       " (datetime.datetime(2022, 2, 4, 0, 0), 'IT_Equipment.4.02.2022.csv')]"
      ]
     },
     "execution_count": 11,
     "metadata": {},
     "output_type": "execute_result"
    }
   ],
   "source": [
    "datetime_ls"
   ]
  },
  {
   "cell_type": "code",
   "execution_count": 16,
   "id": "6ca7aaa9-8d6e-4f4d-9c1c-8b450fa1bee0",
   "metadata": {},
   "outputs": [
    {
     "data": {
      "text/plain": [
       "'IT_Equipment.4.02.2022.csv'"
      ]
     },
     "execution_count": 16,
     "metadata": {},
     "output_type": "execute_result"
    }
   ],
   "source": [
    "file = datetime_ls[-1][1]\n",
    "file"
   ]
  },
  {
   "cell_type": "code",
   "execution_count": 17,
   "id": "085fe155-035f-406a-adf2-d9f0f8cc9d0b",
   "metadata": {},
   "outputs": [
    {
     "data": {
      "text/plain": [
       "'./IT_Equipment.4.02.2022.csv'"
      ]
     },
     "execution_count": 17,
     "metadata": {},
     "output_type": "execute_result"
    }
   ],
   "source": [
    "filepath = os.path.join(PARENT_PATH, file)\n",
    "filepath"
   ]
  },
  {
   "cell_type": "code",
   "execution_count": 26,
   "id": "805ae179-11ba-456c-bf3f-8cd042c984c4",
   "metadata": {},
   "outputs": [
    {
     "data": {
      "text/plain": [
       "'./IT_Equipment.4.02.2022.csv'"
      ]
     },
     "execution_count": 26,
     "metadata": {},
     "output_type": "execute_result"
    }
   ],
   "source": [
    "filepath"
   ]
  },
  {
   "cell_type": "code",
   "execution_count": 27,
   "id": "aafdd4c1-e75a-4047-a755-659af1c110f4",
   "metadata": {},
   "outputs": [
    {
     "data": {
      "text/plain": [
       "'IT_Equipment.4.02.2022.csv'"
      ]
     },
     "execution_count": 27,
     "metadata": {},
     "output_type": "execute_result"
    }
   ],
   "source": [
    "datetime_ls[i][1]"
   ]
  },
  {
   "cell_type": "code",
   "execution_count": 134,
   "id": "acf47b03-94c2-4819-9389-c0ace06e71ae",
   "metadata": {},
   "outputs": [],
   "source": [
    "PARENT_PATH = './'"
   ]
  },
  {
   "cell_type": "code",
   "execution_count": 138,
   "id": "44e6649f-6cad-4cfb-b121-b9ea85903b5b",
   "metadata": {},
   "outputs": [],
   "source": [
    "def get_csv_to_df(filepath : str, filename : str, datetime) :\n",
    "    try :\n",
    "        df = pd.read_csv(filepath, header = None, delimiter = ',', encoding='latin-1') \n",
    "        df[\"SOURCES\"] = filename\n",
    "        df['timestamp'] = datetime.strftime('%d-%m-%y')\n",
    "        if 'Is Loading Bay Item ' in str(df.iloc[0][1]) :    # if csv have header\n",
    "            df = pd.read_csv(filepath, header = 0, delimiter = ',', encoding='latin-1') \n",
    "            df[\"SOURCES\"] = filename\n",
    "            df['timestamp'] = datetime.strftime('%d-%m-%y')\n",
    "        \n",
    "    except pd.errors.ParserError:\n",
    "        df = pd.read_csv(filepath, header = None, delimiter = ';', encoding='latin-1') \n",
    "        df[\"SOURCES\"] = filename\n",
    "        df['timestamp'] = datetime.strftime('%d-%m-%y')\n",
    "        if 'Is Loading Bay Item ' in str(df.iloc[0][1]) :    # if csv have header\n",
    "            df = pd.read_csv(filepath, header = 0, delimiter = ';', encoding='latin-1') \n",
    "            df[\"SOURCES\"] = filename\n",
    "            df['timestamp'] = datetime.strftime('%d-%m-%y')\n",
    "    \n",
    "    return df"
   ]
  },
  {
   "cell_type": "code",
   "execution_count": 141,
   "id": "39f962ef-d6be-40d0-bbe1-f26ed5503971",
   "metadata": {},
   "outputs": [
    {
     "name": "stdout",
     "output_type": "stream",
     "text": [
      "---------- 0 IT_Equipment.10.03.2022.csv ----------\n",
      "62\n",
      "---------- 1 IT_Equipment.11.05.22.csv ----------\n",
      "77\n",
      "---------- 2 IT_Equipment.4.02.2022.csv ----------\n",
      "76\n"
     ]
    }
   ],
   "source": [
    "for i in range(3) :\n",
    "    print('-'*10, i, datetime_ls[i][1], '-'*10)\n",
    "    filepath = os.path.join(PARENT_PATH, datetime_ls[i][1])\n",
    "    df = get_csv_to_df(filepath, datetime_ls[i][1], datetime_ls[i][0])\n",
    "    print(len(df.columns)-2)"
   ]
  },
  {
   "cell_type": "code",
   "execution_count": 21,
   "id": "5c2c5d4a-7587-4a51-a9ed-d842e8ffe527",
   "metadata": {},
   "outputs": [
    {
     "name": "stdout",
     "output_type": "stream",
     "text": [
      "(datetime.datetime(2022, 3, 10, 0, 0), 'IT_Equipment.10.03.2022.csv')\n",
      "(datetime.datetime(2022, 5, 11, 0, 0), 'IT_Equipment.11.05.22.csv')\n",
      "(datetime.datetime(2022, 2, 4, 0, 0), 'IT_Equipment.4.02.2022.csv')\n"
     ]
    }
   ],
   "source": [
    "for file in datetime_ls :\n",
    "    print(file)"
   ]
  },
  {
   "cell_type": "code",
   "execution_count": 32,
   "id": "cf856b0c-1310-40fb-9a67-f7cf38f9ee89",
   "metadata": {},
   "outputs": [],
   "source": [
    "PARENT_PATH = './modifie' # Must contain every csv file\n",
    "ARCHIVE_PATH = './historique' # Folder for archive"
   ]
  },
  {
   "cell_type": "code",
   "execution_count": 33,
   "id": "fb3d7096-d4e9-455b-8747-b3724c02dfa3",
   "metadata": {},
   "outputs": [
    {
     "data": {
      "text/plain": [
       "['IT_Equipment.10.03.2022.csv',\n",
       " 'IT_Equipment.11.05.22.csv',\n",
       " 'IT_Equipment.4.02.2022.csv']"
      ]
     },
     "execution_count": 33,
     "metadata": {},
     "output_type": "execute_result"
    }
   ],
   "source": [
    "dir_ls = os.listdir(PARENT_PATH)\n",
    "dir_ls"
   ]
  },
  {
   "cell_type": "code",
   "execution_count": 34,
   "id": "768429bc-6239-4ab4-850d-a8496e323c4e",
   "metadata": {},
   "outputs": [
    {
     "data": {
      "text/plain": [
       "(datetime.datetime(2022, 5, 11, 0, 0), 'IT_Equipment.11.05.22.csv')"
      ]
     },
     "execution_count": 34,
     "metadata": {},
     "output_type": "execute_result"
    }
   ],
   "source": [
    "datetime_ls = [get_datetime(file) for file in dir_ls if get_datetime(file)[0] is not None]\n",
    "last_file = max(datetime_ls)    # latest file\n",
    "last_file"
   ]
  },
  {
   "cell_type": "code",
   "execution_count": 124,
   "id": "082e0e69-67d0-4adf-a70b-2fcf9e1317c1",
   "metadata": {},
   "outputs": [],
   "source": [
    "def get_csv_to_df(filepath : str, filename : str) :\n",
    "    try :\n",
    "        df = pd.read_csv(filepath, header = None, delimiter = ',', encoding='latin-1') \n",
    "        df[\"SOURCES\"] = filename\n",
    "        if 'Is Loading Bay Item ' in str(df.iloc[0][1]) :    # if csv have header\n",
    "            df = pd.read_csv(filepath, header = 0, delimiter = ',', encoding='latin-1') \n",
    "            df[\"SOURCES\"] = filename\n",
    "        \n",
    "    except pd.errors.ParserError:\n",
    "        df = pd.read_csv(filepath, header = None, delimiter = ';', encoding='latin-1') \n",
    "        df[\"SOURCES\"] = filename\n",
    "        if 'Is Loading Bay Item ' in str(df.iloc[0][1]) :    # if csv have header\n",
    "            df = pd.read_csv(filepath, header = 0, delimiter = ';', encoding='latin-1') \n",
    "            df[\"SOURCES\"] = filename\n",
    "    \n",
    "    return df"
   ]
  },
  {
   "cell_type": "code",
   "execution_count": 106,
   "id": "f05d8438-1cc9-4c67-9789-e608000635c9",
   "metadata": {},
   "outputs": [
    {
     "data": {
      "text/plain": [
       "'IT_Equipment.10.03.2022.csv'"
      ]
     },
     "execution_count": 106,
     "metadata": {},
     "output_type": "execute_result"
    }
   ],
   "source": [
    "filepath = os.path.join(PARENT_PATH, datetime_ls[0][1])\n",
    "filename = datetime_ls[0][1]\n",
    "filename"
   ]
  },
  {
   "cell_type": "code",
   "execution_count": 107,
   "id": "3e8cbecb-2296-4791-ae00-e2a0f40c2f5f",
   "metadata": {},
   "outputs": [],
   "source": [
    "filepath = \"./IT_Equipment.10.03.2022.csv\""
   ]
  },
  {
   "cell_type": "code",
   "execution_count": 116,
   "id": "00552008-bed6-4e9e-99c4-065710c3e80e",
   "metadata": {},
   "outputs": [
    {
     "data": {
      "text/plain": [
       "'IT_Equipment.11.05.22.csv'"
      ]
     },
     "execution_count": 116,
     "metadata": {},
     "output_type": "execute_result"
    }
   ],
   "source": [
    "filename"
   ]
  },
  {
   "cell_type": "code",
   "execution_count": 123,
   "id": "79f19e7f-8704-41da-bc6a-7884d00c5e3a",
   "metadata": {},
   "outputs": [
    {
     "data": {
      "text/plain": [
       "False"
      ]
     },
     "execution_count": 123,
     "metadata": {},
     "output_type": "execute_result"
    }
   ],
   "source": [
    "aa = pd.read_csv(filepath, header = None, delimiter = ';', encoding='latin-1') \n",
    "\"dsqds\" in str(aa.iloc[0][1])"
   ]
  },
  {
   "cell_type": "code",
   "execution_count": 144,
   "id": "f85c9cec-41e9-4aae-b521-142ec516c8d2",
   "metadata": {},
   "outputs": [
    {
     "data": {
      "text/html": [
       "<div>\n",
       "<style scoped>\n",
       "    .dataframe tbody tr th:only-of-type {\n",
       "        vertical-align: middle;\n",
       "    }\n",
       "\n",
       "    .dataframe tbody tr th {\n",
       "        vertical-align: top;\n",
       "    }\n",
       "\n",
       "    .dataframe thead th {\n",
       "        text-align: right;\n",
       "    }\n",
       "</style>\n",
       "<table border=\"1\" class=\"dataframe\">\n",
       "  <thead>\n",
       "    <tr style=\"text-align: right;\">\n",
       "      <th></th>\n",
       "      <th>ï»¿Type d'Ã©quipement</th>\n",
       "      <th>Is Loading Bay Item</th>\n",
       "      <th>Zone spÃ©cifique du quai de chargement</th>\n",
       "      <th>Nom</th>\n",
       "      <th>NumÃ©ro d'asset</th>\n",
       "      <th>Fabricant</th>\n",
       "      <th>ModÃ¨le</th>\n",
       "      <th>Nom de la salle</th>\n",
       "      <th>Nom de baie</th>\n",
       "      <th>Slot U</th>\n",
       "      <th>...</th>\n",
       "      <th>Largeur (m)</th>\n",
       "      <th>Profondeur (m)</th>\n",
       "      <th>Poids (kg)</th>\n",
       "      <th>SynchronisÃ© avec Gateway</th>\n",
       "      <th>ID SystÃ¨me externe</th>\n",
       "      <th>ID SystÃ¨me Asset</th>\n",
       "      <th>ID SystÃ¨me Baie</th>\n",
       "      <th>ID SystÃ¨me ChÃ¢ssis</th>\n",
       "      <th>SOURCES</th>\n",
       "      <th>timestamp</th>\n",
       "    </tr>\n",
       "  </thead>\n",
       "  <tbody>\n",
       "    <tr>\n",
       "      <th>0</th>\n",
       "      <td>Equipements IT</td>\n",
       "      <td>NaN</td>\n",
       "      <td>NaN</td>\n",
       "      <td>SU919</td>\n",
       "      <td>2885508</td>\n",
       "      <td>Sun</td>\n",
       "      <td>SunFire V890</td>\n",
       "      <td>PC</td>\n",
       "      <td>J03</td>\n",
       "      <td>1</td>\n",
       "      <td>...</td>\n",
       "      <td>0.480</td>\n",
       "      <td>0.836</td>\n",
       "      <td>130.6</td>\n",
       "      <td>NaN</td>\n",
       "      <td>0</td>\n",
       "      <td>798936-126608</td>\n",
       "      <td>798936-126594</td>\n",
       "      <td>NaN</td>\n",
       "      <td>IT_Equipment.11.05.22.csv</td>\n",
       "      <td>11-05-22</td>\n",
       "    </tr>\n",
       "    <tr>\n",
       "      <th>1</th>\n",
       "      <td>Equipements IT</td>\n",
       "      <td>NaN</td>\n",
       "      <td>NaN</td>\n",
       "      <td>DEMOCRITE</td>\n",
       "      <td>2656355</td>\n",
       "      <td>Sun</td>\n",
       "      <td>SunFire V100</td>\n",
       "      <td>PC</td>\n",
       "      <td>I03</td>\n",
       "      <td>38</td>\n",
       "      <td>...</td>\n",
       "      <td>0.437</td>\n",
       "      <td>0.483</td>\n",
       "      <td>6.0</td>\n",
       "      <td>NaN</td>\n",
       "      <td>0</td>\n",
       "      <td>798937-126811</td>\n",
       "      <td>798936-126723</td>\n",
       "      <td>NaN</td>\n",
       "      <td>IT_Equipment.11.05.22.csv</td>\n",
       "      <td>11-05-22</td>\n",
       "    </tr>\n",
       "    <tr>\n",
       "      <th>2</th>\n",
       "      <td>Equipements IT</td>\n",
       "      <td>NaN</td>\n",
       "      <td>NaN</td>\n",
       "      <td>LEUCIPPE</td>\n",
       "      <td>2656358</td>\n",
       "      <td>Sun</td>\n",
       "      <td>SunFire V100</td>\n",
       "      <td>PC</td>\n",
       "      <td>H03</td>\n",
       "      <td>38</td>\n",
       "      <td>...</td>\n",
       "      <td>0.437</td>\n",
       "      <td>0.483</td>\n",
       "      <td>6.0</td>\n",
       "      <td>NaN</td>\n",
       "      <td>0</td>\n",
       "      <td>798937-126945</td>\n",
       "      <td>798937-126870</td>\n",
       "      <td>NaN</td>\n",
       "      <td>IT_Equipment.11.05.22.csv</td>\n",
       "      <td>11-05-22</td>\n",
       "    </tr>\n",
       "    <tr>\n",
       "      <th>3</th>\n",
       "      <td>Equipements IT</td>\n",
       "      <td>NaN</td>\n",
       "      <td>NaN</td>\n",
       "      <td>SU888</td>\n",
       "      <td>2885019</td>\n",
       "      <td>Sun</td>\n",
       "      <td>SunFire V210</td>\n",
       "      <td>PC</td>\n",
       "      <td>F03</td>\n",
       "      <td>20</td>\n",
       "      <td>...</td>\n",
       "      <td>0.425</td>\n",
       "      <td>0.635</td>\n",
       "      <td>12.0</td>\n",
       "      <td>NaN</td>\n",
       "      <td>0</td>\n",
       "      <td>798937-127056</td>\n",
       "      <td>798937-127004</td>\n",
       "      <td>NaN</td>\n",
       "      <td>IT_Equipment.11.05.22.csv</td>\n",
       "      <td>11-05-22</td>\n",
       "    </tr>\n",
       "    <tr>\n",
       "      <th>4</th>\n",
       "      <td>Equipements IT</td>\n",
       "      <td>NaN</td>\n",
       "      <td>NaN</td>\n",
       "      <td>SU846</td>\n",
       "      <td>2656367</td>\n",
       "      <td>Sun Microsystems</td>\n",
       "      <td>SunFire V440</td>\n",
       "      <td>PC</td>\n",
       "      <td>G03</td>\n",
       "      <td>5</td>\n",
       "      <td>...</td>\n",
       "      <td>0.440</td>\n",
       "      <td>0.635</td>\n",
       "      <td>37.0</td>\n",
       "      <td>NaN</td>\n",
       "      <td>0</td>\n",
       "      <td>798937-127169</td>\n",
       "      <td>798937-127151</td>\n",
       "      <td>NaN</td>\n",
       "      <td>IT_Equipment.11.05.22.csv</td>\n",
       "      <td>11-05-22</td>\n",
       "    </tr>\n",
       "  </tbody>\n",
       "</table>\n",
       "<p>5 rows × 78 columns</p>\n",
       "</div>"
      ],
      "text/plain": [
       "  ï»¿Type d'Ã©quipement   Is Loading Bay Item   \\\n",
       "0         Equipements IT                   NaN   \n",
       "1         Equipements IT                   NaN   \n",
       "2         Equipements IT                   NaN   \n",
       "3         Equipements IT                   NaN   \n",
       "4         Equipements IT                   NaN   \n",
       "\n",
       "   Zone spÃ©cifique du quai de chargement        Nom  NumÃ©ro d'asset   \\\n",
       "0                                      NaN      SU919          2885508   \n",
       "1                                      NaN  DEMOCRITE          2656355   \n",
       "2                                      NaN   LEUCIPPE          2656358   \n",
       "3                                      NaN      SU888          2885019   \n",
       "4                                      NaN      SU846          2656367   \n",
       "\n",
       "         Fabricant       ModÃ¨le  Nom de la salle  Nom de baie   Slot U   ...  \\\n",
       "0               Sun  SunFire V890               PC          J03        1  ...   \n",
       "1               Sun  SunFire V100               PC          I03       38  ...   \n",
       "2               Sun  SunFire V100               PC          H03       38  ...   \n",
       "3               Sun  SunFire V210               PC          F03       20  ...   \n",
       "4  Sun Microsystems  SunFire V440               PC          G03        5  ...   \n",
       "\n",
       "  Largeur (m)  Profondeur (m) Poids (kg) SynchronisÃ© avec Gateway   \\\n",
       "0       0.480           0.836      130.6                        NaN   \n",
       "1       0.437           0.483        6.0                        NaN   \n",
       "2       0.437           0.483        6.0                        NaN   \n",
       "3       0.425           0.635       12.0                        NaN   \n",
       "4       0.440           0.635       37.0                        NaN   \n",
       "\n",
       "  ID SystÃ¨me externe  ID SystÃ¨me Asset   ID SystÃ¨me Baie   \\\n",
       "0                    0      798936-126608      798936-126594   \n",
       "1                    0      798937-126811      798936-126723   \n",
       "2                    0      798937-126945      798937-126870   \n",
       "3                    0      798937-127056      798937-127004   \n",
       "4                    0      798937-127169      798937-127151   \n",
       "\n",
       "  ID SystÃ¨me ChÃ¢ssis                     SOURCES  timestamp  \n",
       "0                   NaN  IT_Equipment.11.05.22.csv   11-05-22  \n",
       "1                   NaN  IT_Equipment.11.05.22.csv   11-05-22  \n",
       "2                   NaN  IT_Equipment.11.05.22.csv   11-05-22  \n",
       "3                   NaN  IT_Equipment.11.05.22.csv   11-05-22  \n",
       "4                   NaN  IT_Equipment.11.05.22.csv   11-05-22  \n",
       "\n",
       "[5 rows x 78 columns]"
      ]
     },
     "execution_count": 144,
     "metadata": {},
     "output_type": "execute_result"
    }
   ],
   "source": [
    "filepath = os.path.join(PARENT_PATH, datetime_ls[2][1])\n",
    "filename = datetime_ls[1][1]\n",
    "datetime = datetime_ls[1][0]\n",
    "filename\n",
    "df = get_csv_to_df(filepath, filename, datetime)\n",
    "df.head()"
   ]
  },
  {
   "cell_type": "code",
   "execution_count": null,
   "id": "87afd1c5-7c2c-4b0f-bf76-467f9aaa4676",
   "metadata": {},
   "outputs": [],
   "source": [
    "CREATE TRIGGER move_equipment AFTER\n",
    "INSERT ON\n",
    " IT_Equipment_records FOR EACH ROW\n",
    "BEGIN"
   ]
  },
  {
   "cell_type": "markdown",
   "id": "bd1cba5a-3d84-49a6-aa86-8041a313fc0d",
   "metadata": {},
   "source": [
    "# datetime_ls[0][0].strftime(\"%d-%m-%y\")"
   ]
  }
 ],
 "metadata": {
  "kernelspec": {
   "display_name": "Python 3 (ipykernel)",
   "language": "python",
   "name": "python3"
  },
  "language_info": {
   "codemirror_mode": {
    "name": "ipython",
    "version": 3
   },
   "file_extension": ".py",
   "mimetype": "text/x-python",
   "name": "python",
   "nbconvert_exporter": "python",
   "pygments_lexer": "ipython3",
   "version": "3.9.7"
  }
 },
 "nbformat": 4,
 "nbformat_minor": 5
}
