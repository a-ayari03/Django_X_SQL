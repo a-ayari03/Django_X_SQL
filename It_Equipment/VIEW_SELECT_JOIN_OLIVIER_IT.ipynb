{
 "cells": [
  {
   "cell_type": "markdown",
   "id": "238a803e",
   "metadata": {},
   "source": [
    "Recherche sur le rack AG22 où y a que des equipments sans match"
   ]
  },
  {
   "cell_type": "markdown",
   "id": "a7d0834c",
   "metadata": {},
   "source": [
    "SELECT it.asset_id asset_id_it, it.short_name, it.nom, it.status status_it, it.modele, it.reperage_id, it.hauteur_u FROM `IT_Equipment_v2` it where Reperage_ID like '%AG22%' ORDER BY Reperage_ID asc limit 500 "
   ]
  },
  {
   "cell_type": "code",
   "execution_count": null,
   "id": "699b4c5e",
   "metadata": {},
   "outputs": [],
   "source": []
  },
  {
   "cell_type": "code",
   "execution_count": null,
   "id": "fdb96b60",
   "metadata": {},
   "outputs": [],
   "source": [
    "SELECT Type, Etat_dinstallation,it.asset_id asset_id_it, it.short_name, it.nom, it.status status_it, it.modele, it.reperage_id, it.hauteur_u \n",
    "FROM `IT_Equipment_v2` it\n",
    "where status is null\n",
    "ORDER BY Reperage_ID asc"
   ]
  },
  {
   "cell_type": "code",
   "execution_count": null,
   "id": "7cb1051e",
   "metadata": {},
   "outputs": [],
   "source": [
    "ALTER TABLE olivier_it\n",
    "ADD COLUMN status varchar(255) ;"
   ]
  },
  {
   "cell_type": "markdown",
   "id": "25814d24",
   "metadata": {},
   "source": [
    "# VIEW"
   ]
  },
  {
   "cell_type": "code",
   "execution_count": null,
   "id": "a219f287",
   "metadata": {},
   "outputs": [],
   "source": []
  },
  {
   "cell_type": "code",
   "execution_count": null,
   "id": "1a813380",
   "metadata": {},
   "outputs": [],
   "source": []
  },
  {
   "cell_type": "code",
   "execution_count": null,
   "id": "8a9311eb",
   "metadata": {},
   "outputs": [],
   "source": []
  },
  {
   "cell_type": "markdown",
   "id": "50686ff6",
   "metadata": {},
   "source": [
    "# SELECT"
   ]
  },
  {
   "cell_type": "markdown",
   "id": "626f25bd",
   "metadata": {},
   "source": [
    "## QUERY DE BASE"
   ]
  },
  {
   "cell_type": "code",
   "execution_count": null,
   "id": "2727124a",
   "metadata": {},
   "outputs": [],
   "source": [
    "SELECT nom_de_la_salle,it.asset_id asset_id_it, it.short_name, it.nom, it.status status_it, it.modele, it.reperage_id, it.hauteur_u \n",
    "FROM `IT_Equipment_v2` it\n",
    "where nom_de_la_salle in ('P1', 'P2', 'P3', 'P4')\n",
    "ORDER BY Reperage_ID asc"
   ]
  },
  {
   "cell_type": "code",
   "execution_count": null,
   "id": "15a257c7",
   "metadata": {},
   "outputs": [],
   "source": [
    "SELECT oit.Long_name,\n",
    "\t\toit.short_name,\n",
    "        oit.asset_id,\n",
    "        oit.Salle_Origin,\n",
    "        oit.Rack_U_Origin,\n",
    "        oit.olivier_index,\n",
    "        oit.PROJET_Responsable\n",
    "\n",
    "FROM `olivier_it` oit"
   ]
  },
  {
   "cell_type": "markdown",
   "id": "a5e76f06",
   "metadata": {},
   "source": [
    "## Jointure pour trouver les différences"
   ]
  },
  {
   "cell_type": "markdown",
   "id": "d0aa7225",
   "metadata": {},
   "source": [
    "### INNER JOIN"
   ]
  },
  {
   "cell_type": "code",
   "execution_count": null,
   "id": "afeccb0f",
   "metadata": {},
   "outputs": [],
   "source": [
    "SELECT nom_de_la_salle,it.asset_id asset_id_it, it.short_name, it.nom, it.status status_it, it.modele, it.reperage_id, CONCAT(it.Nom_de_la_salle, it.reperage_id) it_index, oit.olivier_index\n",
    "FROM `IT_Equipment_v2` it\n",
    "INNER JOIN `olivier_it` oit on oit.olivier_index = CONCAT(it.Nom_de_la_salle, it.reperage_id)\n",
    "\n",
    "where nom_de_la_salle in ('P1', 'P2', 'P3', 'P4')\n",
    "-- AND (oit.olivier_index is null or it.reperage_id is null)\n",
    "ORDER BY Reperage_ID asc"
   ]
  },
  {
   "cell_type": "markdown",
   "id": "ab8e103d",
   "metadata": {},
   "source": [
    "### LEFT JOIN pour extract en csv"
   ]
  },
  {
   "cell_type": "code",
   "execution_count": null,
   "id": "4b16221d",
   "metadata": {},
   "outputs": [],
   "source": [
    "SELECT nom_de_la_salle,it.asset_id asset_id_it, it.short_name, it.nom, it.status status_it, it.modele, it.reperage_id, CONCAT(it.Nom_de_la_salle, it.reperage_id) it_index, oit.olivier_index\n",
    "FROM `IT_Equipment_v2` it\n",
    "LEFT JOIN `olivier_it` oit on oit.olivier_index = CONCAT(it.Nom_de_la_salle, it.reperage_id)\n",
    "\n",
    "where nom_de_la_salle in ('P1', 'P2', 'P3', 'P4') and oit.olivier_index is null\n",
    "-- AND (oit.olivier_index is null or it.reperage_id is null)\n",
    "ORDER BY Reperage_ID asc"
   ]
  },
  {
   "cell_type": "markdown",
   "id": "b53884c5",
   "metadata": {},
   "source": [
    "### RIGHT JOIN "
   ]
  },
  {
   "cell_type": "code",
   "execution_count": null,
   "id": "6ca8921d",
   "metadata": {},
   "outputs": [],
   "source": [
    "SELECT oit.Long_name,\n",
    "\t\toit.short_name,\n",
    "        oit.asset_id,\n",
    "        oit.Salle_Origin,\n",
    "        oit.Rack_U_Origin,\n",
    "        oit.olivier_index,\n",
    "        oit.PROJET_Responsable,\n",
    "        CONCAT(it.Nom_de_la_salle, it.reperage_id) it_index\n",
    "        \n",
    "FROM `olivier_it` oit\n",
    "LEFT JOIN `IT_Equipment_v2` it on oit.olivier_index = CONCAT(it.Nom_de_la_salle, it.reperage_id)\n",
    "\n",
    "where  it.reperage_id is null\n",
    "-- AND (oit.olivier_index is null or it.reperage_id is null)"
   ]
  }
 ],
 "metadata": {
  "kernelspec": {
   "display_name": "Python 3 (ipykernel)",
   "language": "python",
   "name": "python3"
  },
  "language_info": {
   "codemirror_mode": {
    "name": "ipython",
    "version": 3
   },
   "file_extension": ".py",
   "mimetype": "text/x-python",
   "name": "python",
   "nbconvert_exporter": "python",
   "pygments_lexer": "ipython3",
   "version": "3.9.7"
  }
 },
 "nbformat": 4,
 "nbformat_minor": 5
}
