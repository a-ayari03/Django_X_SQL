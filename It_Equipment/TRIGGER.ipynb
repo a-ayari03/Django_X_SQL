{
 "cells": [
  {
   "cell_type": "markdown",
   "id": "1185931b-b8ac-48c4-8507-29aa41a5c3f1",
   "metadata": {},
   "source": [
    "/*delimiter //\n",
    "CREATE TRIGGER `move_equipment` BEFORE INSERT ON `IT_Equipment_records`\n",
    " FOR EACH ROW BEGIN\n",
    "    DECLARE _Reperage_ID , _Nom_de_la_salle, _INSERTED varchar(255);\n",
    "    \n",
    "        SELECT Reperage_ID, Nom_de_la_salle, INSERTED \n",
    "        INTO _Reperage_ID, _Nom_de_la_salle, _INSERTED\n",
    "        FROM `IT_Equipment_records`\n",
    "        WHERE ID_Systeme_Asset = NEW.ID_Systeme_Asset\n",
    "        ORDER BY STR_TO_DATE((inserted),'%y-%m-%d') DESC\n",
    "        LIMIT 1 ;\n",
    "    \n",
    "        IF(\n",
    "          (NEW.reperage_id != _Reperage_ID OR \n",
    "          NEW.Nom_de_la_salle != _Nom_de_la_salle) AND \n",
    "          ( NEW.ID_Systeme_Asset != '0' or NEW.ID_Systeme_Asset != ' ' )\n",
    "        )\n",
    "        THEN\n",
    "        INSERT INTO move_records_equipments (asset_id, ID_Systeme_Asset, modele, from_salle, from_reperage_id, to_salle, to_reperage_id, from_date, to_date) \n",
    "           VALUES (NEW.asset_id, NEW.ID_Systeme_Asset, NEW.modele, _Nom_de_la_salle, _reperage_id, new.Nom_de_la_salle, new.reperage_id, _INSERTED, new.inserted);\n",
    "        END IF;\n",
    "           \n",
    "END\n",
    "*/"
   ]
  }
 ],
 "metadata": {
  "kernelspec": {
   "display_name": "Python 3 (ipykernel)",
   "language": "python",
   "name": "python3"
  },
  "language_info": {
   "codemirror_mode": {
    "name": "ipython",
    "version": 3
   },
   "file_extension": ".py",
   "mimetype": "text/x-python",
   "name": "python",
   "nbconvert_exporter": "python",
   "pygments_lexer": "ipython3",
   "version": "3.9.7"
  }
 },
 "nbformat": 4,
 "nbformat_minor": 5
}
