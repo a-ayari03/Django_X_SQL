{
 "cells": [
  {
   "cell_type": "markdown",
   "id": "659d2b0d-afe0-4f13-bd06-328f55eeeacc",
   "metadata": {},
   "source": [
    "# Equipment_move_workflow"
   ]
  },
  {
   "cell_type": "code",
   "execution_count": null,
   "id": "f38796c5-28c6-4ad1-b90a-ff83160050c0",
   "metadata": {},
   "outputs": [],
   "source": [
    "## FROM : Ancienne table, INNER JOIN : Nouvelle base "
   ]
  },
  {
   "cell_type": "markdown",
   "id": "d05ae24a-d2d9-46ba-b610-a6f2fe90b2de",
   "metadata": {},
   "source": [
    "/*delimiter //\n",
    "CREATE TRIGGER `move_equipment` BEFORE INSERT ON `IT_Equipment_records`\n",
    " FOR EACH ROW BEGIN\n",
    "    DECLARE _Reperage_ID , _Nom_de_la_salle, _INSERTED varchar(255);\n",
    "    \n",
    "        SELECT Reperage_ID, Nom_de_la_salle, INSERTED \n",
    "        INTO _Reperage_ID, _Nom_de_la_salle, _INSERTED\n",
    "        FROM `IT_Equipment_records`\n",
    "        WHERE ID_Systeme_Asset = NEW.ID_Systeme_Asset\n",
    "        ORDER BY STR_TO_DATE((inserted),'%y-%m-%d') DESC\n",
    "        LIMIT 1 ;\n",
    "    \n",
    "        IF(\n",
    "          (NEW.reperage_id != _Reperage_ID OR \n",
    "          NEW.Nom_de_la_salle != _Nom_de_la_salle) AND \n",
    "          ( NEW.ID_Systeme_Asset != '0' or NEW.ID_Systeme_Asset != ' ' )\n",
    "        )\n",
    "        THEN\n",
    "        INSERT INTO move_records_equipments (asset_id, ID_Systeme_Asset, modele, from_salle, from_reperage_id, to_salle, to_reperage_id, from_date, to_date) \n",
    "           VALUES (NEW.asset_id, NEW.ID_Systeme_Asset, NEW.modele, _Nom_de_la_salle, _reperage_id, new.Nom_de_la_salle, new.reperage_id, _INSERTED, new.inserted);\n",
    "        END IF;\n",
    "           \n",
    "END\n",
    "*/"
   ]
  },
  {
   "cell_type": "code",
   "execution_count": null,
   "id": "1519d5d4-435b-4cf7-90a7-9f3dbe9b25b5",
   "metadata": {},
   "outputs": [],
   "source": [
    "drop table if exists `IT_Equipment_unique_records` ;\n",
    "create table `IT_Equipment_unique_records`\n",
    "as \n",
    "select * from `IT_Equipment_records`\n",
    "GROUP BY ID_Systeme_Asset ;"
   ]
  },
  {
   "cell_type": "code",
   "execution_count": null,
   "id": "cd9cfd7a-df09-4579-84cf-9b94d4d5acf1",
   "metadata": {},
   "outputs": [],
   "source": [
    "ALTER TABLE IT_Equipment_unique_records\n",
    "ADD COLUMN first_occurence varchar(255),\n",
    "ADD COLUMN last_move_salle varchar(255),\n",
    "ADD COLUMN last_move varchar(255),\n",
    "ADD COLUMN last_move_date varchar(255),\n",
    "ADD COLUMN clean_date varchar(255) ;"
   ]
  },
  {
   "cell_type": "code",
   "execution_count": null,
   "id": "82d1ea87-652b-46f5-8241-1e31a981c6cf",
   "metadata": {},
   "outputs": [],
   "source": [
    "drop view if exists IT_Equipment_sorted_by_date_asc ;\n",
    "create view `IT_Equipment_sorted_by_date_asc` \n",
    "as\n",
    "select ASSET_ID, ID_Systeme_Asset, Modele, Nom_de_la_salle, Reperage_ID, SOURCES, INSERTED from `IT_Equipment_records` \n",
    "ORDER BY STR_TO_DATE((inserted),'%y-%m-%d') ASC ;\n",
    "\n",
    "drop view if exists IT_Equipment_sorted_by_date_desc ;\n",
    "create view `IT_Equipment_sorted_by_date_desc` \n",
    "as\n",
    "select ASSET_ID, ID_Systeme_Asset, Modele, Nom_de_la_salle, Reperage_ID, SOURCES, INSERTED from `IT_Equipment_records` \n",
    "ORDER BY STR_TO_DATE((inserted),'%y-%m-%d') DESC ;"
   ]
  },
  {
   "cell_type": "code",
   "execution_count": null,
   "id": "6acc6406-e79e-42b3-ad68-720a67df695e",
   "metadata": {},
   "outputs": [],
   "source": [
    "drop view if exists IT_Equipment_first_last_occurence_per_id_all ;\n",
    "CREATE view IT_Equipment_first_last_occurence_per_id_all\n",
    "as \n",
    "select min(inserted) first_records, max(inserted) last_records, it.ID_Systeme_Asset from `IT_Equipment_sorted_by_date_asc` it\n",
    "GROUP BY ID_Systeme_Asset\n",
    "order by INSERTED desc ;"
   ]
  },
  {
   "cell_type": "code",
   "execution_count": null,
   "id": "8515a107-0cbb-4879-95b0-072eb0a55835",
   "metadata": {},
   "outputs": [],
   "source": [
    "drop view if exists IT_Equipment_first_occurence_per_id ;\n",
    "CREATE view  IT_Equipment_first_occurence_per_id\n",
    "as\n",
    "select it.* from `IT_Equipment_records` it\n",
    "INNER JOIN `IT_Equipment_first_last_occurence_per_id_all` it2 \n",
    "ON it.ID_Systeme_Asset = it2.ID_Systeme_Asset\n",
    "AND it.inserted = it2.first_records ;\n",
    "\n",
    "drop view if exists IT_Equipment_last_occurence_per_id ;\n",
    "CREATE view  IT_Equipment_last_occurence_per_id\n",
    "as\n",
    "select it.* from `IT_Equipment_records` it\n",
    "INNER JOIN `IT_Equipment_first_last_occurence_per_id_all` it2 \n",
    "ON it.ID_Systeme_Asset = it2.ID_Systeme_Asset\n",
    "AND it.inserted = it2.last_records ;"
   ]
  },
  {
   "cell_type": "markdown",
   "id": "ee702866-4059-4719-a65a-559573326b2b",
   "metadata": {},
   "source": [
    "select it.nom, it.Nom_de_la_salle, it.Reperage_ID, it.INSERTED, it.first_occurence, it.last_move, it.last_move_date,\n",
    "(CASE WHEN concat(it2.nom_de_la_salle,it2.reperage_id)  != concat(it3.nom_de_la_salle,it3.reperage_id) and it3.reperage_id != ''  THEN it3.reperage_id\n",
    "WHEN concat(it2.nom_de_la_salle,it2.reperage_id)  = concat(it3.nom_de_la_salle,it3.reperage_id) and it3.reperage_id != ''  THEN it2.reperage_id\n",
    "WHEN it3.reperage_id = ''  then it2.reperage_id\n",
    "END) NEW_POS\n",
    "\n",
    "from `IT_Equipment_unique_records` it\n",
    "INNER JOIN `IT_Equipment_first_occurence_per_id` it2\n",
    "ON it.ID_Systeme_Asset = it2.ID_Systeme_Asset\n",
    "\n",
    "INNER JOIN `IT_Equipment_last_occurence_per_id` it3\n",
    "ON it.ID_Systeme_Asset = it3.ID_Systeme_Asset\n",
    "\n",
    "where it.ID_Systeme_Asset = '1238131-88444'"
   ]
  },
  {
   "cell_type": "code",
   "execution_count": null,
   "id": "9649eeee-6a51-4e1d-922c-4ecf5954f631",
   "metadata": {},
   "outputs": [],
   "source": [
    "drop view if exists IT_Equipment_last_occurence_position ;\n",
    "CREATE view  IT_Equipment_last_occurence_position\n",
    "as\n",
    "SELECT it2.ID_Systeme_Asset, it2.nom_de_la_salle, it2.Reperage_ID, it2.INSERTED\n",
    "FROM `IT_Equipment_last_occurence_per_id` it\n",
    "INNER JOIN `IT_Equipment_records` it2 ON it.ID_Systeme_Asset = it2.ID_Systeme_Asset AND it.reperage_id = it2.reperage_id\n",
    "GROUP BY it2.ID_Systeme_Asset"
   ]
  },
  {
   "cell_type": "code",
   "execution_count": null,
   "id": "9b2e9e4c-a14d-4df0-a5ec-6b0fabdcf5f5",
   "metadata": {},
   "outputs": [],
   "source": [
    "drop view if EXISTS last_date_insertion ;\n",
    "create view last_date_insertion\n",
    "as\n",
    "select DISTINCT(INSERTED) source_insert from `IT_Equipment_records`\n",
    "ORDER by INSERTED desc\n",
    "limit 1"
   ]
  },
  {
   "cell_type": "code",
   "execution_count": null,
   "id": "b17cac5d-8516-47ae-915d-91a514e4ea5a",
   "metadata": {},
   "outputs": [],
   "source": [
    "drop view if EXISTS date_insertion_records ; \n",
    "create view date_insertion_records\n",
    "as\n",
    "select DISTINCT(INSERTED) source_insert from `IT_Equipment_records`\n",
    "ORDER by INSERTED desc ;"
   ]
  },
  {
   "cell_type": "code",
   "execution_count": null,
   "id": "e1150a07-76d2-44e8-bb37-faf15e66e0ce",
   "metadata": {},
   "outputs": [],
   "source": [
    "drop view if EXISTS IT_Equipment_cleaned_equipment;\n",
    "create view IT_Equipment_cleaned_equipment\n",
    "as \n",
    "select it.nom, it.ID_Systeme_Asset, it.nom_de_la_salle, it.Reperage_ID,it.SOURCES, it.INSERTED last_insert_date  from `IT_Equipment_last_occurence_per_id` it\n",
    "LEFT JOIN `last_date_insertion` dat ON dat.source_insert = it.inserted\n",
    "where dat.source_insert is null ;"
   ]
  },
  {
   "cell_type": "markdown",
   "id": "d326fce0-1ff6-4b81-b356-858cd2dc77f7",
   "metadata": {},
   "source": [
    "# First occurence"
   ]
  },
  {
   "cell_type": "code",
   "execution_count": null,
   "id": "b9b416d0-147d-4b7c-b5df-faf075a5f4be",
   "metadata": {},
   "outputs": [],
   "source": [
    "UPDATE `IT_Equipment_unique_records` it\n",
    "INNER JOIN `IT_Equipment_first_occurence_per_id` it2\n",
    "ON it.ID_Systeme_Asset = it2.ID_Systeme_Asset\n",
    "\n",
    "set first_occurence = it2.inserted"
   ]
  },
  {
   "cell_type": "markdown",
   "id": "49075d9a-0b3f-482f-ae9a-5e02f34df2ab",
   "metadata": {},
   "source": [
    "# Last move"
   ]
  },
  {
   "cell_type": "code",
   "execution_count": null,
   "id": "5b51974e-768d-45d0-a3d4-f660950ce4d6",
   "metadata": {},
   "outputs": [],
   "source": [
    "UPDATE `IT_Equipment_unique_records` it\n",
    "INNER JOIN `IT_Equipment_last_occurence_position` it2\n",
    "ON it.ID_Systeme_Asset = it2.ID_Systeme_Asset\n",
    "\n",
    "set last_move_date = it2.INSERTED ,\n",
    "    last_move = it2.Reperage_ID ,\n",
    "    last_move_salle = it2.nom_de_la_salle"
   ]
  },
  {
   "cell_type": "markdown",
   "id": "618b591a-51e7-4d5d-bbd9-4073a1b18e3f",
   "metadata": {},
   "source": [
    "# Clean date"
   ]
  },
  {
   "cell_type": "code",
   "execution_count": null,
   "id": "42dc5270-f3f0-4ee9-a2fb-bb5ac611d8ca",
   "metadata": {},
   "outputs": [],
   "source": [
    "UPDATE `IT_Equipment_unique_records` it\n",
    "INNER JOIN `IT_Equipment_cleaned_equipment` it2\n",
    "ON it.ID_Systeme_Asset = it2.ID_Systeme_Asset\n",
    "\n",
    "set clean_date = it2.last_insert_date\n"
   ]
  }
 ],
 "metadata": {
  "kernelspec": {
   "display_name": "Python 3 (ipykernel)",
   "language": "python",
   "name": "python3"
  },
  "language_info": {
   "codemirror_mode": {
    "name": "ipython",
    "version": 3
   },
   "file_extension": ".py",
   "mimetype": "text/x-python",
   "name": "python",
   "nbconvert_exporter": "python",
   "pygments_lexer": "ipython3",
   "version": "3.9.7"
  }
 },
 "nbformat": 4,
 "nbformat_minor": 5
}
