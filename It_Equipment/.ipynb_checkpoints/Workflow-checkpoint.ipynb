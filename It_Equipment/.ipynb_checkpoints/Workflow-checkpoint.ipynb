{
 "cells": [
  {
   "cell_type": "markdown",
   "id": "41a6b588-69d1-4e99-9cc8-51a5a1a49ebb",
   "metadata": {
    "tags": []
   },
   "source": [
    "## Creation de it_equipment -> it_equipment_v2"
   ]
  },
  {
   "cell_type": "code",
   "execution_count": null,
   "id": "50c787a7-b089-4a7c-a2c8-bdd7cfbbc8da",
   "metadata": {},
   "outputs": [],
   "source": []
  },
  {
   "cell_type": "markdown",
   "id": "14a4f9c3-f651-472e-8f22-e3d3495c44de",
   "metadata": {
    "tags": []
   },
   "source": [
    "## Creation de asset_new -> asset_filtree_v2"
   ]
  },
  {
   "cell_type": "code",
   "execution_count": null,
   "id": "a65f8272-811b-4fb5-b2ed-c84fe20cc565",
   "metadata": {},
   "outputs": [],
   "source": [
    "DROP TABLE IF EXISTS assets_filtree_v2;\n",
    "CREATE TABLE assets_filtree_v2\n",
    "as\n",
    "select *\n",
    "from`assets_new`\n",
    "where (API = 'FRVLB0C2' or API = 'FRTCRAVA')"
   ]
  },
  {
   "cell_type": "code",
   "execution_count": null,
   "id": "90f4c132-18a6-4324-b15c-0ccaf2c3c8a0",
   "metadata": {},
   "outputs": [],
   "source": [
    "ALTER TABLE assets_filtree_v2\n",
    "ADD COLUMN Rack varchar(255),\n",
    "ADD COLUMN Slot varchar(255),\n",
    "ADD COLUMN Slot_begin varchar(255),\n",
    "ADD COLUMN Slot_end varchar(255);"
   ]
  },
  {
   "cell_type": "code",
   "execution_count": null,
   "id": "97b7dbb4-fde7-4c63-a796-ff87edd89e76",
   "metadata": {},
   "outputs": [],
   "source": [
    "UPDATE assets_filtree_v2\n",
    "SET \n",
    "\tRack = SUBSTRING_INDEX(DALLE, '/', 1)  ,\n",
    "\tSlot = SUBSTRING_INDEX(DALLE, '/', -1) ,\n",
    "\tSlot_begin = SUBSTRING_INDEX(SUBSTRING_INDEX(DALLE, '/', -1), '-', 1) ,\n",
    "\tSlot_end = SUBSTRING_INDEX(DALLE, '-', -1)"
   ]
  },
  {
   "cell_type": "markdown",
   "id": "1cb80374-c781-4fda-9faf-e32a2254492f",
   "metadata": {
    "jp-MarkdownHeadingCollapsed": true,
    "tags": []
   },
   "source": [
    "## Creation de olivier_it"
   ]
  },
  {
   "cell_type": "code",
   "execution_count": null,
   "id": "9e902f8c-166c-4094-8741-7a858f716c9e",
   "metadata": {},
   "outputs": [],
   "source": [
    "ALTER TABLE olivier_it\n",
    "ADD COLUMN STATUS_2 varchar(255),\n",
    "ADD COLUMN Rack varchar(255),\n",
    "ADD COLUMN Slot_u varchar(255),\n",
    "ADD COLUMN STATUS_3 varchar(255),\n",
    "ADD COLUMN ASSET_ID_OK_POSITION varchar(255) ;"
   ]
  },
  {
   "cell_type": "code",
   "execution_count": null,
   "id": "10faf103-abcc-40d0-903c-c8db4ba7d6dd",
   "metadata": {},
   "outputs": [],
   "source": [
    "UPDATE `olivier_it`\n",
    "set\n",
    "Nom_de_baie = SUBSTRING_INDEX(reperage_id,':',1) ,\n",
    "Slot_u = SUBSTRING_INDEX(reperage_id,'Slot',-1) "
   ]
  },
  {
   "cell_type": "markdown",
   "id": "06e99fc9-7dd3-4a47-96a4-edf24c1f9421",
   "metadata": {
    "tags": []
   },
   "source": [
    "# It_equipment"
   ]
  },
  {
   "cell_type": "code",
   "execution_count": null,
   "id": "0b2ad803-3637-4f9d-8191-106efe38fc8c",
   "metadata": {},
   "outputs": [],
   "source": []
  },
  {
   "cell_type": "code",
   "execution_count": null,
   "id": "8fdd2cdf-970c-4868-9b58-030a3cc7aade",
   "metadata": {},
   "outputs": [],
   "source": [
    "ALTER VIEW IT_Equipment_match_position_reduced_v2\n",
    "as\n",
    "SELECT it.reperage_id, count(it.reperage_id) as RowNumber\n",
    "\n",
    "FROM   `IT_Equipment_v2` it \n",
    "INNER JOIN `assets_filtree_v2`aa\n",
    "ON (\n",
    "\tit.Nom_de_la_salle = aa.Salle\n",
    "AND\n",
    "\tit.Nom_de_baie = aa.Rack\n",
    "AND\n",
    "\tit.Slot_U = CONVERT(aa.Slot_Begin, integer)\n",
    "\t)  \n",
    "GROUP BY it.reperage_id"
   ]
  },
  {
   "cell_type": "code",
   "execution_count": null,
   "id": "8e731faf-cfea-4e3a-b399-e4d6e963078e",
   "metadata": {},
   "outputs": [],
   "source": [
    "ALTER VIEW IT_Equipment_match_position_v2\n",
    "AS\n",
    "SELECT it.asset_id asset_id_it,\n",
    "       it.short_name,\n",
    "       it.nom,\n",
    "       it.status   status_it,\n",
    "       it.modele,\n",
    "       it.reperage_id,\n",
    "       it.hauteur_u,\n",
    "       aa.ASSET_ID ASSET_ID_aa, aa.NOM_COURT NOM_COURT_aa, aa.NOM_LONG NOM_LONG_aa, aa.FABRICANT FABRICANT_aa, aa.MODEL MODEL_aa, aa.DALLE DALLE_aa, aa.SALLE SALLE_aa, aa.etat, it2.RowNumber\n",
    "\n",
    "       \n",
    "FROM   `IT_Equipment_v2` it \n",
    "INNER JOIN `assets_filtree_v2`aa\n",
    "ON (\n",
    "\tit.Nom_de_la_salle = aa.Salle\n",
    "AND\n",
    "\tit.Nom_de_baie = aa.Rack\n",
    "AND\n",
    "\tit.Slot_U = CONVERT(aa.Slot_Begin, integer)\n",
    "\t)  \n",
    "INNER JOIN `IT_Equipment_match_position_reduced_v2` it2\n",
    "ON it.reperage_id = it2.reperage_id\n",
    "\n",
    "WHERE it2.rowNumber > 1\n",
    "ORDER BY it2.rowNumber desc, Reperage_ID, it.status ASC"
   ]
  },
  {
   "cell_type": "code",
   "execution_count": null,
   "id": "3e9efbb2-4cff-46da-a8e9-9b04f5f3c605",
   "metadata": {},
   "outputs": [],
   "source": [
    "alter VIEW it_built_system_NAS_v2\n",
    "AS\n",
    "SELECT nom_de_baie,\n",
    "       nom_de_la_salle,\n",
    "       status,\n",
    "       asset_id,\n",
    "       nom, \n",
    "        Modele,\n",
    "        fabricant,\n",
    "        Reperage_ID\n",
    "FROM   `IT_Equipment_v2` it\n",
    "WHERE  status IS NOT NULL and (it.fabricant like 'netapp%' or it.fabricant like 'ATTO%' or it.fabricant like 'Brocade%' ) and ASSET_ID != '0'\n",
    "ORDER  BY nom_de_baie DESC"
   ]
  },
  {
   "cell_type": "code",
   "execution_count": null,
   "id": "3d120b67-8666-40cd-967c-0ad6e0306b43",
   "metadata": {},
   "outputs": [],
   "source": [
    "alter VIEW it_build_system_EXADATA_v2\n",
    "as\n",
    "SELECT nom_de_baie,\n",
    "       nom_de_la_salle,\n",
    "       status,\n",
    "       asset_id,\n",
    "       nom, \n",
    "        Modele,\n",
    "        fabricant,\n",
    "        Reperage_ID\n",
    "FROM   `IT_Equipment_v2` it\n",
    "where it.fabricant like '%oracle%' and asset_id != '0'\n",
    "ORDER  BY nom_de_baie DESC"
   ]
  },
  {
   "cell_type": "code",
   "execution_count": null,
   "id": "b3214313-69a7-4d55-9b8b-599a9aef03e5",
   "metadata": {},
   "outputs": [],
   "source": [
    "alter VIEW it_build_system_HPC_v2\n",
    "as\n",
    "SELECT nom_de_baie,\n",
    "       nom_de_la_salle,\n",
    "       status,\n",
    "       asset_id,\n",
    "       nom, \n",
    "        Modele,\n",
    "        fabricant,\n",
    "        Reperage_ID,\n",
    "        (LEFT(Nom,6)) ROOT_FERME\n",
    "FROM   `IT_Equipment_v2` it\n",
    "where it.nom like '%HPC%' or it.long_name like '%HPC%'\n",
    "ORDER BY Nom_de_baie DESC, Nom_de_la_salle"
   ]
  },
  {
   "cell_type": "code",
   "execution_count": null,
   "id": "fd37e1f7-3ca8-4418-8c4c-19ebb4fc8c8f",
   "metadata": {},
   "outputs": [],
   "source": [
    "alter VIEW it_build_system_HANNA_v2\n",
    "as\n",
    "SELECT nom_de_baie,\n",
    "       nom_de_la_salle,\n",
    "       status,\n",
    "       asset_id,\n",
    "       nom, \n",
    "        Modele,\n",
    "        fabricant,\n",
    "        Reperage_ID\n",
    "        \n",
    "FROM   `IT_Equipment_v2` it\n",
    "where (it.nom_de_baie like '%hana%' OR it.nom like '%hana%')  and asset_id != '0'\n",
    "ORDER BY Nom_de_baie DESC, Nom_de_la_salle"
   ]
  },
  {
   "cell_type": "code",
   "execution_count": null,
   "id": "be2b039c-0013-4564-b0d3-e98b4fa117af",
   "metadata": {},
   "outputs": [],
   "source": [
    "alter VIEW it_build_system_RING_v2\n",
    "as\n",
    "SELECT it.nom_de_baie,\n",
    "       it.nom_de_la_salle,\n",
    "       it.status,\n",
    "       it.asset_id,\n",
    "       it.nom, \n",
    "        it.Modele,\n",
    "        it.fabricant,\n",
    "        it.Reperage_ID\n",
    "       \n",
    "       \n",
    "FROM   `IT_Equipment_v2` it\n",
    "WHERE (it.short_name like '%NA9TCR%' \n",
    "OR it.nom like '%NA9TCR%') and (it.status is not null or it.asset_id != '0')\t\n",
    "GROUP BY nom_de_baie, nom_de_la_salle\n",
    "ORDER BY it.Nom_de_baie DESC, it.Nom_de_la_salle"
   ]
  },
  {
   "cell_type": "code",
   "execution_count": null,
   "id": "054d99fc-ff83-4b71-9ff1-11195c4e2f7d",
   "metadata": {},
   "outputs": [],
   "source": [
    "alter VIEW IT_Equipment_FEX_v2\n",
    "as\n",
    "SELECT it.nom_de_baie,\n",
    "       it.nom_de_la_salle,\n",
    "       it.status,\n",
    "       it.asset_id,\n",
    "       it.nom, \n",
    "        it.Modele,\n",
    "        it.fabricant,\n",
    "        it.Reperage_ID,\n",
    "        (LEFT(it.Nom,8)) ROOT_FEX\n",
    "from `IT_Equipment_v2` it\n",
    "where Fabricant\t like '%cisco%' and ( it.nom = (LEFT(it.Nom,8)) )\n",
    "ORDER BY Reperage_ID asc"
   ]
  },
  {
   "cell_type": "code",
   "execution_count": null,
   "id": "d56dd071-75d9-4ee1-84d3-6487f4ea6942",
   "metadata": {},
   "outputs": [],
   "source": [
    "alter VIEW IT_Equipment_OLD_v2\n",
    "AS\n",
    "SELECT it.nom_de_baie,\n",
    "\t\taa.nom_court,\n",
    "        it.short_name,\n",
    "        aa.nom_long,\n",
    "        it.nom,\n",
    "        long_name,\n",
    "       it.nom_de_la_salle,\n",
    "       it.status,\n",
    "       REPLACE(REPLACE(aa.nom_court,'_OLD',''),'-OLD','') new_nom_court,\n",
    "\t\tREPLACE(REPLACE(aa.nom_long,'_OLD',''),'-OLD','') new_nom_long\n",
    "        \n",
    "\n",
    "from `IT_Equipment_v2` it\n",
    "LEFT JOIN `assets_filtree_v2` aa\n",
    "ON REPLACE(REPLACE(aa.nom_court,'_OLD',''),'-OLD','')  = it.nom \n",
    "OR REPLACE(REPLACE(aa.nom_long,'_OLD',''),'-OLD','')  = it.nom \n",
    "OR REPLACE(REPLACE(aa.nom_court,'_OLD',''),'-OLD','')  = it.short_name \n",
    "OR REPLACE(REPLACE(aa.nom_long,'_OLD',''),'-OLD','')  = it.short_name\n",
    "\n",
    "where aa.nom_court like '%_OLD' or aa.nom_long like '%_OLD' or aa.nom_court like '%-OLD' or aa.nom_long like '%-OLD'"
   ]
  },
  {
   "cell_type": "code",
   "execution_count": null,
   "id": "869ae2b2-2f0c-41da-8407-c72afa71bc9a",
   "metadata": {},
   "outputs": [],
   "source": [
    "alter VIEW IT_Equipment_cleaning_Hitachi_v2\n",
    "as\n",
    "SELECT it.nom_de_baie,\n",
    "        it.short_name it_short_name,\n",
    "        it.nom it_nom,\n",
    "       it.nom_de_la_salle,\n",
    "       it.status,\n",
    "       (CASE WHEN LOCATE(':',it.nom) > 0 then \n",
    "       UPPER(REPLACE(REPLACE(LEFT(it.nom, LOCATE(':',it.nom)-1),'_','-'),'-',''))\n",
    "       else it.nom\n",
    "       END) clean_name\n",
    "\n",
    "from `IT_Equipment_v2` it \n",
    "WHERE Fabricant like '%Hitachi%'\n",
    "ORDER BY it.Nom_de_baie DESC, it.Nom_de_la_salle"
   ]
  },
  {
   "cell_type": "code",
   "execution_count": null,
   "id": "abfa85a4-679c-4900-af20-85214535652d",
   "metadata": {},
   "outputs": [],
   "source": [
    "-- 1988 rows affected\n",
    "UPDATE `IT_Equipment_v2` it\n",
    "INNER JOIN `assets_filtree_v2` aa\n",
    "ON aa.asset_id = it.asset_id\n",
    "and it.asset_id != '0'\n",
    "SET it.status = 'OK-CMDB-ASSET-ID'"
   ]
  },
  {
   "cell_type": "markdown",
   "id": "7d3f1eec-88c4-4fc1-8dd8-1529bc9c3889",
   "metadata": {},
   "source": [
    "### `Asset_ID affiché`"
   ]
  },
  {
   "cell_type": "code",
   "execution_count": null,
   "id": "c99891bb-6f12-4d07-aae9-22cfca739244",
   "metadata": {},
   "outputs": [],
   "source": [
    "UPDATE `IT_Equipment_v2` it\n",
    "INNER JOIN `assets_filtree_v2` aa on LEFT(aa.nom_court, length(aa.nom_court) - 3) = it.short_name\n",
    "where it.type = 'Serveurs' and it.status is null"
   ]
  },
  {
   "cell_type": "markdown",
   "id": "8edf364a-1bcf-4e76-81d8-1b9373d7886b",
   "metadata": {},
   "source": [
    "### `OK-POSITION`"
   ]
  },
  {
   "cell_type": "code",
   "execution_count": null,
   "id": "76877a42-6178-4711-87f4-09b4e4ec4be2",
   "metadata": {},
   "outputs": [],
   "source": [
    "-- 596\n",
    "UPDATE `IT_Equipment_v2` it \n",
    "INNER JOIN `assets_filtree_v2`aa\n",
    "ON (\n",
    "\tit.Nom_de_la_salle = aa.Salle\n",
    "AND\n",
    "\tit.Nom_de_baie = aa.Rack\n",
    "AND\n",
    "\tit.Slot_U = CONVERT(aa.Slot_Begin, integer)\n",
    "\t)  \n",
    "    \n",
    "INNER JOIN `IT_Equipment_match_position_reduced_v2` it2\n",
    "ON it.reperage_id = it2.reperage_id\n",
    "\n",
    "SET it.status = Concat('OK-POSITION:', it2.rowNumber)\n",
    "\n",
    "WHERE it.status is null AND (\n",
    "   aa.model not like '%BL460C%'\n",
    "OR aa.model not like '%BL660C%'\n",
    "OR aa.model not like '%BL20P%'\n",
    "OR aa.model not like '%BL860C%'\n",
    "OR aa.model not like '%BL420C%'\n",
    "OR aa.model not like '%BL680C%'\n",
    "OR aa.model not like '%WS460C%'\n",
    "OR aa.model not like '%BL870C%' )"
   ]
  },
  {
   "cell_type": "markdown",
   "id": "aa631bcb-dffc-43d2-9fb8-642897d677f5",
   "metadata": {},
   "source": [
    "## HERE"
   ]
  },
  {
   "cell_type": "code",
   "execution_count": null,
   "id": "97c223b0-a9ac-493c-a576-3d0da8500507",
   "metadata": {},
   "outputs": [],
   "source": [
    "-- 115 rows affected\n",
    "UPDATE   `IT_Equipment_v2` it\n",
    " LEFT JOIN `it_built_system_NAS_v2` it2\n",
    " ON        it2.nom_de_baie = it.nom_de_baie \n",
    " AND       it2.nom_de_la_salle = it.nom_de_la_salle\n",
    " AND\t\t  it2.fabricant = it.fabricant\n",
    "\n",
    "SET it.status = ( \n",
    "    \t\t\tCASE WHEN it.status is null and it2.status is not null then Concat(it.fabricant, ' : ', it2.asset_id) \n",
    "        \t  \tWHEN it.status is null and it2.status is null and (it.asset_id is null or it.asset_id ='0') then  Concat(it.fabricant, ' : No Match') \n",
    "        \t\tEND )\n",
    "                \n",
    "WHERE it.status is NULL \n",
    "AND (it.fabricant like 'netapp%' or it.fabricant like 'ATTO%' or it.fabricant like 'Brocade%')"
   ]
  },
  {
   "cell_type": "code",
   "execution_count": null,
   "id": "29b0e1e6-42f2-4532-82d0-8a01da4cdb06",
   "metadata": {},
   "outputs": [],
   "source": [
    "-- 61 rows affected\n",
    "UPDATE   `IT_Equipment_v2` it\n",
    " LEFT JOIN `it_build_system_EXADATA_v2` it2\n",
    " ON        it2.nom_de_baie = it.nom_de_baie \n",
    " AND       it2.nom_de_la_salle = it.nom_de_la_salle\n",
    " AND\t\t  it2.fabricant = it.fabricant\n",
    "\n",
    "SET it.status = ( \n",
    "    \t\t\tCASE WHEN it.status is null and it2.status is not null then Concat(it.fabricant, ' : ', it2.asset_id) \n",
    "        \t  \tWHEN it.status is null and it2.status is null and (it.asset_id is null or it.asset_id ='0') then  Concat(it.fabricant, ' : No Match') \n",
    "        \t\tEND )\n",
    "                \n",
    "WHERE it.status is NULL \n",
    "AND (it.fabricant like '%oracle%')"
   ]
  },
  {
   "cell_type": "code",
   "execution_count": null,
   "id": "0e0cd4f6-6800-4de2-8b81-241f9e7840d3",
   "metadata": {},
   "outputs": [],
   "source": [
    "-- 45 rows affected\n",
    "UPDATE `IT_Equipment_v2` it\n",
    " LEFT JOIN `it_build_system_HPC_v2` it2\n",
    " ON (LEFT(it.Nom,6)) = it2.root_ferme\n",
    "\n",
    "SET it.status = ( \n",
    "    \t\t\tCASE WHEN it.status is null and it2.status is not null then Concat(it.fabricant, ' : ', it2.root_ferme) \n",
    "        \t  \tWHEN it.status is null and it2.status is null and (it.asset_id is null or it.asset_id ='0') then  Concat(it.fabricant, ' : No Match') \n",
    "        \t\tEND )\n",
    "\n",
    "WHERE (it.nom like '%HPC%' \n",
    "OR it.long_name like '%HPC%') and it.status is NULL"
   ]
  },
  {
   "cell_type": "code",
   "execution_count": null,
   "id": "198a5798-eed7-4ef4-a721-6a08ecfabec5",
   "metadata": {},
   "outputs": [],
   "source": [
    "-- 72 ROWS\n",
    "UPDATE `IT_Equipment_v2` it\n",
    "  LEFT JOIN `it_build_system_HANNA_v2` it2\n",
    " ON        it2.nom_de_baie = it.nom_de_baie \n",
    " AND       it2.nom_de_la_salle = it.nom_de_la_salle\n",
    " AND\t\t  it2.fabricant = it.fabricant\n",
    "\n",
    "SET it.status =(CASE WHEN it.status is null and it2.status is not null then Concat(it.fabricant, ' : ', it2.asset_id) \n",
    "\t\t\t\tWHEN it.status is null and it2.status is null and (it.asset_id is null or it.asset_id ='0') then  Concat(it.fabricant, ' : No Match') \n",
    "        \t\tEND ) \n",
    "\n",
    "WHERE it.status is null and (it.nom_de_baie like '%hana%' OR it.nom like '%hana%')"
   ]
  },
  {
   "cell_type": "code",
   "execution_count": null,
   "id": "309f455d-2945-4eef-a8e3-489272c4e7a4",
   "metadata": {},
   "outputs": [],
   "source": [
    "-- 9 rows\n",
    "UPDATE `IT_Equipment_v2` it\n",
    "  LEFT JOIN `it_build_system_RING_v2` it2\n",
    " ON        it2.nom_de_baie = it.nom_de_baie \n",
    " AND       it2.nom_de_la_salle = it.nom_de_la_salle\n",
    " AND\t\t  it2.fabricant = it.fabricant\n",
    "\n",
    "SET it.status =(CASE WHEN it.status is null and it2.status is not null then Concat(it.fabricant, ' : ', it2.asset_id) \n",
    "\t\t\t\tWHEN it.status is null and it2.status is null and (it.asset_id is null or it.asset_id ='0') then  Concat(it.fabricant, ' : No Match') \n",
    "        \t\tEND ) \n",
    "\n",
    "WHERE it.status is NULL and (it.short_name like '%NA9TCR%' \n",
    "OR it.nom like '%NA9TCR%')"
   ]
  },
  {
   "cell_type": "code",
   "execution_count": null,
   "id": "75ba1bc9-e9c6-441f-b6f8-7e915c13a598",
   "metadata": {},
   "outputs": [],
   "source": [
    "-- 61 rows\n",
    "UPDATE `IT_Equipment_v2` it\n",
    "SET it.status = 'PCP : No Match'\n",
    "where (it.Nom like '%_Rack%' or it.short_name like '%_Rack%') and (asset_id is null or asset_id ='0') and status is null"
   ]
  },
  {
   "cell_type": "code",
   "execution_count": null,
   "id": "41b3cf02-eac9-4a57-936f-7cefe7e961cf",
   "metadata": {},
   "outputs": [],
   "source": [
    "-- 11 rows\n",
    "UPDATE `IT_Equipment_v2` it\n",
    "LEFT JOIN `IT_Equipment_FEX_v2` it2 on it2.root_fex = (LEFT(it.Nom,8)) and it.Nom != it2.root_fex\n",
    "\n",
    "SET it.status =(CASE WHEN it.status is null and it2.status is not null and it2.asset_id !='0' then Concat(it.fabricant, ' : ', it2.asset_id) \n",
    "                WHEN it.status is null and it2.status is null and (it.asset_id is null or it2.asset_id ='0') then  Concat(it.fabricant, ' : No Match') \n",
    "                END ) \n",
    "\n",
    "where it.Fabricant like '%cisco%' and it2.root_fex is not null and it.status is null"
   ]
  },
  {
   "cell_type": "code",
   "execution_count": null,
   "id": "228dd918-f9c2-43ab-aec0-b2ca39d8729d",
   "metadata": {},
   "outputs": [],
   "source": [
    "-- 69 rows\n",
    "UPDATE `IT_Equipment_v2` it\n",
    "LEFT JOIN `assets_filtree_v2` aa\n",
    "ON REPLACE(REPLACE(aa.nom_court,'_OLD',''),'-OLD','')  = it.nom \n",
    "OR REPLACE(REPLACE(aa.nom_long,'_OLD',''),'-OLD','')  = it.nom \n",
    "OR REPLACE(REPLACE(aa.nom_court,'_OLD',''),'-OLD','')  = it.short_name \n",
    "OR REPLACE(REPLACE(aa.nom_long,'_OLD',''),'-OLD','')  = it.short_name\n",
    "\n",
    "SET it.status = 'CMDB-OK-OLD'\n",
    "\n",
    "where it.status is NULL and (aa.nom_court like '%_OLD' or aa.nom_long like '%_OLD' or aa.nom_court like '%-OLD' or aa.nom_long like '%-OLD')"
   ]
  },
  {
   "cell_type": "code",
   "execution_count": null,
   "id": "8b09d19e-8a07-4754-af04-972baf628b0a",
   "metadata": {},
   "outputs": [],
   "source": [
    "-- 116 rows\n",
    "UPDATE `IT_Equipment_v2` it\n",
    "INNER JOIN `IT_Equipment_cleaning_Hitachi_v2` hit on hit.it_nom = it.nom\n",
    "LEFT JOIN `assets_filtree_v2` aa on UPPER(REPLACE(REPLACE(aa.nom_court,'_',''),'-','')) = hit.clean_name\n",
    "\n",
    "SET it.status = (CASE WHEN aa.asset_id is null and it.status is null then 'Hitashi : No match'\n",
    "    \t\t\tWHEN aa.asset_id is not null and it.status is null then concat('HDS : ',aa.asset_id)\n",
    "    \t\t\tEND \n",
    "    \t\t\t)\n",
    "WHERE it.Fabricant like '%Hitachi%'\n"
   ]
  },
  {
   "cell_type": "code",
   "execution_count": null,
   "id": "e2d3b3d9-6124-4261-a5be-7abfc097c40c",
   "metadata": {},
   "outputs": [],
   "source": [
    "-- 0 rows\n",
    "UPDATE `IT_Equipment_v2` it \n",
    "\n",
    "LEFT JOIN \n",
    "\t`assets_filtree_v2` aa \n",
    "ON \n",
    "\tit.Nom_de_la_salle = aa.Salle\n",
    "AND\n",
    "\tit.Nom_de_baie = aa.Rack\n",
    "AND\n",
    "\tit.Slot_U = CONVERT(aa.Slot_Begin, integer)\n",
    "\n",
    "SET it.status = \"MATCH-POSITION : Install ou Retired\"\n",
    "\n",
    "WHERE (modele like '%Proliant%' OR modele like '%C7000%' ) \n",
    "and (API = 'FRVLB0C2' or API = 'FRTCRAVA')\n",
    "and (it.status is null OR it.status ='MISMATCH_TIRET')"
   ]
  },
  {
   "cell_type": "code",
   "execution_count": null,
   "id": "9abf3d3a-0735-478c-81e3-412c43f6e6bb",
   "metadata": {},
   "outputs": [],
   "source": [
    "-- 225 rows\n",
    "UPDATE `IT_Equipment_v2` it \n",
    "\n",
    "LEFT JOIN \n",
    "\t`assets_filtree_v2` aa \n",
    "ON \n",
    "\tit.Nom_de_la_salle = aa.Salle\n",
    "AND\n",
    "\tit.Nom_de_baie = aa.Rack\n",
    "AND\n",
    "\tit.Slot_U = CONVERT(aa.Slot_Begin, integer)\n",
    "\n",
    "SET it.status = \"SANS MATCH-POSITION : CONTROL SUR SITE\"\n",
    "\n",
    "WHERE (modele like '%Proliant%' OR modele like '%C7000%' ) \n",
    "and (it.status is null OR it.status ='MISMATCH_TIRET')\n",
    "and aa.dalle is null -- dalle null = pas de match car i ls' agit d'un left join "
   ]
  },
  {
   "cell_type": "code",
   "execution_count": null,
   "id": "8b95a120-50ef-4ad3-b1e7-5fcf80b56ef7",
   "metadata": {},
   "outputs": [],
   "source": [
    "-- 174 rows\n",
    "UPDATE `IT_Equipment_v2` it \n",
    "SET it.status = \"Omniswitch : Not in CMDB - To validate with Serge\"\n",
    "where modele like '%omniswitch%'"
   ]
  },
  {
   "cell_type": "code",
   "execution_count": null,
   "id": "b3ce2c15-277e-4971-bd50-f1d185461fa0",
   "metadata": {},
   "outputs": [],
   "source": [
    "-- 205 rows\n",
    "UPDATE `IT_Equipment_v2` it \n",
    "SET it.status = \"Patch Panel : No action expected\"\n",
    "where type like '%Patch Panel%'"
   ]
  },
  {
   "cell_type": "markdown",
   "id": "565f9198-5db0-4a54-bfc2-cfb35ebffd36",
   "metadata": {},
   "source": [
    "---"
   ]
  },
  {
   "cell_type": "markdown",
   "id": "98635b99-cdeb-4bda-b90a-7bf53013589b",
   "metadata": {},
   "source": [
    "# Olivier_it"
   ]
  },
  {
   "cell_type": "markdown",
   "id": "271c6541-0b5b-47a5-b2bb-6be3a8bfd8a9",
   "metadata": {},
   "source": [
    "## LEFT JOIN"
   ]
  },
  {
   "cell_type": "code",
   "execution_count": null,
   "id": "d763cda1-2a0e-4abb-90a9-f06a730a4ab9",
   "metadata": {},
   "outputs": [],
   "source": [
    "UPDATE `olivier_it` oit\n",
    "INNER JOIN `IT_Equipment_v2` it on oit.olivier_index = CONCAT(it.Nom_de_la_salle, it.reperage_id)\n",
    "\n",
    "SET oit.status_2 = 'Commun'\n",
    "\n",
    "where it.nom_de_la_salle in ('P1', 'P2', 'P3', 'P4')"
   ]
  },
  {
   "cell_type": "markdown",
   "id": "f4b3782c-db05-4775-a8d9-39c814a20a5f",
   "metadata": {},
   "source": [
    "## RIGHT JOIN"
   ]
  },
  {
   "cell_type": "code",
   "execution_count": null,
   "id": "df9b0d53-cc30-4fdf-8a8c-1be6c513d1bb",
   "metadata": {},
   "outputs": [],
   "source": [
    "UPDATE `olivier_it` oit\n",
    "LEFT JOIN `IT_Equipment_v2` it on oit.olivier_index = CONCAT(it.Nom_de_la_salle, it.reperage_id)\n",
    "\n",
    "set oit.status = 'Non Trouvé'\n",
    "\n",
    "where  it.reperage_id is null"
   ]
  },
  {
   "cell_type": "code",
   "execution_count": null,
   "id": "f4645460-8f56-4bda-ac8b-2978020d8c42",
   "metadata": {},
   "outputs": [],
   "source": [
    "DROP TABLE IF EXISTS assets_filtree_reduced ;\n",
    "CREATE TABLE assets_filtree_reduced\n",
    "AS\n",
    "SELECT ype, subtype, ASSET_ID, NOM_COURT, NOM_LONG, FABRICANT, MODEL, DALLE, SALLE, Rack, Slot_Begin, Slot_End, No_serie, etat, api, tag_partenaire\n",
    "from `assets_filtree_v2` aa\n",
    "WHERE SALLE in ('P1', 'P2', 'P3', 'P4', '0')"
   ]
  },
  {
   "cell_type": "code",
   "execution_count": null,
   "id": "c2e6a865-2352-4440-9641-ce9de73a1725",
   "metadata": {},
   "outputs": [],
   "source": [
    "ALTER VIEW IT_Equipment_match_position_reduced_v3\n",
    "as\n",
    "SELECT it.reperage_id, count(it.reperage_id) as RowNumber,\n",
    "\t\tconcat(aa.asset_id) asset_id\n",
    "\n",
    "FROM   `olivier_it` it  \n",
    "INNER JOIN `assets_filtree_reduced`aa\n",
    "ON (\n",
    "\tit.Nom_de_la_salle = aa.Salle\n",
    "AND\n",
    "\tit.Nom_de_baie = aa.Rack\n",
    "AND\n",
    "\tit.Slot_U = CONVERT(aa.Slot_Begin, integer)\n",
    "\t)  \n",
    "GROUP BY it.reperage_id"
   ]
  },
  {
   "cell_type": "code",
   "execution_count": null,
   "id": "d814670e-bb0a-4cea-8ead-aa6ccf8c9d1e",
   "metadata": {},
   "outputs": [],
   "source": [
    "ALTER VIEW IT_Equipment_match_position_v3\n",
    "AS\n",
    "SELECT it.asset_id asset_id_it,\n",
    "       it.short_name,\n",
    "       it.nom,\n",
    "       it.status_2   status_it,\n",
    "       it.modele,\n",
    "       it.reperage_id,\n",
    "       aa.ASSET_ID ASSET_ID_aa, aa.NOM_COURT NOM_COURT_aa, aa.NOM_LONG NOM_LONG_aa, aa.FABRICANT FABRICANT_aa, aa.MODEL MODEL_aa, aa.DALLE DALLE_aa, aa.SALLE SALLE_aa, it2.RowNumber\n",
    "\n",
    "       \n",
    "FROM   `olivier_it` it \n",
    "INNER JOIN `assets_filtree_reduced`aa\n",
    "ON (\n",
    "\tit.Nom_de_la_salle = aa.Salle\n",
    "AND\n",
    "\tit.Nom_de_baie = aa.Rack\n",
    "AND\n",
    "\tit.Slot_U = CONVERT(aa.Slot_Begin, integer)\n",
    "\t)  \n",
    "INNER JOIN `IT_Equipment_match_position_reduced_v3` it2\n",
    "ON it.reperage_id = it2.reperage_id\n",
    "\n",
    "WHERE it2.rowNumber > 1\n",
    "ORDER BY it2.rowNumber desc, Reperage_ID, it.status_2 ASC"
   ]
  },
  {
   "cell_type": "code",
   "execution_count": null,
   "id": "0782d1db-52f0-48b1-b3c1-29fdf030d19d",
   "metadata": {},
   "outputs": [],
   "source": [
    "ALTER VIEW it_built_system_NAS_v3\n",
    "AS\n",
    "SELECT nom_de_baie,\n",
    "       nom_de_la_salle,\n",
    "       status_2,\n",
    "       asset_id,\n",
    "       nom, \n",
    "        Modele,\n",
    "        fabricant,\n",
    "        Reperage_ID\n",
    "FROM   `olivier_it` it\n",
    "WHERE  status_2 IS NOT NULL and (it.fabricant like 'netapp%' or it.fabricant like 'ATTO%' or it.fabricant like 'Brocade%' ) and ASSET_ID != '0' and ASSET_ID != '' \n",
    "ORDER  BY nom_de_baie DESC"
   ]
  },
  {
   "cell_type": "code",
   "execution_count": null,
   "id": "5dfa280e-6eb0-45d5-8b1f-c701ba280ced",
   "metadata": {},
   "outputs": [],
   "source": [
    "ALTER VIEW it_build_system_EXADATA_v3\n",
    "as\n",
    "SELECT nom_de_baie,\n",
    "       nom_de_la_salle,\n",
    "       status_2,\n",
    "       asset_id,\n",
    "       nom, \n",
    "        Modele,\n",
    "        fabricant,\n",
    "        Reperage_ID\n",
    "FROM   `olivier_it` it\n",
    "where it.fabricant like '%oracle%' and asset_id != '0'\n",
    "ORDER  BY nom_de_baie DESC"
   ]
  },
  {
   "cell_type": "code",
   "execution_count": null,
   "id": "cfd20a69-ce9c-4e8a-b10e-0edc49a57291",
   "metadata": {},
   "outputs": [],
   "source": [
    "ALTER VIEW it_build_system_HPC_v3\n",
    "as\n",
    "SELECT nom_de_baie,\n",
    "       nom_de_la_salle,\n",
    "       status_2,\n",
    "       asset_id,\n",
    "       nom, \n",
    "        Modele,\n",
    "        fabricant,\n",
    "        Reperage_ID,\n",
    "        (LEFT(Nom,6)) ROOT_FERME\n",
    "FROM   `olivier_it` it\n",
    "where it.nom like '%HPC%' or it.short_name like '%HPC%'\n",
    "ORDER BY Nom_de_baie DESC, Nom_de_la_salle"
   ]
  },
  {
   "cell_type": "code",
   "execution_count": null,
   "id": "0328220f-d447-45e1-810b-68535d0c4c39",
   "metadata": {},
   "outputs": [],
   "source": [
    "ALTER VIEW it_build_system_HANNA_v3\n",
    "as\n",
    "SELECT nom_de_baie,\n",
    "       nom_de_la_salle,\n",
    "       status_2,\n",
    "       asset_id,\n",
    "       nom, \n",
    "        Modele,\n",
    "        fabricant,\n",
    "        Reperage_ID\n",
    "        \n",
    "FROM   `olivier_it` it\n",
    "where (it.nom_de_baie like '%hana%' OR it.nom like '%hana%')  and asset_id != '0'\n",
    "ORDER BY Nom_de_baie DESC, Nom_de_la_salle"
   ]
  },
  {
   "cell_type": "code",
   "execution_count": null,
   "id": "98fac02c-44e8-49cb-b3fa-b6df79432aff",
   "metadata": {},
   "outputs": [],
   "source": [
    "ALTER VIEW it_build_system_RING_v3\n",
    "as\n",
    "SELECT it.nom_de_baie,\n",
    "       it.nom_de_la_salle,\n",
    "       it.status_2,\n",
    "       it.asset_id,\n",
    "       it.nom, \n",
    "        it.Modele,\n",
    "        it.fabricant,\n",
    "        it.Reperage_ID\n",
    "       \n",
    "       \n",
    "FROM   `olivier_it` it\n",
    "WHERE (it.short_name like '%NA9TCR%' \n",
    "OR it.nom like '%NA9TCR%') and (it.status_2 is not null or it.asset_id != '0')\t\n",
    "GROUP BY nom_de_baie, nom_de_la_salle\n",
    "ORDER BY it.Nom_de_baie DESC, it.Nom_de_la_salle"
   ]
  },
  {
   "cell_type": "code",
   "execution_count": null,
   "id": "14347740-9041-451c-8eb0-d4f34b9ef490",
   "metadata": {},
   "outputs": [],
   "source": [
    "ALTER VIEW IT_Equipment_FEX_v3\n",
    "as\n",
    "SELECT it.nom_de_baie,\n",
    "       it.nom_de_la_salle,\n",
    "       it.status_2,\n",
    "       it.asset_id,\n",
    "       it.nom, \n",
    "        it.Modele,\n",
    "        it.fabricant,\n",
    "        it.Reperage_ID,\n",
    "        (LEFT(it.Nom,8)) ROOT_FEX\n",
    "from `olivier_it` it\n",
    "where Fabricant\t like '%cisco%' and ( it.nom = (LEFT(it.Nom,8)) )\n",
    "ORDER BY Reperage_ID asc"
   ]
  },
  {
   "cell_type": "code",
   "execution_count": null,
   "id": "348723e8-4b31-4017-968f-ec1d8f749481",
   "metadata": {},
   "outputs": [],
   "source": [
    "ALTER VIEW IT_Equipment_OLD_v3\n",
    "AS\n",
    "SELECT it.nom_de_baie,\n",
    "\t\taa.nom_court,\n",
    "        it.short_name,\n",
    "        aa.nom_long,\n",
    "        it.nom,\n",
    "       it.nom_de_la_salle,\n",
    "       it.status_2,\n",
    "       REPLACE(REPLACE(aa.nom_court,'_OLD',''),'-OLD','') new_nom_court,\n",
    "\t\tREPLACE(REPLACE(aa.nom_long,'_OLD',''),'-OLD','') new_nom_long\n",
    "        \n",
    "\n",
    "from `olivier_it` it\n",
    "LEFT JOIN `assets_filtree_reduced` aa\n",
    "ON REPLACE(REPLACE(aa.nom_court,'_OLD',''),'-OLD','')  = it.nom \n",
    "OR REPLACE(REPLACE(aa.nom_long,'_OLD',''),'-OLD','')  = it.nom \n",
    "OR REPLACE(REPLACE(aa.nom_court,'_OLD',''),'-OLD','')  = it.short_name \n",
    "OR REPLACE(REPLACE(aa.nom_long,'_OLD',''),'-OLD','')  = it.short_name\n",
    "\n",
    "where aa.nom_court like '%_OLD' or aa.nom_long like '%_OLD' or aa.nom_court like '%-OLD' or aa.nom_long like '%-OLD'"
   ]
  },
  {
   "cell_type": "code",
   "execution_count": null,
   "id": "d7c874ba-9e51-4498-b66c-475fc64894a4",
   "metadata": {},
   "outputs": [],
   "source": [
    "ALTER VIEW IT_Equipment_cleaning_Hitachi_v3\n",
    "as\n",
    "SELECT it.nom_de_baie,\n",
    "        it.short_name it_short_name,\n",
    "        it.nom it_nom,\n",
    "       it.nom_de_la_salle,\n",
    "       it.status_2,\n",
    "       (CASE WHEN LOCATE(':',it.nom) > 0 then \n",
    "       UPPER(REPLACE(REPLACE(LEFT(it.nom, LOCATE(':',it.nom)-1),'_','-'),'-',''))\n",
    "       else it.nom\n",
    "       END) clean_name\n",
    "\n",
    "from `olivier_it` it \n",
    "WHERE Fabricant like '%Hitachi%'\n",
    "ORDER BY it.Nom_de_baie DESC, it.Nom_de_la_salle"
   ]
  },
  {
   "cell_type": "code",
   "execution_count": null,
   "id": "55033690-3775-43a6-b639-5ab4aa785c16",
   "metadata": {},
   "outputs": [],
   "source": [
    " ALTER VIEW it_build_system_DXI \n",
    "as\n",
    "SELECT it.asset_id asset_id_it, it.short_name, it.nom, it.status_2 status_it, it.modele, it.reperage_id , Nom_de_la_salle, Nom_de_baie, left(it.nom,9) DXI_ROOT\n",
    "FROM `olivier_it` it \n",
    "where modele like '%dxi%' \n",
    " and ( it.nom = left(it.nom,9) or it.short_name = left(it.nom,9) )"
   ]
  },
  {
   "cell_type": "code",
   "execution_count": null,
   "id": "11cdf45f",
   "metadata": {},
   "outputs": [],
   "source": [
    "-- 1988 rows affected\n",
    "UPDATE `olivier_it` it\n",
    "INNER JOIN `assets_filtree_reduced` aa\n",
    "ON aa.asset_id = it.asset_id\n",
    "and it.asset_id != '0'\n",
    "SET it.status_2 = 'OK-CMDB-ASSET-ID'"
   ]
  },
  {
   "cell_type": "code",
   "execution_count": null,
   "id": "933e03ee",
   "metadata": {},
   "outputs": [],
   "source": [
    "-- 250\n",
    "UPDATE `olivier_it` it \n",
    "INNER JOIN `assets_filtree_reduced`aa\n",
    "ON (\n",
    "\tit.Nom_de_la_salle = aa.Salle\n",
    "AND\n",
    "\tit.Nom_de_baie = aa.Rack\n",
    "AND\n",
    "\tit.Slot_U = CONVERT(aa.Slot_Begin, integer)\n",
    "\t)  \n",
    "    \n",
    "INNER JOIN `IT_Equipment_match_position_reduced_v3` it2\n",
    "ON it.reperage_id = it2.reperage_id\n",
    "\n",
    "SET it.status_2 = Concat('OK-POSITION:', it2.rowNumber)\n",
    "\n",
    "WHERE it.status_2 is null AND (\n",
    "   aa.model not like '%BL460C%'\n",
    "OR aa.model not like '%BL660C%'\n",
    "OR aa.model not like '%BL20P%'\n",
    "OR aa.model not like '%BL860C%'\n",
    "OR aa.model not like '%BL420C%'\n",
    "OR aa.model not like '%BL680C%'\n",
    "OR aa.model not like '%WS460C%'\n",
    "OR aa.model not like '%BL870C%' )"
   ]
  },
  {
   "cell_type": "code",
   "execution_count": null,
   "id": "fdaa41dd",
   "metadata": {},
   "outputs": [],
   "source": [
    "-- 42 rows affected\n",
    "UPDATE   `olivier_it` it\n",
    " LEFT JOIN `it_built_system_NAS_v3` it2\n",
    " ON        it2.nom_de_baie = it.nom_de_baie \n",
    " AND       it2.nom_de_la_salle = it.nom_de_la_salle\n",
    " AND\t\t  it2.fabricant = it.fabricant\n",
    "\n",
    "SET it.status_2 = ( \n",
    "    \t\t\tCASE WHEN it.status_2 is null and it2.status_2 is not null then Concat(it.fabricant, ' : ', it2.asset_id) \n",
    "        \t  \tWHEN it.status_2 is null and it2.status_2 is null and (it.asset_id is null or it.asset_id ='0' or it.asset_id ='') then  Concat(it.fabricant, ' : No Match') \n",
    "        \t\tEND )\n",
    "                \n",
    "WHERE it.status_2 is null\n",
    "AND (it.fabricant like 'netapp%' or it.fabricant like 'ATTO%' or it.fabricant like 'Brocade%')"
   ]
  },
  {
   "cell_type": "code",
   "execution_count": null,
   "id": "214bad49",
   "metadata": {},
   "outputs": [],
   "source": [
    "-- 3 rows affected\n",
    "UPDATE   `olivier_it` it\n",
    " LEFT JOIN `it_build_system_EXADATA_v3` it2\n",
    " ON        it2.nom_de_baie = it.nom_de_baie \n",
    " AND       it2.nom_de_la_salle = it.nom_de_la_salle\n",
    " AND\t\t  it2.fabricant = it.fabricant\n",
    "\n",
    "SET it.status_2 = ( \n",
    "    \t\t\tCASE WHEN it.status_2 is null and it2.status_2 is not null then Concat(it.fabricant, ' : ', it2.asset_id) \n",
    "        \t  \tWHEN it.status_2 is null and it2.status_2 is null and (it.asset_id is null or it.asset_id ='0') then  Concat(it.fabricant, ' : No Match') \n",
    "        \t\tEND )\n",
    "                \n",
    "WHERE it.status_2 is NULL \n",
    "AND (it.fabricant like '%oracle%')"
   ]
  },
  {
   "cell_type": "code",
   "execution_count": null,
   "id": "ca2e5831",
   "metadata": {},
   "outputs": [],
   "source": [
    "-- 0 rows affected\n",
    "UPDATE `olivier_it` it\n",
    " LEFT JOIN `it_build_system_HPC_v3` it2\n",
    " ON (LEFT(it.Nom,6)) = it2.root_ferme\n",
    "\n",
    "SET it.status_2 = ( \n",
    "    \t\t\tCASE WHEN it.status_2 is null and it2.status_2 is not null then Concat(it.fabricant, ' : ', it2.root_ferme) \n",
    "        \t  \tWHEN it.status_2 is null and it2.status_2 is null and (it.asset_id is null or it.asset_id ='0') then  Concat(it.fabricant, ' : No Match') \n",
    "        \t\tEND )\n",
    "\n",
    "WHERE (it.nom like '%HPC%' \n",
    "OR it.short_name like '%HPC%') and it.status_2 is NULL"
   ]
  },
  {
   "cell_type": "code",
   "execution_count": null,
   "id": "c1d3dc23",
   "metadata": {},
   "outputs": [],
   "source": [
    "-- 0 ROWS\n",
    "UPDATE `olivier_it` it\n",
    "  LEFT JOIN `it_build_system_HANNA_v3` it2\n",
    " ON        it2.nom_de_baie = it.nom_de_baie \n",
    " AND       it2.nom_de_la_salle = it.nom_de_la_salle\n",
    " AND\t\t  it2.fabricant = it.fabricant\n",
    "\n",
    "SET it.status_2 =(CASE WHEN it.status_2 is null and it2.status_2 is not null then Concat(it.fabricant, ' : ', it2.asset_id) \n",
    "\t\t\t\tWHEN it.status_2 is null and it2.status_2 is null and (it.asset_id is null or it.asset_id ='0') then  Concat(it.fabricant, ' : No Match') \n",
    "        \t\tEND ) \n",
    "\n",
    "WHERE it.status_2 is null and (it.nom_de_baie like '%hana%' OR it.nom like '%hana%')"
   ]
  },
  {
   "cell_type": "code",
   "execution_count": null,
   "id": "144f2c2b",
   "metadata": {},
   "outputs": [],
   "source": [
    "-- 0 rows\n",
    "UPDATE `olivier_it` it\n",
    "  LEFT JOIN `it_build_system_RING_v3` it2\n",
    " ON        it2.nom_de_baie = it.nom_de_baie \n",
    " AND       it2.nom_de_la_salle = it.nom_de_la_salle\n",
    " AND\t\t  it2.fabricant = it.fabricant\n",
    "\n",
    "SET it.status_2 =(CASE WHEN it.status_2 is null and it2.status_2 is not null then Concat(it.fabricant, ' : ', it2.asset_id) \n",
    "\t\t\t\tWHEN it.status_2 is null and it2.status_2 is null and (it.asset_id is null or it.asset_id ='0') then  Concat(it.fabricant, ' : No Match') \n",
    "        \t\tEND ) \n",
    "\n",
    "WHERE it.status_2 is NULL and (it.short_name like '%NA9TCR%' \n",
    "OR it.nom like '%NA9TCR%')"
   ]
  },
  {
   "cell_type": "code",
   "execution_count": null,
   "id": "9426a08f",
   "metadata": {},
   "outputs": [],
   "source": [
    "-- 0 rows\n",
    "UPDATE `olivier_it` it\n",
    "SET it.status_2 = 'PCP : No Match'\n",
    "where (it.Nom like '%_Rack%' or it.short_name like '%_Rack%') and (asset_id is null or asset_id ='0') and status_2 is null"
   ]
  },
  {
   "cell_type": "code",
   "execution_count": null,
   "id": "49f78ab5",
   "metadata": {},
   "outputs": [],
   "source": [
    "-- 13 rows\n",
    "UPDATE `olivier_it` it\n",
    "LEFT JOIN `IT_Equipment_FEX_v3` it2 on it2.root_fex = (LEFT(it.Nom,8)) and it.Nom != it2.root_fex\n",
    "\n",
    "SET it.status_2 =(CASE WHEN it.status_2 is null and it2.status_2 is not null and it2.asset_id !='0' then Concat(it.fabricant, ' : ', it2.asset_id) \n",
    "                WHEN it.status_2 is null and it2.status_2 is null and (it.asset_id is null or it2.asset_id ='0') then  Concat(it.fabricant, ' : No Match') \n",
    "                END ) \n",
    "\n",
    "where it.Fabricant like '%cisco%' and it2.root_fex is not null and it.status_2 is null"
   ]
  },
  {
   "cell_type": "code",
   "execution_count": null,
   "id": "65b348ef",
   "metadata": {},
   "outputs": [],
   "source": [
    "-- 903 rows !?????\n",
    "UPDATE `olivier_it` it\n",
    "INNER JOIN `assets_filtree_reduced` aa\n",
    "ON REPLACE(REPLACE(aa.nom_court,'_OLD',''),'-OLD','')  = it.nom \n",
    "OR REPLACE(REPLACE(aa.nom_long,'_OLD',''),'-OLD','')  = it.nom \n",
    "OR REPLACE(REPLACE(aa.nom_court,'_OLD',''),'-OLD','')  = it.short_name \n",
    "OR REPLACE(REPLACE(aa.nom_long,'_OLD',''),'-OLD','')  = it.short_name\n",
    "AND (it.SHORT_NAME != '' )\n",
    "\n",
    "SET it.status_2 = 'CMDB-OK-OLD'\n",
    "\n",
    "\n",
    "where it.status_2 is null and (aa.nom_court like '%_OLD' or aa.nom_long like '%_OLD' or aa.nom_court like '%-OLD' or aa.nom_long like '%-OLD')\n"
   ]
  },
  {
   "cell_type": "code",
   "execution_count": null,
   "id": "ce860d64",
   "metadata": {},
   "outputs": [],
   "source": [
    "-- 87 rows\n",
    "UPDATE `olivier_it` it\n",
    "INNER JOIN `IT_Equipment_cleaning_Hitachi_v3` hit on hit.it_nom = it.nom\n",
    "LEFT JOIN `assets_filtree_reduced` aa on UPPER(REPLACE(REPLACE(aa.nom_court,'_',''),'-','')) = hit.clean_name\n",
    "\n",
    "SET it.status_2 = (CASE WHEN aa.asset_id is null and it.status_2 is null then 'Hitashi : No match'\n",
    "    \t\t\tWHEN aa.asset_id is not null and it.status_2 is null then concat('HDS : ',aa.asset_id)\n",
    "    \t\t\tEND \n",
    "    \t\t\t)\n",
    "WHERE it.Fabricant like '%Hitachi%'\n"
   ]
  },
  {
   "cell_type": "code",
   "execution_count": null,
   "id": "e83ac61d",
   "metadata": {},
   "outputs": [],
   "source": [
    "-- 0 rows\n",
    "UPDATE `olivier_it` it \n",
    "\n",
    "LEFT JOIN \n",
    "\t`assets_filtree_reduced` aa \n",
    "ON \n",
    "\tit.Nom_de_la_salle = aa.Salle\n",
    "AND\n",
    "\tit.Nom_de_baie = aa.Rack\n",
    "AND\n",
    "\tit.Slot_U = CONVERT(aa.Slot_Begin, integer)\n",
    "\n",
    "SET it.status_2 = \"MATCH-POSITION : Install ou Retired\"\n",
    "\n",
    "WHERE (modele like '%Proliant%' OR modele like '%C7000%' ) \n",
    "and (API = 'FRVLB0C2' or API = 'FRTCRAVA')\n",
    "and (it.status_2 is null OR it.status_2 ='MISMATCH_TIRET')"
   ]
  },
  {
   "cell_type": "code",
   "execution_count": null,
   "id": "740d67b6",
   "metadata": {},
   "outputs": [],
   "source": [
    "-- 189 rows\n",
    "UPDATE `olivier_it` it \n",
    "\n",
    "LEFT JOIN \n",
    "\t`assets_filtree_reduced` aa \n",
    "ON \n",
    "\tit.Nom_de_la_salle = aa.Salle\n",
    "AND\n",
    "\tit.Nom_de_baie = aa.Rack\n",
    "AND\n",
    "\tit.Slot_U = CONVERT(aa.Slot_Begin, integer)\n",
    "\n",
    "SET it.status_2 = \"SANS MATCH-POSITION : CONTROL SUR SITE\"\n",
    "\n",
    "WHERE (modele like '%Proliant%' OR modele like '%C7000%' ) \n",
    "and (it.status_2 is null OR it.status_2 ='MISMATCH_TIRET')\n",
    "and aa.dalle is null -- dalle null = pas de match car i ls' agit d'un left join "
   ]
  },
  {
   "cell_type": "code",
   "execution_count": null,
   "id": "c2817361",
   "metadata": {},
   "outputs": [],
   "source": [
    "-- 174 rows\n",
    "UPDATE `olivier_it` it \n",
    "SET it.status_2 = \"Omniswitch : Not in CMDB - To validate with Serge\"\n",
    "where modele like '%omniswitch%'"
   ]
  },
  {
   "cell_type": "code",
   "execution_count": null,
   "id": "409d0116",
   "metadata": {},
   "outputs": [],
   "source": [
    "-- 106 rows\n",
    "UPDATE `olivier_it` it \n",
    "SET it.status_2 = \"Patch Panel : No action expected\"\n",
    "where type like '%Patch Panel%'"
   ]
  },
  {
   "cell_type": "code",
   "execution_count": null,
   "id": "199456f7",
   "metadata": {},
   "outputs": [],
   "source": [
    "-- 15 rows\n",
    "UPDATE `olivier_it` it \n",
    "LEFT JOIN `it_build_system_DXI` it2 ON left(it.nom,9) = it2.DXI_ROOT\n",
    "SET it.status_2 = (CASE WHEN it.status_2 is null and it2.status_it is null then 'DXI : No match'\n",
    "\t\t\t\t\tWHEN it.status_2 is null and it2.status_it is not null then concat('DXI : ',it2.asset_id_it)\n",
    "\t\t\t\t\tEND \n",
    "\t\t\t\t\t)\n",
    "                    \n",
    "where it.modele like '%dxi%' and status_2 is null"
   ]
  },
  {
   "cell_type": "markdown",
   "id": "fb2a69c6-f223-418a-a8f6-3c853ca8ace6",
   "metadata": {},
   "source": [
    "# `NEW STATUS_3`"
   ]
  },
  {
   "cell_type": "code",
   "execution_count": null,
   "id": "7822f041",
   "metadata": {},
   "outputs": [],
   "source": [
    "-- v2 : 2070\n",
    "UPDATE olivier_it\n",
    "\n",
    "SET status_3 = \tCASE WHEN status_2 = 'OK-CMDB-ASSET-ID' then 'OK-CMDB-ASSET-ID'\n",
    "\t\tWHEN status_2 != 'OK-CMDB-ASSET-ID' and status_2 is not null then 'Identifiable'\n",
    "        WHEN status_2 is null then NULL\n",
    "        END"
   ]
  },
  {
   "cell_type": "markdown",
   "id": "5a34a8ef-0119-44bc-8b5f-bccd0f8196fe",
   "metadata": {},
   "source": [
    "# `OK-POSITION : 1` "
   ]
  },
  {
   "cell_type": "code",
   "execution_count": null,
   "id": "b0b33930-16a4-4bfe-9440-ee3468a782bf",
   "metadata": {
    "tags": []
   },
   "outputs": [],
   "source": [
    "UPDATE `olivier_it` it\n",
    "INNER JOIN `assets_filtree_reduced`aa\n",
    "ON (\n",
    "\tit.Nom_de_la_salle = aa.Salle\n",
    "AND\n",
    "\tit.Nom_de_baie = aa.Rack\n",
    "AND\n",
    "\tit.Slot_U = CONVERT(aa.Slot_Begin, integer)\n",
    "\t)  \n",
    "    \n",
    "INNER JOIN `IT_Equipment_match_position_reduced_v3` it2\n",
    "ON it.reperage_id = it2.reperage_id\n",
    "\n",
    "SET it.ASSET_ID_OK_POSITION = it2.asset_id\n",
    "\n",
    "WHERE it.status_2 = 'OK-POSITION:1'"
   ]
  }
 ],
 "metadata": {
  "kernelspec": {
   "display_name": "Python 3 (ipykernel)",
   "language": "python",
   "name": "python3"
  },
  "language_info": {
   "codemirror_mode": {
    "name": "ipython",
    "version": 3
   },
   "file_extension": ".py",
   "mimetype": "text/x-python",
   "name": "python",
   "nbconvert_exporter": "python",
   "pygments_lexer": "ipython3",
   "version": "3.9.7"
  }
 },
 "nbformat": 4,
 "nbformat_minor": 5
}
