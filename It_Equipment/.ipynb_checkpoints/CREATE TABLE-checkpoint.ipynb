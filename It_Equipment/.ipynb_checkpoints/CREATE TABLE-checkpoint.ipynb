{
 "cells": [
  {
   "cell_type": "markdown",
   "id": "8d3008a1",
   "metadata": {},
   "source": [
    "## CREATE / ALTER TABLE"
   ]
  },
  {
   "cell_type": "code",
   "execution_count": null,
   "id": "81853f12",
   "metadata": {},
   "outputs": [],
   "source": [
    "CREATE TABLE IT_Equipment_v3\n",
    "as\n",
    "SELECT * FROM `IT_Equipment`"
   ]
  },
  {
   "cell_type": "code",
   "execution_count": null,
   "id": "c81f379f",
   "metadata": {},
   "outputs": [],
   "source": [
    "CREATE TABLE assets_filtree_v3\n",
    "as\n",
    "select *\n",
    "from`assets_new`\n",
    "where (API = 'FRVLB0C2' or API = 'FRTCRAVA')"
   ]
  },
  {
   "cell_type": "code",
   "execution_count": null,
   "id": "2be7abb5-b07a-488b-ad2d-d0f9ad7bc46a",
   "metadata": {},
   "outputs": [],
   "source": [
    "ALTER TABLE IT_Equipment_v3\n",
    "ADD COLUMN STATUS_3 varchar(255) ,\n",
    "ADD COLUMN ASSET_ID_OK_POSITION varchar(255) ;"
   ]
  },
  {
   "cell_type": "markdown",
   "id": "2ed78801-1b54-4473-8997-7436cf91bcfa",
   "metadata": {
    "tags": []
   },
   "source": [
    "# Schema de creation"
   ]
  },
  {
   "cell_type": "markdown",
   "id": "4c540ee6-294c-403a-a6bb-ecaa4f368eb8",
   "metadata": {},
   "source": [
    "## Changer le nom initial !!!! "
   ]
  },
  {
   "cell_type": "code",
   "execution_count": null,
   "id": "ea7b875a-7cd8-4f11-860e-f99062cd3a6f",
   "metadata": {},
   "outputs": [],
   "source": [
    "DROP TABLE IF EXISTS `IT_Equipment`;\n",
    "CREATE TABLE `IT_Equipment` (\n",
    " `﻿Type_dequipement` varchar(100)  NULL,\n",
    " `Is_Loading_Bay_Item` varchar(100)  NULL,\n",
    " `Zone_specifique_du_quai_de_chargement` varchar(100)  NULL,\n",
    " `Nom` varchar(100)  NULL,\n",
    " `Numero_dasset` varchar(100)  NULL,\n",
    " `Fabricant` varchar(100)  NULL,\n",
    " `Modele` varchar(100)  NULL,\n",
    " `Nom_de_la_salle` varchar(100)  NULL,\n",
    " `Nom_de_baie` varchar(100)  NULL,\n",
    " `Slot_U` varchar(100)  NULL,\n",
    " `Nom_du_cheassis` varchar(100)  NULL,\n",
    " `Module_Slot` varchar(100)  NULL,\n",
    " `Type` varchar(100)  NULL,\n",
    " `Autre_type` varchar(100)  NULL,\n",
    " `SHORT_NAME` varchar(100)  NULL,\n",
    " `SERIAL_NUMBER` varchar(100)  NULL,\n",
    " `End_Move_Target` varchar(100)  NULL,\n",
    " `ASSET_TAG` varchar(100)  NULL,\n",
    " `ASSET_ID` varchar(100)  NULL,\n",
    " `Equipement_approxime` varchar(100)  NULL,\n",
    " `Type_de_puissance` varchar(100)  NULL,\n",
    " `Puissance_nominale_kW` varchar(100)  NULL,\n",
    " `Puissance_typique_kW` varchar(100)  NULL,\n",
    " `Puissance_specifie_par_lutilisateur_kW` varchar(100)  NULL,\n",
    " `Facteur_de_charge` varchar(100)  NULL,\n",
    " `Puissance_en_entre_kW` varchar(100)  NULL,\n",
    " `Type_de_phase` varchar(100)  NULL,\n",
    " `Statut_de_lequipement` varchar(100)  NULL,\n",
    " `Nombre_de_cordons` varchar(100)  NULL,\n",
    " `Nombre_de_cordons_connectes` varchar(100)  NULL,\n",
    " `Nombre_de_cordons_actifs` varchar(100)  NULL,\n",
    " `Nombre_de_cordons_requis` varchar(100)  NULL,\n",
    " `Onduleurs_UPS` varchar(100)  NULL,\n",
    " `Cordon_electrique_1_PDU` varchar(100)  NULL,\n",
    " `Cordon_electrique_1_Prise_de_courant` varchar(100)  NULL,\n",
    " `Cordon_electrique_1_Socket_Circuit` varchar(100)  NULL,\n",
    " `Cordon_electrique_2_PDU` varchar(100)  NULL,\n",
    " `Cordon_electrique_2_Prise_de_courant` varchar(100)  NULL,\n",
    " `Cordon_electrique_1_Alimentation_electrique` varchar(100)  NULL,\n",
    " `Cordon_electrique_1_Type_de_prise` varchar(100)  NULL,\n",
    " `Cordon_electrique_3_PDU` varchar(100)  NULL,\n",
    " `Cordon_electrique_3_Prise_de_courant` varchar(100)  NULL,\n",
    " `Cordon_electrique_2_Socket_Circuit` varchar(100)  NULL,\n",
    " `Cordon_electrique_1_Disjoncteur` varchar(100)  NULL,\n",
    " `Cordon_electrique_1_Socket_Phase` varchar(100)  NULL,\n",
    " `Cordon_electrique_4_PDU` varchar(100)  NULL,\n",
    " `Cordon_electrique_4_Prise_de_courant` varchar(100)  NULL,\n",
    " `Cordon_electrique_2_Type_de_prise` varchar(100)  NULL,\n",
    " `Cordon_electrique_2_Alimentation_electrique` varchar(100)  NULL,\n",
    " `Cordon_electrique_2_Disjoncteur` varchar(100)  NULL,\n",
    " `Cordon_electrique_2_Socket_Phase` varchar(100)  NULL,\n",
    " `Etat_dinstallation` varchar(100)  NULL,\n",
    " `Date_dinstallation_dd_mm_yyyy` varchar(100)  NULL,\n",
    " `Cordon_electrique_3_Alimentation_electrique` varchar(100)  NULL,\n",
    " `Cordon_electrique_3_Disjoncteur` varchar(100)  NULL,\n",
    " `Date_de_decommissionnement_dd_mm_yyyy` varchar(100)  NULL,\n",
    " `Reperage_ID` varchar(100)  NULL,\n",
    " `Cordon_electrique_4_Alimentation_electrique` varchar(100)  NULL,\n",
    " `Cordon_electrique_4_Disjoncteur` varchar(100)  NULL,\n",
    " `Montage` varchar(100)  NULL,\n",
    " `Sens_de_montage` varchar(100)  NULL,\n",
    " `Style_de_montage` varchar(100)  NULL,\n",
    " `LONG_NAME` varchar(100)  NULL,\n",
    " `Lames_installes` varchar(100)  NULL,\n",
    " `Alle` varchar(100)  NULL,\n",
    " `Cage` varchar(100)  NULL,\n",
    " `Zone` varchar(100)  NULL,\n",
    " `Hauteur_U` varchar(100)  NULL,\n",
    " `Largeur_m` varchar(100)  NULL,\n",
    " `Profondeur_m` varchar(100)  NULL,\n",
    " `Poids_kg` varchar(100)  NULL,\n",
    " `Synchronise_avec_Gateway` varchar(100)  NULL,\n",
    " `ID_Systeme_externe` varchar(100)  NULL,\n",
    " `ID_Systeme_Asset` varchar(100)  NULL,\n",
    " `ID_Systeme_Baie` varchar(100)  NULL,\n",
    " `ID_Systeme_Cheassi` varchar(100)  NULL\n",
    ") ENGINE=InnoDB DEFAULT CHARSET=utf8\n"
   ]
  },
  {
   "cell_type": "markdown",
   "id": "ddb19517-370a-43b3-8662-bc32e70abecd",
   "metadata": {},
   "source": [
    "# Trigger Records "
   ]
  },
  {
   "cell_type": "markdown",
   "id": "3766e62b-e63a-402e-821a-09159ee5532e",
   "metadata": {},
   "source": [
    "Track les changements de position pour un asset donné"
   ]
  },
  {
   "cell_type": "code",
   "execution_count": null,
   "id": "3986139f-aaf0-434f-a633-c903ac6625a4",
   "metadata": {},
   "outputs": [],
   "source": [
    "CREATE TABLE `move_records_equipments` (\n",
    "    asset_id varchar(255) NOT NULL,\n",
    "    modele varchar(255) NULL,\n",
    "    from_salle varchar(255) NOT NULL,\n",
    "    from_reperage_id varchar(255) NOT NULL,\n",
    "    to_salle varchar(255) NOT NULL,\n",
    "    to_reperage_id varchar(255) NOT NULL,\n",
    "    inserted TIMESTAMP NOT NULL DEFAULT CURRENT_TIMESTAMP) ENGINE=InnoDB DEFAULT CHARSET=latin1"
   ]
  },
  {
   "cell_type": "code",
   "execution_count": null,
   "id": "1ec68436-3f02-48d4-8789-8672942c8dec",
   "metadata": {},
   "outputs": [],
   "source": [
    "ALTER TABLE `move_records_equipments`\n",
    "ADD COLUMN FROM_DATE varchar(255),\n",
    "ADD COLUMN TO_DATE varchar(255) ;"
   ]
  },
  {
   "cell_type": "markdown",
   "id": "616dac80-befa-41f7-9fd8-acf0846f1f5c",
   "metadata": {},
   "source": [
    "## IT_Equipment_records : historique de tous les csv"
   ]
  },
  {
   "cell_type": "code",
   "execution_count": null,
   "id": "2fe72dc5-4926-4e77-a895-40abb7bde45d",
   "metadata": {},
   "outputs": [],
   "source": [
    "\n",
    "CREATE TABLE `IT_Equipment_records` (\n",
    " `﻿Type_dequipement` varchar(100)  NULL,\n",
    " `Is_Loading_Bay_Item` varchar(100)  NULL,\n",
    " `Zone_specifique_du_quai_de_chargement` varchar(100)  NULL,\n",
    " `Nom` varchar(100)  NULL,\n",
    " `Numero_dasset` varchar(100)  NULL,\n",
    " `Fabricant` varchar(100)  NULL,\n",
    " `Modele` varchar(100)  NULL,\n",
    " `Nom_de_la_salle` varchar(100)  NULL,\n",
    " `Nom_de_baie` varchar(100)  NULL,\n",
    " `Slot_U` varchar(100)  NULL,\n",
    " `Nom_du_cheassis` varchar(100)  NULL,\n",
    " `Module_Slot` varchar(100)  NULL,\n",
    " `Type` varchar(100)  NULL,\n",
    " `Autre_type` varchar(100)  NULL,\n",
    " `SHORT_NAME` varchar(100)  NULL,\n",
    " `SERIAL_NUMBER` varchar(100)  NULL,\n",
    " `End_Move_Target` varchar(100)  NULL,\n",
    " `ASSET_TAG` varchar(100)  NULL,\n",
    " `ASSET_ID` varchar(100)  NULL,\n",
    " `Equipement_approxime` varchar(100)  NULL,\n",
    " `Type_de_puissance` varchar(100)  NULL,\n",
    " `Puissance_nominale_kW` varchar(100)  NULL,\n",
    " `Puissance_typique_kW` varchar(100)  NULL,\n",
    " `Puissance_specifie_par_lutilisateur_kW` varchar(100)  NULL,\n",
    " `Facteur_de_charge` varchar(100)  NULL,\n",
    " `Puissance_en_entre_kW` varchar(100)  NULL,\n",
    " `Type_de_phase` varchar(100)  NULL,\n",
    " `Statut_de_lequipement` varchar(100)  NULL,\n",
    " `Nombre_de_cordons` varchar(100)  NULL,\n",
    " `Nombre_de_cordons_connectes` varchar(100)  NULL,\n",
    " `Nombre_de_cordons_actifs` varchar(100)  NULL,\n",
    " `Nombre_de_cordons_requis` varchar(100)  NULL,\n",
    " `Onduleurs_UPS` varchar(100)  NULL,\n",
    " `Cordon_electrique_1_PDU` varchar(100)  NULL,\n",
    " `Cordon_electrique_1_Prise_de_courant` varchar(100)  NULL,\n",
    " `Cordon_electrique_1_Socket_Circuit` varchar(100)  NULL,\n",
    " `Cordon_electrique_2_PDU` varchar(100)  NULL,\n",
    " `Cordon_electrique_2_Prise_de_courant` varchar(100)  NULL,\n",
    " `Cordon_electrique_1_Alimentation_electrique` varchar(100)  NULL,\n",
    " `Cordon_electrique_1_Type_de_prise` varchar(100)  NULL,\n",
    " `Cordon_electrique_3_PDU` varchar(100)  NULL,\n",
    " `Cordon_electrique_3_Prise_de_courant` varchar(100)  NULL,\n",
    " `Cordon_electrique_2_Socket_Circuit` varchar(100)  NULL,\n",
    " `Cordon_electrique_1_Disjoncteur` varchar(100)  NULL,\n",
    " `Cordon_electrique_1_Socket_Phase` varchar(100)  NULL,\n",
    " `Cordon_electrique_4_PDU` varchar(100)  NULL,\n",
    " `Cordon_electrique_4_Prise_de_courant` varchar(100)  NULL,\n",
    " `Cordon_electrique_2_Type_de_prise` varchar(100)  NULL,\n",
    " `Cordon_electrique_2_Alimentation_electrique` varchar(100)  NULL,\n",
    " `Cordon_electrique_2_Disjoncteur` varchar(100)  NULL,\n",
    " `Cordon_electrique_2_Socket_Phase` varchar(100)  NULL,\n",
    " `Etat_dinstallation` varchar(100)  NULL,\n",
    " `Date_dinstallation_dd_mm_yyyy` varchar(100)  NULL,\n",
    " `Cordon_electrique_3_Alimentation_electrique` varchar(100)  NULL,\n",
    " `Cordon_electrique_3_Disjoncteur` varchar(100)  NULL,\n",
    " `Date_de_decommissionnement_dd_mm_yyyy` varchar(100)  NULL,\n",
    " `Reperage_ID` varchar(100)  NULL,\n",
    " `Cordon_electrique_4_Alimentation_electrique` varchar(100)  NULL,\n",
    " `Cordon_electrique_4_Disjoncteur` varchar(100)  NULL,\n",
    " `Montage` varchar(100)  NULL,\n",
    " `Sens_de_montage` varchar(100)  NULL,\n",
    " `Style_de_montage` varchar(100)  NULL,\n",
    " `LONG_NAME` varchar(100)  NULL,\n",
    " `Lames_installes` varchar(100)  NULL,\n",
    " `Alle` varchar(100)  NULL,\n",
    " `Cage` varchar(100)  NULL,\n",
    " `Zone` varchar(100)  NULL,\n",
    " `Hauteur_U` varchar(100)  NULL,\n",
    " `Largeur_m` varchar(100)  NULL,\n",
    " `Profondeur_m` varchar(100)  NULL,\n",
    " `Poids_kg` varchar(100)  NULL,\n",
    " `Synchronise_avec_Gateway` varchar(100)  NULL,\n",
    " `ID_Systeme_externe` varchar(100)  NULL,\n",
    " `ID_Systeme_Asset` varchar(100)  NULL,\n",
    " `ID_Systeme_Baie` varchar(100)  NULL,\n",
    " `ID_Systeme_Cheassi` varchar(100)  NULL\n",
    ") ENGINE=InnoDB DEFAULT CHARSET=latin1\n"
   ]
  },
  {
   "cell_type": "code",
   "execution_count": null,
   "id": "d2cd15f6-df50-49db-8de3-093a1655b13a",
   "metadata": {},
   "outputs": [],
   "source": [
    "ALTER TABLE `IT_Equipment_records`\n",
    "ADD COLUMN SOURCES varchar(255),\n",
    "ADD COLUMN inserted TIMESTAMP NOT NULL DEFAULT CURRENT_TIMESTAMP ; "
   ]
  },
  {
   "cell_type": "code",
   "execution_count": null,
   "id": "dc7d4e4a-12d1-484a-8eb4-7c783e802bf6",
   "metadata": {},
   "outputs": [],
   "source": [
    "alter tables asset_new\n",
    "DROP COLUMN STATUS,\n",
    "DROP COLUMN emplacement,\n",
    "DROP COLUMN Rack,\n",
    "DROP COLUMN Slot,\n",
    "DROP COLUMN Slot_begin,\n",
    "DROP COLUMN Slot_end"
   ]
  },
  {
   "cell_type": "markdown",
   "id": "2218a8f1-eeb2-40c2-b7d2-31c47d4e0884",
   "metadata": {},
   "source": [
    "# `Section Computer - Mgmnt - Data_rack`"
   ]
  },
  {
   "cell_type": "code",
   "execution_count": null,
   "id": "41be9e05-6d8c-48ca-abfc-aefd6d88345a",
   "metadata": {},
   "outputs": [],
   "source": [
    "CREATE TABLE wrong_rack_it_eq_cmdb\n",
    "as\n",
    "SELECT * FROM `IT_Equipment_v3`\n",
    "where Nom_de_baie in ('Mgmt_Rack', 'Data_Rack', 'Compute1', 'Compute2', 'Compute3', 'O11')"
   ]
  }
 ],
 "metadata": {
  "kernelspec": {
   "display_name": "Python 3 (ipykernel)",
   "language": "python",
   "name": "python3"
  },
  "language_info": {
   "codemirror_mode": {
    "name": "ipython",
    "version": 3
   },
   "file_extension": ".py",
   "mimetype": "text/x-python",
   "name": "python",
   "nbconvert_exporter": "python",
   "pygments_lexer": "ipython3",
   "version": "3.9.7"
  }
 },
 "nbformat": 4,
 "nbformat_minor": 5
}
