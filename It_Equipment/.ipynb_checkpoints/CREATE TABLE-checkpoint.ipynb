{
 "cells": [
  {
   "cell_type": "markdown",
   "id": "8d3008a1",
   "metadata": {},
   "source": [
    "## CREATE / ALTER TABLE"
   ]
  },
  {
   "cell_type": "code",
   "execution_count": null,
   "id": "81853f12",
   "metadata": {},
   "outputs": [],
   "source": [
    "CREATE TABLE IT_Equipment_v3\n",
    "as\n",
    "SELECT * FROM `IT_Equipment`"
   ]
  },
  {
   "cell_type": "code",
   "execution_count": null,
   "id": "c81f379f",
   "metadata": {},
   "outputs": [],
   "source": [
    "CREATE TABLE assets_filtree_v3\n",
    "as\n",
    "select *\n",
    "from`assets_new`\n",
    "where (API = 'FRVLB0C2' or API = 'FRTCRAVA')"
   ]
  },
  {
   "cell_type": "code",
   "execution_count": null,
   "id": "2be7abb5-b07a-488b-ad2d-d0f9ad7bc46a",
   "metadata": {},
   "outputs": [],
   "source": [
    "ALTER TABLE IT_Equipment_v3\n",
    "ADD COLUMN STATUS_3 varchar(255) ,\n",
    "ADD COLUMN ASSET_ID_OK_POSITION varchar(255) ;"
   ]
  },
  {
   "cell_type": "markdown",
   "id": "2ed78801-1b54-4473-8997-7436cf91bcfa",
   "metadata": {
    "tags": []
   },
   "source": [
    "# Schema de creation"
   ]
  },
  {
   "cell_type": "markdown",
   "id": "4c540ee6-294c-403a-a6bb-ecaa4f368eb8",
   "metadata": {},
   "source": [
    "## Changer le nom initial !!!! "
   ]
  },
  {
   "cell_type": "code",
   "execution_count": null,
   "id": "ea7b875a-7cd8-4f11-860e-f99062cd3a6f",
   "metadata": {},
   "outputs": [],
   "source": [
    "\n",
    "CREATE TABLE `dfdsrfzaqrd` (\n",
    " `﻿Type_dequipement` varchar(100)  NULL,\n",
    " `Is_Loading_Bay_Item` varchar(100)  NULL,\n",
    " `Zone_specifique_du_quai_de_chargement` varchar(100)  NULL,\n",
    " `Nom` varchar(100)  NULL,\n",
    " `Numero_dasset` varchar(100)  NULL,\n",
    " `Fabricant` varchar(100)  NULL,\n",
    " `Modele` varchar(100)  NULL,\n",
    " `Nom_de_la_salle` varchar(100)  NULL,\n",
    " `Nom_de_baie` varchar(100)  NULL,\n",
    " `Slot_U` varchar(100)  NULL,\n",
    " `Nom_du_cheassis` varchar(100)  NULL,\n",
    " `Module_Slot` varchar(100)  NULL,\n",
    " `Type` varchar(100)  NULL,\n",
    " `Autre_type` varchar(100)  NULL,\n",
    " `SHORT_NAME` varchar(100)  NULL,\n",
    " `SERIAL_NUMBER` varchar(100)  NULL,\n",
    " `End_Move_Target` varchar(100)  NULL,\n",
    " `ASSET_TAG` varchar(100)  NULL,\n",
    " `ASSET_ID` varchar(100)  NULL,\n",
    " `Equipement_approxime` varchar(100)  NULL,\n",
    " `Type_de_puissance` varchar(100)  NULL,\n",
    " `Puissance_nominale_kW` varchar(100)  NULL,\n",
    " `Puissance_typique_kW` varchar(100)  NULL,\n",
    " `Puissance_specifie_par_lutilisateur_kW` varchar(100)  NULL,\n",
    " `Facteur_de_charge` varchar(100)  NULL,\n",
    " `Puissance_en_entre_kW` varchar(100)  NULL,\n",
    " `Type_de_phase` varchar(100)  NULL,\n",
    " `Statut_de_lequipement` varchar(100)  NULL,\n",
    " `Nombre_de_cordons` varchar(100)  NULL,\n",
    " `Nombre_de_cordons_connectes` varchar(100)  NULL,\n",
    " `Nombre_de_cordons_actifs` varchar(100)  NULL,\n",
    " `Nombre_de_cordons_requis` varchar(100)  NULL,\n",
    " `Onduleurs_UPS` varchar(100)  NULL,\n",
    " `Cordon_electrique_1_PDU` varchar(100)  NULL,\n",
    " `Cordon_electrique_1_Prise_de_courant` varchar(100)  NULL,\n",
    " `Cordon_electrique_1_Socket_Circuit` varchar(100)  NULL,\n",
    " `Cordon_electrique_2_PDU` varchar(100)  NULL,\n",
    " `Cordon_electrique_2_Prise_de_courant` varchar(100)  NULL,\n",
    " `Cordon_electrique_1_Alimentation_electrique` varchar(100)  NULL,\n",
    " `Cordon_electrique_1_Type_de_prise` varchar(100)  NULL,\n",
    " `Cordon_electrique_3_PDU` varchar(100)  NULL,\n",
    " `Cordon_electrique_3_Prise_de_courant` varchar(100)  NULL,\n",
    " `Cordon_electrique_2_Socket_Circuit` varchar(100)  NULL,\n",
    " `Cordon_electrique_1_Disjoncteur` varchar(100)  NULL,\n",
    " `Cordon_electrique_1_Socket_Phase` varchar(100)  NULL,\n",
    " `Cordon_electrique_4_PDU` varchar(100)  NULL,\n",
    " `Cordon_electrique_4_Prise_de_courant` varchar(100)  NULL,\n",
    " `Cordon_electrique_2_Type_de_prise` varchar(100)  NULL,\n",
    " `Cordon_electrique_2_Alimentation_electrique` varchar(100)  NULL,\n",
    " `Cordon_electrique_2_Disjoncteur` varchar(100)  NULL,\n",
    " `Cordon_electrique_2_Socket_Phase` varchar(100)  NULL,\n",
    " `Etat_dinstallation` varchar(100)  NULL,\n",
    " `Date_dinstallation_dd_mm_yyyy` varchar(100)  NULL,\n",
    " `Cordon_electrique_3_Alimentation_electrique` varchar(100)  NULL,\n",
    " `Cordon_electrique_3_Disjoncteur` varchar(100)  NULL,\n",
    " `Date_de_decommissionnement_dd_mm_yyyy` varchar(100)  NULL,\n",
    " `Reperage_ID` varchar(100)  NULL,\n",
    " `Cordon_electrique_4_Alimentation_electrique` varchar(100)  NULL,\n",
    " `Cordon_electrique_4_Disjoncteur` varchar(100)  NULL,\n",
    " `Montage` varchar(100)  NULL,\n",
    " `Sens_de_montage` varchar(100)  NULL,\n",
    " `Style_de_montage` varchar(100)  NULL,\n",
    " `LONG_NAME` varchar(100)  NULL,\n",
    " `Lames_installes` varchar(100)  NULL,\n",
    " `Alle` varchar(100)  NULL,\n",
    " `Cage` varchar(100)  NULL,\n",
    " `Zone` varchar(100)  NULL,\n",
    " `Hauteur_U` varchar(100)  NULL,\n",
    " `Largeur_m` varchar(100)  NULL,\n",
    " `Profondeur_m` varchar(100)  NULL,\n",
    " `Poids_kg` varchar(100)  NULL,\n",
    " `Synchronise_avec_Gateway` varchar(100)  NULL,\n",
    " `ID_Systeme_externe` varchar(100)  NULL,\n",
    " `ID_Systeme_Asset` varchar(100)  NULL,\n",
    " `ID_Systeme_Baie` varchar(100)  NULL,\n",
    " `ID_Systeme_Cheassi` varchar(100)  NULL,\n",
    " `STATUS` varchar(255) DEFAULT NULL,\n",
    " `STATUS_3` varchar(255) DEFAULT NULL,\n",
    " `ASSET_ID_OK_POSITION` varchar(255) DEFAULT NULL\n",
    ") ENGINE=InnoDB DEFAULT CHARSET=latin1\n"
   ]
  },
  {
   "cell_type": "code",
   "execution_count": null,
   "id": "153766d2-5b26-454d-b30f-593d80705c9a",
   "metadata": {},
   "outputs": [],
   "source": [
    "insert `IT_Equipment.11.05.22` VALUES(1,2,3,4,5,6,7,8,9,10,\n",
    "                                     1,2,3,4,5,6,7,8,9,10,\n",
    "                                     1,2,3,4,5,6,7,8,9,10,\n",
    "                                     1,2,3,4,5,6,7,8,9,10,\n",
    "                                     1,2,3,4,5,6,7,8,9,10,\n",
    "                                     1,2,3,4,5,6,7,8,9,10,\n",
    "                                     1,2,3,4,5,6,7,8,9,10,\n",
    "                                     1,2,3,4,5,6,7,8,9)"
   ]
  },
  {
   "cell_type": "code",
   "execution_count": 1,
   "id": "3e934ca6-0b25-488e-a0f2-0ce38aa09daa",
   "metadata": {},
   "outputs": [
    {
     "ename": "NameError",
     "evalue": "name 'nan' is not defined",
     "output_type": "error",
     "traceback": [
      "\u001b[1;31m---------------------------------------------------------------------------\u001b[0m",
      "\u001b[1;31mNameError\u001b[0m                                 Traceback (most recent call last)",
      "\u001b[1;32m~\\AppData\\Local\\Temp/ipykernel_22108/1845435627.py\u001b[0m in \u001b[0;36m<module>\u001b[1;34m\u001b[0m\n\u001b[1;32m----> 1\u001b[1;33m \u001b[1;33m(\u001b[0m\u001b[1;34m'Equipements IT'\u001b[0m\u001b[1;33m,\u001b[0m \u001b[0mnan\u001b[0m\u001b[1;33m,\u001b[0m \u001b[0mnan\u001b[0m\u001b[1;33m,\u001b[0m \u001b[1;34m'HP219'\u001b[0m\u001b[1;33m,\u001b[0m \u001b[1;34m'2656652'\u001b[0m\u001b[1;33m,\u001b[0m \u001b[1;34m'HP'\u001b[0m\u001b[1;33m,\u001b[0m \u001b[1;34m'9000 D Class'\u001b[0m\u001b[1;33m,\u001b[0m \u001b[1;34m'PB'\u001b[0m\u001b[1;33m,\u001b[0m \u001b[0mnan\u001b[0m\u001b[1;33m,\u001b[0m \u001b[1;33m-\u001b[0m\u001b[1;36m1\u001b[0m\u001b[1;33m,\u001b[0m \u001b[0mnan\u001b[0m\u001b[1;33m,\u001b[0m \u001b[0mnan\u001b[0m\u001b[1;33m,\u001b[0m \u001b[1;34m'Serveurs'\u001b[0m\u001b[1;33m,\u001b[0m \u001b[0mnan\u001b[0m\u001b[1;33m,\u001b[0m \u001b[1;34m'HP219-S022'\u001b[0m\u001b[1;33m,\u001b[0m \u001b[1;34m'USM2006109'\u001b[0m\u001b[1;33m,\u001b[0m \u001b[1;36m0\u001b[0m\u001b[1;33m,\u001b[0m \u001b[1;34m'2656653'\u001b[0m\u001b[1;33m,\u001b[0m \u001b[1;34m'M-0000298148'\u001b[0m\u001b[1;33m,\u001b[0m \u001b[1;36m0\u001b[0m\u001b[1;33m,\u001b[0m \u001b[1;34m'Puissance nominale et facteur'\u001b[0m\u001b[1;33m,\u001b[0m \u001b[1;36m0.93\u001b[0m\u001b[1;33m,\u001b[0m \u001b[0mnan\u001b[0m\u001b[1;33m,\u001b[0m \u001b[0mnan\u001b[0m\u001b[1;33m,\u001b[0m \u001b[1;36m50.0\u001b[0m\u001b[1;33m,\u001b[0m \u001b[1;36m0.465\u001b[0m\u001b[1;33m,\u001b[0m \u001b[1;34m'MonophasÃ©'\u001b[0m\u001b[1;33m,\u001b[0m \u001b[1;34m'On'\u001b[0m\u001b[1;33m,\u001b[0m \u001b[1;36m1.0\u001b[0m\u001b[1;33m,\u001b[0m \u001b[1;36m0.0\u001b[0m\u001b[1;33m,\u001b[0m \u001b[1;36m1.0\u001b[0m\u001b[1;33m,\u001b[0m \u001b[1;36m1.0\u001b[0m\u001b[1;33m,\u001b[0m \u001b[1;34m'Non dÃ©fini'\u001b[0m\u001b[1;33m,\u001b[0m \u001b[1;34m'Non-connectÃ©'\u001b[0m\u001b[1;33m,\u001b[0m \u001b[1;34m'Non dÃ©fini'\u001b[0m\u001b[1;33m,\u001b[0m \u001b[0mnan\u001b[0m\u001b[1;33m,\u001b[0m \u001b[0mnan\u001b[0m\u001b[1;33m,\u001b[0m \u001b[0mnan\u001b[0m\u001b[1;33m,\u001b[0m \u001b[0mnan\u001b[0m\u001b[1;33m,\u001b[0m \u001b[0mnan\u001b[0m\u001b[1;33m,\u001b[0m \u001b[0mnan\u001b[0m\u001b[1;33m,\u001b[0m \u001b[0mnan\u001b[0m\u001b[1;33m,\u001b[0m \u001b[0mnan\u001b[0m\u001b[1;33m,\u001b[0m \u001b[0mnan\u001b[0m\u001b[1;33m,\u001b[0m \u001b[0mnan\u001b[0m\u001b[1;33m,\u001b[0m \u001b[0mnan\u001b[0m\u001b[1;33m,\u001b[0m \u001b[0mnan\u001b[0m\u001b[1;33m,\u001b[0m \u001b[0mnan\u001b[0m\u001b[1;33m,\u001b[0m \u001b[0mnan\u001b[0m\u001b[1;33m,\u001b[0m \u001b[0mnan\u001b[0m\u001b[1;33m,\u001b[0m \u001b[0mnan\u001b[0m\u001b[1;33m,\u001b[0m \u001b[1;34m'InstallÃ©'\u001b[0m\u001b[1;33m,\u001b[0m \u001b[1;34m'2018-04-19T00:00:00.000Z'\u001b[0m\u001b[1;33m,\u001b[0m \u001b[0mnan\u001b[0m\u001b[1;33m,\u001b[0m \u001b[0mnan\u001b[0m\u001b[1;33m,\u001b[0m \u001b[0mnan\u001b[0m\u001b[1;33m,\u001b[0m \u001b[0mnan\u001b[0m\u001b[1;33m,\u001b[0m \u001b[0mnan\u001b[0m\u001b[1;33m,\u001b[0m \u001b[0mnan\u001b[0m\u001b[1;33m,\u001b[0m \u001b[1;34m'Avant'\u001b[0m\u001b[1;33m,\u001b[0m \u001b[1;34m'Pas de rotation'\u001b[0m\u001b[1;33m,\u001b[0m \u001b[1;34m'Aucun montage'\u001b[0m\u001b[1;33m,\u001b[0m \u001b[1;34m'HP219'\u001b[0m\u001b[1;33m,\u001b[0m \u001b[0mnan\u001b[0m\u001b[1;33m,\u001b[0m \u001b[0mnan\u001b[0m\u001b[1;33m,\u001b[0m \u001b[0mnan\u001b[0m\u001b[1;33m,\u001b[0m \u001b[0mnan\u001b[0m\u001b[1;33m,\u001b[0m \u001b[1;36m13.588\u001b[0m\u001b[1;33m,\u001b[0m \u001b[1;36m0.259\u001b[0m\u001b[1;33m,\u001b[0m \u001b[1;36m0.551\u001b[0m\u001b[1;33m,\u001b[0m \u001b[1;36m43.0\u001b[0m\u001b[1;33m,\u001b[0m \u001b[0mnan\u001b[0m\u001b[1;33m,\u001b[0m \u001b[1;34m'0'\u001b[0m\u001b[1;33m,\u001b[0m \u001b[1;34m'36132-117384'\u001b[0m\u001b[1;33m,\u001b[0m \u001b[0mnan\u001b[0m\u001b[1;33m,\u001b[0m \u001b[0mnan\u001b[0m\u001b[1;33m,\u001b[0m \u001b[1;34m'MISMATCH_TIRET'\u001b[0m\u001b[1;33m)\u001b[0m\u001b[1;33m\u001b[0m\u001b[1;33m\u001b[0m\u001b[0m\n\u001b[0m",
      "\u001b[1;31mNameError\u001b[0m: name 'nan' is not defined"
     ]
    }
   ],
   "source": [
    "('Equipements IT', nan, nan, 'HP219', '2656652', 'HP', '9000 D Class', 'PB', nan, -1, nan, nan, 'Serveurs', nan, 'HP219-S022', 'USM2006109', 0, '2656653', 'M-0000298148', 0, 'Puissance nominale et facteur', 0.93, nan, nan, 50.0, 0.465, 'MonophasÃ©', 'On', 1.0, 0.0, 1.0, 1.0, 'Non dÃ©fini', 'Non-connectÃ©', 'Non dÃ©fini', nan, nan, nan, nan, nan, nan, nan, nan, nan, nan, nan, nan, nan, nan, nan, nan, 'InstallÃ©', '2018-04-19T00:00:00.000Z', nan, nan, nan, nan, nan, nan, 'Avant', 'Pas de rotation', 'Aucun montage', 'HP219', nan, nan, nan, nan, 13.588, 0.259, 0.551, 43.0, nan, '0', '36132-117384', nan, nan, 'MISMATCH_TIRET')"
   ]
  },
  {
   "cell_type": "markdown",
   "id": "ddb19517-370a-43b3-8662-bc32e70abecd",
   "metadata": {},
   "source": [
    "# Trigger Records "
   ]
  },
  {
   "cell_type": "markdown",
   "id": "3766e62b-e63a-402e-821a-09159ee5532e",
   "metadata": {},
   "source": [
    "Track les changements de position pour un asset donné"
   ]
  },
  {
   "cell_type": "code",
   "execution_count": null,
   "id": "3986139f-aaf0-434f-a633-c903ac6625a4",
   "metadata": {},
   "outputs": [],
   "source": [
    "CREATE TABLE `move_records_equipments` (\n",
    "    asset_id varchar(255) NOT NULL,\n",
    "    modele varchar(255) NULL,\n",
    "    from_salle varchar(255) NOT NULL,\n",
    "    from_reperage_id varchar(255) NOT NULL,\n",
    "    to_salle varchar(255) NOT NULL,\n",
    "    to_reperage_id varchar(255) NOT NULL,\n",
    "    inserted TIMESTAMP NOT NULL DEFAULT CURRENT_TIMESTAMP) ENGINE=InnoDB DEFAULT CHARSET=latin1"
   ]
  }
 ],
 "metadata": {
  "kernelspec": {
   "display_name": "Python 3 (ipykernel)",
   "language": "python",
   "name": "python3"
  },
  "language_info": {
   "codemirror_mode": {
    "name": "ipython",
    "version": 3
   },
   "file_extension": ".py",
   "mimetype": "text/x-python",
   "name": "python",
   "nbconvert_exporter": "python",
   "pygments_lexer": "ipython3",
   "version": "3.9.7"
  }
 },
 "nbformat": 4,
 "nbformat_minor": 5
}
