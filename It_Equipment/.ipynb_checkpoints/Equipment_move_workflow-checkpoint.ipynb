{
 "cells": [
  {
   "cell_type": "markdown",
   "id": "659d2b0d-afe0-4f13-bd06-328f55eeeacc",
   "metadata": {},
   "source": [
    "# Equipment_move_workflow"
   ]
  },
  {
   "cell_type": "code",
   "execution_count": null,
   "id": "f38796c5-28c6-4ad1-b90a-ff83160050c0",
   "metadata": {},
   "outputs": [],
   "source": [
    "## FROM : Ancienne table, INNER JOIN : Nouvelle base "
   ]
  },
  {
   "cell_type": "markdown",
   "id": "d05ae24a-d2d9-46ba-b610-a6f2fe90b2de",
   "metadata": {},
   "source": [
    "/*delimiter //\n",
    "CREATE TRIGGER `move_equipment` BEFORE INSERT ON `IT_Equipment_records`\n",
    " FOR EACH ROW BEGIN\n",
    "    DECLARE _Reperage_ID , _Nom_de_la_salle, _INSERTED varchar(255);\n",
    "    \n",
    "        SELECT Reperage_ID, Nom_de_la_salle, INSERTED \n",
    "        INTO _Reperage_ID, _Nom_de_la_salle, _INSERTED\n",
    "        FROM `IT_Equipment_records`\n",
    "        WHERE ID_Systeme_Asset = NEW.ID_Systeme_Asset\n",
    "        ORDER BY STR_TO_DATE((inserted),'%y-%m-%d') DESC\n",
    "        LIMIT 1 ;\n",
    "    \n",
    "        IF(\n",
    "          (NEW.reperage_id != _Reperage_ID OR \n",
    "          NEW.Nom_de_la_salle != _Nom_de_la_salle) AND \n",
    "          ( NEW.ID_Systeme_Asset != '0' or NEW.ID_Systeme_Asset != ' ' )\n",
    "        )\n",
    "        THEN\n",
    "        INSERT INTO move_records_equipments (asset_id, ID_Systeme_Asset, modele, from_salle, from_reperage_id, to_salle, to_reperage_id, from_date, to_date) \n",
    "           VALUES (NEW.asset_id, NEW.ID_Systeme_Asset, NEW.modele, _Nom_de_la_salle, _reperage_id, new.Nom_de_la_salle, new.reperage_id, _INSERTED, new.inserted);\n",
    "        END IF;\n",
    "           \n",
    "END\n",
    "*/"
   ]
  },
  {
   "cell_type": "code",
   "execution_count": null,
   "id": "82d1ea87-652b-46f5-8241-1e31a981c6cf",
   "metadata": {},
   "outputs": [],
   "source": [
    "drop view if exists IT_Equipment_sorted_by_date_asc ;\n",
    "create view `IT_Equipment_sorted_by_date_asc` \n",
    "as\n",
    "select ASSET_ID, ID_Systeme_Asset, Modele, Nom_de_la_salle, Reperage_ID, SOURCES, INSERTED from `IT_Equipment_records` \n",
    "ORDER BY STR_TO_DATE((inserted),'%y-%m-%d') ASC ;\n",
    "\n",
    "drop view if exists IT_Equipment_sorted_by_date_desc ;\n",
    "create view `IT_Equipment_sorted_by_date_desc` \n",
    "as\n",
    "select ASSET_ID, ID_Systeme_Asset, Modele, Nom_de_la_salle, Reperage_ID, SOURCES, INSERTED from `IT_Equipment_records` \n",
    "ORDER BY STR_TO_DATE((inserted),'%y-%m-%d') DESC ;"
   ]
  },
  {
   "cell_type": "code",
   "execution_count": null,
   "id": "6acc6406-e79e-42b3-ad68-720a67df695e",
   "metadata": {},
   "outputs": [],
   "source": [
    "drop view if exists IT_Equipment_first_occurence_per_id_all ;\n",
    "CREATE view IT_Equipment_first_occurence_per_id_all\n",
    "as \n",
    "select min(inserted) first_records,it.* from `IT_Equipment_sorted_by_date_asc` it\n",
    "GROUP BY ID_Systeme_Asset\n",
    "order by INSERTED desc ;"
   ]
  },
  {
   "cell_type": "code",
   "execution_count": null,
   "id": "8515a107-0cbb-4879-95b0-072eb0a55835",
   "metadata": {},
   "outputs": [],
   "source": [
    "drop view if exists IT_Equipment_first_occurence_per_id ;\n",
    "CREATE view  IT_Equipment_first_occurence_per_id\n",
    "as\n",
    "select it.* from `IT_Equipment_records` it\n",
    "INNER JOIN `IT_Equipment_first_occurence_per_id_all` it2 \n",
    "ON it.ID_Systeme_Asset = it2.ID_Systeme_Asset\n",
    "AND it.inserted = it2.first_records ;"
   ]
  },
  {
   "cell_type": "markdown",
   "id": "b3d121ce-6f9e-4c22-920b-3a2d4c7bde95",
   "metadata": {},
   "source": [
    "Tous les mouvements par rapport à la position de la première date d'insertion"
   ]
  },
  {
   "cell_type": "code",
   "execution_count": null,
   "id": "f72d5de5-e221-438b-82fa-4f21771310af",
   "metadata": {},
   "outputs": [],
   "source": [
    "drop view if exists IT_Equipment_all_move;\n",
    "create view IT_Equipment_all_move\n",
    "as\n",
    "select it.id_systeme_asset id_systeme_asset_records,it.nom_de_la_salle salle_records, it.reperage_id reperage_id_records, it.inserted inserted_records, it2.*\n",
    "from `IT_Equipment_records` it\n",
    "INNER JOIN `IT_Equipment_first_occurence_per_id` it2\n",
    "ON \n",
    "(( it.reperage_id != it2.reperage_id\n",
    "OR it.nom_de_la_salle != it2.nom_de_la_salle )\n",
    "AND it.id_systeme_asset = it2.id_systeme_asset )\n",
    "\n",
    "      \n",
    "where it2.id_systeme_asset is not null\n",
    "\n",
    "order by it.ID_Systeme_Asset asc , STR_TO_DATE((it2.inserted),'%y-%m-%d') DESC;# MySQL returned an empty result set (i.e. zero rows)."
   ]
  },
  {
   "cell_type": "code",
   "execution_count": null,
   "id": "47cf02e2-7754-4267-a763-c261ed6e7d4c",
   "metadata": {},
   "outputs": [],
   "source": [
    "drop view if exists IT_Equipment_all_move_with_last_date ;\n",
    "create VIEW IT_Equipment_all_move_with_last_date\n",
    "as\n",
    "select  MAX(inserted_records) last_records, it.*  from `IT_Equipment_all_move` it\n",
    "GROUP BY id_systeme_asset_records ;"
   ]
  },
  {
   "cell_type": "code",
   "execution_count": null,
   "id": "5e970e4d-fc5b-4c1b-8b6e-9c3469632d0d",
   "metadata": {},
   "outputs": [],
   "source": [
    "drop view if exists IT_Equipment_last_move;\n",
    "CREATE VIEW IT_Equipment_last_move\n",
    "as\n",
    "SELECT it.* from `IT_Equipment_all_move` it \n",
    "INNER JOIN `IT_Equipment_all_move_with_last_date` it2 \n",
    "ON it.ID_Systeme_Asset = it2.ID_Systeme_Asset\n",
    "AND it.inserted_records = it2.last_records\n",
    ";"
   ]
  },
  {
   "cell_type": "markdown",
   "id": "89fc4c22-32d8-429a-aada-2e8155a5c5d4",
   "metadata": {},
   "source": [
    "synthèse des mouvements par asset_id"
   ]
  },
  {
   "cell_type": "markdown",
   "id": "b4d65675-5707-4462-b422-222eb419c73d",
   "metadata": {},
   "source": [
    "SELECT ID_Systeme_Asset, Nom, count(concat(nom_de_la_salle,Reperage_ID)) row_number, count(DISTINCT(concat(nom_de_la_salle,Reperage_ID))) - 1 number_of_move FROM `IT_Equipment_records`\n",
    "\n",
    "GROUP BY ID_Systeme_Asset\n",
    "HAVING row_number > 2 and number_of_move >= 1\n",
    "order by count(Reperage_ID) asc ;"
   ]
  },
  {
   "cell_type": "markdown",
   "id": "b9b21898-6b84-45d5-b358-9a0bcd3b66ff",
   "metadata": {},
   "source": [
    "select  MAX(inserted_records) last_records ,it.* from `IT_Equipment_all_move` it\n",
    "GROUP BY id_systeme_asset_records ;"
   ]
  },
  {
   "cell_type": "code",
   "execution_count": null,
   "id": "2dd848e5-9bbe-4ee4-8e75-d680268c33c1",
   "metadata": {},
   "outputs": [],
   "source": [
    "drop table if exists `IT_Equipment_unique_records` ;\n",
    "create table `IT_Equipment_unique_records`\n",
    "as \n",
    "select * from `IT_Equipment_records`\n",
    "GROUP BY ID_Systeme_Asset ;"
   ]
  },
  {
   "cell_type": "code",
   "execution_count": null,
   "id": "7dca9aa2-498f-4128-a10d-b59f39b4627b",
   "metadata": {},
   "outputs": [],
   "source": [
    "ALTER TABLE IT_Equipment_unique_records\n",
    "ADD COLUMN first_occurence varchar(255),\n",
    "ADD COLUMN last_move varchar(255),\n",
    "ADD COLUMN last_move_date varchar(255),\n",
    "ADD COLUMN clean_date varchar(255) ;"
   ]
  },
  {
   "cell_type": "code",
   "execution_count": null,
   "id": "b4d19149-3b87-4744-89ef-e8287545e49a",
   "metadata": {},
   "outputs": [],
   "source": [
    "INSERT `IT_Equipment_records` values (\"Equipements IT\" ,NULL,NULL,\"FRC2VPN9\" ,\"RN000081\" ,\"Cisco\" ,\"ASA 5516-X\" ,\"P4\" ,\"F30\" ,26 ,NULL,NULL,\"Serveurs\" ,NULL,\"FRC2VPN9\" ,\"JMX2036Y1LF\" ,\"0\" ,\"RN000081\" ,\"M-0000775783\" ,\"0\" ,\"Puissance nominale et facteur\" ,\"0.06\" ,NULL,NULL,\"60.0\" ,\"0.036000000000000004\" ,\"MonophasÃ©\" ,\"On\" ,\"1.0\" ,\"1.0\" ,\"1.0\" ,\"1.0\" ,\"Single Source\" ,\"Q142A\" ,\"Prise 13\" ,\"3.0\" ,NULL,NULL,\"TDI_P4A\" ,\"Autres\" ,NULL,NULL,NULL,\"Q142A (16 A)\" ,\"Phase 3\" ,NULL,NULL,NULL,NULL,NULL,NULL,\"InstallÃ©\" ,\"2018-04-19T00:00:00.000Z\" ,NULL,NULL,NULL,\"AAF30:Slot 26\",NULL,NULL,\"Avant\" ,\"Pas de rotation\" ,\"MontÃ©(s) en baie\" ,\"FRC2VPN9\" ,NULL,\"27F\" ,NULL,NULL,\"0.983\" ,\"0.43700000000000006\" ,\"0.287\" ,\"3.0\" ,NULL,\"0 \",\"1238131-88444\" ,\"400171-124799\" ,NULL,\"IT_Equipment.11.05.22.csv\" ,\"21-04-22\")"
   ]
  },
  {
   "cell_type": "code",
   "execution_count": null,
   "id": "6fed9fa3-155f-43b5-b397-ad706922ed41",
   "metadata": {},
   "outputs": [],
   "source": [
    "INSERT `IT_Equipment_records` values (\"Equipements IT\" ,NULL,NULL,\"FRC2VPN9\" ,\"RN000081\" ,\"Cisco\" ,\"ASA 5516-X\" ,\"P4\" ,\"F30\" ,26 ,NULL,NULL,\"Serveurs\" ,NULL,\"FRC2VPN9\" ,\"JMX2036Y1LF\" ,\"0\" ,\"RN000081\" ,\"M-0000775783\" ,\"0\" ,\"Puissance nominale et facteur\" ,\"0.06\" ,NULL,NULL,\"60.0\" ,\"0.036000000000000004\" ,\"MonophasÃ©\" ,\"On\" ,\"1.0\" ,\"1.0\" ,\"1.0\" ,\"1.0\" ,\"Single Source\" ,\"Q142A\" ,\"Prise 13\" ,\"3.0\" ,NULL,NULL,\"TDI_P4A\" ,\"Autres\" ,NULL,NULL,NULL,\"Q142A (16 A)\" ,\"Phase 3\" ,NULL,NULL,NULL,NULL,NULL,NULL,\"InstallÃ©\" ,\"2018-04-19T00:00:00.000Z\" ,NULL,NULL,NULL,\"AAF30:Slot 26\",NULL,NULL,\"Avant\" ,\"Pas de rotation\" ,\"MontÃ©(s) en baie\" ,\"FRC2VPN9\" ,NULL,\"27F\" ,NULL,NULL,\"0.983\" ,\"0.43700000000000006\" ,\"0.287\" ,\"3.0\" ,NULL,\"0 \",\"1238131-88444\" ,\"400171-124799\" ,NULL,\"IT_Equipment.11.05.22.csv\" ,\"22-09-22\")"
   ]
  },
  {
   "cell_type": "markdown",
   "id": "d326fce0-1ff6-4b81-b356-858cd2dc77f7",
   "metadata": {},
   "source": [
    "# First occurence"
   ]
  },
  {
   "cell_type": "code",
   "execution_count": null,
   "id": "b9b416d0-147d-4b7c-b5df-faf075a5f4be",
   "metadata": {},
   "outputs": [],
   "source": [
    "UPDATE `IT_Equipment_unique_records` it\n",
    "INNER JOIN `IT_Equipment_first_occurence_per_id` it2\n",
    "ON it.ID_Systeme_Asset = it2.ID_Systeme_Asset\n",
    "\n",
    "set first_occurence = it2.inserted"
   ]
  },
  {
   "cell_type": "markdown",
   "id": "49075d9a-0b3f-482f-ae9a-5e02f34df2ab",
   "metadata": {},
   "source": [
    "# Last move"
   ]
  },
  {
   "cell_type": "code",
   "execution_count": null,
   "id": "5b51974e-768d-45d0-a3d4-f660950ce4d6",
   "metadata": {},
   "outputs": [],
   "source": [
    "UPDATE `IT_Equipment_unique_records` it\n",
    "INNER JOIN `IT_Equipment_last_move` it2\n",
    "ON it.ID_Systeme_Asset = it2.ID_Systeme_Asset\n",
    "\n",
    "set last_move_date = it2.inserted_records,\n",
    "    last_move = it2.reperage_id_records"
   ]
  }
 ],
 "metadata": {
  "kernelspec": {
   "display_name": "Python 3 (ipykernel)",
   "language": "python",
   "name": "python3"
  },
  "language_info": {
   "codemirror_mode": {
    "name": "ipython",
    "version": 3
   },
   "file_extension": ".py",
   "mimetype": "text/x-python",
   "name": "python",
   "nbconvert_exporter": "python",
   "pygments_lexer": "ipython3",
   "version": "3.9.7"
  }
 },
 "nbformat": 4,
 "nbformat_minor": 5
}
