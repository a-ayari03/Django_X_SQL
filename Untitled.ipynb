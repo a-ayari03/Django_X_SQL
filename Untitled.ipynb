{
 "cells": [
  {
   "cell_type": "markdown",
   "id": "3cc9456e-232e-49de-a455-c11a20fa6bc0",
   "metadata": {
    "jp-MarkdownHeadingCollapsed": true,
    "tags": []
   },
   "source": [
    "# Garbage"
   ]
  },
  {
   "cell_type": "markdown",
   "id": "85072b96-de40-409f-bcf4-cdd1ad2a02bb",
   "metadata": {
    "tags": []
   },
   "source": [
    "## Status hauteur"
   ]
  },
  {
   "cell_type": "markdown",
   "id": "4a3cf74e-049b-438c-a3c6-1f17574da069",
   "metadata": {},
   "source": [
    "Check la hauteur des équipements entre CMDB et 6SIGMA"
   ]
  },
  {
   "cell_type": "markdown",
   "id": "b786bb97-7685-48bf-8868-ff330710b84c",
   "metadata": {},
   "source": [
    "SELECT it.nom, it.Nom_de_la_salle, it.reperage_id, it.status_6Sigma, it.status_position_6Sigma, \n",
    "it2.Nom_de_la_salle, it2.reperage_id, it2.hauteur_u, aa.salle, aa.dalle, (aa.slot_end - aa.slot_begin) + 1 hauteur_cmdb\n",
    "FROM `olivier_it` it\n",
    "\n",
    "INNER JOIN `IT_Equipment_records` it2 ON it.ASSET_ID = it2.ASSET_ID \n",
    "\n",
    "INNER JOIN `assets_filtree_reduced_not_retired` aa \n",
    "ON (\n",
    "\tit2.nom_de_la_salle = aa.Salle\n",
    "AND\n",
    "\tit2.nom_de_baie = aa.Rack\n",
    "AND\n",
    "\tit2.Slot_U = CONVERT(aa.Slot_Begin, integer)\n",
    "\t\n",
    "AND ceiling(it2.Hauteur_U) = (aa.slot_end - aa.slot_begin) + 1\n",
    ") -- delta slot     \n",
    "\n",
    "\n",
    "WHERE (it.status_6Sigma = 'OK')"
   ]
  },
  {
   "cell_type": "markdown",
   "id": "e08073a0-548f-4b5b-a12c-2cd57fcf0416",
   "metadata": {},
   "source": [
    "UPDATE `olivier_it` it\n",
    "INNER JOIN `IT_Equipment_records` it2 ON it.ASSET_ID = it2.ASSET_ID \n",
    "\n",
    "INNER JOIN `assets_filtree_reduced_not_retired` aa\n",
    "ON (\n",
    "\tit2.Nom_de_la_salle = aa.Salle\n",
    "AND\n",
    "\tit2.Nom_de_baie = aa.Rack\n",
    "AND\n",
    "\tit2.Slot_U = CONVERT(aa.Slot_Begin, integer)\n",
    "AND \n",
    "\tceiling(it2.hauteur_u) = (aa.slot_end - aa.slot_begin) + 1\n",
    "    ) -- delta slot = hauteur\n",
    "    \n",
    "SET it.status_hauteur = 'OK'\n",
    "\n",
    "WHERE it.status_6"
   ]
  }
 ],
 "metadata": {
  "kernelspec": {
   "display_name": "Python 3 (ipykernel)",
   "language": "python",
   "name": "python3"
  },
  "language_info": {
   "codemirror_mode": {
    "name": "ipython",
    "version": 3
   },
   "file_extension": ".py",
   "mimetype": "text/x-python",
   "name": "python",
   "nbconvert_exporter": "python",
   "pygments_lexer": "ipython3",
   "version": "3.9.7"
  }
 },
 "nbformat": 4,
 "nbformat_minor": 5
}
