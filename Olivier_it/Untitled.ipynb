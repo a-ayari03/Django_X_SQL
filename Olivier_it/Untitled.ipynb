{
 "cells": [
  {
   "cell_type": "code",
   "execution_count": 1,
   "id": "2a97f3df-df86-441f-aac5-530ba75c9122",
   "metadata": {},
   "outputs": [],
   "source": [
    "a = 'wesh'"
   ]
  },
  {
   "cell_type": "markdown",
   "id": "34ebbe13-a33b-4c8e-a43b-26d9b606fe53",
   "metadata": {},
   "source": [
    "##### a.upper()"
   ]
  }
 ],
 "metadata": {
  "kernelspec": {
   "display_name": "Python 3 (ipykernel)",
   "language": "python",
   "name": "python3"
  },
  "language_info": {
   "codemirror_mode": {
    "name": "ipython",
    "version": 3
   },
   "file_extension": ".py",
   "mimetype": "text/x-python",
   "name": "python",
   "nbconvert_exporter": "python",
   "pygments_lexer": "ipython3",
   "version": "3.9.7"
  }
 },
 "nbformat": 4,
 "nbformat_minor": 5
}
