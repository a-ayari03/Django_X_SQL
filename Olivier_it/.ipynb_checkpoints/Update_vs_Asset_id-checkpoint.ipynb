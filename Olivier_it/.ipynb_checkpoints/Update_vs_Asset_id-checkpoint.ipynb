{
 "cells": [
  {
   "cell_type": "markdown",
   "id": "d2bf178c",
   "metadata": {},
   "source": [
    "# UPDATE"
   ]
  },
  {
   "cell_type": "markdown",
   "id": "d0d1d8d5",
   "metadata": {},
   "source": [
    "### `MATCH ASSET_ID`"
   ]
  },
  {
   "cell_type": "code",
   "execution_count": null,
   "id": "11cdf45f",
   "metadata": {},
   "outputs": [],
   "source": [
    "\n",
    "UPDATE `olivier_it` it\n",
    "LEFT JOIN `assets_filtree_reduced` aa\n",
    "ON aa.asset_id = it.asset_id\n",
    "and it.asset_id != '0'\n",
    "SET it.status_asset_id = ( CASE WHEN aa.asset_id is not null then 'Trouvé - bon asset id'\n",
    "                          ELSE \"Non Trouvé - Mauvais Asset ID\"\n",
    "                          END \n",
    "                          )\n"
   ]
  },
  {
   "cell_type": "markdown",
   "id": "e89e2fce",
   "metadata": {},
   "source": [
    "### `MATCH POSITION`"
   ]
  },
  {
   "cell_type": "code",
   "execution_count": null,
   "id": "933e03ee",
   "metadata": {},
   "outputs": [],
   "source": [
    "\n",
    "UPDATE `olivier_it` it \n",
    "INNER JOIN `assets_filtree_reduced`aa\n",
    "ON (\n",
    "\tit.Nom_de_la_salle = aa.Salle\n",
    "AND\n",
    "\tit.Nom_de_baie = aa.Rack\n",
    "AND\n",
    "\tit.Slot_U = CONVERT(aa.Slot_Begin, integer)\n",
    "\t)  \n",
    "    \n",
    "INNER JOIN `IT_Equipment_match_position_reduced_v3` it2\n",
    "ON it.reperage_id = it2.reperage_id\n",
    "\n",
    "SET it.status_position = 'Bonne localisation'\n",
    "WHERE  (\n",
    "   aa.model not like '%BL460C%'\n",
    "OR aa.model not like '%BL660C%'\n",
    "OR aa.model not like '%BL20P%'\n",
    "OR aa.model not like '%BL860C%'\n",
    "OR aa.model not like '%BL420C%'\n",
    "OR aa.model not like '%BL680C%'\n",
    "OR aa.model not like '%WS460C%'\n",
    "OR aa.model not like '%BL870C%' )"
   ]
  },
  {
   "cell_type": "code",
   "execution_count": null,
   "id": "ae12c6ad-b0e9-47b5-91cd-38c310b655ab",
   "metadata": {},
   "outputs": [],
   "source": [
    "UPDATE `olivier_it` it \n",
    "SET it.status_position = 'KO localisation'\n",
    "where it.status_position is null"
   ]
  },
  {
   "cell_type": "markdown",
   "id": "79041992-756a-4645-ac2f-f33af634fa01",
   "metadata": {},
   "source": [
    "# `Nom`"
   ]
  },
  {
   "cell_type": "code",
   "execution_count": null,
   "id": "3862d28f-4bdd-460c-801f-1f4460df0af9",
   "metadata": {},
   "outputs": [],
   "source": [
    "UPDATE `olivier_it` it\n",
    "INNER JOIN `assets_filtree_reduced` aa\n",
    "ON aa.nom_court  = it.short_name    \n",
    "SET it.status_name = \"OK nom_court\"\n",
    "where it.short_name != ''"
   ]
  },
  {
   "cell_type": "code",
   "execution_count": null,
   "id": "d481873e-8220-4be7-a3f3-eb4b8b0f4347",
   "metadata": {},
   "outputs": [],
   "source": [
    "UPDATE `olivier_it` it\n",
    "INNER JOIN `assets_filtree_reduced` aa\n",
    "ON aa.nom_long  = it.nom   \n",
    "SET it.status_name = \"OK nom_long\"\n",
    "where it.nom != '' and status_name is null"
   ]
  },
  {
   "cell_type": "markdown",
   "id": "aa8c36c3",
   "metadata": {},
   "source": [
    "### netapp & ATTO & Brocade"
   ]
  },
  {
   "cell_type": "code",
   "execution_count": null,
   "id": "fdaa41dd",
   "metadata": {},
   "outputs": [],
   "source": [
    "-- 42 rows affected\n",
    "UPDATE   `olivier_it` it\n",
    " LEFT JOIN `it_built_system_NAS_v3` it2\n",
    " ON        it2.nom_de_baie = it.nom_de_baie \n",
    " AND       it2.nom_de_la_salle = it.nom_de_la_salle\n",
    " AND\t\t  it2.fabricant = it.fabricant\n",
    "\n",
    "SET it.status_2 = ( \n",
    "    \t\t\tCASE WHEN it.status_2 is null and it2.status_2 is not null then Concat(it.fabricant, ' : ', it2.asset_id) \n",
    "        \t  \tWHEN it.status_2 is null and it2.status_2 is null and (it.asset_id is null or it.asset_id ='0' or it.asset_id ='') then  Concat(it.fabricant, ' : No Match') \n",
    "        \t\tEND )\n",
    "                \n",
    "WHERE it.status_2 is null\n",
    "AND (it.fabricant like 'netapp%' or it.fabricant like 'ATTO%' or it.fabricant like 'Brocade%')"
   ]
  },
  {
   "cell_type": "markdown",
   "id": "c6b3054d",
   "metadata": {},
   "source": [
    "### Exadata"
   ]
  },
  {
   "cell_type": "code",
   "execution_count": null,
   "id": "214bad49",
   "metadata": {},
   "outputs": [],
   "source": [
    "3 rows affected\n",
    "UPDATE   `olivier_it` it\n",
    " LEFT JOIN `it_build_system_EXADATA_v3` it2\n",
    " ON        it2.nom_de_baie = it.nom_de_baie \n",
    " AND       it2.nom_de_la_salle = it.nom_de_la_salle\n",
    " AND\t\t  it2.fabricant = it.fabricant\n",
    "\n",
    "SET it.status_2 = ( \n",
    "    \t\t\tCASE WHEN it.status_2 is null and it2.status_2 is not null then Concat(it.fabricant, ' : ', it2.asset_id) \n",
    "        \t  \tWHEN it.status_2 is null and it2.status_2 is null and (it.asset_id is null or it.asset_id ='0') then  Concat(it.fabricant, ' : No Match') \n",
    "        \t\tEND )\n",
    "                \n",
    "WHERE it.status_2 is NULL \n",
    "AND (it.fabricant like '%oracle%')"
   ]
  },
  {
   "cell_type": "markdown",
   "id": "a55f0f1d",
   "metadata": {},
   "source": [
    "### HPC"
   ]
  },
  {
   "cell_type": "markdown",
   "id": "6877ad40",
   "metadata": {},
   "source": [
    "#### No match"
   ]
  },
  {
   "cell_type": "code",
   "execution_count": null,
   "id": "ca2e5831",
   "metadata": {},
   "outputs": [],
   "source": [
    "0 rows affected\n",
    "UPDATE `olivier_it` it\n",
    " LEFT JOIN `it_build_system_HPC_v3` it2\n",
    " ON (LEFT(it.Nom,6)) = it2.root_ferme\n",
    "\n",
    "SET it.status_2 = ( \n",
    "    \t\t\tCASE WHEN it.status_2 is null and it2.status_2 is not null then Concat(it.fabricant, ' : ', it2.root_ferme) \n",
    "        \t  \tWHEN it.status_2 is null and it2.status_2 is null and (it.asset_id is null or it.asset_id ='0') then  Concat(it.fabricant, ' : No Match') \n",
    "        \t\tEND )\n",
    "\n",
    "WHERE (it.nom like '%HPC%' \n",
    "OR it.short_name like '%HPC%') and it.status_2 is NULL"
   ]
  },
  {
   "cell_type": "markdown",
   "id": "8c54a348",
   "metadata": {},
   "source": [
    "### HANNA"
   ]
  },
  {
   "cell_type": "code",
   "execution_count": null,
   "id": "c1d3dc23",
   "metadata": {},
   "outputs": [],
   "source": [
    "0 ROWS\n",
    "UPDATE `olivier_it` it\n",
    "  LEFT JOIN `it_build_system_HANNA_v3` it2\n",
    " ON        it2.nom_de_baie = it.nom_de_baie \n",
    " AND       it2.nom_de_la_salle = it.nom_de_la_salle\n",
    " AND\t\t  it2.fabricant = it.fabricant\n",
    "\n",
    "SET it.status_2 =(CASE WHEN it.status_2 is null and it2.status_2 is not null then Concat(it.fabricant, ' : ', it2.asset_id) \n",
    "\t\t\t\tWHEN it.status_2 is null and it2.status_2 is null and (it.asset_id is null or it.asset_id ='0') then  Concat(it.fabricant, ' : No Match') \n",
    "        \t\tEND ) \n",
    "\n",
    "WHERE it.status_2 is null and (it.nom_de_baie like '%hana%' OR it.nom like '%hana%')"
   ]
  },
  {
   "cell_type": "markdown",
   "id": "6fbc5183",
   "metadata": {},
   "source": [
    "### Ring"
   ]
  },
  {
   "cell_type": "code",
   "execution_count": null,
   "id": "144f2c2b",
   "metadata": {},
   "outputs": [],
   "source": [
    "0 rows\n",
    "UPDATE `olivier_it` it\n",
    "  LEFT JOIN `it_build_system_RING_v3` it2\n",
    " ON        it2.nom_de_baie = it.nom_de_baie \n",
    " AND       it2.nom_de_la_salle = it.nom_de_la_salle\n",
    " AND\t\t  it2.fabricant = it.fabricant\n",
    "\n",
    "SET it.status_2 =(CASE WHEN it.status_2 is null and it2.status_2 is not null then Concat(it.fabricant, ' : ', it2.asset_id) \n",
    "\t\t\t\tWHEN it.status_2 is null and it2.status_2 is null and (it.asset_id is null or it.asset_id ='0') then  Concat(it.fabricant, ' : No Match') \n",
    "        \t\tEND ) \n",
    "\n",
    "WHERE it.status_2 is NULL and (it.short_name like '%NA9TCR%' \n",
    "OR it.nom like '%NA9TCR%')"
   ]
  },
  {
   "cell_type": "markdown",
   "id": "f6941b73",
   "metadata": {},
   "source": [
    "### PCP : no match"
   ]
  },
  {
   "cell_type": "code",
   "execution_count": null,
   "id": "9426a08f",
   "metadata": {},
   "outputs": [],
   "source": [
    "0 rows\n",
    "UPDATE `olivier_it` it\n",
    "SET it.status_2 = 'PCP : No Match'\n",
    "where (it.Nom like '%_Rack%' or it.short_name like '%_Rack%') and (asset_id is null or asset_id ='0') and status_2 is null"
   ]
  },
  {
   "cell_type": "code",
   "execution_count": null,
   "id": "9948bacd",
   "metadata": {},
   "outputs": [],
   "source": []
  },
  {
   "cell_type": "markdown",
   "id": "f6b7fa17",
   "metadata": {},
   "source": [
    "### FEX"
   ]
  },
  {
   "cell_type": "code",
   "execution_count": null,
   "id": "49f78ab5",
   "metadata": {},
   "outputs": [],
   "source": [
    "13 rows\n",
    "UPDATE `olivier_it` it\n",
    "LEFT JOIN `IT_Equipment_FEX_v3` it2 on it2.root_fex = (LEFT(it.Nom,8)) and it.Nom != it2.root_fex\n",
    "\n",
    "SET it.status_2 =(CASE WHEN it.status_2 is null and it2.status_2 is not null and it2.asset_id !='0' then Concat(it.fabricant, ' : ', it2.asset_id) \n",
    "                WHEN it.status_2 is null and it2.status_2 is null and (it.asset_id is null or it2.asset_id ='0') then  Concat(it.fabricant, ' : No Match') \n",
    "                END ) \n",
    "\n",
    "where it.Fabricant like '%cisco%' and it2.root_fex is not null and it.status_2 is null"
   ]
  },
  {
   "cell_type": "markdown",
   "id": "aeb9e7da",
   "metadata": {},
   "source": [
    "### `'CMDB-OK-OLD'`"
   ]
  },
  {
   "cell_type": "code",
   "execution_count": null,
   "id": "2a6ebcfe-66f6-4178-ae46-2c2da09a7331",
   "metadata": {},
   "outputs": [],
   "source": [
    "UPDATE `olivier_it` it\n",
    "INNER JOIN `assets_filtree_reduced` aa\n",
    "ON ( REPLACE(REPLACE(aa.nom_long,'_OLD',''),'-OLD','')  = it.nom \n",
    "OR REPLACE(REPLACE(aa.nom_court,'_OLD',''),'-OLD','')  = it.short_name )\n",
    "AND aa.asset_id = it.asset_id\n",
    "\n",
    "\n",
    "SET it.status_name = (CASE WHEN nom_court like '%OLD' and  nom !='' THEN \"nom_court type OLD\"\n",
    "                      WHEN nom_long like '%OLD' and  short_name !='' THEN \"nom_long type OLD\"\n",
    "                      ELSE it.status_name\n",
    "                      END\n",
    "                     )\n",
    "\n",
    "where (aa.nom_court like '%_OLD' or aa.nom_long like '%_OLD' or aa.nom_court like '%-OLD' or aa.nom_long like '%-OLD')"
   ]
  },
  {
   "cell_type": "code",
   "execution_count": null,
   "id": "65b348ef",
   "metadata": {},
   "outputs": [],
   "source": [
    "UPDATE `olivier_it` it\n",
    "INNER JOIN `assets_filtree_reduced` aa\n",
    "ON REPLACE(REPLACE(aa.nom_long,'_OLD',''),'-OLD','')  = it.nom \n",
    "OR REPLACE(REPLACE(aa.nom_court,'_OLD',''),'-OLD','')  = it.short_name\n",
    "\n",
    "\n",
    "SET it.status_name = (CASE WHEN nom_court like '%OLD' and  nom !='' THEN \"nom_court type OLD\"\n",
    "                      WHEN nom_long like '%OLD' and  short_name !='' THEN \"nom_long type OLD\"\n",
    "                      ELSE it.status_name\n",
    "                      END\n",
    "                     )\n",
    "\n",
    "where (aa.nom_court like '%_OLD' or aa.nom_long like '%_OLD' or aa.nom_court like '%-OLD' or aa.nom_long like '%-OLD') and status_asset_id != 'Trouvé - bon asset id'"
   ]
  },
  {
   "cell_type": "code",
   "execution_count": null,
   "id": "ff8ee363-312c-4363-95a1-472c62b8f8bc",
   "metadata": {},
   "outputs": [],
   "source": [
    "UPDATE `olivier_it` it\n",
    "SET it.status_name = \"Mauvais nom\"\n",
    "where it.status_name is null"
   ]
  },
  {
   "cell_type": "markdown",
   "id": "10ec3e13-960b-4814-a306-0859e2c464ff",
   "metadata": {},
   "source": [
    "# `Status : Etat`"
   ]
  },
  {
   "cell_type": "code",
   "execution_count": null,
   "id": "a9023096-d9eb-4f1e-b91a-ede4f06dd40a",
   "metadata": {},
   "outputs": [],
   "source": [
    "UPDATE `olivier_it` it\n",
    "LEFT JOIN `assets_filtree_reduced` aa\n",
    "ON aa.asset_id = it.asset_id\n",
    "and it.asset_id != '0'\n",
    "SET it.status_etat = aa.etat\n"
   ]
  },
  {
   "cell_type": "code",
   "execution_count": null,
   "id": "4542c245-729d-4a13-a822-ffda25e557c1",
   "metadata": {},
   "outputs": [],
   "source": [
    "\n",
    "UPDATE `olivier_it` it\n",
    "INNER JOIN `assets_filtree_reduced` aa\n",
    "ON ( REPLACE(REPLACE(aa.nom_court,'_OLD',''),'-OLD','')  = it.nom \n",
    "OR REPLACE(REPLACE(aa.nom_court,'_OLD',''),'-OLD','')  = it.short_name )\n",
    "\n",
    "SET it.status_etat = aa.etat\n",
    "where status_name = \"nom_court type OLD\""
   ]
  },
  {
   "cell_type": "code",
   "execution_count": null,
   "id": "279cb102-9a4c-42d4-82e0-f5965045ba84",
   "metadata": {},
   "outputs": [],
   "source": [
    "\n",
    "UPDATE `olivier_it` it\n",
    "INNER JOIN `assets_filtree_reduced` aa\n",
    "ON ( REPLACE(REPLACE(aa.nom_long,'_OLD',''),'-OLD','')  = it.nom \n",
    "OR REPLACE(REPLACE(aa.nom_long,'_OLD',''),'-OLD','')  = it.short_name )\n",
    "SET it.status_etat = aa.etat\n",
    "where status_name = \"nom_long type OLD\""
   ]
  },
  {
   "cell_type": "code",
   "execution_count": null,
   "id": "14268bc7-030b-46ba-8559-0a22592dcdd7",
   "metadata": {},
   "outputs": [],
   "source": [
    "\n",
    "UPDATE `olivier_it` it\n",
    "INNER JOIN `assets_filtree_reduced` aa\n",
    "ON ( REPLACE(REPLACE(aa.nom_court,'_OLD',''),'-OLD','')  = it.nom \n",
    "OR REPLACE(REPLACE(aa.nom_court,'_OLD',''),'-OLD','')  = it.short_name )\n",
    "AND aa.asset_id = it.asset_id\n",
    "\n",
    "SET it.status_etat = aa.etat\n",
    "where status_name = \"nom_court type OLD\" and status_asset_id != 'Trouvé - bon asset id'"
   ]
  },
  {
   "cell_type": "code",
   "execution_count": null,
   "id": "a2bdad3e-dc0c-403a-8c0b-9c81bdec0307",
   "metadata": {},
   "outputs": [],
   "source": [
    "\n",
    "UPDATE `olivier_it` it\n",
    "INNER JOIN `assets_filtree_reduced` aa\n",
    "ON ( REPLACE(REPLACE(aa.nom_long,'_OLD',''),'-OLD','')  = it.nom \n",
    "OR REPLACE(REPLACE(aa.nom_long,'_OLD',''),'-OLD','')  = it.short_name )\n",
    "AND aa.asset_id = it.asset_id\n",
    "SET it.status_etat = aa.etat\n",
    "where status_name = \"nom_long type OLD\" and status_asset_id != 'Trouvé - bon asset id'"
   ]
  },
  {
   "cell_type": "code",
   "execution_count": null,
   "id": "47254d4e-bd73-4c67-834b-d5bf15bf6562",
   "metadata": {},
   "outputs": [],
   "source": [
    "UPDATE `olivier_it` it\n",
    " SET it.status_etat = 'KO Etat_CMDB'\n",
    "where it.status_etat is null"
   ]
  },
  {
   "cell_type": "markdown",
   "id": "c59547e6-5a4d-4409-a17b-f1d483a77388",
   "metadata": {},
   "source": [
    "# `GLOBAL STATUS`"
   ]
  },
  {
   "cell_type": "code",
   "execution_count": null,
   "id": "a9c31465-43f2-45d9-b1dc-5dd927aeb597",
   "metadata": {},
   "outputs": [],
   "source": [
    "UPDATE olivier_it \n",
    "set status_global = concat(status_asset_id , ' - ' , status_position , ' - ' , status_name, \" - \" , status_etat )"
   ]
  }
 ],
 "metadata": {
  "kernelspec": {
   "display_name": "Python 3 (ipykernel)",
   "language": "python",
   "name": "python3"
  },
  "language_info": {
   "codemirror_mode": {
    "name": "ipython",
    "version": 3
   },
   "file_extension": ".py",
   "mimetype": "text/x-python",
   "name": "python",
   "nbconvert_exporter": "python",
   "pygments_lexer": "ipython3",
   "version": "3.9.7"
  }
 },
 "nbformat": 4,
 "nbformat_minor": 5
}
