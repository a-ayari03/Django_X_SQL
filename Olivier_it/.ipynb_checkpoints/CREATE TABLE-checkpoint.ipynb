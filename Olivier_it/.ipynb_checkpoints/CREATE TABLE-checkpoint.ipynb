{
 "cells": [
  {
   "cell_type": "markdown",
   "id": "8d3008a1",
   "metadata": {},
   "source": [
    "# CREATE / ALTER TABLE"
   ]
  },
  {
   "cell_type": "markdown",
   "id": "e76da12e-951c-4f24-acea-e83d493a30ea",
   "metadata": {},
   "source": [
    "## Creation table Olivier_it en shell"
   ]
  },
  {
   "cell_type": "code",
   "execution_count": null,
   "id": "c6fdbfe6-8678-42f8-9840-cb97d2f4b665",
   "metadata": {},
   "outputs": [],
   "source": [
    "DROP TABLE IF EXISTS `olivier_it`;\n",
    "CREATE TABLE `olivier_it` (\n",
    "  `modele` varchar(255) DEFAULT NULL,\n",
    "  `Type` varchar(100) NOT NULL,\n",
    "  `fabricant` varchar(255) DEFAULT NULL,\n",
    "  `nom` varchar(255) DEFAULT NULL,\n",
    "  `SHORT_NAME` varchar(100) NOT NULL,\n",
    "  `SERIAL_NUMBER` varchar(100) NOT NULL,\n",
    "  `ASSET_ID` varchar(100) NOT NULL,\n",
    "  `ASSET_TAG` varchar(100) NOT NULL,\n",
    "  `Asset_Number` varchar(100) NOT NULL,\n",
    "  `Nom_de_la_salle` varchar(255) DEFAULT NULL,\n",
    "  `reperage_id` varchar(255) DEFAULT NULL,\n",
    "  `Taille_U` varchar(100) NOT NULL,\n",
    "  `End_Move_Target` varchar(100) NOT NULL,\n",
    "  `Salle_Dest` varchar(100) NOT NULL,\n",
    "  `Rack_U_Dest` varchar(100) NOT NULL,\n",
    "  `olivier_index` varchar(100) NOT NULL,\n",
    "  `PROJET_Responsable` varchar(100) NOT NULL\n",
    ") ENGINE=InnoDB DEFAULT CHARSET=latin1;"
   ]
  },
  {
   "cell_type": "code",
   "execution_count": null,
   "id": "81853f12",
   "metadata": {},
   "outputs": [],
   "source": [
    "CREATE TABLE IT_Equipment_v2\n",
    "as\n",
    "SELECT * FROM `IT_Equipment`"
   ]
  },
  {
   "cell_type": "code",
   "execution_count": null,
   "id": "c81f379f",
   "metadata": {},
   "outputs": [],
   "source": [
    "CREATE TABLE assets_filtree_v2\n",
    "as\n",
    "select *\n",
    "from `assets_new`\n",
    "where (API = 'FRVLB0C2' or API = 'FRTCRAVA')"
   ]
  },
  {
   "cell_type": "code",
   "execution_count": null,
   "id": "632bc56c",
   "metadata": {},
   "outputs": [],
   "source": [
    "CREATE TABLE IT_Equipment_olivier_no_match\n",
    "as\n",
    "SELECT it.*\n",
    "FROM `IT_Equipment_v2` it\n",
    "LEFT JOIN `olivier_it` oit on oit.olivier_index = CONCAT(it.Nom_de_la_salle, it.reperage_id)\n",
    "\n",
    "where nom_de_la_salle in ('P1', 'P2', 'P3', 'P4') and oit.olivier_index is null\n",
    "-- AND (oit.olivier_index is null or it.reperage_id is null)\n",
    "ORDER BY Reperage_ID asc"
   ]
  },
  {
   "cell_type": "code",
   "execution_count": null,
   "id": "b991f512",
   "metadata": {},
   "outputs": [],
   "source": [
    "CREATE TABLE assets_filtree_reduced\n",
    "AS\n",
    "SELECT ype, subtype, ASSET_ID, NOM_COURT, NOM_LONG, FABRICANT, MODEL, DALLE, SALLE, Rack, Slot_Begin, Slot_End, No_serie, etat, api, tag_partenaire\n",
    "from `assets_filtree_v2` aa\n",
    "WHERE SALLE in ('P1', 'P2', 'P3', 'P4', '0')"
   ]
  },
  {
   "cell_type": "code",
   "execution_count": null,
   "id": "76a1b29c",
   "metadata": {},
   "outputs": [],
   "source": [
    "ALTER TABLE olivier_it\n",
    "ADD COLUMN STATUS_2 varchar(255),\n",
    "ADD COLUMN Rack varchar(255),\n",
    "ADD COLUMN Slot_u varchar(255),\n",
    "ADD COLUMN STATUS_3 varchar(255),\n",
    "ADD COLUMN ASSET_ID_OK_POSITION varchar(255) ;"
   ]
  },
  {
   "cell_type": "code",
   "execution_count": null,
   "id": "8e302041",
   "metadata": {},
   "outputs": [],
   "source": [
    "ALTER TABLE olivier_it \n",
    "CHANGE COLUMN Salle_Origin  Nom_de_la_salle varchar(255) ,\n",
    "CHANGE COLUMN Long_name  nom varchar(255) ,\n",
    "CHANGE COLUMN model  modele varchar(255) ,\n",
    "CHANGE COLUMN Manufacturer  fabricant varchar(255) ,\n",
    "CHANGE COLUMN Rack_U_origin  reperage_id varchar(255),\n",
    "CHANGE COLUMN rack Nom_de_baie varchar(255);\n"
   ]
  },
  {
   "cell_type": "markdown",
   "id": "0e3fe202-bf44-48bd-aea7-857546f9edf4",
   "metadata": {},
   "source": [
    "## Duplication de la table Olivier_it en olivier_it_17_05_2022"
   ]
  },
  {
   "cell_type": "code",
   "execution_count": null,
   "id": "fa4fbce5-fd4b-4309-8153-e10c7af747cf",
   "metadata": {},
   "outputs": [],
   "source": [
    "CREATE TABLE olivier_it_17_05_2022 \n",
    "AS \n",
    "SELECT * \n",
    "FROM `olivier_it`"
   ]
  },
  {
   "cell_type": "markdown",
   "id": "cfc66b21-56a4-4fd9-b128-84c52004aa53",
   "metadata": {},
   "source": [
    "## Duplication de la table IT_Equipment_v2 en IT_Equipment_17_05_2022"
   ]
  },
  {
   "cell_type": "code",
   "execution_count": null,
   "id": "d2201a39-972d-4a51-b23a-f0ab8bb6d7cb",
   "metadata": {},
   "outputs": [],
   "source": [
    "CREATE TABLE IT_Equipment_17_05_2022\n",
    "AS \n",
    "SELECT * FROM `IT_Equipment_v2`"
   ]
  },
  {
   "cell_type": "code",
   "execution_count": null,
   "id": "1e23bacd-5aec-46c2-b5ff-fa06a3a7ba6c",
   "metadata": {},
   "outputs": [],
   "source": []
  },
  {
   "cell_type": "markdown",
   "id": "4618bb9c-6f10-45bc-98b2-263fb12d4bec",
   "metadata": {},
   "source": [
    "# `Colonnes de status differentes`"
   ]
  },
  {
   "cell_type": "code",
   "execution_count": null,
   "id": "36ea08d3-746a-4f45-99c3-373debedd835",
   "metadata": {},
   "outputs": [],
   "source": [
    "ALTER TABLE olivier_it \n",
    "ADD COLUMN status_asset_id varchar(255),\n",
    "ADD COLUMN status_position varchar(255),\n",
    "ADD COLUMN status_name varchar(255),\n",
    "ADD COLUMN status_etat varchar(255),\n",
    "ADD COLUMN status_global varchar(255)"
   ]
  }
 ],
 "metadata": {
  "kernelspec": {
   "display_name": "Python 3 (ipykernel)",
   "language": "python",
   "name": "python3"
  },
  "language_info": {
   "codemirror_mode": {
    "name": "ipython",
    "version": 3
   },
   "file_extension": ".py",
   "mimetype": "text/x-python",
   "name": "python",
   "nbconvert_exporter": "python",
   "pygments_lexer": "ipython3",
   "version": "3.9.7"
  }
 },
 "nbformat": 4,
 "nbformat_minor": 5
}
