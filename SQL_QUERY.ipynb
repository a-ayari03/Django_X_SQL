{
 "cells": [
  {
   "cell_type": "markdown",
   "id": "1350e5af",
   "metadata": {},
   "source": [
    "# TIPS"
   ]
  },
  {
   "cell_type": "markdown",
   "id": "08e03777",
   "metadata": {},
   "source": [
    "CONVERT(Slot_begin, integer)"
   ]
  },
  {
   "cell_type": "markdown",
   "id": "bd8b263d",
   "metadata": {},
   "source": [
    "( assets.`CONTAINER` LIKE '%uest' OR\n",
    "   assets.`CONTAINER` = 'SUN zone' OR\n",
    "   assets.`CONTAINER` = 'HP vpar' )"
   ]
  },
  {
   "cell_type": "markdown",
   "id": "6985f494",
   "metadata": {},
   "source": [
    "# Creation / Alteration de table"
   ]
  },
  {
   "cell_type": "code",
   "execution_count": null,
   "id": "0990777b",
   "metadata": {},
   "outputs": [],
   "source": [
    "CREATE VIEW `assets_FRVLB0C2_FRTCRAVA`\n",
    "as\n",
    "select *\n",
    "from`assets_new`\n",
    "where (API = 'FRVLB0C2' or API = 'FRTCRAVA')"
   ]
  },
  {
   "cell_type": "code",
   "execution_count": null,
   "id": "2dbd4ac8",
   "metadata": {},
   "outputs": [],
   "source": [
    "CREATE TABLE assets_filtree\n",
    "as\n",
    "select *\n",
    "from `assets_new` \n",
    "WHERE \n",
    "    ETAT = 'Installed' \n",
    "    and (API = 'FRVLB0C2' or API = 'FRTCRAVA')\n",
    "    and ( assets.`CONTAINER` LIKE '%uest' OR -- Distinction entre machine virtuelle et machine physique \n",
    "   assets.`CONTAINER` = 'SUN zone' OR\n",
    "   assets.`CONTAINER` = 'HP vpar' )"
   ]
  },
  {
   "cell_type": "code",
   "execution_count": null,
   "id": "bf02a573",
   "metadata": {},
   "outputs": [],
   "source": [
    "table avec les matchs assets ( 1867 ) \n",
    "\n",
    "CREATE TABLE assets_match \n",
    "as\n",
    "select *\n",
    "FROM assets_filtree\n",
    "where STATUS is not null"
   ]
  },
  {
   "cell_type": "code",
   "execution_count": null,
   "id": "923b40ac",
   "metadata": {},
   "outputs": [],
   "source": [
    "create table IT_Equipment_match\n",
    "as\n",
    "select *\n",
    "from `IT_Equipment`\n",
    "where STATUS is not null"
   ]
  },
  {
   "cell_type": "code",
   "execution_count": null,
   "id": "4ba2c6ad",
   "metadata": {},
   "outputs": [],
   "source": [
    "Ajout des colonnes pour les coordonnees d'equipements\n",
    "ALTER TABLE assets_filtree\n",
    "ADD COLUMN Rack varchar(255),\n",
    "ADD COLUMN Slot varchar(255),\n",
    "ADD COLUMN Slot_begin varchar(255),\n",
    "ADD COLUMN Slot_end varchar(255);"
   ]
  },
  {
   "cell_type": "markdown",
   "id": "76b77c10",
   "metadata": {},
   "source": [
    "# Compteur"
   ]
  },
  {
   "cell_type": "markdown",
   "id": "4b47904b",
   "metadata": {},
   "source": [
    "SELECT count(*) count, TYPE\n",
    "from `IT_Equipment`\n",
    "where STATUS is null\n",
    "GROUP BY TYPE"
   ]
  },
  {
   "cell_type": "code",
   "execution_count": null,
   "id": "912163e5",
   "metadata": {},
   "outputs": [],
   "source": [
    "SELECT count(*) count, YPE\n",
    "from `assets_filtree`\n",
    "where STATUS is null\n",
    "GROUP BY TYPE"
   ]
  },
  {
   "cell_type": "markdown",
   "id": "4a10445d",
   "metadata": {},
   "source": [
    "select COUNT(STATUS), status\n",
    "from `assets_filtree`\n",
    "GROUP BY STATUS\n",
    "ORDER BY COUNT(STATUS) desc"
   ]
  },
  {
   "cell_type": "markdown",
   "id": "733a9d01",
   "metadata": {},
   "source": [
    "select COUNT(STATUS), status\n",
    "from `IT_Equipment`\n",
    "GROUP BY STATUS\n",
    "ORDER BY COUNT(STATUS) desc"
   ]
  },
  {
   "cell_type": "markdown",
   "id": "1901d167",
   "metadata": {},
   "source": [
    "select count(*)\n",
    "from `IT_Equipment`\n",
    "where status is null"
   ]
  },
  {
   "cell_type": "markdown",
   "id": "dc46db7f",
   "metadata": {},
   "source": [
    "# Query"
   ]
  },
  {
   "cell_type": "markdown",
   "id": "cf44cfc8",
   "metadata": {},
   "source": [
    "Check si y a des noms courts qui correspondent entre eux\n",
    "\n",
    "SELECT * \n",
    "from `assets_filtree` aa\n",
    "INNER JOIN `IT_Equipment` it ON aa.nom_court = it.short_name"
   ]
  },
  {
   "cell_type": "code",
   "execution_count": null,
   "id": "23d9f452",
   "metadata": {},
   "outputs": [],
   "source": [
    "Asset_id équivalent mais nom différents ( on y rajoute un status different)\n",
    "\n",
    "select aa.asset_id, it.asset_id asset_id_id, aa.nom_court, it.short_name\n",
    "from `assets_filtree` aa\n",
    "INNER JOIN `IT_Equipment` it on aa.asset_id = it.asset_id\n",
    "where STATUS is null"
   ]
  },
  {
   "cell_type": "markdown",
   "id": "b80d8367",
   "metadata": {},
   "source": [
    "### SERVER TYPE"
   ]
  },
  {
   "cell_type": "markdown",
   "id": "1ece52e8",
   "metadata": {},
   "source": [
    "Retire les 3 derniers caractères des nom de serveurs (43 matchs)\n",
    "select aa.asset_id, it.asset_id asset_id_id, aa.nom_court, it.short_name\n",
    "from `assets_filtree` aa\n",
    "INNER JOIN `IT_Equipment` it on LEFT(aa.nom_court, length(aa.nom_court) - 3) = it.short_name\n",
    "where it.type = 'Serveurs'"
   ]
  },
  {
   "cell_type": "code",
   "execution_count": null,
   "id": "2235e14d",
   "metadata": {},
   "outputs": [],
   "source": [
    "select aa.asset_id, it.asset_id asset_id_id, aa.nom_court, it.short_name, aa.status, it.status status_it\n",
    "from `IT_Equipment` it\n",
    "INNER JOIN `assets_filtree` aa on LEFT(aa.nom_court, length(aa.nom_court) - 3) = it.short_name"
   ]
  },
  {
   "cell_type": "markdown",
   "id": "3e6a751e",
   "metadata": {},
   "source": [
    "### Match sur les coordonnees"
   ]
  },
  {
   "cell_type": "code",
   "execution_count": null,
   "id": "d2f73a62",
   "metadata": {},
   "outputs": [],
   "source": [
    "SELECT it.Nom_de_la_salle, it.Nom_de_baie, it.Slot_U, it.Reperage_ID, it.Hauteur_U \n",
    "FROM `IT_Equipment` it\n",
    "where it.Nom_de_baie = 'S08'"
   ]
  },
  {
   "cell_type": "markdown",
   "id": "0ca255a0",
   "metadata": {},
   "source": [
    "DALLE, Rack , Slot, Slot_begin, Slot_end, Salle"
   ]
  },
  {
   "cell_type": "markdown",
   "id": "34f1aba5",
   "metadata": {},
   "source": [
    "SELECT DALLE,\n",
    "\t   SUBSTRING_INDEX(DALLE, '/', 1) Rack ,\n",
    "       SUBSTRING_INDEX(DALLE, '/', -1) Slot,\n",
    "       SUBSTRING_INDEX(SUBSTRING_INDEX(DALLE, '/', -1), '-', 1) Slot_begin,\n",
    "       SUBSTRING_INDEX(DALLE, '-', -1) Slot_end\n",
    "\n",
    "FROM `assets_filtree`"
   ]
  },
  {
   "cell_type": "markdown",
   "id": "073018e4",
   "metadata": {},
   "source": [
    "Query des positions en salle pour assets\n",
    "SELECT Rack,\n",
    "Slot,\n",
    "Slot_begin,\n",
    "Slot_end,\n",
    "SALLE\n",
    "from `assets_filtree`"
   ]
  },
  {
   "cell_type": "markdown",
   "id": "c44de6a5",
   "metadata": {},
   "source": [
    "(453 total, Query took 9.1079 seconds.)\n",
    "SELECT *\n",
    "FROM `assets_filtree` aa\n",
    "INNER JOIN \n",
    "\t`IT_Equipment` it \n",
    "ON \n",
    "\tit.Nom_de_la_salle = aa.Salle\n",
    "AND\n",
    "\tit.Nom_de_baie = aa.Rack\n",
    "AND\n",
    "\tit.Slot_U = aa.Slot_Begin\n",
    "AND\n",
    "\tit.Hauteur_U = aa.Slot_End"
   ]
  },
  {
   "cell_type": "code",
   "execution_count": null,
   "id": "06efc184",
   "metadata": {},
   "outputs": [],
   "source": [
    "41 rows affected. (Query took 51.4745 seconds.)\n",
    "SELECT aa.YPE, aa.SUBTYPE, aa.ASSET_ID, it.asset_id asset_id_it, aa.NOM_COURT, it.short_name, aa.NOM_LONG, it.nom, aa.CRITICITE, aa.FABRICANT, it.fabricant fabricant_it, aa.MODEL, it.modele modele_it,\n",
    "aa.Salle, it.Nom_de_la_salle, aa.Rack, it.Nom_de_baie, aa.Slot_begin, it.Slot_U, aa.Slot_end , it.Hauteur_U\n",
    "\n",
    "FROM `assets_filtree` aa\n",
    "INNER JOIN \n",
    "\t`IT_Equipment` it \n",
    "ON \n",
    "\tit.Nom_de_la_salle = aa.Salle\n",
    "AND\n",
    "\tit.Nom_de_baie = aa.Rack\n",
    "AND\n",
    "\tit.Slot_U = CONVERT(aa.Slot_Begin, integer)\n",
    "AND\n",
    "\t(it.Hauteur_U = CONVERT(aa.Slot_End, integer) or it.Hauteur_U = CONVERT(aa.Slot_End, integer) - CONVERT(aa.Slot_Begin, integer))\n",
    "\n",
    "WHERE aa.status = 'OK-POSITION' and it.status = 'OK-POSITION'"
   ]
  },
  {
   "cell_type": "markdown",
   "id": "9fb49b52",
   "metadata": {},
   "source": [
    "### Match sur les differences entres nom long et nom court"
   ]
  },
  {
   "cell_type": "markdown",
   "id": "8aa766c4",
   "metadata": {},
   "source": [
    "select aa.asset_id, it.asset_id asset_id_id, aa.nom_court, it.short_name, aa.nom_long, it.nom, aa.status, it.status status_it\n",
    "from `assets_filtree` aa\n",
    "INNER JOIN `IT_Equipment` it on \n",
    "Upper(aa.nom_court)= upper(it.short_name) or Upper(aa.nom_long)= upper(it.nom) or\n",
    " Upper(aa.nom_court)= upper(it.nom) or Upper(aa.nom_long)= upper(it.short_name)\n",
    "where aa.status is null"
   ]
  },
  {
   "cell_type": "markdown",
   "id": "b94035e7",
   "metadata": {},
   "source": [
    "### Doublon physique/Virtuel"
   ]
  },
  {
   "cell_type": "markdown",
   "id": "e18c644b",
   "metadata": {},
   "source": [
    "select * from `assets_filtree`\n",
    "where ASSET_ID = 'M-0000220405' or ASSET_ID = 'M-0000221162'\n",
    "\n",
    "select * from `IT_Equipment` where ASSET_ID = 'M-0000324239' "
   ]
  },
  {
   "cell_type": "markdown",
   "id": "e2e63d22",
   "metadata": {},
   "source": [
    "# Update"
   ]
  },
  {
   "cell_type": "markdown",
   "id": "7c722b17",
   "metadata": {},
   "source": [
    "1818 rows affected. (Query took 94.4469 seconds.) - \n",
    "\n",
    "UPDATE `assets_filtree` aa\n",
    "INNER JOIN `IT_Equipment` it ON aa.nom_court = it.short_name\n",
    "SET aa.status = 'OK-CMDB-ASSET-ID'"
   ]
  },
  {
   "cell_type": "markdown",
   "id": "486e869f",
   "metadata": {},
   "source": [
    "10 rows affected. (Query took 94.6242 seconds.)\n",
    "UPDATE `assets_filtree` aa\n",
    "INNER JOIN `IT_Equipment` it on aa.asset_id = it.asset_id\n",
    "set aa.status = 'ASSET_ID OK / SHORT_NAME MISMATCH' \n",
    "where aa.STATUS is null"
   ]
  },
  {
   "cell_type": "code",
   "execution_count": null,
   "id": "8659041e",
   "metadata": {},
   "outputs": [],
   "source": [
    "39 rows affected. (Query took 65.3069 seconds.) -  \n",
    "UPDATE `assets_filtree` aa\n",
    "INNER JOIN `IT_Equipment` it on LEFT(aa.nom_court, length(aa.nom_court) - 3) = it.short_name\n",
    "SET aa.status = it.asset_id -- on remplace par l'asset id de la table Equipements\n",
    "where it.type = 'Serveurs' and STATUS IS NULL"
   ]
  },
  {
   "cell_type": "code",
   "execution_count": null,
   "id": "9bbac034",
   "metadata": {},
   "outputs": [],
   "source": [
    "UPDATE `IT_Equipment` it\n",
    "INNER JOIN `assets_filtree` aa ON aa.asset_id = it.asset_id\n",
    "SET it.status = 'OK-CMDB-ASSET-ID\n",
    "\n",
    "UPDATE `IT_Equipment` it\n",
    "INNER JOIN `assets_filtree` aa on aa.asset_id = it.asset_id\n",
    "set it.status = 'ASSET_ID OK / SHORT_NAME MISMATCH' \n",
    "where STATUS is null\n",
    "\n",
    "UPDATE `IT_Equipment` it\n",
    "INNER JOIN `assets_filtree` aa on LEFT(aa.nom_court, length(aa.nom_court) - 3) = it.short_name\n",
    "SET it.status = aa.asset_id -- on remplace par l'asset id de la table assets\n",
    "where it.type = 'Serveurs' and it.STATUS IS NULL"
   ]
  },
  {
   "cell_type": "code",
   "execution_count": null,
   "id": "5c2ce803",
   "metadata": {},
   "outputs": [],
   "source": [
    "Distinction entre les equipements physique ou non\n",
    "\n",
    "UPDATE `assets_filtree` assets\n",
    "SET assets.emplacement = 'Physical'\n",
    "WHERE ( assets.`API` = 'FRVLB0C2' OR \n",
    "    assets.`API` = 'FRTCRGRA' OR\n",
    "    assets.`API` = 'FRTCRAVA' OR\n",
    "    assets.`API` = 'FREQXPA4' OR\n",
    "    assets.`API` = 'FREQXPA6' ) \n",
    "    AND ( assets.`CONTAINER` LIKE '%host' OR\n",
    "    assets.`CONTAINER` = 'Appliance' OR\n",
    "    assets.`CONTAINER` = 'OVM vm host' OR\n",
    "    assets.`CONTAINER` = 'HP npar' OR\n",
    "    assets.`CONTAINER` = 'IBM lpar' OR\n",
    "    assets.`CONTAINER` = 'IBM non-X86' OR\n",
    "    assets.`CONTAINER` = 'Part. logique' OR\n",
    "    assets.`CONTAINER` = 'Physique' OR\n",
    "    assets.`CONTAINER` = 'Standalone' OR\n",
    "    assets.`CONTAINER` = 'standalone' OR\n",
    "    assets.`CONTAINER` = 'SUN domain' OR\n",
    "    assets.`CONTAINER` = 'SUN global zone' )\n",
    "    AND assets.`ETAT` = 'Installed'\n",
    "    AND ( assets.`SUBTYPE` = 'Server' OR\n",
    "    assets.`SUBTYPE` = 'Appliance' )"
   ]
  },
  {
   "cell_type": "markdown",
   "id": "3f226a14",
   "metadata": {},
   "source": [
    "Ajout des colonnes des coordonnees en salle\n",
    "UPDATE assets_filtree\n",
    "SET \n",
    "\tRack = SUBSTRING_INDEX(DALLE, '/', 1)  ,\n",
    "\tSlot = SUBSTRING_INDEX(DALLE, '/', -1) ,\n",
    "\tSlot_begin = SUBSTRING_INDEX(SUBSTRING_INDEX(DALLE, '/', -1), '-', 1) ,\n",
    "\tSlot_end = SUBSTRING_INDEX(DALLE, '-', -1)"
   ]
  },
  {
   "cell_type": "code",
   "execution_count": null,
   "id": "bf1e6b9a",
   "metadata": {},
   "outputs": [],
   "source": [
    "UPDATE `assets_filtree` aa\n",
    "INNER JOIN \n",
    "\t`IT_Equipment` it \n",
    "ON \n",
    "\tit.Nom_de_la_salle = aa.Salle\n",
    "AND\n",
    "\tit.Nom_de_baie = aa.Rack\n",
    "AND\n",
    "\tit.Slot_U = CONVERT(aa.Slot_Begin, integer)\n",
    "AND(\n",
    "\tit.Hauteur_U = CONVERT(aa.Slot_End, integer) or it.Hauteur_U = CONVERT(aa.Slot_End, integer) - CONVERT(aa.Slot_Begin, integer))\n",
    "\n",
    "SET aa.status = 'OK-POSITION',\n",
    "\tit.status = 'OK-POSITION'\n",
    "\n",
    "WHERE aa.status is null and it.status is null"
   ]
  },
  {
   "cell_type": "markdown",
   "id": "2ccd0f67",
   "metadata": {},
   "source": [
    "198 rows affected. (Query took 113.2333 seconds.)\n",
    "-- Match sur les differences entres nom long et nom court\n",
    "\n",
    "Update `assets_filtree` aa\n",
    "INNER JOIN `IT_Equipment` it on \n",
    "Upper(aa.nom_court)= upper(it.short_name) or Upper(aa.nom_long)= upper(it.nom) or\n",
    "Upper(aa.nom_court)= upper(it.nom) or Upper(aa.nom_long)= upper(it.short_name)\n",
    "SET aa.status = 'Match-nom_long-nom_court',\n",
    "\tit.status = 'Match-nom_long-nom_court'\n",
    "where aa.status is null and it.status is null"
   ]
  },
  {
   "cell_type": "markdown",
   "id": "648f1e36",
   "metadata": {},
   "source": [
    "10 rows affected. (Query took 19.5651 seconds.)\n",
    "Update `IT_Equipment` it \n",
    "INNER JOIN  on `assets_filtree` aa\n",
    "Upper(aa.nom_court)= upper(it.short_name) or Upper(aa.nom_long)= upper(it.nom) or\n",
    "Upper(aa.nom_court)= upper(it.nom) or Upper(aa.nom_long)= upper(it.short_name)\n",
    "SET it.status = 'Match-nom_long-nom_court'\n",
    "where it.status is null"
   ]
  }
 ],
 "metadata": {
  "kernelspec": {
   "display_name": "Python 3 (ipykernel)",
   "language": "python",
   "name": "python3"
  },
  "language_info": {
   "codemirror_mode": {
    "name": "ipython",
    "version": 3
   },
   "file_extension": ".py",
   "mimetype": "text/x-python",
   "name": "python",
   "nbconvert_exporter": "python",
   "pygments_lexer": "ipython3",
   "version": "3.9.7"
  }
 },
 "nbformat": 4,
 "nbformat_minor": 5
}
